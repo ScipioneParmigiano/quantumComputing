{
 "cells": [
  {
   "cell_type": "markdown",
   "metadata": {},
   "source": [
    "# Bernstein-Vazirani Algorithm and its Qiskit Implementation"
   ]
  },
  {
   "cell_type": "markdown",
   "metadata": {},
   "source": [
    "Another algorithm which shows a quantum speed-up is the Bernstein-Vazirani algorithm. The algorithm solves the following problem: given a function $f: \\{0,1\\}^n \\rightarrow \\{0,1\\} $ which takes an $n$ bit string as input and outputs a single bit where there is exactly one $n$ bit string $s \\in \\{0,1\\}^n$ that returns a value $f(s) = 1$, what is $s$?. \n",
    "\n",
    "In other words, for each input $x$, $f(x) = s \\cdot x \\, \\text{(mod 2)}$. We are expected to find $s$.\n",
    "\n",
    "To find $s$ classically, we would have to call the function $f(x)$ $n$ times, each time determining one of the bits of $s$.\n",
    "\n",
    "On the other hand, a quantum algorithm can solve the problem in only one step! This gives a polynomial speed-up with respect to the classical algorithm. Let us see the quantum circuit which implements the corresponding algorithm.\n",
    "\n"
   ]
  },
  {
   "cell_type": "markdown",
   "metadata": {},
   "source": [
    "## Quantum circuit for the Bernstein-Vazirani Algorithm"
   ]
  },
  {
   "cell_type": "markdown",
   "metadata": {},
   "source": [
    "The quantum circuit that implements the Bernstein-Vazirani algorithm is shown below.\n",
    "\n",
    "<img src=\"images/vazirani1.jpeg\" width=\"300\">\n",
    "\n",
    "Here, $\\text{Q}_f$ is the same query function as for the Deutsch algorithm, but now acts on $n$ qubits:\n",
    "$$ \\lvert x \\rangle \\rightarrow (-1)^{f(x)} \\lvert x \\rangle $$\n",
    "\n",
    "The algorithm proceeds as follows.\n",
    "\n",
    "<ol>\n",
    "    <li> The input register is initialized to the zero state $$\\lvert \\psi_1 \\rangle = \\lvert 0 \\rangle^{\\otimes n} $$ </li><p></p>\n",
    "    <li> Apply Hadamard on all qubits to get a uniform superposition of all $n$-bit strings \n",
    "    $$\\lvert \\psi_2 \\rangle = \\frac{1}{\\sqrt{2^n}} \\sum_{x \\in \\{0,1\\}^{n} } \\lvert x \\rangle  $$\n",
    "   </li><p></p>\n",
    "    <li>We make a query $\\text{Q}_f$, \n",
    "    $$ \\lvert \\psi_3 \\rangle = \\frac{1}{\\sqrt{2^n}} \\sum_{x \\in \\{0,1\\}^{n} } (-1)^{f(x)} \\lvert x \\rangle \\\\\n",
    "    = \\frac{1}{\\sqrt{2^n}} \\sum_{x \\in \\{0,1\\}^{n} } (-1)^{s_1 \\cdot x_1} ... (-1)^{s_n \\cdot x_n} \\lvert x \\rangle \\\\\n",
    "    = \\frac{\\lvert 0 \\rangle + (-1)^{s_1} \\lvert 1 \\rangle }{\\sqrt{2}} \\otimes ... \\otimes \\frac{\\lvert 0 \\rangle + (-1)^{s_n} \\lvert 1 \\rangle }{\\sqrt{2}}   $$\n",
    "   </li><p></p>\n",
    "    <li> Apply Hadamard on all qubits\n",
    "        $$ \\lvert \\psi_4 \\rangle = \\lvert s_1 \\rangle ... \\lvert s_n \\rangle $$\n",
    "   </li><p></p>\n",
    "    <li> Measuring all $n$ qubits will give the secret $n$-bit string $s$\n",
    "    </li>\n",
    "</ol>\n",
    "\n",
    "As mentioned above, the quantum algorithm provides a polynomial speed-up against the best classical algorithm. Although the problem still feels like it is purposely designed so that it will be easier to solve on a quantum computer, at the time it was quite an achievement to prove that such a speed-up was even possible."
   ]
  },
  {
   "cell_type": "markdown",
   "metadata": {},
   "source": [
    "## Example "
   ]
  },
  {
   "cell_type": "markdown",
   "metadata": {},
   "source": [
    "An example of realization of the Bernstein-Vazirani algorithm can be found in [1]. Again, the algorithm makes use of an ancilla qubit to implement the query function $Q_f$. Let us see the steps of the algorithm for $n=2$ qubits and a secret string $s=11$\n",
    "\n",
    "<img src=\"images/vazirani_ex1.jpeg\"  width=\"300\">\n",
    "\n",
    "<ol>\n",
    "    <li> The input registers are initialized to zero and the ancilla qubit to one \n",
    "    $$\\lvert \\psi_1 \\rangle = \\lvert 0 0 \\rangle \\lvert 1 \\rangle_a $$ \n",
    "   </li><p></p>\n",
    "    \n",
    "   <li> Apply Hadamard on all qubits\n",
    "    $$\\lvert \\psi_2 \\rangle = \\frac{1}{2} \\left( \\lvert 0 0 \\rangle + \\lvert 0 1 \\rangle + \\lvert 1 0 \\rangle + \\lvert 1 1 \\rangle \\right) \\frac{1}{\\sqrt{2}} \\left( \\lvert 0 \\rangle_a - \\lvert 1 \\rangle_a \\right)  $$ \n",
    "   </li><p></p>\n",
    "    \n",
    "   <li> For the string $s=11$, the query function can be implemented as $\\text{Q}_f = CX_{1a}CX_{2a}$, \n",
    "    $$ \\lvert \\psi_3 \\rangle = \\frac{1}{2\\sqrt{2}} \\left[ \\lvert 0 0 \\rangle \\left( \\lvert 0 \\oplus 0 \\oplus 0 \\rangle_a - \\lvert 1 \\oplus 0 \\oplus 0 \\rangle_a \\right)+ \\lvert 0 1 \\rangle  \\left( \\lvert 0 \\oplus 0 \\oplus 1 \\rangle_a - \\lvert 1 \\oplus 0 \\oplus 1 \\rangle_a \\right) + \\lvert 1 0 \\rangle  \\left( \\lvert 0 \\oplus 1 \\oplus 0 \\rangle_a - \\lvert 1 \\oplus 1 \\oplus 0 \\rangle_a \\right) + \\lvert 1 1 \\rangle  \\left( \\lvert 0 \\oplus 1 \\oplus 1 \\rangle_a - \\lvert 1 \\oplus 1 \\oplus 1 \\rangle_a \\right)  \\right] $$ \n",
    "   </li><p></p>\n",
    "    \n",
    "   Thus\n",
    "    $$ \\lvert \\psi_3 \\rangle = \\frac{1}{2\\sqrt{2}} \\left[ \\lvert 0 0 \\rangle \\left( \\lvert 0 \\rangle_a - \\lvert 1 \\rangle_a \\right) - \\lvert 0 1 \\rangle  \\left( \\lvert 0 \\rangle_a - \\lvert  1 \\rangle_a \\right) - \\lvert 1 0 \\rangle  \\left( \\lvert 0  \\rangle_a - \\lvert 1 \\rangle_a \\right) + \\lvert 1 1 \\rangle  \\left( \\lvert 0 \\rangle_a - \\lvert 1 \\rangle_a \\right)  \\right] \\\\\n",
    "   = \\frac{1}{2} \\left( \\lvert 0 0 \\rangle - \\lvert 0 1 \\rangle - \\lvert 1 0 \\rangle + \\lvert 1 1 \\rangle \\right) \\frac{1}{\\sqrt{2}} \\left( \\lvert 0 \\rangle_a - \\lvert 1 \\rangle_a \\right)  \\\\\n",
    "    = \\frac{1}{\\sqrt{2}} \\left( \\lvert 0 \\rangle - \\lvert 1 \\rangle \\right)\\frac{1}{\\sqrt{2}} \\left( \\lvert 0 \\rangle - \\lvert 1 \\rangle \\right)\\frac{1}{\\sqrt{2}} \\left( \\lvert 0 \\rangle_a - \\lvert 1 \\rangle_a \\right)$$\n",
    "    \n",
    "   </li><p></p>\n",
    "    \n",
    "   <li> Apply Hadamard on all qubits\n",
    "        $$ \\lvert \\psi_4 \\rangle = \\lvert 1 \\rangle \\lvert 1 \\rangle \\lvert 1 \\rangle $$\n",
    "   </li><p></p>\n",
    "   \n",
    "   <li> Measuring the first two qubits will give the secret $2$-bit string $s = 11$\n",
    "   </li><p></p>\n",
    "</ol>"
   ]
  },
  {
   "cell_type": "markdown",
   "metadata": {},
   "source": [
    "## Qiskit Implementation"
   ]
  },
  {
   "cell_type": "markdown",
   "metadata": {},
   "source": [
    "We now implement the Bernstein-Vazirani algorithm with Qiskit by first preparing the environment."
   ]
  },
  {
   "cell_type": "code",
   "execution_count": 1,
   "metadata": {},
   "outputs": [],
   "source": [
    "#initialization\n",
    "import matplotlib.pyplot as plt\n",
    "%matplotlib inline\n",
    "import numpy as np\n",
    "\n",
    "# importing Qiskit\n",
    "from qiskit import IBMQ, BasicAer\n",
    "from qiskit import QuantumCircuit, ClassicalRegister, QuantumRegister, execute\n",
    "\n",
    "# import basic plot tools\n",
    "from qiskit.tools.visualization import plot_histogram"
   ]
  },
  {
   "cell_type": "markdown",
   "metadata": {},
   "source": [
    "We first set the number of qubits used in the experiment, and the hidden integer $s$ to be found by the Bernstein-Vazirani algorithm. The hidden integer $s$ determines the circuit for the quantum oracle. "
   ]
  },
  {
   "cell_type": "code",
   "execution_count": 2,
   "metadata": {},
   "outputs": [
    {
     "name": "stdout",
     "output_type": "stream",
     "text": [
      "s = 14 (bitstring = 1110)\n"
     ]
    }
   ],
   "source": [
    "nQubits = 4  # number of physical qubits used to represent s\n",
    "s = 14      # the hidden integer whose bitstring is 1110\n",
    "\n",
    "# make sure that a can be represented with nQubits\n",
    "s = s % 2**(nQubits)\n",
    "print('s = {} (bitstring = {})'.format(s, \"{0:b}\".format(s)))"
   ]
  },
  {
   "cell_type": "markdown",
   "metadata": {},
   "source": [
    "We then use Qiskit to program the Bernstein-Vazirani algorithm."
   ]
  },
  {
   "cell_type": "code",
   "execution_count": 3,
   "metadata": {},
   "outputs": [
    {
     "data": {
      "text/plain": [
       "<qiskit.circuit.instructionset.InstructionSet at 0x11d8fc438>"
      ]
     },
     "execution_count": 3,
     "metadata": {},
     "output_type": "execute_result"
    }
   ],
   "source": [
    "# Creating registers\n",
    "# qubits for querying the oracle and finding the hidden integer\n",
    "# note that we are using 1 additional qubit as the ancilla\n",
    "qr = QuantumRegister(nQubits+1)\n",
    "# for recording the measurement on qr\n",
    "cr = ClassicalRegister(nQubits+1)\n",
    "\n",
    "bvCircuit = QuantumCircuit(qr, cr)\n",
    "\n",
    "# set the ancilla qubit to |1> using an X gate\n",
    "bvCircuit.x(qr[nQubits])\n",
    "\n",
    "# Apply Hadamard gates before querying the oracle\n",
    "for i in range(nQubits+1):\n",
    "    bvCircuit.h(qr[i])    \n",
    "    \n",
    "# Apply barrier so that it is not optimized by the compiler\n",
    "bvCircuit.barrier()\n",
    "\n",
    "# Apply the inner-product oracle\n",
    "for i in range(nQubits):\n",
    "    if (s & (1 << i)):\n",
    "        bvCircuit.cx(qr[i], qr[nQubits])\n",
    "    else:\n",
    "        bvCircuit.iden(qr[i])\n",
    "        \n",
    "# Apply barrier \n",
    "bvCircuit.barrier()\n",
    "\n",
    "#Apply Hadamard gates after querying the oracle\n",
    "for i in range(nQubits+1):\n",
    "    bvCircuit.h(qr[i])\n",
    "    \n",
    "# undo the X gate on the ancilla qubit\n",
    "bvCircuit.x(qr[nQubits])\n",
    "\n",
    "# Measurement\n",
    "bvCircuit.barrier(qr)\n",
    "bvCircuit.measure(qr, cr)"
   ]
  },
  {
   "cell_type": "code",
   "execution_count": 4,
   "metadata": {},
   "outputs": [
    {
     "data": {
      "image/png": "[encoded data removed]",
      "text/plain": [
       "<Figure size 1083.6x620.06 with 1 Axes>"
      ]
     },
     "execution_count": 4,
     "metadata": {},
     "output_type": "execute_result"
    }
   ],
   "source": [
    "bvCircuit.draw(output='mpl')"
   ]
  },
  {
   "cell_type": "markdown",
   "metadata": {},
   "source": [
    "## Experiment with Simulators"
   ]
  },
  {
   "cell_type": "markdown",
   "metadata": {},
   "source": [
    "We can run the above circuit on the simulator. "
   ]
  },
  {
   "cell_type": "code",
   "execution_count": 5,
   "metadata": {
    "scrolled": true
   },
   "outputs": [
    {
     "data": {
      "image/png": "[encoded data removed]",
      "text/plain": [
       "<Figure size 504x360 with 1 Axes>"
      ]
     },
     "execution_count": 5,
     "metadata": {},
     "output_type": "execute_result"
    }
   ],
   "source": [
    "# use local simulator\n",
    "backend = BasicAer.get_backend('qasm_simulator')\n",
    "shots = 1024\n",
    "results = execute(bvCircuit, backend=backend, shots=shots).result()\n",
    "answer = results.get_counts()\n",
    "plot_histogram(answer)"
   ]
  },
  {
   "cell_type": "markdown",
   "metadata": {},
   "source": [
    "We can see that the result of the measurement is the binary representation of the hidden integer $s$. \n",
    "\n",
    "## Experiment with Real Devices\n",
    "\n",
    "We can run the circuit on the real device as below."
   ]
  },
  {
   "cell_type": "code",
   "execution_count": 6,
   "metadata": {},
   "outputs": [
    {
     "data": {
      "text/plain": [
       "[<IBMQBackend('ibmqx4') from IBMQ()>,\n",
       " <IBMQBackend('ibmqx2') from IBMQ()>,\n",
       " <IBMQBackend('ibmq_16_melbourne') from IBMQ()>,\n",
       " <IBMQBackend('ibmq_qasm_simulator') from IBMQ()>,\n",
       " <IBMQBackend('ibmq_20_tokyo') from IBMQ(ibm-q-internal, yrk, main)>,\n",
       " <IBMQBackend('ibmq_poughkeepsie') from IBMQ(ibm-q-internal, yrk, main)>,\n",
       " <IBMQBackend('ibmq_qasm_simulator') from IBMQ(ibm-q-internal, yrk, main)>]"
      ]
     },
     "execution_count": 6,
     "metadata": {},
     "output_type": "execute_result"
    }
   ],
   "source": [
    "# Load our saved IBMQ accounts and see devices that we are allowed to use\n",
    "IBMQ.load_accounts()\n",
    "IBMQ.backends()"
   ]
  },
  {
   "cell_type": "code",
   "execution_count": 7,
   "metadata": {},
   "outputs": [],
   "source": [
    "# set up the job on a backend and execute it\n",
    "backend = IBMQ.get_backend('ibmq_poughkeepsie')\n",
    "shots = 1024\n",
    "job_exp = execute(bvCircuit, backend=backend, shots=shots)"
   ]
  },
  {
   "cell_type": "code",
   "execution_count": 8,
   "metadata": {},
   "outputs": [],
   "source": [
    "# get the results from the computation\n",
    "results = job_exp.result()\n",
    "answer = results.get_counts(bvCircuit)"
   ]
  },
  {
   "cell_type": "code",
   "execution_count": 9,
   "metadata": {},
   "outputs": [],
   "source": [
    "# filter the results for plotting\n",
    "threshold = int(0.01 * shots) #the threshold of plotting significant measurements\n",
    "filteredAnswer = {k: v for k,v in answer.items() if v >= threshold} #filter the answer for better view of plots\n",
    "\n",
    "removedCounts = np.sum([ v for k,v in answer.items() if v < threshold ]) #number of counts removed \n",
    "filteredAnswer['other_bitstrings'] = removedCounts  #the removed counts is assigned to a new index"
   ]
  },
  {
   "cell_type": "code",
   "execution_count": 10,
   "metadata": {},
   "outputs": [
    {
     "data": {
      "image/png": "[encoded data removed]",
      "text/plain": [
       "<Figure size 504x360 with 1 Axes>"
      ]
     },
     "execution_count": 10,
     "metadata": {},
     "output_type": "execute_result"
    }
   ],
   "source": [
    "plot_histogram(filteredAnswer)"
   ]
  },
  {
   "cell_type": "code",
   "execution_count": 11,
   "metadata": {},
   "outputs": [
    {
     "name": "stdout",
     "output_type": "stream",
     "text": [
      "{'10100': 14, '10110': 26, '10000': 42, '00111': 22, '01000': 23, '01101': 10, '11110': 36, '10010': 10, '00100': 16, '01111': 19, '01010': 85, '01100': 58, '01110': 526, '00110': 65, 'other_bitstrings': 72}\n"
     ]
    }
   ],
   "source": [
    "print(filteredAnswer)"
   ]
  },
  {
   "cell_type": "markdown",
   "metadata": {},
   "source": [
    "We indeed see that the most likely outcome is the binary representation of the hidden integer $s$ with a probability of about $0.5$."
   ]
  },
  {
   "cell_type": "markdown",
   "metadata": {},
   "source": [
    "## References"
   ]
  },
  {
   "cell_type": "markdown",
   "metadata": {},
   "source": [
    "[1] S. D. Fallek, C. D. Herold, B. J. McMahon, K. M. Maller, K. R. Brown, J. M. Amini, Transport implementation of the Bernstein-Vazirani algorithm with ion qubits, New J. Phys. 18 (2016)."
   ]
  },
  {
   "cell_type": "code",
   "execution_count": null,
   "metadata": {},
   "outputs": [],
   "source": []
  },
  {
   "cell_type": "markdown",
   "metadata": {},
   "source": [
    "# Another One"
   ]
  },
  {
   "cell_type": "markdown",
   "metadata": {},
   "source": [
    "<ol>\n",
    "    <li>Bernstein-Vazirani</li>\n",
    "    <li>Using QISKit AQUA with Grover search algorithm for the 3SAT problem</li>\n",
    "</ol>\n"
   ]
  },
  {
   "cell_type": "markdown",
   "metadata": {},
   "source": [
    "<div class=\"alert alert-block alert-success\">\n",
    "    \n",
    "#  2. Bernstein-Vazirani\n",
    "</div>"
   ]
  },
  {
   "cell_type": "markdown",
   "metadata": {},
   "source": [
    "Source and details for calculation can be found here : https://youtu.be/sqJIpHYl7oo et là : https://community.qiskit.org/textbook/ch-algorithms/bernstein-vazirani.html\n",
    "\n",
    "\n",
    "\n",
    "Let  $f_s$ a function from  $\\{0,1\\}^n$ to $\\{0,1\\}$, for which we know it returns the exclusive OR of all bit to bit products ($and$) between the input $x$ and a bit string $s$ (of length $n$) :\n",
    "\n",
    "\n",
    "\n",
    "\\begin{equation}\n",
    "f_s(x) = s_0.x_0 \\oplus s_1.x_1 \\oplus s_2.x_2 \\oplus \\hspace{0.3cm} ... \\hspace{0.3cm} \\oplus s_{n-1}.x_{n-1}  \n",
    "\\end{equation}\n",
    "\n",
    "Suppose $s$ is inknown and we want to discover it's value. \n",
    "\n",
    "With a classic algoritm, $n$ evaluations of $f_s(x)$ are needed to guess the secret value of $s$, using this procedure: \n",
    "\n",
    "\\begin{equation}\n",
    "f_s(1000...0) = s_0 \\\\\n",
    "f_s(0100...0) = s_1 \\\\\n",
    "f_s(0010...0) = s_2 \\\\\n",
    "... \\\\\n",
    "f_s(0000...1) = s_{n-1}\n",
    "\\end{equation}\n",
    "\n",
    "Bernstein-Vazirani can reveal the value of $s$ in only one pass (using $𝓞(n)$ gates) \n",
    "\n",
    "\n",
    "<img src=\"./images/bv.png\" alt=\"Note: In order for images to show up in this jupyter notebook you need to select File => Trusted Notebook\" width=\"600 px\" align=\"center\">\n",
    "\n",
    "This is how we proceed: "
   ]
  },
  {
   "cell_type": "code",
   "execution_count": null,
   "metadata": {},
   "outputs": [],
   "source": [
    "# choose a value of s here (it will be hidden in the circuit,\n",
    "\n",
    "# and the result of the execution will reveal this value in just one pass) : \n",
    "\n",
    "s = '111100'\n",
    "\n",
    "# preps\n",
    "\n",
    "%matplotlib inline\n",
    "\n",
    "from qiskit import QuantumRegister, QuantumCircuit, ClassicalRegister, execute\n",
    "\n",
    "from qiskit import Aer   \n",
    "\n",
    "backend = Aer.get_backend('qasm_simulator')\n",
    "\n",
    "n = len(s)\n",
    "\n",
    "​\n",
    "\n",
    "bv = QuantumCircuit(n+1,n)\n",
    "\n",
    "​\n",
    "\n",
    "bv.x(n)          # ancillary qubit set to |1>  \n",
    "\n",
    "bv.barrier()     # \n",
    "\n",
    "bv.h(range(n+1)) # superposition of all qubits (x and ancillary) \n",
    "\n",
    "bv.barrier()     # \n",
    "\n",
    "​\n",
    "\n",
    "for numero, un_ou_zero in enumerate(reversed(s)):\n",
    "\n",
    "    if un_ou_zero == '1': \n",
    "\n",
    "        bv.cx(numero, n)  # Cx from all entry qubits with the ancilliary\n",
    "\n",
    "​\n",
    "\n",
    "bv.barrier()     # \n",
    "\n",
    "bv.h(range(n))   # superposition of output \n",
    "\n",
    "bv.barrier()     # \n",
    "\n",
    "bv.measure(range(n), range(n)) # mesure sur les n qubits.\n",
    "\n",
    "​\n",
    "\n",
    "bv.draw(output='mpl')\n",
    "\n"
   ]
  },
  {
   "cell_type": "code",
   "execution_count": null,
   "metadata": {},
   "outputs": [],
   "source": [
    "# execution\n",
    "res = execute(bv,backend=backend,shots=1).result()\n",
    "counts = res.get_counts()\n",
    "print(counts)"
   ]
  }
 ],
 "metadata": {
  "kernelspec": {
   "display_name": "Python 3",
   "language": "python",
   "name": "python3"
  },
  "language_info": {
   "codemirror_mode": {
    "name": "ipython",
    "version": 3
   },
   "file_extension": ".py",
   "mimetype": "text/x-python",
   "name": "python",
   "nbconvert_exporter": "python",
   "pygments_lexer": "ipython3",
   "version": "3.8.2"
  }
 },
 "nbformat": 4,
 "nbformat_minor": 2
}
