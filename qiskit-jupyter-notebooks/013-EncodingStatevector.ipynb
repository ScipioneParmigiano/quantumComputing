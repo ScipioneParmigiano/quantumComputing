{
 "cells": [
  {
   "cell_type": "code",
   "execution_count": 1,
   "metadata": {},
   "outputs": [],
   "source": [
    "# Qiskit Machine Learning\n",
    "\n",
    "#We have a k-dimensional data sample\n",
    "#We use the the data as amplitudes to the statevector\n",
    "\n",
    "import numpy as np\n",
    "import matplotlib.pyplot as plt\n",
    "%matplotlib inline\n",
    "import time\n",
    "start = time.time()\n",
    "from qiskit import QuantumRegister, QuantumCircuit, ClassicalRegister, execute\n",
    "from qiskit.circuit.library import HGate, ZGate, XGate\n",
    "from qiskit import BasicAer, Aer\n",
    "from qiskit.aqua.circuits import StateVectorCircuit\n",
    "from qiskit.visualization import plot_histogram"
   ]
  },
  {
   "cell_type": "code",
   "execution_count": 2,
   "metadata": {},
   "outputs": [
    {
     "name": "stdout",
     "output_type": "stream",
     "text": [
      "[ 0.5+0.000000e+00j -0.5-6.123234e-17j -0.5-6.123234e-17j\n",
      "  0.5+0.000000e+00j]\n",
      "[-0.5, 0.5, 0.5, -0.5]\n"
     ]
    }
   ],
   "source": [
    "# We are using amplitude encoding to encode our features in a quantum circuit. \n",
    "# With this we expect to encode 32 features in five qubits.\n",
    "\n",
    "# For such encoding we will use StateVectorCircuit. \n",
    "state_vector = [-1/2, 1/2, 1/2, -1/2]\n",
    "\n",
    "state_vector_circuit = StateVectorCircuit(state_vector).construct_circuit()\n",
    "\n",
    "job = execute(state_vector_circuit, Aer.get_backend('statevector_simulator'), optimization_level=0)\n",
    "result = job.result()\n",
    "\n",
    "outputstate = result.get_statevector(state_vector_circuit)\n",
    "\n",
    "print(outputstate)\n",
    "print(state_vector)"
   ]
  },
  {
   "cell_type": "markdown",
   "metadata": {},
   "source": [
    "### The StateVectorCircuit does not respect global phase\n",
    "\n",
    "The target state,$|\\psi_{t}\\rangle$, i.e. `[-0.5+0.j -0.5+0.j -0.5+0.j -0.5+0.j]` and the state $|\\psi\\rangle$ that we get `[0.5+0.j 0.5+0.j 0.5+0.j 0.5+0.j]` differ by a total factor of $-1$, i.e.,\n",
    "\n",
    "$$\n",
    "|\\psi\\rangle = (-1)\\times|\\psi_{t}\\rangle = -|\\psi_{t}\\rangle.\n",
    "$$\n",
    "Such an overall factor is known as a *global* phase. People think of it as a phase, because we can write $-1 = e^{i\\phi}$ for $\\phi=\\pi$. Note that QISKIT not only considers global phases when $\\phi$ *is* equal to $\\pi$, but $\\phi$ can be anything between $0$ and $2\\pi$.\n",
    "\n",
    "Qiskit does not care about global phases, because whenever we try to retrieve information (i.e. a measurement) from a state the global phase **cannot** play a role. Therefore, we normally just disregard the global phase, and we set the first entry in our statevector to a real, positive value.\n",
    "\n",
    "However, the sign difference between elements in the above statevector $|\\psi_{t}\\rangle$, *does* play a vital role. It is the *relative* phase, because it is a phase of one element of the statevector relative to the other. Also note that if we limit ourselves to only real elements (thereby setting any relative phase $\\phi_{rel}$ to $0$ or $\\pi$), we severely limit the quantum advantage that we can attain."
   ]
  },
  {
   "cell_type": "code",
   "execution_count": 4,
   "metadata": {},
   "outputs": [
    {
     "data": {
      "image/png": "[encoded data removed]",
      "text/plain": [
       "<Figure size 418.992x144.48 with 1 Axes>"
      ]
     },
     "execution_count": 4,
     "metadata": {},
     "output_type": "execute_result"
    }
   ],
   "source": [
    "#Create the Measurement Circuit\n",
    "qc = QuantumCircuit(2)\n",
    "x = XGate()\n",
    "h = HGate()\n",
    "z = ZGate()\n",
    "qc.append(x,[0])\n",
    "qc.append(z,[0])\n",
    "qc.append(x,[0])\n",
    "qc.append(h,[0])\n",
    "qc.append(h,[1])\n",
    "qc.draw('mpl')"
   ]
  },
  {
   "cell_type": "code",
   "execution_count": 5,
   "metadata": {},
   "outputs": [
    {
     "name": "stdout",
     "output_type": "stream",
     "text": [
      "[-0.5+0.j -0.5+0.j -0.5+0.j -0.5+0.j]\n",
      "[-0.5, 0.5, 0.5, -0.5]\n"
     ]
    }
   ],
   "source": [
    "job = execute(qc, Aer.get_backend('statevector_simulator'), optimization_level=0)\n",
    "result = job.result()\n",
    "\n",
    "outputstate = result.get_statevector(qc)\n",
    "\n",
    "print(outputstate)\n",
    "print(state_vector)"
   ]
  },
  {
   "cell_type": "code",
   "execution_count": null,
   "metadata": {},
   "outputs": [],
   "source": []
  }
 ],
 "metadata": {
  "kernelspec": {
   "display_name": "Python 3",
   "language": "python",
   "name": "python3"
  },
  "language_info": {
   "codemirror_mode": {
    "name": "ipython",
    "version": 3
   },
   "file_extension": ".py",
   "mimetype": "text/x-python",
   "name": "python",
   "nbconvert_exporter": "python",
   "pygments_lexer": "ipython3",
   "version": "3.8.2"
  }
 },
 "nbformat": 4,
 "nbformat_minor": 4
}
