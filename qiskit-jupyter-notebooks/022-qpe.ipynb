{
 "cells": [
  {
   "cell_type": "markdown",
   "metadata": {},
   "source": [
    "# Phase Estimation and its Qiskit Implementation\n",
    "\n",
    "Quantum phase estimation is one of the most important subroutines in quantum computation. It serves as a central building block for many quantum algorithms and implements a measurement for essentially any Hermitian operator. Recall that a quantum computer initially only permits us to measure individual qubits. If we want to measure a more complex observable, such as the energy described by a Hamiltonian $H$, we resort to quantum phase estimation.\n"
   ]
  },
  {
   "cell_type": "markdown",
   "metadata": {},
   "source": [
    "## Quantum Circuit for Phase Estimation \n",
    "\n",
    "The general quantum circuit for phase estimation is:\n",
    "<img src=\"images/qpe.png\">"
   ]
  },
  {
   "cell_type": "markdown",
   "metadata": {},
   "source": [
    "This circuit estimates the phase of a unitary operator $U$, that is, it estimates $\\theta$ in $U|\\psi \\rangle =e^{\\boldsymbol{2\\pi i} \\theta }|\\psi \\rangle$. Here $|\\psi\\rangle$ is an eigenvector and $e^{\\boldsymbol{2\\pi i}\\theta}$ is the corresponding eigenvalue. Since $U$ is unitary, all of its eigenvalues have an absolute value of 1. The circuit involves the following steps:\n",
    "\n",
    "1. **Setup**: $|\\psi\\rangle$ is in one set of qubit registers. An additional set of $n$ qubits form an ancilla register: $$ \\psi_1 = \\lvert 0 \\rangle^{\\otimes n} \\lvert \\psi \\rangle$$ \n",
    "\n",
    "2. **Superposition**: Apply a $n$-bit Hadamard gate operation $H^{\\otimes n}$ on the ancilla register: $$ \\psi_2 = {\\frac {1}{2^{\\frac {n}{2}}}}(|0\\rangle +|1\\rangle )^{\\otimes n} \\lvert \\psi \\rangle$$\n",
    "\n",
    "3. **Controlled Unitary Operations**: We need to introduce the controlled unitary $C-U$ that applies the unitary operator $U$ on the target register only if its corresponding control bit is $|1\\rangle$. Since $U$ is a unitary operatory with eigenvector $|\\psi\\rangle$ such that $U|\\psi \\rangle =e^{\\boldsymbol{2\\pi i} \\theta }|\\psi \\rangle$, this means: $U^{2^{j}}|\\psi \\rangle =U^{2^{j}-1}U|\\psi \\rangle =U^{2^{j}-1}e^{2\\pi i\\theta }|\\psi \\rangle =\\cdots =e^{2\\pi i2^{j}\\theta }|\\psi \\rangle$. Applying all the $n$ controlled operations $C − U^{2^j}$ with $0\\leq j\\leq n-1$, and using the relation $|0\\rangle \\otimes |\\psi \\rangle +|1\\rangle \\otimes e^{2\\pi i\\theta }|\\psi \\rangle =(|0\\rangle +e^{2\\pi i\\theta }|1\\rangle )\\otimes |\\psi \\rangle$:\n",
    "\\begin{aligned}\n",
    "\\psi_{3} & =\\frac {1}{2^{\\frac {n}{2}}} (|0\\rangle+{e^{\\boldsymbol{2\\pi i} \\theta 2^{n-1}}}|1\\rangle ) \\otimes \\cdots (|0\\rangle+{e^{\\boldsymbol{2\\pi i} \\theta 2^{1}}}|1\\rangle ) \\otimes (|0\\rangle+{e^{\\boldsymbol{2\\pi i} \\theta 2^{0}}}|1\\rangle ) \\otimes |\\psi\\rangle\\\\\n",
    "& = \\frac{1}{2^{\\frac {n}{2}}}\\sum _{k=0}^{2^{n}-1}e^{\\boldsymbol{2\\pi i} \\theta k}|k\\rangle \\otimes |\\psi\\rangle\\\\\n",
    "\\end{aligned}\n",
    "where $|k\\rangle$ denotes the binary representation of $k$. \n",
    "\n",
    "4. **Inverse Fourer Transform**: Apply an inverse Fourier transform on the ancilla register:\n",
    "$$\\frac {1}{2^{\\frac {n}{2}}}\\sum _{k=0}^{2^{n}-1}e^{\\boldsymbol{2\\pi i} \\theta k}|k\\rangle \\otimes | \\psi \\rangle \\xrightarrow{\\mathcal{QFT}_n^{-1}} \\frac {1}{2^n}\\sum _{x=0}^{2^{n}-1}\\sum _{k=0}^{2^{n}-1} e^{-\\frac{2\\pi i k}{2^n}(x - 2^n \\theta)} |x\\rangle \\otimes |\\psi\\rangle$$ which we can rewrite by rounding $2^n\\theta$ to the nearest integer, meaning $2^n \\theta = a + 2^n\\delta$ where $a$ is the nearest integer to $2^n\\theta$, and the difference $2^n\\delta$ satisfies $0\\leq |2^n\\theta|\\leq \\frac{1}{2}$: $$\\psi_4 \\approx \\frac {1}{2^n}\\sum _{x=0}^{2^{n}-1}\\sum _{k=0}^{2^{n}-1} e^{-\\frac{2\\pi i k}{2^n}(x - a)}e^{2\\pi i \\delta k} |x\\rangle \\otimes |\\psi\\rangle$$\n",
    "\n",
    "5. **Measurement**: Measuring in the computational basis, we get the phase in the ancilla register: $$ |\\psi_5\\rangle = | 2^n \\theta \\rangle \\otimes | \\psi \\rangle$$"
   ]
  },
  {
   "cell_type": "markdown",
   "metadata": {},
   "source": [
    "# Qiskit Implementation"
   ]
  },
  {
   "cell_type": "markdown",
   "metadata": {},
   "source": [
    "Let's first prepare our environment."
   ]
  },
  {
   "cell_type": "code",
   "execution_count": 1,
   "metadata": {},
   "outputs": [],
   "source": [
    "#initialization\n",
    "import matplotlib.pyplot as plt\n",
    "%matplotlib inline\n",
    "import numpy as np\n",
    "π = np.pi\n",
    "\n",
    "# importing Qiskit\n",
    "from qiskit import IBMQ, BasicAer\n",
    "from qiskit.providers.ibmq import least_busy\n",
    "from qiskit import QuantumCircuit, ClassicalRegister, QuantumRegister, execute\n",
    "\n",
    "# import basic plot tools\n",
    "from qiskit.tools.visualization import plot_histogram"
   ]
  },
  {
   "cell_type": "markdown",
   "metadata": {},
   "source": [
    "As an example, let us take a $2\\times 2$ unitary matrix that is defined via the Hamiltonian $\\frac{1}{2}\\begin{bmatrix}3 & 1 \\\\1 & 3\\end{bmatrix}$, which has eigenvectors of powers of two. \n",
    "\n",
    "Starting with $|\\psi\\rangle=|0\\rangle$ in the main register (1 qubit), we prepare the superposition in the ancilla (2 qubits):"
   ]
  },
  {
   "cell_type": "code",
   "execution_count": 2,
   "metadata": {},
   "outputs": [],
   "source": [
    "q = QuantumRegister(3, 'q')\n",
    "c = ClassicalRegister(2, 'c')\n",
    "\n",
    "qpe = QuantumCircuit(q, c)\n",
    "qpe.h(q[0])\n",
    "qpe.h(q[1]);"
   ]
  },
  {
   "cell_type": "markdown",
   "metadata": {},
   "source": [
    "Next we perform the controlled unitary operations:"
   ]
  },
  {
   "cell_type": "code",
   "execution_count": 3,
   "metadata": {},
   "outputs": [],
   "source": [
    "# Controlled-U0\n",
    "qpe.cu3(-π / 2, -π / 2, π / 2, q[1], q[2])\n",
    "qpe.cu1(3 * π / 4, q[1], q[2])\n",
    "qpe.cx(q[1], q[2])\n",
    "qpe.cu1(3 * π / 4, q[1], q[2])\n",
    "qpe.cx(q[1], q[2])\n",
    "\n",
    "# Controlled-U1\n",
    "qpe.cx(q[0], q[2]);"
   ]
  },
  {
   "cell_type": "markdown",
   "metadata": {},
   "source": [
    "We apply quantum inverse Fourier transformation to write the phase to the ancilla register:"
   ]
  },
  {
   "cell_type": "code",
   "execution_count": 4,
   "metadata": {},
   "outputs": [],
   "source": [
    "qpe.swap(q[0], q[1])\n",
    "qpe.h(q[1])\n",
    "qpe.cu1(-π / 2, q[0], q[1])\n",
    "qpe.h(q[0]);"
   ]
  },
  {
   "cell_type": "markdown",
   "metadata": {},
   "source": [
    "We then measure the ancilla register:"
   ]
  },
  {
   "cell_type": "code",
   "execution_count": 5,
   "metadata": {},
   "outputs": [
    {
     "data": {
      "text/plain": [
       "<qiskit.circuit.measure.Measure at 0x11af92be0>"
      ]
     },
     "execution_count": 5,
     "metadata": {},
     "output_type": "execute_result"
    }
   ],
   "source": [
    "qpe.measure(q[0],c[0])\n",
    "qpe.measure(q[1],c[1])"
   ]
  },
  {
   "cell_type": "code",
   "execution_count": 6,
   "metadata": {},
   "outputs": [
    {
     "data": {
      "image/png": "[encoded data removed]",
      "text/plain": [
       "<Figure size 1023.4x319.06 with 1 Axes>"
      ]
     },
     "execution_count": 6,
     "metadata": {},
     "output_type": "execute_result"
    }
   ],
   "source": [
    "qpe.draw(output=\"mpl\")"
   ]
  },
  {
   "cell_type": "markdown",
   "metadata": {},
   "source": [
    "## Experiment with Simulators\n",
    "\n",
    "We can run the above circuit on the simulator. "
   ]
  },
  {
   "cell_type": "code",
   "execution_count": 7,
   "metadata": {},
   "outputs": [
    {
     "data": {
      "image/png": "[encoded data removed]",
      "text/plain": [
       "<Figure size 504x360 with 1 Axes>"
      ]
     },
     "execution_count": 7,
     "metadata": {},
     "output_type": "execute_result"
    }
   ],
   "source": [
    "backend = BasicAer.get_backend('qasm_simulator')\n",
    "shots = 1024\n",
    "results = execute(qpe, backend=backend, shots=shots).result()\n",
    "answer = results.get_counts()\n",
    "plot_histogram(answer)"
   ]
  },
  {
   "cell_type": "markdown",
   "metadata": {},
   "source": [
    "## Experiment with Real Devices\n",
    "\n",
    "We can run the circuit on the real device as shown below."
   ]
  },
  {
   "cell_type": "code",
   "execution_count": 8,
   "metadata": {},
   "outputs": [
    {
     "name": "stdout",
     "output_type": "stream",
     "text": [
      "Least busy backend:  ibmqx2\n"
     ]
    }
   ],
   "source": [
    "# Load our saved IBMQ accounts and get the least busy backend device\n",
    "IBMQ.load_accounts()\n",
    "IBMQ.backends()\n",
    "backend_lb = least_busy(IBMQ.backends(simulator=False))\n",
    "print(\"Least busy backend: \", backend_lb)"
   ]
  },
  {
   "cell_type": "code",
   "execution_count": 9,
   "metadata": {},
   "outputs": [
    {
     "data": {
      "application/vnd.jupyter.widget-view+json": {
       "model_id": "9248ad156b414bf1be8e6769b16f6997",
       "version_major": 2,
       "version_minor": 0
      },
      "text/plain": [
       "HTML(value=\"<p style='font-size:16px;'>Job Status: job is being initialized </p>\")"
      ]
     },
     "metadata": {},
     "output_type": "display_data"
    }
   ],
   "source": [
    "# run our circuit on the least busy backend. Monitor the execution of the job in the queue\n",
    "from qiskit.tools.monitor import job_monitor\n",
    "\n",
    "backend = backend_lb\n",
    "shots = 1024\n",
    "job_exp = execute(qpe, backend=backend, shots=shots)\n",
    "\n",
    "job_monitor(job_exp, interval = 2)"
   ]
  },
  {
   "cell_type": "code",
   "execution_count": 10,
   "metadata": {},
   "outputs": [
    {
     "data": {
      "image/png": "[encoded data removed]",
      "text/plain": [
       "<Figure size 504x360 with 1 Axes>"
      ]
     },
     "execution_count": 10,
     "metadata": {},
     "output_type": "execute_result"
    }
   ],
   "source": [
    "# get the results from the computation\n",
    "results = job_exp.result()\n",
    "answer = results.get_counts(qpe)\n",
    "plot_histogram(answer)"
   ]
  },
  {
   "cell_type": "markdown",
   "metadata": {},
   "source": [
    "# Another Example"
   ]
  },
  {
   "cell_type": "code",
   "execution_count": 1,
   "metadata": {},
   "outputs": [
    {
     "name": "stdout",
     "output_type": "stream",
     "text": [
      "{'00': 112, '11': 119, '10': 674, '01': 119}\n"
     ]
    },
    {
     "name": "stderr",
     "output_type": "stream",
     "text": [
      "e:\\developmentenvironments\\anaconda3\\envs\\qiskit19_env\\lib\\site-packages\\qiskit\\util.py:109: DeprecationWarning: The QuantumCircuit.iden() method is deprecated as of 0.14.0, and will be removed no earlier than 3 months after that release date. You should use the QuantumCircuit.i() method instead.\n",
      "  return func(*args, **kwargs)\n"
     ]
    }
   ],
   "source": [
    "'''\n",
    "    Quantum Phase Estimation\n",
    "\n",
    "    Problem. Given an unitary operator U, estimate θ in U|ψ>=exp(2πiθ)|ψ>.\n",
    "\n",
    "'''\n",
    "import math\n",
    "\n",
    "from qiskit import IBMQ, BasicAer\n",
    "from qiskit import QuantumCircuit, ClassicalRegister, QuantumRegister, execute\n",
    "\n",
    "\n",
    "def qft_dagger(circuit, q, n):\n",
    "    for j in range(n):\n",
    "        k = (n-1) - j\n",
    "        for m in range(k):\n",
    "            circuit.cu1(-math.pi/float(2**(k-m)), q[k], q[m])\n",
    "        circuit.h(q[k])\n",
    "\n",
    "\n",
    "qr = QuantumRegister(3)  # Initialize qubits\n",
    "cr = ClassicalRegister(2)\n",
    "circuit = QuantumCircuit(qr, cr)\n",
    "\n",
    "# Prepare |ψ> = 1\n",
    "circuit.x(qr[2])\n",
    "\n",
    "circuit.barrier()\n",
    "\n",
    "# Apply Hadamard to ancilla qubits\n",
    "circuit.h(qr[0])\n",
    "circuit.h(qr[1])\n",
    "\n",
    "circuit.barrier()\n",
    "\n",
    "# Controlled unitary operations\n",
    "circuit.iden(qr[0])\n",
    "circuit.cz(qr[1], qr[2])\n",
    "\n",
    "circuit.barrier()\n",
    "\n",
    "# Apply inverse quantum Fourier transform and measure ancilla qubits\n",
    "qft_dagger(circuit, qr, 2)\n",
    "\n",
    "circuit.measure(qr[0], cr[0])\n",
    "circuit.measure(qr[1], cr[1])\n",
    "\n",
    "# Run our circuit with local simulator\n",
    "backend = BasicAer.get_backend('qasm_simulator')\n",
    "shots = 1024\n",
    "results = execute(circuit, backend=backend, shots=shots).result()\n",
    "answer = results.get_counts()\n",
    "print(answer)"
   ]
  },
  {
   "cell_type": "code",
   "execution_count": null,
   "metadata": {},
   "outputs": [],
   "source": []
  }
 ],
 "metadata": {
  "kernelspec": {
   "display_name": "Python 3",
   "language": "python",
   "name": "python3"
  },
  "language_info": {
   "codemirror_mode": {
    "name": "ipython",
    "version": 3
   },
   "file_extension": ".py",
   "mimetype": "text/x-python",
   "name": "python",
   "nbconvert_exporter": "python",
   "pygments_lexer": "ipython3",
   "version": "3.8.2"
  }
 },
 "nbformat": 4,
 "nbformat_minor": 2
}
