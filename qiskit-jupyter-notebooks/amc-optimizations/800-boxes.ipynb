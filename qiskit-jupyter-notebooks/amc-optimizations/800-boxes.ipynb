{
 "cells": [
  {
   "cell_type": "markdown",
   "metadata": {},
   "source": [
    "# Objects in boxes\n",
    "\n",
    "## Objective\n",
    "* We want to put $N$ objects into a row of $N$ boxes.\n",
    "\n",
    "* Boxes are aligned from left to right (if $i < i'$, box $i$ is to the left of box $i'$) on the $x$ axis.\n",
    "* Box $i$ is located at a point $B_i$ of the $(x,y)$ plane and object $j$ is located at $O_j$.\n",
    "\n",
    "* We want to find an arrangement of objects such that:\n",
    "    * each box contains exactly one object,\n",
    "    * each object is stored in one box,\n",
    "    * the total distance from object $j$ to its storage box is minimal.\n",
    "\n",
    "* First, we solve the problem described, and then we add two new constraints and examine how the cost (and solution) changes.\n",
    "    * From the first solution, we impose that object #1 is assigned to the box immediately to the left of object #2.\n",
    "    * Then we impose that object #5 is assigned to a box next to the box of object #6."
   ]
  },
  {
   "cell_type": "code",
   "execution_count": 17,
   "metadata": {},
   "outputs": [],
   "source": [
    "import docplex.mp\n",
    "from math import sqrt\n",
    "import random"
   ]
  },
  {
   "cell_type": "code",
   "execution_count": 18,
   "metadata": {},
   "outputs": [],
   "source": [
    "# Setup Data\n",
    "N = 3 #8\n",
    "box_range = range(1, N+1)\n",
    "obj_range = range(1, N+1)\n",
    "\n",
    "o_xmax = N*10\n",
    "o_ymax = 2*N\n",
    "box_coords = {b: (10*b, 1) for b in box_range}\n",
    "\n",
    "obj_coords= {1: (140, 6), 2: (146, 8), 3: (132, 14), 4: (53, 28), \n",
    "             5: (146, 4), 6: (137, 13), 7: (95, 12), 8: (68, 9), 9: (102, 18), \n",
    "             10: (116, 8), 11: (19, 29), 12: (89, 15), 13: (141, 4), 14: (29, 4), 15: (4, 28)}\n",
    "\n",
    "# the distance matrix from box i to object j - we compute the square of distance to keep integer\n",
    "distances = {}\n",
    "for o in obj_range:\n",
    "    for b in box_range:\n",
    "        dx = obj_coords[o][0]-box_coords[b][0]\n",
    "        dy = obj_coords[o][1]-box_coords[b][1]\n",
    "        d2 = dx*dx + dy*dy\n",
    "        distances[b, o] = d2"
   ]
  },
  {
   "cell_type": "code",
   "execution_count": 19,
   "metadata": {},
   "outputs": [],
   "source": [
    "# Create the Model\n",
    "from docplex.mp.model import Model\n",
    "mdl = Model(\"boxes\")"
   ]
  },
  {
   "cell_type": "markdown",
   "metadata": {},
   "source": [
    "#### Define the decision variables\n",
    "\n",
    "* For each box $i$ ($i$ in $1..N$) and object $j$ ($j$ in $1..N$), we define a binary variable $X_{i,j}$ equal to $1$ if and only if object $j$ is stored in box $i$."
   ]
  },
  {
   "cell_type": "code",
   "execution_count": 20,
   "metadata": {},
   "outputs": [],
   "source": [
    "# decision variables is a 2d-matrix\n",
    "x = mdl.binary_var_matrix(box_range, obj_range, lambda ij: \"x_%d_%d\" %(ij[0], ij[1]))"
   ]
  },
  {
   "cell_type": "markdown",
   "metadata": {},
   "source": [
    "#### Express the business constraints\n",
    "\n",
    "* The sum of $X_{i,j}$ over both rows and columns must be equal to $1$, resulting in $2\\times N$ constraints."
   ]
  },
  {
   "cell_type": "code",
   "execution_count": 21,
   "metadata": {},
   "outputs": [
    {
     "name": "stdout",
     "output_type": "stream",
     "text": [
      "Model: boxes\n",
      " - number of variables: 9\n",
      "   - binary=9, integer=0, continuous=0\n",
      " - number of constraints: 6\n",
      "   - linear=6\n",
      " - parameters: defaults\n",
      " - objective: none\n",
      " - problem type is: MILP\n"
     ]
    }
   ],
   "source": [
    "# one object per box\n",
    "mdl.add_constraints(mdl.sum(x[i,j] for j in obj_range) == 1\n",
    "                   for i in box_range)\n",
    "    \n",
    "# one box for each object\n",
    "mdl.add_constraints(mdl.sum(x[i,j] for i in box_range) == 1\n",
    "                  for j in obj_range)\n",
    "\n",
    "mdl.print_information()"
   ]
  },
  {
   "cell_type": "markdown",
   "metadata": {},
   "source": [
    "#### Express the objective\n",
    "\n",
    "* The objective is to minimize the total distance between each object and its storage box."
   ]
  },
  {
   "cell_type": "code",
   "execution_count": 22,
   "metadata": {},
   "outputs": [],
   "source": [
    "# minimize total displacement\n",
    "mdl.minimize( mdl.sum(distances[i,j] * x[i,j] for i in box_range for j in obj_range) )"
   ]
  },
  {
   "cell_type": "code",
   "execution_count": 23,
   "metadata": {},
   "outputs": [
    {
     "data": {
      "text/plain": [
       "'800-boxes.lp'"
      ]
     },
     "execution_count": 23,
     "metadata": {},
     "output_type": "execute_result"
    }
   ],
   "source": [
    "mdl.export_as_lp(path='800-boxes.lp')"
   ]
  },
  {
   "cell_type": "markdown",
   "metadata": {},
   "source": [
    "#### Solve the model\n"
   ]
  },
  {
   "cell_type": "code",
   "execution_count": 24,
   "metadata": {
    "scrolled": true
   },
   "outputs": [
    {
     "name": "stdout",
     "output_type": "stream",
     "text": [
      "Model: boxes\n",
      " - number of variables: 9\n",
      "   - binary=9, integer=0, continuous=0\n",
      " - number of constraints: 6\n",
      "   - linear=6\n",
      " - parameters: defaults\n",
      " - objective: minimize\n",
      " - problem type is: MILP\n"
     ]
    }
   ],
   "source": [
    "mdl.print_information()\n",
    "\n",
    "assert mdl.solve(), \"!!! Solve of the model fails\""
   ]
  },
  {
   "cell_type": "code",
   "execution_count": 25,
   "metadata": {},
   "outputs": [
    {
     "name": "stdout",
     "output_type": "stream",
     "text": [
      "* model boxes solved with objective = 42983.000\n",
      "* solution: [3, 1, 2]\n"
     ]
    }
   ],
   "source": [
    "mdl.report()\n",
    "d1 = mdl.objective_value\n",
    "#mdl.print_solution()\n",
    "\n",
    "def make_solution_vector(x_vars):\n",
    "    sol = [0]* N\n",
    "    for i in box_range:\n",
    "        for j in obj_range:\n",
    "            if x[i,j].solution_value >= 0.5:\n",
    "                sol[i-1] = j\n",
    "                break\n",
    "    return sol\n",
    "\n",
    "def make_obj_box_dir(sol_vec):\n",
    "    # sol_vec contains an array of objects in box order at slot b-1 we have obj(b)\n",
    "    return { sol_vec[b]: b+1 for b in range(N)}\n",
    "    \n",
    "               \n",
    "sol1 = make_solution_vector(x)\n",
    "print(\"* solution: {0!s}\".format(sol1))          "
   ]
  },
  {
   "cell_type": "markdown",
   "metadata": {},
   "source": [
    "#### Additional constraint #1\n",
    "\n",
    "As an additional constraint, we want to impose that object #1 is stored immediately to the left of object #2.\n",
    "As a consequence, object #2 cannot be stored in box #1, so we add:"
   ]
  },
  {
   "cell_type": "code",
   "execution_count": 11,
   "metadata": {},
   "outputs": [
    {
     "data": {
      "text/plain": [
       "docplex.mp.LinearConstraint[](x_1_2,EQ,0)"
      ]
     },
     "execution_count": 11,
     "metadata": {},
     "output_type": "execute_result"
    }
   ],
   "source": [
    "mdl.add_constraint(x[1,2] == 0)"
   ]
  },
  {
   "cell_type": "markdown",
   "metadata": {},
   "source": [
    "Now, we must state that for $k \\geq 2$ if $x[k,2] == 1$ then $x[k-1,1] == 1$; this is a logical implication that we express by a relational operator:"
   ]
  },
  {
   "cell_type": "code",
   "execution_count": 12,
   "metadata": {},
   "outputs": [
    {
     "name": "stdout",
     "output_type": "stream",
     "text": [
      "Model: boxes\n",
      " - number of variables: 225\n",
      "   - binary=225, integer=0, continuous=0\n",
      " - number of constraints: 45\n",
      "   - linear=45\n",
      " - parameters: defaults\n",
      " - objective: minimize\n",
      " - problem type is: MILP\n"
     ]
    }
   ],
   "source": [
    "mdl.add_constraints(x[k-1,1] >= x[k,2]\n",
    "                   for k in range(2,N+1))\n",
    "mdl.print_information()"
   ]
  },
  {
   "cell_type": "markdown",
   "metadata": {},
   "source": [
    "Now let's solve again and check that our new constraint is satisfied, that is, object #1 is immediately left to object #2"
   ]
  },
  {
   "cell_type": "code",
   "execution_count": 13,
   "metadata": {},
   "outputs": [
    {
     "name": "stdout",
     "output_type": "stream",
     "text": [
      "* model boxes solved with objective = 8878.000\n",
      " solution #2 =[15, 11, 14, 4, 8, 12, 7, 9, 10, 3, 6, 13, 1, 2, 5]\n"
     ]
    }
   ],
   "source": [
    "ok2 = mdl.solve()\n",
    "assert ok2, \"solve failed\"\n",
    "mdl.report()\n",
    "d2 = mdl.objective_value\n",
    "sol2 = make_solution_vector(x)\n",
    "print(\" solution #2 ={0!s}\".format(sol2))"
   ]
  },
  {
   "cell_type": "markdown",
   "metadata": {},
   "source": [
    "The constraint is indeed satisfied, with a higher objective, as expected."
   ]
  },
  {
   "cell_type": "markdown",
   "metadata": {},
   "source": [
    "#### Additional constraint #2\n",
    "\n",
    "Now, we want to add a second constraint to state that object #5 is stored in a box that is next to the box of object #6, either to the left or right.\n",
    "\n",
    "In other words, when $x[k,6]$ is equal to $1$, then one of $x[k-1,5]$ and $x[k+1,5]$ is equal to $1$;\n",
    "this is again a logical implication, with an OR in the right side.\n",
    "\n",
    "We have to handle the case of extremities with care."
   ]
  },
  {
   "cell_type": "code",
   "execution_count": 14,
   "metadata": {},
   "outputs": [
    {
     "name": "stdout",
     "output_type": "stream",
     "text": [
      "* model boxes solved with objective = 9078.000\n",
      " solution #3 =[15, 11, 14, 4, 8, 12, 7, 9, 10, 3, 13, 6, 5, 1, 2]\n"
     ]
    }
   ],
   "source": [
    "# forall k in 2..N-1 then we can use the sum on the right hand side\n",
    "mdl.add_constraints(x[k,6] <= x[k-1,5] + x[k+1,5]\n",
    "                  for k in range(2,N))\n",
    "    \n",
    "# if 6 is in box 1 then 5 must be in 2\n",
    "mdl.add_constraint(x[1,6] <= x[2,5])\n",
    "\n",
    "# if 6 is last, then 5 must be before last\n",
    "mdl.add_constraint(x[N,6] <= x[N-1,5])\n",
    "\n",
    "# we solve again\n",
    "ok3 = mdl.solve()\n",
    "assert ok3, \"solve failed\"\n",
    "mdl.report()\n",
    "d3 = mdl.objective_value\n",
    "\n",
    "sol3 = make_solution_vector(x)\n",
    "print(\" solution #3 ={0!s}\".format(sol3)) "
   ]
  },
  {
   "cell_type": "markdown",
   "metadata": {},
   "source": [
    "As expected, the constraint is satisfied; objects #5 and #6 are next to each other.\n",
    "Predictably, the objective is higher.\n",
    "\n",
    "### Step 5: Investigate the solution and then run an example analysis\n",
    "\n",
    "Present the solution as a vector of object indices, sorted by box indices.\n",
    "We use maptplotlib to display the assignment of objects to boxes.\n"
   ]
  },
  {
   "cell_type": "code",
   "execution_count": 15,
   "metadata": {},
   "outputs": [
    {
     "ename": "ModuleNotFoundError",
     "evalue": "No module named 'matplotlib'",
     "output_type": "error",
     "traceback": [
      "\u001b[1;31m---------------------------------------------------------------------------\u001b[0m",
      "\u001b[1;31mModuleNotFoundError\u001b[0m                       Traceback (most recent call last)",
      "\u001b[1;32m<ipython-input-15-00cf3afbe86c>\u001b[0m in \u001b[0;36m<module>\u001b[1;34m()\u001b[0m\n\u001b[1;32m----> 1\u001b[1;33m \u001b[1;32mimport\u001b[0m \u001b[0mmatplotlib\u001b[0m\u001b[1;33m.\u001b[0m\u001b[0mpyplot\u001b[0m \u001b[1;32mas\u001b[0m \u001b[0mplt\u001b[0m\u001b[1;33m\u001b[0m\u001b[1;33m\u001b[0m\u001b[0m\n\u001b[0m\u001b[0;32m      2\u001b[0m \u001b[1;32mfrom\u001b[0m \u001b[0mpylab\u001b[0m \u001b[1;32mimport\u001b[0m \u001b[0mrcParams\u001b[0m\u001b[1;33m\u001b[0m\u001b[1;33m\u001b[0m\u001b[0m\n\u001b[0;32m      3\u001b[0m \u001b[0mget_ipython\u001b[0m\u001b[1;33m(\u001b[0m\u001b[1;33m)\u001b[0m\u001b[1;33m.\u001b[0m\u001b[0mmagic\u001b[0m\u001b[1;33m(\u001b[0m\u001b[1;34m'matplotlib inline'\u001b[0m\u001b[1;33m)\u001b[0m\u001b[1;33m\u001b[0m\u001b[1;33m\u001b[0m\u001b[0m\n\u001b[0;32m      4\u001b[0m \u001b[0mrcParams\u001b[0m\u001b[1;33m[\u001b[0m\u001b[1;34m'figure.figsize'\u001b[0m\u001b[1;33m]\u001b[0m \u001b[1;33m=\u001b[0m \u001b[1;36m12\u001b[0m\u001b[1;33m,\u001b[0m \u001b[1;36m6\u001b[0m\u001b[1;33m\u001b[0m\u001b[1;33m\u001b[0m\u001b[0m\n\u001b[0;32m      5\u001b[0m \u001b[1;33m\u001b[0m\u001b[0m\n",
      "\u001b[1;31mModuleNotFoundError\u001b[0m: No module named 'matplotlib'"
     ]
    }
   ],
   "source": [
    "import matplotlib.pyplot as plt\n",
    "from pylab import rcParams\n",
    "%matplotlib inline\n",
    "rcParams['figure.figsize'] = 12, 6\n",
    "\n",
    "def display_solution(sol):\n",
    "    obj_boxes = make_obj_box_dir(sol)\n",
    "    xs = []\n",
    "    ys = []\n",
    "    for o in obj_range:\n",
    "        b = obj_boxes[o]\n",
    "        box_x = box_coords[b][0]\n",
    "        box_y = box_coords[b][1]\n",
    "        obj_x = obj_coords[o][0]\n",
    "        obj_y = obj_coords[o][1]\n",
    "        plt.text(obj_x, obj_y, str(o), bbox=dict(facecolor='red', alpha=0.5))\n",
    "        plt.plot([obj_x, box_x], [obj_y, box_y])\n"
   ]
  },
  {
   "cell_type": "markdown",
   "metadata": {},
   "source": [
    "The first solution shows no segments crossing, which is to be expected."
   ]
  },
  {
   "cell_type": "code",
   "execution_count": null,
   "metadata": {},
   "outputs": [],
   "source": [
    "display_solution(sol1)"
   ]
  },
  {
   "cell_type": "markdown",
   "metadata": {},
   "source": [
    "The second solution, by enforcing that object #1 must be to the left of object #2, introduces crossings."
   ]
  },
  {
   "cell_type": "code",
   "execution_count": null,
   "metadata": {},
   "outputs": [],
   "source": [
    "display_solution(sol2)"
   ]
  },
  {
   "cell_type": "code",
   "execution_count": null,
   "metadata": {},
   "outputs": [],
   "source": [
    "display_solution(sol3)"
   ]
  },
  {
   "cell_type": "code",
   "execution_count": null,
   "metadata": {},
   "outputs": [],
   "source": [
    "\n",
    "def display(myDict, title):\n",
    "    if True: #env.has_matplotlib:\n",
    "        N = len(myDict)\n",
    "        labels = myDict.keys()\n",
    "        values= myDict.values()\n",
    "\n",
    "        try: # Python 2\n",
    "            ind = xrange(N)  # the x locations for the groups\n",
    "        except: # Python 3\n",
    "            ind = range(N)\n",
    "        width = 0.2      # the width of the bars\n",
    "\n",
    "        fig, ax = plt.subplots()\n",
    "        rects1 = ax.bar(ind, values, width, color='g')\t\n",
    "        ax.set_title(title)\n",
    "        ax.set_xticks([ind[i]+width/2 for i in ind])\n",
    "        ax.set_xticklabels( labels )\t\n",
    "        #ax.legend( (rects1[0]), (title) )\n",
    "\n",
    "        plt.show()\n",
    "    else:\n",
    "        print(\"warning: no display\")\n",
    "        \n",
    "from collections import OrderedDict\n",
    "dists = OrderedDict()\n",
    "dists[\"d1\"]= d1 -8000\n",
    "dists[\"d2\"] = d2 - 8000\n",
    "dists[\"d3\"] = d3 - 8000\n",
    "print(dists)\n",
    "\n",
    "display(dists, \"evolution of distance objective\")"
   ]
  },
  {
   "cell_type": "markdown",
   "metadata": {},
   "source": [
    "## Summary\n",
    "\n",
    "You learned how to set up and use IBM Decision Optimization CPLEX Modeling for Python to formulate a Mathematical Programming model and solve it with CPLEX."
   ]
  },
  {
   "cell_type": "markdown",
   "metadata": {},
   "source": [
    "## References\n",
    "* [CPLEX Modeling for Python documentation](http://ibmdecisionoptimization.github.io/docplex-doc/)\n",
    "* [Decision Optimization on Cloud](https://developer.ibm.com/docloud/)\n",
    "* Need help with DOcplex or to report a bug? Please go [here](https://stackoverflow.com/questions/tagged/docplex).\n",
    "* Contact us at dofeedback@wwpdl.vnet.ibm.com."
   ]
  },
  {
   "cell_type": "markdown",
   "metadata": {},
   "source": [
    "Copyright &copy; 2017-2019 IBM. IPLA licensed Sample Materials."
   ]
  },
  {
   "cell_type": "code",
   "execution_count": null,
   "metadata": {},
   "outputs": [],
   "source": []
  }
 ],
 "metadata": {
  "kernelspec": {
   "display_name": "Python 3",
   "language": "python",
   "name": "python3"
  },
  "language_info": {
   "codemirror_mode": {
    "name": "ipython",
    "version": 3
   },
   "file_extension": ".py",
   "mimetype": "text/x-python",
   "name": "python",
   "nbconvert_exporter": "python",
   "pygments_lexer": "ipython3",
   "version": "3.7.9"
  }
 },
 "nbformat": 4,
 "nbformat_minor": 4
}
