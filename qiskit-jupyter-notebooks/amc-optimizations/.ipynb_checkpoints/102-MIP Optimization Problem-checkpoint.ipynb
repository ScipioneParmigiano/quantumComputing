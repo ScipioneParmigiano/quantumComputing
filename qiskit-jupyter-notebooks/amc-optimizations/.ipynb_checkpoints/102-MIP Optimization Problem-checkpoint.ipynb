{
 "cells": [
  {
   "cell_type": "markdown",
   "metadata": {},
   "source": [
    "# Dynamic Mixed Integer Problem (MIP)\n",
    "\n",
    "We will use arrays to Define a Model. It will create a large problem dynamically.\n",
    "\n",
    "The constraints are linear - this is just a linear optimization problem in which the solutions are required to be integers. "
   ]
  },
  {
   "cell_type": "code",
   "execution_count": 5,
   "metadata": {},
   "outputs": [],
   "source": [
    "import docplex.mp\n",
    "\n",
    "# first import the Model class from docplex.mp\n",
    "from docplex.mp.model import Model\n",
    "from docplex.mp.linear import LinearExpr\n",
    "\n",
    "def create_data_model():\n",
    "  \"\"\"Stores the data for the problem.\"\"\"\n",
    "  data = {}\n",
    "  data['constraint_coeffs'] = [\n",
    "      [5, 7, 9, 2, 1],\n",
    "      [18, 4, -9, 10, 12],\n",
    "      [4, 7, 3, 8, 5],\n",
    "      [5, 13, 16, 3, -7],\n",
    "  ]\n",
    "  data['bounds'] = [250, 285, 211, 315]\n",
    "  data['obj_coeffs'] = [7, 8, 2, 9, 6]\n",
    "  data['num_vars'] = 5\n",
    "  data['num_constraints'] = 4\n",
    "  return data\n",
    "\n",
    "data = create_data_model()\n",
    "\n",
    "# create one model instance, with a name\n",
    "m = Model(name='AMC MIP Optimization-Dynamic')\n",
    "\n",
    "x = {}\n",
    "for i in range(data['num_vars']):\n",
    "    x[i] = m.integer_var(name='x_%i' % i)\n",
    "\n",
    "for i in range(data['num_constraints']):\n",
    "    expr = LinearExpr(m)\n",
    "    for j in range(data['num_vars']):\n",
    "      expr.add(data['constraint_coeffs'][i][j] * x[j])\n",
    "    m.add_constraint(expr <= data['bounds'][i])\n",
    "\n",
    "\n",
    "expr = LinearExpr(m)\n",
    "for i in range(data['num_vars']):\n",
    "    expr.add(x[i] * data['obj_coeffs'][i])\n",
    "\n",
    "m.maximize(expr)\n",
    "\n",
    "result = m.solve()"
   ]
  },
  {
   "cell_type": "code",
   "execution_count": 6,
   "metadata": {},
   "outputs": [
    {
     "name": "stdout",
     "output_type": "stream",
     "text": [
      "solution for: AMC MIP Optimization-Dynamic\n",
      "objective: 260\n",
      "x_0=8\n",
      "x_1=21\n",
      "x_3=2\n",
      "x_4=3\n",
      "\n"
     ]
    }
   ],
   "source": [
    "print(result)"
   ]
  },
  {
   "cell_type": "code",
   "execution_count": 7,
   "metadata": {},
   "outputs": [
    {
     "data": {
      "text/plain": [
       "'102-MIP Optimization Problem.lp'"
      ]
     },
     "execution_count": 7,
     "metadata": {},
     "output_type": "execute_result"
    }
   ],
   "source": [
    "m.export_as_lp(path='102-MIP Optimization Problem.lp')"
   ]
  },
  {
   "cell_type": "code",
   "execution_count": null,
   "metadata": {},
   "outputs": [],
   "source": []
  }
 ],
 "metadata": {
  "kernelspec": {
   "display_name": "Python 3",
   "language": "python",
   "name": "python3"
  },
  "language_info": {
   "codemirror_mode": {
    "name": "ipython",
    "version": 3
   },
   "file_extension": ".py",
   "mimetype": "text/x-python",
   "name": "python",
   "nbconvert_exporter": "python",
   "pygments_lexer": "ipython3",
   "version": "3.7.9"
  }
 },
 "nbformat": 4,
 "nbformat_minor": 4
}
