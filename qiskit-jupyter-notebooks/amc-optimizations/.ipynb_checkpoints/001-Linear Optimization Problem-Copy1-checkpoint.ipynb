{
 "cells": [
  {
   "cell_type": "markdown",
   "metadata": {},
   "source": [
    "# Linear Optimization\n",
    "Both Objective Function and Constraints are linear"
   ]
  },
  {
   "cell_type": "code",
   "execution_count": 1,
   "metadata": {},
   "outputs": [],
   "source": [
    "import sys\n",
    "import docplex.mp\n",
    "import random\n",
    "\n",
    "# first import the Model class from docplex.mp\n",
    "from docplex.mp.model import Model"
   ]
  },
  {
   "cell_type": "code",
   "execution_count": null,
   "metadata": {},
   "outputs": [],
   "source": [
    "# create one model instance, with a name\n",
    "m = Model(name='AMC Linear Optimization')\n",
    "\n",
    "# by default, all variables in Docplex have a lower bound of 0 and infinite upper bound\n",
    "x1 = m.continuous_var(name='x1')\n",
    "x2 = m.continuous_var(name='x2')\n",
    "x3 = m.continuous_var(name='x3')\n",
    "# write constraints\n",
    "m.add_constraint(x1 + 2 * x2 - x3 <= 24.0)\n",
    "m.add_constraint(x1 + x2 + x3 >= 15.0)\n",
    "m.add_constraint(x2 - x3 <= 5.0)\n",
    "\n",
    "m.maximize(2 * x1 + 3 * x2 - 6*x3)"
   ]
  },
  {
   "cell_type": "code",
   "execution_count": 70,
   "metadata": {},
   "outputs": [],
   "source": [
    "def getLinearExpression(model, variableList, coeffList):\n",
    "    from docplex.mp.linear import LinearExpr\n",
    "    lnExpr = LinearExpr(model)\n",
    "    if len(coeffList)>0:\n",
    "        count=0\n",
    "        for var in variableList:\n",
    "            lnExpr.add(coeffList[count]*var)\n",
    "            count=count+1\n",
    "    else:\n",
    "        for var in variableList:\n",
    "            lnExpr.add(var)\n",
    "        \n",
    "    return (lnExpr)\n",
    "\n",
    "def get_generic_MILP(num_binaryVars, num_continuousVars):\n",
    "    # construct model using docplex\n",
    "    m = Model('AMC Linear Optimization for 3ADMM-H')\n",
    "\n",
    "    if num_binaryVars < 1 or num_continuousVars < 1:\n",
    "        print('Both the Binary Variables and Continuous Variables should be at least 1')\n",
    "        print('Using 1 binary variable and 1 continuous variable')\n",
    "        num_binaryVars=1\n",
    "        num_continuousVars=1\n",
    "        \n",
    "    constraints = 1\n",
    "    binary_size = num_binaryVars\n",
    "    size = num_continuousVars\n",
    "    if (int)((num_binaryVars+num_continuousVars)/3) > 1:\n",
    "        constraints = random.randint(1, (int)((2*num_binaryVars+num_continuousVars)/2.5))\n",
    "    x_vals = [random.randint(0,1) for i in range(binary_size)]\n",
    "    y_vals = [random.randint(0,1) for i in range(binary_size)]\n",
    "    u_vals = [random.randint(0,20) for i in range(size)]\n",
    "    xs = m.binary_var_list(binary_size, name='x')\n",
    "    ys = m.binary_var_list(binary_size, name='y')\n",
    "    us = m.continuous_var_list(size, name='u')\n",
    "\n",
    "    # Binary and Continuous variable must be separable in the objective\n",
    "    obj = m.sum([xs[i] for i in range(binary_size)]) + m.sum([ys[i] for i in range(binary_size)]) + m.sum([us[i] for i in range(size)])\n",
    "    m.minimize(obj)\n",
    "    for i in range(constraints):\n",
    "        xList = random.choices(range(binary_size), k = 3)  \n",
    "        yList = random.choices(range(binary_size), k = 2)  \n",
    "        uList = random.choices(range(size), k = 2)\n",
    "        variableList=[]\n",
    "        coeffList=[]\n",
    "        value=0\n",
    "        for i in xList:\n",
    "            variableList.append(xs[i])\n",
    "            coeff=random.randint(1,90)\n",
    "            coeffList.append(coeff)\n",
    "            value = value + coeff*x_vals[i]\n",
    "        for i in yList:\n",
    "            variableList.append(ys[i])\n",
    "            coeff=random.randint(1,90)\n",
    "            coeffList.append(coeff)\n",
    "            value = value + coeff*y_vals[i]\n",
    "        for i in uList:\n",
    "            variableList.append(us[i])\n",
    "            coeff=random.randint(1,90)\n",
    "            coeffList.append(coeff)\n",
    "            value = value + coeff*u_vals[i]\n",
    "\n",
    "        m.add_constraint(getLinearExpression(m,variableList,coeffList) == value, 'Constraint')\n",
    "    return(m)\n"
   ]
  },
  {
   "cell_type": "code",
   "execution_count": 71,
   "metadata": {},
   "outputs": [
    {
     "name": "stdout",
     "output_type": "stream",
     "text": [
      "Both the Binary Variables and Continuous Variables should be at least 1\n",
      "Using 1 binary variable and 1 continuous variable\n"
     ]
    }
   ],
   "source": [
    "binary_vars=0\n",
    "int_vars=0\n",
    "continuous_vars=0\n",
    "m = get_generic_MILP(binary_vars,continuous_vars)"
   ]
  },
  {
   "cell_type": "code",
   "execution_count": 72,
   "metadata": {},
   "outputs": [
    {
     "name": "stdout",
     "output_type": "stream",
     "text": [
      "Model: AMC Linear Optimization for 3ADMM-H\n",
      " - number of variables: 3\n",
      "   - binary=2, integer=0, continuous=1\n",
      " - number of constraints: 1\n",
      "   - linear=1\n",
      " - parameters: defaults\n",
      " - objective: minimize\n",
      " - problem type is: MILP\n"
     ]
    }
   ],
   "source": [
    "m.print_information()"
   ]
  },
  {
   "cell_type": "code",
   "execution_count": 73,
   "metadata": {},
   "outputs": [
    {
     "name": "stdout",
     "output_type": "stream",
     "text": [
      "\\ This file has been generated by DOcplex\n",
      "\\ ENCODING=ISO-8859-1\n",
      "\\Problem name: AMC Linear Optimization for 3ADMM-H\n",
      "\n",
      "Minimize\n",
      " obj: x_0 + y_0 + u_0\n",
      "Subject To\n",
      " Constraint: 83 x_0 + 58 y_0 + 32 u_0 = 576\n",
      "\n",
      "Bounds\n",
      " 0 <= x_0 <= 1\n",
      " 0 <= y_0 <= 1\n",
      "\n",
      "Binaries\n",
      " x_0 y_0\n",
      "End\n",
      "\n"
     ]
    }
   ],
   "source": [
    "print(m.export_as_lp_string())"
   ]
  },
  {
   "cell_type": "code",
   "execution_count": 75,
   "metadata": {},
   "outputs": [
    {
     "data": {
      "text/plain": [
       "'..\\\\problemFiles\\\\001-Linear Optimization Problem-MILP-B002-C001-348085.lp'"
      ]
     },
     "execution_count": 75,
     "metadata": {},
     "output_type": "execute_result"
    }
   ],
   "source": [
    "from docplex.mp.constants import int_probtype_to_string\n",
    "filename='..\\\\problemFiles\\\\001-Linear Optimization Problem-'\n",
    "varText=''\n",
    "if m.number_of_binary_variables>0:\n",
    "    varText='B%03d'%(m.number_of_binary_variables)+'-'\n",
    "if m.number_of_integer_variables>0:    \n",
    "    varText=varText+'I%03d'%(m.number_of_integer_variables)+'-'\n",
    "if m.number_of_continuous_variables>0:    \n",
    "    varText=varText+'C%03d'%(m.number_of_continuous_variables)+'-'\n",
    "cpx = m.get_cplex(do_raise=False)\n",
    "if cpx:\n",
    "    cpx_probtype = cpx.get_problem_type()\n",
    "    filename=filename+int_probtype_to_string(cpx_probtype)+'-'\n",
    "\n",
    "filename=filename+varText+str(random.randint(122100,999999))\n",
    "m.export_as_lp(filename)"
   ]
  },
  {
   "cell_type": "code",
   "execution_count": null,
   "metadata": {},
   "outputs": [],
   "source": []
  }
 ],
 "metadata": {
  "kernelspec": {
   "display_name": "Python 3",
   "language": "python",
   "name": "python3"
  },
  "language_info": {
   "codemirror_mode": {
    "name": "ipython",
    "version": 3
   },
   "file_extension": ".py",
   "mimetype": "text/x-python",
   "name": "python",
   "nbconvert_exporter": "python",
   "pygments_lexer": "ipython3",
   "version": "3.7.9"
  }
 },
 "nbformat": 4,
 "nbformat_minor": 4
}
