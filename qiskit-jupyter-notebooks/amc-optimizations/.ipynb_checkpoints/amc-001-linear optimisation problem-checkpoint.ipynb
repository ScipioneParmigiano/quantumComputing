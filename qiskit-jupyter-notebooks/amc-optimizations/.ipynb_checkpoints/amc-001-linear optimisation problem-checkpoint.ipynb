{
 "cells": [
  {
   "cell_type": "markdown",
   "metadata": {},
   "source": [
    "## Use decision optimization"
   ]
  },
  {
   "cell_type": "code",
   "execution_count": 1,
   "metadata": {},
   "outputs": [],
   "source": [
    "import sys\n",
    "import docplex.mp"
   ]
  },
  {
   "cell_type": "markdown",
   "metadata": {},
   "source": [
    "### Step 2: Model the data\n",
    "\n",
    "The input data is the number of objects (and boxes) _N_, and their positions in the (x,y) plane.\n",
    "\n",
    "### Step 3: Prepare the data\n",
    "\n",
    "We use Euclidean distance to compute the distance between an object and its assigned box.\n",
    "\n"
   ]
  },
  {
   "cell_type": "code",
   "execution_count": 3,
   "metadata": {},
   "outputs": [
    {
     "name": "stdout",
     "output_type": "stream",
     "text": [
      "* system is: Windows 64bit\n",
      "* Python version 3.7.9, located at: E:\\DevelopmentEnvironments\\Anaconda3\\envs\\optimization\\python.exe\n",
      "* docplex is present, version is 2.19.202\n",
      "* CPLEX library is present, version is 12.10.0.0, located at: C:\\Program Files\\IBM\\ILOG\\CPLEX_Studio_Community1210\\cplex\\python\\3.7\\x64_win64\n",
      "* pandas is not available\n"
     ]
    }
   ],
   "source": [
    "from math import sqrt\n",
    "\n",
    "N = 3\n",
    "var_range = range(1, N)\n",
    "from docplex.mp.environment import Environment\n",
    "env = Environment()\n",
    "env.print_information()"
   ]
  },
  {
   "cell_type": "markdown",
   "metadata": {},
   "source": [
    "#### Create the DOcplex model\n",
    "The model contains all the business constraints and defines the objective."
   ]
  },
  {
   "cell_type": "code",
   "execution_count": 5,
   "metadata": {},
   "outputs": [],
   "source": [
    "from docplex.mp.model import Model\n",
    "mdl = Model(\"Linear Optimization\")"
   ]
  },
  {
   "cell_type": "code",
   "execution_count": 7,
   "metadata": {},
   "outputs": [],
   "source": [
    "costs = [\n",
    "    [90, 80, 75, 70],\n",
    "    [35, 85, 55, 65],\n",
    "    [125, 95, 90, 95],\n",
    "    [45, 110, 95, 115],\n",
    "    [50, 100, 90, 100],\n",
    "]\n",
    "num_workers = len(costs)\n",
    "num_tasks = len(costs[0])\n",
    "# Variables\n",
    "# x[i, j] is an array of 0-1 variables, which will be 1\n",
    "# if worker i is assigned to task j.\n",
    "x = {}\n",
    "for i in range(num_workers):\n",
    "    for j in range(num_tasks):\n",
    "        x[i, j] = mdl.binary_var(name=\"x_%d_%d\" %(i, j))\n",
    "\n",
    "# Constraints\n",
    "# Each worker is assigned to at most 1 task.\n",
    "for i in range(num_workers):\n",
    "    mdl.add_constraints(mdl.sum([x[i, j] for j in range(num_tasks)]) <= 1)\n",
    "\n",
    "# Each task is assigned to exactly one worker.\n",
    "for j in range(num_tasks):\n",
    "    mdl.add_constraints(mdl.sum([x[i, j] for i in range(num_workers)]) == 1)\n",
    "\n",
    "        "
   ]
  },
  {
   "cell_type": "markdown",
   "metadata": {},
   "source": [
    "#### Express the business constraints\n",
    "\n",
    "* The sum of $X_{i,j}$ over both rows and columns must be equal to $1$, resulting in $2\\times N$ constraints."
   ]
  },
  {
   "cell_type": "code",
   "execution_count": 6,
   "metadata": {},
   "outputs": [
    {
     "name": "stdout",
     "output_type": "stream",
     "text": [
      "Model: boxes\n",
      " - number of variables: 225\n",
      "   - binary=225, integer=0, continuous=0\n",
      " - number of constraints: 30\n",
      "   - linear=30\n",
      " - parameters: defaults\n",
      " - objective: none\n",
      " - problem type is: MILP\n"
     ]
    }
   ],
   "source": [
    "# one object per box\n",
    "mdl.add_constraints(mdl.sum(x[i,j] for j in obj_range) == 1\n",
    "                   for i in box_range)\n",
    "    \n",
    "# one box for each object\n",
    "mdl.add_constraints(mdl.sum(x[i,j] for i in box_range) == 1\n",
    "                  for j in obj_range)\n",
    "\n",
    "mdl.print_information()"
   ]
  },
  {
   "cell_type": "markdown",
   "metadata": {},
   "source": [
    "#### Express the objective\n",
    "\n",
    "* The objective is to minimize the total distance between each object and its storage box."
   ]
  },
  {
   "cell_type": "code",
   "execution_count": 7,
   "metadata": {},
   "outputs": [],
   "source": [
    "# minimize total displacement\n",
    "mdl.minimize( mdl.sum(distances[i,j] * x[i,j] for i in box_range for j in obj_range) )"
   ]
  },
  {
   "cell_type": "code",
   "execution_count": 9,
   "metadata": {},
   "outputs": [
    {
     "data": {
      "text/plain": [
       "'abc.lp'"
      ]
     },
     "execution_count": 9,
     "metadata": {},
     "output_type": "execute_result"
    }
   ],
   "source": [
    "mdl.export_as_lp(path='abc.lp')"
   ]
  },
  {
   "cell_type": "markdown",
   "metadata": {},
   "source": [
    "#### Solve the model\n"
   ]
  },
  {
   "cell_type": "code",
   "execution_count": null,
   "metadata": {
    "scrolled": true
   },
   "outputs": [],
   "source": [
    "mdl.print_information()\n",
    "\n",
    "assert mdl.solve(), \"!!! Solve of the model fails\""
   ]
  },
  {
   "cell_type": "code",
   "execution_count": null,
   "metadata": {},
   "outputs": [],
   "source": [
    "mdl.report()\n",
    "d1 = mdl.objective_value\n",
    "#mdl.print_solution()\n",
    "\n",
    "def make_solution_vector(x_vars):\n",
    "    sol = [0]* N\n",
    "    for i in box_range:\n",
    "        for j in obj_range:\n",
    "            if x[i,j].solution_value >= 0.5:\n",
    "                sol[i-1] = j\n",
    "                break\n",
    "    return sol\n",
    "\n",
    "def make_obj_box_dir(sol_vec):\n",
    "    # sol_vec contains an array of objects in box order at slot b-1 we have obj(b)\n",
    "    return { sol_vec[b]: b+1 for b in range(N)}\n",
    "    \n",
    "               \n",
    "sol1 = make_solution_vector(x)\n",
    "print(\"* solution: {0!s}\".format(sol1))          "
   ]
  },
  {
   "cell_type": "markdown",
   "metadata": {},
   "source": [
    "#### Additional constraint #1\n",
    "\n",
    "As an additional constraint, we want to impose that object #1 is stored immediately to the left of object #2.\n",
    "As a consequence, object #2 cannot be stored in box #1, so we add:"
   ]
  },
  {
   "cell_type": "code",
   "execution_count": null,
   "metadata": {},
   "outputs": [],
   "source": [
    "mdl.add_constraint(x[1,2] == 0)"
   ]
  },
  {
   "cell_type": "markdown",
   "metadata": {},
   "source": [
    "Now, we must state that for $k \\geq 2$ if $x[k,2] == 1$ then $x[k-1,1] == 1$; this is a logical implication that we express by a relational operator:"
   ]
  },
  {
   "cell_type": "code",
   "execution_count": null,
   "metadata": {},
   "outputs": [],
   "source": [
    "mdl.add_constraints(x[k-1,1] >= x[k,2]\n",
    "                   for k in range(2,N+1))\n",
    "mdl.print_information()"
   ]
  },
  {
   "cell_type": "markdown",
   "metadata": {},
   "source": [
    "Now let's solve again and check that our new constraint is satisfied, that is, object #1 is immediately left to object #2"
   ]
  },
  {
   "cell_type": "code",
   "execution_count": null,
   "metadata": {},
   "outputs": [],
   "source": [
    "ok2 = mdl.solve()\n",
    "assert ok2, \"solve failed\"\n",
    "mdl.report()\n",
    "d2 = mdl.objective_value\n",
    "sol2 = make_solution_vector(x)\n",
    "print(\" solution #2 ={0!s}\".format(sol2))"
   ]
  },
  {
   "cell_type": "markdown",
   "metadata": {},
   "source": [
    "The constraint is indeed satisfied, with a higher objective, as expected."
   ]
  },
  {
   "cell_type": "markdown",
   "metadata": {},
   "source": [
    "#### Additional constraint #2\n",
    "\n",
    "Now, we want to add a second constraint to state that object #5 is stored in a box that is next to the box of object #6, either to the left or right.\n",
    "\n",
    "In other words, when $x[k,6]$ is equal to $1$, then one of $x[k-1,5]$ and $x[k+1,5]$ is equal to $1$;\n",
    "this is again a logical implication, with an OR in the right side.\n",
    "\n",
    "We have to handle the case of extremities with care."
   ]
  },
  {
   "cell_type": "code",
   "execution_count": null,
   "metadata": {},
   "outputs": [],
   "source": [
    "# forall k in 2..N-1 then we can use the sum on the right hand side\n",
    "mdl.add_constraints(x[k,6] <= x[k-1,5] + x[k+1,5]\n",
    "                  for k in range(2,N))\n",
    "    \n",
    "# if 6 is in box 1 then 5 must be in 2\n",
    "mdl.add_constraint(x[1,6] <= x[2,5])\n",
    "\n",
    "# if 6 is last, then 5 must be before last\n",
    "mdl.add_constraint(x[N,6] <= x[N-1,5])\n",
    "\n",
    "# we solve again\n",
    "ok3 = mdl.solve()\n",
    "assert ok3, \"solve failed\"\n",
    "mdl.report()\n",
    "d3 = mdl.objective_value\n",
    "\n",
    "sol3 = make_solution_vector(x)\n",
    "print(\" solution #3 ={0!s}\".format(sol3)) "
   ]
  },
  {
   "cell_type": "markdown",
   "metadata": {},
   "source": [
    "As expected, the constraint is satisfied; objects #5 and #6 are next to each other.\n",
    "Predictably, the objective is higher.\n",
    "\n",
    "### Step 5: Investigate the solution and then run an example analysis\n",
    "\n",
    "Present the solution as a vector of object indices, sorted by box indices.\n",
    "We use maptplotlib to display the assignment of objects to boxes.\n"
   ]
  },
  {
   "cell_type": "code",
   "execution_count": null,
   "metadata": {},
   "outputs": [],
   "source": [
    "import matplotlib.pyplot as plt\n",
    "from pylab import rcParams\n",
    "%matplotlib inline\n",
    "rcParams['figure.figsize'] = 12, 6\n",
    "\n",
    "def display_solution(sol):\n",
    "    obj_boxes = make_obj_box_dir(sol)\n",
    "    xs = []\n",
    "    ys = []\n",
    "    for o in obj_range:\n",
    "        b = obj_boxes[o]\n",
    "        box_x = box_coords[b][0]\n",
    "        box_y = box_coords[b][1]\n",
    "        obj_x = obj_coords[o][0]\n",
    "        obj_y = obj_coords[o][1]\n",
    "        plt.text(obj_x, obj_y, str(o), bbox=dict(facecolor='red', alpha=0.5))\n",
    "        plt.plot([obj_x, box_x], [obj_y, box_y])\n"
   ]
  },
  {
   "cell_type": "markdown",
   "metadata": {},
   "source": [
    "The first solution shows no segments crossing, which is to be expected."
   ]
  },
  {
   "cell_type": "code",
   "execution_count": null,
   "metadata": {},
   "outputs": [],
   "source": [
    "display_solution(sol1)"
   ]
  },
  {
   "cell_type": "markdown",
   "metadata": {},
   "source": [
    "The second solution, by enforcing that object #1 must be to the left of object #2, introduces crossings."
   ]
  },
  {
   "cell_type": "code",
   "execution_count": null,
   "metadata": {},
   "outputs": [],
   "source": [
    "display_solution(sol2)"
   ]
  },
  {
   "cell_type": "code",
   "execution_count": null,
   "metadata": {},
   "outputs": [],
   "source": [
    "display_solution(sol3)"
   ]
  },
  {
   "cell_type": "code",
   "execution_count": null,
   "metadata": {},
   "outputs": [],
   "source": [
    "\n",
    "def display(myDict, title):\n",
    "    if True: #env.has_matplotlib:\n",
    "        N = len(myDict)\n",
    "        labels = myDict.keys()\n",
    "        values= myDict.values()\n",
    "\n",
    "        try: # Python 2\n",
    "            ind = xrange(N)  # the x locations for the groups\n",
    "        except: # Python 3\n",
    "            ind = range(N)\n",
    "        width = 0.2      # the width of the bars\n",
    "\n",
    "        fig, ax = plt.subplots()\n",
    "        rects1 = ax.bar(ind, values, width, color='g')\t\n",
    "        ax.set_title(title)\n",
    "        ax.set_xticks([ind[i]+width/2 for i in ind])\n",
    "        ax.set_xticklabels( labels )\t\n",
    "        #ax.legend( (rects1[0]), (title) )\n",
    "\n",
    "        plt.show()\n",
    "    else:\n",
    "        print(\"warning: no display\")\n",
    "        \n",
    "from collections import OrderedDict\n",
    "dists = OrderedDict()\n",
    "dists[\"d1\"]= d1 -8000\n",
    "dists[\"d2\"] = d2 - 8000\n",
    "dists[\"d3\"] = d3 - 8000\n",
    "print(dists)\n",
    "\n",
    "display(dists, \"evolution of distance objective\")"
   ]
  },
  {
   "cell_type": "markdown",
   "metadata": {},
   "source": [
    "## Summary\n",
    "\n",
    "You learned how to set up and use IBM Decision Optimization CPLEX Modeling for Python to formulate a Mathematical Programming model and solve it with CPLEX."
   ]
  },
  {
   "cell_type": "markdown",
   "metadata": {},
   "source": [
    "## References\n",
    "* [CPLEX Modeling for Python documentation](http://ibmdecisionoptimization.github.io/docplex-doc/)\n",
    "* [Decision Optimization on Cloud](https://developer.ibm.com/docloud/)\n",
    "* Need help with DOcplex or to report a bug? Please go [here](https://stackoverflow.com/questions/tagged/docplex).\n",
    "* Contact us at dofeedback@wwpdl.vnet.ibm.com."
   ]
  },
  {
   "cell_type": "markdown",
   "metadata": {},
   "source": [
    "Copyright &copy; 2017-2019 IBM. IPLA licensed Sample Materials."
   ]
  },
  {
   "cell_type": "code",
   "execution_count": null,
   "metadata": {},
   "outputs": [],
   "source": []
  }
 ],
 "metadata": {
  "kernelspec": {
   "display_name": "Python 3",
   "language": "python",
   "name": "python3"
  },
  "language_info": {
   "codemirror_mode": {
    "name": "ipython",
    "version": 3
   },
   "file_extension": ".py",
   "mimetype": "text/x-python",
   "name": "python",
   "nbconvert_exporter": "python",
   "pygments_lexer": "ipython3",
   "version": "3.7.9"
  }
 },
 "nbformat": 4,
 "nbformat_minor": 4
}
