{
 "cells": [
  {
   "cell_type": "markdown",
   "metadata": {
    "render": true
   },
   "source": [
    "# Using logical constraints: Conway's Game of Life\n",
    "\n",
    "This tutorial includes everything you need to set up decision optimization engines, build a mathematical programming model, leveraging logical constraints.\n",
    "\n",
    "\n",
    "When you finish this tutorial, you'll have a foundational knowledge of _Prescriptive Analytics_.\n",
    "\n",
    ">This notebook is part of **[Prescriptive Analytics for Python](http://ibmdecisionoptimization.github.io/docplex-doc/)**\n",
    ">\n",
    ">It requires either an [installation of CPLEX Optimizers](http://ibmdecisionoptimization.github.io/docplex-doc/getting_started.html) or it can be run on [IBM Watson Studio Cloud](https://www.ibm.com/cloud/watson-studio/) (Sign up for a [free IBM Cloud account](https://dataplatform.cloud.ibm.com/registration/stepone?context=wdp&apps=all>)\n",
    "and you can start using Watson Studio Cloud right away).\n",
    "\n",
    "This model is greater than the size allowed in trial mode of CPLEX.\n",
    "\n",
    "\n",
    "Table of contents:\n",
    "\n",
    "-  [Describe the business problem](#Describe-the-business-problem:--Games-Scheduling-in-the-National-Football-League)\n",
    "*  [How decision optimization (prescriptive analytics) can help](#How--decision-optimization-can-help)\n",
    "*  [Use decision optimization](#Use-decision-optimization)\n",
    "    *  [Step 1: Import the library](#Step-1:-Import-the-library)\n",
    "    *  [Step 2: Set up the prescriptive model](#Step-2:-Set-up-the-prescriptive-model)\n",
    "    *  [Step 3: Solve the problem with default CPLEX algorithm](#Step-3:-Solve-the-problem-with-default-CPLEX-algorithm)\n",
    "*  [Summary](#Summary)\n",
    "****"
   ]
  },
  {
   "cell_type": "markdown",
   "metadata": {},
   "source": [
    "This example is demonstrating **Life Game from Robert Bosch and Michael Trick, CP 2001, CPAIOR 2002.** using CPLEX\n",
    "\n",
    "The original paper can be found [here](http://repository.cmu.edu/tepper/507)\n",
    "It is based on [Conway's Game of Life](https://en.wikipedia.org/wiki/Conway%27s_Game_of_Life) and is a basic integer program with birth constraints.\n",
    "\n",
    "To begin the game, the player places checkers on some of the cells of the board, creating an initial pattern.\n",
    "A cell with a checker in it is living and those without are dead.\n",
    "The pattern is then modified by applying the following rules over ad over abain.\n",
    "* If a cell has exactly two living neighbors, then its state remain the same in the new pattern (if living, it remains living, if dead it remains dead).\n",
    "* If a cell has exactly three living neightbors, then it is living in the next pattern. This is a birth condition.\n",
    "* If a cell has fewer than 2 or more than 3 living neighbors, then it is dead in the next pattern. These are the death by isolation and death by overcrowding conditions reespectively.\n"
   ]
  },
  {
   "cell_type": "markdown",
   "metadata": {
    "render": true
   },
   "source": [
    "## How  decision optimization can help\n",
    "\n",
    "* Prescriptive analytics (decision optimization) technology recommends actions that are based on desired outcomes.  It takes into account specific scenarios, resources, and knowledge of past and current events. With this insight, your organization can make better decisions and have greater control of business outcomes.  \n",
    "\n",
    "* Prescriptive analytics is the next step on the path to insight-based actions. It creates value through synergy with predictive analytics, which analyzes data to predict future outcomes.  \n",
    "\n",
    "* Prescriptive analytics takes that insight to the next level by suggesting the optimal way to handle that future situation. Organizations that can act fast in dynamic conditions and make superior decisions in uncertain environments gain a strong competitive advantage.  \n",
    "<br/>\n",
    "\n",
    "<u>With prescriptive analytics, you can:</u> \n",
    "\n",
    "* Automate the complex decisions and trade-offs to better manage your limited resources.\n",
    "* Take advantage of a future opportunity or mitigate a future risk.\n",
    "* Proactively update recommendations based on changing events.\n",
    "* Meet operational goals, increase customer loyalty, prevent threats and fraud, and optimize business processes.\n",
    "\n"
   ]
  },
  {
   "cell_type": "markdown",
   "metadata": {},
   "source": [
    "## Use decision optimization"
   ]
  },
  {
   "cell_type": "markdown",
   "metadata": {},
   "source": [
    "### Step 1: Import the library\n",
    "\n",
    "Run the following code to import Decision Optimization CPLEX Modeling library.  The *DOcplex* library contains the two modeling packages, Mathematical Programming and Constraint Programming, referred to earlier."
   ]
  },
  {
   "cell_type": "code",
   "execution_count": 1,
   "metadata": {},
   "outputs": [],
   "source": [
    "import sys\n",
    "try:\n",
    "    import docplex.mp\n",
    "except:\n",
    "    raise Exception('Please install docplex. See https://pypi.org/project/docplex/')"
   ]
  },
  {
   "cell_type": "markdown",
   "metadata": {},
   "source": [
    "A restart of the kernel might be needed if you updated docplex."
   ]
  },
  {
   "cell_type": "markdown",
   "metadata": {
    "render": true
   },
   "source": [
    "### Step 2: Set up the prescriptive model"
   ]
  },
  {
   "cell_type": "code",
   "execution_count": 2,
   "metadata": {},
   "outputs": [],
   "source": [
    "from docplex.mp.model import Model\n",
    "import math\n",
    "\n",
    "from collections import namedtuple\n",
    "\n",
    "Tdv = namedtuple('Tdv', ['dx', 'dy'])\n",
    "\n",
    "neighbors = [Tdv(i, j) for i in (-1, 0, 1) for j in (-1, 0, 1) if i or j]\n",
    "\n",
    "assert len(neighbors) == 8"
   ]
  },
  {
   "cell_type": "code",
   "execution_count": 3,
   "metadata": {},
   "outputs": [],
   "source": [
    "n = 6"
   ]
  },
  {
   "cell_type": "code",
   "execution_count": 4,
   "metadata": {},
   "outputs": [],
   "source": [
    "assert Model.supports_logical_constraints(), \"This model requires logical constraints cplex.version must be 12.80 or higher\"\n"
   ]
  },
  {
   "cell_type": "code",
   "execution_count": 5,
   "metadata": {},
   "outputs": [],
   "source": [
    "lm = Model(name='game_of_life_{0}'.format(n))\n",
    "border = range(0, n + 2)\n",
    "inside = range(1, n + 1)\n",
    "\n",
    "# one binary var per cell\n",
    "life = lm.binary_var_matrix(border, border, name=lambda rc: 'life_%d_%d' % rc)\n",
    "\n",
    "# store sum of alive neighbors for interior cells\n",
    "sum_of_neighbors = {(i, j): lm.sum(life[i + n.dx, j + n.dy] for n in neighbors) for i in inside for j in inside}\n",
    "\n",
    "# all borderline cells are dead\n",
    "for j in border:\n",
    "    life[0, j].ub = 0\n",
    "    life[j, 0].ub = 0\n",
    "    life[j, n + 1].ub = 0\n",
    "    life[n + 1, j].ub = 0\n"
   ]
  },
  {
   "cell_type": "markdown",
   "metadata": {},
   "source": [
    "The sum of alive neighbors for an alive cell is greater than 2"
   ]
  },
  {
   "cell_type": "code",
   "execution_count": 6,
   "metadata": {},
   "outputs": [],
   "source": [
    "for i in inside:\n",
    "    for j in inside:\n",
    "        lm.add(2 * life[i, j] <= sum_of_neighbors[i, j])"
   ]
  },
  {
   "cell_type": "markdown",
   "metadata": {},
   "source": [
    "The sum of alive neighbors for an alive cell is less than 3"
   ]
  },
  {
   "cell_type": "code",
   "execution_count": 7,
   "metadata": {},
   "outputs": [],
   "source": [
    "for i in inside:\n",
    "    for j in inside:\n",
    "        lm.add(5 * life[i, j] + sum_of_neighbors[i, j] <= 8)"
   ]
  },
  {
   "cell_type": "markdown",
   "metadata": {},
   "source": [
    "For a dead cell, the sum of alive neighbors cannot be 3"
   ]
  },
  {
   "cell_type": "code",
   "execution_count": 8,
   "metadata": {},
   "outputs": [],
   "source": [
    "for i in inside:\n",
    "    for j in inside:\n",
    "        ct3 = sum_of_neighbors[i, j] == 3\n",
    "        lm.add(ct3 <= life[i, j])  # use logical cts here"
   ]
  },
  {
   "cell_type": "markdown",
   "metadata": {},
   "source": [
    "Satisfy the 'no 3 alive neighbors for extreme rows, columns"
   ]
  },
  {
   "cell_type": "code",
   "execution_count": 9,
   "metadata": {},
   "outputs": [],
   "source": [
    "for i in border:\n",
    "    if i < n:\n",
    "        for d in [1, n]:\n",
    "            lm.add(life[i, d] + life[i + 1, d] + life[i + 2, d] <= 2)\n",
    "            lm.add(life[d, i] + life[d, i + 1] + life[d, i + 2] <= 2)"
   ]
  },
  {
   "cell_type": "markdown",
   "metadata": {},
   "source": [
    "Symmetry breaking"
   ]
  },
  {
   "cell_type": "code",
   "execution_count": 10,
   "metadata": {},
   "outputs": [
    {
     "data": {
      "text/plain": [
       "docplex.mp.LinearConstraint[](life_1_1+life_1_2+life_1_3+life_2_1+life_2_2+life_2_3+life_3_1+life_3_2+life_3_3+life_4_1+life_4_2+life_4_3+life_5_1+life_5_2+life_5_3+life_6_1+life_6_2+life_6_3,GE,life_1_4+life_1_5+life_2_4+life_2_5+life_3_4+life_3_5+life_4_4+life_4_5+life_5_4+life_5_5+life_6_4+life_6_5)"
      ]
     },
     "execution_count": 10,
     "metadata": {},
     "output_type": "execute_result"
    }
   ],
   "source": [
    "n2 = int(math.ceil(n/2))\n",
    "half1 = range(1, n2 + 1)\n",
    "half2 = range(n2 + 1, n)\n",
    "\n",
    "# there are more alive cells in left side\n",
    "lm.add(lm.sum(life[i1, j1] for i1 in half1 for j1 in inside) >= lm.sum(life[i2, j2] for i2 in half2 for j2 in inside))\n",
    "\n",
    "# there are more alive cells in upper side\n",
    "lm.add(lm.sum(life[i1, j1] for i1 in inside for j1 in half1) >= lm.sum(life[i2, j2] for i2 in inside for j2 in half2))"
   ]
  },
  {
   "cell_type": "markdown",
   "metadata": {},
   "source": [
    "Setting up the objective: find maximum number of alive cells"
   ]
  },
  {
   "cell_type": "code",
   "execution_count": 11,
   "metadata": {},
   "outputs": [],
   "source": [
    "lm.maximize(lm.sum(life))"
   ]
  },
  {
   "cell_type": "code",
   "execution_count": 12,
   "metadata": {},
   "outputs": [],
   "source": [
    "# add a dummy kpi\n",
    "nlines = lm.sum( (lm.sum(life[i,j] for j in inside) >= 1) for i in inside)\n",
    "lm.add_kpi(nlines, 'nlines')\n",
    "\n",
    "# parameters: branch up, use heusristics, emphasis on opt, threads free\n",
    "lm.parameters.mip.strategy.branch = 1\n",
    "lm.parameters.mip.strategy.heuristicfreq = 10\n",
    "lm.parameters.emphasis.mip = 2\n",
    "lm.parameters.threads = 0"
   ]
  },
  {
   "cell_type": "code",
   "execution_count": 13,
   "metadata": {},
   "outputs": [],
   "source": [
    "# store data items as fields\n",
    "lm.size = n\n",
    "lm.life = life\n"
   ]
  },
  {
   "cell_type": "code",
   "execution_count": 14,
   "metadata": {},
   "outputs": [],
   "source": [
    "border3 = range(1, lm.size-1, 3)\n",
    "life_vars = lm.life\n",
    "vvmap = {}\n",
    "for i in border3:\n",
    "    for j in border3:\n",
    "        vvmap[life_vars[i, j]] = 1\n",
    "        vvmap[life_vars[i+1, j]] = 1\n",
    "        vvmap[life_vars[i, j+1]] = 1\n",
    "        vvmap[life_vars[i+1, j+1]] = 1\n",
    "ini_s = lm.new_solution(vvmap)"
   ]
  },
  {
   "cell_type": "code",
   "execution_count": 15,
   "metadata": {},
   "outputs": [],
   "source": [
    "assert ini_s.is_valid_solution(), 'error in initial solution'"
   ]
  },
  {
   "cell_type": "code",
   "execution_count": 16,
   "metadata": {},
   "outputs": [],
   "source": [
    "lm.add_mip_start(ini_s)"
   ]
  },
  {
   "cell_type": "code",
   "execution_count": 18,
   "metadata": {},
   "outputs": [
    {
     "name": "stdout",
     "output_type": "stream",
     "text": [
      "\\ This file has been generated by DOcplex\n",
      "\\ ENCODING=ISO-8859-1\n",
      "\\Problem name: game_of_life_6\n",
      "\n",
      "Maximize\n",
      " obj: life_0_0 + life_0_1 + life_0_2 + life_0_3 + life_0_4 + life_0_5 + life_0_6\n",
      "      + life_0_7 + life_1_0 + life_1_1 + life_1_2 + life_1_3 + life_1_4\n",
      "      + life_1_5 + life_1_6 + life_1_7 + life_2_0 + life_2_1 + life_2_2\n",
      "      + life_2_3 + life_2_4 + life_2_5 + life_2_6 + life_2_7 + life_3_0\n",
      "      + life_3_1 + life_3_2 + life_3_3 + life_3_4 + life_3_5 + life_3_6\n",
      "      + life_3_7 + life_4_0 + life_4_1 + life_4_2 + life_4_3 + life_4_4\n",
      "      + life_4_5 + life_4_6 + life_4_7 + life_5_0 + life_5_1 + life_5_2\n",
      "      + life_5_3 + life_5_4 + life_5_5 + life_5_6 + life_5_7 + life_6_0\n",
      "      + life_6_1 + life_6_2 + life_6_3 + life_6_4 + life_6_5 + life_6_6\n",
      "      + life_6_7 + life_7_0 + life_7_1 + life_7_2 + life_7_3 + life_7_4\n",
      "      + life_7_5 + life_7_6 + life_7_7\n",
      "Subject To\n",
      " c1: 2 life_1_1 - life_0_0 - life_0_1 - life_0_2 - life_1_0 - life_1_2\n",
      "     - life_2_0 - life_2_1 - life_2_2 <= 0\n",
      " c2: 2 life_1_2 - life_0_1 - life_0_2 - life_0_3 - life_1_1 - life_1_3\n",
      "     - life_2_1 - life_2_2 - life_2_3 <= 0\n",
      " c3: 2 life_1_3 - life_0_2 - life_0_3 - life_0_4 - life_1_2 - life_1_4\n",
      "     - life_2_2 - life_2_3 - life_2_4 <= 0\n",
      " c4: 2 life_1_4 - life_0_3 - life_0_4 - life_0_5 - life_1_3 - life_1_5\n",
      "     - life_2_3 - life_2_4 - life_2_5 <= 0\n",
      " c5: 2 life_1_5 - life_0_4 - life_0_5 - life_0_6 - life_1_4 - life_1_6\n",
      "     - life_2_4 - life_2_5 - life_2_6 <= 0\n",
      " c6: 2 life_1_6 - life_0_5 - life_0_6 - life_0_7 - life_1_5 - life_1_7\n",
      "     - life_2_5 - life_2_6 - life_2_7 <= 0\n",
      " c7: 2 life_2_1 - life_1_0 - life_1_1 - life_1_2 - life_2_0 - life_2_2\n",
      "     - life_3_0 - life_3_1 - life_3_2 <= 0\n",
      " c8: 2 life_2_2 - life_1_1 - life_1_2 - life_1_3 - life_2_1 - life_2_3\n",
      "     - life_3_1 - life_3_2 - life_3_3 <= 0\n",
      " c9: 2 life_2_3 - life_1_2 - life_1_3 - life_1_4 - life_2_2 - life_2_4\n",
      "     - life_3_2 - life_3_3 - life_3_4 <= 0\n",
      " c10: 2 life_2_4 - life_1_3 - life_1_4 - life_1_5 - life_2_3 - life_2_5\n",
      "      - life_3_3 - life_3_4 - life_3_5 <= 0\n",
      " c11: 2 life_2_5 - life_1_4 - life_1_5 - life_1_6 - life_2_4 - life_2_6\n",
      "      - life_3_4 - life_3_5 - life_3_6 <= 0\n",
      " c12: 2 life_2_6 - life_1_5 - life_1_6 - life_1_7 - life_2_5 - life_2_7\n",
      "      - life_3_5 - life_3_6 - life_3_7 <= 0\n",
      " c13: 2 life_3_1 - life_2_0 - life_2_1 - life_2_2 - life_3_0 - life_3_2\n",
      "      - life_4_0 - life_4_1 - life_4_2 <= 0\n",
      " c14: 2 life_3_2 - life_2_1 - life_2_2 - life_2_3 - life_3_1 - life_3_3\n",
      "      - life_4_1 - life_4_2 - life_4_3 <= 0\n",
      " c15: 2 life_3_3 - life_2_2 - life_2_3 - life_2_4 - life_3_2 - life_3_4\n",
      "      - life_4_2 - life_4_3 - life_4_4 <= 0\n",
      " c16: 2 life_3_4 - life_2_3 - life_2_4 - life_2_5 - life_3_3 - life_3_5\n",
      "      - life_4_3 - life_4_4 - life_4_5 <= 0\n",
      " c17: 2 life_3_5 - life_2_4 - life_2_5 - life_2_6 - life_3_4 - life_3_6\n",
      "      - life_4_4 - life_4_5 - life_4_6 <= 0\n",
      " c18: 2 life_3_6 - life_2_5 - life_2_6 - life_2_7 - life_3_5 - life_3_7\n",
      "      - life_4_5 - life_4_6 - life_4_7 <= 0\n",
      " c19: 2 life_4_1 - life_3_0 - life_3_1 - life_3_2 - life_4_0 - life_4_2\n",
      "      - life_5_0 - life_5_1 - life_5_2 <= 0\n",
      " c20: 2 life_4_2 - life_3_1 - life_3_2 - life_3_3 - life_4_1 - life_4_3\n",
      "      - life_5_1 - life_5_2 - life_5_3 <= 0\n",
      " c21: 2 life_4_3 - life_3_2 - life_3_3 - life_3_4 - life_4_2 - life_4_4\n",
      "      - life_5_2 - life_5_3 - life_5_4 <= 0\n",
      " c22: 2 life_4_4 - life_3_3 - life_3_4 - life_3_5 - life_4_3 - life_4_5\n",
      "      - life_5_3 - life_5_4 - life_5_5 <= 0\n",
      " c23: 2 life_4_5 - life_3_4 - life_3_5 - life_3_6 - life_4_4 - life_4_6\n",
      "      - life_5_4 - life_5_5 - life_5_6 <= 0\n",
      " c24: 2 life_4_6 - life_3_5 - life_3_6 - life_3_7 - life_4_5 - life_4_7\n",
      "      - life_5_5 - life_5_6 - life_5_7 <= 0\n",
      " c25: 2 life_5_1 - life_4_0 - life_4_1 - life_4_2 - life_5_0 - life_5_2\n",
      "      - life_6_0 - life_6_1 - life_6_2 <= 0\n",
      " c26: 2 life_5_2 - life_4_1 - life_4_2 - life_4_3 - life_5_1 - life_5_3\n",
      "      - life_6_1 - life_6_2 - life_6_3 <= 0\n",
      " c27: 2 life_5_3 - life_4_2 - life_4_3 - life_4_4 - life_5_2 - life_5_4\n",
      "      - life_6_2 - life_6_3 - life_6_4 <= 0\n",
      " c28: 2 life_5_4 - life_4_3 - life_4_4 - life_4_5 - life_5_3 - life_5_5\n",
      "      - life_6_3 - life_6_4 - life_6_5 <= 0\n",
      " c29: 2 life_5_5 - life_4_4 - life_4_5 - life_4_6 - life_5_4 - life_5_6\n",
      "      - life_6_4 - life_6_5 - life_6_6 <= 0\n",
      " c30: 2 life_5_6 - life_4_5 - life_4_6 - life_4_7 - life_5_5 - life_5_7\n",
      "      - life_6_5 - life_6_6 - life_6_7 <= 0\n",
      " c31: 2 life_6_1 - life_5_0 - life_5_1 - life_5_2 - life_6_0 - life_6_2\n",
      "      - life_7_0 - life_7_1 - life_7_2 <= 0\n",
      " c32: 2 life_6_2 - life_5_1 - life_5_2 - life_5_3 - life_6_1 - life_6_3\n",
      "      - life_7_1 - life_7_2 - life_7_3 <= 0\n",
      " c33: 2 life_6_3 - life_5_2 - life_5_3 - life_5_4 - life_6_2 - life_6_4\n",
      "      - life_7_2 - life_7_3 - life_7_4 <= 0\n",
      " c34: 2 life_6_4 - life_5_3 - life_5_4 - life_5_5 - life_6_3 - life_6_5\n",
      "      - life_7_3 - life_7_4 - life_7_5 <= 0\n",
      " c35: 2 life_6_5 - life_5_4 - life_5_5 - life_5_6 - life_6_4 - life_6_6\n",
      "      - life_7_4 - life_7_5 - life_7_6 <= 0\n",
      " c36: 2 life_6_6 - life_5_5 - life_5_6 - life_5_7 - life_6_5 - life_6_7\n",
      "      - life_7_5 - life_7_6 - life_7_7 <= 0\n",
      " c37: life_0_0 + life_0_1 + life_0_2 + life_1_0 + 5 life_1_1 + life_1_2\n",
      "      + life_2_0 + life_2_1 + life_2_2 <= 8\n",
      " c38: life_0_1 + life_0_2 + life_0_3 + life_1_1 + 5 life_1_2 + life_1_3\n",
      "      + life_2_1 + life_2_2 + life_2_3 <= 8\n",
      " c39: life_0_2 + life_0_3 + life_0_4 + life_1_2 + 5 life_1_3 + life_1_4\n",
      "      + life_2_2 + life_2_3 + life_2_4 <= 8\n",
      " c40: life_0_3 + life_0_4 + life_0_5 + life_1_3 + 5 life_1_4 + life_1_5\n",
      "      + life_2_3 + life_2_4 + life_2_5 <= 8\n",
      " c41: life_0_4 + life_0_5 + life_0_6 + life_1_4 + 5 life_1_5 + life_1_6\n",
      "      + life_2_4 + life_2_5 + life_2_6 <= 8\n",
      " c42: life_0_5 + life_0_6 + life_0_7 + life_1_5 + 5 life_1_6 + life_1_7\n",
      "      + life_2_5 + life_2_6 + life_2_7 <= 8\n",
      " c43: life_1_0 + life_1_1 + life_1_2 + life_2_0 + 5 life_2_1 + life_2_2\n",
      "      + life_3_0 + life_3_1 + life_3_2 <= 8\n",
      " c44: life_1_1 + life_1_2 + life_1_3 + life_2_1 + 5 life_2_2 + life_2_3\n",
      "      + life_3_1 + life_3_2 + life_3_3 <= 8\n",
      " c45: life_1_2 + life_1_3 + life_1_4 + life_2_2 + 5 life_2_3 + life_2_4\n",
      "      + life_3_2 + life_3_3 + life_3_4 <= 8\n",
      " c46: life_1_3 + life_1_4 + life_1_5 + life_2_3 + 5 life_2_4 + life_2_5\n",
      "      + life_3_3 + life_3_4 + life_3_5 <= 8\n",
      " c47: life_1_4 + life_1_5 + life_1_6 + life_2_4 + 5 life_2_5 + life_2_6\n",
      "      + life_3_4 + life_3_5 + life_3_6 <= 8\n",
      " c48: life_1_5 + life_1_6 + life_1_7 + life_2_5 + 5 life_2_6 + life_2_7\n",
      "      + life_3_5 + life_3_6 + life_3_7 <= 8\n",
      " c49: life_2_0 + life_2_1 + life_2_2 + life_3_0 + 5 life_3_1 + life_3_2\n",
      "      + life_4_0 + life_4_1 + life_4_2 <= 8\n",
      " c50: life_2_1 + life_2_2 + life_2_3 + life_3_1 + 5 life_3_2 + life_3_3\n",
      "      + life_4_1 + life_4_2 + life_4_3 <= 8\n",
      " c51: life_2_2 + life_2_3 + life_2_4 + life_3_2 + 5 life_3_3 + life_3_4\n",
      "      + life_4_2 + life_4_3 + life_4_4 <= 8\n",
      " c52: life_2_3 + life_2_4 + life_2_5 + life_3_3 + 5 life_3_4 + life_3_5\n",
      "      + life_4_3 + life_4_4 + life_4_5 <= 8\n",
      " c53: life_2_4 + life_2_5 + life_2_6 + life_3_4 + 5 life_3_5 + life_3_6\n",
      "      + life_4_4 + life_4_5 + life_4_6 <= 8\n",
      " c54: life_2_5 + life_2_6 + life_2_7 + life_3_5 + 5 life_3_6 + life_3_7\n",
      "      + life_4_5 + life_4_6 + life_4_7 <= 8\n",
      " c55: life_3_0 + life_3_1 + life_3_2 + life_4_0 + 5 life_4_1 + life_4_2\n",
      "      + life_5_0 + life_5_1 + life_5_2 <= 8\n",
      " c56: life_3_1 + life_3_2 + life_3_3 + life_4_1 + 5 life_4_2 + life_4_3\n",
      "      + life_5_1 + life_5_2 + life_5_3 <= 8\n",
      " c57: life_3_2 + life_3_3 + life_3_4 + life_4_2 + 5 life_4_3 + life_4_4\n",
      "      + life_5_2 + life_5_3 + life_5_4 <= 8\n",
      " c58: life_3_3 + life_3_4 + life_3_5 + life_4_3 + 5 life_4_4 + life_4_5\n",
      "      + life_5_3 + life_5_4 + life_5_5 <= 8\n",
      " c59: life_3_4 + life_3_5 + life_3_6 + life_4_4 + 5 life_4_5 + life_4_6\n",
      "      + life_5_4 + life_5_5 + life_5_6 <= 8\n",
      " c60: life_3_5 + life_3_6 + life_3_7 + life_4_5 + 5 life_4_6 + life_4_7\n",
      "      + life_5_5 + life_5_6 + life_5_7 <= 8\n",
      " c61: life_4_0 + life_4_1 + life_4_2 + life_5_0 + 5 life_5_1 + life_5_2\n",
      "      + life_6_0 + life_6_1 + life_6_2 <= 8\n",
      " c62: life_4_1 + life_4_2 + life_4_3 + life_5_1 + 5 life_5_2 + life_5_3\n",
      "      + life_6_1 + life_6_2 + life_6_3 <= 8\n",
      " c63: life_4_2 + life_4_3 + life_4_4 + life_5_2 + 5 life_5_3 + life_5_4\n",
      "      + life_6_2 + life_6_3 + life_6_4 <= 8\n",
      " c64: life_4_3 + life_4_4 + life_4_5 + life_5_3 + 5 life_5_4 + life_5_5\n",
      "      + life_6_3 + life_6_4 + life_6_5 <= 8\n",
      " c65: life_4_4 + life_4_5 + life_4_6 + life_5_4 + 5 life_5_5 + life_5_6\n",
      "      + life_6_4 + life_6_5 + life_6_6 <= 8\n",
      " c66: life_4_5 + life_4_6 + life_4_7 + life_5_5 + 5 life_5_6 + life_5_7\n",
      "      + life_6_5 + life_6_6 + life_6_7 <= 8\n",
      " c67: life_5_0 + life_5_1 + life_5_2 + life_6_0 + 5 life_6_1 + life_6_2\n",
      "      + life_7_0 + life_7_1 + life_7_2 <= 8\n",
      " c68: life_5_1 + life_5_2 + life_5_3 + life_6_1 + 5 life_6_2 + life_6_3\n",
      "      + life_7_1 + life_7_2 + life_7_3 <= 8\n",
      " c69: life_5_2 + life_5_3 + life_5_4 + life_6_2 + 5 life_6_3 + life_6_4\n",
      "      + life_7_2 + life_7_3 + life_7_4 <= 8\n",
      " c70: life_5_3 + life_5_4 + life_5_5 + life_6_3 + 5 life_6_4 + life_6_5\n",
      "      + life_7_3 + life_7_4 + life_7_5 <= 8\n",
      " c71: life_5_4 + life_5_5 + life_5_6 + life_6_4 + 5 life_6_5 + life_6_6\n",
      "      + life_7_4 + life_7_5 + life_7_6 <= 8\n",
      " c72: life_5_5 + life_5_6 + life_5_7 + life_6_5 + 5 life_6_6 + life_6_7\n",
      "      + life_7_5 + life_7_6 + life_7_7 <= 8\n",
      " c73: _bool{life_0_0plife_0_1pli..} - life_1_1 <= 0\n",
      " c74: _bool{life_0_1plife_0_2pli..} - life_1_2 <= 0\n",
      " c75: _bool{life_0_2plife_0_3pli..} - life_1_3 <= 0\n",
      " c76: _bool{life_0_3plife_0_4pli..} - life_1_4 <= 0\n",
      " c77: _bool{life_0_4plife_0_5pli..} - life_1_5 <= 0\n",
      " c78: _bool{life_0_5plife_0_6pli..} - life_1_6 <= 0\n",
      " c79: _bool{life_1_0plife_1_1pli..} - life_2_1 <= 0\n",
      " c80: _bool{life_1_1plife_1_2pli..} - life_2_2 <= 0\n",
      " c81: _bool{life_1_2plife_1_3pli..} - life_2_3 <= 0\n",
      " c82: _bool{life_1_3plife_1_4pli..} - life_2_4 <= 0\n",
      " c83: _bool{life_1_4plife_1_5pli..} - life_2_5 <= 0\n",
      " c84: _bool{life_1_5plife_1_6pli..} - life_2_6 <= 0\n",
      " c85: _bool{life_2_0plife_2_1pli..} - life_3_1 <= 0\n",
      " c86: _bool{life_2_1plife_2_2pli..} - life_3_2 <= 0\n",
      " c87: _bool{life_2_2plife_2_3pli..} - life_3_3 <= 0\n",
      " c88: _bool{life_2_3plife_2_4pli..} - life_3_4 <= 0\n",
      " c89: _bool{life_2_4plife_2_5pli..} - life_3_5 <= 0\n",
      " c90: _bool{life_2_5plife_2_6pli..} - life_3_6 <= 0\n",
      " c91: _bool{life_3_0plife_3_1pli..} - life_4_1 <= 0\n",
      " c92: _bool{life_3_1plife_3_2pli..} - life_4_2 <= 0\n",
      " c93: _bool{life_3_2plife_3_3pli..} - life_4_3 <= 0\n",
      " c94: _bool{life_3_3plife_3_4pli..} - life_4_4 <= 0\n",
      " c95: _bool{life_3_4plife_3_5pli..} - life_4_5 <= 0\n",
      " c96: _bool{life_3_5plife_3_6pli..} - life_4_6 <= 0\n",
      " c97: _bool{life_4_0plife_4_1pli..} - life_5_1 <= 0\n",
      " c98: _bool{life_4_1plife_4_2pli..} - life_5_2 <= 0\n",
      " c99: _bool{life_4_2plife_4_3pli..} - life_5_3 <= 0\n",
      " c100: _bool{life_4_3plife_4_4pli..} - life_5_4 <= 0\n",
      " c101: _bool{life_4_4plife_4_5pli..} - life_5_5 <= 0\n",
      " c102: _bool{life_4_5plife_4_6pli..} - life_5_6 <= 0\n",
      " c103: _bool{life_5_0plife_5_1pli..} - life_6_1 <= 0\n",
      " c104: _bool{life_5_1plife_5_2pli..} - life_6_2 <= 0\n",
      " c105: _bool{life_5_2plife_5_3pli..} - life_6_3 <= 0\n",
      " c106: _bool{life_5_3plife_5_4pli..} - life_6_4 <= 0\n",
      " c107: _bool{life_5_4plife_5_5pli..} - life_6_5 <= 0\n",
      " c108: _bool{life_5_5plife_5_6pli..} - life_6_6 <= 0\n",
      " c109: life_0_1 + life_1_1 + life_2_1 <= 2\n",
      " c110: life_1_0 + life_1_1 + life_1_2 <= 2\n",
      " c111: life_0_6 + life_1_6 + life_2_6 <= 2\n",
      " c112: life_6_0 + life_6_1 + life_6_2 <= 2\n",
      " c113: life_1_1 + life_2_1 + life_3_1 <= 2\n",
      " c114: life_1_1 + life_1_2 + life_1_3 <= 2\n",
      " c115: life_1_6 + life_2_6 + life_3_6 <= 2\n",
      " c116: life_6_1 + life_6_2 + life_6_3 <= 2\n",
      " c117: life_2_1 + life_3_1 + life_4_1 <= 2\n",
      " c118: life_1_2 + life_1_3 + life_1_4 <= 2\n",
      " c119: life_2_6 + life_3_6 + life_4_6 <= 2\n",
      " c120: life_6_2 + life_6_3 + life_6_4 <= 2\n",
      " c121: life_3_1 + life_4_1 + life_5_1 <= 2\n",
      " c122: life_1_3 + life_1_4 + life_1_5 <= 2\n",
      " c123: life_3_6 + life_4_6 + life_5_6 <= 2\n",
      " c124: life_6_3 + life_6_4 + life_6_5 <= 2\n",
      " c125: life_4_1 + life_5_1 + life_6_1 <= 2\n",
      " c126: life_1_4 + life_1_5 + life_1_6 <= 2\n",
      " c127: life_4_6 + life_5_6 + life_6_6 <= 2\n",
      " c128: life_6_4 + life_6_5 + life_6_6 <= 2\n",
      " c129: life_5_1 + life_6_1 + life_7_1 <= 2\n",
      " c130: life_1_5 + life_1_6 + life_1_7 <= 2\n",
      " c131: life_5_6 + life_6_6 + life_7_6 <= 2\n",
      " c132: life_6_5 + life_6_6 + life_6_7 <= 2\n",
      " c133: life_1_1 + life_1_2 + life_1_3 + life_1_4 + life_1_5 + life_1_6\n",
      "       + life_2_1 + life_2_2 + life_2_3 + life_2_4 + life_2_5 + life_2_6\n",
      "       + life_3_1 + life_3_2 + life_3_3 + life_3_4 + life_3_5 + life_3_6\n",
      "       - life_4_1 - life_4_2 - life_4_3 - life_4_4 - life_4_5 - life_4_6\n",
      "       - life_5_1 - life_5_2 - life_5_3 - life_5_4 - life_5_5 - life_5_6 >= 0\n",
      " c134: life_1_1 + life_1_2 + life_1_3 + life_2_1 + life_2_2 + life_2_3\n",
      "       + life_3_1 + life_3_2 + life_3_3 + life_4_1 + life_4_2 + life_4_3\n",
      "       + life_5_1 + life_5_2 + life_5_3 + life_6_1 + life_6_2 + life_6_3\n",
      "       - life_1_4 - life_1_5 - life_2_4 - life_2_5 - life_3_4 - life_3_5\n",
      "       - life_4_4 - life_4_5 - life_5_4 - life_5_5 - life_6_4 - life_6_5 >= 0\n",
      " lc1: _bool{life_0_0plife_0_1pli..} = 1 <-> life_0_0 + life_0_1 + life_0_2\n",
      "      + life_1_0 + life_1_2 + life_2_0 + life_2_1 + life_2_2 = 3\n",
      " lc2: _bool{life_0_1plife_0_2pli..} = 1 <-> life_0_1 + life_0_2 + life_0_3\n",
      "      + life_1_1 + life_1_3 + life_2_1 + life_2_2 + life_2_3 = 3\n",
      " lc3: _bool{life_0_2plife_0_3pli..} = 1 <-> life_0_2 + life_0_3 + life_0_4\n",
      "      + life_1_2 + life_1_4 + life_2_2 + life_2_3 + life_2_4 = 3\n",
      " lc4: _bool{life_0_3plife_0_4pli..} = 1 <-> life_0_3 + life_0_4 + life_0_5\n",
      "      + life_1_3 + life_1_5 + life_2_3 + life_2_4 + life_2_5 = 3\n",
      " lc5: _bool{life_0_4plife_0_5pli..} = 1 <-> life_0_4 + life_0_5 + life_0_6\n",
      "      + life_1_4 + life_1_6 + life_2_4 + life_2_5 + life_2_6 = 3\n",
      " lc6: _bool{life_0_5plife_0_6pli..} = 1 <-> life_0_5 + life_0_6 + life_0_7\n",
      "      + life_1_5 + life_1_7 + life_2_5 + life_2_6 + life_2_7 = 3\n",
      " lc7: _bool{life_1_0plife_1_1pli..} = 1 <-> life_1_0 + life_1_1 + life_1_2\n",
      "      + life_2_0 + life_2_2 + life_3_0 + life_3_1 + life_3_2 = 3\n",
      " lc8: _bool{life_1_1plife_1_2pli..} = 1 <-> life_1_1 + life_1_2 + life_1_3\n",
      "      + life_2_1 + life_2_3 + life_3_1 + life_3_2 + life_3_3 = 3\n",
      " lc9: _bool{life_1_2plife_1_3pli..} = 1 <-> life_1_2 + life_1_3 + life_1_4\n",
      "      + life_2_2 + life_2_4 + life_3_2 + life_3_3 + life_3_4 = 3\n",
      " lc10: _bool{life_1_3plife_1_4pli..} = 1 <-> life_1_3 + life_1_4 + life_1_5\n",
      "       + life_2_3 + life_2_5 + life_3_3 + life_3_4 + life_3_5 = 3\n",
      " lc11: _bool{life_1_4plife_1_5pli..} = 1 <-> life_1_4 + life_1_5 + life_1_6\n",
      "       + life_2_4 + life_2_6 + life_3_4 + life_3_5 + life_3_6 = 3\n",
      " lc12: _bool{life_1_5plife_1_6pli..} = 1 <-> life_1_5 + life_1_6 + life_1_7\n",
      "       + life_2_5 + life_2_7 + life_3_5 + life_3_6 + life_3_7 = 3\n",
      " lc13: _bool{life_2_0plife_2_1pli..} = 1 <-> life_2_0 + life_2_1 + life_2_2\n",
      "       + life_3_0 + life_3_2 + life_4_0 + life_4_1 + life_4_2 = 3\n",
      " lc14: _bool{life_2_1plife_2_2pli..} = 1 <-> life_2_1 + life_2_2 + life_2_3\n",
      "       + life_3_1 + life_3_3 + life_4_1 + life_4_2 + life_4_3 = 3\n",
      " lc15: _bool{life_2_2plife_2_3pli..} = 1 <-> life_2_2 + life_2_3 + life_2_4\n",
      "       + life_3_2 + life_3_4 + life_4_2 + life_4_3 + life_4_4 = 3\n",
      " lc16: _bool{life_2_3plife_2_4pli..} = 1 <-> life_2_3 + life_2_4 + life_2_5\n",
      "       + life_3_3 + life_3_5 + life_4_3 + life_4_4 + life_4_5 = 3\n",
      " lc17: _bool{life_2_4plife_2_5pli..} = 1 <-> life_2_4 + life_2_5 + life_2_6\n",
      "       + life_3_4 + life_3_6 + life_4_4 + life_4_5 + life_4_6 = 3\n",
      " lc18: _bool{life_2_5plife_2_6pli..} = 1 <-> life_2_5 + life_2_6 + life_2_7\n",
      "       + life_3_5 + life_3_7 + life_4_5 + life_4_6 + life_4_7 = 3\n",
      " lc19: _bool{life_3_0plife_3_1pli..} = 1 <-> life_3_0 + life_3_1 + life_3_2\n",
      "       + life_4_0 + life_4_2 + life_5_0 + life_5_1 + life_5_2 = 3\n",
      " lc20: _bool{life_3_1plife_3_2pli..} = 1 <-> life_3_1 + life_3_2 + life_3_3\n",
      "       + life_4_1 + life_4_3 + life_5_1 + life_5_2 + life_5_3 = 3\n",
      " lc21: _bool{life_3_2plife_3_3pli..} = 1 <-> life_3_2 + life_3_3 + life_3_4\n",
      "       + life_4_2 + life_4_4 + life_5_2 + life_5_3 + life_5_4 = 3\n",
      " lc22: _bool{life_3_3plife_3_4pli..} = 1 <-> life_3_3 + life_3_4 + life_3_5\n",
      "       + life_4_3 + life_4_5 + life_5_3 + life_5_4 + life_5_5 = 3\n",
      " lc23: _bool{life_3_4plife_3_5pli..} = 1 <-> life_3_4 + life_3_5 + life_3_6\n",
      "       + life_4_4 + life_4_6 + life_5_4 + life_5_5 + life_5_6 = 3\n",
      " lc24: _bool{life_3_5plife_3_6pli..} = 1 <-> life_3_5 + life_3_6 + life_3_7\n",
      "       + life_4_5 + life_4_7 + life_5_5 + life_5_6 + life_5_7 = 3\n",
      " lc25: _bool{life_4_0plife_4_1pli..} = 1 <-> life_4_0 + life_4_1 + life_4_2\n",
      "       + life_5_0 + life_5_2 + life_6_0 + life_6_1 + life_6_2 = 3\n",
      " lc26: _bool{life_4_1plife_4_2pli..} = 1 <-> life_4_1 + life_4_2 + life_4_3\n",
      "       + life_5_1 + life_5_3 + life_6_1 + life_6_2 + life_6_3 = 3\n",
      " lc27: _bool{life_4_2plife_4_3pli..} = 1 <-> life_4_2 + life_4_3 + life_4_4\n",
      "       + life_5_2 + life_5_4 + life_6_2 + life_6_3 + life_6_4 = 3\n",
      " lc28: _bool{life_4_3plife_4_4pli..} = 1 <-> life_4_3 + life_4_4 + life_4_5\n",
      "       + life_5_3 + life_5_5 + life_6_3 + life_6_4 + life_6_5 = 3\n",
      " lc29: _bool{life_4_4plife_4_5pli..} = 1 <-> life_4_4 + life_4_5 + life_4_6\n",
      "       + life_5_4 + life_5_6 + life_6_4 + life_6_5 + life_6_6 = 3\n",
      " lc30: _bool{life_4_5plife_4_6pli..} = 1 <-> life_4_5 + life_4_6 + life_4_7\n",
      "       + life_5_5 + life_5_7 + life_6_5 + life_6_6 + life_6_7 = 3\n",
      " lc31: _bool{life_5_0plife_5_1pli..} = 1 <-> life_5_0 + life_5_1 + life_5_2\n",
      "       + life_6_0 + life_6_2 + life_7_0 + life_7_1 + life_7_2 = 3\n",
      " lc32: _bool{life_5_1plife_5_2pli..} = 1 <-> life_5_1 + life_5_2 + life_5_3\n",
      "       + life_6_1 + life_6_3 + life_7_1 + life_7_2 + life_7_3 = 3\n",
      " lc33: _bool{life_5_2plife_5_3pli..} = 1 <-> life_5_2 + life_5_3 + life_5_4\n",
      "       + life_6_2 + life_6_4 + life_7_2 + life_7_3 + life_7_4 = 3\n",
      " lc34: _bool{life_5_3plife_5_4pli..} = 1 <-> life_5_3 + life_5_4 + life_5_5\n",
      "       + life_6_3 + life_6_5 + life_7_3 + life_7_4 + life_7_5 = 3\n",
      " lc35: _bool{life_5_4plife_5_5pli..} = 1 <-> life_5_4 + life_5_5 + life_5_6\n",
      "       + life_6_4 + life_6_6 + life_7_4 + life_7_5 + life_7_6 = 3\n",
      " lc36: _bool{life_5_5plife_5_6pli..} = 1 <-> life_5_5 + life_5_6 + life_5_7\n",
      "       + life_6_5 + life_6_7 + life_7_5 + life_7_6 + life_7_7 = 3\n",
      " lc37: _bool{life_1_1plife_1_2pli..}#100 = 1 <-> life_1_1 + life_1_2 + life_1_3\n",
      "       + life_1_4 + life_1_5 + life_1_6 >= 1\n",
      " lc38: _bool{life_2_1plife_2_2pli..}#101 = 1 <-> life_2_1 + life_2_2 + life_2_3\n",
      "       + life_2_4 + life_2_5 + life_2_6 >= 1\n",
      " lc39: _bool{life_3_1plife_3_2pli..}#102 = 1 <-> life_3_1 + life_3_2 + life_3_3\n",
      "       + life_3_4 + life_3_5 + life_3_6 >= 1\n",
      " lc40: _bool{life_4_1plife_4_2pli..}#103 = 1 <-> life_4_1 + life_4_2 + life_4_3\n",
      "       + life_4_4 + life_4_5 + life_4_6 >= 1\n",
      " lc41: _bool{life_5_1plife_5_2pli..}#104 = 1 <-> life_5_1 + life_5_2 + life_5_3\n",
      "       + life_5_4 + life_5_5 + life_5_6 >= 1\n",
      " lc42: _bool{life_6_1plife_6_2pli..} = 1 <-> life_6_1 + life_6_2 + life_6_3\n",
      "       + life_6_4 + life_6_5 + life_6_6 >= 1\n",
      "\n",
      "Bounds\n",
      "       life_0_0 = 0\n",
      "       life_0_1 = 0\n",
      "       life_0_2 = 0\n",
      "       life_0_3 = 0\n",
      "       life_0_4 = 0\n",
      "       life_0_5 = 0\n",
      "       life_0_6 = 0\n",
      "       life_0_7 = 0\n",
      "       life_1_0 = 0\n",
      " 0 <= life_1_1 <= 1\n",
      " 0 <= life_1_2 <= 1\n",
      " 0 <= life_1_3 <= 1\n",
      " 0 <= life_1_4 <= 1\n",
      " 0 <= life_1_5 <= 1\n",
      " 0 <= life_1_6 <= 1\n",
      "       life_1_7 = 0\n",
      "       life_2_0 = 0\n",
      " 0 <= life_2_1 <= 1\n",
      " 0 <= life_2_2 <= 1\n",
      " 0 <= life_2_3 <= 1\n",
      " 0 <= life_2_4 <= 1\n",
      " 0 <= life_2_5 <= 1\n",
      " 0 <= life_2_6 <= 1\n",
      "       life_2_7 = 0\n",
      "       life_3_0 = 0\n",
      " 0 <= life_3_1 <= 1\n",
      " 0 <= life_3_2 <= 1\n",
      " 0 <= life_3_3 <= 1\n",
      " 0 <= life_3_4 <= 1\n",
      " 0 <= life_3_5 <= 1\n",
      " 0 <= life_3_6 <= 1\n",
      "       life_3_7 = 0\n",
      "       life_4_0 = 0\n",
      " 0 <= life_4_1 <= 1\n",
      " 0 <= life_4_2 <= 1\n",
      " 0 <= life_4_3 <= 1\n",
      " 0 <= life_4_4 <= 1\n",
      " 0 <= life_4_5 <= 1\n",
      " 0 <= life_4_6 <= 1\n",
      "       life_4_7 = 0\n",
      "       life_5_0 = 0\n",
      " 0 <= life_5_1 <= 1\n",
      " 0 <= life_5_2 <= 1\n",
      " 0 <= life_5_3 <= 1\n",
      " 0 <= life_5_4 <= 1\n",
      " 0 <= life_5_5 <= 1\n",
      " 0 <= life_5_6 <= 1\n",
      "       life_5_7 = 0\n",
      "       life_6_0 = 0\n",
      " 0 <= life_6_1 <= 1\n",
      " 0 <= life_6_2 <= 1\n",
      " 0 <= life_6_3 <= 1\n",
      " 0 <= life_6_4 <= 1\n",
      " 0 <= life_6_5 <= 1\n",
      " 0 <= life_6_6 <= 1\n",
      "       life_6_7 = 0\n",
      "       life_7_0 = 0\n",
      "       life_7_1 = 0\n",
      "       life_7_2 = 0\n",
      "       life_7_3 = 0\n",
      "       life_7_4 = 0\n",
      "       life_7_5 = 0\n",
      "       life_7_6 = 0\n",
      "       life_7_7 = 0\n",
      " 0 <= _bool{life_0_0plife_0_1pli..} <= 1\n",
      " 0 <= _bool{life_0_1plife_0_2pli..} <= 1\n",
      " 0 <= _bool{life_0_2plife_0_3pli..} <= 1\n",
      " 0 <= _bool{life_0_3plife_0_4pli..} <= 1\n",
      " 0 <= _bool{life_0_4plife_0_5pli..} <= 1\n",
      " 0 <= _bool{life_0_5plife_0_6pli..} <= 1\n",
      " 0 <= _bool{life_1_0plife_1_1pli..} <= 1\n",
      " 0 <= _bool{life_1_1plife_1_2pli..} <= 1\n",
      " 0 <= _bool{life_1_2plife_1_3pli..} <= 1\n",
      " 0 <= _bool{life_1_3plife_1_4pli..} <= 1\n",
      " 0 <= _bool{life_1_4plife_1_5pli..} <= 1\n",
      " 0 <= _bool{life_1_5plife_1_6pli..} <= 1\n",
      " 0 <= _bool{life_2_0plife_2_1pli..} <= 1\n",
      " 0 <= _bool{life_2_1plife_2_2pli..} <= 1\n",
      " 0 <= _bool{life_2_2plife_2_3pli..} <= 1\n",
      " 0 <= _bool{life_2_3plife_2_4pli..} <= 1\n",
      " 0 <= _bool{life_2_4plife_2_5pli..} <= 1\n",
      " 0 <= _bool{life_2_5plife_2_6pli..} <= 1\n",
      " 0 <= _bool{life_3_0plife_3_1pli..} <= 1\n",
      " 0 <= _bool{life_3_1plife_3_2pli..} <= 1\n",
      " 0 <= _bool{life_3_2plife_3_3pli..} <= 1\n",
      " 0 <= _bool{life_3_3plife_3_4pli..} <= 1\n",
      " 0 <= _bool{life_3_4plife_3_5pli..} <= 1\n",
      " 0 <= _bool{life_3_5plife_3_6pli..} <= 1\n",
      " 0 <= _bool{life_4_0plife_4_1pli..} <= 1\n",
      " 0 <= _bool{life_4_1plife_4_2pli..} <= 1\n",
      " 0 <= _bool{life_4_2plife_4_3pli..} <= 1\n",
      " 0 <= _bool{life_4_3plife_4_4pli..} <= 1\n",
      " 0 <= _bool{life_4_4plife_4_5pli..} <= 1\n",
      " 0 <= _bool{life_4_5plife_4_6pli..} <= 1\n",
      " 0 <= _bool{life_5_0plife_5_1pli..} <= 1\n",
      " 0 <= _bool{life_5_1plife_5_2pli..} <= 1\n",
      " 0 <= _bool{life_5_2plife_5_3pli..} <= 1\n",
      " 0 <= _bool{life_5_3plife_5_4pli..} <= 1\n",
      " 0 <= _bool{life_5_4plife_5_5pli..} <= 1\n",
      " 0 <= _bool{life_5_5plife_5_6pli..} <= 1\n",
      " 0 <= _bool{life_1_1plife_1_2pli..}#100 <= 1\n",
      " 0 <= _bool{life_2_1plife_2_2pli..}#101 <= 1\n",
      " 0 <= _bool{life_3_1plife_3_2pli..}#102 <= 1\n",
      " 0 <= _bool{life_4_1plife_4_2pli..}#103 <= 1\n",
      " 0 <= _bool{life_5_1plife_5_2pli..}#104 <= 1\n",
      " 0 <= _bool{life_6_1plife_6_2pli..} <= 1\n",
      "\n",
      "Binaries\n",
      " life_0_0 life_0_1 life_0_2 life_0_3 life_0_4 life_0_5 life_0_6 life_0_7\n",
      " life_1_0 life_1_1 life_1_2 life_1_3 life_1_4 life_1_5 life_1_6 life_1_7\n",
      " life_2_0 life_2_1 life_2_2 life_2_3 life_2_4 life_2_5 life_2_6 life_2_7\n",
      " life_3_0 life_3_1 life_3_2 life_3_3 life_3_4 life_3_5 life_3_6 life_3_7\n",
      " life_4_0 life_4_1 life_4_2 life_4_3 life_4_4 life_4_5 life_4_6 life_4_7\n",
      " life_5_0 life_5_1 life_5_2 life_5_3 life_5_4 life_5_5 life_5_6 life_5_7\n",
      " life_6_0 life_6_1 life_6_2 life_6_3 life_6_4 life_6_5 life_6_6 life_6_7\n",
      " life_7_0 life_7_1 life_7_2 life_7_3 life_7_4 life_7_5 life_7_6 life_7_7\n",
      " _bool{life_0_0plife_0_1pli..} _bool{life_0_1plife_0_2pli..}\n",
      " _bool{life_0_2plife_0_3pli..} _bool{life_0_3plife_0_4pli..}\n",
      " _bool{life_0_4plife_0_5pli..} _bool{life_0_5plife_0_6pli..}\n",
      " _bool{life_1_0plife_1_1pli..} _bool{life_1_1plife_1_2pli..}\n",
      " _bool{life_1_2plife_1_3pli..} _bool{life_1_3plife_1_4pli..}\n",
      " _bool{life_1_4plife_1_5pli..} _bool{life_1_5plife_1_6pli..}\n",
      " _bool{life_2_0plife_2_1pli..} _bool{life_2_1plife_2_2pli..}\n",
      " _bool{life_2_2plife_2_3pli..} _bool{life_2_3plife_2_4pli..}\n",
      " _bool{life_2_4plife_2_5pli..} _bool{life_2_5plife_2_6pli..}\n",
      " _bool{life_3_0plife_3_1pli..} _bool{life_3_1plife_3_2pli..}\n",
      " _bool{life_3_2plife_3_3pli..} _bool{life_3_3plife_3_4pli..}\n",
      " _bool{life_3_4plife_3_5pli..} _bool{life_3_5plife_3_6pli..}\n",
      " _bool{life_4_0plife_4_1pli..} _bool{life_4_1plife_4_2pli..}\n",
      " _bool{life_4_2plife_4_3pli..} _bool{life_4_3plife_4_4pli..}\n",
      " _bool{life_4_4plife_4_5pli..} _bool{life_4_5plife_4_6pli..}\n",
      " _bool{life_5_0plife_5_1pli..} _bool{life_5_1plife_5_2pli..}\n",
      " _bool{life_5_2plife_5_3pli..} _bool{life_5_3plife_5_4pli..}\n",
      " _bool{life_5_4plife_5_5pli..} _bool{life_5_5plife_5_6pli..}\n",
      " _bool{life_1_1plife_1_2pli..}#100 _bool{life_2_1plife_2_2pli..}#101\n",
      " _bool{life_3_1plife_3_2pli..}#102 _bool{life_4_1plife_4_2pli..}#103\n",
      " _bool{life_5_1plife_5_2pli..}#104 _bool{life_6_1plife_6_2pli..}\n",
      "End\n",
      "\n"
     ]
    }
   ],
   "source": [
    "print(lm.export_as_lp_string())"
   ]
  },
  {
   "cell_type": "markdown",
   "metadata": {},
   "source": [
    "### Step 3: Solve the problem with default CPLEX algorithm"
   ]
  },
  {
   "cell_type": "code",
   "execution_count": null,
   "metadata": {},
   "outputs": [],
   "source": [
    "assert lm.solve(log_output=True), \"!!! Solve of the model fails\"\n",
    "lm.report()"
   ]
  },
  {
   "cell_type": "code",
   "execution_count": null,
   "metadata": {
    "collapsed": true,
    "jupyter": {
     "outputs_hidden": true
    }
   },
   "outputs": [],
   "source": [
    "def lifegame_solution_to_matrix(mdl):\n",
    "    rr = range(0, mdl.size+2)\n",
    "    life_vars = mdl.life\n",
    "    array2 = [[life_vars[i, j].solution_value for j in rr] for i in rr]\n",
    "    return array2"
   ]
  },
  {
   "cell_type": "code",
   "execution_count": null,
   "metadata": {},
   "outputs": [],
   "source": [
    "print(lifegame_solution_to_matrix(lm))"
   ]
  },
  {
   "cell_type": "markdown",
   "metadata": {},
   "source": [
    "## Summary\n",
    "\n",
    "\n",
    "You learned how to set up and use the IBM Decision Optimization CPLEX Modeling for Python to formulate a Mathematical Programming model with logical constraints."
   ]
  },
  {
   "cell_type": "markdown",
   "metadata": {
    "render": true
   },
   "source": [
    "#### References\n",
    "* [Decision Optimization CPLEX Modeling for Python documentation](http://ibmdecisionoptimization.github.io/docplex-doc/)\n",
    "* [Decision Optimization on Cloud](https://developer.ibm.com/docloud/)\n",
    "* Need help with DOcplex or to report a bug? Please go [here](https://stackoverflow.com/questions/tagged/docplex)\n",
    "* Contact us at dofeedback@wwpdl.vnet.ibm.com\"\n"
   ]
  },
  {
   "cell_type": "markdown",
   "metadata": {},
   "source": [
    "Copyright &copy; 2017-2019 IBM. Sample Materials."
   ]
  },
  {
   "cell_type": "code",
   "execution_count": null,
   "metadata": {},
   "outputs": [],
   "source": []
  }
 ],
 "metadata": {
  "anaconda-cloud": {},
  "gist_id": "6011986",
  "kernelspec": {
   "display_name": "Python 3",
   "language": "python",
   "name": "python3"
  },
  "language_info": {
   "codemirror_mode": {
    "name": "ipython",
    "version": 3
   },
   "file_extension": ".py",
   "mimetype": "text/x-python",
   "name": "python",
   "nbconvert_exporter": "python",
   "pygments_lexer": "ipython3",
   "version": "3.7.9"
  }
 },
 "nbformat": 4,
 "nbformat_minor": 4
}
