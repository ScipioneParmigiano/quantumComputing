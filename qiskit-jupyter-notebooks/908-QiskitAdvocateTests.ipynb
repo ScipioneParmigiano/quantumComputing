{
 "cells": [
  {
   "cell_type": "code",
   "execution_count": 1,
   "metadata": {},
   "outputs": [],
   "source": [
    "#Qiskit Advocate Questions\n",
    "#Questions related to Qiskit Terra\n",
    "%matplotlib inline\n",
    "# Importing standard Qiskit libraries and configuring account\n",
    "import numpy as np\n",
    "from qiskit import QuantumCircuit, execute, Aer, IBMQ\n",
    "from qiskit.compiler import transpile, assemble\n",
    "from qiskit.tools.jupyter import *\n",
    "from qiskit.visualization import plot_histogram, plot_state_city\n",
    "\n",
    "# Loading your IBM Q account(s)\n",
    "provider = IBMQ.load_account()\n",
    "q_simulator = Aer.get_backend('qasm_simulator')\n",
    "u_simulator = Aer.get_backend('unitary_simulator')\n",
    "s_simulator = Aer.get_backend('statevector_simulator')"
   ]
  },
  {
   "cell_type": "markdown",
   "metadata": {},
   "source": [
    "1. What is the probability that we find the qubit in state $|0\\rangle$ and $|1\\rangle$?\n",
    "$$\n",
    "|\\psi\\rangle = \\frac{1}{\\sqrt(3)}|0\\rangle + \\frac{\\sqrt(2)}{\\sqrt(3)}|1\\rangle\n",
    "$$"
   ]
  },
  {
   "cell_type": "markdown",
   "metadata": {},
   "source": [
    "Ans. $\\frac{1}{3} , \\frac{2}{3}$"
   ]
  },
  {
   "cell_type": "markdown",
   "metadata": {},
   "source": [
    "2. What is the probability that we find the qubit in state $|0\\rangle$ and $|1\\rangle$?\n",
    "$$\n",
    "|\\phi\\rangle = \\frac{i}{2}|0\\rangle + \\frac{\\sqrt(3)}{2}|1\\rangle\n",
    "$$\n",
    "\n",
    "Ans. $\\frac{1}{4} , \\frac{3}{4}$"
   ]
  },
  {
   "cell_type": "markdown",
   "metadata": {},
   "source": [
    "3. What is the probability that we find the qubit in state $|0\\rangle$ and $|1\\rangle$?\n",
    "$$\n",
    "|\\phi\\rangle = \\frac{i+i}{\\sqrt3}|0\\rangle - \\frac{i}{\\sqrt3}|1\\rangle\n",
    "$$\n",
    "\n",
    "Ans. $\\frac{2}{3} , \\frac{1}{3}$"
   ]
  },
  {
   "cell_type": "markdown",
   "metadata": {},
   "source": [
    "4. Given two vectors,\n",
    "$$\n",
    "|u\\rangle = \\begin{pmatrix} -1\\\\7i\\\\2 \\end{pmatrix}, \n",
    "|v\\rangle = \\begin{pmatrix} 0\\\\2\\\\4 \\end{pmatrix} \n",
    "$$\n",
    "Compute $7|u\\rangle + 2|v\\rangle$.\n",
    "\n",
    "Ans. $\\begin{pmatrix} -7\\\\4+49i\\\\22 \\end{pmatrix}$"
   ]
  },
  {
   "cell_type": "markdown",
   "metadata": {},
   "source": [
    "5. Given three vectors,\n",
    "$$\n",
    "|a\\rangle = \\begin{pmatrix} 1\\\\2 \\end{pmatrix}, \n",
    "|b\\rangle = \\begin{pmatrix} -1\\\\1 \\end{pmatrix} ,\n",
    "|c\\rangle = \\begin{pmatrix} 5\\\\4 \\end{pmatrix} \n",
    "$$\n",
    "Show the set is linearly dependent, i.e., one of the vector can be expressed as a linear combination of the other two.\n",
    "\n",
    "Ans. $3|a\\rangle - 2|b\\rangle + |c\\rangle = 0$"
   ]
  },
  {
   "cell_type": "markdown",
   "metadata": {},
   "source": [
    "6. Given two vectors,\n",
    "$$\n",
    "|u\\rangle = \\begin{pmatrix} -2\\\\4i\\\\1 \\end{pmatrix}, \n",
    "|v\\rangle = \\begin{pmatrix} 1\\\\0\\\\i \\end{pmatrix} \n",
    "$$\n",
    "Compute <br>\n",
    "a) $\\langle u|, \\langle b|$<br>\n",
    "b) $\\langle u|v\\rangle,  \\langle v|u\\rangle$<br>\n",
    "c) $|z\\rangle = |u\\rangle + 2|v\\rangle, \\langle z|u\\rangle$\n",
    "\n",
    "Ans.<br> \n",
    "a) $\\langle u| = \\begin{pmatrix} -2 \\quad -4i \\quad i \\end{pmatrix} \\\\\n",
    "\\langle b| = \\begin{pmatrix} 1 \\quad 0 \\quad -i \\end{pmatrix}$<br>\n",
    "b) $\\langle u|v\\rangle = -2 + i, \\quad \\langle v|u\\rangle = -2 -i$<br>\n",
    "c) $\\langle z|u\\rangle = 17 - 2i$\n"
   ]
  },
  {
   "cell_type": "markdown",
   "metadata": {},
   "source": [
    "7. Compute the norm of the vectors\n",
    "$$\n",
    "|a\\rangle = \\begin{pmatrix} 2\\\\4i \\end{pmatrix}, \n",
    "|b\\rangle = \\begin{pmatrix} -1\\\\3i\\\\i \\end{pmatrix} \n",
    "$$\n",
    "\n",
    "Ans. $\\norm{a} -7\\\\4+49i\\\\22 \\end{pmatrix}$"
   ]
  },
  {
   "cell_type": "code",
   "execution_count": 14,
   "metadata": {},
   "outputs": [
    {
     "name": "stderr",
     "output_type": "stream",
     "text": [
      "ibmqfactory.load_account:WARNING:2020-07-18 10:21:27,739: Credentials are already in use. The existing account in the session will be replaced.\n"
     ]
    },
    {
     "name": "stdout",
     "output_type": "stream",
     "text": [
      "[<IBMQBackend('ibmq_16_melbourne') from IBMQ(hub='ibm-q', group='open', project='main')>]\n",
      "The best backend is ibmq_16_melbourne\n"
     ]
    }
   ],
   "source": [
    "# How do you find the least busy device to run the following circuit from the previous section?\n",
    "#1)  least_busy(provider.backends())\n",
    "#2)  least_busy(provider.backends(filters=lambda x: x.configuration().n_qubits >= 5))\n",
    "#3)  provider.backends(filters=lambda x: x.configuration().n_qubits >= 5\n",
    "#        and not x.configuration().simulator\n",
    "#        and x.status().operational==True)\n",
    "#4)  Both 1 & 3 are correct\n",
    "#5)  None of the above\n",
    "\n",
    "from qiskit.providers.ibmq import least_busy\n",
    "provider = IBMQ.load_account()\n",
    "large_enough_devices = provider.backends(filters=lambda x: x.configuration().n_qubits < 10 and\n",
    "                                                       not x.configuration().simulator)\n",
    "#backend = least_busy(provider.backends())\n",
    "backend = least_busy(provider.backends(filters=lambda x: x.configuration().n_qubits >= 5))\n",
    "backends = provider.backends(filters=lambda x: x.configuration().n_qubits >= 10\n",
    "        and not x.configuration().simulator\n",
    "        and x.status().operational==True)\n",
    "print(backends)\n",
    "backend = least_busy(backends)\n",
    "print(\"The best backend is \" + backend.name())"
   ]
  },
  {
   "cell_type": "code",
   "execution_count": 15,
   "metadata": {},
   "outputs": [
    {
     "name": "stdout",
     "output_type": "stream",
     "text": [
      "[IBMQJob(_api=<qiskit.providers.ibmq.api.clients.account.AccountClient object at 0x00000289B35BD1F0>, _api_status='ERROR_RUNNING_JOB', _backend=<IBMQBackend('ibmq_16_melbourne') from IBMQ(hub='ibm-q', group='open', project='main')>, _backend_info={'id': '5ba502d0986f16003ea56c87', 'name': 'ibmq_16_melbourne'}, _cancelled=False, _creation_date=datetime.datetime(2020, 4, 21, 6, 48, 42, 918000, tzinfo=tzutc()), _error=None, _job_error_msg=None, _job_id='5e9e974a503f010011fbfc42', _kind=<ApiJobKind.QOBJECT_STORAGE: 'q-object-external-storage'>, _name=None, _qobj=None, _queue_info=None, _result=None, _run_mode='fairshare', _status=<JobStatus.ERROR: 'job incurred error'>, _tags=[], _time_per_step=None, _use_object_storage=True, hub_info={'hub': {'name': 'ibm-q'}, 'group': {'name': 'open'}, 'project': {'name': 'main'}}, share_level='none', user_id='5b1855b0cf09560041e08f34'), IBMQJob(_api=<qiskit.providers.ibmq.api.clients.account.AccountClient object at 0x00000289B35BD1F0>, _api_status='ERROR_RUNNING_JOB', _backend=<IBMQBackend('ibmq_16_melbourne') from IBMQ(hub='ibm-q', group='open', project='main')>, _backend_info={'id': '5ba502d0986f16003ea56c87', 'name': 'ibmq_16_melbourne'}, _cancelled=False, _creation_date=datetime.datetime(2020, 4, 21, 6, 43, 10, 617000, tzinfo=tzutc()), _error=None, _job_error_msg=None, _job_id='5e9e95fe2bc17c0011c87291', _kind=<ApiJobKind.QOBJECT_STORAGE: 'q-object-external-storage'>, _name=None, _qobj=None, _queue_info=None, _result=None, _run_mode='fairshare', _status=<JobStatus.ERROR: 'job incurred error'>, _tags=[], _time_per_step=None, _use_object_storage=True, hub_info={'hub': {'name': 'ibm-q'}, 'group': {'name': 'open'}, 'project': {'name': 'main'}}, share_level='none', user_id='5b1855b0cf09560041e08f34'), IBMQJob(_api=<qiskit.providers.ibmq.api.clients.account.AccountClient object at 0x00000289B35BD1F0>, _api_status='ERROR_RUNNING_JOB', _backend=<IBMQBackend('ibmq_16_melbourne') from IBMQ(hub='ibm-q', group='open', project='main')>, _backend_info={'id': '5ba502d0986f16003ea56c87', 'name': 'ibmq_16_melbourne'}, _cancelled=False, _creation_date=datetime.datetime(2020, 4, 21, 6, 38, 23, 76000, tzinfo=tzutc()), _error=None, _job_error_msg=None, _job_id='5e9e94df66ce00001289b38f', _kind=<ApiJobKind.QOBJECT_STORAGE: 'q-object-external-storage'>, _name=None, _qobj=None, _queue_info=None, _result=None, _run_mode='fairshare', _status=<JobStatus.ERROR: 'job incurred error'>, _tags=[], _time_per_step=None, _use_object_storage=True, hub_info={'hub': {'name': 'ibm-q'}, 'group': {'name': 'open'}, 'project': {'name': 'main'}}, share_level='none', user_id='5b1855b0cf09560041e08f34'), IBMQJob(_api=<qiskit.providers.ibmq.api.clients.account.AccountClient object at 0x00000289B35BD1F0>, _api_status='ERROR_RUNNING_JOB', _backend=<IBMQBackend('ibmq_16_melbourne') from IBMQ(hub='ibm-q', group='open', project='main')>, _backend_info={'id': '5ba502d0986f16003ea56c87', 'name': 'ibmq_16_melbourne'}, _cancelled=False, _creation_date=datetime.datetime(2020, 4, 21, 6, 33, 17, 273000, tzinfo=tzutc()), _error=None, _job_error_msg=None, _job_id='5e9e93ad2bc17c0011c87265', _kind=<ApiJobKind.QOBJECT_STORAGE: 'q-object-external-storage'>, _name=None, _qobj=None, _queue_info=None, _result=None, _run_mode='fairshare', _status=<JobStatus.ERROR: 'job incurred error'>, _tags=[], _time_per_step=None, _use_object_storage=True, hub_info={'hub': {'name': 'ibm-q'}, 'group': {'name': 'open'}, 'project': {'name': 'main'}}, share_level='none', user_id='5b1855b0cf09560041e08f34'), IBMQJob(_api=<qiskit.providers.ibmq.api.clients.account.AccountClient object at 0x00000289B35BD1F0>, _api_status='ERROR_RUNNING_JOB', _backend=<IBMQBackend('ibmq_16_melbourne') from IBMQ(hub='ibm-q', group='open', project='main')>, _backend_info={'id': '5ba502d0986f16003ea56c87', 'name': 'ibmq_16_melbourne'}, _cancelled=False, _creation_date=datetime.datetime(2020, 4, 21, 6, 29, 28, 649000, tzinfo=tzutc()), _error=None, _job_error_msg=None, _job_id='5e9e92c85773ee001145568a', _kind=<ApiJobKind.QOBJECT_STORAGE: 'q-object-external-storage'>, _name=None, _qobj=None, _queue_info=None, _result=None, _run_mode='fairshare', _status=<JobStatus.ERROR: 'job incurred error'>, _tags=[], _time_per_step=None, _use_object_storage=True, hub_info={'hub': {'name': 'ibm-q'}, 'group': {'name': 'open'}, 'project': {'name': 'main'}}, share_level='none', user_id='5b1855b0cf09560041e08f34'), IBMQJob(_api=<qiskit.providers.ibmq.api.clients.account.AccountClient object at 0x00000289B35BD1F0>, _api_status='ERROR_RUNNING_JOB', _backend=<IBMQBackend('ibmq_16_melbourne') from IBMQ(hub='ibm-q', group='open', project='main')>, _backend_info={'id': '5ba502d0986f16003ea56c87', 'name': 'ibmq_16_melbourne'}, _cancelled=False, _creation_date=datetime.datetime(2020, 4, 21, 6, 25, 12, 50000, tzinfo=tzutc()), _error=None, _job_error_msg=None, _job_id='5e9e91c8c498b4001156a9eb', _kind=<ApiJobKind.QOBJECT_STORAGE: 'q-object-external-storage'>, _name=None, _qobj=None, _queue_info=None, _result=None, _run_mode='fairshare', _status=<JobStatus.ERROR: 'job incurred error'>, _tags=[], _time_per_step=None, _use_object_storage=True, hub_info={'hub': {'name': 'ibm-q'}, 'group': {'name': 'open'}, 'project': {'name': 'main'}}, share_level='none', user_id='5b1855b0cf09560041e08f34'), IBMQJob(_api=<qiskit.providers.ibmq.api.clients.account.AccountClient object at 0x00000289B35BD1F0>, _api_status='ERROR_RUNNING_JOB', _backend=<IBMQBackend('ibmq_16_melbourne') from IBMQ(hub='ibm-q', group='open', project='main')>, _backend_info={'id': '5ba502d0986f16003ea56c87', 'name': 'ibmq_16_melbourne'}, _cancelled=False, _creation_date=datetime.datetime(2020, 4, 21, 6, 20, 30, 5000, tzinfo=tzutc()), _error=None, _job_error_msg=None, _job_id='5e9e90ae2bc17c0011c8722d', _kind=<ApiJobKind.QOBJECT_STORAGE: 'q-object-external-storage'>, _name=None, _qobj=None, _queue_info=None, _result=None, _run_mode='fairshare', _status=<JobStatus.ERROR: 'job incurred error'>, _tags=[], _time_per_step=None, _use_object_storage=True, hub_info={'hub': {'name': 'ibm-q'}, 'group': {'name': 'open'}, 'project': {'name': 'main'}}, share_level='none', user_id='5b1855b0cf09560041e08f34'), IBMQJob(_api=<qiskit.providers.ibmq.api.clients.account.AccountClient object at 0x00000289B35BD1F0>, _api_status='ERROR_RUNNING_JOB', _backend=<IBMQBackend('ibmq_16_melbourne') from IBMQ(hub='ibm-q', group='open', project='main')>, _backend_info={'id': '5ba502d0986f16003ea56c87', 'name': 'ibmq_16_melbourne'}, _cancelled=False, _creation_date=datetime.datetime(2020, 4, 21, 6, 16, 23, 607000, tzinfo=tzutc()), _error=None, _job_error_msg=None, _job_id='5e9e8fb766ce00001289b32b', _kind=<ApiJobKind.QOBJECT_STORAGE: 'q-object-external-storage'>, _name=None, _qobj=None, _queue_info=None, _result=None, _run_mode='fairshare', _status=<JobStatus.ERROR: 'job incurred error'>, _tags=[], _time_per_step=None, _use_object_storage=True, hub_info={'hub': {'name': 'ibm-q'}, 'group': {'name': 'open'}, 'project': {'name': 'main'}}, share_level='none', user_id='5b1855b0cf09560041e08f34'), IBMQJob(_api=<qiskit.providers.ibmq.api.clients.account.AccountClient object at 0x00000289B35BD1F0>, _api_status='ERROR_RUNNING_JOB', _backend=<IBMQBackend('ibmq_16_melbourne') from IBMQ(hub='ibm-q', group='open', project='main')>, _backend_info={'id': '5ba502d0986f16003ea56c87', 'name': 'ibmq_16_melbourne'}, _cancelled=False, _creation_date=datetime.datetime(2020, 4, 21, 6, 9, 40, 193000, tzinfo=tzutc()), _error=None, _job_error_msg=None, _job_id='5e9e8e24c74c320011ca25b5', _kind=<ApiJobKind.QOBJECT_STORAGE: 'q-object-external-storage'>, _name=None, _qobj=None, _queue_info=None, _result=None, _run_mode='fairshare', _status=<JobStatus.ERROR: 'job incurred error'>, _tags=[], _time_per_step=None, _use_object_storage=True, hub_info={'hub': {'name': 'ibm-q'}, 'group': {'name': 'open'}, 'project': {'name': 'main'}}, share_level='none', user_id='5b1855b0cf09560041e08f34'), IBMQJob(_api=<qiskit.providers.ibmq.api.clients.account.AccountClient object at 0x00000289B35BD1F0>, _api_status='COMPLETED', _backend=<IBMQBackend('ibmq_16_melbourne') from IBMQ(hub='ibm-q', group='open', project='main')>, _backend_info={'id': '5ba502d0986f16003ea56c87', 'name': 'ibmq_16_melbourne'}, _cancelled=False, _creation_date=datetime.datetime(2020, 4, 20, 1, 0, 54, 183000, tzinfo=tzutc()), _error=None, _job_error_msg=None, _job_id='5e9cf446cf98430018a76b5c', _kind=<ApiJobKind.QOBJECT_STORAGE: 'q-object-external-storage'>, _name=None, _qobj=None, _queue_info=None, _result=None, _run_mode='fairshare', _status=<JobStatus.DONE: 'job has successfully run'>, _tags=[], _time_per_step=None, _use_object_storage=True, end_date='2020-04-20T01:01:12.508Z', hub_info={'hub': {'name': 'ibm-q'}, 'group': {'name': 'open'}, 'project': {'name': 'main'}}, share_level='none', user_id='5b1855b0cf09560041e08f34')]\n",
      "IBMQJob(_api=<qiskit.providers.ibmq.api.clients.account.AccountClient object at 0x00000289B35BD1F0>, _api_status='ERROR_RUNNING_JOB', _backend=<IBMQBackend('ibmq_16_melbourne') from IBMQ(hub='ibm-q', group='open', project='main')>, _backend_info={'id': '5ba502d0986f16003ea56c87', 'name': 'ibmq_16_melbourne'}, _cancelled=False, _creation_date=datetime.datetime(2020, 4, 21, 6, 48, 42, 918000, tzinfo=tzutc()), _error=None, _job_error_msg=None, _job_id='5e9e974a503f010011fbfc42', _kind=<ApiJobKind.QOBJECT_STORAGE: 'q-object-external-storage'>, _name=None, _qobj=None, _queue_info=None, _result=None, _run_mode='fairshare', _status=<JobStatus.ERROR: 'job incurred error'>, _tags=[], _time_per_step=None, _use_object_storage=True, hub_info={'hub': {'name': 'ibm-q'}, 'group': {'name': 'open'}, 'project': {'name': 'main'}}, share_level='none', user_id='5b1855b0cf09560041e08f34')\n"
     ]
    }
   ],
   "source": [
    "# How do you retrieve the last run job from a backend?\n",
    "#1)  backend.jobs()[0]\n",
    "#2)  backend.jobs()[-1]\n",
    "#3)  backend.retrieve_job()[0]\n",
    "#4)  backend.retrieve_job()[-1]\n",
    "#5)  None of the above\n",
    "\n",
    "#my_backend = IBMQ.get_backend('ibmq_16_melbourne', hub='ibm-q')\n",
    "jobs = backend.jobs()\n",
    "print(jobs)\n",
    "print(jobs[0])"
   ]
  },
  {
   "cell_type": "code",
   "execution_count": null,
   "metadata": {},
   "outputs": [],
   "source": []
  }
 ],
 "metadata": {
  "kernelspec": {
   "display_name": "Python 3",
   "language": "python",
   "name": "python3"
  },
  "language_info": {
   "codemirror_mode": {
    "name": "ipython",
    "version": 3
   },
   "file_extension": ".py",
   "mimetype": "text/x-python",
   "name": "python",
   "nbconvert_exporter": "python",
   "pygments_lexer": "ipython3",
   "version": "3.8.2"
  }
 },
 "nbformat": 4,
 "nbformat_minor": 4
}
