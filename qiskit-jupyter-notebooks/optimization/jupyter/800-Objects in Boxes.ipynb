{
 "cells": [
  {
   "cell_type": "markdown",
   "metadata": {},
   "source": [
    "# Objects in boxes\n",
    "\n",
    "## Objective\n",
    "* We want to put $N$ objects into a row of $N$ boxes.\n",
    "\n",
    "* Boxes are aligned from left to right (if $i < i'$, box $i$ is to the left of box $i'$) on the $x$ axis.\n",
    "* Box $i$ is located at a point $B_i$ of the $(x,y)$ plane and object $j$ is located at $O_j$.\n",
    "\n",
    "* We want to find an arrangement of objects such that:\n",
    "    * each box contains exactly one object,\n",
    "    * each object is stored in one box,\n",
    "    * the total distance from object $j$ to its storage box is minimal.\n",
    "\n",
    "* First, we solve the problem described, and then we add two new constraints and examine how the cost (and solution) changes.\n",
    "    * From the first solution, we impose that object #1 is assigned to the box immediately to the left of object #2.\n",
    "    * Then we impose that object #5 is assigned to a box next to the box of object #6."
   ]
  },
  {
   "cell_type": "code",
   "execution_count": 26,
   "metadata": {},
   "outputs": [],
   "source": [
    "import docplex.mp\n",
    "from math import sqrt\n",
    "import random"
   ]
  },
  {
   "cell_type": "code",
   "execution_count": 27,
   "metadata": {},
   "outputs": [],
   "source": [
    "# Setup Data\n",
    "N = 3 #8\n",
    "box_range = range(1, N+1)\n",
    "obj_range = range(1, N+1)\n",
    "\n",
    "o_xmax = N*10\n",
    "o_ymax = 2*N\n",
    "box_coords = {b: (10*b, 1) for b in box_range}\n",
    "\n",
    "obj_coords= {1: (140, 6), 2: (146, 8), 3: (132, 14), 4: (53, 28), \n",
    "             5: (146, 4), 6: (137, 13), 7: (95, 12), 8: (68, 9), 9: (102, 18), \n",
    "             10: (116, 8), 11: (19, 29), 12: (89, 15), 13: (141, 4), 14: (29, 4), 15: (4, 28)}\n",
    "\n",
    "# the distance matrix from box i to object j - we compute the square of distance to keep integer\n",
    "distances = {}\n",
    "for o in obj_range:\n",
    "    for b in box_range:\n",
    "        dx = obj_coords[o][0]-box_coords[b][0]\n",
    "        dy = obj_coords[o][1]-box_coords[b][1]\n",
    "        d2 = dx*dx + dy*dy\n",
    "        distances[b, o] = d2"
   ]
  },
  {
   "cell_type": "code",
   "execution_count": 28,
   "metadata": {},
   "outputs": [],
   "source": [
    "# Create the Model\n",
    "from docplex.mp.model import Model\n",
    "mdl = Model(\"boxes\")"
   ]
  },
  {
   "cell_type": "markdown",
   "metadata": {},
   "source": [
    "#### Define the decision variables\n",
    "\n",
    "* For each box $i$ ($i$ in $1..N$) and object $j$ ($j$ in $1..N$), we define a binary variable $X_{i,j}$ equal to $1$ if and only if object $j$ is stored in box $i$."
   ]
  },
  {
   "cell_type": "code",
   "execution_count": 29,
   "metadata": {},
   "outputs": [],
   "source": [
    "# decision variables is a 2d-matrix\n",
    "x = mdl.binary_var_matrix(box_range, obj_range, lambda ij: \"x_%d_%d\" %(ij[0], ij[1]))"
   ]
  },
  {
   "cell_type": "markdown",
   "metadata": {},
   "source": [
    "#### Express the business constraints\n",
    "\n",
    "* The sum of $X_{i,j}$ over both rows and columns must be equal to $1$, resulting in $2\\times N$ constraints."
   ]
  },
  {
   "cell_type": "code",
   "execution_count": 30,
   "metadata": {},
   "outputs": [
    {
     "name": "stdout",
     "output_type": "stream",
     "text": [
      "Model: boxes\n",
      " - number of variables: 9\n",
      "   - binary=9, integer=0, continuous=0\n",
      " - number of constraints: 6\n",
      "   - linear=6\n",
      " - parameters: defaults\n",
      " - objective: none\n",
      " - problem type is: MILP\n"
     ]
    }
   ],
   "source": [
    "# one object per box\n",
    "mdl.add_constraints(mdl.sum(x[i,j] for j in obj_range) == 1\n",
    "                   for i in box_range)\n",
    "    \n",
    "# one box for each object\n",
    "mdl.add_constraints(mdl.sum(x[i,j] for i in box_range) == 1\n",
    "                  for j in obj_range)\n",
    "\n",
    "mdl.print_information()"
   ]
  },
  {
   "cell_type": "markdown",
   "metadata": {},
   "source": [
    "#### Express the objective\n",
    "\n",
    "* The objective is to minimize the total distance between each object and its storage box."
   ]
  },
  {
   "cell_type": "code",
   "execution_count": 31,
   "metadata": {},
   "outputs": [],
   "source": [
    "# minimize total displacement\n",
    "mdl.minimize( mdl.sum(distances[i,j] * x[i,j] for i in box_range for j in obj_range) )"
   ]
  },
  {
   "cell_type": "code",
   "execution_count": 32,
   "metadata": {},
   "outputs": [
    {
     "data": {
      "text/plain": [
       "'800-Objects in Boxes.lp'"
      ]
     },
     "execution_count": 32,
     "metadata": {},
     "output_type": "execute_result"
    }
   ],
   "source": [
    "mdl.export_as_lp(path='800-Objects in Boxes.lp')"
   ]
  },
  {
   "cell_type": "markdown",
   "metadata": {},
   "source": [
    "#### Solve the model\n"
   ]
  },
  {
   "cell_type": "code",
   "execution_count": 33,
   "metadata": {
    "scrolled": true
   },
   "outputs": [
    {
     "name": "stdout",
     "output_type": "stream",
     "text": [
      "Model: boxes\n",
      " - number of variables: 9\n",
      "   - binary=9, integer=0, continuous=0\n",
      " - number of constraints: 6\n",
      "   - linear=6\n",
      " - parameters: defaults\n",
      " - objective: minimize\n",
      " - problem type is: MILP\n"
     ]
    }
   ],
   "source": [
    "mdl.print_information()\n",
    "\n",
    "assert mdl.solve(), \"!!! Solve of the model fails\""
   ]
  },
  {
   "cell_type": "code",
   "execution_count": 34,
   "metadata": {},
   "outputs": [
    {
     "name": "stdout",
     "output_type": "stream",
     "text": [
      "* model boxes solved with objective = 42983.000\n",
      "* solution: [3, 1, 2]\n"
     ]
    }
   ],
   "source": [
    "mdl.report()\n",
    "d1 = mdl.objective_value\n",
    "#mdl.print_solution()\n",
    "\n",
    "def make_solution_vector(x_vars):\n",
    "    sol = [0]* N\n",
    "    for i in box_range:\n",
    "        for j in obj_range:\n",
    "            if x[i,j].solution_value >= 0.5:\n",
    "                sol[i-1] = j\n",
    "                break\n",
    "    return sol\n",
    "\n",
    "def make_obj_box_dir(sol_vec):\n",
    "    # sol_vec contains an array of objects in box order at slot b-1 we have obj(b)\n",
    "    return { sol_vec[b]: b+1 for b in range(N)}\n",
    "    \n",
    "               \n",
    "sol1 = make_solution_vector(x)\n",
    "print(\"* solution: {0!s}\".format(sol1))          "
   ]
  }
 ],
 "metadata": {
  "kernelspec": {
   "display_name": "Python 3",
   "language": "python",
   "name": "python3"
  },
  "language_info": {
   "codemirror_mode": {
    "name": "ipython",
    "version": 3
   },
   "file_extension": ".py",
   "mimetype": "text/x-python",
   "name": "python",
   "nbconvert_exporter": "python",
   "pygments_lexer": "ipython3",
   "version": "3.7.9"
  }
 },
 "nbformat": 4,
 "nbformat_minor": 4
}
