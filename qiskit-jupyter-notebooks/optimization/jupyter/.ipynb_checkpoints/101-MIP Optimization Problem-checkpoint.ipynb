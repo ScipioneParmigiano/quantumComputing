{
 "cells": [
  {
   "cell_type": "markdown",
   "metadata": {},
   "source": [
    "# Mixed Integer Problem (MIP)\n",
    "\n",
    "x1=1, x2=2, x3=3\n",
    "\n",
    "We will <b>Maximize</b> x1 + 3x2 -10x3 subject to the following constraints:\n",
    "1. x1 + 2x2 <= 6\n",
    "2. x3 - x1 >= 2\n",
    "3. x1 > 0\n",
    "4. x2 > 0\n",
    "5. x3 > 0\n",
    "\n",
    "with x, y integers\n",
    "\n",
    "The constraints are linear - this is just a linear optimization problem in which the solutions are required to be integers. "
   ]
  },
  {
   "cell_type": "code",
   "execution_count": 1,
   "metadata": {},
   "outputs": [],
   "source": [
    "import sys\n",
    "import docplex.mp\n",
    "\n",
    "# first import the Model class from docplex.mp\n",
    "from docplex.mp.model import Model\n",
    "\n",
    "# create one model instance, with a name\n",
    "m = Model(name='AMC MIP Optimization')\n",
    "\n",
    "# by default, all variables in Docplex have a lower bound of 0 and infinite upper bound\n",
    "x1 = m.integer_var(name='x1')\n",
    "x2 = m.integer_var(name='x2')\n",
    "x3 = m.integer_var(name='x3')\n",
    "# write constraints\n",
    "m.add_constraint(x1 + 2*x2 <= 6,'constr1')\n",
    "m.add_constraint(x3 - x1 >= 2,'constr2')\n",
    "m.add_constraint(x1 >= 1,'constr3')\n",
    "m.add_constraint(x2 >= 1,'constr4')\n",
    "m.add_constraint(x3 >= 1,'constr5')\n",
    "\n",
    "m.maximize(x1 + 3*x2 -10*x3)\n",
    "\n",
    "result = m.solve()"
   ]
  },
  {
   "cell_type": "code",
   "execution_count": 2,
   "metadata": {},
   "outputs": [
    {
     "name": "stdout",
     "output_type": "stream",
     "text": [
      "solution for: AMC MIP Optimization\n",
      "objective: -23\n",
      "x1=1\n",
      "x2=2\n",
      "x3=3\n",
      "\n"
     ]
    }
   ],
   "source": [
    "print(result)"
   ]
  },
  {
   "cell_type": "code",
   "execution_count": 3,
   "metadata": {},
   "outputs": [
    {
     "data": {
      "text/plain": [
       "'101-MIP Optimization Problem.lp'"
      ]
     },
     "execution_count": 3,
     "metadata": {},
     "output_type": "execute_result"
    }
   ],
   "source": [
    "m.export_as_lp(path='101-MIP Optimization Problem.lp')"
   ]
  },
  {
   "cell_type": "code",
   "execution_count": null,
   "metadata": {},
   "outputs": [],
   "source": []
  }
 ],
 "metadata": {
  "kernelspec": {
   "display_name": "Python 3",
   "language": "python",
   "name": "python3"
  },
  "language_info": {
   "codemirror_mode": {
    "name": "ipython",
    "version": 3
   },
   "file_extension": ".py",
   "mimetype": "text/x-python",
   "name": "python",
   "nbconvert_exporter": "python",
   "pygments_lexer": "ipython3",
   "version": "3.7.9"
  }
 },
 "nbformat": 4,
 "nbformat_minor": 4
}
