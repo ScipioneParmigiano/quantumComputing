{
 "cells": [
  {
   "cell_type": "markdown",
   "metadata": {},
   "source": [
    "# Production Problem - manage the production of bakery products to meet demand with your resources.\n",
    "\n",
    "The model aims at minimizing the production cost for a number of products while satisfying customer demand.\n",
    "\n",
    "   * Each product can be produced either inside the company(in-house) or outside(outsourced) at a higher cost.\n",
    "   * The in-house production is constrained by the company's resources but for the outsourced production there is no resource constraint\n",
    "\n",
    "The model first declares the products and the resources.\n",
    "The data consists of the description of the products (the demand, the in-house and outsourced costs,\n",
    "and the resource consumption) and the in-house capacity of the various resources.\n",
    "The variables for this problem are the in-house and outsourced production for each product."
   ]
  },
  {
   "cell_type": "code",
   "execution_count": 37,
   "metadata": {},
   "outputs": [],
   "source": [
    "# Import the libraries\n",
    "import docplex.mp"
   ]
  },
  {
   "cell_type": "code",
   "execution_count": 38,
   "metadata": {},
   "outputs": [],
   "source": [
    "# Model the data\n",
    "# description of the products (product-name, the demand, in-house cost, outsourced cost)\n",
    "# the in-house capacity of the various resources \n",
    "# the resource consumptions for each product\n",
    "products = [(\"BlackForestCake\", 100, 0.6, 0.8),\n",
    "            (\"RedVelvetCake\", 200, 0.8, 0.9),\n",
    "            (\"ButterCookies\", 300, 0.3, 0.4)]\n",
    "\n",
    "# resources are a list of tuples (name, capacity)\n",
    "in_house_resource_capacity = [(\"flour\", 20),\n",
    "             (\"eggs\", 40)]\n",
    "\n",
    "consumptions = {(\"BlackForestCake\", \"flour\"): 0.5,\n",
    "                (\"BlackForestCake\", \"eggs\"): 0.2,\n",
    "                (\"RedVelvetCake\", \"flour\"): 0.4,\n",
    "                (\"RedVelvetCake\", \"eggs\"): 0.4,\n",
    "                (\"ButterCookies\", \"flour\"): 0.3,\n",
    "                (\"ButterCookies\", \"eggs\"): 0.6}"
   ]
  },
  {
   "cell_type": "code",
   "execution_count": 39,
   "metadata": {},
   "outputs": [],
   "source": [
    "# Create the DOcplex model - use CPLEX Modeling for Python to build a Mixed Integer Programming (MIP) model for this problem.\n",
    "# The model contains all the business constraints and defines the objective.\n",
    "\n",
    "from docplex.mp.model import Model\n",
    "mdl = Model(name=\"Bakery\")"
   ]
  },
  {
   "cell_type": "code",
   "execution_count": 40,
   "metadata": {},
   "outputs": [],
   "source": [
    "# Define the decision variables\n",
    "inHouse = mdl.continuous_var_dict(products, name='in-house')\n",
    "outsourced = mdl.continuous_var_dict(products, name='outsourced')"
   ]
  },
  {
   "cell_type": "code",
   "execution_count": 41,
   "metadata": {},
   "outputs": [
    {
     "name": "stdout",
     "output_type": "stream",
     "text": [
      "Model: Bakery\n",
      " - number of variables: 6\n",
      "   - binary=0, integer=0, continuous=6\n",
      " - number of constraints: 5\n",
      "   - linear=5\n",
      " - parameters: defaults\n",
      " - objective: none\n",
      " - problem type is: LP\n"
     ]
    }
   ],
   "source": [
    "# Express the business constraints\n",
    "# 1. Each product can be produced either inside the company or outside, at a higher cost.\n",
    "# 2. The inside production is constrained by the company's resources, while outside production is considered unlimited.\n",
    "\n",
    "# demand satisfaction\n",
    "mdl.add_constraints((inHouse[prod] + outsourced[prod] >= prod[1], 'ct_demand_%s' % prod[0]) for prod in products)\n",
    "\n",
    "# --- resource capacity ---\n",
    "mdl.add_constraints((mdl.sum(inHouse[p] * consumptions[p[0], res[0]] for p in products) <= res[1], 'ct_res_%s' % res[0]) for res in in_house_resource_capacity)\n",
    "\n",
    "mdl.print_information()"
   ]
  },
  {
   "cell_type": "code",
   "execution_count": 42,
   "metadata": {},
   "outputs": [],
   "source": [
    "# Express the objective\n",
    "# Minimizing the production cost for a number of products while satisfying customer demand\n",
    "total_inHouse_cost = mdl.sum(inHouse[p] * p[2] for p in products)\n",
    "total_outsourced_cost = mdl.sum(outsourced[p] * p[3] for p in products)\n",
    "\n",
    "mdl.minimize(total_inHouse_cost + total_outsourced_cost)"
   ]
  },
  {
   "cell_type": "code",
   "execution_count": 43,
   "metadata": {},
   "outputs": [
    {
     "data": {
      "text/plain": [
       "docplex.mp.solution.SolveSolution(obj=372,values={in-house_BlackForestCa.."
      ]
     },
     "execution_count": 43,
     "metadata": {},
     "output_type": "execute_result"
    }
   ],
   "source": [
    "# Solve with Decision Optimization\n",
    "mdl.solve()"
   ]
  },
  {
   "cell_type": "code",
   "execution_count": 44,
   "metadata": {
    "scrolled": true
   },
   "outputs": [
    {
     "name": "stdout",
     "output_type": "stream",
     "text": [
      "* Production model solved with objective: 372\n",
      "* Total inside cost=24\n",
      "Inside production of BlackForestCake: 40.0\n",
      "Inside production of RedVelvetCake: 0\n",
      "Inside production of ButterCookies: 0\n",
      "* Total outside cost=348\n",
      "Outside production of BlackForestCake: 60.0\n",
      "Outside production of RedVelvetCake: 200.0\n",
      "Outside production of ButterCookies: 300.0\n"
     ]
    }
   ],
   "source": [
    "# Investigate the solution and then run an example analysis\n",
    "obj = mdl.objective_value\n",
    "\n",
    "print(\"* Production model solved with objective: {:g}\".format(obj))\n",
    "print(\"* Total inside cost=%g\" % total_inHouse_cost.solution_value)\n",
    "for p in products:\n",
    "    print(\"Inside production of {product}: {ins_var}\".format(product=p[0], ins_var=inHouse[p].solution_value))\n",
    "print(\"* Total outside cost=%g\" % total_outsourced_cost.solution_value)\n",
    "for p in products:\n",
    "    print(\"Outside production of {product}: {out_var}\".format(product=p[0], out_var=outsourced[p].solution_value))"
   ]
  },
  {
   "cell_type": "code",
   "execution_count": 45,
   "metadata": {},
   "outputs": [
    {
     "data": {
      "text/plain": [
       "'802-Production Problem.lp'"
      ]
     },
     "execution_count": 45,
     "metadata": {},
     "output_type": "execute_result"
    }
   ],
   "source": [
    "mdl.export_as_lp(path='802-Production Problem.lp')"
   ]
  },
  {
   "cell_type": "code",
   "execution_count": 46,
   "metadata": {},
   "outputs": [
    {
     "name": "stdout",
     "output_type": "stream",
     "text": [
      "Model: Bakery\n",
      " - number of variables: 6\n",
      "   - binary=0, integer=0, continuous=6\n",
      " - number of constraints: 5\n",
      "   - linear=5\n",
      " - parameters: defaults\n",
      " - objective: minimize\n",
      " - problem type is: LP\n"
     ]
    }
   ],
   "source": [
    "mdl.print_information()"
   ]
  },
  {
   "cell_type": "code",
   "execution_count": null,
   "metadata": {},
   "outputs": [],
   "source": []
  }
 ],
 "metadata": {
  "kernelspec": {
   "display_name": "Python 3",
   "language": "python",
   "name": "python3"
  },
  "language_info": {
   "codemirror_mode": {
    "name": "ipython",
    "version": 3
   },
   "file_extension": ".py",
   "mimetype": "text/x-python",
   "name": "python",
   "nbconvert_exporter": "python",
   "pygments_lexer": "ipython3",
   "version": "3.7.9"
  }
 },
 "nbformat": 4,
 "nbformat_minor": 4
}
