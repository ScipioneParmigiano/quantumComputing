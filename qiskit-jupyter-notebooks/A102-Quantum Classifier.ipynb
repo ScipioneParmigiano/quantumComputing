{
 "cells": [
  {
   "cell_type": "markdown",
   "metadata": {},
   "source": [
    "# Variational circuits for a classification problem"
   ]
  },
  {
   "cell_type": "markdown",
   "metadata": {},
   "source": [
    "#### Author: Slimane Thabet"
   ]
  },
  {
   "cell_type": "markdown",
   "metadata": {},
   "source": [
    "This notebook is an illustration on how variational quantum circuits can be used for solving machine learning problems. In this case, we will take the example of a binary classification problem. We will implement a method proposed by Maria Schuld and al. in [Circuit-centric quantum classifiers](https://arxiv.org/pdf/1804.00633.pdf)."
   ]
  },
  {
   "cell_type": "markdown",
   "metadata": {},
   "source": [
    "### What is a variational circuit ?"
   ]
  },
  {
   "cell_type": "markdown",
   "metadata": {},
   "source": [
    "In the general case, a variational method is the approximation of an intractable function $f$ (for example solution of a PDE or an optimization problem) by a function $v$, more easily computable. The goal is then to find $v$ that will minimize a specific cost $\\mathcal{L}(v)$. The cost function may be expensive to compute, which makes the problem difficult to solve. The idea of using Quantum Computing is to reduce the cost of estimation and in some cases gain an advantage on classical computers."
   ]
  },
  {
   "cell_type": "markdown",
   "metadata": {},
   "source": [
    "In our Machine Learning problem, let us suppose we observe $N$ samples of labeled data $(x_i, y_i)_{i \\in [1,N]}$ with $x_i \\in \\mathbb{R}^2$ and $y_i \\in \\{0,1\\}$. The goal of the task is to construct a predictor $f$ to estimate $y$ given a new value of $x$. The problem can be restricted to a set of parameterizable functions by a real vector $\\theta$. We will train a model with the training input by finding the parameters $\\theta$ that will minimize a loss $l$.\n",
    "\n",
    "$$\\arg\\min_{\\theta} \\frac{1}{N} \\sum_{i=1}^{N} l(f(x_i;\\theta), y_i)$$\n",
    "\n",
    "In our case, $f$ will return the probability of $x$ to be labelled $1$. It is then a number comprised between 0 and 1.\n",
    "The authors use the square loss $l(f(x),y) = (f(x)-y)^2$, another usual loss is the binary crossentropy loss $l(f(x),y) = - y log(f(x)) - (1-y)log(1-f(x))$. In both cases, the farther $f(x)$ is from $y$, the greater the loss."
   ]
  },
  {
   "cell_type": "markdown",
   "metadata": {},
   "source": [
    "### The use of quantum computers"
   ]
  },
  {
   "cell_type": "markdown",
   "metadata": {},
   "source": [
    "The idea of the proposed circuit is to compute $f(x;\\theta)$ with a quantum computer, and then to optimize the cost with a classical optimization algorithm, with the hope that it will be more efficient than a full classical algorithm.\n",
    "\n",
    "Quantum circuits are a very good framework to represent our problem, since the probability of a qubit to be in the state $|0\\rangle$ or in the state $|1\\rangle$ can be estimated by measurement. \n",
    "\n",
    "The circuit is composed of 3 steps: \n",
    "\n",
    "- State preparation: encode the classical data $x$ into a quantum circuit buy creating an operator $\\phi(x)$ which will result in the state $\\phi(x) |0_p\\rangle$ with $p$ the number of qubits.\n",
    "- Model circuit: apply an operator $U(\\theta)$ to the feature state, with $\\theta$ the trainable parameters.\n",
    "- Measurement: measure the qubit $q_0$ to estimate $f(x;\\theta) = \\mathbb{P}(q_0=1)$"
   ]
  },
  {
   "cell_type": "markdown",
   "metadata": {},
   "source": [
    "### State preparation\n",
    "\n",
    "The classical data need to be converted into a quantum state. A quantum state is a unitary norm vector of complex numbers and can be written $|\\psi \\rangle = \\sum_{i=1}^{n} a_i |i\\rangle$ with $\\sum_{i=1}^{n} |a_i|^2=1$, and $n=2^p$. Vectors with a power of 2 number of features can be normalized and represented into a quantum state using amplitude encoding, which means that the data are directly associated with the amplitudes of the quantum state. For other number of features, a strategy is to pad with the required number of features to reach a power of 2. The padding features can be zero on non-zero. It can be shown that the encoding can be done linearly with reference to the size of the input vector."
   ]
  },
  {
   "cell_type": "markdown",
   "metadata": {},
   "source": [
    "### Model circuit\n",
    "\n",
    "Given the quantum state $|\\phi(x) \\rangle$ which represents the vector $x$ in the quantum circuit, we create $U(\\theta)$ a unitary operator such that $U(\\theta)|\\phi(x) \\rangle$ is a quantum state we can measure. \n",
    "\n",
    "We decompose $U(\\theta) = U_1...U_L$ as a product of one or two qubits parametrized gates. In the following we will use a combination of C-NOT gates and general unitary gates whose general formulation is:\n",
    "$$U(\\theta, \\phi, \\lambda) = \\begin{bmatrix}\n",
    "  cos(\\frac{\\theta}{2}) & -e^{i\\lambda}sin(\\frac{\\theta}{2})\\\\ \n",
    "  e^{i\\phi}sin(\\frac{\\theta}{2}) & e^{i\\lambda+i\\phi}cos(\\frac{\\theta}{2})\n",
    "\\end{bmatrix} \n",
    "$$\n",
    "This parameterization  is chosen because it is the one used by the language Qiskit. The authors of the paper choose another equivalent simpler parameterization, which doesn't need to compute imaginary parts (cf Training section)."
   ]
  },
  {
   "cell_type": "markdown",
   "metadata": {},
   "source": [
    "### Measurement\n",
    "\n",
    "The measurement of the 0 qubit of the quantum state $|U(\\theta)\\phi(x) \\rangle$ generated by the previous circuit gives $f(x;\\theta) = \\mathbb{P}(y|x=1;\\theta) = \\mathbb{P}(q_0=1|x;\\theta) = \\sum_{k=1}^{n} |(U(\\theta)\\phi(x))_k|^2$. For clarity, the explicit dependency of $\\theta$ will be removed and we will just note $U$ for $U(\\theta)$\n",
    "\n",
    "Let us denote $\\pi(x;\\theta) = \\mathbb{P}(q_0=1|x;\\theta)$. It can also be expressed by the expectancy of the operator $\\sigma_z$ applied to the first qubit. $$\\mathbb{E}(\\sigma_z) = \\langle \\phi(x)|U^\\dagger (\\sigma_z \\otimes \\mathbb{I} \\otimes ... \\otimes \\mathbb{I})U|\\phi(x) \\rangle$$ and $$\\pi(x;\\theta) = \\frac{-\\mathbb{E}(\\sigma_z)}{2}+\\frac{1}{2}$$.\n",
    "\n"
   ]
  },
  {
   "cell_type": "markdown",
   "metadata": {},
   "source": [
    "### Training\n",
    "\n",
    "The model is trained to minimize a loss function\n",
    "$$\\mathcal{L}(\\theta) = \\frac{1}{N} \\sum_{i=1}^{N} l(\\pi(x_i;\\theta), y_i)$$\n",
    "The parameters are updated via batch stochastic gradient descent. The difficulty is to be able to compute the gradient in an accurate way. Fortunately, as later explained it is possible to evaluate the gradient via quantum circuits.\n",
    "\n",
    "$$\\nabla_\\theta\\mathcal{L}(\\theta) = \\frac{1}{N} \\sum_{i=1}^{N} \\nabla_\\theta(l(\\pi(x_i;\\theta), y_i)) = \n",
    "\\frac{1}{N} \\sum_{i=1}^{N} \\nabla_\\theta\\pi(x_i;\\theta)\\partial_1l(\\pi(x_i;\\theta), y_i)$$ where $\\partial_1l$ is the partial derivative of $l$ with reference to the first variable.\n",
    "\n",
    "$$\\nabla_\\theta\\pi(x_i;\\theta) = \\frac{-\\nabla_\\theta\\mathbb{E}(\\sigma_z)}{2} = -\\frac{1}{2} \\nabla_\\theta\\langle \\phi(x)U | \\sigma_z |U\\phi(x) \\rangle$$ where $\\sigma_z \\otimes \\mathbb{I} \\otimes ... \\otimes \\mathbb{I}$ is abbreviated to $\\sigma_z$.\n",
    "\n",
    "Let us now consider $\\nu$ an element of the vector $\\theta$ and let us examine $\\partial_\\nu \\pi(x;\\theta)$\n",
    "\n",
    "$$\\partial_\\nu\\pi(x;\\theta) = -\\frac{1}{2} \\langle \\phi(x)\\partial_\\nu U| \\sigma_z |U\\phi(x) \\rangle -\\frac{1}{2} \\langle \\phi(x)U |\\sigma_z |\\partial_\\nu U\\phi(x) \\rangle $$ by the rules of derivation inside an expectation. \n",
    "\n",
    "$$\\partial_\\nu\\pi(x;\\theta) = -\\frac{1}{2} (\\langle \\phi(x)\\partial_\\nu U| \\sigma_z |U\\phi(x) \\rangle + \\langle \\phi(x)\\partial_\\nu U| \\sigma_z |U\\phi(x) \\rangle^*) = - Re\\{ \\langle \\phi(x)\\partial_\\nu U| \\sigma_z |U\\phi(x) \\rangle\\}$$\n",
    "\n",
    "Generally speaking, $\\partial_\\nu U$ is not a unitary operator, and therefore cannot be implemented in a quantum circuit. However, due to our circuit architecture, il will be possible.\n",
    "\n",
    "The derivative of $U$ w.r.t $\\nu$ involves only the derivative of the elementary gate to which $\\nu$ belongs, due to the factorization of the circuit. It means that $\\partial_\\nu U = U_1...\\partial_\\nu(U_i)...U_L$ where $U_i$ is the gate to which $\\nu$ belongs.\n",
    "\n",
    "For an elementary unitary gate as described above, we have the following identities:\n",
    "\n",
    "$$\\partial_\\theta U = \\frac{1}{2} U(\\theta + \\pi, \\phi, \\lambda)$$\n",
    "\n",
    "$$\\partial_\\phi U = \\frac{i}{2} (U(\\theta, \\phi, \\lambda) - U(\\theta, \\phi + \\pi, \\lambda))$$\n",
    "\n",
    "$$\\partial_\\lambda U = \\frac{i}{2} U(\\theta, \\phi, \\lambda) - U(\\theta, \\phi, \\lambda + \\pi))$$\n",
    "\n",
    "Therefore $\\partial_\\nu U$ can be computed as the form\n",
    "\n",
    "$$ \\sum_{k=1}^{K}a_k Re\\{ \\langle \\phi(x)U(\\theta^{[k]})| \\sigma_z |U(\\theta)\\phi(x) \\rangle\\}+ \\sum_{l=1}^{L}b_l Im\\{ \\langle \\phi(x)U(\\theta^{[l]})| \\sigma_z |U(\\theta)\\phi(x) \\rangle\\}$$ where $\\theta^{[k]}$ and $\\theta^{[l]}$ are the modified vector of parameters from the above identities. The imaginary part comes from the $i$ in the same identities for $\\phi$ and $\\lambda$."
   ]
  },
  {
   "cell_type": "markdown",
   "metadata": {},
   "source": [
    "## Implementation"
   ]
  },
  {
   "cell_type": "markdown",
   "metadata": {},
   "source": [
    "We start by importing the necessary libraries"
   ]
  },
  {
   "cell_type": "code",
   "execution_count": 1,
   "metadata": {},
   "outputs": [],
   "source": [
    "import numpy as np\n",
    "from qiskit import *\n",
    "from qiskit.tools.jupyter import *\n",
    "import matplotlib.pyplot as plt\n",
    "from scipy.optimize import minimize\n",
    "from sklearn.preprocessing import Normalizer\n",
    "\n",
    "backend = BasicAer.get_backend('qasm_simulator')\n"
   ]
  },
  {
   "cell_type": "markdown",
   "metadata": {},
   "source": [
    "### Importing and cleaning the data, state preparation\n",
    "\n",
    "We use as an example the iris dataset. This dataset is composed of 4 variables labelled -1 or 1. We only keep as a feature the 2 first columns and transform the labels as 0 and 1. The data are then padded with constant values and renormalized to have a unitary vector. We use a special routine to encode the data in the quantum circuit. Given a unitary vector of dimension 4, we extract 5 angles with the function `get_angles`. These angles will serve as arguments to the encoding quantum circuit."
   ]
  },
  {
   "cell_type": "code",
   "execution_count": 2,
   "metadata": {},
   "outputs": [
    {
     "name": "stdout",
     "output_type": "stream",
     "text": [
      "First X sample (original)  : [0.4  0.75]\n",
      "First X sample (padded)    : [0.4  0.75 0.3  0.  ]\n",
      "First X sample (normalized): [0.44376016 0.83205029 0.33282012 0.        ]\n",
      "First features sample      : [ 0.67858523 -0.          0.         -1.080839    1.080839  ]\n"
     ]
    }
   ],
   "source": [
    "def get_angles(x):\n",
    "\n",
    "    beta0 = 2 * np.arcsin(np.sqrt(x[1]) ** 2 / np.sqrt(x[0] ** 2 + x[1] ** 2 + 1e-12))\n",
    "    beta1 = 2 * np.arcsin(np.sqrt(x[3]) ** 2 / np.sqrt(x[2] ** 2 + x[3] ** 2 + 1e-12))\n",
    "    beta2 = 2 * np.arcsin(\n",
    "        np.sqrt(x[2] ** 2 + x[3] ** 2) / np.sqrt(x[0] ** 2 + x[1] ** 2 + x[2] ** 2 + x[3] ** 2)\n",
    "    )\n",
    "\n",
    "    return np.array([beta2, -beta1 / 2, beta1 / 2, -beta0 / 2, beta0 / 2])\n",
    "\n",
    "data = np.loadtxt(\"iris_classes1and2_scaled.txt\")\n",
    "X = data[:, 0:2]\n",
    "print(\"First X sample (original)  :\", X[0])\n",
    "\n",
    "# pad the vectors to size 2^2 with constant values\n",
    "padding = 0.3 * np.ones((len(X), 1))\n",
    "X_pad = np.c_[np.c_[X, padding], np.zeros((len(X), 1))]\n",
    "print(\"First X sample (padded)    :\", X_pad[0])\n",
    "\n",
    "# normalize each input\n",
    "normalization = np.sqrt(np.sum(X_pad ** 2, -1))\n",
    "X_norm = (X_pad.T / normalization).T\n",
    "print(\"First X sample (normalized):\", X_norm[0])\n",
    "\n",
    "# angles for state preparation are new features\n",
    "features = np.array([get_angles(x) for x in X_norm])\n",
    "print(\"First features sample      :\", features[0])\n",
    "\n",
    "Y = (data[:, -1] + 1) / 2"
   ]
  },
  {
   "cell_type": "code",
   "execution_count": null,
   "metadata": {},
   "outputs": [],
   "source": []
  },
  {
   "cell_type": "code",
   "execution_count": 3,
   "metadata": {},
   "outputs": [
    {
     "data": {
      "image/png": "[encoded data removed]",
      "text/plain": [
       "<Figure size 730.828x204.68 with 1 Axes>"
      ]
     },
     "execution_count": 3,
     "metadata": {},
     "output_type": "execute_result"
    }
   ],
   "source": [
    "def statepreparation(a, circuit, target):\n",
    "    \n",
    "    a = 2*a\n",
    "    circuit.ry(a[0], target[0])\n",
    "    \n",
    "    circuit.cx(target[0], target[1])\n",
    "    circuit.ry(a[1], target[1])\n",
    "    circuit.cx(target[0], target[1])\n",
    "    circuit.ry(a[2], target[1])\n",
    "\n",
    "    circuit.x(target[0])\n",
    "    circuit.cx(target[0], target[1])\n",
    "    circuit.ry(a[3], target[1])\n",
    "    circuit.cx(target[0], target[1])\n",
    "    circuit.ry(a[4], target[1])\n",
    "    circuit.x(target[0])\n",
    "    \n",
    "    return circuit\n",
    "\n",
    "x = X_norm[0]\n",
    "ang = get_angles(x)\n",
    "q       = QuantumRegister(2)\n",
    "c       = ClassicalRegister(1)\n",
    "circuit = QuantumCircuit(q,c)\n",
    "circuit = statepreparation(ang, circuit, [0,1])\n",
    "circuit.draw(output='mpl')"
   ]
  },
  {
   "cell_type": "markdown",
   "metadata": {},
   "source": [
    "### Preparing the circuit"
   ]
  },
  {
   "cell_type": "markdown",
   "metadata": {},
   "source": [
    "These are intermediary functions that will help us to build our circuit. The ciruit is composed of several stacked blocks, which we can call layers, to make an analogy with neural networks. A layer is composed of a general parameterized unitary gate applied to both qubits, and "
   ]
  },
  {
   "cell_type": "code",
   "execution_count": 4,
   "metadata": {},
   "outputs": [],
   "source": [
    "def u_gate(param, circuit, target):\n",
    "    '''Return the quantum circuit with u3 gate applied on qubit target with param as an iterable'''\n",
    "    circuit.u3(param[0],param[1],param[2],target)\n",
    "    return circuit\n",
    "\n",
    "def cu_gate(param, circuit, control, target):\n",
    "    '''Return the quantum circuit with cu3 gate applied on qubit target with param as an iterable wrt control'''\n",
    "    circuit.cu3(param[0],param[1],param[2], control, target)\n",
    "    return circuit\n",
    "\n",
    "def circuit_block(param, circuit, target, same_order_x=True):\n",
    "    '''Return the block applied on qubits target from the circuit circuit\n",
    "    - param : array parameters for the two u gate\n",
    "    - target : array of integer the numero of qubits for the u gates to be applied\n",
    "    - if same_order_x == True : cx(target[0], target[1])\n",
    "    else: cx(target[1], target[0])'''\n",
    "    circuit = u_gate(param[0], circuit, target[0])\n",
    "    circuit = u_gate(param[1], circuit, target[1])\n",
    "    if same_order_x:\n",
    "        circuit.cx(target[0], target[1])\n",
    "    else:\n",
    "        circuit.cx(target[1], target[0])\n",
    "    return circuit\n",
    "\n",
    "def c_circuit_block(param, circuit, control, target, same_order_x=True):\n",
    "    '''Return the controlled block applied on qubits target from the circuit circuit\n",
    "    - param : array parameters for the two u gate\n",
    "    - target : array of integer the numero of qubits for the u gates to be applied\n",
    "    - if same_order_x == True : cx(target[0], target[1])\n",
    "    else: cx(target[1], target[0])'''\n",
    "    circuit = cu_gate(param[0], circuit, control, target[0])\n",
    "    circuit = cu_gate(param[1], circuit, control, target[1])\n",
    "    if same_order_x:\n",
    "        circuit.ccx(control, target[0], target[1])\n",
    "    else:\n",
    "        circuit.ccx(control, target[1], target[0])\n",
    "    return circuit\n",
    "\n",
    "def create_circuit(param, circuit, target):\n",
    "    order = True\n",
    "    for i in range(param.shape[0]):\n",
    "        circuit = circuit_block(param[i], circuit, target, order)\n",
    "        order = not order\n",
    "    return circuit\n",
    "\n",
    "def create_c_circuit(param, circuit, control, target):\n",
    "    order = True\n",
    "    for i in range(param.shape[0]):\n",
    "        circuit = c_circuit_block(param[i], circuit, control, target, order)\n",
    "        order = not order \n",
    "    return circuit"
   ]
  },
  {
   "cell_type": "markdown",
   "metadata": {},
   "source": [
    "The final circuit including state preparation, model and measurement is implemented below."
   ]
  },
  {
   "cell_type": "code",
   "execution_count": 5,
   "metadata": {},
   "outputs": [
    {
     "data": {
      "image/png": "[encoded data removed]",
      "text/plain": [
       "<Figure size 1513.43x204.68 with 1 Axes>"
      ]
     },
     "execution_count": 5,
     "metadata": {},
     "output_type": "execute_result"
    }
   ],
   "source": [
    "x = np.array([0.53896774, 0.79503606, 0.27826503, 0.0])\n",
    "ang = get_angles(x)\n",
    "\n",
    "params = np.array([[[np.pi/3,np.pi/3,np.pi/4],\n",
    "                    [np.pi/6,np.pi/4,np.pi/6]],\n",
    "                    [[np.pi/6,np.pi/4,np.pi/4],\n",
    "                    [np.pi/3,np.pi/7,np.pi/6]],\n",
    "                    [[np.pi/3,np.pi/3,np.pi/4],\n",
    "                    [np.pi/6,np.pi/4,np.pi/6]],\n",
    "                    [[np.pi/6,np.pi/4,np.pi/4],\n",
    "                    [np.pi/3,np.pi/7,np.pi/6]]])\n",
    "\n",
    "q       = QuantumRegister(2)\n",
    "c       = ClassicalRegister(1)\n",
    "circuit = QuantumCircuit(q,c)\n",
    "circuit = statepreparation(ang, circuit, [0,1])\n",
    "\n",
    "circuit = create_circuit(params, circuit, [0,1])\n",
    "\n",
    "circuit.measure(0,c)\n",
    "\n",
    "circuit.draw(output='mpl')"
   ]
  },
  {
   "cell_type": "markdown",
   "metadata": {},
   "source": [
    "The following function executes the circuit and returns the result of measurements."
   ]
  },
  {
   "cell_type": "code",
   "execution_count": 6,
   "metadata": {},
   "outputs": [
    {
     "data": {
      "text/plain": [
       "0.141"
      ]
     },
     "execution_count": 6,
     "metadata": {},
     "output_type": "execute_result"
    }
   ],
   "source": [
    "def execute_circuit(params, angles=None, x=None, use_angles=True, bias=0, shots=1000):\n",
    "    if not use_angles:\n",
    "        angles = get_angles(x)\n",
    "    q       = QuantumRegister(2)\n",
    "    c       = ClassicalRegister(1)\n",
    "    circuit = QuantumCircuit(q,c)\n",
    "    circuit = statepreparation(angles, circuit, [0,1])\n",
    "\n",
    "    circuit = create_circuit(params, circuit, [0,1])\n",
    "    circuit.measure(0,c)\n",
    "    result = execute(circuit,backend,shots=shots).result()\n",
    "\n",
    "    counts = result.get_counts(circuit)\n",
    "    result=np.zeros(2)\n",
    "    for key in counts:\n",
    "        result[int(key,2)]=counts[key]\n",
    "    result/=shots\n",
    "    return result[1] + bias\n",
    "\n",
    "execute_circuit(params, ang, bias=0.02)"
   ]
  },
  {
   "cell_type": "markdown",
   "metadata": {},
   "source": [
    "### Cost and accuracy functions\n",
    "\n",
    "We define now the cost function, square loss and binary crossentropy, and the accuracy."
   ]
  },
  {
   "cell_type": "code",
   "execution_count": 7,
   "metadata": {},
   "outputs": [],
   "source": [
    "def predict(probas):\n",
    "    return (probas>=0.5)*1\n",
    "\n",
    "def binary_crossentropy(labels, predictions):\n",
    "    loss = 0\n",
    "    for l, p in zip(labels, predictions):\n",
    "        loss = loss - l * np.log(np.max([p,1e-8]))\n",
    "\n",
    "    loss = loss / len(labels)\n",
    "    return loss\n",
    "\n",
    "def square_loss(labels, predictions):\n",
    "    loss = 0\n",
    "    for l, p in zip(labels, predictions):\n",
    "        loss = loss + (l - p) ** 2\n",
    "\n",
    "    loss = loss / len(labels)\n",
    "    return loss \n",
    "\n",
    "def cost(params, features, labels):\n",
    "    predictions = [execute_circuit(params, angles=f) for f in features]\n",
    "    return binary_crossentropy(labels, predictions)"
   ]
  },
  {
   "cell_type": "code",
   "execution_count": 8,
   "metadata": {},
   "outputs": [],
   "source": [
    "def accuracy(labels, predictions):\n",
    "\n",
    "    loss = 0\n",
    "    for l, p in zip(labels, predictions):\n",
    "        if abs(l - p) < 1e-5:\n",
    "            loss = loss + 1\n",
    "    loss = loss / len(labels)\n",
    "\n",
    "    return loss"
   ]
  },
  {
   "cell_type": "markdown",
   "metadata": {},
   "source": [
    "### Computing the gradients"
   ]
  },
  {
   "cell_type": "markdown",
   "metadata": {},
   "source": [
    "The following routines will compute $Re\\{ \\langle \\phi(x)U(\\theta^{[k]})| \\sigma_z |U(\\theta)\\phi(x) \\rangle\\}$ and $Im\\{ \\langle \\phi(x)U(\\theta^{[l]})| \\sigma_z |U(\\theta)\\phi(x) \\rangle\\}$ for given parameters $\\theta^{[k]}$, $\\theta^{[l]}$ and $\\theta$.\n",
    "\n",
    "Let us assume we can prepare two unitary states $|A\\rangle$ and $|B\\rangle$ (result of an action of unitary operators $A$ and $B$ on $|0_p\\rangle$) conditioned to the state of an ancilla qubit $a$, that is the state \n",
    "$$ \\frac{|0\\rangle|A\\rangle + |1\\rangle|B\\rangle}{\\sqrt{2}}$$\n",
    "\n",
    "Applying a Hadamard to the ancilla leads to \n",
    "$$ \\frac{|0\\rangle(|A\\rangle+|B\\rangle) + |1\\rangle(|A\\rangle-|B\\rangle)}{2}$$\n",
    "\n",
    "$\\mathbb{P}(a=0) = (|A\\rangle+|B\\rangle)^\\dagger(|A\\rangle+|B\\rangle) = \\frac{1}{4}(2 + \\langle A|B\\rangle + \\langle B|A\\rangle) = \\frac{1}{2} + \\frac{1}{2}Re(\\langle A|B\\rangle)$. By measuring the ancilla, it is then possible to obtain $Re(\\langle A|B\\rangle)$.\n",
    "\n",
    "To compute $Im(\\langle A|B\\rangle)$, the procedure is very similar. We prepare the state \n",
    "$$ \\frac{|0\\rangle|A\\rangle + i|1\\rangle|B\\rangle}{\\sqrt{2}}$$\n",
    "This can be done by applying a $U(0,0,\\pi/2)$ gate to the ancilla. We then apply a Hadamard to the ancilla, and we have $\\mathbb{P}(a=0) = \\frac{1}{2} - \\frac{1}{2}Im(\\langle A|B\\rangle)$\n",
    "\n",
    "**How to prepare the initial conditioned state?**\n",
    "\n",
    "We start with $p$ qubits and an ancilla, and apply a Hadamard gate to the ancilla. It leads to the state\n",
    "$$\\frac{|0\\rangle|0_p\\rangle + |1\\rangle|0_p\\rangle}{\\sqrt{2}}$$\n",
    "\n",
    "We apply $B$ controlled by the ancilla to the $p$ qubits, which is\n",
    "$$\\frac{|0\\rangle|0_p\\rangle + |1\\rangle|B\\rangle}{\\sqrt{2}}$$\n",
    "\n",
    "We flip the ancilla\n",
    "$$\\frac{|1\\rangle|0_p\\rangle + |0\\rangle|B\\rangle}{\\sqrt{2}}$$\n",
    "\n",
    "We apply $A$ controlled by the ancilla to the $p$ qubits\n",
    "$$\\frac{|1\\rangle|A\\rangle + |0\\rangle|B\\rangle}{\\sqrt{2}}$$\n",
    "\n",
    "We flip again the ancilla\n",
    "$$\\frac{|0\\rangle|A\\rangle + |1\\rangle|B\\rangle}{\\sqrt{2}}$$"
   ]
  },
  {
   "cell_type": "code",
   "execution_count": 9,
   "metadata": {},
   "outputs": [],
   "source": [
    "def real(param1, param2, angles, shots=1000):\n",
    "    \"\"\"Returns Re{<circuit(param2)|sigma_z|circuit(param1)>}\"\"\"\n",
    "    q = QuantumRegister(3)\n",
    "    c = ClassicalRegister(1)\n",
    "    circuit = QuantumCircuit(q,c)\n",
    "    circuit.h(q[0])\n",
    "    circuit = statepreparation(angles, circuit, [1,2])\n",
    "    circuit = create_c_circuit(param1, circuit, 0, [1,2])\n",
    "    circuit.cz(q[0], q[1])\n",
    "    circuit.x(q[0])\n",
    "    circuit = create_c_circuit(param2, circuit, 0, [1,2])\n",
    "    circuit.x(q[0])\n",
    "    circuit.h(q[0])\n",
    "    circuit.measure(q[0],c)\n",
    "    result = execute(circuit,backend,shots=shots).result()\n",
    "    counts = result.get_counts(circuit)\n",
    "    result=np.zeros(2)\n",
    "    for key in counts:\n",
    "        result[int(key,2)]=counts[key]\n",
    "    result/=shots\n",
    "    return (2*result[0]-1)\n",
    "\n",
    "def imaginary(param1, param2, angles, shots=1000):\n",
    "    \"\"\"Returns Im{<circuit(param2)|sigma_z|circuit(param1)>}\"\"\"\n",
    "    q = QuantumRegister(3)\n",
    "    c = ClassicalRegister(1)\n",
    "    circuit = QuantumCircuit(q,c)\n",
    "    circuit.h(q[0])\n",
    "    circuit = statepreparation(angles, circuit, [1,2])\n",
    "    circuit = create_c_circuit(param1, circuit, 0, [1,2])\n",
    "    circuit.cz(q[0], q[1])\n",
    "    circuit.x(q[0])\n",
    "    circuit = create_c_circuit(param2, circuit, 0, [1,2])\n",
    "    circuit.x(q[0])\n",
    "    circuit.u1(np.pi/2, q[0])\n",
    "    circuit.h(q[0])\n",
    "    circuit.measure(q[0],c)\n",
    "    result = execute(circuit,backend,shots=shots).result()\n",
    "    counts = result.get_counts(circuit)\n",
    "    result=np.zeros(2)\n",
    "    for key in counts:\n",
    "        result[int(key,2)]=counts[key]\n",
    "    result/=shots\n",
    "    return -(2*result[0]-1)"
   ]
  },
  {
   "cell_type": "code",
   "execution_count": 10,
   "metadata": {},
   "outputs": [],
   "source": [
    "def gradients(params, angles, label, bias=0):\n",
    "    grads = np.zeros_like(params)\n",
    "    imag = imaginary(params, params, angles)\n",
    "    for i in range(params.shape[0]):\n",
    "        for j in range(params.shape[1]):\n",
    "            params_bis = np.copy(params)\n",
    "            \n",
    "            params_bis[i,j,0]+=np.pi\n",
    "            grads[i,j,0] = -0.5 * real(params, params_bis, angles)\n",
    "            params_bis[i,j,0]-=np.pi\n",
    "            \n",
    "            params_bis[i,j,1]+=np.pi\n",
    "            grads[i,j,1] = 0.5 * (imaginary(params, params_bis, angles) - imag)\n",
    "            params_bis[i,j,1]-=np.pi\n",
    "            \n",
    "            params_bis[i,j,2]+=np.pi\n",
    "            grads[i,j,2] = 0.5 * (imaginary(params, params_bis, angles) - imag)\n",
    "            params_bis[i,j,2]-=np.pi\n",
    "    p = execute_circuit(params, angles, bias=bias) \n",
    "    grad_bias = (p - label) / (p * (1 - p))\n",
    "    grads *= grad_bias\n",
    "    return grads, grad_bias\n",
    "            "
   ]
  },
  {
   "cell_type": "markdown",
   "metadata": {},
   "source": [
    "### Training of the model"
   ]
  },
  {
   "cell_type": "code",
   "execution_count": 11,
   "metadata": {},
   "outputs": [],
   "source": [
    "np.random.seed(0)\n",
    "num_data = len(Y)\n",
    "num_train = int(0.75 * num_data)\n",
    "index = np.random.permutation(range(num_data))\n",
    "feats_train = features[index[:num_train]]\n",
    "Y_train = Y[index[:num_train]]\n",
    "feats_val = features[index[num_train:]]\n",
    "Y_val = Y[index[num_train:]]\n",
    "\n",
    "# We need these later for plotting\n",
    "X_train = X[index[:num_train]]\n",
    "X_val = X[index[num_train:]]\n"
   ]
  },
  {
   "cell_type": "code",
   "execution_count": 12,
   "metadata": {
    "scrolled": true
   },
   "outputs": [
    {
     "name": "stdout",
     "output_type": "stream",
     "text": [
      "Iter:     1 | Loss: 0.4939705 | Acc train: 0.4666667 | Acc validation: 0.3600000 \n",
      "Iter:     2 | Loss: 0.4775516 | Acc train: 0.4666667 | Acc validation: 0.3600000 \n",
      "Iter:     3 | Loss: 0.4598722 | Acc train: 0.5066667 | Acc validation: 0.3200000 \n",
      "Iter:     4 | Loss: 0.4089149 | Acc train: 0.5733333 | Acc validation: 0.4000000 \n",
      "Iter:     5 | Loss: 0.3730197 | Acc train: 0.6266667 | Acc validation: 0.5200000 \n"
     ]
    },
    {
     "ename": "KeyboardInterrupt",
     "evalue": "",
     "output_type": "error",
     "traceback": [
      "\u001b[1;31m---------------------------------------------------------------------------\u001b[0m",
      "\u001b[1;31mKeyboardInterrupt\u001b[0m                         Traceback (most recent call last)",
      "\u001b[1;32m<ipython-input-12-4f612adf3326>\u001b[0m in \u001b[0;36m<module>\u001b[1;34m\u001b[0m\n\u001b[0;32m     33\u001b[0m \u001b[1;33m\u001b[0m\u001b[0m\n\u001b[0;32m     34\u001b[0m     \u001b[1;31m# Compute predictions on train and validation set\u001b[0m\u001b[1;33m\u001b[0m\u001b[1;33m\u001b[0m\u001b[1;33m\u001b[0m\u001b[0m\n\u001b[1;32m---> 35\u001b[1;33m     \u001b[0mprobas_train\u001b[0m \u001b[1;33m=\u001b[0m \u001b[0mnp\u001b[0m\u001b[1;33m.\u001b[0m\u001b[0marray\u001b[0m\u001b[1;33m(\u001b[0m\u001b[1;33m[\u001b[0m\u001b[0mexecute_circuit\u001b[0m\u001b[1;33m(\u001b[0m\u001b[0mvar\u001b[0m\u001b[1;33m,\u001b[0m \u001b[0mangles\u001b[0m\u001b[1;33m=\u001b[0m\u001b[0mf\u001b[0m\u001b[1;33m,\u001b[0m \u001b[0mbias\u001b[0m\u001b[1;33m=\u001b[0m\u001b[0mbias\u001b[0m\u001b[1;33m)\u001b[0m \u001b[1;32mfor\u001b[0m \u001b[0mf\u001b[0m \u001b[1;32min\u001b[0m \u001b[0mfeats_train\u001b[0m\u001b[1;33m]\u001b[0m\u001b[1;33m)\u001b[0m\u001b[1;33m\u001b[0m\u001b[1;33m\u001b[0m\u001b[0m\n\u001b[0m\u001b[0;32m     36\u001b[0m     \u001b[0mprobas_val\u001b[0m \u001b[1;33m=\u001b[0m \u001b[0mnp\u001b[0m\u001b[1;33m.\u001b[0m\u001b[0marray\u001b[0m\u001b[1;33m(\u001b[0m\u001b[1;33m[\u001b[0m\u001b[0mexecute_circuit\u001b[0m\u001b[1;33m(\u001b[0m\u001b[0mvar\u001b[0m\u001b[1;33m,\u001b[0m \u001b[0mangles\u001b[0m\u001b[1;33m=\u001b[0m\u001b[0mf\u001b[0m\u001b[1;33m,\u001b[0m \u001b[0mbias\u001b[0m\u001b[1;33m=\u001b[0m\u001b[0mbias\u001b[0m\u001b[1;33m)\u001b[0m \u001b[1;32mfor\u001b[0m \u001b[0mf\u001b[0m \u001b[1;32min\u001b[0m \u001b[0mfeats_val\u001b[0m\u001b[1;33m]\u001b[0m\u001b[1;33m)\u001b[0m\u001b[1;33m\u001b[0m\u001b[1;33m\u001b[0m\u001b[0m\n\u001b[0;32m     37\u001b[0m     \u001b[0mpredictions_train\u001b[0m \u001b[1;33m=\u001b[0m \u001b[0mpredict\u001b[0m\u001b[1;33m(\u001b[0m\u001b[0mprobas_train\u001b[0m\u001b[1;33m)\u001b[0m\u001b[1;33m\u001b[0m\u001b[1;33m\u001b[0m\u001b[0m\n",
      "\u001b[1;32m<ipython-input-12-4f612adf3326>\u001b[0m in \u001b[0;36m<listcomp>\u001b[1;34m(.0)\u001b[0m\n\u001b[0;32m     33\u001b[0m \u001b[1;33m\u001b[0m\u001b[0m\n\u001b[0;32m     34\u001b[0m     \u001b[1;31m# Compute predictions on train and validation set\u001b[0m\u001b[1;33m\u001b[0m\u001b[1;33m\u001b[0m\u001b[1;33m\u001b[0m\u001b[0m\n\u001b[1;32m---> 35\u001b[1;33m     \u001b[0mprobas_train\u001b[0m \u001b[1;33m=\u001b[0m \u001b[0mnp\u001b[0m\u001b[1;33m.\u001b[0m\u001b[0marray\u001b[0m\u001b[1;33m(\u001b[0m\u001b[1;33m[\u001b[0m\u001b[0mexecute_circuit\u001b[0m\u001b[1;33m(\u001b[0m\u001b[0mvar\u001b[0m\u001b[1;33m,\u001b[0m \u001b[0mangles\u001b[0m\u001b[1;33m=\u001b[0m\u001b[0mf\u001b[0m\u001b[1;33m,\u001b[0m \u001b[0mbias\u001b[0m\u001b[1;33m=\u001b[0m\u001b[0mbias\u001b[0m\u001b[1;33m)\u001b[0m \u001b[1;32mfor\u001b[0m \u001b[0mf\u001b[0m \u001b[1;32min\u001b[0m \u001b[0mfeats_train\u001b[0m\u001b[1;33m]\u001b[0m\u001b[1;33m)\u001b[0m\u001b[1;33m\u001b[0m\u001b[1;33m\u001b[0m\u001b[0m\n\u001b[0m\u001b[0;32m     36\u001b[0m     \u001b[0mprobas_val\u001b[0m \u001b[1;33m=\u001b[0m \u001b[0mnp\u001b[0m\u001b[1;33m.\u001b[0m\u001b[0marray\u001b[0m\u001b[1;33m(\u001b[0m\u001b[1;33m[\u001b[0m\u001b[0mexecute_circuit\u001b[0m\u001b[1;33m(\u001b[0m\u001b[0mvar\u001b[0m\u001b[1;33m,\u001b[0m \u001b[0mangles\u001b[0m\u001b[1;33m=\u001b[0m\u001b[0mf\u001b[0m\u001b[1;33m,\u001b[0m \u001b[0mbias\u001b[0m\u001b[1;33m=\u001b[0m\u001b[0mbias\u001b[0m\u001b[1;33m)\u001b[0m \u001b[1;32mfor\u001b[0m \u001b[0mf\u001b[0m \u001b[1;32min\u001b[0m \u001b[0mfeats_val\u001b[0m\u001b[1;33m]\u001b[0m\u001b[1;33m)\u001b[0m\u001b[1;33m\u001b[0m\u001b[1;33m\u001b[0m\u001b[0m\n\u001b[0;32m     37\u001b[0m     \u001b[0mpredictions_train\u001b[0m \u001b[1;33m=\u001b[0m \u001b[0mpredict\u001b[0m\u001b[1;33m(\u001b[0m\u001b[0mprobas_train\u001b[0m\u001b[1;33m)\u001b[0m\u001b[1;33m\u001b[0m\u001b[1;33m\u001b[0m\u001b[0m\n",
      "\u001b[1;32m<ipython-input-6-8fc955a99aac>\u001b[0m in \u001b[0;36mexecute_circuit\u001b[1;34m(params, angles, x, use_angles, bias, shots)\u001b[0m\n\u001b[0;32m      9\u001b[0m     \u001b[0mcircuit\u001b[0m \u001b[1;33m=\u001b[0m \u001b[0mcreate_circuit\u001b[0m\u001b[1;33m(\u001b[0m\u001b[0mparams\u001b[0m\u001b[1;33m,\u001b[0m \u001b[0mcircuit\u001b[0m\u001b[1;33m,\u001b[0m \u001b[1;33m[\u001b[0m\u001b[1;36m0\u001b[0m\u001b[1;33m,\u001b[0m\u001b[1;36m1\u001b[0m\u001b[1;33m]\u001b[0m\u001b[1;33m)\u001b[0m\u001b[1;33m\u001b[0m\u001b[1;33m\u001b[0m\u001b[0m\n\u001b[0;32m     10\u001b[0m     \u001b[0mcircuit\u001b[0m\u001b[1;33m.\u001b[0m\u001b[0mmeasure\u001b[0m\u001b[1;33m(\u001b[0m\u001b[1;36m0\u001b[0m\u001b[1;33m,\u001b[0m\u001b[0mc\u001b[0m\u001b[1;33m)\u001b[0m\u001b[1;33m\u001b[0m\u001b[1;33m\u001b[0m\u001b[0m\n\u001b[1;32m---> 11\u001b[1;33m     \u001b[0mresult\u001b[0m \u001b[1;33m=\u001b[0m \u001b[0mexecute\u001b[0m\u001b[1;33m(\u001b[0m\u001b[0mcircuit\u001b[0m\u001b[1;33m,\u001b[0m\u001b[0mbackend\u001b[0m\u001b[1;33m,\u001b[0m\u001b[0mshots\u001b[0m\u001b[1;33m=\u001b[0m\u001b[0mshots\u001b[0m\u001b[1;33m)\u001b[0m\u001b[1;33m.\u001b[0m\u001b[0mresult\u001b[0m\u001b[1;33m(\u001b[0m\u001b[1;33m)\u001b[0m\u001b[1;33m\u001b[0m\u001b[1;33m\u001b[0m\u001b[0m\n\u001b[0m\u001b[0;32m     12\u001b[0m \u001b[1;33m\u001b[0m\u001b[0m\n\u001b[0;32m     13\u001b[0m     \u001b[0mcounts\u001b[0m \u001b[1;33m=\u001b[0m \u001b[0mresult\u001b[0m\u001b[1;33m.\u001b[0m\u001b[0mget_counts\u001b[0m\u001b[1;33m(\u001b[0m\u001b[0mcircuit\u001b[0m\u001b[1;33m)\u001b[0m\u001b[1;33m\u001b[0m\u001b[1;33m\u001b[0m\u001b[0m\n",
      "\u001b[1;32me:\\developmentenvironments\\anaconda3\\envs\\qiskit19_env\\lib\\site-packages\\qiskit\\providers\\basicaer\\basicaerjob.py\u001b[0m in \u001b[0;36m_wrapper\u001b[1;34m(self, *args, **kwargs)\u001b[0m\n\u001b[0;32m     38\u001b[0m         \u001b[1;32mif\u001b[0m \u001b[0mself\u001b[0m\u001b[1;33m.\u001b[0m\u001b[0m_future\u001b[0m \u001b[1;32mis\u001b[0m \u001b[1;32mNone\u001b[0m\u001b[1;33m:\u001b[0m\u001b[1;33m\u001b[0m\u001b[1;33m\u001b[0m\u001b[0m\n\u001b[0;32m     39\u001b[0m             \u001b[1;32mraise\u001b[0m \u001b[0mJobError\u001b[0m\u001b[1;33m(\u001b[0m\u001b[1;34m\"Job not submitted yet!. You have to .submit() first!\"\u001b[0m\u001b[1;33m)\u001b[0m\u001b[1;33m\u001b[0m\u001b[1;33m\u001b[0m\u001b[0m\n\u001b[1;32m---> 40\u001b[1;33m         \u001b[1;32mreturn\u001b[0m \u001b[0mfunc\u001b[0m\u001b[1;33m(\u001b[0m\u001b[0mself\u001b[0m\u001b[1;33m,\u001b[0m \u001b[1;33m*\u001b[0m\u001b[0margs\u001b[0m\u001b[1;33m,\u001b[0m \u001b[1;33m**\u001b[0m\u001b[0mkwargs\u001b[0m\u001b[1;33m)\u001b[0m\u001b[1;33m\u001b[0m\u001b[1;33m\u001b[0m\u001b[0m\n\u001b[0m\u001b[0;32m     41\u001b[0m     \u001b[1;32mreturn\u001b[0m \u001b[0m_wrapper\u001b[0m\u001b[1;33m\u001b[0m\u001b[1;33m\u001b[0m\u001b[0m\n\u001b[0;32m     42\u001b[0m \u001b[1;33m\u001b[0m\u001b[0m\n",
      "\u001b[1;32me:\\developmentenvironments\\anaconda3\\envs\\qiskit19_env\\lib\\site-packages\\qiskit\\providers\\basicaer\\basicaerjob.py\u001b[0m in \u001b[0;36mresult\u001b[1;34m(self, timeout)\u001b[0m\n\u001b[0;32m     93\u001b[0m             \u001b[0mconcurrent\u001b[0m\u001b[1;33m.\u001b[0m\u001b[0mfutures\u001b[0m\u001b[1;33m.\u001b[0m\u001b[0mCancelledError\u001b[0m\u001b[1;33m:\u001b[0m \u001b[1;32mif\u001b[0m \u001b[0mjob\u001b[0m \u001b[0mcancelled\u001b[0m \u001b[0mbefore\u001b[0m \u001b[0mcompleted\u001b[0m\u001b[1;33m.\u001b[0m\u001b[1;33m\u001b[0m\u001b[1;33m\u001b[0m\u001b[0m\n\u001b[0;32m     94\u001b[0m         \"\"\"\n\u001b[1;32m---> 95\u001b[1;33m         \u001b[1;32mreturn\u001b[0m \u001b[0mself\u001b[0m\u001b[1;33m.\u001b[0m\u001b[0m_future\u001b[0m\u001b[1;33m.\u001b[0m\u001b[0mresult\u001b[0m\u001b[1;33m(\u001b[0m\u001b[0mtimeout\u001b[0m\u001b[1;33m=\u001b[0m\u001b[0mtimeout\u001b[0m\u001b[1;33m)\u001b[0m\u001b[1;33m\u001b[0m\u001b[1;33m\u001b[0m\u001b[0m\n\u001b[0m\u001b[0;32m     96\u001b[0m \u001b[1;33m\u001b[0m\u001b[0m\n\u001b[0;32m     97\u001b[0m     \u001b[1;33m@\u001b[0m\u001b[0mrequires_submit\u001b[0m\u001b[1;33m\u001b[0m\u001b[1;33m\u001b[0m\u001b[0m\n",
      "\u001b[1;32me:\\developmentenvironments\\anaconda3\\envs\\qiskit19_env\\lib\\concurrent\\futures\\_base.py\u001b[0m in \u001b[0;36mresult\u001b[1;34m(self, timeout)\u001b[0m\n\u001b[0;32m    432\u001b[0m                 \u001b[1;32mreturn\u001b[0m \u001b[0mself\u001b[0m\u001b[1;33m.\u001b[0m\u001b[0m__get_result\u001b[0m\u001b[1;33m(\u001b[0m\u001b[1;33m)\u001b[0m\u001b[1;33m\u001b[0m\u001b[1;33m\u001b[0m\u001b[0m\n\u001b[0;32m    433\u001b[0m \u001b[1;33m\u001b[0m\u001b[0m\n\u001b[1;32m--> 434\u001b[1;33m             \u001b[0mself\u001b[0m\u001b[1;33m.\u001b[0m\u001b[0m_condition\u001b[0m\u001b[1;33m.\u001b[0m\u001b[0mwait\u001b[0m\u001b[1;33m(\u001b[0m\u001b[0mtimeout\u001b[0m\u001b[1;33m)\u001b[0m\u001b[1;33m\u001b[0m\u001b[1;33m\u001b[0m\u001b[0m\n\u001b[0m\u001b[0;32m    435\u001b[0m \u001b[1;33m\u001b[0m\u001b[0m\n\u001b[0;32m    436\u001b[0m             \u001b[1;32mif\u001b[0m \u001b[0mself\u001b[0m\u001b[1;33m.\u001b[0m\u001b[0m_state\u001b[0m \u001b[1;32min\u001b[0m \u001b[1;33m[\u001b[0m\u001b[0mCANCELLED\u001b[0m\u001b[1;33m,\u001b[0m \u001b[0mCANCELLED_AND_NOTIFIED\u001b[0m\u001b[1;33m]\u001b[0m\u001b[1;33m:\u001b[0m\u001b[1;33m\u001b[0m\u001b[1;33m\u001b[0m\u001b[0m\n",
      "\u001b[1;32me:\\developmentenvironments\\anaconda3\\envs\\qiskit19_env\\lib\\threading.py\u001b[0m in \u001b[0;36mwait\u001b[1;34m(self, timeout)\u001b[0m\n\u001b[0;32m    300\u001b[0m         \u001b[1;32mtry\u001b[0m\u001b[1;33m:\u001b[0m    \u001b[1;31m# restore state no matter what (e.g., KeyboardInterrupt)\u001b[0m\u001b[1;33m\u001b[0m\u001b[1;33m\u001b[0m\u001b[0m\n\u001b[0;32m    301\u001b[0m             \u001b[1;32mif\u001b[0m \u001b[0mtimeout\u001b[0m \u001b[1;32mis\u001b[0m \u001b[1;32mNone\u001b[0m\u001b[1;33m:\u001b[0m\u001b[1;33m\u001b[0m\u001b[1;33m\u001b[0m\u001b[0m\n\u001b[1;32m--> 302\u001b[1;33m                 \u001b[0mwaiter\u001b[0m\u001b[1;33m.\u001b[0m\u001b[0macquire\u001b[0m\u001b[1;33m(\u001b[0m\u001b[1;33m)\u001b[0m\u001b[1;33m\u001b[0m\u001b[1;33m\u001b[0m\u001b[0m\n\u001b[0m\u001b[0;32m    303\u001b[0m                 \u001b[0mgotit\u001b[0m \u001b[1;33m=\u001b[0m \u001b[1;32mTrue\u001b[0m\u001b[1;33m\u001b[0m\u001b[1;33m\u001b[0m\u001b[0m\n\u001b[0;32m    304\u001b[0m             \u001b[1;32melse\u001b[0m\u001b[1;33m:\u001b[0m\u001b[1;33m\u001b[0m\u001b[1;33m\u001b[0m\u001b[0m\n",
      "\u001b[1;31mKeyboardInterrupt\u001b[0m: "
     ]
    }
   ],
   "source": [
    "layers = 6\n",
    "params_init = np.random.randn(layers,2,3) * 0.01\n",
    "bias_init = 0.01\n",
    "batch_size = 5\n",
    "learning_rate = 0.01\n",
    "momentum = 0.9\n",
    "\n",
    "var = np.copy(params_init)\n",
    "bias = bias_init\n",
    "v = np.zeros_like(var)\n",
    "v_bias = 0\n",
    "\n",
    "for it in range(15):\n",
    "\n",
    "    # Update the weights by one optimizer step\n",
    "    batch_index = np.random.randint(0, num_train, (batch_size,))\n",
    "    feats_train_batch = feats_train[batch_index]\n",
    "    Y_train_batch = Y_train[batch_index]\n",
    "    grads = np.zeros_like(var)\n",
    "    grad_bias = 0\n",
    "    var_corrected = var + momentum * v\n",
    "    bias_corrected = bias + momentum * v_bias\n",
    "    for j in range(batch_size):\n",
    "        g, g_bias = gradients(var_corrected, feats_train_batch[j], Y_train_batch[j], bias)\n",
    "        grads += g / batch_size\n",
    "        grad_bias +=g_bias / batch_size\n",
    "    \n",
    "    v = momentum * v - learning_rate * grads\n",
    "    v_bias = momentum * v_bias - learning_rate * grad_bias\n",
    "    \n",
    "    var += v\n",
    "    bias += v_bias\n",
    "\n",
    "    # Compute predictions on train and validation set\n",
    "    probas_train = np.array([execute_circuit(var, angles=f, bias=bias) for f in feats_train])\n",
    "    probas_val = np.array([execute_circuit(var, angles=f, bias=bias) for f in feats_val])\n",
    "    predictions_train = predict(probas_train)\n",
    "    predictions_val = predict(probas_val)\n",
    "\n",
    "    # Compute accuracy on train and validation set\n",
    "    acc_train = accuracy(Y_train, predictions_train)\n",
    "    acc_val = accuracy(Y_val, predictions_val)\n",
    "\n",
    "    print(\n",
    "        \"Iter: {:5d} | Loss: {:0.7f} | Acc train: {:0.7f} | Acc validation: {:0.7f} \"\n",
    "        \"\".format(it + 1, cost(var, features, Y), acc_train, acc_val)\n",
    "    )"
   ]
  },
  {
   "cell_type": "markdown",
   "metadata": {},
   "source": [
    "### Plot of the results"
   ]
  },
  {
   "cell_type": "code",
   "execution_count": 13,
   "metadata": {},
   "outputs": [
    {
     "name": "stderr",
     "output_type": "stream",
     "text": [
      "<ipython-input-13-0cc99dd718b7>:21: UserWarning: No contour levels were found within the data range.\n",
      "  plt.contour(xx, yy, Z, levels=[0.0], colors=(\"black\",), linestyles=(\"--\",), linewidths=(0.8,))\n"
     ]
    },
    {
     "data": {
      "image/png": "[encoded data removed]",
      "text/plain": [
       "<Figure size 432x288 with 2 Axes>"
      ]
     },
     "metadata": {
      "needs_background": "light"
     },
     "output_type": "display_data"
    }
   ],
   "source": [
    "plt.figure()\n",
    "cm = plt.cm.RdBu\n",
    "\n",
    "# make data for decision regions\n",
    "xx, yy = np.meshgrid(np.linspace(0.0, 1.5, 20), np.linspace(0.0, 1.5, 20))\n",
    "X_grid = [np.array([x, y]) for x, y in zip(xx.flatten(), yy.flatten())]\n",
    "\n",
    "# preprocess grid points like data inputs above\n",
    "padding = 0.3 * np.ones((len(X_grid), 1))\n",
    "X_grid = np.c_[np.c_[X_grid, padding], np.zeros((len(X_grid), 1))]  # pad each input\n",
    "normalization = np.sqrt(np.sum(X_grid ** 2, -1))\n",
    "X_grid = (X_grid.T / normalization).T  # normalize each input\n",
    "features_grid = np.array(\n",
    "    [get_angles(x) for x in X_grid]\n",
    ")  # angles for state preparation are new features\n",
    "predictions_grid = [execute_circuit(var, angles=f, bias=bias, shots=10000) for f in features_grid]\n",
    "Z = np.reshape(predictions_grid, xx.shape)\n",
    "\n",
    "# plot decision regions\n",
    "cnt = plt.contourf(xx, yy, Z, levels=np.arange(0, 1.1, 0.1), cmap=cm, alpha=0.8, extend=\"both\")\n",
    "plt.contour(xx, yy, Z, levels=[0.0], colors=(\"black\",), linestyles=(\"--\",), linewidths=(0.8,))\n",
    "plt.colorbar(cnt, ticks=[0, 0, 1])\n",
    "\n",
    "# plot data\n",
    "plt.scatter(\n",
    "    X_train[:, 0][Y_train == 1],\n",
    "    X_train[:, 1][Y_train == 1],\n",
    "    c=\"b\",\n",
    "    marker=\"o\",\n",
    "    edgecolors=\"k\",\n",
    "    label=\"class 1 train\",\n",
    ")\n",
    "plt.scatter(\n",
    "    X_val[:, 0][Y_val == 1],\n",
    "    X_val[:, 1][Y_val == 1],\n",
    "    c=\"b\",\n",
    "    marker=\"^\",\n",
    "    edgecolors=\"k\",\n",
    "    label=\"class 1 validation\",\n",
    ")\n",
    "plt.scatter(\n",
    "    X_train[:, 0][Y_train == 0],\n",
    "    X_train[:, 1][Y_train == 0],\n",
    "    c=\"r\",\n",
    "    marker=\"o\",\n",
    "    edgecolors=\"k\",\n",
    "    label=\"class 0 train\",\n",
    ")\n",
    "plt.scatter(\n",
    "    X_val[:, 0][Y_val == 0],\n",
    "    X_val[:, 1][Y_val == 0],\n",
    "    c=\"r\",\n",
    "    marker=\"^\",\n",
    "    edgecolors=\"k\",\n",
    "    label=\"class 0 validation\",\n",
    ")\n",
    "\n",
    "plt.legend()\n",
    "plt.show()"
   ]
  },
  {
   "cell_type": "markdown",
   "metadata": {},
   "source": [
    "## References\n",
    "\n",
    "[Circuit-centric quantum classifiers](https://arxiv.org/pdf/1804.00633.pdf), M. Schuld et al."
   ]
  },
  {
   "cell_type": "code",
   "execution_count": null,
   "metadata": {},
   "outputs": [],
   "source": []
  }
 ],
 "metadata": {
  "kernelspec": {
   "display_name": "Python 3",
   "language": "python",
   "name": "python3"
  },
  "language_info": {
   "codemirror_mode": {
    "name": "ipython",
    "version": 3
   },
   "file_extension": ".py",
   "mimetype": "text/x-python",
   "name": "python",
   "nbconvert_exporter": "python",
   "pygments_lexer": "ipython3",
   "version": "3.8.2"
  }
 },
 "nbformat": 4,
 "nbformat_minor": 2
}
