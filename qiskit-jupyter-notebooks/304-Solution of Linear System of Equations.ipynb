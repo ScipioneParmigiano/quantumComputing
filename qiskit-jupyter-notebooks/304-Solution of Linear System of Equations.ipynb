{
 "cells": [
  {
   "cell_type": "markdown",
   "metadata": {},
   "source": [
    "# Solution of  Linear Systems of Equations\n",
    "\n",
    "The HHL algorithm (based on surnames Harrow-Hassidim-Lloyd) - quantum algorithm to solve systems of linear equations \n",
    "$$A \\vec{x} = \\vec{b}$$.\n",
    "\n",
    "To execute this algorithm, we require 4 main steps with three qubit registers:\n",
    "<br><b>Step 1 :</b> Express the vector $\\vec{b}$ as a quantum state $|b\\rangle$ on a quantum register\n",
    "<br><b>Step 2 :</b> Decompose $\\vec{b}$ into a superposition of eigenvectors of $A$ remembering on the linear combination of the vector $\\vec{b}$. We achieve this using the Quantum Phase Estimation algorithm (Quantum Phase Estimation (QPE)). Since the matrix is hereby diagonalized wherefore $A$ is easily invertible.\n",
    "<br><b>Step 3 :</b> The inversion of the eigenvector base of $A$ is achieved by rotating an ancillary qubit by an angle $\\arcsin \\left( \\frac{C}{\\lambda _{\\text{i}}} \\right)$ around the y-axis where $\\lambda_{\\text{i}}$ are the eigenvalues of $A$. Now, we obtain the state $A^{-1}|b\\rangle = |x \\rangle$.\n",
    "<br><b>Step 4 :</b> We need to uncompute the register storing the eigenvalues using the inverse QPE. We measure the ancillary qubit whereby the measurement of 1 indicates that the matrix inversion was successful. The inverse QPE leaves the system in a state proportional to the solution vector $|x\\rangle$. In many cases one is not interested in the single vector elements of $|x\\rangle$ but only on certain properties. These are accessible by applying a problem-specific operator $M$ to the state $|x\\rangle$. \n",
    "\n",
    "Another use-case of the HHL algorithm is the implementation in a larger quantum program. \n",
    "</ol> Currently only hermitian matrices with a dimension of $2^n$ are supported.\n",
    "\n",
    "Take into account that in the general case, the entries of $\\vec{x}$ can not be efficiently read out because we would need to know all coefficients describing the quantum state. In the following examples, we ignore this constraint and show for our small linear system as a proof of principle that $\\vec{x}$ is calculated correctly."
   ]
  },
  {
   "cell_type": "code",
   "execution_count": 1,
   "metadata": {},
   "outputs": [],
   "source": [
    "from qiskit import BasicAer\n",
    "from qiskit.aqua import QuantumInstance\n",
    "from qiskit.quantum_info import state_fidelity\n",
    "from qiskit.aqua.algorithms import HHL, ExactLSsolver\n",
    "from qiskit.aqua.components.eigs import EigsQPE\n",
    "from qiskit.aqua.components.qfts import Standard as StandardQFTS\n",
    "from qiskit.aqua.components.iqfts import Standard as StandardIQFTS\n",
    "from qiskit.aqua.components.reciprocals import LookupRotation\n",
    "from qiskit.aqua.operators import MatrixOperator\n",
    "from qiskit.aqua.components.initial_states import Custom\n",
    "import numpy as np"
   ]
  },
  {
   "cell_type": "code",
   "execution_count": 2,
   "metadata": {},
   "outputs": [],
   "source": [
    "def create_eigs(matrix, num_ancillae, negative_evals):\n",
    "    ne_qfts = [None, None]\n",
    "    if negative_evals:\n",
    "        num_ancillae += 1\n",
    "        ne_qfts = [StandardQFTS(num_ancillae - 1), StandardIQFTS(num_ancillae - 1)]\n",
    "\n",
    "    return EigsQPE(MatrixOperator(matrix=matrix),\n",
    "                   StandardIQFTS(num_ancillae),\n",
    "                   num_time_slices=50,\n",
    "                   num_ancillae=num_ancillae,\n",
    "                   expansion_mode='suzuki',\n",
    "                   expansion_order=2,\n",
    "                   evo_time=None,\n",
    "                   negative_evals=negative_evals,\n",
    "                   ne_qfts=ne_qfts)\n",
    "\n",
    "def fidelity(hhl, ref):\n",
    "    solution_hhl_normed = hhl / np.linalg.norm(hhl)\n",
    "    solution_ref_normed = ref / np.linalg.norm(ref)\n",
    "    fidelity = state_fidelity(solution_hhl_normed, solution_ref_normed)\n",
    "    print(\"fidelity %f\" % fidelity)"
   ]
  },
  {
   "cell_type": "code",
   "execution_count": 3,
   "metadata": {},
   "outputs": [
    {
     "name": "stderr",
     "output_type": "stream",
     "text": [
      "e:\\developmentenvironments\\anaconda3\\envs\\qiskit19_env\\lib\\site-packages\\qiskit\\aqua\\components\\iqfts\\approximate.py:42: DeprecationWarning: The class qiskit.aqua.components.iqfts.IQFT is deprecated and will be removed no earlier than 3 months after the release 0.7.0. You should use the qiskit.circuit.library.QFT class instead and its .inverse().\n",
      "  super().__init__()\n",
      "<ipython-input-2-827d39c8468a>:7: DeprecationWarning: Providing a qiskit.aqua.components.iqfts.IQFT module as `iqft` argument to HHL is deprecated as of 0.7.0 and will be removed no earlier than 3 months after the release. You should pass a QuantumCircuit instead, see qiskit.circuit.library.QFT and the .inverse() method.\n",
      "  return EigsQPE(MatrixOperator(matrix=matrix),\n"
     ]
    }
   ],
   "source": [
    "#2x2 diagonal matrix\n",
    "#First, we show an example for running the HHL algorithm with Qiskit Aqua on a diagonal matrix as input$$\n",
    "#A=\n",
    "#\\begin{bmatrix}\n",
    "#1 &amp; 0 \\\\\n",
    "#0 &amp; 2\n",
    "#\\end{bmatrix}$$with the vector$$\\vec{b}= \\left( \\begin{array}{c}1 \\\\ 4  \\end{array} \\right)$$The result dictionary contains several return values. The HHL solution for $\\vec{x}$ is accessible by the key 'solution'. For comparison, also the classical solution of the linear system of equations is calculated using standard linear algebra functions in numpy. The fidelity between the HHL solution and the classical solution is also given in the output. Furthermore, the probability is shown with which HHL was running successfully, i.e. the HHL ancillary qubit has been measured to be $|1\\rangle$.\n",
    "matrix = [[1, 0], [0, 2]]\n",
    "vector = [1, 4]\n",
    "orig_size = len(vector)\n",
    "matrix, vector, truncate_powerdim, truncate_hermitian = HHL.matrix_resize(matrix, vector)\n",
    "\n",
    "# Initialize eigenvalue finding module\n",
    "eigs = create_eigs(matrix, 3, False)\n",
    "num_q, num_a = eigs.get_register_sizes()\n",
    "\n",
    "# Initialize initial state module\n",
    "init_state = Custom(num_q, state_vector=vector)\n",
    "\n",
    "# Initialize reciprocal rotation module\n",
    "reci = LookupRotation(negative_evals=eigs._negative_evals, evo_time=eigs._evo_time)\n",
    "\n",
    "algo = HHL(matrix, vector, truncate_powerdim, truncate_hermitian, eigs,\n",
    "           init_state, reci, num_q, num_a, orig_size)"
   ]
  },
  {
   "cell_type": "code",
   "execution_count": null,
   "metadata": {},
   "outputs": [
    {
     "name": "stderr",
     "output_type": "stream",
     "text": [
      "e:\\developmentenvironments\\anaconda3\\envs\\qiskit19_env\\lib\\site-packages\\qiskit\\aqua\\components\\eigs\\eigs_qpe.py:145: DeprecationWarning: Providing a qiskit.aqua.components.iqfts.IQFT module to the PhaseEstimationCircuit is deprecated as of 0.7.0 and will be removed no earlier than 3 months after the release. You should pass a QuantumCircuit instead, see qiskit.circuit.library.QFT and the .inverse() method.\n",
      "  pe = PhaseEstimationCircuit(\n",
      "e:\\developmentenvironments\\anaconda3\\envs\\qiskit19_env\\lib\\site-packages\\qiskit\\aqua\\components\\iqfts\\approximate.py:47: DeprecationWarning: The class FourierTransformCircuits is deprecated and will be removed no earlier than 3 months after the release 0.7.0. You should use the qiskit.circuit.library.QFT class instead.\n",
      "  return ftc.construct_circuit(\n"
     ]
    }
   ],
   "source": [
    "result = algo.run(QuantumInstance(BasicAer.get_backend('statevector_simulator')))\n",
    "print(\"solution \", np.round(result['solution'], 5))"
   ]
  },
  {
   "cell_type": "code",
   "execution_count": 1,
   "metadata": {},
   "outputs": [
    {
     "ename": "NameError",
     "evalue": "name 'ExactLSsolver' is not defined",
     "output_type": "error",
     "traceback": [
      "\u001b[1;31m---------------------------------------------------------------------------\u001b[0m",
      "\u001b[1;31mNameError\u001b[0m                                 Traceback (most recent call last)",
      "\u001b[1;32m<ipython-input-1-179149113d2c>\u001b[0m in \u001b[0;36m<module>\u001b[1;34m\u001b[0m\n\u001b[1;32m----> 1\u001b[1;33m \u001b[0mresult_ref\u001b[0m \u001b[1;33m=\u001b[0m \u001b[0mExactLSsolver\u001b[0m\u001b[1;33m(\u001b[0m\u001b[0mmatrix\u001b[0m\u001b[1;33m,\u001b[0m \u001b[0mvector\u001b[0m\u001b[1;33m)\u001b[0m\u001b[1;33m.\u001b[0m\u001b[0mrun\u001b[0m\u001b[1;33m(\u001b[0m\u001b[1;33m)\u001b[0m\u001b[1;33m\u001b[0m\u001b[1;33m\u001b[0m\u001b[0m\n\u001b[0m\u001b[0;32m      2\u001b[0m \u001b[0mprint\u001b[0m\u001b[1;33m(\u001b[0m\u001b[1;34m\"classical solution \"\u001b[0m\u001b[1;33m,\u001b[0m \u001b[0mnp\u001b[0m\u001b[1;33m.\u001b[0m\u001b[0mround\u001b[0m\u001b[1;33m(\u001b[0m\u001b[0mresult_ref\u001b[0m\u001b[1;33m[\u001b[0m\u001b[1;34m'solution'\u001b[0m\u001b[1;33m]\u001b[0m\u001b[1;33m,\u001b[0m \u001b[1;36m5\u001b[0m\u001b[1;33m)\u001b[0m\u001b[1;33m)\u001b[0m\u001b[1;33m\u001b[0m\u001b[1;33m\u001b[0m\u001b[0m\n\u001b[0;32m      3\u001b[0m \u001b[0mprint\u001b[0m\u001b[1;33m(\u001b[0m\u001b[1;34m\"probability %f\"\u001b[0m \u001b[1;33m%\u001b[0m \u001b[0mresult\u001b[0m\u001b[1;33m[\u001b[0m\u001b[1;34m'probability_result'\u001b[0m\u001b[1;33m]\u001b[0m\u001b[1;33m)\u001b[0m\u001b[1;33m\u001b[0m\u001b[1;33m\u001b[0m\u001b[0m\n\u001b[0;32m      4\u001b[0m \u001b[0mfidelity\u001b[0m\u001b[1;33m(\u001b[0m\u001b[0mresult\u001b[0m\u001b[1;33m[\u001b[0m\u001b[1;34m'solution'\u001b[0m\u001b[1;33m]\u001b[0m\u001b[1;33m,\u001b[0m \u001b[0mresult_ref\u001b[0m\u001b[1;33m[\u001b[0m\u001b[1;34m'solution'\u001b[0m\u001b[1;33m]\u001b[0m\u001b[1;33m)\u001b[0m\u001b[1;33m\u001b[0m\u001b[1;33m\u001b[0m\u001b[0m\n",
      "\u001b[1;31mNameError\u001b[0m: name 'ExactLSsolver' is not defined"
     ]
    }
   ],
   "source": [
    "result_ref = ExactLSsolver(matrix, vector).run()\n",
    "print(\"classical solution \", np.round(result_ref['solution'], 5))\n",
    "print(\"probability %f\" % result['probability_result'])\n",
    "fidelity(result['solution'], result_ref['solution'])"
   ]
  },
  {
   "cell_type": "code",
   "execution_count": 2,
   "metadata": {},
   "outputs": [
    {
     "ename": "NameError",
     "evalue": "name 'vector' is not defined",
     "output_type": "error",
     "traceback": [
      "\u001b[1;31m---------------------------------------------------------------------------\u001b[0m",
      "\u001b[1;31mNameError\u001b[0m                                 Traceback (most recent call last)",
      "\u001b[1;32m<ipython-input-2-0db0f7324925>\u001b[0m in \u001b[0;36m<module>\u001b[1;34m\u001b[0m\n\u001b[0;32m      5\u001b[0m \u001b[1;31m#to the smallest possible eigenvalue before execution.\u001b[0m\u001b[1;33m\u001b[0m\u001b[1;33m\u001b[0m\u001b[1;33m\u001b[0m\u001b[0m\n\u001b[0;32m      6\u001b[0m \u001b[1;31m#Alternatively, we can set scale to 0.5 and see how the results are influenced thereby.\u001b[0m\u001b[1;33m\u001b[0m\u001b[1;33m\u001b[0m\u001b[1;33m\u001b[0m\u001b[0m\n\u001b[1;32m----> 7\u001b[1;33m \u001b[0morig_size\u001b[0m \u001b[1;33m=\u001b[0m \u001b[0mlen\u001b[0m\u001b[1;33m(\u001b[0m\u001b[0mvector\u001b[0m\u001b[1;33m)\u001b[0m\u001b[1;33m\u001b[0m\u001b[1;33m\u001b[0m\u001b[0m\n\u001b[0m\u001b[0;32m      8\u001b[0m \u001b[0mmatrix\u001b[0m\u001b[1;33m,\u001b[0m \u001b[0mvector\u001b[0m\u001b[1;33m,\u001b[0m \u001b[0mtruncate_powerdim\u001b[0m\u001b[1;33m,\u001b[0m \u001b[0mtruncate_hermitian\u001b[0m \u001b[1;33m=\u001b[0m \u001b[0mHHL\u001b[0m\u001b[1;33m.\u001b[0m\u001b[0mmatrix_resize\u001b[0m\u001b[1;33m(\u001b[0m\u001b[0mmatrix\u001b[0m\u001b[1;33m,\u001b[0m \u001b[0mvector\u001b[0m\u001b[1;33m)\u001b[0m\u001b[1;33m\u001b[0m\u001b[1;33m\u001b[0m\u001b[0m\n\u001b[0;32m      9\u001b[0m \u001b[1;33m\u001b[0m\u001b[0m\n",
      "\u001b[1;31mNameError\u001b[0m: name 'vector' is not defined"
     ]
    }
   ],
   "source": [
    "#The probabilty that HHL runs successfully \n",
    "#depends on the constant $C$ (see step 3. in the introduction). \n",
    "#In the HHL algorithm, $C$ can be given as the parameter scale $\\in [0,1]$. \n",
    "#In the above example scale is not defined and the HHL algorithm initializes scale \n",
    "#to the smallest possible eigenvalue before execution. \n",
    "#Alternatively, we can set scale to 0.5 and see how the results are influenced thereby.\n",
    "orig_size = len(vector)\n",
    "matrix, vector, truncate_powerdim, truncate_hermitian = HHL.matrix_resize(matrix, vector)\n",
    "\n",
    "# Initialize eigenvalue finding module\n",
    "eigs = create_eigs(matrix, 3, False)\n",
    "num_q, num_a = eigs.get_register_sizes()\n",
    "\n",
    "# Initialize initial state module\n",
    "init_state = Custom(num_q, state_vector=vector)\n",
    "\n",
    "# Initialize reciprocal rotation module\n",
    "reci = LookupRotation(negative_evals=eigs._negative_evals, evo_time=eigs._evo_time, scale=0.5)\n",
    "\n",
    "algo = HHL(matrix, vector, truncate_powerdim, truncate_hermitian, eigs,\n",
    "           init_state, reci, num_q, num_a, orig_size)"
   ]
  },
  {
   "cell_type": "code",
   "execution_count": 7,
   "metadata": {},
   "outputs": [
    {
     "name": "stdout",
     "output_type": "stream",
     "text": [
      "solution  [0.84664-0.j 2.01762-0.j]\n",
      "classical solution  [1. 2.]\n",
      "probability 0.361437\n",
      "fidelity 0.995605\n"
     ]
    }
   ],
   "source": [
    "result = algo.run(QuantumInstance(BasicAer.get_backend('statevector_simulator')))\n",
    "print(\"solution \", np.round(result['solution'], 5))\n",
    "\n",
    "result_ref = ExactLSsolver(matrix, vector).run()\n",
    "print(\"classical solution \", np.round(result_ref['solution'], 5))\n",
    "\n",
    "print(\"probability %f\" % result['probability_result'])\n",
    "fidelity(result['solution'], result_ref['solution'])"
   ]
  },
  {
   "cell_type": "code",
   "execution_count": 8,
   "metadata": {},
   "outputs": [
    {
     "name": "stdout",
     "output_type": "stream",
     "text": [
      "circuit_width 7\n",
      "circuit_depth 129\n"
     ]
    }
   ],
   "source": [
    "#If you want to know how many qubits are required (circuit width) or \n",
    "#how large the maximum number of gates applied to a single qubit (circuit depth) is, \n",
    "#you can print it out by\n",
    "print(\"circuit_width\", result['circuit_info']['width'])\n",
    "print(\"circuit_depth\", result['circuit_info']['depth'])"
   ]
  },
  {
   "cell_type": "code",
   "execution_count": 9,
   "metadata": {},
   "outputs": [],
   "source": [
    "#2x2 non-diagonal matrix\n",
    "#Here we show an example for running the HHL algorithm with Qiskit Aqua on a non-diagonal matrix \n",
    "#as input$$\n",
    "#A=\n",
    "#\\begin{bmatrix}\n",
    "#1 &amp; 3 \\\\\n",
    "#3 &amp; 2\n",
    "#\\end{bmatrix}$$with the vector$$\\vec{b}= \\left( \\begin{array}{c}1 \\\\ 1  \\end{array} \\right)$$\n",
    "matrix = [[1, 3], [3, 2]]\n",
    "vector = [1, 1]\n",
    "\n",
    "orig_size = len(vector)\n",
    "matrix, vector, truncate_powerdim, truncate_hermitian = HHL.matrix_resize(matrix, vector)\n",
    "\n",
    "# Initialize eigenvalue finding module\n",
    "eigs = create_eigs(matrix, 3, True)\n",
    "num_q, num_a = eigs.get_register_sizes()\n",
    "\n",
    "# Initialize initial state module\n",
    "init_state = Custom(num_q, state_vector=vector)\n",
    "\n",
    "# Initialize reciprocal rotation module\n",
    "reci = LookupRotation(negative_evals=eigs._negative_evals, evo_time=eigs._evo_time)\n",
    "\n",
    "algo = HHL(matrix, vector, truncate_powerdim, truncate_hermitian, eigs,\n",
    "           init_state, reci, num_q, num_a, orig_size)"
   ]
  },
  {
   "cell_type": "code",
   "execution_count": 11,
   "metadata": {},
   "outputs": [
    {
     "name": "stdout",
     "output_type": "stream",
     "text": [
      "solution  [0.13449+0.j 0.29238+0.j]\n",
      "classical solution  [0.14286 0.28571]\n",
      "probability 0.022362\n",
      "fidelity 0.998942\n",
      "circuit_width 8\n",
      "circuit_depth 221\n"
     ]
    }
   ],
   "source": [
    "result = algo.run(QuantumInstance(BasicAer.get_backend('statevector_simulator')))\n",
    "print(\"solution \", np.round(result['solution'], 5))\n",
    "\n",
    "result_ref = ExactLSsolver(matrix, vector).run()\n",
    "print(\"classical solution \", np.round(result_ref['solution'], 5))\n",
    "\n",
    "print(\"probability %f\" % result['probability_result'])\n",
    "fidelity(result['solution'], result_ref['solution'])\n",
    "#Compared to the first example, the circuit depth is increased approximately by a factor of 6\n",
    "print(\"circuit_width\", result['circuit_info']['width'])\n",
    "print(\"circuit_depth\", result['circuit_info']['depth'])"
   ]
  },
  {
   "cell_type": "code",
   "execution_count": 12,
   "metadata": {},
   "outputs": [],
   "source": [
    "#8x8 non-diagonal matrix\n",
    "#For simplicity, we show a HHL execution of a linear systom of equations defined by \n",
    "#the following 8x8 dimensional matrix$$\n",
    "#A=\n",
    "#\\begin{bmatrix}\n",
    "#4 &amp; 0 &amp; 0 &amp; 0 &amp; 0 &amp; 0 &amp; 0 &amp; 1 \\\\\n",
    "#0 &amp; 3 &amp; 0 &amp; 0 &amp; 0 &amp; 0 &amp; 0 &amp; 0 \\\\\n",
    "#0 &amp; 0 &amp; 8 &amp; 0 &amp; 0 &amp; 0 &amp; 0 &amp; 0 \\\\\n",
    "#0 &amp; 0 &amp; 0 &amp; 5 &amp; 0 &amp; 0 &amp; 0 &amp; 0 \\\\\n",
    "#0 &amp; 0 &amp; 0 &amp; 0 &amp; 2 &amp; 1 &amp; 0 &amp; 0 \\\\\n",
    "#0 &amp; 0 &amp; 0 &amp; 0 &amp; 1 &amp; 1 &amp; 0 &amp; 0 \\\\\n",
    "#0 &amp; 0 &amp; 0 &amp; 0 &amp; 0 &amp; 0 &amp; 1 &amp; 0 \\\\\n",
    "#1 &amp; 0 &amp; 0 &amp; 0 &amp; 0 &amp; 0 &amp; 0 &amp; 5\n",
    "#\\end{bmatrix}$$and \n",
    "#the vector$$\\vec{b}= \\left( \\begin{array}{c}1 \\\\ 0 \\\\ 0 \\\\ 0 \\\\ 0 \\\\ 0 \\\\ 0 \\\\ 1 \\end{array} \\right)$$\n",
    "matrix = [[4, 0, 0, 0, 0, 0, 0, 1],\n",
    "          [0, 3, 0, 0, 0, 0, 0, 0],\n",
    "          [0, 0, 8, 0, 0, 0, 0, 0],\n",
    "          [0, 0, 0, 5, 0, 0, 0, 0],\n",
    "          [0, 0, 0, 0, 2, 1, 0, 0],\n",
    "          [0, 0, 0, 0, 1, 1, 0, 0],\n",
    "          [0, 0, 0, 0, 0, 0, 1, 0],\n",
    "          [1, 0, 0, 0, 0, 0, 0, 5]]\n",
    "vector = [1, 0, 0, 0, 0, 0, 0, 1]\n",
    "\n",
    "orig_size = len(vector)\n",
    "matrix, vector, truncate_powerdim, truncate_hermitian = HHL.matrix_resize(matrix, vector)\n",
    "\n",
    "# Initialize eigenvalue finding module\n",
    "eigs = create_eigs(matrix, 3, False)\n",
    "num_q, num_a = eigs.get_register_sizes()\n",
    "\n",
    "# Initialize initial state module\n",
    "init_state = Custom(num_q, state_vector=vector)\n",
    "\n",
    "# Initialize reciprocal rotation module\n",
    "reci = LookupRotation(negative_evals=eigs._negative_evals, evo_time=eigs._evo_time)\n",
    "\n",
    "algo = HHL(matrix, vector, truncate_powerdim, truncate_hermitian, eigs,\n",
    "           init_state, reci, num_q, num_a, orig_size)"
   ]
  },
  {
   "cell_type": "code",
   "execution_count": 13,
   "metadata": {},
   "outputs": [
    {
     "name": "stdout",
     "output_type": "stream",
     "text": [
      "solution  [ 0.21492-0.j  0.     +0.j  0.     +0.j -0.     +0.j  0.     +0.j\n",
      " -0.     +0.j -0.     +0.j  0.1542 -0.j]\n",
      "classical solution  [0.21053 0.      0.      0.      0.      0.      0.      0.15789]\n",
      "probability 0.085481\n",
      "fidelity 0.999553\n",
      "circuit_width 9\n",
      "circuit_depth 156\n"
     ]
    }
   ],
   "source": [
    "result = algo.run(QuantumInstance(BasicAer.get_backend('statevector_simulator')))\n",
    "print(\"solution \", np.round(result['solution'], 5))\n",
    "\n",
    "result_ref = ExactLSsolver(matrix, vector).run()\n",
    "print(\"classical solution \", np.round(result_ref['solution'], 5))\n",
    "\n",
    "print(\"probability %f\" % result['probability_result'])\n",
    "fidelity(result['solution'], result_ref['solution'])\n",
    "\n",
    "#Considering the circuit depth and circuit width\n",
    "print(\"circuit_width\", result['circuit_info']['width'])\n",
    "print(\"circuit_depth\", result['circuit_info']['depth'])"
   ]
  },
  {
   "cell_type": "code",
   "execution_count": 15,
   "metadata": {},
   "outputs": [
    {
     "name": "stdout",
     "output_type": "stream",
     "text": [
      "random matrix:\n",
      "[[ 0.284-0.j    -0.257-0.051j -0.124+0.033j  0.038+0.023j]\n",
      " [-0.257+0.051j  0.404+0.j     0.067-0.079j  0.054+0.055j]\n",
      " [-0.124-0.033j  0.067+0.079j  0.282-0.j     0.043+0.004j]\n",
      " [ 0.038-0.023j  0.054-0.055j  0.043-0.004j  0.206-0.j   ]]\n"
     ]
    }
   ],
   "source": [
    "#4x4 randomly-generated matrix\n",
    "#Now, we show the application of HHL on a randomly-generated 4x4 matrix. \n",
    "#We use the function random_hermitian to generate a random hermitian matrix and \n",
    "#initialize the random seed to achieve reproducibility of the HHL run. \n",
    "#Since the matrix can have negative eigenvalues, \n",
    "#the parameters need to be modifies to negative_evals=True in \"eigs\" and reciprocal, respectively. \n",
    "#We choose$$\\vec{b}= \\left( \\begin{array}{c}1 \\\\ 2 \\\\ 3 \\\\ 1 \\end{array} \\right)$$\n",
    "from qiskit import BasicAer\n",
    "from qiskit.aqua import QuantumInstance\n",
    "from qiskit.aqua.algorithms.single_sample import HHL\n",
    "from qiskit.aqua.utils import random_hermitian\n",
    "#In this example, we create an instance of the HHL class and run the algorithm with an input that is created programatically. To get the same pseudo-random matrix for every run, we set the random seed by using np.random.seed(1).\n",
    "\n",
    "# set the random seed to get the same pseudo-random matrix for every run\n",
    "np.random.seed(1)\n",
    "matrix = random_hermitian(4)\n",
    "vector = [1, 2, 3, 1]\n",
    "\n",
    "print(\"random matrix:\")\n",
    "m = np.array(matrix)\n",
    "print(np.round(m, 3))\n",
    "\n",
    "orig_size = len(vector)\n",
    "matrix, vector, truncate_powerdim, truncate_hermitian = HHL.matrix_resize(matrix, vector)\n",
    "\n",
    "# Initialize eigenvalue finding module\n",
    "eigs = create_eigs(matrix, 6, True)\n",
    "num_q, num_a = eigs.get_register_sizes()\n",
    "\n",
    "# Initialize initial state module\n",
    "init_state = Custom(num_q, state_vector=vector)\n",
    "\n",
    "# Initialize reciprocal rotation module\n",
    "reci = LookupRotation(negative_evals=eigs._negative_evals, evo_time=eigs._evo_time)\n",
    "\n",
    "algo = HHL(matrix, vector, truncate_powerdim, truncate_hermitian, eigs,\n",
    "           init_state, reci, num_q, num_a, orig_size)"
   ]
  },
  {
   "cell_type": "code",
   "execution_count": null,
   "metadata": {},
   "outputs": [],
   "source": [
    "result = algo.run(QuantumInstance(BasicAer.get_backend('statevector_simulator')))\n",
    "\n",
    "print(\"solution \", np.round(result['solution'], 5))\n",
    "\n",
    "result_ref = ExactLSsolver(matrix, vector).run()\n",
    "print(\"classical solution \", np.round(result_ref['solution'], 5))\n",
    "\n",
    "print(\"probability %f\" % result['probability_result'])\n",
    "fidelity(result['solution'], result_ref['solution'])\n",
    "\n",
    "#The circuit width and depth are\n",
    "print(\"circuit_width\", result['circuit_info']['width'])\n",
    "print(\"circuit_depth\", result['circuit_info']['depth'])"
   ]
  },
  {
   "cell_type": "markdown",
   "metadata": {},
   "source": [
    "# References\n",
    "1. A. W. Harrow, A. Hassidim, and S. Lloyd, Phys. Rev. Lett. 103, 150502 (2009), e-print arXiv 0811.3171<br>\n",
    "2. S. Barz, I. Kassal, M. Ringbauer, Y. Ole Lipp, B. Dakić, A. Aspuru-Guzik, and P. Walther, Sci Rep. 4: 6115 (2014), e-print arXiv 1302.1210<br>"
   ]
  },
  {
   "cell_type": "code",
   "execution_count": null,
   "metadata": {},
   "outputs": [],
   "source": []
  }
 ],
 "metadata": {
  "kernelspec": {
   "display_name": "Python 3",
   "language": "python",
   "name": "python3"
  },
  "language_info": {
   "codemirror_mode": {
    "name": "ipython",
    "version": 3
   },
   "file_extension": ".py",
   "mimetype": "text/x-python",
   "name": "python",
   "nbconvert_exporter": "python",
   "pygments_lexer": "ipython3",
   "version": "3.8.2"
  }
 },
 "nbformat": 4,
 "nbformat_minor": 4
}
