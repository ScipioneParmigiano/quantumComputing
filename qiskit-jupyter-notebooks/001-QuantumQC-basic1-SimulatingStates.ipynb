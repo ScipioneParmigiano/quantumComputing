{
 "cells": [
  {
   "cell_type": "markdown",
   "metadata": {},
   "source": [
    "# Quantum Computing - Simulation of Qubits"
   ]
  },
  {
   "cell_type": "code",
   "execution_count": 19,
   "metadata": {},
   "outputs": [],
   "source": [
    "from matplotlib import pyplot as plt\n",
    "import numpy as np\n",
    "from functools import reduce\n",
    "from math import log\n",
    "from qiskit import *\n",
    "from qiskit.visualization import plot_bloch_vector, plot_bloch_multivector\n",
    "import itertools"
   ]
  },
  {
   "cell_type": "markdown",
   "metadata": {},
   "source": [
    "## Conventions\n",
    "A zero-qubit vector $|0⟩$ is with x and y components of the form $\\begin{pmatrix} 1\\\\0 \\end{pmatrix}$\n",
    "\n",
    "A one-qubit vector $|1⟩$ is with x and y components of the form $\\begin{pmatrix} 0\\\\1 \\end{pmatrix}$\n",
    "\n",
    "## Two Different Representations of Qubits\n",
    "### A\n",
    "A +qubit vector $|+⟩$ is with x and y components of the form $\\begin{pmatrix} \\frac{1}{\\sqrt{2}}\\\\\\frac{1}{\\sqrt{2}} \\end{pmatrix}$\n",
    "\n",
    "A -qubit vector $|-⟩$ is with x and y components of the form $\\begin{pmatrix} \\frac{1}{\\sqrt{2}}\\\\-\\frac{1}{\\sqrt{2}} \\end{pmatrix}$\n",
    "\n",
    "### B\n",
    "A clockwisearrow_qubit vector $|↻⟩$ is with x and y components of the form $\\begin{pmatrix} \\frac{1}{\\sqrt{2}}\\\\\\frac{i}{\\sqrt{2}} \\end{pmatrix}$\n",
    "\n",
    "A counterclockwisearrow_qubit vector $|↺⟩$ is with x and y components of the form $\\begin{pmatrix} \\frac{1}{\\sqrt{2}}\\\\-\\frac{i}{\\sqrt{2}} \\end{pmatrix}$"
   ]
  },
  {
   "cell_type": "code",
   "execution_count": 8,
   "metadata": {},
   "outputs": [],
   "source": [
    "#Defining the various qubits based on different basis sets\n",
    "zero_qubit=np.matrix('1; 0')\n",
    "one_qubit=np.matrix('0; 1')\n",
    "plus_qubit=1/np.sqrt(2)*np.matrix('1; 1')\n",
    "minus_qubit=1/np.sqrt(2)*np.matrix('1; -1')\n",
    "clockwisearrow_qubit=1/np.sqrt(2)*np.matrix([[1],[np.complex(0,1)]])    \n",
    "counterclockwisearrow_qubit=1/np.sqrt(2)*np.matrix([[1],[-np.complex(0,1)]])"
   ]
  },
  {
   "cell_type": "markdown",
   "metadata": {},
   "source": [
    "# Arbitrary State"
   ]
  },
  {
   "cell_type": "markdown",
   "metadata": {},
   "source": [
    "A quantum state is usually just expressed as\n",
    "$$\n",
    "\\alpha|0\\rangle+\\beta|1\\rangle,\n",
    "$$\n",
    "\n",
    "Let us see how the state looks like with arbitrary $\\alpha$ and $\\beta$, when $\\alpha = \\frac{3}{5}e^{i\\pi/7}$ and $\\beta = -\\frac{4i}{5}$. \n",
    "\n",
    "The more general form, a geoemtric representation of a quantum state is,\n",
    "$$\n",
    "e^{i\\lambda}(\\cos\\frac{\\theta}{2}|0\\rangle+\\sin\\frac{\\theta}{2}e^{i\\phi}|1\\rangle)\n",
    "$$\n",
    "\n",
    "So, we can map the values of $\\alpha$ and $\\beta$ into $\\theta$, $\\phi$ and $\\lambda$ as,\n",
    "$$\\lambda=\\pi/7$$ and \n",
    "$$\\cos\\frac{\\theta}{2}=\\frac{3}{5}$$. \n",
    "\n",
    "We want $\\sin\\frac{\\theta}{2}$ to be positive, so $$\\sin\\frac{\\theta}{2}=\\frac{4}{5}$$. Hence,\n",
    "$$\n",
    "\\theta=2\\cdot sin^{-1}{\\frac{4}{5}}.\n",
    "$$\n",
    "\n",
    "To evaluate $\\phi$, we have\n",
    "$$\n",
    "e^{i\\lambda}e^{i\\phi}=-i \\\\\n",
    "\\therefore e^{i\\phi} = -i/e^{i\\pi/7}=-ie^{-i\\pi/7}=e^{-i\\pi/7-i\\pi/2} \\\\\n",
    "\\therefore \\phi=2\\pi-\\frac{\\pi}{7}-\\frac{\\pi}{2}=\\frac{19}{14}\\pi,\n",
    "$$"
   ]
  },
  {
   "cell_type": "markdown",
   "metadata": {},
   "source": [
    "# Quantum State"
   ]
  },
  {
   "cell_type": "code",
   "execution_count": 33,
   "metadata": {},
   "outputs": [],
   "source": [
    "#It takes an array of qubits and returns the state for all the qubits\n",
    "def create_quantum_state(qubits):\n",
    "    return reduce(lambda x,y:np.kron(x,y),qubits)"
   ]
  },
  {
   "cell_type": "code",
   "execution_count": 30,
   "metadata": {},
   "outputs": [],
   "source": [
    "register_01=create_quantum_state([zero_qubit,one_qubit])"
   ]
  },
  {
   "cell_type": "code",
   "execution_count": 31,
   "metadata": {},
   "outputs": [],
   "source": [
    "def get_nqubits_quantum_state(state):\n",
    "    return int(log(state.size,2))\n"
   ]
  },
  {
   "cell_type": "markdown",
   "metadata": {},
   "source": [
    "# Quantum Measurement "
   ]
  },
  {
   "cell_type": "code",
   "execution_count": 34,
   "metadata": {},
   "outputs": [],
   "source": [
    "def measure_in_01_basis(state):\n",
    "    from random import random\n",
    "    n_qubits=int(log(state.shape[0],2))\n",
    "    probabilities=[(coeff*coeff.conjugate()).real for coeff in state.flat]\n",
    "    rand=random()\n",
    "    for idx,state_desc in enumerate([''.join(map(str,state_desc)) for state_desc in itertools.product([0, 1], repeat=n_qubits)]):\n",
    "        if rand < sum(probabilities[0:(idx+1)]):\n",
    "            return '|\"%s\">' % state_desc\n",
    "    "
   ]
  },
  {
   "cell_type": "code",
   "execution_count": 35,
   "metadata": {},
   "outputs": [
    {
     "name": "stdout",
     "output_type": "stream",
     "text": [
      "|\"10011\">\n"
     ]
    }
   ],
   "source": [
    "print(measure_in_01_basis(create_quantum_state([one_qubit,zero_qubit,zero_qubit,one_qubit,one_qubit])))"
   ]
  },
  {
   "cell_type": "code",
   "execution_count": 36,
   "metadata": {},
   "outputs": [
    {
     "name": "stdout",
     "output_type": "stream",
     "text": [
      "|\"00\">\n",
      "|\"00\">\n",
      "|\"00\">\n",
      "|\"11\">\n",
      "|\"00\">\n",
      "|\"00\">\n",
      "|\"00\">\n",
      "|\"11\">\n",
      "|\"00\">\n",
      "|\"11\">\n"
     ]
    }
   ],
   "source": [
    "for i in range(10):\n",
    "    bell_state_phi_plus=(create_quantum_state([zero_qubit,zero_qubit])+ \\\n",
    "                         create_quantum_state([one_qubit,one_qubit]))/np.sqrt(2)\n",
    "    print(measure_in_01_basis(bell_state_phi_plus))"
   ]
  },
  {
   "cell_type": "markdown",
   "metadata": {},
   "source": [
    "# Separable States"
   ]
  },
  {
   "cell_type": "code",
   "execution_count": 37,
   "metadata": {},
   "outputs": [],
   "source": [
    "def get_qubits_from_state(state):\n",
    "    basis_states=[zero_qubit,one_qubit,plus_qubit,minus_qubit,clockwisearrow_qubit,counterclockwisearrow_qubit]\n",
    "    for separated_state in itertools.product(basis_states, repeat=get_nqubits_quantum_state(state)):\n",
    "        candidate_state=create_quantum_state(separated_state)\n",
    "        if np.allclose(candidate_state,state):\n",
    "            return separated_state\n"
   ]
  },
  {
   "cell_type": "code",
   "execution_count": 38,
   "metadata": {},
   "outputs": [
    {
     "data": {
      "text/plain": [
       "(matrix([[0],\n",
       "         [1]]), matrix([[1],\n",
       "         [0]]), matrix([[1],\n",
       "         [0]]), matrix([[0],\n",
       "         [1]]), matrix([[0],\n",
       "         [1]]))"
      ]
     },
     "execution_count": 38,
     "metadata": {},
     "output_type": "execute_result"
    }
   ],
   "source": [
    "register_10011=create_quantum_state([one_qubit,zero_qubit,zero_qubit,one_qubit,one_qubit])\n",
    "get_qubits_from_state(register_01)\n",
    "get_qubits_from_state(register_10011)"
   ]
  },
  {
   "cell_type": "code",
   "execution_count": 39,
   "metadata": {},
   "outputs": [],
   "source": [
    "non_separable_state_00_plus_11=1/np.sqrt(2)* \\\n",
    "(create_quantum_state([zero_qubit,zero_qubit])+ \\\n",
    " create_quantum_state([one_qubit,one_qubit]))"
   ]
  },
  {
   "cell_type": "code",
   "execution_count": 40,
   "metadata": {},
   "outputs": [
    {
     "data": {
      "text/plain": [
       "matrix([[0.1],\n",
       "        [0.3],\n",
       "        [0.3],\n",
       "        [0.9]])"
      ]
     },
     "execution_count": 40,
     "metadata": {},
     "output_type": "execute_result"
    }
   ],
   "source": [
    "ten_ninety_qubit=np.sqrt(0.1)*zero_qubit+np.sqrt(0.9)*one_qubit\n",
    "create_quantum_state([ten_ninety_qubit,ten_ninety_qubit])"
   ]
  },
  {
   "cell_type": "code",
   "execution_count": 41,
   "metadata": {},
   "outputs": [
    {
     "name": "stdout",
     "output_type": "stream",
     "text": [
      "None\n"
     ]
    }
   ],
   "source": [
    "print(get_qubits_from_state(create_quantum_state([ten_ninety_qubit,ten_ninety_qubit])))"
   ]
  },
  {
   "cell_type": "markdown",
   "metadata": {},
   "source": [
    "# Decoherence, $T_1$, and $T_2$"
   ]
  },
  {
   "cell_type": "code",
   "execution_count": 42,
   "metadata": {},
   "outputs": [
    {
     "name": "stdout",
     "output_type": "stream",
     "text": [
      "4.342944819032519e-05\n"
     ]
    }
   ],
   "source": [
    "probability_state_one_after_point1millisecond=0.1\n",
    "t=0.0001\n",
    "# probability_state_one_after_point1millisecond = np.e**(-t/T1) so T1 = -t/np.log(probability_state_one_after_point1millisecond)\n",
    "T1=-t/np.log(probability_state_one_after_point1millisecond)\n",
    "print(T1)"
   ]
  }
 ],
 "metadata": {
  "kernelspec": {
   "display_name": "Python 3",
   "language": "python",
   "name": "python3"
  },
  "language_info": {
   "codemirror_mode": {
    "name": "ipython",
    "version": 3
   },
   "file_extension": ".py",
   "mimetype": "text/x-python",
   "name": "python",
   "nbconvert_exporter": "python",
   "pygments_lexer": "ipython3",
   "version": "3.8.2"
  }
 },
 "nbformat": 4,
 "nbformat_minor": 2
}
