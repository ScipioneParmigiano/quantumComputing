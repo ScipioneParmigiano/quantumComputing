{
 "cells": [
  {
   "cell_type": "markdown",
   "metadata": {},
   "source": [
    "# Simon's Algorithm and its Qiskit Implementation"
   ]
  },
  {
   "cell_type": "markdown",
   "metadata": {},
   "source": [
    "Simon's algorithm was the first quantum algorithm to show an exponential speed-up versus the best classical algorithm in solving a specific problem. This inspired the quantum algorithm for the discrete Fourier transform, also known as quantum Fourier transform, which is used in the most famous quantum algorithm: Shor's factoring algorithm."
   ]
  },
  {
   "cell_type": "markdown",
   "metadata": {},
   "source": [
    "Simon's algorithm solves the following problem: given a function $f: \\{0,1\\}^n \\rightarrow \\{0,1\\}^n $ which takes an $n$ bit string as input and outputs another $n$-bit string and has some secret structure $s\\in\\{0,1\\}^n$ and $s\\neq 0^{\\otimes n}$ such that given two different inputs $x$ and $y$, $f(x) = f(y)$ if and only if $y = x + s \\, \\text{mod 2}$, what is $s$?\n",
    "\n",
    "Classically, if the algorithms picks inputs at random it will learn when $f(x_i) = f(x_j)$ so that $s=x_i \\oplus x_j$ (where $\\oplus$ stands for \"bit-wise addition modulo 2\"). Each pair determines a bit of $s$, therefore we need to find $n$ pairs to discover the value of $s$. It can be shown that $\\approx 2^{\\frac{n}{2}}$ calls of $f$ are necessary to find $s$ with a classical algorithm.\n",
    "\n",
    "The quantum algorithm allows to find $s$ in $\\approx n$ calls to the function $f$. Due to the periodicity in the problem, it serves as a natural precursor to Shor's algorithm. "
   ]
  },
  {
   "cell_type": "markdown",
   "metadata": {},
   "source": [
    "## Quantum Circuit for Simon's Algorithm"
   ]
  },
  {
   "cell_type": "markdown",
   "metadata": {},
   "source": [
    "The quantum circuit that implements Simon's algorithm is shown below.\n",
    "\n",
    "<img src=\"images/simon1.jpeg\"  width=\"300\">\n",
    "\n",
    "Where $\\text{Q}_f$ acts on two quantum registers as:\n",
    "$$ \\lvert x \\rangle \\lvert 0 \\rangle \\rightarrow \\lvert x \\rangle \\lvert f(x) \\rangle $$\n",
    "\n",
    "The algorithm involves the following steps.\n",
    "<ol>\n",
    "   <li> Two $n$-qubit input registers are initialized to the zero state \n",
    "    $$\\lvert \\psi_1 \\rangle = \\lvert 0 \\rangle^{\\otimes n} \\lvert 0 \\rangle^{\\otimes n} $$ </li>\n",
    "    \n",
    "   <li> Apply Hadamard on the first register\n",
    "    $$\\lvert \\psi_2 \\rangle = \\frac{1}{\\sqrt{2^n}} \\sum_{x \\in \\{0,1\\}^{n} } \\lvert x \\rangle\\lvert 0 \\rangle^{\\otimes n}  $$ \n",
    "   </li>\n",
    "    \n",
    "   <li> We make a query $\\text{Q}_f$, \n",
    "    $$ \\lvert \\psi_3 \\rangle = \\frac{1}{\\sqrt{2^n}} \\sum_{x \\in \\{0,1\\}^{n} } \\lvert x \\rangle \\lvert f(x) \\rangle  $$ \n",
    "   </li>\n",
    "    \n",
    "   <li> We measure the second register. A certain value of $f(x)$ will be observed. Because of the setting of the problem, the observed value $f(x)$ could correspond to two possible inputs: $x$ and $y = x \\oplus s $. Therefore the first register becomes\n",
    "    $$\\lvert \\psi_4 \\rangle = \\frac{1}{\\sqrt{2}}  \\left( \\lvert x \\rangle + \\lvert y \\rangle \\right)$$\n",
    "   where we omitted the second register since it has been measured. \n",
    "   </li>\n",
    "    \n",
    "   <li> Apply Hadamard on the first register    \n",
    "    $$ \\lvert \\psi_5 \\rangle = \\frac{1}{\\sqrt{2^{n+1}}} \\sum_{z \\in \\{0,1\\}^{n} } \\left[  (-1)^{x \\cdot z} + (-1)^{y \\cdot z} \\right]  \\lvert z \\rangle  $$\n",
    "    \n",
    "   </li>\n",
    "    \n",
    "   <li> Measuring the first register will give an output if:\n",
    "    $$ (-1)^{x \\cdot z} = (-1)^{y \\cdot z} $$\n",
    "   Which means:\n",
    "    $$ x \\cdot z = y \\cdot z \\\\\n",
    "     x \\cdot z = \\left( x \\oplus s \\right) \\cdot z \\\\\n",
    "     x \\cdot z = x \\cdot z \\oplus s \\cdot z \\\\\n",
    "     s \\cdot z = 0 \\text{ (mod 2)} $$\n",
    "      \n",
    "   A string $z$ whose inner product with $s$ will be measured. Thus, repeating the algorithm $\\approx n$ times, one will be able to obtain $n$ different values of $z$ and the following system of equation can be written \n",
    "    $$ \\begin{cases} s \\cdot z_1 = 0 \\\\ s \\cdot z_2 = 0 \\\\ ... \\\\ s \\cdot z_n = 0 \\end{cases}$$\n",
    "   From which $s$ can be determined, for example by Gaussian elimination.\n",
    "    </li>\n",
    "</ol>\n",
    "\n",
    "So, in this particular problem the quantum algorithm performs exponentially fewer steps than the classical one. Once again, it might be difficult to envision an application of this algorithm (although it inspired the most famous algorithm created by Shor) but it represents the first proof that there can be an exponential speed-up in solving a specific problem by using a quantum computer rather than a classical one."
   ]
  },
  {
   "cell_type": "markdown",
   "metadata": {},
   "source": [
    "## Example"
   ]
  },
  {
   "cell_type": "markdown",
   "metadata": {},
   "source": [
    "Let's see the example of Simon's algorithm for 2 qubits. We take the secret string $s=11$, so that $f(x) = f(y)$ if $y = x \\oplus s$. The state of the qubit register evolves in the following way:\n",
    "\n",
    "<img src=\"images/simon_ex2.jpeg\"  width=\"300\">\n",
    "\n",
    "<ol>\n",
    "    <li> Two $2$-qubit input registers are initialized to the zero state \n",
    "    $$\\lvert \\psi_1 \\rangle = \\lvert 0 0 \\rangle_1 \\lvert 0 0 \\rangle_2 $$ </li>\n",
    "    \n",
    "   <li> Apply Hadamard on the first register\n",
    "    $$\\lvert \\psi_2 \\rangle = \\frac{1}{2} \\left( \\lvert 0 0 \\rangle_1 + \\lvert 0 1 \\rangle_1 + \\lvert 1 0 \\rangle_1 + \\lvert 1 1 \\rangle_1 \\right) \\lvert 0 0 \\rangle_2 $$ </li>\n",
    "    \n",
    "   <li> For the string $s=11$, the query function can be implemented as $\\text{Q}_f = CX_{13}CX_{14}CX_{23}CX_{24}$, \n",
    "    $$ \\lvert \\psi_3 \\rangle = \\frac{1}{2} \\left(\\\\\n",
    "            \\lvert 0 0 \\rangle_1  \\lvert 0\\oplus 0 \\oplus 0, 0 \\oplus 0 \\oplus 0 \\rangle_2 + \\\\\n",
    "            \\lvert 0 1 \\rangle_1 \\lvert 0\\oplus 0 \\oplus 1, 0 \\oplus 0 \\oplus 1 \\rangle_2 + \\\\\n",
    "            \\lvert 1 0 \\rangle_1 \\lvert 0\\oplus 1 \\oplus 0, 0 \\oplus 1 \\oplus 0 \\rangle_2 + \\\\\n",
    "            \\lvert 1 1 \\rangle_1 \\lvert 0\\oplus 1 \\oplus 1, 0 \\oplus 1 \\oplus 1 \\rangle_2 \\\\\n",
    "            \\right)  $$\n",
    "    \n",
    "   Thus\n",
    "    $$ \\lvert \\psi_3 \\rangle = \\frac{1}{2} \\left( \\lvert 0 0 \\rangle_1  \\lvert 0 0 \\rangle_2 + \\lvert 0 1 \\rangle_1 \\lvert 1  1 \\rangle_2 + \\lvert 1 0 \\rangle_1 \\lvert  1   1  \\rangle_2 + \\lvert 1 1 \\rangle_1 \\lvert 0 0 \\rangle_2 \\right)  $$\n",
    "    \n",
    "    \n",
    "   </li>\n",
    "    \n",
    "   <li> We measure the second register. With $50\\%$ probability we will see either $\\lvert  0   0  \\rangle_2$ or $\\lvert  1   1  \\rangle_2$. For the sake of the example, let us assume that we see $\\lvert  1   1  \\rangle_2$. The state of the system is then\n",
    "    $$ \\lvert \\psi_4 \\rangle = \\frac{1}{\\sqrt{2}}  \\left( \\lvert  0   1  \\rangle_1 + \\lvert  1   0  \\rangle_1 \\right)  $$\n",
    "    \n",
    "   where we omitted the second register since it has been measured.\n",
    "    \n",
    "   </li>\n",
    "    \n",
    "    \n",
    "    \n",
    "   <li> Apply Hadamard on the first register\n",
    "    $$ \\lvert \\psi_5 \\rangle = \\frac{1}{2\\sqrt{2}} \\left[ \\left( \\lvert 0 \\rangle + \\lvert 1 \\rangle \\right) \\otimes \\left( \\lvert 0 \\rangle - \\lvert 1 \\rangle \\right) + \\left( \\lvert 0 \\rangle - \\lvert 1 \\rangle \\right) \\otimes \\left( \\lvert 0 \\rangle + \\lvert 1 \\rangle \\right)  \\right] \\\\\n",
    "    =  \\frac{1}{2\\sqrt{2}} \\left[ \\lvert 0 0 \\rangle - \\lvert 0 1 \\rangle + \\lvert 1 0 \\rangle - \\lvert 1 1 \\rangle   + \\lvert 0 0 \\rangle + \\lvert 0 1 \\rangle - \\lvert 1 0 \\rangle - \\lvert 1 1 \\rangle \\right] \\\\\n",
    "    = \\frac{1}{\\sqrt{2}} \\left( \\lvert 0 0 \\rangle - \\lvert 1 1 \\rangle \\right)$$\n",
    "    \n",
    "   </li>\n",
    "    \n",
    "   <li> Measuring the first register will give either $\\lvert 0, 0 \\rangle$ or $\\lvert 1, 1 \\rangle$ with equal probability. If we see $\\lvert 1, 1 \\rangle$, then:   \n",
    "    $$ s \\cdot 11 = 0 $$\n",
    "    \n",
    "   This is one equation, but $s$ has two variables. Therefore, we need to repeat the algorithm other times to have enough equations that will allow us to determine $s$.\n",
    "      \n",
    "   </li>\n",
    "</ol>"
   ]
  },
  {
   "cell_type": "markdown",
   "metadata": {},
   "source": [
    "## Qiskit Implementation"
   ]
  },
  {
   "cell_type": "markdown",
   "metadata": {},
   "source": [
    "We now implement Simon's algorithm with Qiskit by first preparing the environment."
   ]
  },
  {
   "cell_type": "code",
   "execution_count": 1,
   "metadata": {},
   "outputs": [],
   "source": [
    "#initialization\n",
    "import matplotlib.pyplot as plt\n",
    "%matplotlib inline\n",
    "import numpy as np\n",
    "\n",
    "# importing Qiskit\n",
    "from qiskit import IBMQ, BasicAer\n",
    "from qiskit.providers.ibmq import least_busy\n",
    "from qiskit import QuantumCircuit, ClassicalRegister, QuantumRegister, execute\n",
    "\n",
    "# import basic plot tools\n",
    "from qiskit.tools.visualization import plot_histogram"
   ]
  },
  {
   "cell_type": "markdown",
   "metadata": {},
   "source": [
    "We first set the hidden binary number $s$ to be found by Simon's algorithm. The hidden binary number $s$ determines the circuit for the quantum oracle. In this case, we are using $n = 2$. For the interested reader, a description of the Oracle for three qubits ($s = 110$) can be found in Ref. [1]."
   ]
  },
  {
   "cell_type": "code",
   "execution_count": 2,
   "metadata": {},
   "outputs": [],
   "source": [
    "s = '11'"
   ]
  },
  {
   "cell_type": "code",
   "execution_count": 3,
   "metadata": {},
   "outputs": [],
   "source": [
    "# Creating registers\n",
    "# qubits for querying the oracle and finding the hidden period s\n",
    "qr = QuantumRegister(2*len(str(s)))\n",
    "# classical registers for recording the measurement on qr\n",
    "cr = ClassicalRegister(2*len(str(s)))\n",
    "\n",
    "simonCircuit = QuantumCircuit(qr, cr)\n",
    "barriers = True\n",
    "\n",
    "# Apply Hadamard gates before querying the oracle\n",
    "for i in range(len(str(s))):\n",
    "    simonCircuit.h(qr[i])    \n",
    "    \n",
    "# Apply barrier \n",
    "if barriers:\n",
    "    simonCircuit.barrier()\n",
    "\n",
    "# Apply the inner-product oracle \n",
    "if s == '11':\n",
    "## 2-qubit oracle for s = 11\n",
    "    simonCircuit.cx(qr[0], qr[len(str(s)) + 0])\n",
    "    simonCircuit.cx(qr[0], qr[len(str(s)) + 1])\n",
    "    simonCircuit.cx(qr[1], qr[len(str(s)) + 0])\n",
    "    simonCircuit.cx(qr[1], qr[len(str(s)) + 1])  \n",
    "elif s == '110':\n",
    "## 3-qubit oracle for s = 110\n",
    "    simonCircuit.cx(qr[2], qr[4])  \n",
    "    simonCircuit.x(qr[3])  \n",
    "    simonCircuit.cx(qr[2], qr[3])  \n",
    "    simonCircuit.ccx(qr[0], qr[1], qr[3])  \n",
    "    simonCircuit.x(qr[0])  \n",
    "    simonCircuit.x(qr[1])  \n",
    "    simonCircuit.ccx(qr[0], qr[1], qr[3])  \n",
    "    simonCircuit.x(qr[0])  \n",
    "    simonCircuit.x(qr[1])  \n",
    "    simonCircuit.x(qr[3])\n",
    "\n",
    "# Apply barrier \n",
    "if barriers:\n",
    "    simonCircuit.barrier()\n",
    "\n",
    "# Measure ancilla qubits\n",
    "for i in range(len(str(s)), 2*len(str(s))):\n",
    "    simonCircuit.measure(qr[i], cr[i])\n",
    "\n",
    "# Apply barrier \n",
    "if barriers:\n",
    "    simonCircuit.barrier()\n",
    "\n",
    "# Apply Hadamard gates to the input register\n",
    "for i in range(len(str(s))):\n",
    "    simonCircuit.h(qr[i])\n",
    "\n",
    "# Apply barrier \n",
    "if barriers:\n",
    "    simonCircuit.barrier()\n",
    "\n",
    "# Measure input register\n",
    "for i in range(len(str(s))):\n",
    "    simonCircuit.measure(qr[i], cr[i])"
   ]
  },
  {
   "cell_type": "code",
   "execution_count": 4,
   "metadata": {},
   "outputs": [
    {
     "data": {
      "image/png": "[encoded data removed]",
      "text/plain": [
       "<Figure size 1023.4x499.66 with 1 Axes>"
      ]
     },
     "execution_count": 4,
     "metadata": {},
     "output_type": "execute_result"
    }
   ],
   "source": [
    "simonCircuit.draw(output='mpl')"
   ]
  },
  {
   "cell_type": "markdown",
   "metadata": {},
   "source": [
    "## Experiment with Simulators"
   ]
  },
  {
   "cell_type": "markdown",
   "metadata": {},
   "source": [
    "We can run the above circuit on the simulator. "
   ]
  },
  {
   "cell_type": "code",
   "execution_count": 5,
   "metadata": {},
   "outputs": [
    {
     "name": "stdout",
     "output_type": "stream",
     "text": [
      "{'1100': 256, '0011': 261, '1111': 253, '0000': 254}\n",
      "{'00': 510, '11': 514}\n"
     ]
    },
    {
     "data": {
      "image/png": "[encoded data removed]",
      "text/plain": [
       "<Figure size 504x360 with 1 Axes>"
      ]
     },
     "execution_count": 5,
     "metadata": {},
     "output_type": "execute_result"
    }
   ],
   "source": [
    "# use local simulator\n",
    "backend = BasicAer.get_backend('qasm_simulator')\n",
    "shots = 1024\n",
    "results = execute(simonCircuit, backend=backend, shots=shots).result()\n",
    "answer = results.get_counts()\n",
    "print(answer)\n",
    "\n",
    "# categorize measurements by input register values\n",
    "answer_plot = {}\n",
    "for measresult in answer.keys():\n",
    "    measresult_input = measresult[len(str(s)):]\n",
    "    if measresult_input in answer_plot:\n",
    "        answer_plot[measresult_input] += answer[measresult]\n",
    "    else:\n",
    "        answer_plot[measresult_input] = answer[measresult] \n",
    "\n",
    "# plot the categorized results\n",
    "print( answer_plot )\n",
    "plot_histogram(answer_plot)"
   ]
  },
  {
   "cell_type": "code",
   "execution_count": 6,
   "metadata": {},
   "outputs": [
    {
     "name": "stdout",
     "output_type": "stream",
     "text": [
      "s, z, s.z (mod 2)\n",
      "11, 00, 11.00=0\n",
      "11, 11, 11.11=0\n"
     ]
    }
   ],
   "source": [
    "def sdotz(a, b):\n",
    "    accum = 0\n",
    "    for i in range(len(a)):\n",
    "        accum += int(a[i]) * int(b[i])\n",
    "    return (accum % 2)\n",
    "\n",
    "print('s, z, s.z (mod 2)')\n",
    "for z_rev in answer_plot:\n",
    "    z = z_rev[::-1]\n",
    "    print( '{}, {}, {}.{}={}'.format(s, z, s,z,sdotz(s,z)) )"
   ]
  },
  {
   "cell_type": "markdown",
   "metadata": {},
   "source": [
    "Using these results, we can recover the value of $s$.\n",
    "\n",
    "## Experiment with Real Devices\n",
    "\n",
    "We can run the circuit on the real device as shown below."
   ]
  },
  {
   "cell_type": "code",
   "execution_count": 7,
   "metadata": {},
   "outputs": [
    {
     "name": "stdout",
     "output_type": "stream",
     "text": [
      "Least busy backend:  ibmq_20_tokyo\n"
     ]
    }
   ],
   "source": [
    "# Load our saved IBMQ accounts and get the least busy backend device that we are allowed to use\n",
    "IBMQ.load_accounts()\n",
    "IBMQ.backends()\n",
    "backend_lb = least_busy(IBMQ.backends(simulator=False))\n",
    "print(\"Least busy backend: \", backend_lb)"
   ]
  },
  {
   "cell_type": "code",
   "execution_count": 8,
   "metadata": {},
   "outputs": [
    {
     "data": {
      "application/vnd.jupyter.widget-view+json": {
       "model_id": "dd9a910c3e61431d883d56e902c93653",
       "version_major": 2,
       "version_minor": 0
      },
      "text/plain": [
       "HTML(value=\"<p style='font-size:16px;'>Job Status: job is being initialized </p>\")"
      ]
     },
     "metadata": {},
     "output_type": "display_data"
    }
   ],
   "source": [
    "# run our circuit on the least busy backend. Monitor the execution of the job in the queue\n",
    "from qiskit.tools.monitor import job_monitor\n",
    "\n",
    "backend = backend_lb\n",
    "shots = 1024\n",
    "job_exp = execute(simonCircuit, backend=backend, shots=shots)\n",
    "\n",
    "job_monitor(job_exp, interval = 2)"
   ]
  },
  {
   "cell_type": "code",
   "execution_count": 9,
   "metadata": {},
   "outputs": [
    {
     "name": "stdout",
     "output_type": "stream",
     "text": [
      "{'1100': 189, '0001': 43, '1011': 24, '0000': 212, '1111': 133, '0101': 8, '0110': 13, '1001': 15, '0011': 190, '0010': 28, '1010': 18, '0100': 20, '1110': 29, '1101': 22, '1000': 48, '0111': 32}\n"
     ]
    }
   ],
   "source": [
    "# get the results from the computation\n",
    "results = job_exp.result()\n",
    "answer = results.get_counts(simonCircuit)\n",
    "print(answer)"
   ]
  },
  {
   "cell_type": "code",
   "execution_count": 10,
   "metadata": {},
   "outputs": [
    {
     "name": "stdout",
     "output_type": "stream",
     "text": [
      "{'00': 469, '01': 88, '11': 379, '10': 88}\n"
     ]
    },
    {
     "data": {
      "image/png": "[encoded data removed]",
      "text/plain": [
       "<Figure size 504x360 with 1 Axes>"
      ]
     },
     "execution_count": 10,
     "metadata": {},
     "output_type": "execute_result"
    }
   ],
   "source": [
    "# categorize measurements by input register values\n",
    "answer_plot = {}\n",
    "for measresult in answer.keys():\n",
    "    measresult_input = measresult[len(str(s)):]\n",
    "    if measresult_input in answer_plot:\n",
    "        answer_plot[measresult_input] += answer[measresult]\n",
    "    else:\n",
    "        answer_plot[measresult_input] = answer[measresult] \n",
    "\n",
    "# plot the categorized results\n",
    "print( answer_plot )\n",
    "plot_histogram(answer_plot)"
   ]
  },
  {
   "cell_type": "code",
   "execution_count": 11,
   "metadata": {},
   "outputs": [
    {
     "name": "stdout",
     "output_type": "stream",
     "text": [
      "s, z, s.z (mod 2)\n",
      "11, 00, 11.00=0\n",
      "11, 11, 11.11=0\n"
     ]
    }
   ],
   "source": [
    "# calculate the dot product of the most significant results\n",
    "print('s, z, s.z (mod 2)')\n",
    "for z_rev in answer_plot:\n",
    "    if answer_plot[z_rev] >= 0.1*shots:\n",
    "        z = z_rev[::-1]\n",
    "        print( '{}, {}, {}.{}={}'.format(s, z, s,z,sdotz(s,z)) )"
   ]
  },
  {
   "cell_type": "markdown",
   "metadata": {},
   "source": [
    "As we can see, the most sigificant results are those for which $s.z = 0$ (mod 2). Using a classical computer, we can then recover the value of $s$ by solving the linear system of equations. For the $n=2$ case, the solution is trivial and $s = 11$."
   ]
  },
  {
   "cell_type": "markdown",
   "metadata": {},
   "source": [
    "## References"
   ]
  },
  {
   "cell_type": "markdown",
   "metadata": {},
   "source": [
    "[1] Adina BĂRÎLĂ, Quantum Computing - A new Implementation of Simon Algorithm for 3-Dimensional Registers. Journal of Applied Computer Science & Mathematics 19 (2015)."
   ]
  },
  {
   "cell_type": "markdown",
   "metadata": {},
   "source": [
    "# Another Example"
   ]
  },
  {
   "cell_type": "code",
   "execution_count": 1,
   "metadata": {},
   "outputs": [
    {
     "name": "stdout",
     "output_type": "stream",
     "text": [
      "{'00': 545, '11': 479}\n",
      "s, z, s.z (mod 2)\n",
      "11, 00, 11.00=0\n",
      "11, 11, 11.11=0\n"
     ]
    }
   ],
   "source": [
    "'''\n",
    "    Simon's algorithm\n",
    "\n",
    "    We know that an oracle function f which has period a:\n",
    "\n",
    "    f : {0, 1}^n -> {0, 1}^n\n",
    "\n",
    "    ∃!a != 0: ∀x f(x) = f(y) => y = x ⊕ a\n",
    "\n",
    "    Task: Find a.\n",
    "\n",
    "'''\n",
    "from qiskit import IBMQ, BasicAer\n",
    "from qiskit import QuantumCircuit, ClassicalRegister, QuantumRegister, execute\n",
    "\n",
    "qr = QuantumRegister(4)  # Initialize qubits\n",
    "cr = ClassicalRegister(4)  # Initialize bits for record measurements\n",
    "circuit = QuantumCircuit(qr, cr)\n",
    "\n",
    "# First two qubits form a register to store x, last two qubits from a register to store f(x)\n",
    "# Apply Hadamard to first two\n",
    "circuit.h(qr[0])\n",
    "circuit.h(qr[1])\n",
    "\n",
    "circuit.barrier()\n",
    "\n",
    "# Oracle function, a = 11\n",
    "circuit.cx(qr[0], qr[2])\n",
    "circuit.cx(qr[1], qr[2])\n",
    "circuit.cx(qr[0], qr[3])\n",
    "circuit.cx(qr[1], qr[3])\n",
    "\n",
    "circuit.barrier()\n",
    "\n",
    "# Measure last two qubits\n",
    "circuit.measure(qr[2], cr[2])\n",
    "circuit.measure(qr[3], cr[3])\n",
    "\n",
    "circuit.barrier()\n",
    "\n",
    "# Apply Hadamard to first two qubits\n",
    "circuit.h(qr[0])\n",
    "circuit.h(qr[1])\n",
    "\n",
    "circuit.barrier()\n",
    "\n",
    "circuit.measure(qr[0], cr[0])\n",
    "circuit.measure(qr[1], cr[1])\n",
    "\n",
    "# Run our circuit with local simulator\n",
    "backend = BasicAer.get_backend('qasm_simulator')\n",
    "shots = 1024\n",
    "results = execute(circuit, backend=backend, shots=shots).result()\n",
    "answer = results.get_counts()\n",
    "\n",
    "# Categorize measurements by input register values\n",
    "answer_plot = {}\n",
    "for measresult in answer.keys():\n",
    "    measresult_input = measresult[2:]\n",
    "    if measresult_input in answer_plot:\n",
    "        answer_plot[measresult_input] += answer[measresult]\n",
    "    else:\n",
    "        answer_plot[measresult_input] = answer[measresult]\n",
    "\n",
    "print(answer_plot)\n",
    "\n",
    "\n",
    "def sdotz(a, b):  # Calculate the dot product of the results\n",
    "    accum = 0\n",
    "    for i in range(len(a)):\n",
    "        accum += int(a[i]) * int(b[i])\n",
    "    return (accum % 2)\n",
    "\n",
    "\n",
    "print('s, z, s.z (mod 2)')\n",
    "for z_rev in answer_plot:\n",
    "    z = z_rev[::-1]\n",
    "    print(f'{11}, {z}, {11}.{z}={sdotz(\"11\",z)}')\n",
    "# We can recover the value of a = 11.\n"
   ]
  },
  {
   "cell_type": "code",
   "execution_count": null,
   "metadata": {},
   "outputs": [],
   "source": []
  }
 ],
 "metadata": {
  "kernelspec": {
   "display_name": "Python 3",
   "language": "python",
   "name": "python3"
  },
  "language_info": {
   "codemirror_mode": {
    "name": "ipython",
    "version": 3
   },
   "file_extension": ".py",
   "mimetype": "text/x-python",
   "name": "python",
   "nbconvert_exporter": "python",
   "pygments_lexer": "ipython3",
   "version": "3.8.2"
  }
 },
 "nbformat": 4,
 "nbformat_minor": 2
}
