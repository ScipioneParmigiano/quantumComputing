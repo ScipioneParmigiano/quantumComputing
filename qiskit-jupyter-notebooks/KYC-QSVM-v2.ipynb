{
 "cells": [
  {
   "cell_type": "code",
   "execution_count": 1,
   "metadata": {},
   "outputs": [],
   "source": [
    "#Function to deliver the data on which the qsvm and classical svm will run\n",
    "#We have taken two dimensions/features - Age and GrossAnnualIncome and formed two classes \n",
    "#of interesting (Good) and not so interesting (Bad)              \n",
    "\n",
    "def KYC_data(type):\n",
    "    if type == 'training':     #Training Data\n",
    "        data = {'B': [[86.0, 2088139.0],\n",
    "  [68.0, 927650.0],\n",
    "  [71.0, 1133323.0],\n",
    "  [68.0, 859230.0],\n",
    "  [75.0, 1668323.0],\n",
    "  [70.0, 104659.0],\n",
    "  [88.0, 2032140.0],\n",
    "  [60.0, 1200924.0],\n",
    "  [86.0, 1709721.0],\n",
    "  [71.0, 1557657.0],\n",
    "  [62.0, 739554.0],\n",
    "  [70.0, 2297395.0],\n",
    "  [75.0, 1572765.0],\n",
    "  [62.0, 561837.0],\n",
    "  [85.0, 2001166.0],\n",
    "  [68.0, 1453153.0],\n",
    "  [68.0, 2079213.0],\n",
    "  [71.0, 1974327.0],\n",
    "  [58.0, 1990471.2997647056],\n",
    "  [62.0, 2431145.0],\n",
    "  [71.0, 2096240.0],\n",
    "  [71.0, 1376852.0],\n",
    "  [63.0, 893159.0],\n",
    "  [64.0, 846079.0],\n",
    "  [64.0, 894611.0],\n",
    "  [80.0, 629616.0],\n",
    "  [71.0, 1718584.0],\n",
    "  [72.0, 1263399.0],\n",
    "  [58.0, 2147241.299764706],\n",
    "  [56.0, 2427227.9101176467],\n",
    "  [71.0, 1328031.0],\n",
    "  [52.0, 1632908.1308235298]],\n",
    " 'G': [[42.0, 5709112.1825882355],\n",
    "  [42.0, 3724968.1825882364],\n",
    "  [42.0, 3716432.1825882364],\n",
    "  [22.0, 3402745.286117647],\n",
    "  [44.0, 5300792.572235294],\n",
    "  [22.0, 3530238.286117647],\n",
    "  [42.0, 3724968.1825882364],\n",
    "  [42.0, 3716432.1825882364],\n",
    "  [22.0, 3402745.286117647],\n",
    "  [43.0, 5300792.572235294],\n",
    "  [21.0, 3530238.286117647],\n",
    "  [45.0, 3724968.1825882364],\n",
    "  [46.0, 3716432.1825882364],\n",
    "  [24.0, 3402745.286117647],\n",
    "  [41.0, 5300792.572235294],\n",
    "  [25.0, 3530238.286117647],\n",
    "  [40.0, 3724968.1825882364],\n",
    "  [49.0, 3716432.1825882364],\n",
    "  [26.0, 3402745.286117647],\n",
    "  [40.0, 5300792.572235294],\n",
    "  [30.0, 3530238.286117647],\n",
    "  [31.0, 3785055.2670588233],\n",
    "  [43.0, 3300664.877411765]]}\n",
    "\n",
    "    elif type == 'test':     #Test Data\n",
    "        data = {'B': [[64.0, 894611.0],\n",
    "  [80.0, 629616.0],\n",
    "  [71.0, 1718584.0],\n",
    "  [72.0, 1263399.0],\n",
    "  [58.0, 2147241.299764706],\n",
    "  [56.0, 2427227.9101176467],\n",
    "  [71.0, 1328031.0],\n",
    "  [52.0, 1632908.1308235298]],\n",
    "              'G': [[41.0, 3709112.1825882355],\n",
    "  [42.0, 4724968.1825882364],\n",
    "  [43.0, 3716432.1825882364],\n",
    "  [22.0, 3402745.286117647],\n",
    "  [34.0, 5300792.572235294],\n",
    "  [28.0, 4530238.286117647],\n",
    "  [49.0, 3785055.2670588233],\n",
    "  [19.0, 4300664.877411765]]}\n",
    "\n",
    "    return data\n"
   ]
  },
  {
   "cell_type": "code",
   "execution_count": 2,
   "metadata": {},
   "outputs": [
    {
     "ename": "ModuleNotFoundError",
     "evalue": "No module named 'qiskit.aqua.input'",
     "output_type": "error",
     "traceback": [
      "\u001b[1;31m---------------------------------------------------------------------------\u001b[0m",
      "\u001b[1;31mModuleNotFoundError\u001b[0m                       Traceback (most recent call last)",
      "\u001b[1;32m<ipython-input-2-41973b5c433c>\u001b[0m in \u001b[0;36m<module>\u001b[1;34m\u001b[0m\n\u001b[0;32m      2\u001b[0m \u001b[1;32mfrom\u001b[0m \u001b[0mqiskit\u001b[0m \u001b[1;32mimport\u001b[0m \u001b[0mBasicAer\u001b[0m\u001b[1;33m\u001b[0m\u001b[1;33m\u001b[0m\u001b[0m\n\u001b[0;32m      3\u001b[0m \u001b[1;32mfrom\u001b[0m \u001b[0mqiskit\u001b[0m\u001b[1;33m.\u001b[0m\u001b[0maqua\u001b[0m\u001b[1;33m.\u001b[0m\u001b[0mutils\u001b[0m \u001b[1;32mimport\u001b[0m \u001b[0msplit_dataset_to_data_and_labels\u001b[0m\u001b[1;33m,\u001b[0m \u001b[0mmap_label_to_class_name\u001b[0m\u001b[1;33m\u001b[0m\u001b[1;33m\u001b[0m\u001b[0m\n\u001b[1;32m----> 4\u001b[1;33m \u001b[1;32mfrom\u001b[0m \u001b[0mqiskit\u001b[0m\u001b[1;33m.\u001b[0m\u001b[0maqua\u001b[0m\u001b[1;33m.\u001b[0m\u001b[0minput\u001b[0m \u001b[1;32mimport\u001b[0m \u001b[0mClassificationInput\u001b[0m\u001b[1;33m\u001b[0m\u001b[1;33m\u001b[0m\u001b[0m\n\u001b[0m\u001b[0;32m      5\u001b[0m \u001b[1;32mfrom\u001b[0m \u001b[0mqiskit\u001b[0m\u001b[1;33m.\u001b[0m\u001b[0maqua\u001b[0m \u001b[1;32mimport\u001b[0m \u001b[0mrun_algorithm\u001b[0m\u001b[1;33m,\u001b[0m \u001b[0mQuantumInstance\u001b[0m\u001b[1;33m\u001b[0m\u001b[1;33m\u001b[0m\u001b[0m\n\u001b[0;32m      6\u001b[0m \u001b[1;32mfrom\u001b[0m \u001b[0mqiskit\u001b[0m\u001b[1;33m.\u001b[0m\u001b[0maqua\u001b[0m\u001b[1;33m.\u001b[0m\u001b[0malgorithms\u001b[0m \u001b[1;32mimport\u001b[0m \u001b[0mQSVM\u001b[0m\u001b[1;33m\u001b[0m\u001b[1;33m\u001b[0m\u001b[0m\n",
      "\u001b[1;31mModuleNotFoundError\u001b[0m: No module named 'qiskit.aqua.input'"
     ]
    }
   ],
   "source": [
    "from qiskit import IBMQ\n",
    "from qiskit import BasicAer\n",
    "from qiskit.aqua.utils import split_dataset_to_data_and_labels, map_label_to_class_name\n",
    "from qiskit.aqua.input import ClassificationInput\n",
    "from qiskit.aqua import run_algorithm, QuantumInstance\n",
    "from qiskit.aqua.algorithms import QSVM\n",
    "from qiskit.aqua.components.feature_maps import SecondOrderExpansion\n",
    "\n",
    "# setup aqua logging\n",
    "import logging\n",
    "from qiskit.aqua import set_qiskit_aqua_logging\n",
    "# set_qiskit_aqua_logging(logging.DEBUG)  # choose INFO, DEBUG to see the log"
   ]
  },
  {
   "cell_type": "code",
   "execution_count": null,
   "metadata": {},
   "outputs": [],
   "source": [
    "feature_dim=2 # we support feature_dim 2 or 3\n",
    "training_input = KYC_data('training')\n",
    "test_input = KYC_data('test')\n",
    "class_labels = ['B', 'G']\n",
    "#{'A': 0, 'B': 1}\n",
    "\n",
    "#Visualization of Data\n",
    "#Reshape data - stack the data and labels separately\n",
    "trainingDataPoints = np.vstack((np.array(training_input['B']), np.array(training_input['G'])))\n",
    "trainingLabels = [0]*len(training_input['B']) + [1]*len(training_input['G'])\n",
    "#print (trainingDataPoints)\n",
    "#print(trainingLabels)\n",
    "#Obtain the mean values of the training Dataset\n",
    "y_mean = np.mean(trainingDataPoints[:, 1])\n",
    "print(y_mean)\n",
    "x_mean = np.mean(trainingDataPoints[:, 0])\n",
    "print(x_mean)\n",
    "#Plot the training dataset and the mean-values in one plot\n",
    "plt.scatter(trainingDataPoints[:, 0], trainingDataPoints[:, 1], c=trainingLabels, s=30, cmap='winter')\n",
    "plt.plot([x_mean], [y_mean], 'x', color='red', markeredgewidth=2, markersize=10)"
   ]
  },
  {
   "cell_type": "code",
   "execution_count": null,
   "metadata": {},
   "outputs": [],
   "source": [
    "extra_test_data = {'B': [[86.0, 2088139.0],\n",
    "  [68.0, 927650.0],\n",
    "  [71.0, 1133323.0],\n",
    "  [68.0, 859230.0],\n",
    "  [75.0, 1668323.0],\n",
    "  [70.0, 104659.0],\n",
    "  [88.0, 2032140.0],\n",
    "  [60.0, 1200924.0]], \n",
    "                   'G': [[42.0, 2709112.1825882355],\n",
    "  [42.0, 3724968.1825882364],\n",
    "  [42.0, 3716432.1825882364],\n",
    "  [22.0, 3402745.286117647],\n",
    "  [44.0, 5300792.572235294],\n",
    "  [22.0, 3530238.286117647],\n",
    "  [45.0, 3785055.2670588233],\n",
    "  [43.0, 3300664.877411765]]}\n",
    "#{'A': 0, 'B': 1}\n",
    "\n",
    "#extra_test_data = sample_ad_hoc_data(sample_Total, 10, n=feature_dim)\n",
    "datapoints, class_to_label = split_dataset_to_data_and_labels(extra_test_data)\n",
    "print(class_to_label)\n",
    "#print(datapoints)"
   ]
  },
  {
   "cell_type": "code",
   "execution_count": null,
   "metadata": {},
   "outputs": [],
   "source": [
    "seed = 10598\n",
    "#Mapping data with the second order expansion followed by entangling gates.\n",
    "feature_map = SecondOrderExpansion(feature_dimension=feature_dim, depth=2, entanglement='linear')\n",
    "#depth (int): the number of repeated circuits\n",
    "#entanglement (str): ['full', 'linear'], generate the qubit connectivitiy by predefined topology\n",
    "\n",
    "print(feature_map)\n",
    "#Create the QSVM object\n",
    "qsvm = QSVM(feature_map, training_input, test_input)"
   ]
  },
  {
   "cell_type": "code",
   "execution_count": 3,
   "metadata": {
    "scrolled": true
   },
   "outputs": [
    {
     "ename": "AttributeError",
     "evalue": "'IBMQFactory' object has no attribute 'backends'",
     "output_type": "error",
     "traceback": [
      "\u001b[1;31m---------------------------------------------------------------------------\u001b[0m",
      "\u001b[1;31mAttributeError\u001b[0m                            Traceback (most recent call last)",
      "\u001b[1;32m<ipython-input-3-184de7558fe9>\u001b[0m in \u001b[0;36m<module>\u001b[1;34m\u001b[0m\n\u001b[0;32m      1\u001b[0m \u001b[1;31m#The available backends\u001b[0m\u001b[1;33m\u001b[0m\u001b[1;33m\u001b[0m\u001b[1;33m\u001b[0m\u001b[0m\n\u001b[0;32m      2\u001b[0m \u001b[0mIBMQ\u001b[0m\u001b[1;33m.\u001b[0m\u001b[0menable_account\u001b[0m\u001b[1;33m(\u001b[0m\u001b[1;34m'572f057faf2d93153592814e772f301325b332b27dac1fd311d516ba595d2f133d955a29eccb281cb08ae6204eea37bc7117d6d7d80a921f92ad6d1c709c1260'\u001b[0m\u001b[1;33m)\u001b[0m\u001b[1;33m\u001b[0m\u001b[1;33m\u001b[0m\u001b[0m\n\u001b[1;32m----> 3\u001b[1;33m \u001b[0mprint\u001b[0m\u001b[1;33m(\u001b[0m\u001b[0mIBMQ\u001b[0m\u001b[1;33m.\u001b[0m\u001b[0mbackends\u001b[0m\u001b[1;33m(\u001b[0m\u001b[1;33m)\u001b[0m\u001b[1;33m)\u001b[0m\u001b[1;33m\u001b[0m\u001b[1;33m\u001b[0m\u001b[0m\n\u001b[0m\u001b[0;32m      4\u001b[0m \u001b[1;31m#Choose a backend - QC\u001b[0m\u001b[1;33m\u001b[0m\u001b[1;33m\u001b[0m\u001b[1;33m\u001b[0m\u001b[0m\n\u001b[0;32m      5\u001b[0m \u001b[0mdevice\u001b[0m \u001b[1;33m=\u001b[0m \u001b[0mIBMQ\u001b[0m\u001b[1;33m.\u001b[0m\u001b[0mget_backend\u001b[0m\u001b[1;33m(\u001b[0m\u001b[1;34m'ibmq_16_melbourne'\u001b[0m\u001b[1;33m)\u001b[0m\u001b[1;33m\u001b[0m\u001b[1;33m\u001b[0m\u001b[0m\n",
      "\u001b[1;31mAttributeError\u001b[0m: 'IBMQFactory' object has no attribute 'backends'"
     ]
    }
   ],
   "source": [
    "#The available backends\n",
    "IBMQ.enable_account('572f057faf2d93153592814e772f301325b332b27dac1fd311d516ba595d2f133d955a29eccb281cb08ae6204eea37bc7117d6d7d80a921f92ad6d1c709c1260')\n",
    "print(IBMQ.backends())\n",
    "#Choose a backend - QC \n",
    "device = IBMQ.get_backend('ibmq_16_melbourne')\n",
    "#Choose a backend - Simulator\n",
    "backend = BasicAer.get_backend('qasm_simulator')\n",
    "#quantum_instance = QuantumInstance(backend, shots=1024, seed=seed, seed_transpiler=seed)\n",
    "quantum_instance = QuantumInstance(backend, shots=100, seed=seed, seed_transpiler=seed)\n",
    "#backend (BaseBackend): instance of selected backend\n",
    "#seed_transpiler is part of COMPILE_CONFIG\n",
    "#seed_transpiler (int, optional): the random seed for circuit mapper\n",
    "#shots, seed are part of RUN_CONFIG\n",
    "#shots (int, optional): number of repetitions of each circuit, for sampling\n",
    "#seed (int, optional): random seed for simulators\n",
    "\n",
    "#Does not work - throws keyerror - KeyError: 0\n",
    "#quantum_instance = QuantumInstance(device, shots=100, seed=seed, seed_transpiler=seed)\n",
    "\n",
    "print (quantum_instance)"
   ]
  },
  {
   "cell_type": "code",
   "execution_count": 142,
   "metadata": {},
   "outputs": [
    {
     "name": "stdout",
     "output_type": "stream",
     "text": [
      "testing success ratio:  0.625 0.625\n"
     ]
    }
   ],
   "source": [
    "#Run the QSVM\n",
    "result = qsvm.run(quantum_instance)\n",
    "\n",
    "\"\"\"declarative approach, re-use the params above\n",
    "algo_input = ClassificationInput(training_input, test_input)\n",
    "result = run_algorithm(params, algo_input)\n",
    "\"\"\"\n",
    "print(\"testing success ratio: \", result['testing_accuracy'],result['test_success_ratio'])"
   ]
  },
  {
   "cell_type": "code",
   "execution_count": 143,
   "metadata": {},
   "outputs": [
    {
     "name": "stdout",
     "output_type": "stream",
     "text": [
      "dict_keys(['kernel_matrix_training', 'svm', 'kernel_matrix_testing', 'testing_accuracy', 'test_success_ratio'])\n",
      "kernel matrix during the training:\n",
      "[[1.   0.22 0.49 ... 0.04 0.05 0.41]\n",
      " [0.22 1.   0.4  ... 0.5  0.21 0.54]\n",
      " [0.49 0.4  1.   ... 0.35 0.18 0.61]\n",
      " ...\n",
      " [0.04 0.5  0.35 ... 1.   0.04 0.46]\n",
      " [0.05 0.21 0.18 ... 0.04 1.   0.  ]\n",
      " [0.41 0.54 0.61 ... 0.46 0.   1.  ]]\n",
      "(55, 55)\n",
      "kernel matrix during the testing:\n",
      "[[0.31 0.11 0.04 0.25 0.01 0.05 0.21 0.28 0.05 0.28 0.22 0.18 0.01 0.05\n",
      "  0.45 0.18 0.41 0.14 0.26 0.06 0.03 0.29 0.21 1.   0.06 0.75 0.08 0.1\n",
      "  0.03 0.01 0.08 0.07 0.01 0.04 0.14 0.15 0.65 0.01 0.04 0.14 0.05 0.02\n",
      "  0.49 0.25 0.22 0.22 0.21 0.06 0.34 0.03 0.15 0.   0.04]\n",
      " [0.32 0.04 0.62 0.15 0.2  0.33 0.28 0.07 0.08 0.07 0.06 0.05 0.44 0.22\n",
      "  0.04 0.48 0.48 0.44 0.3  0.41 0.5  0.07 0.6  0.06 1.   0.22 0.81 0.21\n",
      "  0.17 0.03 0.08 0.21 0.41 0.18 0.18 0.62 0.34 0.41 0.18 0.18 0.25 0.45\n",
      "  0.49 0.   0.58 0.45 0.34 0.61 0.04 0.33 0.21 0.34 0.17]\n",
      " [0.44 0.45 0.36 0.04 0.05 0.07 0.26 0.08 0.21 0.07 0.53 0.34 0.03 0.34\n",
      "  0.48 0.17 0.33 0.33 0.21 0.02 0.34 0.21 0.44 0.75 0.22 1.   0.21 0.13\n",
      "  0.25 0.04 0.05 0.06 0.05 0.1  0.07 0.18 0.79 0.05 0.1  0.07 0.21 0.18\n",
      "  0.48 0.33 0.36 0.25 0.5  0.07 0.49 0.17 0.08 0.07 0.08]\n",
      " [0.25 0.05 0.48 0.14 0.19 0.34 0.44 0.19 0.13 0.21 0.08 0.03 0.29 0.19\n",
      "  0.17 0.58 0.62 0.26 0.06 0.49 0.41 0.01 0.43 0.08 0.81 0.21 1.   0.31\n",
      "  0.15 0.05 0.18 0.17 0.29 0.15 0.31 0.3  0.26 0.29 0.15 0.31 0.14 0.33\n",
      "  0.62 0.07 0.33 0.26 0.48 0.34 0.01 0.21 0.25 0.11 0.11]\n",
      " [0.41 0.52 0.29 0.07 0.89 0.33 0.   0.11 0.8  0.21 0.25 0.34 0.41 0.49\n",
      "  0.01 0.04 0.22 0.25 0.08 0.28 0.41 0.06 0.07 0.1  0.21 0.13 0.31 1.\n",
      "  0.8  0.21 0.21 0.44 0.54 0.58 0.71 0.05 0.33 0.54 0.58 0.71 0.44 0.45\n",
      "  0.25 0.05 0.07 0.14 0.36 0.1  0.35 0.58 0.34 0.15 0.56]\n",
      " [0.43 0.81 0.34 0.13 0.93 0.38 0.05 0.17 0.86 0.19 0.31 0.79 0.48 0.81\n",
      "  0.25 0.   0.05 0.49 0.33 0.19 0.44 0.41 0.25 0.03 0.17 0.25 0.15 0.8\n",
      "  1.   0.15 0.22 0.44 0.77 0.62 0.49 0.21 0.21 0.77 0.62 0.49 0.81 0.68\n",
      "  0.08 0.4  0.28 0.31 0.46 0.05 0.61 0.9  0.44 0.09 0.77]\n",
      " [0.21 0.18 0.03 0.11 0.36 0.21 0.05 0.28 0.25 0.36 0.5  0.11 0.33 0.14\n",
      "  0.15 0.04 0.01 0.   0.32 0.25 0.03 0.15 0.01 0.01 0.03 0.04 0.05 0.21\n",
      "  0.15 1.   0.08 0.14 0.32 0.34 0.03 0.15 0.04 0.32 0.34 0.03 0.13 0.1\n",
      "  0.02 0.15 0.06 0.2  0.21 0.07 0.11 0.18 0.17 0.44 0.13]\n",
      " [0.08 0.21 0.25 0.41 0.22 0.01 0.68 0.33 0.26 0.03 0.06 0.28 0.11 0.29\n",
      "  0.28 0.72 0.49 0.17 0.01 0.19 0.25 0.14 0.24 0.08 0.08 0.05 0.18 0.21\n",
      "  0.22 0.08 1.   0.47 0.06 0.25 0.48 0.07 0.01 0.06 0.25 0.48 0.25 0.14\n",
      "  0.33 0.37 0.07 0.05 0.11 0.15 0.21 0.15 0.05 0.21 0.44]\n",
      " [0.05 0.46 0.25 0.64 0.44 0.29 0.25 0.89 0.25 0.52 0.29 0.19 0.21 0.48\n",
      "  0.15 0.18 0.08 0.41 0.05 0.49 0.26 0.2  0.19 0.29 0.03 0.21 0.06 0.26\n",
      "  0.42 0.34 0.29 0.05 0.34 0.2  0.01 0.07 0.01 0.34 0.2  0.01 0.46 0.36\n",
      "  0.11 0.11 0.17 0.08 0.48 0.13 0.05 0.46 0.44 0.05 0.65]\n",
      " [0.29 0.8  0.15 0.01 0.82 0.25 0.   0.05 1.   0.13 0.44 0.76 0.62 0.48\n",
      "  0.13 0.05 0.15 0.25 0.19 0.05 0.22 0.21 0.06 0.05 0.08 0.25 0.13 0.8\n",
      "  0.93 0.19 0.26 0.44 0.76 0.9  0.77 0.06 0.2  0.76 0.9  0.77 0.45 0.35\n",
      "  0.15 0.25 0.1  0.17 0.39 0.   0.62 0.58 0.26 0.33 0.43]\n",
      " [0.3  0.93 0.28 0.05 0.62 0.51 0.07 0.08 0.79 0.34 0.25 0.82 0.34 0.65\n",
      "  0.34 0.01 0.04 0.51 0.31 0.14 0.39 0.51 0.25 0.06 0.07 0.33 0.07 0.54\n",
      "  0.93 0.03 0.25 0.47 0.48 0.48 0.49 0.18 0.18 0.48 0.48 0.49 0.68 0.44\n",
      "  0.05 0.52 0.31 0.21 0.38 0.05 0.66 0.63 0.58 0.07 0.58]\n",
      " [0.13 0.41 0.04 0.06 0.48 0.25 0.18 0.03 0.75 0.05 0.13 0.41 0.41 0.17\n",
      "  0.03 0.34 0.53 0.05 0.05 0.01 0.07 0.06 0.01 0.14 0.18 0.07 0.31 0.71\n",
      "  0.49 0.03 0.48 0.77 0.41 0.59 1.   0.04 0.18 0.41 0.59 1.   0.18 0.14\n",
      "  0.45 0.17 0.05 0.05 0.17 0.01 0.36 0.25 0.18 0.21 0.21]\n",
      " [0.41 0.32 0.31 0.29 0.8  0.21 0.11 0.25 0.58 0.08 0.17 0.44 0.89 0.51\n",
      "  0.13 0.15 0.18 0.44 0.5  0.21 0.31 0.34 0.33 0.01 0.48 0.05 0.34 0.48\n",
      "  0.71 0.25 0.02 0.28 0.96 0.67 0.32 0.49 0.15 0.96 0.67 0.32 0.68 0.79\n",
      "  0.18 0.15 0.43 0.62 0.41 0.26 0.31 0.86 0.22 0.35 0.44]\n",
      " [0.23 0.01 0.41 0.31 0.29 0.15 0.22 0.15 0.25 0.03 0.15 0.17 0.81 0.19\n",
      "  0.05 0.41 0.25 0.41 0.58 0.21 0.33 0.28 0.48 0.01 0.76 0.01 0.37 0.11\n",
      "  0.19 0.22 0.06 0.13 0.66 0.46 0.13 0.81 0.07 0.66 0.46 0.13 0.33 0.46\n",
      "  0.2  0.05 0.58 0.75 0.15 0.62 0.05 0.41 0.13 0.77 0.15]\n",
      " [0.29 0.36 0.07 0.14 0.25 0.28 0.33 0.07 0.26 0.21 0.28 0.81 0.21 0.44\n",
      "  0.88 0.05 0.05 0.41 0.51 0.03 0.13 0.93 0.2  0.34 0.04 0.35 0.04 0.06\n",
      "  0.44 0.14 0.25 0.28 0.32 0.21 0.07 0.23 0.15 0.32 0.21 0.07 0.55 0.33\n",
      "  0.05 0.93 0.25 0.34 0.18 0.07 0.52 0.44 0.34 0.04 0.37]\n",
      " [0.09 0.51 0.28 0.48 0.61 0.29 0.21 0.74 0.34 0.49 0.28 0.21 0.2  0.5\n",
      "  0.11 0.17 0.07 0.35 0.02 0.48 0.33 0.15 0.17 0.18 0.01 0.14 0.05 0.44\n",
      "  0.48 0.42 0.41 0.11 0.34 0.28 0.11 0.05 0.01 0.34 0.28 0.11 0.48 0.36\n",
      "  0.05 0.13 0.11 0.04 0.41 0.1  0.06 0.48 0.44 0.08 0.79]]\n",
      "(16, 53)\n",
      "dict_keys(['alphas', 'bias', 'support_vectors', 'yin'])\n",
      "SVM alphas - the weight of each data point in constructing the SVM\n",
      "[6.91901613 0.56382078 0.91460994 1.26441407 0.01577197 4.10586462\n",
      " 0.43123617 0.62426441 4.12499349 0.08897162 2.73138524 2.65163942\n",
      " 6.50816434 0.5207466  0.0193331  0.96776602 4.35085997 0.42915872\n",
      " 4.14187503 0.16508743 0.58592386 1.60994722 4.5084429  2.22442158\n",
      " 1.26725931 0.04341692 0.41729056 1.34210577 1.62291081 0.31144355\n",
      " 0.54253994 0.31899855 3.85604425 0.25143258 1.56314397 1.5894306\n",
      " 5.23734338 3.85604425 0.25143258 1.56314397 0.17845184 0.88045387\n",
      " 4.66753834 4.60125422 0.11720715 5.00682477 4.53665111 1.73114998\n",
      " 3.90629061 0.18882825 3.70045993 4.82150391 3.19590564]\n",
      "SVM bias - the bias of the SVM hyperplane\n",
      "[-0.11711191]\n",
      "SVM support_vectors - the actual support vectors SVM hyperplane\n",
      "[[8.60000000e+01 2.08813900e+06]\n",
      " [6.80000000e+01 9.27650000e+05]\n",
      " [7.10000000e+01 1.13332300e+06]\n",
      " [6.80000000e+01 8.59230000e+05]\n",
      " [7.50000000e+01 1.66832300e+06]\n",
      " [7.00000000e+01 1.04659000e+05]\n",
      " [8.80000000e+01 2.03214000e+06]\n",
      " [6.00000000e+01 1.20092400e+06]\n",
      " [8.60000000e+01 1.70972100e+06]\n",
      " [7.10000000e+01 1.55765700e+06]\n",
      " [6.20000000e+01 7.39554000e+05]\n",
      " [7.00000000e+01 2.29739500e+06]\n",
      " [7.50000000e+01 1.57276500e+06]\n",
      " [6.20000000e+01 5.61837000e+05]\n",
      " [8.50000000e+01 2.00116600e+06]\n",
      " [6.80000000e+01 1.45315300e+06]\n",
      " [6.80000000e+01 2.07921300e+06]\n",
      " [7.10000000e+01 1.97432700e+06]\n",
      " [5.80000000e+01 1.99047130e+06]\n",
      " [6.20000000e+01 2.43114500e+06]\n",
      " [7.10000000e+01 2.09624000e+06]\n",
      " [7.10000000e+01 1.37685200e+06]\n",
      " [6.30000000e+01 8.93159000e+05]\n",
      " [6.40000000e+01 8.94611000e+05]\n",
      " [8.00000000e+01 6.29616000e+05]\n",
      " [7.10000000e+01 1.71858400e+06]\n",
      " [7.20000000e+01 1.26339900e+06]\n",
      " [5.80000000e+01 2.14724130e+06]\n",
      " [5.60000000e+01 2.42722791e+06]\n",
      " [7.10000000e+01 1.32803100e+06]\n",
      " [5.20000000e+01 1.63290813e+06]\n",
      " [4.20000000e+01 5.70911218e+06]\n",
      " [4.20000000e+01 3.72496818e+06]\n",
      " [4.20000000e+01 3.71643218e+06]\n",
      " [2.20000000e+01 3.40274529e+06]\n",
      " [4.40000000e+01 5.30079257e+06]\n",
      " [2.20000000e+01 3.53023829e+06]\n",
      " [4.20000000e+01 3.72496818e+06]\n",
      " [4.20000000e+01 3.71643218e+06]\n",
      " [2.20000000e+01 3.40274529e+06]\n",
      " [4.30000000e+01 5.30079257e+06]\n",
      " [4.50000000e+01 3.72496818e+06]\n",
      " [4.60000000e+01 3.71643218e+06]\n",
      " [2.40000000e+01 3.40274529e+06]\n",
      " [4.10000000e+01 5.30079257e+06]\n",
      " [2.50000000e+01 3.53023829e+06]\n",
      " [4.00000000e+01 3.72496818e+06]\n",
      " [4.90000000e+01 3.71643218e+06]\n",
      " [2.60000000e+01 3.40274529e+06]\n",
      " [4.00000000e+01 5.30079257e+06]\n",
      " [3.00000000e+01 3.53023829e+06]\n",
      " [3.10000000e+01 3.78505527e+06]\n",
      " [4.30000000e+01 3.30066488e+06]]\n",
      "SVM yin - the output of the SVM hyperplane\n",
      "[-1. -1. -1. -1. -1. -1. -1. -1. -1. -1. -1. -1. -1. -1. -1. -1. -1. -1.\n",
      " -1. -1. -1. -1. -1. -1. -1. -1. -1. -1. -1. -1. -1.  1.  1.  1.  1.  1.\n",
      "  1.  1.  1.  1.  1.  1.  1.  1.  1.  1.  1.  1.  1.  1.  1.  1.  1.]\n"
     ]
    }
   ],
   "source": [
    "import numpy as np\n",
    "#The result object is actually a dictionary with many data - so let us print the keys\n",
    "print(result.keys())\n",
    "\n",
    "print(\"kernel matrix during the training:\")\n",
    "kernel_matrix = result['kernel_matrix_training']\n",
    "print (kernel_matrix)\n",
    "print (np.shape(kernel_matrix))\n",
    "\n",
    "print(\"kernel matrix during the testing:\")\n",
    "print (result['kernel_matrix_testing'])\n",
    "print (np.shape(result['kernel_matrix_testing']))\n",
    "\n",
    "#One item is result is the sv, which in turn is another dictionary\n",
    "print (result['svm'].keys())\n",
    "\n",
    "print(\"SVM alphas - the weight of each data point in constructing the SVM\")\n",
    "print (result['svm']['alphas'])\n",
    "print(\"SVM bias - the bias of the SVM hyperplane\")\n",
    "print (result['svm']['bias'])\n",
    "print(\"SVM support_vectors - the actual support vectors SVM hyperplane\")\n",
    "print (result['svm']['support_vectors'])\n",
    "print(\"SVM yin - the output of the SVM hyperplane\")\n",
    "print (result['svm']['yin'])"
   ]
  },
  {
   "cell_type": "code",
   "execution_count": 145,
   "metadata": {},
   "outputs": [
    {
     "name": "stdout",
     "output_type": "stream",
     "text": [
      "(53,)\n",
      "(53,)\n",
      "(53, 2)\n"
     ]
    },
    {
     "data": {
      "image/png": "[encoded data removed]",
      "text/plain": [
       "<Figure size 1008x576 with 4 Axes>"
      ]
     },
     "metadata": {
      "needs_background": "light"
     },
     "output_type": "display_data"
    },
    {
     "data": {
      "image/png": "[encoded data removed]",
      "text/plain": [
       "<Figure size 432x288 with 1 Axes>"
      ]
     },
     "metadata": {
      "needs_background": "light"
     },
     "output_type": "display_data"
    }
   ],
   "source": [
    "import matplotlib.pyplot as plt\n",
    "ages = np.array([68.0, 71.0, 68.0, 75.0, 70.0, 88.0, 60.0, 86.0, 71.0, 62.0, 70.0, 75.0, 62.0, 85.0, 68.0, 68.0, 71.0, 58.0, 62.0, 71.0, 71.0, 63.0, 64.0, 64.0, 80.0, 71.0, 72.0, 58.0, 56.0, 71.0, 52.0, 42.0, 42.0, 22.0, 44.0, 22.0, 42.0, 42.0, 22.0, 43.0, 21.0, 45.0, 46.0, 24.0, 41.0, 25.0, 40.0, 49.0, 26.0, 40.0, 30.0, 31.0, 43.0] )\n",
    "print(ages.shape)\n",
    "print(result['svm']['alphas'].shape)\n",
    "print(result['svm']['support_vectors'].shape)\n",
    "\n",
    "#Subplots\n",
    "fig, ax = plt.subplots(nrows=2, ncols=2, figsize=(14,8))\n",
    "#Kernel Matrix Plots\n",
    "img = ax[0][0].imshow(np.asmatrix(kernel_matrix),interpolation='nearest',origin='upper',cmap='cool', aspect='auto')\n",
    "img1 = ax[0][1].imshow(np.asmatrix(result['kernel_matrix_testing']),interpolation='nearest',origin='upper',cmap='cool', aspect='auto')\n",
    "#Age vs QSVM Alphas - how different points play into the SVM in terms of their weightage\n",
    "ax[1][0].plot(ages,result['svm']['alphas'],'ro')\n",
    "#The support vector plots\n",
    "#ax[1][1].plot(result['svm']['support_vectors'],'g^')\n",
    "ax[1][1].imshow(result['svm']['support_vectors'],cmap='hot', aspect='auto')\n",
    "ax[1][1].plot(np.array(result['svm']['support_vectors'][:,0]),np.array(result['svm']['support_vectors'][:,1]),'bo',label = 'Xsaved')\n",
    "plt.show()\n",
    "\n",
    "#Another Subplot\n",
    "fig2 = plt.figure()\n",
    "ax1 = fig2.add_subplot(111)\n",
    "#Calculate slope\n",
    "m = y_mean/(x_mean-result['svm']['bias'][0])\n",
    "#m = 2500000.0/(48-result['svm']['bias'][0])\n",
    "#The last point with x=90\n",
    "y = m*90\n",
    "#Points for the line dividing the classes\n",
    "xs = [result['svm']['bias'][0],x_mean,90]\n",
    "ys = [0,y_mean,y]\n",
    "#Plot the training set\n",
    "ax1.scatter(trainingDataPoints[:, 0], trainingDataPoints[:, 1], c=trainingLabels, s=40, cmap='winter', label='Data Points')\n",
    "#Plot the support vectors\n",
    "ax1.scatter(np.array(result['svm']['support_vectors'][:,0]),np.array(result['svm']['support_vectors'][:,1]), s=25, c='grey', marker=\"x\", label='Support Vectors')\n",
    "#Plot the mean point\n",
    "ax1.plot([x_mean], [y_mean], 'x', color='red', markeredgewidth=2, markersize=10)\n",
    "#Plot the class-dividing line\n",
    "ax1.plot(xs, ys, color='red')\n",
    "plt.legend(loc='upper left');\n",
    "plt.show()\n",
    "#plt.scatter(trainingDataPoints[:, 0], trainingDataPoints[:, 1], c=trainingLabels, s=30, cmap='winter')\n",
    "#plt.plot([48], [2500000], 'x', color='red', markeredgewidth=2, markersize=10)"
   ]
  },
  {
   "cell_type": "code",
   "execution_count": 146,
   "metadata": {},
   "outputs": [
    {
     "name": "stdout",
     "output_type": "stream",
     "text": [
      "(55, 2)\n",
      "(55,)\n",
      "[0 0 0 0 0 0 0 0 0 0 0 0 0 0 0 0 0 0 0 0 0 0 0 0 0 0 0 0 0 0 0 0 1 1 1 1 1\n",
      " 1 1 1 1 1 1 1 1 1 1 1 1 1 1 1 1 1 1]\n"
     ]
    },
    {
     "data": {
      "text/plain": [
       "SVC(C=10000000000.0, cache_size=200, class_weight=None, coef0=0.0,\n",
       "    decision_function_shape='ovr', degree=3, gamma='auto_deprecated',\n",
       "    kernel='linear', max_iter=-1, probability=False, random_state=None,\n",
       "    shrinking=True, tol=0.001, verbose=False)"
      ]
     },
     "execution_count": 146,
     "metadata": {},
     "output_type": "execute_result"
    }
   ],
   "source": [
    "#Differet way to use qsvm - using test and predict separately\n",
    "trainingLabels = np.array(trainingLabels)\n",
    "print(trainingDataPoints.shape)\n",
    "print(trainingLabels.shape)\n",
    "print(trainingLabels)\n",
    "\n",
    "#qsvm.train(trainingDataPoints,trainingLabels,quantum_instance)\n",
    "#qsvm.train(training_data,labels,quantum_instance)\n",
    "\n",
    "#We will see the classical SVM parallely\n",
    "from sklearn.svm import SVC # \"Support vector classifier\"\n",
    "model = SVC(kernel='linear', C=1E10)\n",
    "model.fit(trainingDataPoints, trainingLabels)"
   ]
  },
  {
   "cell_type": "code",
   "execution_count": 147,
   "metadata": {},
   "outputs": [
    {
     "name": "stdout",
     "output_type": "stream",
     "text": [
      "0.5\n"
     ]
    },
    {
     "data": {
      "text/plain": [
       "array([1., 1., 1., 1., 1.])"
      ]
     },
     "execution_count": 147,
     "metadata": {},
     "output_type": "execute_result"
    }
   ],
   "source": [
    "testDataPoints = np.array([[40.0, 2888139.0],\n",
    "  [68.0, 927650.0],\n",
    "  [71.0, 1133323.0],\n",
    "  [68.0, 859230.0],\n",
    "  [75.0, 1668323.0],\n",
    "  [70.0, 104659.0],\n",
    "  [88.0, 2032140.0],\n",
    "  [60.0, 1200924.0], \n",
    "  [42.0, 2709112.1825882355],\n",
    "  [42.0, 3724968.1825882364],\n",
    "  [42.0, 3716432.1825882364],\n",
    "  [22.0, 3402745.286117647],\n",
    "  [44.0, 5300792.572235294],\n",
    "  [22.0, 3530238.286117647],\n",
    "  [45.0, 3785055.2670588233],\n",
    "  [43.0, 3300664.877411765]])\n",
    "\n",
    "testLabels = np.array([1,0,0,0,0,0,0,0,1,1,1,1,1,1,1,1])\n",
    "\n",
    "#Test the prediction accuracy \n",
    "#of QSVM\n",
    "result1 = qsvm.test(testDataPoints,testLabels,quantum_instance)\n",
    "print (result1)\n",
    "\n",
    "#of Classical SVM\n",
    "from sklearn.model_selection import cross_val_score\n",
    "cross_val_score(model, testDataPoints, testLabels, scoring='recall_macro',cv=5)  "
   ]
  },
  {
   "cell_type": "code",
   "execution_count": 148,
   "metadata": {},
   "outputs": [
    {
     "name": "stdout",
     "output_type": "stream",
     "text": [
      "(16, 2)\n",
      "[0 0 0 0 1 1 0 0 1 0 0 1 0 0 1 0]\n",
      "[1 0 0 0 0 0 0 0 0 1 1 1 1 1 1 1]\n"
     ]
    }
   ],
   "source": [
    "new_test_data = np.array([[40.0, 2888139.0],\n",
    "  [68.0, 927650.0],\n",
    "  [71.0, 1133323.0],\n",
    "  [68.0, 859230.0],\n",
    "  [75.0, 1668323.0],\n",
    "  [70.0, 104659.0],\n",
    "  [88.0, 2032140.0],\n",
    "  [60.0, 1200924.0], \n",
    "  [42.0, 2709112.1825882355],\n",
    "  [42.0, 3724968.1825882364],\n",
    "  [42.0, 3716432.1825882364],\n",
    "  [22.0, 3402745.286117647],\n",
    "  [44.0, 5300792.572235294],\n",
    "  [22.0, 3530238.286117647],\n",
    "  [45.0, 3785055.2670588233],\n",
    "  [43.0, 3300664.877411765]])\n",
    "print(new_test_data.shape)\n",
    "#Predict classes\n",
    "#by a QSVM\n",
    "predictions = qsvm.predict(new_test_data,quantum_instance)\n",
    "print(predictions)\n",
    "#by a classical SVM\n",
    "predictions = model.predict(new_test_data)\n",
    "print(predictions)\n"
   ]
  },
  {
   "cell_type": "code",
   "execution_count": null,
   "metadata": {},
   "outputs": [],
   "source": []
  }
 ],
 "metadata": {
  "kernelspec": {
   "display_name": "Python 3",
   "language": "python",
   "name": "python3"
  },
  "language_info": {
   "codemirror_mode": {
    "name": "ipython",
    "version": 3
   },
   "file_extension": ".py",
   "mimetype": "text/x-python",
   "name": "python",
   "nbconvert_exporter": "python",
   "pygments_lexer": "ipython3",
   "version": "3.8.2"
  }
 },
 "nbformat": 4,
 "nbformat_minor": 2
}
