{
 "cells": [
  {
   "cell_type": "code",
   "execution_count": 1,
   "metadata": {},
   "outputs": [],
   "source": [
    "%matplotlib inline\n",
    "#Amitava Chakraborty - 06th Jan 2018\n",
    "#Preliminaries\n",
    "# Importing standard Qiskit libraries and configuring account\n",
    "import numpy as np\n",
    "from qiskit import ClassicalRegister, QuantumRegister, QuantumCircuit, execute\n",
    "from qiskit import BasicAer\n",
    "from qiskit.quantum_info import Pauli, state_fidelity, basis_state, process_fidelity\n",
    "from qiskit.visualization import plot_histogram\n",
    "\n",
    "q_simulator = BasicAer.get_backend('qasm_simulator')\n",
    "s_simulator = BasicAer.get_backend('statevector_simulator')"
   ]
  },
  {
   "cell_type": "markdown",
   "metadata": {},
   "source": [
    "# Preparaing Circuit"
   ]
  },
  {
   "cell_type": "code",
   "execution_count": 2,
   "metadata": {},
   "outputs": [],
   "source": [
    "#Creating Registers\n",
    "#One qubit size register, named as q0\n",
    "q0 = QuantumRegister(1, 'q0')\n",
    "#One cbit size register\n",
    "c0 = ClassicalRegister(1, 'c0')\n",
    "#Two qubit size register\n",
    "q1 = QuantumRegister(2, 'q1')\n",
    "#Two cbit size register\n",
    "c1 = ClassicalRegister(2, 'c1')"
   ]
  },
  {
   "cell_type": "code",
   "execution_count": 3,
   "metadata": {},
   "outputs": [
    {
     "name": "stdout",
     "output_type": "stream",
     "text": [
      "q0\n",
      "1\n",
      "q1 2\n"
     ]
    }
   ],
   "source": [
    "print(q0.name) ; print (q0.size)\n",
    "print(q1.name, q1.size)"
   ]
  },
  {
   "cell_type": "code",
   "execution_count": 5,
   "metadata": {},
   "outputs": [
    {
     "name": "stdout",
     "output_type": "stream",
     "text": [
      "False\n",
      "False\n",
      "False\n"
     ]
    }
   ],
   "source": [
    "#Test if the register are the same or different.\n",
    "q_test = QuantumRegister(1, 'q2')\n",
    "print(q0==q_test)\n",
    "q_test = QuantumRegister(2, 'q0')\n",
    "print(q0==q_test)\n",
    "print(q0==q1)"
   ]
  },
  {
   "cell_type": "markdown",
   "metadata": {},
   "source": [
    "# Creating Circuits"
   ]
  },
  {
   "cell_type": "code",
   "execution_count": 10,
   "metadata": {},
   "outputs": [
    {
     "data": {
      "text/plain": [
       "\"\\ncirc2 = QuantumCircuit()\\ncirc2.add_register(q0)\\ncirc2.add_register(q1)\\ncirc2.x(q0[1])\\ncirc2.x(q1[0])\\ncirc2.draw(output='mpl')\\n\""
      ]
     },
     "execution_count": 10,
     "metadata": {},
     "output_type": "execute_result"
    }
   ],
   "source": [
    "#Quantum Circuits are made using registers - \n",
    "#either when initiated or by using the add_register command.\n",
    "circ = QuantumCircuit(q0, q1)\n",
    "circ.x(q0[0])\n",
    "circ.x(q1[0])\n",
    "circ.draw(output='mpl')\n",
    "#You must not write anything after circuit drawing, otherwise it cannot draw\n",
    "#To see the drawing - remove the following comments\n",
    "#Or this way\n",
    "\"\"\"\n",
    "circ2 = QuantumCircuit()\n",
    "circ2.add_register(q0)\n",
    "circ2.add_register(q1)\n",
    "circ2.x(q0[1])\n",
    "circ2.x(q1[0])\n",
    "circ2.draw(output='mpl')\n",
    "\"\"\""
   ]
  },
  {
   "cell_type": "code",
   "execution_count": 11,
   "metadata": {},
   "outputs": [
    {
     "data": {
      "image/png": "[encoded data removed]",
      "text/plain": [
       "<Figure size 249.228x325.08 with 1 Axes>"
      ]
     },
     "execution_count": 11,
     "metadata": {},
     "output_type": "execute_result"
    }
   ],
   "source": [
    "from copy import deepcopy\n",
    "q2 = QuantumRegister(2, 'q2')\n",
    "#Copy the entire circuit circ into circ3\n",
    "circ2 = deepcopy(circ)\n",
    "#Add the new register into the new circuit\n",
    "circ2.add_register(q2)\n",
    "circ2.draw(output='mpl')\n",
    "\n",
    "#The circuit drawer has the last register added at the bottom and \n",
    "#if we add a new register it will add it to the bottom of the circuit."
   ]
  },
  {
   "cell_type": "code",
   "execution_count": 12,
   "metadata": {},
   "outputs": [
    {
     "name": "stdout",
     "output_type": "stream",
     "text": [
      "[QuantumRegister(3, 'q')]\n",
      "[ClassicalRegister(2, 'c')]\n"
     ]
    }
   ],
   "source": [
    "#Circuits can also be created without predefined registers. \n",
    "#Instead, you can supply the the number of qubits (required) and \n",
    "#the number of classical bits (optional) to QuantumCircuit().\n",
    "num_qubits = 3;\n",
    "num_bits   = 2;\n",
    "qc = QuantumCircuit(num_qubits, num_bits)\n",
    "#With this syntax, registers are created automatically and \n",
    "#can be accessed as properties of the QuantumCircuit.\n",
    "print(qc.qregs)\n",
    "print(qc.cregs)"
   ]
  },
  {
   "cell_type": "code",
   "execution_count": 13,
   "metadata": {},
   "outputs": [
    {
     "data": {
      "image/png": "[encoded data removed]",
      "text/plain": [
       "<Figure size 418.992x204.68 with 1 Axes>"
      ]
     },
     "execution_count": 13,
     "metadata": {},
     "output_type": "execute_result"
    }
   ],
   "source": [
    "#Qubits and bits can be indexed directly, without indexing into a QuantumRegister. \n",
    "#A gate’s expected argument types will determine whether \n",
    "#an index refers to a qubit or a bit. \n",
    "#For example, cx expects a qubit followed by a bit.\n",
    "num_qubits = 2;\n",
    "num_bits   = 2;\n",
    "bell = QuantumCircuit(2,2)\n",
    "bell.h(0)\n",
    "bell.cx(0, 1)\n",
    "bell.measure([0,1], [0,1])\n",
    "\n",
    "bell.draw(output='mpl')"
   ]
  },
  {
   "cell_type": "code",
   "execution_count": 14,
   "metadata": {},
   "outputs": [
    {
     "name": "stdout",
     "output_type": "stream",
     "text": [
      "Qubit ordering: [Qubit(QuantumRegister(2, 'q2'), 0), Qubit(QuantumRegister(2, 'q2'), 1), Qubit(QuantumRegister(1, 'q1'), 0)]\n",
      "Classical bit ordering: [Clbit(ClassicalRegister(2, 'c'), 0), Clbit(ClassicalRegister(2, 'c'), 1)]\n"
     ]
    },
    {
     "data": {
      "image/png": "[encoded data removed]",
      "text/plain": [
       "<Figure size 429.828x264.88 with 1 Axes>"
      ]
     },
     "execution_count": 14,
     "metadata": {},
     "output_type": "execute_result"
    }
   ],
   "source": [
    "#The indexing method above works for QuantumCircuit objects \n",
    "#constructed with or without predefined QuantumRegister objects.\n",
    "\n",
    "#For circuits with multiple registers, \n",
    "#index ordering will correspond to the order registers were added to the circuit, and \n",
    "#can be verified by inspecting the circuit’s qubits and clbits properties.\n",
    "qr1 = QuantumRegister(1, 'q1')\n",
    "qr2 = QuantumRegister(2, 'q2')\n",
    "cr = ClassicalRegister(2, 'c')\n",
    "circuit = QuantumCircuit(qr2, qr1, cr)\n",
    "\n",
    "print('Qubit ordering:', circuit.qubits)\n",
    "print('Classical bit ordering:', circuit.clbits)\n",
    "\n",
    "circuit.x(0)\n",
    "circuit.rx(1.0,1)\n",
    "circuit.z(2)\n",
    "circuit.h([1,2])\n",
    "circuit.measure(1,[0,1])\n",
    "circuit.draw(output='mpl')"
   ]
  },
  {
   "cell_type": "markdown",
   "metadata": {},
   "source": [
    "# Amending Circuit"
   ]
  },
  {
   "cell_type": "code",
   "execution_count": 17,
   "metadata": {},
   "outputs": [
    {
     "name": "stdout",
     "output_type": "stream",
     "text": [
      "(<qiskit.circuit.library.standard_gates.h.HGate object at 0x000001B6075C7640>, [Qubit(QuantumRegister(2, 'q'), 1)], [])\n"
     ]
    }
   ],
   "source": [
    "#We create a circuit\n",
    "q=QuantumRegister(2,name='q')\n",
    "c=ClassicalRegister(2,name='c')\n",
    "qc=QuantumCircuit(q,c,name='qc')\n",
    "\n",
    "qc.h(q[0])\n",
    "qc.h(q[1])\n",
    "qc.measure(q[0],c[0])\n",
    "\n",
    "#This is a dictionary that holds the instructions\n",
    "circuit_data=qc.data[1]\n",
    "print(circuit_data)"
   ]
  },
  {
   "cell_type": "code",
   "execution_count": 18,
   "metadata": {},
   "outputs": [
    {
     "name": "stdout",
     "output_type": "stream",
     "text": [
      "qreg q[2];\n",
      "creg c[2];\n",
      "h q[0];\n",
      "h q[1];\n",
      "measure q[0] -> c[0];\n",
      "\n",
      "qreg q[2];\n",
      "creg c[2];\n",
      "h q[0];\n",
      "measure q[0] -> c[0];\n",
      "\n"
     ]
    }
   ],
   "source": [
    "# Manipulation of circuit data\n",
    "print(qc.qasm()[36:len(qc.qasm())])\n",
    "del qc.data[1]\n",
    "print(qc.qasm()[36:len(qc.qasm())])"
   ]
  },
  {
   "cell_type": "code",
   "execution_count": 20,
   "metadata": {},
   "outputs": [
    {
     "name": "stdout",
     "output_type": "stream",
     "text": [
      "qreg q[2];\n",
      "creg c[2];\n",
      "h q[1];\n",
      "h q[0];\n",
      "measure q[0] -> c[0];\n",
      "h q[1];\n",
      "h q[1];\n",
      "\n",
      "qreg q[2];\n",
      "creg c[2];\n",
      "h q[1];\n",
      "h q[1];\n",
      "h q[0];\n",
      "measure q[0] -> c[0];\n",
      "h q[1];\n",
      "h q[1];\n",
      "\n"
     ]
    },
    {
     "data": {
      "image/png": "[encoded data removed]",
      "text/plain": [
       "<Figure size 479.192x204.68 with 1 Axes>"
      ]
     },
     "execution_count": 20,
     "metadata": {},
     "output_type": "execute_result"
    }
   ],
   "source": [
    "#We add the circuit data to the qasm\n",
    "qc.data.append(circuit_data)\n",
    "print(qc.qasm()[36:len(qc.qasm())])\n",
    "qc.data.insert(0,circuit_data)\n",
    "print(qc.qasm()[36:len(qc.qasm())])\n",
    "qc.draw('mpl')"
   ]
  },
  {
   "cell_type": "markdown",
   "metadata": {},
   "source": [
    "### Completely Arbitrary State\n",
    "\n",
    "We use the `initialize` function to initialize the three qubit state\n",
    "\n",
    "$$ \\frac{i}{\\sqrt{16}} | 000 \\rangle + \\frac{1}{\\sqrt{8}} | 001 \\rangle +  \\frac{1+i}{\\sqrt{16}} | 010 \\rangle + \\frac{1+2i}{\\sqrt{8}} | 101 \\rangle + \\frac{1}{\\sqrt{16}} | 110 \\rangle .$$\n"
   ]
  },
  {
   "cell_type": "code",
   "execution_count": 22,
   "metadata": {},
   "outputs": [
    {
     "data": {
      "text/html": [
       "<pre style=\"word-wrap: normal;white-space: pre;background: #fff0;line-height: 1.1;font-family: &quot;Courier New&quot;,Courier,monospace\">                                                                             »\n",
       "q_0: ────────────────────────────────────────────────────────────────────────»\n",
       "     ┌───────────────────────────────────────────────────────────────────┐┌─┐»\n",
       "q_1: ┤0                                                                  ├┤M├»\n",
       "     │                                                                   │└╥┘»\n",
       "q_2: ┤1 initialize(0.25j,0.35355,0.25+0.25j,0,0,0.35355+0.70711j,0.25,0) ├─╫─»\n",
       "     │                                                                   │ ║ »\n",
       "q_3: ┤2                                                                  ├─╫─»\n",
       "     └───────────────────────────────────────────────────────────────────┘ ║ »\n",
       "q_4: ──────────────────────────────────────────────────────────────────────╫─»\n",
       "                                                                           ║ »\n",
       "c_0: ══════════════════════════════════════════════════════════════════════╬═»\n",
       "                                                                           ║ »\n",
       "c_1: ══════════════════════════════════════════════════════════════════════╩═»\n",
       "                                                                             »\n",
       "c_2: ════════════════════════════════════════════════════════════════════════»\n",
       "                                                                             »\n",
       "c_3: ════════════════════════════════════════════════════════════════════════»\n",
       "                                                                             »\n",
       "c_4: ════════════════════════════════════════════════════════════════════════»\n",
       "                                                                             »\n",
       "«           \n",
       "«q_0: ──────\n",
       "«           \n",
       "«q_1: ──────\n",
       "«     ┌─┐   \n",
       "«q_2: ┤M├───\n",
       "«     └╥┘┌─┐\n",
       "«q_3: ─╫─┤M├\n",
       "«      ║ └╥┘\n",
       "«q_4: ─╫──╫─\n",
       "«      ║  ║ \n",
       "«c_0: ═╬══╬═\n",
       "«      ║  ║ \n",
       "«c_1: ═╬══╬═\n",
       "«      ║  ║ \n",
       "«c_2: ═╩══╬═\n",
       "«         ║ \n",
       "«c_3: ════╩═\n",
       "«           \n",
       "«c_4: ══════\n",
       "«           </pre>"
      ],
      "text/plain": [
       "                                                                             »\n",
       "q_0: ────────────────────────────────────────────────────────────────────────»\n",
       "     ┌───────────────────────────────────────────────────────────────────┐┌─┐»\n",
       "q_1: ┤0                                                                  ├┤M├»\n",
       "     │                                                                   │└╥┘»\n",
       "q_2: ┤1 initialize(0.25j,0.35355,0.25+0.25j,0,0,0.35355+0.70711j,0.25,0) ├─╫─»\n",
       "     │                                                                   │ ║ »\n",
       "q_3: ┤2                                                                  ├─╫─»\n",
       "     └───────────────────────────────────────────────────────────────────┘ ║ »\n",
       "q_4: ──────────────────────────────────────────────────────────────────────╫─»\n",
       "                                                                           ║ »\n",
       "c_0: ══════════════════════════════════════════════════════════════════════╬═»\n",
       "                                                                           ║ »\n",
       "c_1: ══════════════════════════════════════════════════════════════════════╩═»\n",
       "                                                                             »\n",
       "c_2: ════════════════════════════════════════════════════════════════════════»\n",
       "                                                                             »\n",
       "c_3: ════════════════════════════════════════════════════════════════════════»\n",
       "                                                                             »\n",
       "c_4: ════════════════════════════════════════════════════════════════════════»\n",
       "                                                                             »\n",
       "«           \n",
       "«q_0: ──────\n",
       "«           \n",
       "«q_1: ──────\n",
       "«     ┌─┐   \n",
       "«q_2: ┤M├───\n",
       "«     └╥┘┌─┐\n",
       "«q_3: ─╫─┤M├\n",
       "«      ║ └╥┘\n",
       "«q_4: ─╫──╫─\n",
       "«      ║  ║ \n",
       "«c_0: ═╬══╬═\n",
       "«      ║  ║ \n",
       "«c_1: ═╬══╬═\n",
       "«      ║  ║ \n",
       "«c_2: ═╩══╬═\n",
       "«         ║ \n",
       "«c_3: ════╩═\n",
       "«           \n",
       "«c_4: ══════\n",
       "«           "
      ]
     },
     "execution_count": 22,
     "metadata": {},
     "output_type": "execute_result"
    }
   ],
   "source": [
    "import math\n",
    "#For n-qubit, the vector size is 2^n, Hence for 3 qubits the vector size is 8\n",
    "amplitude_vector = [\n",
    "    1 / math.sqrt(16) * complex(0, 1),\n",
    "    1 / math.sqrt(8) * complex(1, 0),\n",
    "    1 / math.sqrt(16) * complex(1, 1),\n",
    "    0,\n",
    "    0,\n",
    "    1 / math.sqrt(8) * complex(1, 2),\n",
    "    1 / math.sqrt(16) * complex(1, 0),\n",
    "    0]\n",
    "\n",
    "#q = QuantumRegister(3)\n",
    "\n",
    "#qc = QuantumCircuit(q)\n",
    "\n",
    "#qc.initialize(amplitude_vector, [q[0],q[1],q[2]])\n",
    "qc = QuantumCircuit(5,5)\n",
    "qc.initialize(amplitude_vector, [1,2,3])\n",
    "qc.measure([1,2,3], [1,2,3])\n",
    "qc.draw()"
   ]
  },
  {
   "cell_type": "code",
   "execution_count": 23,
   "metadata": {},
   "outputs": [
    {
     "data": {
      "image/png": "[encoded data removed]",
      "text/plain": [
       "<Figure size 504x360 with 1 Axes>"
      ]
     },
     "execution_count": 23,
     "metadata": {},
     "output_type": "execute_result"
    }
   ],
   "source": [
    "results = execute(qc, backend=q_simulator, shots=2048).result()\n",
    "plot_histogram(results.get_counts())"
   ]
  },
  {
   "cell_type": "code",
   "execution_count": null,
   "metadata": {},
   "outputs": [],
   "source": []
  }
 ],
 "metadata": {
  "kernelspec": {
   "display_name": "Python 3",
   "language": "python",
   "name": "python3"
  },
  "language_info": {
   "codemirror_mode": {
    "name": "ipython",
    "version": 3
   },
   "file_extension": ".py",
   "mimetype": "text/x-python",
   "name": "python",
   "nbconvert_exporter": "python",
   "pygments_lexer": "ipython3",
   "version": "3.8.2"
  }
 },
 "nbformat": 4,
 "nbformat_minor": 2
}
