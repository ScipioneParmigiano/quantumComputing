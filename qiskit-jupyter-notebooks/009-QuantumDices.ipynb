{
 "cells": [
  {
   "cell_type": "code",
   "execution_count": 34,
   "metadata": {},
   "outputs": [
    {
     "name": "stderr",
     "output_type": "stream",
     "text": [
      "ibmqfactory.load_account:WARNING:2020-04-06 12:50:05,121: Credentials are already in use. The existing account in the session will be replaced.\n"
     ]
    },
    {
     "data": {
      "text/plain": [
       "<AccountProvider for IBMQ(hub='ibm-q', group='open', project='main')>"
      ]
     },
     "execution_count": 34,
     "metadata": {},
     "output_type": "execute_result"
    }
   ],
   "source": [
    "#Quantum Dice\n",
    "#Amitava Chakraborty - 19th Dec 2019\n",
    "#Issue : After around 4000 rolls, the sequence repeats. \n",
    "#So if you roll the same dice over 4000 times, the pattern repeats and thus is no longer random. \n",
    "#The circuit uses only 5 qubits, the app doesn't support a die larger than 32 sides. \n",
    "\n",
    "from qiskit import IBMQ\n",
    "# Loading your IBM Q account(s)\n",
    "IBMQ.load_account()"
   ]
  },
  {
   "cell_type": "code",
   "execution_count": 35,
   "metadata": {},
   "outputs": [],
   "source": [
    "import numpy as np\n",
    "import math\n",
    "# Importing standard Qiskit libraries and configuring account\n",
    "from qiskit import QuantumCircuit, execute\n",
    "from qiskit import BasicAer\n",
    "\n",
    "backend = BasicAer.get_backend('qasm_simulator')"
   ]
  },
  {
   "cell_type": "markdown",
   "metadata": {},
   "source": [
    "Classical computers can, at best, generate pseudo random numbers. \n",
    "Quantum computers, using uniquely quantum properties, can generate truly random numbers. \n",
    "\n",
    "This example uses random numbers generated from IBM Q's quantum systems \n",
    "to provide a random sequence for different types of dice."
   ]
  },
  {
   "cell_type": "code",
   "execution_count": 36,
   "metadata": {},
   "outputs": [
    {
     "data": {
      "image/png": "[encoded data removed]",
      "text/plain": [
       "<Figure size 539.392x385.28 with 1 Axes>"
      ]
     },
     "execution_count": 36,
     "metadata": {},
     "output_type": "execute_result"
    }
   ],
   "source": [
    "#Circuit to obtain random numbers\n",
    "#The circuit uses 5 qubits - to each a hadamard gate is added.\n",
    "#The H gate sets that qubit into a superposition state of 0 and 1. \n",
    "#A measurement gate is then applied to each qubit - there is a 50% chance of getting a 0, and a 50% of getting a 1. \n",
    "#When all 5 qubits are measured, we will get a result - any 5 bit combination of 0s and 1s \n",
    "#Because all qubits had an equal chance of being 0 or 1, \n",
    "#the output had an equal chance of being anything between 00000 and 11111.\n",
    "\n",
    "\n",
    "qc = QuantumCircuit(5, 5)\n",
    "qc.h(0)\n",
    "qc.h(1)\n",
    "qc.h(2)\n",
    "qc.h(3)\n",
    "qc.h(4)\n",
    "qc.measure([0, 1, 2, 3, 4], [0, 1, 2, 3, 4])\n",
    "qc.draw('mpl')"
   ]
  },
  {
   "cell_type": "code",
   "execution_count": 37,
   "metadata": {},
   "outputs": [],
   "source": [
    "#We use Python to convert those binary numbers to decimals from 0 to 31 \n",
    "#Hence this circuit is a random number generator for values between 0 and 31. \n",
    "\n",
    "#IBMQs are not yet perfect - \n",
    "#so the probalibility distribution to generate true random numbers is close to a uniform distribution, but not fully uniform\n",
    "#Imperfections are due to sources of noise--such as errors in measurement--\n",
    "#and some of it is due to the number of times we rolled the dice. \n",
    "#The lower the noise and the more rolls we make, the closer the observed distribution will be to uniform.\n",
    "\n",
    "#We ran the above circuit several thousand times and stored the results.\n",
    "#The sequence is truly random unless we do more than 4000 dice rolls. \n",
    "\n",
    "shots = 4096\n",
    "job = execute(qc, backend, shots=shots, memory=True)"
   ]
  },
  {
   "cell_type": "code",
   "execution_count": 38,
   "metadata": {},
   "outputs": [
    {
     "name": "stdout",
     "output_type": "stream",
     "text": [
      "[14, 30, 16, 20, 19, 16, 24, 0, 3, 12, 7, 16, 2, 25, 20, 24, 18, 15, 28, 17, 1, 12, 27, 8, 28, 8, 31, 23, 0, 18, 24, 20, 8, 20, 10, 15, 7, 8, 23, 31, 0, 25, 30, 28, 12, 14, 2, 12, 25, 5, 1, 13, 11, 5, 30, 5, 5, 9, 22, 26, 19, 10, 11, 14, 10, 22, 21, 13, 4, 24, 15, 24, 21, 30, 11, 7, 10, 19, 15, 5, 24, 31, 13, 21, 15, 31, 29, 3, 16, 13, 15, 23, 9, 12, 26, 8, 13, 3, 22, 1, 2, 11, 22, 3, 20, 9, 27, 11, 27, 29, 13, 19, 4, 0, 23, 20, 16, 22, 29, 27, 5, 19, 2, 28, 14, 30, 11, 17, 14, 23, 17, 5, 11, 0, 0, 1, 12, 17, 28, 0, 12, 15, 31, 10, 1, 26, 12, 20, 24, 17, 19, 7, 18, 14, 6, 18, 23, 16, 11, 27, 5, 4, 17, 8, 6, 20, 0, 25, 28, 22, 2, 10, 10, 23, 24, 17, 1, 12, 5, 15, 0, 2, 4, 8, 5, 0, 20, 15, 0, 30, 2, 29, 27, 30, 0, 19, 11, 8, 8, 29, 23, 0, 3, 11, 20, 19, 6, 0, 21, 4, 26, 6, 13, 26, 31, 11, 19, 16, 22, 3, 7, 26, 28, 3, 2, 9, 24, 4, 21, 5, 15, 27, 17, 7, 3, 22, 18, 11, 13, 11, 10, 27, 3, 24, 31, 13, 25, 1, 18, 24, 19, 11, 4, 23, 14, 3, 25, 5, 25, 27, 7, 2, 23, 27, 14, 4, 11, 11, 30, 12, 9, 27, 25, 2, 21, 0, 15, 8, 31, 13, 29, 23, 9, 20, 3, 12, 3, 6, 19, 2, 12, 5, 22, 13, 9, 3, 30, 6, 31, 30, 26, 8, 15, 15, 25, 9, 30, 29, 31, 16, 11, 17, 16, 23, 21, 11, 21, 8, 10, 16, 29, 7, 11, 17, 3, 28, 18, 11, 25, 19, 7, 4, 22, 12, 3, 16, 20, 25, 20, 1, 14, 21, 22, 14, 31, 26, 14, 15, 17, 24, 31, 14, 4, 16, 16, 19, 1, 9, 16, 22, 24, 27, 26, 24, 18, 1, 15, 15, 24, 16, 16, 16, 14, 24, 24, 5, 1, 6, 0, 27, 14, 14, 4, 13, 1, 18, 29, 0, 19, 6, 12, 14, 18, 27, 18, 10, 19, 11, 2, 5, 15, 7, 26, 20, 20, 2, 15, 17, 4, 16, 14, 9, 19, 2, 26, 30, 30, 30, 28, 17, 12, 28, 14, 13, 17, 29, 9, 23, 25, 2, 25, 17, 0, 4, 19, 5, 24, 19, 28, 19, 24, 12, 8, 25, 14, 22, 28, 6, 30, 18, 2, 22, 9, 10, 20, 2, 31, 0, 1, 3, 14, 17, 13, 15, 18, 29, 29, 17, 30, 4, 7, 23, 11, 24, 16, 25, 30, 24, 6, 12, 21, 15, 10, 2, 15, 9, 6, 31, 28, 0, 6, 1, 2, 22, 24, 17, 14, 17, 28, 22, 1, 13, 11, 30, 13, 24, 8, 13, 30, 28, 10, 6, 25, 13, 17, 24, 4, 14, 5, 26, 4, 9, 22, 16, 9, 27, 3, 25, 7, 20, 0, 10, 1, 14, 30, 6, 18, 14, 3, 27, 7, 9, 7, 11, 3, 18, 29, 7, 21, 24, 16, 23, 0, 6, 13, 4, 15, 6, 5, 28, 28, 20, 18, 26, 3, 2, 1, 20, 9, 21, 12, 16, 30, 1, 18, 4, 19, 7, 18, 19, 27, 14, 12, 0, 10, 0, 13, 11, 0, 26, 21, 5, 7, 6, 31, 25, 6, 31, 22, 19, 13, 7, 1, 6, 23, 25, 3, 8, 29, 26, 28, 12, 18, 8, 2, 15, 28, 0, 10, 23, 7, 5, 13, 21, 9, 3, 1, 7, 19, 27, 17, 24, 0, 11, 14, 19, 24, 9, 4, 30, 27, 30, 18, 19, 20, 23, 29, 14, 29, 16, 9, 1, 11, 14, 5, 18, 15, 9, 24, 0, 17, 15, 31, 13, 20, 21, 0, 11, 12, 26, 20, 22, 15, 24, 31, 2, 3, 25, 27, 29, 4, 6, 21, 18, 3, 17, 13, 23, 9, 28, 23, 19, 27, 1, 19, 21, 7, 12, 0, 18, 17, 2, 19, 18, 28, 30, 18, 23, 7, 23, 13, 15, 15, 25, 8, 30, 27, 29, 19, 13, 1, 11, 1, 16, 18, 15, 14, 21, 4, 18, 26, 18, 9, 7, 19, 0, 1, 22, 11, 0, 8, 28, 30, 27, 27, 4, 10, 5, 26, 10, 24, 23, 2, 29, 13, 23, 23, 21, 2, 18, 19, 10, 29, 16, 15, 26, 31, 13, 1, 1, 9, 11, 8, 25, 19, 27, 5, 26, 12, 10, 17, 24, 3, 23, 16, 26, 24, 7, 14, 14, 24, 21, 26, 2, 7, 21, 23, 24, 19, 7, 18, 16, 0, 0, 31, 21, 27, 21, 22, 24, 19, 24, 3, 7, 22, 16, 14, 26, 9, 2, 9, 29, 28, 27, 15, 10, 23, 29, 27, 23, 22, 26, 19, 13, 28, 25, 1, 21, 22, 2, 15, 20, 31, 28, 16, 19, 11, 20, 26, 31, 18, 9, 27, 11, 21, 0, 20, 2, 16, 31, 27, 23, 6, 21, 6, 2, 28, 13, 12, 12, 24, 19, 29, 3, 31, 23, 22, 4, 26, 24, 8, 9, 8, 25, 3, 12, 31, 8, 15, 25, 22, 6, 11, 1, 16, 15, 20, 10, 1, 19, 24, 29, 30, 21, 21, 11, 1, 30, 19, 7, 24, 25, 23, 2, 13, 31, 13, 13, 16, 2, 31, 9, 8, 5, 9, 16, 21, 0, 5, 23, 1, 16, 5, 19, 13, 23, 18, 12, 17, 19, 12, 13, 27, 15, 3, 0, 17, 10, 23, 19, 21, 24, 9, 7, 8, 20, 24, 14, 5, 6, 26, 8, 12, 18, 6, 22, 6, 30, 23, 7, 23, 6, 29, 16, 2, 16, 7, 23, 9, 28, 15, 21, 29, 22, 24, 23, 5, 16, 30, 19, 17, 8, 15, 7, 31, 23, 23, 15, 18, 10, 15, 1, 19, 19, 7, 9, 21, 17, 28, 9, 25, 21, 5, 6, 8, 2, 10, 28, 14, 9, 15, 29, 11, 19, 13, 9, 22, 31, 12, 27, 26, 14, 17, 0, 21, 9, 23, 11, 15, 30, 14, 17, 19, 27, 31, 20, 11, 6, 15, 28, 25, 17, 20, 16, 17, 30, 2, 23, 17, 8, 22, 16, 16, 18, 3, 28, 0, 29, 25, 12, 23, 3, 28, 19, 10, 26, 28, 16, 2, 26, 14, 7, 5, 7, 22, 13, 23, 28, 10, 30, 30, 31, 5, 31, 0, 0, 18, 16, 31, 11, 14, 4, 30, 18, 23, 1, 1, 30, 0, 28, 0, 18, 25, 24, 12, 29, 23, 11, 11, 10, 11, 11, 23, 23, 17, 28, 16, 3, 22, 5, 8, 15, 6, 27, 1, 31, 17, 11, 11, 16, 29, 2, 0, 30, 9, 30, 12, 30, 26, 8, 1, 20, 7, 13, 8, 21, 18, 13, 4, 0, 11, 17, 10, 11, 28, 22, 5, 30, 19, 19, 12, 30, 15, 23, 22, 19, 19, 9, 2, 5, 20, 7, 29, 15, 9, 10, 12, 22, 13, 23, 23, 1, 7, 15, 10, 8, 8, 28, 24, 12, 25, 20, 10, 1, 28, 23, 19, 30, 16, 3, 22, 30, 2, 26, 3, 26, 29, 14, 2, 2, 11, 14, 15, 28, 13, 20, 4, 7, 1, 10, 26, 12, 6, 15, 25, 20, 5, 15, 23, 14, 24, 24, 0, 8, 9, 4, 7, 19, 6, 5, 11, 27, 17, 4, 31, 0, 25, 11, 3, 23, 0, 8, 23, 4, 16, 8, 5, 10, 8, 10, 3, 23, 13, 31, 13, 22, 18, 27, 25, 30, 28, 29, 0, 6, 14, 8, 29, 7, 5, 1, 10, 25, 25, 11, 20, 29, 2, 10, 25, 17, 4, 8, 29, 0, 18, 20, 20, 15, 28, 27, 21, 26, 3, 21, 29, 0, 16, 22, 10, 30, 0, 11, 0, 11, 12, 13, 27, 4, 0, 27, 6, 4, 19, 25, 27, 29, 21, 22, 6, 21, 22, 21, 21, 24, 28, 11, 26, 15, 7, 20, 28, 9, 10, 16, 9, 17, 11, 4, 9, 0, 3, 5, 6, 4, 26, 1, 5, 6, 27, 8, 22, 8, 18, 9, 9, 28, 12, 6, 31, 1, 20, 3, 7, 19, 14, 1, 26, 17, 30, 3, 12, 8, 22, 10, 17, 19, 19, 1, 10, 13, 21, 26, 28, 15, 14, 18, 24, 27, 4, 24, 21, 15, 8, 22, 22, 20, 11, 14, 9, 13, 21, 18, 14, 2, 7, 10, 27, 6, 2, 17, 23, 27, 22, 6, 14, 23, 28, 19, 23, 10, 11, 16, 10, 10, 27, 15, 5, 0, 1, 2, 20, 7, 7, 17, 9, 28, 30, 11, 20, 4, 19, 28, 5, 16, 7, 22, 27, 7, 3, 16, 6, 8, 11, 0, 15, 26, 10, 26, 8, 0, 2, 17, 24, 24, 24, 16, 7, 2, 27, 23, 30, 10, 29, 21, 23, 5, 18, 6, 28, 19, 9, 28, 12, 22, 4, 4, 2, 17, 23, 9, 3, 6, 2, 2, 17, 7, 0, 29, 20, 23, 4, 1, 28, 16, 15, 25, 27, 17, 6, 29, 24, 5, 1, 3, 16, 2, 1, 3, 20, 12, 19, 7, 16, 31, 20, 7, 14, 28, 12, 14, 12, 10, 4, 5, 31, 5, 25, 8, 3, 13, 15, 26, 24, 28, 8, 19, 11, 22, 10, 23, 10, 11, 14, 26, 20, 15, 14, 29, 15, 8, 23, 1, 26, 14, 24, 2, 21, 22, 10, 14, 31, 19, 12, 2, 25, 22, 14, 2, 13, 13, 19, 21, 29, 21, 24, 3, 13, 22, 10, 11, 6, 7, 23, 23, 27, 18, 30, 9, 20, 6, 6, 29, 19, 11, 11, 17, 18, 27, 8, 25, 16, 21, 14, 30, 21, 16, 27, 22, 27, 14, 17, 28, 30, 15, 0, 18, 16, 25, 20, 12, 22, 13, 25, 25, 10, 8, 12, 8, 17, 7, 24, 31, 23, 9, 27, 19, 10, 17, 27, 25, 6, 14, 5, 14, 21, 18, 19, 10, 10, 8, 19, 15, 8, 26, 28, 17, 31, 23, 18, 12, 9, 3, 22, 22, 8, 22, 10, 10, 0, 0, 17, 29, 22, 5, 0, 23, 26, 14, 29, 24, 27, 25, 29, 19, 8, 3, 16, 29, 16, 3, 10, 3, 27, 4, 12, 24, 0, 18, 6, 16, 10, 5, 16, 12, 24, 29, 10, 0, 14, 28, 23, 31, 29, 22, 1, 16, 26, 6, 28, 16, 22, 14, 2, 23, 27, 21, 13, 27, 5, 6, 8, 2, 10, 6, 27, 26, 14, 2, 10, 1, 4, 13, 17, 27, 0, 25, 21, 27, 10, 28, 3, 27, 30, 2, 14, 0, 10, 10, 0, 24, 5, 19, 9, 8, 18, 27, 20, 23, 4, 12, 12, 27, 24, 28, 7, 8, 25, 24, 31, 5, 21, 27, 26, 7, 6, 22, 8, 7, 2, 2, 4, 28, 25, 23, 26, 2, 31, 3, 27, 8, 29, 11, 29, 21, 11, 8, 25, 21, 29, 15, 25, 12, 7, 7, 2, 29, 17, 14, 26, 15, 4, 23, 19, 3, 18, 4, 27, 10, 22, 29, 20, 29, 17, 2, 29, 19, 20, 4, 27, 17, 0, 10, 13, 0, 28, 5, 30, 20, 26, 14, 26, 8, 11, 16, 23, 4, 2, 20, 9, 2, 4, 6, 5, 26, 20, 9, 0, 10, 3, 20, 16, 13, 28, 15, 18, 1, 22, 26, 19, 28, 22, 26, 5, 7, 15, 29, 21, 13, 14, 25, 5, 28, 26, 22, 7, 16, 14, 29, 5, 7, 28, 29, 1, 23, 10, 14, 13, 20, 1, 15, 15, 19, 3, 29, 11, 20, 24, 23, 4, 0, 16, 21, 9, 31, 0, 6, 16, 10, 4, 20, 12, 9, 12, 8, 15, 6, 8, 0, 4, 2, 25, 16, 20, 22, 29, 27, 4, 7, 2, 5, 3, 7, 24, 26, 2, 30, 19, 9, 26, 21, 3, 10, 26, 17, 3, 26, 23, 28, 18, 22, 4, 1, 3, 20, 8, 28, 20, 24, 15, 28, 3, 25, 21, 24, 11, 18, 21, 23, 11, 12, 0, 8, 12, 27, 21, 9, 31, 14, 27, 18, 13, 2, 12, 5, 8, 25, 8, 29, 29, 13, 3, 16, 27, 16, 15, 3, 5, 6, 17, 18, 7, 3, 11, 3, 5, 4, 26, 6, 4, 31, 23, 20, 27, 31, 2, 0, 6, 0, 4, 26, 19, 30, 23, 10, 8, 22, 23, 23, 6, 31, 15, 22, 22, 14, 7, 18, 6, 22, 18, 3, 23, 26, 9, 1, 28, 23, 5, 5, 5, 10, 23, 15, 22, 25, 18, 23, 4, 6, 14, 26, 1, 5, 25, 10, 1, 0, 26, 22, 24, 31, 13, 16, 12, 20, 15, 22, 31, 13, 0, 29, 31, 13, 17, 1, 25, 30, 29, 16, 27, 3, 28, 17, 13, 20, 12, 0, 27, 26, 25, 22, 13, 9, 15, 18, 14, 19, 14, 22, 16, 9, 14, 22, 30, 12, 18, 16, 10, 25, 22, 2, 1, 22, 7, 28, 3, 9, 9, 0, 15, 12, 18, 8, 14, 30, 23, 25, 22, 17, 11, 22, 19, 10, 19, 8, 27, 13, 15, 30, 0, 5, 11, 9, 16, 19, 16, 8, 21, 26, 20, 18, 12, 12, 0, 3, 16, 4, 10, 20, 16, 11, 18, 19, 18, 26, 8, 6, 3, 7, 4, 23, 1, 12, 6, 7, 16, 23, 17, 10, 14, 19, 30, 2, 3, 27, 10, 18, 18, 1, 6, 31, 12, 6, 5, 29, 13, 15, 27, 18, 11, 21, 23, 14, 24, 0, 28, 18, 25, 17, 1, 4, 31, 10, 4, 18, 17, 12, 10, 0, 1, 3, 6, 31, 21, 23, 24, 2, 31, 6, 12, 31, 4, 10, 11, 22, 3, 21, 1, 10, 17, 30, 5, 31, 5, 10, 21, 22, 6, 21, 13, 7, 20, 3, 18, 8, 11, 31, 12, 0, 9, 15, 27, 3, 14, 5, 27, 31, 8, 3, 20, 22, 14, 12, 7, 10, 19, 31, 26, 11, 8, 5, 14, 12, 17, 16, 23, 12, 13, 18, 25, 8, 8, 4, 8, 19, 3, 0, 9, 5, 11, 11, 30, 13, 8, 18, 15, 28, 15, 30, 13, 8, 5, 20, 1, 29, 3, 19, 7, 16, 29, 30, 21, 16, 10, 8, 21, 19, 11, 13, 0, 17, 27, 23, 3, 19, 24, 26, 5, 25, 6, 25, 29, 27, 23, 10, 23, 30, 2, 18, 9, 1, 3, 23, 2, 21, 23, 31, 10, 18, 23, 16, 6, 16, 15, 0, 5, 9, 10, 9, 8, 29, 24, 7, 14, 23, 28, 8, 14, 0, 20, 9, 1, 12, 19, 6, 8, 18, 1, 16, 13, 29, 10, 30, 8, 26, 19, 3, 14, 25, 4, 6, 7, 8, 29, 17, 12, 2, 0, 25, 25, 17, 31, 28, 0, 1, 25, 25, 28, 25, 8, 1, 17, 14, 26, 0, 18, 27, 29, 23, 8, 5, 21, 17, 9, 8, 8, 2, 19, 7, 10, 1, 18, 24, 29, 12, 4, 15, 11, 15, 9, 4, 30, 5, 14, 19, 20, 12, 6, 20, 20, 8, 19, 7, 15, 31, 7, 24, 15, 15, 0, 21, 31, 25, 21, 15, 19, 9, 17, 23, 6, 5, 18, 22, 25, 2, 3, 7, 18, 12, 2, 19, 13, 15, 27, 6, 22, 16, 4, 27, 19, 10, 6, 12, 17, 12, 18, 19, 26, 27, 29, 0, 7, 4, 11, 20, 20, 11, 0, 0, 4, 10, 14, 21, 18, 31, 27, 26, 4, 1, 20, 29, 2, 12, 7, 27, 22, 25, 29, 24, 24, 15, 25, 17, 20, 23, 14, 15, 9, 19, 6, 23, 11, 11, 19, 5, 1, 8, 3, 8, 13, 20, 13, 12, 2, 3, 17, 14, 12, 8, 17, 9, 17, 4, 30, 27, 25, 13, 30, 19, 16, 11, 1, 25, 26, 10, 16, 31, 21, 16, 4, 23, 23, 17, 24, 6, 14, 31, 21, 18, 11, 7, 14, 17, 26, 4, 4, 27, 0, 0, 18, 30, 8, 1, 3, 31, 25, 6, 10, 4, 0, 13, 5, 5, 13, 2, 24, 27, 4, 29, 16, 7, 14, 30, 20, 1, 15, 21, 28, 1, 11, 22, 2, 25, 18, 11, 1, 5, 24, 12, 27, 15, 10, 30, 8, 2, 23, 20, 9, 22, 18, 14, 8, 31, 6, 7, 27, 7, 16, 4, 21, 20, 8, 25, 27, 29, 6, 9, 27, 6, 16, 13, 21, 5, 18, 15, 26, 31, 28, 22, 8, 5, 23, 24, 25, 10, 15, 8, 29, 0, 20, 31, 18, 1, 3, 23, 16, 0, 1, 22, 11, 3, 19, 8, 25, 27, 16, 29, 12, 21, 13, 11, 27, 28, 2, 30, 16, 5, 29, 4, 9, 20, 1, 11, 23, 6, 14, 12, 1, 18, 21, 19, 28, 10, 2, 25, 15, 9, 16, 2, 0, 31, 25, 7, 7, 14, 15, 27, 23, 11, 3, 3, 3, 14, 8, 29, 7, 6, 20, 13, 18, 1, 7, 30, 25, 22, 22, 27, 30, 24, 11, 10, 5, 30, 16, 31, 15, 2, 0, 31, 11, 12, 20, 8, 31, 13, 13, 22, 28, 19, 4, 10, 8, 31, 6, 15, 9, 25, 8, 17, 2, 28, 30, 12, 14, 29, 28, 20, 10, 13, 25, 7, 25, 26, 19, 30, 6, 2, 23, 1, 2, 30, 1, 27, 29, 18, 16, 31, 31, 5, 10, 10, 24, 9, 22, 27, 3, 20, 17, 17, 30, 27, 9, 23, 28, 3, 6, 29, 29, 26, 18, 12, 31, 24, 2, 0, 4, 7, 1, 31, 22, 21, 12, 20, 30, 28, 14, 19, 8, 31, 11, 10, 22, 24, 24, 27, 30, 27, 13, 10, 30, 19, 27, 8, 18, 25, 17, 27, 25, 13, 5, 9, 23, 3, 26, 0, 22, 3, 20, 8, 8, 24, 27, 1, 6, 15, 8, 22, 5, 2, 30, 8, 9, 20, 31, 20, 20, 14, 6, 3, 30, 13, 16, 12, 3, 27, 26, 0, 11, 6, 8, 12, 12, 8, 14, 2, 27, 13, 19, 3, 26, 8, 30, 27, 18, 27, 18, 19, 15, 19, 24, 17, 25, 19, 27, 16, 7, 23, 3, 7, 12, 8, 11, 22, 17, 27, 23, 20, 4, 2, 2, 25, 24, 19, 14, 5, 17, 17, 14, 0, 27, 4, 4, 25, 17, 2, 26, 24, 5, 26, 31, 14, 29, 10, 6, 21, 26, 14, 3, 20, 14, 2, 17, 17, 19, 17, 6, 16, 24, 15, 26, 4, 23, 22, 25, 18, 19, 3, 1, 12, 3, 4, 22, 13, 13, 6, 4, 26, 11, 18, 26, 15, 17, 30, 21, 18, 12, 22, 26, 15, 23, 18, 2, 6, 21, 4, 29, 7, 13, 24, 17, 6, 11, 27, 20, 3, 23, 3, 23, 12, 24, 18, 21, 22, 27, 18, 1, 22, 19, 16, 6, 5, 3, 11, 25, 15, 3, 2, 12, 13, 7, 6, 3, 17, 11, 8, 16, 3, 10, 8, 16, 0, 9, 11, 13, 29, 26, 27, 3, 16, 17, 30, 7, 2, 19, 16, 1, 31, 10, 1, 3, 18, 7, 15, 31, 13, 17, 30, 6, 17, 3, 26, 19, 3, 29, 25, 4, 31, 20, 3, 7, 11, 17, 1, 8, 7, 23, 18, 1, 6, 22, 7, 9, 7, 23, 23, 22, 4, 21, 26, 18, 25, 3, 20, 4, 0, 26, 27, 9, 14, 14, 14, 6, 23, 27, 8, 18, 0, 6, 9, 19, 10, 30, 31, 24, 21, 24, 14, 14, 9, 3, 26, 8, 22, 7, 14, 9, 21, 8, 18, 14, 9, 31, 29, 13, 2, 28, 27, 22, 21, 0, 18, 18, 31, 24, 18, 7, 23, 31, 30, 27, 8, 13, 5, 1, 0, 10, 20, 25, 9, 9, 22, 27, 17, 9, 8, 10, 18, 7, 20, 18, 10, 15, 1, 2, 9, 21, 16, 24, 5, 4, 25, 9, 3, 10, 6, 31, 19, 18, 26, 1, 0, 20, 15, 25, 29, 15, 5, 16, 12, 13, 27, 18, 0, 13, 12, 1, 16, 15, 27, 22, 1, 31, 9, 7, 10, 2, 5, 5, 15, 5, 13, 19, 29, 24, 4, 16, 19, 4, 23, 31, 6, 14, 17, 6, 26, 18, 25, 19, 18, 27, 24, 11, 17, 10, 5, 15, 7, 30, 4, 12, 7, 28, 10, 15, 24, 1, 13, 18, 5, 17, 25, 23, 18, 18, 30, 4, 3, 10, 18, 29, 29, 21, 28, 25, 14, 13, 7, 1, 15, 20, 25, 29, 25, 16, 1, 21, 7, 23, 6, 20, 15, 18, 12, 16, 13, 6, 1, 19, 13, 22, 4, 24, 6, 31, 14, 28, 24, 16, 8, 0, 13, 16, 6, 12, 21, 8, 14, 28, 18, 21, 17, 13, 4, 16, 15, 4, 24, 16, 31, 28, 7, 24, 5, 5, 13, 7, 10, 5, 5, 14, 27, 17, 18, 14, 9, 30, 9, 27, 15, 15, 9, 14, 11, 20, 9, 16, 6, 13, 9, 24, 4, 14, 5, 0, 21, 31, 4, 11, 10, 15, 7, 27, 7, 28, 7, 7, 23, 0, 26, 31, 2, 13, 23, 10, 0, 4, 23, 2, 26, 23, 10, 23, 1, 29, 15, 12, 19, 2, 17, 13, 20, 24, 23, 30, 1, 2, 19, 29, 24, 14, 8, 3, 24, 10, 28, 15, 8, 13, 29, 30, 6, 7, 21, 0, 20, 10, 24, 5, 26, 1, 13, 17, 8, 6, 16, 2, 0, 6, 8, 9, 21, 5, 7, 20, 23, 12, 27, 0, 22, 30, 19, 29, 26, 12, 26, 29, 15, 8, 9, 1, 20, 27, 8, 4, 18, 16, 1, 26, 13, 7, 22, 6, 22, 20, 3, 28, 3, 20, 24, 28, 19, 25, 25, 27, 24, 15, 29, 22, 27, 16, 8, 17, 1, 8, 19, 11, 18, 4, 7, 2, 18, 3, 2, 17, 14, 19, 13, 31, 31, 4, 24, 29, 6, 13, 26, 4, 29, 13, 25, 29, 5, 25, 9, 17, 17, 19, 17, 0, 25, 10, 5, 10, 26, 0, 1, 28, 10, 22, 12, 5, 24, 14, 10, 26, 12, 22, 24, 19, 25, 17, 23, 6, 3, 2, 11, 10, 17, 0, 23, 28, 31, 21, 1, 21, 19, 5, 24, 15, 14, 25, 8, 22, 15, 11, 8, 19, 11, 31, 15, 27, 0, 10, 14, 5, 19, 8, 13, 5, 2, 5, 31, 2, 5, 31, 17, 14, 18, 18, 10, 19, 15, 21, 2, 12, 10, 3, 8, 3, 15, 24, 3, 18, 23, 21, 15, 14, 17, 22, 9, 15, 28, 1, 18, 26, 30, 18, 21, 0, 7, 8, 17, 15, 29, 10, 1, 0, 2, 16, 24, 30, 29, 20, 20, 1, 12, 10, 25, 14, 11, 30, 17, 11, 4, 8, 1, 7, 26, 26, 31, 9, 27, 16, 5, 28, 18, 26, 5, 27, 17, 9, 13, 20, 29, 6, 26, 12, 10, 15, 16, 19, 19, 16, 0, 0, 8, 28, 7, 23, 9, 15, 2, 14, 11, 20, 27, 13, 17, 18, 0, 0, 15, 3, 16, 11, 19, 4, 12, 5, 8, 20, 15, 7, 4, 10, 9, 29, 12, 0, 4, 8, 10, 6, 28, 21, 6, 23, 19, 16, 31, 16, 24, 25, 31, 0, 4, 12, 12, 0, 21, 30, 8, 16, 16, 21, 0, 20, 11, 27, 5, 5, 9, 19, 29, 22, 6, 25, 2, 3, 23, 24, 10, 5, 21, 15, 4, 8, 10, 7, 26, 8, 27, 22, 29, 20, 6, 16, 17, 12, 6, 20, 23, 21, 0, 18, 28, 17, 7, 11, 13, 23, 2, 29, 1, 19, 24, 28, 10, 24, 16, 22, 10, 21, 14, 2, 31, 4, 13, 27, 29, 10, 9, 18, 8, 8, 25, 17, 15, 25, 31, 1, 0, 16, 21, 24, 24, 11, 1, 12, 3, 28, 16, 23, 23, 15, 7, 0, 24, 31, 13, 27, 3, 24, 22, 18, 17, 31, 7, 15, 18, 15, 17, 31, 28, 27, 5, 14, 25, 8, 22, 12, 30, 26, 0, 15, 10, 26, 9, 16, 16, 13, 8, 29, 15, 5, 31, 31, 21, 11, 3, 14, 5, 22, 23, 17, 10, 12, 18, 1, 1, 2, 28, 31, 9, 25, 2, 6, 8, 19, 3, 2, 1, 5, 0, 16, 30, 3, 31, 5, 20, 25, 24, 17, 4, 17, 28, 29, 14, 6, 7, 29, 5, 12, 3, 13, 31, 29, 20, 4, 7, 0, 17, 17, 19, 11, 3, 0, 9, 1, 1, 0, 8, 13, 30, 11, 6, 17, 5, 30, 4, 2, 25, 18, 0, 20, 2, 23, 7, 10, 10, 21, 2, 31, 29, 10, 7, 30, 9]\n"
     ]
    }
   ],
   "source": [
    "#we want to see results independently, instead of as a probability\n",
    "result = job.result()\n",
    "memory = result.get_memory()\n",
    "\n",
    "# need an array to drop all the results into\n",
    "outputArray = []\n",
    "\n",
    "#convert results to decimal and drop into array\n",
    "for i in range(0, shots):\n",
    "  converted = int(memory[i], 2)\n",
    "  outputArray.append(converted)\n",
    "\n",
    "print(outputArray)\n",
    "#That's it for getting a truly random sequence from our quantum system. "
   ]
  },
  {
   "cell_type": "code",
   "execution_count": 41,
   "metadata": {},
   "outputs": [
    {
     "name": "stdout",
     "output_type": "stream",
     "text": [
      "11 0.375\n",
      "3\n"
     ]
    }
   ],
   "source": [
    "#Next, let's look at building a simple web app around the results.\n",
    "import random\n",
    "index = math.floor(random.random() * len(outputArray))\n",
    "\n",
    "#When someone rolls a dice, we need to normalize our or array of random numbers. \n",
    "#Technically speaking, its the sequence that is random, not the numbers. \n",
    "#Once normalized, we'll multiply the value by the size of the dice and round up \n",
    "#(most dice don't include decimal places. Ours won't either). \n",
    "#We also add a \"plus 1\" because we don't want our dice to roll a zero.\n",
    "\n",
    "#maxDiceRoll is 32, because 5 bits has a max of 32.\n",
    "maxDiceRoll=32\n",
    "#How many faces the dice has\n",
    "diceSize=6\n",
    "normalizedRoll = (outputArray[index] + 1)/maxDiceRoll\n",
    "print(outputArray[index],normalizedRoll)\n",
    "result = math.ceil(normalizedRoll * diceSize);\n",
    "print(result)"
   ]
  }
 ],
 "metadata": {
  "kernelspec": {
   "display_name": "Python 3",
   "language": "python",
   "name": "python3"
  },
  "language_info": {
   "codemirror_mode": {
    "name": "ipython",
    "version": 3
   },
   "file_extension": ".py",
   "mimetype": "text/x-python",
   "name": "python",
   "nbconvert_exporter": "python",
   "pygments_lexer": "ipython3",
   "version": "3.7.3"
  }
 },
 "nbformat": 4,
 "nbformat_minor": 2
}
