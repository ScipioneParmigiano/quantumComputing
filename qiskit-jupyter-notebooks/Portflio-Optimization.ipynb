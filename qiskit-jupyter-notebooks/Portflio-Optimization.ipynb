{
  "cells": [
    {
      "cell_type": "code",
      "execution_count": 2,
      "metadata": {
        "trusted": true
      },
      "outputs": [],
      "source": "%matplotlib inline\n# Importing standard Qiskit libraries and configuring account\nfrom qiskit import QuantumCircuit, execute, Aer, IBMQ\nfrom qiskit.compiler import transpile, assemble\nfrom qiskit.tools.jupyter import *\nfrom qiskit.visualization import *\n# Loading your IBM Q account(s)\nIBMQ.load_accounts()"
    },
    {
      "cell_type": "code",
      "execution_count": 3,
      "metadata": {
        "trusted": true
      },
      "outputs": [],
      "source": "from qiskit import BasicAer\nfrom qiskit.aqua import QuantumInstance\nfrom qiskit.aqua import Operator, run_algorithm\nfrom qiskit.aqua.input import EnergyInput\nfrom qiskit.aqua.translators.ising import portfolio\nfrom qiskit.aqua.translators.data_providers import RandomDataProvider\nfrom qiskit.aqua.algorithms import VQE, QAOA, ExactEigensolver\nfrom qiskit.aqua.components.optimizers import COBYLA\nfrom qiskit.aqua.components.variational_forms import RY\nimport numpy as np\nimport datetime"
    },
    {
      "cell_type": "code",
      "execution_count": 27,
      "metadata": {
        "trusted": true
      },
      "outputs": [
        {
          "name": "stdout",
          "output_type": "stream",
          "text": "['TICKER0', 'TICKER1', 'TICKER2', 'TICKER3']\nRandom Coordinates :\n(array([-0.37450115,  0.06161072,  0.48893157, -0.22045371]), array([ 0.02938386, -0.41893717,  0.05001787, -0.20037859]))\nCovariance Matrix :\n[[ 3.99360078 -0.71722479 -2.47469649 -2.50693025]\n [-0.71722479  2.10029804 -1.3202457  -0.21910134]\n [-2.47469649 -1.3202457   8.42485888  4.44438183]\n [-2.50693025 -0.21910134  4.44438183  4.14427693]]\nMean Vector :\n[11.73352238 94.19713782 80.97469995 14.64087254]\nA vector containing the mean value of each asset.\n[ 0.0057441  -0.00194923  0.00273671  0.01274602]\nCovariance Matrix :\n[[ 1.12612659e-02  2.73288431e-04 -1.15646798e-04 -9.24185378e-04]\n [ 2.73288431e-04  1.00183399e-04  4.67567869e-05  3.63694815e-04]\n [-1.15646798e-04  4.67567869e-05  1.43826298e-04  2.82433270e-04]\n [-9.24185378e-04  3.63694815e-04  2.82433270e-04  7.52056293e-03]]\n"
        }
      ],
      "source": "#We are using a random portfolio problem.\n\n#Number of assets (= number of qubits)\nnum_assets = 4\n\n# Generate expected return and covariance matrix from (random) time-series\nstocks = [(\"TICKER%s\" % i) for i in range(num_assets)]\nprint (stocks)\n#We use qiskit's RandomDataProvider fn to create ticker data-set\ndata = RandomDataProvider(tickers=stocks,\n                 start=datetime.datetime(2018,6,1),\n                 end=datetime.datetime(2018,6,30))\ndata.run()\nprint('Random Coordinates :')\nprint(data.get_coordinates())\nprint('Covariance Matrix :')\nprint (data.get_covariance_matrix())\nprint('Mean Vector :')\nprint (data.get_mean_vector())\nprint('A vector containing the mean value of each asset.')\nmu = data.get_period_return_mean_vector()\nprint(mu)\nprint('Covariance Matrix :')\nsigma = data.get_period_return_covariance_matrix()\nprint(sigma)"
    },
    {
      "cell_type": "code",
      "execution_count": 28,
      "metadata": {
        "trusted": true
      },
      "outputs": [
        {
          "name": "stdout",
          "output_type": "stream",
          "text": "Representation: paulis, qubits: 4, size: 10\n[[ 1.20011103e+01  0.00000000e+00  0.00000000e+00  0.00000000e+00\n   0.00000000e+00  0.00000000e+00  0.00000000e+00  0.00000000e+00\n   0.00000000e+00  0.00000000e+00  0.00000000e+00  0.00000000e+00\n   0.00000000e+00  0.00000000e+00  0.00000000e+00  0.00000000e+00]\n [ 0.00000000e+00  5.50136190e-03  0.00000000e+00  0.00000000e+00\n   0.00000000e+00  0.00000000e+00  0.00000000e+00  0.00000000e+00\n   0.00000000e+00  0.00000000e+00  0.00000000e+00  0.00000000e+00\n   0.00000000e+00  0.00000000e+00  0.00000000e+00  0.00000000e+00]\n [ 0.00000000e+00  0.00000000e+00  3.14971535e-03  0.00000000e+00\n   0.00000000e+00  0.00000000e+00  0.00000000e+00  0.00000000e+00\n   0.00000000e+00  0.00000000e+00  0.00000000e+00  0.00000000e+00\n   0.00000000e+00  0.00000000e+00  0.00000000e+00  0.00000000e+00]\n [ 0.00000000e+00  0.00000000e+00  0.00000000e+00 -3.99196732e+00\n   0.00000000e+00  0.00000000e+00  0.00000000e+00  0.00000000e+00\n   0.00000000e+00  0.00000000e+00  0.00000000e+00  0.00000000e+00\n   0.00000000e+00  0.00000000e+00  0.00000000e+00  0.00000000e+00]\n [ 0.00000000e+00  0.00000000e+00  0.00000000e+00  0.00000000e+00\n  -1.49694776e-03  0.00000000e+00  0.00000000e+00  0.00000000e+00\n   0.00000000e+00  0.00000000e+00  0.00000000e+00  0.00000000e+00\n   0.00000000e+00  0.00000000e+00  0.00000000e+00  0.00000000e+00]\n [ 0.00000000e+00  0.00000000e+00  0.00000000e+00  0.00000000e+00\n   0.00000000e+00 -3.99731407e+00  0.00000000e+00  0.00000000e+00\n   0.00000000e+00  0.00000000e+00  0.00000000e+00  0.00000000e+00\n   0.00000000e+00  0.00000000e+00  0.00000000e+00  0.00000000e+00]\n [ 0.00000000e+00  0.00000000e+00  0.00000000e+00  0.00000000e+00\n   0.00000000e+00  0.00000000e+00 -3.99937339e+00  0.00000000e+00\n   0.00000000e+00  0.00000000e+00  0.00000000e+00  0.00000000e+00\n   0.00000000e+00  0.00000000e+00  0.00000000e+00  0.00000000e+00]\n [ 0.00000000e+00  0.00000000e+00  0.00000000e+00  0.00000000e+00\n   0.00000000e+00  0.00000000e+00  0.00000000e+00  5.30140947e-03\n   0.00000000e+00  0.00000000e+00  0.00000000e+00  0.00000000e+00\n   0.00000000e+00  0.00000000e+00  0.00000000e+00  0.00000000e+00]\n [ 0.00000000e+00  0.00000000e+00  0.00000000e+00  0.00000000e+00\n   0.00000000e+00  0.00000000e+00  0.00000000e+00  0.00000000e+00\n  -4.86719932e-03  0.00000000e+00  0.00000000e+00  0.00000000e+00\n   0.00000000e+00  0.00000000e+00  0.00000000e+00  0.00000000e+00]\n [ 0.00000000e+00  0.00000000e+00  0.00000000e+00  0.00000000e+00\n   0.00000000e+00  0.00000000e+00  0.00000000e+00  0.00000000e+00\n   0.00000000e+00 -4.00213969e+00  0.00000000e+00  0.00000000e+00\n   0.00000000e+00  0.00000000e+00  0.00000000e+00  0.00000000e+00]\n [ 0.00000000e+00  0.00000000e+00  0.00000000e+00  0.00000000e+00\n   0.00000000e+00  0.00000000e+00  0.00000000e+00  0.00000000e+00\n   0.00000000e+00  0.00000000e+00 -4.00217315e+00  0.00000000e+00\n   0.00000000e+00  0.00000000e+00  0.00000000e+00  0.00000000e+00]\n [ 0.00000000e+00  0.00000000e+00  0.00000000e+00  0.00000000e+00\n   0.00000000e+00  0.00000000e+00  0.00000000e+00  0.00000000e+00\n   0.00000000e+00  0.00000000e+00  0.00000000e+00  1.04627691e-03\n   0.00000000e+00  0.00000000e+00  0.00000000e+00  0.00000000e+00]\n [ 0.00000000e+00  0.00000000e+00  0.00000000e+00  0.00000000e+00\n   0.00000000e+00  0.00000000e+00  0.00000000e+00  0.00000000e+00\n   0.00000000e+00  0.00000000e+00  0.00000000e+00  0.00000000e+00\n  -4.00696609e+00  0.00000000e+00  0.00000000e+00  0.00000000e+00]\n [ 0.00000000e+00  0.00000000e+00  0.00000000e+00  0.00000000e+00\n   0.00000000e+00  0.00000000e+00  0.00000000e+00  0.00000000e+00\n   0.00000000e+00  0.00000000e+00  0.00000000e+00  0.00000000e+00\n   0.00000000e+00 -4.44674040e-03  0.00000000e+00  0.00000000e+00]\n [ 0.00000000e+00  0.00000000e+00  0.00000000e+00  0.00000000e+00\n   0.00000000e+00  0.00000000e+00  0.00000000e+00  0.00000000e+00\n   0.00000000e+00  0.00000000e+00  0.00000000e+00  0.00000000e+00\n   0.00000000e+00  0.00000000e+00 -4.18787614e-03  0.00000000e+00]\n [ 0.00000000e+00  0.00000000e+00  0.00000000e+00  0.00000000e+00\n   0.00000000e+00  0.00000000e+00  0.00000000e+00  0.00000000e+00\n   0.00000000e+00  0.00000000e+00  0.00000000e+00  0.00000000e+00\n   0.00000000e+00  0.00000000e+00  0.00000000e+00  1.19988234e+01]]\nOffset: \n3.998889681413938\n"
        }
      ],
      "source": "#Risk factor is q>0\nq = 0.9 \n#Budget, always less than the number of assets\nbudget = int(num_assets / 2) \n#parameter to scale the budget penalty term\npenalty = num_assets \n#Using the above values and the mu and sigma\n#We create an Operator instance for the Hamiltonian. \n#The Pauli operators are provided by an Ising Hamiltonian translated from the portfolio\nqubitOp, offset = portfolio.get_portfolio_qubitops(mu, sigma, q, budget, penalty)\nprint(qubitOp)\nprint(qubitOp.print_operators(print_format='matrix')) #'paulis', 'matrix'\nprint ('Offset: '); print(offset)\n\n#EnergyInput is a kind of AlgorithmInput - converts operators to a format suitable for algorithms\nalgo_input = EnergyInput(qubitOp)"
    },
    {
      "cell_type": "code",
      "execution_count": 29,
      "metadata": {
        "trusted": true
      },
      "outputs": [],
      "source": "#Utility methods to print the results\ndef index_to_selection(i, num_assets):\n    s = \"{0:b}\".format(i).rjust(num_assets)\n    x = np.array([1 if s[i]=='1' else 0 for i in reversed(range(num_assets))])\n    return x\n\ndef print_result(result):\n    #result - is a Dictionary\n    selection = portfolio.sample_most_likely(result['eigvecs'][0])\n    value = portfolio.portfolio_value(selection, mu, sigma, q, budget, penalty)\n    print('Optimal: selection {}, value {:.4f}'.format(selection, value))\n\n    probabilities = np.abs(result['eigvecs'][0])**2\n    #np.argsort(probabilities) - returns the indices to sort asc \n    i_sorted = reversed(np.argsort(probabilities))\n    print('\\n----------------- Full result ---------------------')\n    print('selection\\tvalue\\t\\tprobability')\n    print('---------------------------------------------------')\n    for i in i_sorted:\n        x = index_to_selection(i, num_assets)\n        value = portfolio.portfolio_value(x, mu, sigma, q, budget, penalty)    \n        probability = probabilities[i]\n        print('%10s\\t%.4f\\t\\t%.4f' %(x, value, probability))"
    },
    {
      "cell_type": "code",
      "execution_count": 30,
      "metadata": {
        "trusted": true
      },
      "outputs": [
        {
          "name": "stdout",
          "output_type": "stream",
          "text": "{'eigvals': array([-4.00696609]), 'eigvecs': array([[0., 0., 0., 0., 0., 0., 0., 0., 0., 0., 0., 0., 1., 0., 0., 0.]]), 'energy': -4.006966085788148, 'wavefunction': array([[0., 0., 0., 0., 0., 0., 0., 0., 0., 0., 0., 0., 1., 0., 0., 0.]]), 'energies': array([-4.00696609])}\nOptimal: selection [0 0 1 1], value -0.0081\n\n----------------- Full result ---------------------\nselection\tvalue\t\tprobability\n---------------------------------------------------\n [0 0 1 1]\t-0.0081\t\t1.0000\n [1 1 1 1]\t15.9977\t\t0.0000\n [0 1 1 1]\t3.9947\t\t0.0000\n [1 0 1 1]\t3.9944\t\t0.0000\n [1 1 0 1]\t3.9999\t\t0.0000\n [0 1 0 1]\t-0.0033\t\t0.0000\n [1 0 0 1]\t-0.0033\t\t0.0000\n [0 0 0 1]\t3.9940\t\t0.0000\n [1 1 1 0]\t4.0042\t\t0.0000\n [0 1 1 0]\t-0.0005\t\t0.0000\n [1 0 1 0]\t0.0016\t\t0.0000\n [0 0 1 0]\t3.9974\t\t0.0000\n [1 1 0 0]\t0.0069\t\t0.0000\n [0 1 0 0]\t4.0020\t\t0.0000\n [1 0 0 0]\t4.0044\t\t0.0000\n [0 0 0 0]\t16.0000\t\t0.0000\n"
        }
      ],
      "source": "#Lets solve the problem. First classically...\n#Purpose is to have a classical reference. \n\n#ExactEigensolver, although from qiskit is a classical algorithm\n#Backend is not required since this is computed classically not using quantum computation. \n#The params, along with the algo input containing the operator, \n#are now passed to the algorithm to be run. \nexact_eigensolver = ExactEigensolver(qubitOp, k=1)\nresult = exact_eigensolver.run()\n\n\"\"\" the equivalent if using declarative approach\nalgorithm_cfg = {\n    'name': 'ExactEigensolver'\n}\n\nparams = {\n    'problem': {'name': 'ising'},\n    'algorithm': algorithm_cfg\n}\nresult = run_algorithm(params, algo_input)\n\"\"\"\n\n#The result is returned as a dictionary.\nprint(result)\nprint_result(result)"
    },
    {
      "cell_type": "code",
      "execution_count": 31,
      "metadata": {
        "trusted": true
      },
      "outputs": [
        {
          "name": "stdout",
          "output_type": "stream",
          "text": "Optimal: selection [1 1 0 0], value 0.0069\n\n----------------- Full result ---------------------\nselection\tvalue\t\tprobability\n---------------------------------------------------\n [1 1 0 0]\t0.0069\t\t0.6893\n [1 0 1 0]\t0.0016\t\t0.2997\n [0 0 1 1]\t-0.0081\t\t0.0098\n [0 1 0 1]\t-0.0033\t\t0.0008\n [1 0 0 1]\t-0.0033\t\t0.0003\n [1 0 1 1]\t3.9944\t\t0.0000\n [1 1 0 1]\t3.9999\t\t0.0000\n [0 1 1 0]\t-0.0005\t\t0.0000\n [0 1 0 0]\t4.0020\t\t0.0000\n [0 0 1 0]\t3.9974\t\t0.0000\n [1 0 0 0]\t4.0044\t\t0.0000\n [0 0 0 0]\t16.0000\t\t0.0000\n [0 0 0 1]\t3.9940\t\t0.0000\n [0 1 1 1]\t3.9947\t\t0.0000\n [1 1 1 1]\t15.9977\t\t0.0000\n [1 1 1 0]\t4.0042\t\t0.0000\n"
        }
      ],
      "source": "#Solution using Quantum Algorithm Variational Quantum Eigensolver (VQE)\nbackend = BasicAer.get_backend('statevector_simulator')\n\nseed = 50\n#Specify the optimizer - Constrained Optimization BY Linear Approximation algorithm.\n#It Uses scipy.optimize.minimize COBYLA  - this is classical\ncobyla = COBYLA()\ncobyla.set_options(maxiter=500)\n\n#Specify the variational form - RY - Layers of Y rotations followed by entangling gates\n#This is quantum-mechanical\nry = RY(qubitOp.num_qubits, depth=3, entanglement='full')\n\nvqe = VQE(qubitOp, ry, cobyla)\nvqe.random_seed = seed\n\nquantum_instance = QuantumInstance(backend=backend, seed=seed, seed_transpiler=seed)\n\nresult = vqe.run(quantum_instance)\n\n\"\"\"declarative approach\nalgorithm_cfg = {\n    'name': 'VQE',\n    'operator_mode': 'matrix'\n}\n\noptimizer_cfg = {\n    'name': 'COBYLA',\n    'maxiter': 500\n}\n\nvar_form_cfg = {\n    'name': 'RY',\n    'depth': 3,\n    'entanglement': 'full'\n}\n\nparams = {\n    'problem': {'name': 'ising', 'random_seed': seed},\n    'algorithm': algorithm_cfg,\n    'optimizer': optimizer_cfg,\n    'variational_form': var_form_cfg\n}\nresult = run_algorithm(params, algo_input, backend=backend)\n\"\"\"\nprint_result(result)"
    },
    {
      "cell_type": "code",
      "execution_count": 32,
      "metadata": {
        "trusted": true
      },
      "outputs": [
        {
          "name": "stdout",
          "output_type": "stream",
          "text": "Optimal: selection [0 0 1 1], value -0.0081\n\n----------------- Full result ---------------------\nselection\tvalue\t\tprobability\n---------------------------------------------------\n [0 0 1 1]\t-0.0081\t\t0.1668\n [1 0 0 1]\t-0.0033\t\t0.1667\n [0 1 0 1]\t-0.0033\t\t0.1667\n [0 1 1 0]\t-0.0005\t\t0.1667\n [1 0 1 0]\t0.0016\t\t0.1666\n [1 1 0 0]\t0.0069\t\t0.1665\n [1 0 1 1]\t3.9944\t\t0.0000\n [0 1 1 1]\t3.9947\t\t0.0000\n [1 1 0 1]\t3.9999\t\t0.0000\n [0 0 0 1]\t3.9940\t\t0.0000\n [0 0 1 0]\t3.9974\t\t0.0000\n [1 1 1 0]\t4.0042\t\t0.0000\n [0 1 0 0]\t4.0020\t\t0.0000\n [1 0 0 0]\t4.0044\t\t0.0000\n [1 1 1 1]\t15.9977\t\t0.0000\n [0 0 0 0]\t16.0000\t\t0.0000\n"
        }
      ],
      "source": "#Solution using Quantum Approximate Optimization Algorithm (QAOA)\n#Another variational algorithm that uses an internal variational form, created based on the problem.\nbackend = BasicAer.get_backend('statevector_simulator')\nseed = 50\n\n#Specify the optimizer - Constrained Optimization BY Linear Approximation algorithm.\n#It Uses scipy.optimize.minimize COBYLA  \ncobyla = COBYLA()\ncobyla.set_options(maxiter=250)\n\nqaoa = QAOA(qubitOp, cobyla, 3)\nqaoa.random_seed = seed\n\nquantum_instance = QuantumInstance(backend=backend, seed=seed, seed_transpiler=seed)\n\nresult = qaoa.run(quantum_instance)\n\n\"\"\"declarative approach\nalgorithm_cfg = {\n    'name': 'QAOA.Variational',\n    'p': 3,\n    'operator_mode': 'matrix'\n}\n\noptimizer_cfg = {\n    'name': 'COBYLA',\n    'maxiter': 250\n}\n\nparams = {\n    'problem': {'name': 'ising', 'random_seed': seed},\n    'algorithm': algorithm_cfg,\n    'optimizer': optimizer_cfg\n}\nresult = run_algorithm(params, algo_input, backend=backend)\n\"\"\"\nprint_result(result)"
    },
    {
      "cell_type": "code",
      "execution_count": null,
      "metadata": {
        "trusted": true
      },
      "outputs": [],
      "source": ""
    }
  ],
  "metadata": {
    "kernelspec": {
      "display_name": "Python 3",
      "language": "python",
      "name": "python3"
    },
    "language_info": {
      "codemirror_mode": {
        "name": "ipython",
        "version": 3
      },
      "file_extension": ".py",
      "mimetype": "text/x-python",
      "name": "python",
      "nbconvert_exporter": "python",
      "pygments_lexer": "ipython3",
      "version": "3.7.3"
    }
  },
  "nbformat": 4,
  "nbformat_minor": 2
}