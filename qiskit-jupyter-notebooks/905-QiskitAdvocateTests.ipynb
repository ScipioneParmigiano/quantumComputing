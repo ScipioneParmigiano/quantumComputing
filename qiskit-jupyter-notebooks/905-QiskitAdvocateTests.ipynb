{
 "cells": [
  {
   "cell_type": "code",
   "execution_count": 1,
   "metadata": {},
   "outputs": [],
   "source": [
    "#Qiskit Advocate Questions\n",
    "#Questions related to Qiskit Aqua\n",
    "%matplotlib inline\n",
    "# Importing standard Qiskit libraries and configuring account\n",
    "import numpy as np\n",
    "from qiskit import QuantumCircuit, execute, Aer, IBMQ, QuantumRegister\n",
    "from qiskit.compiler import transpile, assemble\n",
    "from qiskit.tools.jupyter import *\n",
    "\n",
    "# lib from Qiskit Aqua\n",
    "from qiskit.transpiler import PassManager, CouplingMap\n",
    "from qiskit.transpiler.passes import BasicSwap\n",
    "from qiskit import Aer\n",
    "from qiskit.visualization import plot_histogram\n",
    "\n",
    "# Loading your IBM Q account(s)\n",
    "provider = IBMQ.load_account()\n",
    "q_simulator = Aer.get_backend('qasm_simulator')\n",
    "u_simulator = Aer.get_backend('unitary_simulator')\n",
    "s_simulator = Aer.get_backend('statevector_simulator')"
   ]
  },
  {
   "cell_type": "code",
   "execution_count": 2,
   "metadata": {},
   "outputs": [],
   "source": [
    "#1. What is Qiskit Aqua?\n",
    "#A. A library defining quantum circuits and registers\n",
    "#B. A library of quantum algorithms\n",
    "#C. A library of utilities and components for building algorithms and applications\n",
    "#D. Choices 2 and 3'\n",
    "#E. All of the above"
   ]
  },
  {
   "cell_type": "code",
   "execution_count": null,
   "metadata": {},
   "outputs": [],
   "source": [
    "#2. How to access Qiskit Aqua?\n",
    "#A. Completely open-source\n",
    "#B. Completely closed-source\n",
    "#C. Client-only\n",
    "#D. Mostly open-source, but with client-only components"
   ]
  },
  {
   "cell_type": "code",
   "execution_count": 3,
   "metadata": {},
   "outputs": [],
   "source": [
    "#3. What application domains does Qiskit Aqua directly support (as of 0.5.1)?\n",
    "#A. Finance\n",
    "#B. Optimization\n",
    "#C. Chemistry\n",
    "#D. AI\n",
    "#E. All of the above"
   ]
  },
  {
   "cell_type": "code",
   "execution_count": 4,
   "metadata": {},
   "outputs": [],
   "source": [
    "#4. Who are Qiskit Aqua's target users?\n",
    "#A. End users\n",
    "#B. Domain experts\n",
    "#C. Developers and Algorithms researchers\n",
    "#D. Quantum researchers\n",
    "#E. All of the above"
   ]
  },
  {
   "cell_type": "code",
   "execution_count": 5,
   "metadata": {},
   "outputs": [],
   "source": [
    "#5. What types of algorithms does Qiskit Aqua include?\n",
    "#A. Purely quantum algorithms\n",
    "#B. Purely classical algorithms\n",
    "#C. Quantum-classical hybrid algorithms\n",
    "#D. All of the above"
   ]
  },
  {
   "cell_type": "code",
   "execution_count": 6,
   "metadata": {},
   "outputs": [],
   "source": [
    "#6. Approximately how many quantum-oriented algorithms does Qiskit Aqua include (as of 0.5.1)?\n",
    "#A. 1 — 5\n",
    "#B. 6 — 10\n",
    "#C. 11 — 20\n",
    "#D. 21 — 30\n",
    "#E. 31 — 50"
   ]
  },
  {
   "cell_type": "code",
   "execution_count": 7,
   "metadata": {},
   "outputs": [],
   "source": [
    "#7. How to invoke algorithms in Qiskit Aqua?\n",
    "#A. Programmatically via API calls\n",
    "#B. Declaratively via JSON config dictionaries\n",
    "#C. Graphically via GUI\n",
    "#D. All of the above"
   ]
  },
  {
   "cell_type": "code",
   "execution_count": 9,
   "metadata": {},
   "outputs": [],
   "source": [
    "#8. What are some well-known algorithms included in Qiskit Aqua?\n",
    "#A. Grover's search and Shor's algorithm\n",
    "#B. QAOA and Variational Quantum Eigensolver\n",
    "#C. HHL and Phase Estimation\n",
    "#D. All of the above\n",
    "\n",
    "# \\\\left(\\\\neg v_1  \\\\vee \\\\neg v_2 \\\\vee \\\\neg v_3) \\\\wedge\n",
    "# \\\\left(      v_1  \\\\vee \\\\neg v_2 \\\\vee       v_3) \\\\wedge\n",
    "# \\\\left(      v_1  \\\\vee       v_2 \\\\vee \\\\neg v_3) \\\\wedge\n",
    "# \\\\left(      v_1  \\\\vee \\\\neg v_2 \\\\vee \\\\neg v_3) \\\\wedge\n",
    "# \\\\left(\\\\neg v_1  \\\\vee       v_2 \\\\vee       v_3)\n"
   ]
  },
  {
   "cell_type": "markdown",
   "metadata": {},
   "source": [
    "Consider the following scenario:\n",
    "You are hosting a party, and want to decide who you will be inviting to attend. You are considering inviting Ashton, Blair and Cassidy. The constraints for inviting them are as follows:\n",
    "\n",
    "    Ashton and Blair are married. You can't invite one of them alone.\n",
    "    Blair and Cassidy had a bad breakup in the past, and things haven't been civil ever since. You probably want to avoid inviting them together.\n",
    "\n",
    "In order to decide who you will invite based on the constraints above, you will be using Qiskit Aqua.\n",
    "Encoding the problem into a logical expression\n",
    "\n",
    "We begin by encoding the constraints into a logical expression. We assign the variables to the characters as follows:\n",
    "\n",
    "    Ashton: A\n",
    "    Blair: B\n",
    "    Cassidy: C\n",
    "\n",
    "Next, we write down the logical expression corresponding to the constraints. In the next question, you will select the appropriate logical expression\n",
    "\n",
    "#Question 9. Which of the following logical expressions encodes the constraints above?\n",
    "#A. <img src=\"http://latex.codecogs.com/gif.latex?\\text{A}~\\&~\\text{B}~\\&~\\text{C}\" border=\"0\"/>\n",
    "#B. <img src=\"http://latex.codecogs.com/gif.latex?\\text{A}~\\vert~\\text{B}~\\vert~\\text{C}\" border=\"0\"/>\n",
    "#C. <img src=\"http://latex.codecogs.com/gif.latex?(~((\\text{A}~\\&~\\text{B})~\\vert~\\text{C})~\\&~\\sim((~\\text{A}~\\vert~\\text{B})~\\&~\\text{C})~)\" border=\"0\"/>'\n",
    "#D. <img src=\"http://latex.codecogs.com/gif.latex?(~((\\text{A}~\\&~\\text{B})~\\vert~\\text{C})~\\&~\\sim(~\\text{A}~\\vert~\\text{B}~\\vert~\\text{C})\" border=\"0\"/>\n",
    "#E. None of the above"
   ]
  },
  {
   "cell_type": "code",
   "execution_count": 13,
   "metadata": {},
   "outputs": [
    {
     "ename": "SyntaxError",
     "evalue": "invalid syntax (<ipython-input-13-a502c0537326>, line 12)",
     "output_type": "error",
     "traceback": [
      "\u001b[0;36m  File \u001b[0;32m\"<ipython-input-13-a502c0537326>\"\u001b[0;36m, line \u001b[0;32m12\u001b[0m\n\u001b[0;31m    expr = ('100': 469, '011': 555) #\"your logical expression goes here\"\u001b[0m\n\u001b[0m                 ^\u001b[0m\n\u001b[0;31mSyntaxError\u001b[0m\u001b[0;31m:\u001b[0m invalid syntax\n"
     ]
    }
   ],
   "source": [
    "#Solving the problem using Grover's algorithm\n",
    "#Finally, we solve the problem by using Grover's search algorithm. \n",
    "#The following snippet of code shows you how to run an instance of Grover's algorithm \n",
    "#on a logical expression. \n",
    "#Use it to solve the following questions.\n",
    "#Important: do not change the seed_simulator = 101110 parameter in the last line of the code snippet.\n",
    "\n",
    "from qiskit import BasicAer\n",
    "from qiskit.aqua.algorithms import Grover\n",
    "from qiskit.aqua.components.oracles import LogicalExpressionOracle\n",
    "\n",
    "expr = ('100': 469, '011': 555) #\"your logical expression goes here\"\n",
    "algorithm = Grover(LogicalExpressionOracle(expr))\n",
    "backend = BasicAer.get_backend('qasm_simulator')\n",
    "result = algorithm.run(backend, seed_simulator = 101110)\n",
    "\n",
    "\n",
    "#10. What are the measurement results from running Grover's algorithm with \n",
    "#the logical expression that encodes your problem?\n",
    "#Note that the least significant bit of your measurement corresponds to Ashton.\n",
    "#A. ('100': 469, '011': 555)\n",
    "#B. ('101': 478, '111': 546)\n",
    "#C. ('010': 451, '011': 573)\n",
    "#D. ('000': 469, '111': 555)\n",
    "#E. None of the above"
   ]
  },
  {
   "cell_type": "code",
   "execution_count": 12,
   "metadata": {},
   "outputs": [],
   "source": [
    "#11. What is the depth of the resulting circuit?\n",
    "#A. 24\n",
    "#B. 16\n",
    "#C. 28\n",
    "#D. 20\n",
    "#E. None of the above"
   ]
  },
  {
   "cell_type": "code",
   "execution_count": null,
   "metadata": {},
   "outputs": [],
   "source": []
  }
 ],
 "metadata": {
  "kernelspec": {
   "display_name": "Python 3",
   "language": "python",
   "name": "python3"
  },
  "language_info": {
   "codemirror_mode": {
    "name": "ipython",
    "version": 3
   },
   "file_extension": ".py",
   "mimetype": "text/x-python",
   "name": "python",
   "nbconvert_exporter": "python",
   "pygments_lexer": "ipython3",
   "version": "3.8.2"
  }
 },
 "nbformat": 4,
 "nbformat_minor": 4
}
