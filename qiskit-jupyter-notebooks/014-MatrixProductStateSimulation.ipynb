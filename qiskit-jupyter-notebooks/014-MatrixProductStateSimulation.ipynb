{
 "cells": [
  {
   "cell_type": "code",
   "execution_count": 1,
   "metadata": {},
   "outputs": [
    {
     "data": {
      "text/plain": [
       "{'00': 526, '11': 498}"
      ]
     },
     "execution_count": 1,
     "metadata": {},
     "output_type": "execute_result"
    }
   ],
   "source": [
    "# Qiskit Simulation - Matrix Product State \n",
    "\n",
    "import numpy as np\n",
    "\n",
    "# Import Qiskit\n",
    "from qiskit import QuantumCircuit, QuantumRegister, ClassicalRegister\n",
    "from qiskit import execute\n",
    "from qiskit.providers.aer import QasmSimulator\n",
    "\n",
    "# Construct quantum circuit\n",
    "circ = QuantumCircuit(2, 2)\n",
    "circ.h(0)\n",
    "circ.cx(0, 1)\n",
    "circ.measure([0,1], [0,1])\n",
    "\n",
    "# Select the QasmSimulator from the Aer provider\n",
    "simulator = QasmSimulator(method='matrix_product_state')\n",
    "\n",
    "# Execute and get counts, using the matrix_product_state method\n",
    "result = execute(circ, simulator).result()\n",
    "counts = result.get_counts(circ)\n",
    "counts"
   ]
  },
  {
   "cell_type": "markdown",
   "metadata": {},
   "source": [
    "Matrix_product_state in QsamSimulator determines a particular the internal representation of the quantum state. The method is based on the concept of matrix product states. \n",
    "Relevant Papers :  https://arxiv.org/abs/quant-ph/0301063, https://arxiv.org/abs/1008.3477.\n",
    "\n",
    "A pure quantum state is usually described as a state vector, by the expression\n",
    "|ψ⟩=∑1i1=0…∑1in=0ci1…in|ii⟩⊗…⊗|in⟩\n",
    "\n",
    "The state vector representation implies an exponential size representation, regardless of the actual circuit. Every quantum gate operating on this representation requires exponential time and memory.\n",
    "\n",
    "The matrix product state (MPS) representation offers a local representation, in the form: \n",
    "Γ[1]λ[1]Γ[2]λ[2]…Γ[1]λ[n−1]Γ[n]\n",
    ", such that all the information contained in the ci1…in\n",
    "\n",
    ", can be generated out of the MPS representation.\n",
    "\n",
    "Every Γ[i]\n",
    "is a tensor of complex numbers that represents qubit i. Every λ[i] is a matrix of real numbers that is used to normalize the amplitudes of qubits i and i+1\n",
    "\n",
    ". Single-qubit gates operate only on the relevant tensor.\n",
    "\n",
    "Two-qubit gates operate on consecutive qubits i\n",
    "and i+1. This involves a tensor-contract operation over λ[i−1], Γ[i−1], λ[i], Γ[i+1] and λ[i+1]\n",
    "\n",
    ", that creates a single tensor. We apply the gate to this tensor, and then decompose back to the original structure. This operation may increase the size of the respective tensors. Gates that involve two qubits that are not consecutive, require a series of swap gates to bring the two qubits next to each other and then the reverse swaps.\n",
    "\n",
    "In the worst case, the tensors may grow exponentially. However, the size of the overall structure remains ‘small’ for circuits that do not have ‘many’ two-qubit gates. This allows much more efficient operations in circuits with relatively ‘low’ entanglement. Characterizing when to use this method over other methods is a subject of current research.\n",
    "Using the matrix product state simulation method¶\n",
    "\n",
    "The matrix product state simulation method is invoked in the QasmSimulator by setting the simulation method. Other than that, all operations are controlled by the QasmSimulator itself, as in the following example:"
   ]
  },
  {
   "cell_type": "code",
   "execution_count": 2,
   "metadata": {},
   "outputs": [],
   "source": [
    "from qiskit.extensions.simulator.snapshot import snapshot"
   ]
  },
  {
   "cell_type": "code",
   "execution_count": 5,
   "metadata": {},
   "outputs": [
    {
     "data": {
      "text/plain": [
       "array([0.70710678+0.j, 0.        +0.j, 0.        +0.j, 0.70710678+0.j])"
      ]
     },
     "execution_count": 5,
     "metadata": {},
     "output_type": "execute_result"
    }
   ],
   "source": [
    "circ = QuantumCircuit(2, 2)\n",
    "circ.h(0)\n",
    "circ.cx(0, 1)\n",
    "\n",
    "# Define a snapshot that shows the current state vector\n",
    "circ.snapshot('my_sv', snapshot_type='statevector')\n",
    "circ.measure([0,1], [0,1])\n",
    "\n",
    "# Execute\n",
    "job_sim = execute(circ, simulator)\n",
    "result = job_sim.result()\n",
    "\n",
    "#print the state vector\n",
    "result.data()['snapshots']['statevector']['my_sv'][0]"
   ]
  },
  {
   "cell_type": "code",
   "execution_count": 6,
   "metadata": {},
   "outputs": [
    {
     "data": {
      "text/plain": [
       "{'00': 502, '11': 522}"
      ]
     },
     "execution_count": 6,
     "metadata": {},
     "output_type": "execute_result"
    }
   ],
   "source": [
    "result.get_counts()"
   ]
  },
  {
   "cell_type": "markdown",
   "metadata": {},
   "source": [
    "Running circuits using the matrix product state simulation method can be fast, relative to other methods. However, if we generate the state vector during the execution, then the conversion to state vector is, of course, exponential in memory and time, and therefore we don’t benefit from using this method. We can benefit if we only do operations that don’t require printing the full state vector. For example, if we run a circuit and then take measurement. The circuit below has 200 qubits. We create an EPR state involving all these qubits. Although this state is highly entangled, it is handled well by the matrix product state method, because there are effectively only two states.\n",
    "\n",
    "We can handle more qubits than this, but execution may take a few minutes. Try running a similar circuit with 500 qubits! Or maybe even 1000 (you can get a cup of coffee while waiting)."
   ]
  },
  {
   "cell_type": "code",
   "execution_count": 8,
   "metadata": {},
   "outputs": [
    {
     "name": "stdout",
     "output_type": "stream",
     "text": [
      "Time taken: 1.0404067039489746 sec\n"
     ]
    },
    {
     "data": {
      "text/plain": [
       "{'0000000000000000000000000000000000000000000000000000000000000000000000000000000000000000000000000000': 522,\n",
       " '1111111111111111111111111111111111111111111111111111111111111111111111111111111111111111111111111111': 502}"
      ]
     },
     "execution_count": 8,
     "metadata": {},
     "output_type": "execute_result"
    }
   ],
   "source": [
    "num_qubits = 100\n",
    "circ = QuantumCircuit(num_qubits, num_qubits)\n",
    "\n",
    "# Create EPR state\n",
    "circ.h(0)\n",
    "for i in range (0, num_qubits-1):\n",
    "    circ.cx(i, i+1)\n",
    "\n",
    "# Measure\n",
    "circ.measure(range(num_qubits), range(num_qubits))\n",
    "\n",
    "job_sim = execute(circ, simulator)\n",
    "result = job_sim.result()\n",
    "print(\"Time taken: {} sec\".format(result.time_taken))\n",
    "result.get_counts()"
   ]
  },
  {
   "cell_type": "code",
   "execution_count": null,
   "metadata": {},
   "outputs": [],
   "source": []
  }
 ],
 "metadata": {
  "kernelspec": {
   "display_name": "Python 3",
   "language": "python",
   "name": "python3"
  },
  "language_info": {
   "codemirror_mode": {
    "name": "ipython",
    "version": 3
   },
   "file_extension": ".py",
   "mimetype": "text/x-python",
   "name": "python",
   "nbconvert_exporter": "python",
   "pygments_lexer": "ipython3",
   "version": "3.8.5"
  }
 },
 "nbformat": 4,
 "nbformat_minor": 4
}
