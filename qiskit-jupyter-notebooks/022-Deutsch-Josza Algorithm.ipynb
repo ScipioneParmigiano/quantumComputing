{
 "cells": [
  {
   "cell_type": "markdown",
   "metadata": {},
   "source": [
    "# Deutsch-Josza Algorithm"
   ]
  },
  {
   "cell_type": "code",
   "execution_count": 2,
   "metadata": {},
   "outputs": [
    {
     "ename": "ImportError",
     "evalue": "cannot import name 'run_algorithm' from 'qiskit.aqua' (e:\\developmentenvironments\\anaconda3\\envs\\qiskit19_env\\lib\\site-packages\\qiskit\\aqua\\__init__.py)",
     "output_type": "error",
     "traceback": [
      "\u001b[1;31m---------------------------------------------------------------------------\u001b[0m",
      "\u001b[1;31mImportError\u001b[0m                               Traceback (most recent call last)",
      "\u001b[1;32m<ipython-input-2-9a61e0a021ff>\u001b[0m in \u001b[0;36m<module>\u001b[1;34m\u001b[0m\n\u001b[0;32m     10\u001b[0m \u001b[1;33m\u001b[0m\u001b[0m\n\u001b[0;32m     11\u001b[0m \u001b[1;32mfrom\u001b[0m \u001b[0mqiskit\u001b[0m\u001b[1;33m.\u001b[0m\u001b[0maqua\u001b[0m \u001b[1;32mimport\u001b[0m \u001b[0mQuantumInstance\u001b[0m\u001b[1;33m\u001b[0m\u001b[1;33m\u001b[0m\u001b[0m\n\u001b[1;32m---> 12\u001b[1;33m \u001b[1;32mfrom\u001b[0m \u001b[0mqiskit\u001b[0m\u001b[1;33m.\u001b[0m\u001b[0maqua\u001b[0m \u001b[1;32mimport\u001b[0m \u001b[0mrun_algorithm\u001b[0m\u001b[1;33m\u001b[0m\u001b[1;33m\u001b[0m\u001b[0m\n\u001b[0m\u001b[0;32m     13\u001b[0m \u001b[1;32mfrom\u001b[0m \u001b[0mqiskit\u001b[0m\u001b[1;33m.\u001b[0m\u001b[0maqua\u001b[0m\u001b[1;33m.\u001b[0m\u001b[0malgorithms\u001b[0m \u001b[1;32mimport\u001b[0m \u001b[0mDeutschJozsa\u001b[0m\u001b[1;33m\u001b[0m\u001b[1;33m\u001b[0m\u001b[0m\n\u001b[0;32m     14\u001b[0m \u001b[1;32mfrom\u001b[0m \u001b[0mqiskit\u001b[0m\u001b[1;33m.\u001b[0m\u001b[0maqua\u001b[0m\u001b[1;33m.\u001b[0m\u001b[0mcomponents\u001b[0m\u001b[1;33m.\u001b[0m\u001b[0moracles\u001b[0m \u001b[1;32mimport\u001b[0m \u001b[0mTruthTableOracle\u001b[0m\u001b[1;33m\u001b[0m\u001b[1;33m\u001b[0m\u001b[0m\n",
      "\u001b[1;31mImportError\u001b[0m: cannot import name 'run_algorithm' from 'qiskit.aqua' (e:\\developmentenvironments\\anaconda3\\envs\\qiskit19_env\\lib\\site-packages\\qiskit\\aqua\\__init__.py)"
     ]
    }
   ],
   "source": [
    "#initialization\n",
    "import matplotlib.pyplot as plt\n",
    "%matplotlib inline\n",
    "import numpy as np\n",
    "\n",
    "# importing Qiskit\n",
    "from qiskit import IBMQ, BasicAer\n",
    "from qiskit.providers.ibmq import least_busy\n",
    "from qiskit import QuantumCircuit, ClassicalRegister, QuantumRegister, execute\n",
    "\n",
    "from qiskit.aqua import QuantumInstance\n",
    "from qiskit.aqua import run_algorithm\n",
    "from qiskit.aqua.algorithms import DeutschJozsa\n",
    "from qiskit.aqua.components.oracles import TruthTableOracle\n",
    "\n",
    "# import basic plot tools\n",
    "from qiskit.tools.visualization import plot_histogram\n",
    "q_backend = BasicAer.get_backend('qasm_simulator')"
   ]
  },
  {
   "cell_type": "markdown",
   "metadata": {},
   "source": [
    "## Introduction\n",
    "\n",
    "The Deutsch-Josza algorithm was the first example of a quantum algorithm which performs better than the best classical algorithm. It showed that there can be advantages in using a quantum computer as a computational tool for a specific problem.\n",
    "\n",
    "In 1985, David Deutsch found a quantum algorithm to answer in only one evaluation of $f$. \n",
    "In 1992, David Deutsch and Richard Josza extended this to the case of $N$ input bits ($2^N$ possible input values)\n",
    "\n",
    "\n",
    "The algorithm solves the following problem:\n",
    "\n",
    "Let $f$ be a function from $\\{0,1\\}$ to $\\{0,1\\} :  f : x \\in \\{0,1\\} ⟼ \\{0,1\\}$, it can be either *constant* or *balanced*. If one wants to know if $f$ is contant or balanced, a classical algorithm needs to calculate the value of $f$ for both possible inputs.\n",
    "\n",
    "If $U_{f}$ : $f(0) = f(1)  \\mapsto CONSTANT Function$ and <br>\n",
    "If $U_{f}$ : $f(0) \\ne f(1)\\mapsto BALANCED Function$\n",
    "\n",
    "Explanation: We are given a function $f: \\{0,1\\} \\rightarrow \\{0,1\\} $ which takes $0$ or $1$ as input and outputs $0$ or $1$. The function itself can be of arbitrary complexity, but the only requirement is that it takes a bit as input and outputs another bit. Given two different inputs $x$ and $y$, check if the function $f(x)$ is equal to $f(y)$.\n",
    "\n",
    "A classical algorithm solves the problem by evaluating $f(x)$ and $f(y)$ separately and then compare the results. This requires at least two calls to the function $f$. \n",
    "\n",
    "The Deutsch-Josza algorithm can solve this problem in only one step!"
   ]
  },
  {
   "cell_type": "markdown",
   "metadata": {},
   "source": [
    "## Simple Qiskit Implementation"
   ]
  },
  {
   "cell_type": "code",
   "execution_count": 6,
   "metadata": {},
   "outputs": [
    {
     "data": {
      "image/png": "[encoded data removed]",
      "text/plain": [
       "<Figure size 298.592x204.68 with 1 Axes>"
      ]
     },
     "execution_count": 6,
     "metadata": {},
     "output_type": "execute_result"
    }
   ],
   "source": [
    "#Create Input Circuit\n",
    "qc_input = QuantumCircuit(2,1)\n",
    "qc_input.x([1])\n",
    "qc_input.h([0,1])\n",
    "qc_input.draw('mpl')"
   ]
  },
  {
   "cell_type": "code",
   "execution_count": 15,
   "metadata": {},
   "outputs": [
    {
     "name": "stdout",
     "output_type": "stream",
     "text": [
      "{'0': 485, '1': 539}\n"
     ]
    }
   ],
   "source": [
    "#Let us see what this input circuit returns in qubit 0\n",
    "qc_temp = QuantumCircuit(2,1)\n",
    "#Append input circuit\n",
    "qc_temp.append(qc_input,[0,1])\n",
    "\n",
    "#We are measuring only the first qubit\n",
    "qc_temp.measure([0],[0])\n",
    "results = execute(qc_temp,q_backend, shots=1024).result()\n",
    "print(results.get_counts())\n",
    "#It returns both 0 and 1 on qubit 0"
   ]
  },
  {
   "cell_type": "markdown",
   "metadata": {},
   "source": [
    "### Explanation: Input Circuit\n",
    "\n",
    "Let us calculate the 2 qubit system state from left to right: \n",
    "\\begin{equation}\n",
    "|\\psi_1⟩ = |0⟩\\otimes|1⟩\n",
    "\\end{equation}\n",
    "\n",
    "Apply Hadamard:\n",
    "\\begin{equation}\n",
    "|\\psi_2⟩ = \\frac{1}{\\sqrt{2}}(|0⟩+|1⟩) \\otimes \\frac{1}{\\sqrt{2}}(|0⟩-|1⟩)\n",
    "\\end{equation}\n",
    "\n",
    "Regroup the $\\frac{1}{\\sqrt{2}}$ to the left, and distribute $(|0⟩-|1⟩)$ : \n",
    "\n",
    "\\begin{equation}\n",
    "|\\psi_2⟩ = \\frac{1}{2} \\left(|0⟩ \\otimes (|0⟩-|1⟩) + |1⟩ \\otimes (|0⟩-|1⟩) \\right)\n",
    "\\end{equation}\n",
    "\n",
    "Factor left qubit with value $|x⟩$ and sum for $x=0$ to $x=1$\n",
    "\n",
    "\\begin{equation}\n",
    "|\\psi_2⟩ = \\frac{1}{2}\\sum_{x=0}^{x=1}|x⟩ \\otimes (|0⟩-|1⟩)\n",
    "\\end{equation}\n",
    "\n",
    "\\begin{equation}\n",
    "|\\psi_2⟩ = \\frac{1}{2}\\sum_{x=0}^{x=1}(|x⟩\\otimes|0⟩-|x⟩\\otimes|1⟩)\n",
    "\\end{equation}"
   ]
  },
  {
   "cell_type": "code",
   "execution_count": 16,
   "metadata": {},
   "outputs": [
    {
     "data": {
      "image/png": "[encoded data removed]",
      "text/plain": [
       "<Figure size 238.392x144.48 with 1 Axes>"
      ]
     },
     "execution_count": 16,
     "metadata": {},
     "output_type": "execute_result"
    }
   ],
   "source": [
    "#Uf0 implements a constant function\n",
    "Uf0 = QuantumCircuit(2, name='Uf0')\n",
    "\n",
    "#This implements the funtion\n",
    "#Implement 1 : returns 0 \n",
    "Uf0.iden([0,1])\n",
    "\n",
    "#Uf0.to_instruction()\n",
    "Uf0.draw(output='mpl')"
   ]
  },
  {
   "cell_type": "code",
   "execution_count": 17,
   "metadata": {},
   "outputs": [
    {
     "name": "stdout",
     "output_type": "stream",
     "text": [
      "{'0': 517, '1': 507}\n"
     ]
    }
   ],
   "source": [
    "#Let us see what Uf0 does to the input circuit\n",
    "qc_temp = QuantumCircuit(2,1)\n",
    "#Append input circuit\n",
    "qc_temp.append(qc_input,[0,1])\n",
    "#Append function circuit\n",
    "qc_temp.append(Uf0,[0,1])\n",
    "\n",
    "#We are measuring only the first qubit\n",
    "qc_temp.measure([0],[0])\n",
    "results = execute(qc_temp,q_backend, shots=1024).result()\n",
    "print(results.get_counts())"
   ]
  },
  {
   "cell_type": "markdown",
   "metadata": {},
   "source": [
    "### Explanation: After the Function\n",
    "\n",
    "Now the states go through $U_f$, qubit 0 is unchanged, qubit 1 gets XORed with $f(x)$\n",
    "\n",
    "\\begin{equation}\n",
    "|\\psi_3⟩ = \\frac{1}{2}\\sum_{x=0}^{x=1}(|x⟩|0\\oplus f(x)⟩-|x⟩|1\\oplus f(x)⟩)\n",
    "\\end{equation}\n",
    "\n",
    "Note :\n",
    "\n",
    "- If $f(x) = 0$ then  $0\\oplus f(x) = 0$ and $1\\oplus f(x) = 1$\n",
    "\n",
    "- If $f(x) = 1$ then $0\\oplus f(x) = 1$ and $1\\oplus f(x) = 0$  \n",
    "\n",
    "Such that: \n",
    "\n",
    "- If $f(x) = 0$ then $|x⟩\\otimes|0\\oplus f(x)⟩- |x⟩\\otimes|1\\oplus f(x) ⟩ = |x⟩\\otimes|0⟩-|x⟩\\otimes|1⟩ =|x⟩\\otimes(|0⟩-|1⟩$\n",
    "\n",
    "- If $f(x) = 1$ then  $|x⟩\\otimes|0\\oplus f(x)⟩- |x⟩\\otimes|1\\oplus f(x) ⟩ = |x⟩\\otimes|1⟩-|x⟩\\otimes|0⟩ = -|x⟩\\otimes(|0⟩-|1⟩$\n",
    "\n",
    "\n",
    "Then both cases ($f(x) = 0$ and $f(x) = 1$) can be regrouped in: \n",
    "\n",
    "\\begin{equation}\n",
    "|x⟩\\otimes|0\\oplus f(x)⟩ - |x⟩|1 \\oplus f(x) ⟩ = (-1)^{f(x)}|x⟩\\otimes(|0⟩-|1⟩)\n",
    "\\end{equation}\n",
    "\n",
    "Now we have \n",
    "\n",
    "\\begin{equation}\n",
    "|\\psi_3⟩ = \\frac{1}{2}\\sum_{x=0}^{x=1}(-1)^{f(x)}|x⟩\\otimes(|0⟩-|1⟩) \n",
    "\\end{equation}\n",
    "\n",
    "Then (moving $|0⟩-|1⟩)$ out of the summation):\n",
    "\n",
    "\\begin{equation}\n",
    "|\\psi_3⟩ =  \\frac{1}{2}\\left(\\sum_{x=0}^{x=1}(-1)^{f(x)}|x⟩\\right)\\otimes(|0⟩-|1⟩\n",
    "\\end{equation}\n",
    "\n",
    "And developping the sum:\n",
    "\n",
    "\\begin{equation}\n",
    "|\\psi_3⟩  = \\frac{1}{2}\\left((-1)^{f(0)}|0⟩ + (-1)^{f(1)}|1⟩\\right)\\otimes(|0⟩-|1⟩)\n",
    "\\end{equation}"
   ]
  },
  {
   "cell_type": "markdown",
   "metadata": {},
   "source": [
    "### Function $U_{f_0}$ : $f_0(0) = f_0(1) = 0$ : CONSTANT (result = 0 )"
   ]
  },
  {
   "cell_type": "code",
   "execution_count": 18,
   "metadata": {},
   "outputs": [
    {
     "data": {
      "image/png": "[encoded data removed]",
      "text/plain": [
       "<Figure size 599.592x204.68 with 1 Axes>"
      ]
     },
     "execution_count": 18,
     "metadata": {},
     "output_type": "execute_result"
    }
   ],
   "source": [
    "#This is the DJ algorithm implemenation\n",
    "DJ = QuantumCircuit(2,1)\n",
    "DJ.append(qc_input,[0,1])\n",
    "DJ.append(Uf0,[0,1])\n",
    "DJ.h([0])\n",
    "DJ.measure([0],[0])\n",
    "DJ.draw(output='mpl')"
   ]
  },
  {
   "cell_type": "code",
   "execution_count": 21,
   "metadata": {},
   "outputs": [
    {
     "name": "stdout",
     "output_type": "stream",
     "text": [
      "{'0': 1024}\n"
     ]
    }
   ],
   "source": [
    "# define job, get results\n",
    "job = execute(DJ,q_backend,shots=1024)\n",
    "DJ_result = job.result()\n",
    "print(DJ_result.get_counts())  "
   ]
  },
  {
   "cell_type": "markdown",
   "metadata": {},
   "source": [
    "### Explanation: After the Application of a Hadamard Gate\n",
    "\n",
    "Now, getting to $|\\psi_4⟩$, qubit 0 goes through Hadamard : \n",
    "\n",
    "\n",
    "\\begin{equation}\n",
    "|\\psi_4⟩  = \\frac{1}{2}\\left((-1)^{f(0)}\\frac{1}{\\sqrt{2}}(|0⟩+|1⟩) + (-1)^{f(1)}\\frac{1}{\\sqrt{2}}(|0⟩-|1⟩)\\right) \\otimes (|0⟩-|1⟩)\n",
    "\\end{equation}\n",
    "\n",
    "\\begin{equation}\n",
    "|\\psi_4⟩ = \\frac{1}{2\\sqrt{2}}\\left(\\left((-1)^{f(0)}+(-1)^{f(1)}\\right)|0⟩ + \\left((-1)^{f(0)}-(-1)^{f(1)}\\right)|1⟩\\right) \\otimes(|0⟩-|1⟩)\n",
    "\\end{equation}\n",
    "\n",
    "Then we see that: \n",
    "\n",
    "- If $f(0) = f(1)$ then measuring qubit 0 results in $|0⟩$\n",
    "- If $f(0) ≠ f(1)$ then measuring qubit 0 results in $|1⟩$"
   ]
  },
  {
   "cell_type": "markdown",
   "metadata": {},
   "source": [
    "### Function $U_{f_1}$ : $f_1(0) = 0, f_1(1) = 1$ : BALANCED  (result  = 1)"
   ]
  },
  {
   "cell_type": "code",
   "execution_count": 22,
   "metadata": {},
   "outputs": [
    {
     "data": {
      "image/png": "[encoded data removed]",
      "text/plain": [
       "<Figure size 238.392x144.48 with 1 Axes>"
      ]
     },
     "execution_count": 22,
     "metadata": {},
     "output_type": "execute_result"
    }
   ],
   "source": [
    "#Now we create a second function Uf1\n",
    "Uf1 = QuantumCircuit(2, name='Uf1')\n",
    "#build Uf1 here: \n",
    "Uf1.cx([0],[1])\n",
    "Uf1.to_instruction()\n",
    "Uf1.draw(output='mpl')"
   ]
  },
  {
   "cell_type": "code",
   "execution_count": 23,
   "metadata": {},
   "outputs": [
    {
     "name": "stdout",
     "output_type": "stream",
     "text": [
      "{'0': 483, '1': 541}\n"
     ]
    }
   ],
   "source": [
    "#Let us see what Uf1 does to the input circuit\n",
    "qc_temp = QuantumCircuit(2,1)\n",
    "#Append input circuit\n",
    "qc_temp.append(qc_input,[0,1])\n",
    "#Append function circuit\n",
    "qc_temp.append(Uf1,[0,1])\n",
    "\n",
    "#We are measuring only the first qubit\n",
    "qc_temp.measure([0],[0])\n",
    "results = execute(qc_temp,q_backend, shots=1024).result()\n",
    "print(results.get_counts())\n",
    "#This also gives 0 and 1, almost balanced # of times. But we do not know whether it returns 0 for 0 or 1 for a 0"
   ]
  },
  {
   "cell_type": "code",
   "execution_count": 25,
   "metadata": {},
   "outputs": [
    {
     "data": {
      "image/png": "[encoded data removed]",
      "text/plain": [
       "<Figure size 599.592x204.68 with 1 Axes>"
      ]
     },
     "execution_count": 25,
     "metadata": {},
     "output_type": "execute_result"
    }
   ],
   "source": [
    "#This is the DJ algorithm implemenation\n",
    "DJ = QuantumCircuit(2,1)\n",
    "DJ.append(qc_input,[0,1])\n",
    "DJ.append(Uf1,[0,1])\n",
    "DJ.h([0])\n",
    "DJ.measure([0],[0])\n",
    "DJ.draw(output='mpl')"
   ]
  },
  {
   "cell_type": "code",
   "execution_count": 26,
   "metadata": {},
   "outputs": [
    {
     "name": "stdout",
     "output_type": "stream",
     "text": [
      "{'1': 1024}\n"
     ]
    }
   ],
   "source": [
    "# define job, get results\n",
    "job = execute(DJ,q_backend,shots=1024)\n",
    "DJ_result = job.result()\n",
    "print(DJ_result.get_counts())\n",
    "#This time we get a 1, indicating thefunction Uf1 is a balanced function"
   ]
  },
  {
   "cell_type": "markdown",
   "metadata": {},
   "source": [
    "### Function $U_{f_2}$ : $f_2(0) = 1, f_2(1) = 0$ : BALANCED (result = 1)"
   ]
  },
  {
   "cell_type": "code",
   "execution_count": 27,
   "metadata": {},
   "outputs": [
    {
     "data": {
      "image/png": "[encoded data removed]",
      "text/plain": [
       "<Figure size 298.592x144.48 with 1 Axes>"
      ]
     },
     "execution_count": 27,
     "metadata": {},
     "output_type": "execute_result"
    }
   ],
   "source": [
    "#This Uf2 function is supposed to return 1 for input 0 and 0 for 1\n",
    "Uf2 = QuantumCircuit(2, name='Uf2')\n",
    "# build Uf2 here: \n",
    "Uf2.x([1])\n",
    "Uf2.cx([0],[1])\n",
    "Uf2.to_instruction()\n",
    "Uf2.draw(output='mpl')"
   ]
  },
  {
   "cell_type": "code",
   "execution_count": 28,
   "metadata": {},
   "outputs": [
    {
     "name": "stdout",
     "output_type": "stream",
     "text": [
      "{'0': 536, '1': 488}\n"
     ]
    }
   ],
   "source": [
    "#Let us see what Uf1 does to the input circuit\n",
    "qc_temp = QuantumCircuit(2,1)\n",
    "#Append input circuit\n",
    "qc_temp.append(qc_input,[0,1])\n",
    "#Append function circuit\n",
    "qc_temp.append(Uf1,[0,1])\n",
    "\n",
    "#We are measuring only the first qubit\n",
    "qc_temp.measure([0],[0])\n",
    "results = execute(qc_temp,q_backend, shots=1024).result()\n",
    "print(results.get_counts())\n",
    "#This also gives 0 and 1, almost balanced # of times. But we do not know whether it returns 0 for 0 or 1 for a 0"
   ]
  },
  {
   "cell_type": "code",
   "execution_count": 30,
   "metadata": {},
   "outputs": [
    {
     "data": {
      "image/png": "[encoded data removed]",
      "text/plain": [
       "<Figure size 599.592x204.68 with 1 Axes>"
      ]
     },
     "execution_count": 30,
     "metadata": {},
     "output_type": "execute_result"
    }
   ],
   "source": [
    "#This is the DJ algorithm implemenation\n",
    "DJ = QuantumCircuit(2,1)\n",
    "DJ.append(qc_input,[0,1])\n",
    "DJ.append(Uf2,[0,1])\n",
    "DJ.h([0])\n",
    "DJ.measure([0],[0])\n",
    "DJ.draw(output='mpl')"
   ]
  },
  {
   "cell_type": "code",
   "execution_count": 31,
   "metadata": {},
   "outputs": [
    {
     "name": "stdout",
     "output_type": "stream",
     "text": [
      "{'1': 1024}\n"
     ]
    }
   ],
   "source": [
    "# define job, get results\n",
    "job = execute(DJ,q_backend,shots=1024)\n",
    "DJ_result = job.result()\n",
    "print(DJ_result.get_counts())\n",
    "#This time we get a 1, indicating thefunction Uf2 is a balanced function"
   ]
  },
  {
   "cell_type": "markdown",
   "metadata": {},
   "source": [
    "### Function $U_{f_3}$ : $f(0) = f(1) = 1$ : CONSTANT (result = 0)"
   ]
  },
  {
   "cell_type": "code",
   "execution_count": 32,
   "metadata": {},
   "outputs": [
    {
     "data": {
      "image/png": "[encoded data removed]",
      "text/plain": [
       "<Figure size 238.392x144.48 with 1 Axes>"
      ]
     },
     "execution_count": 32,
     "metadata": {},
     "output_type": "execute_result"
    }
   ],
   "source": [
    "Uf3 = QuantumCircuit(2, name='Uf3')\n",
    "# build Uf3 here: \n",
    "Uf3.x([1])\n",
    "#Uf3.to_instruction()\n",
    "Uf3.draw(output='mpl')"
   ]
  },
  {
   "cell_type": "code",
   "execution_count": 33,
   "metadata": {},
   "outputs": [
    {
     "name": "stdout",
     "output_type": "stream",
     "text": [
      "{'0': 516, '1': 508}\n"
     ]
    }
   ],
   "source": [
    "#Let us see what Uf1 does to the input circuit\n",
    "qc_temp = QuantumCircuit(2,1)\n",
    "#Append input circuit\n",
    "qc_temp.append(qc_input,[0,1])\n",
    "#Append function circuit\n",
    "qc_temp.append(Uf3,[0,1])\n",
    "\n",
    "#We are measuring only the first qubit\n",
    "qc_temp.measure([0],[0])\n",
    "results = execute(qc_temp,q_backend, shots=1024).result()\n",
    "print(results.get_counts())\n",
    "#This also gives 0 and 1, almost balanced # of times. But we do not know whether it returns 0 for 0 or 1 for a 0"
   ]
  },
  {
   "cell_type": "code",
   "execution_count": 34,
   "metadata": {},
   "outputs": [
    {
     "data": {
      "image/png": "[encoded data removed]",
      "text/plain": [
       "<Figure size 599.592x204.68 with 1 Axes>"
      ]
     },
     "execution_count": 34,
     "metadata": {},
     "output_type": "execute_result"
    }
   ],
   "source": [
    "#This is the DJ algorithm implemenation\n",
    "DJ = QuantumCircuit(2,1)\n",
    "DJ.append(qc_input,[0,1])\n",
    "DJ.append(Uf3,[0,1])\n",
    "DJ.h([0])\n",
    "DJ.measure([0],[0])\n",
    "DJ.draw(output='mpl')"
   ]
  },
  {
   "cell_type": "code",
   "execution_count": 35,
   "metadata": {},
   "outputs": [
    {
     "name": "stdout",
     "output_type": "stream",
     "text": [
      "{'0': 1024}\n"
     ]
    }
   ],
   "source": [
    "# define job, get results\n",
    "job = execute(DJ,q_backend,shots=1024)\n",
    "DJ_result = job.result()\n",
    "print(DJ_result.get_counts())\n",
    "#This time we get a 1, indicating thefunction Uf2 is a balanced function"
   ]
  },
  {
   "cell_type": "markdown",
   "metadata": {},
   "source": [
    "## Quantum Circuit for Deutsch-Josza Algorithm\n",
    "\n",
    "The objective of this quantum algorithm is to solve the problem in only one step! \n",
    "\n",
    "The quantum circuit that implements the algorithm is the following.\n",
    "\n",
    "<img src=\"images/deutsch2.jpeg\"  width=\"300\">\n",
    "\n",
    "where $\\text{F}$ is the function described by the action on a qubit $\\lvert x \\rangle$ as\n",
    "$$ \\lvert x \\rangle \\rightarrow (-1)^{f(x)} \\lvert x \\rangle $$\n",
    "\n",
    "Now, let us go through the steps of the algorithm:\n",
    "\n",
    "<ol>\n",
    "    <li> The input qubit is initialized to the zero state \n",
    "    $$\\lvert \\psi_1 \\rangle = \\lvert 0 \\rangle $$ </li>\n",
    "    <li> Apply Hadamard on the qubit to get the state $$\\lvert \\psi_2 \\rangle = \\frac{1}{\\sqrt{2}} \\left(\\lvert 0 \\rangle + \\lvert 1 \\rangle \\right)  $$ </li>\n",
    "    <li> We make a query $\\text{Q}_f$, \n",
    "    $$ \\lvert \\psi_3 \\rangle = \\frac{1}{\\sqrt{2}} \\left( (-1)^{f(0)} \\lvert 0 \\rangle + (-1)^{f(1)} \\lvert 1 \\rangle \\right)  $$ \n",
    "   Thus, if $f(0) = f(1)$, (up to a global phase factor):\n",
    "   $$ \\lvert \\psi_3 \\rangle = \\frac{(-1)^{f(0)}}{\\sqrt{2}} \\left(  \\lvert 0 \\rangle + \\lvert 1 \\rangle \\right) $$\n",
    "    \n",
    "   while if $f(0) \\neq f(1)$, (up to a global phase factor):\n",
    "   $$ \\lvert \\psi_3 \\rangle = \\frac{(-1)^{f(0)}}{\\sqrt{2}} \\left(  \\lvert 0 \\rangle - \\lvert 1 \\rangle \\right) $$\n",
    "   </li>\n",
    "    \n",
    "   <li> Apply Hadamard again. If  $f(0) = f(1)$:\n",
    "        $$ \\lvert \\psi_4 \\rangle = (-1)^{f(0)} \\lvert 0 \\rangle $$\n",
    "        \n",
    "   while if  $f(0) \\neq f(1)$:\n",
    "        $$ \\lvert \\psi_4 \\rangle = (-1)^{f(0)} \\lvert 1 \\rangle $$\n",
    "   </li>\n",
    "   <li> Measuring the qubit will either give:\n",
    "        $$ \"0\", \\; \\; \\text{if} \\; f(0) = f(1)$$\n",
    "        $$ \"1\", \\; \\; \\text{if} \\; f(0) \\neq f(1)$$\n",
    "   </li>\n",
    "</ol>\n",
    "\n",
    "Therefore by looking at the value of the measured qubit, we can tell whether $f(0) = f(1)$ or $f(0) \\neq f(1)$ by solving the problem with only one query to the function $\\text{Q}_f$.\n",
    "\n",
    "Compared to the classical algorithm, the quantum algorithm takes half the number of steps. This might not seem much of an advantage but it is a first steps in proving the usefulness of quantum computation.\n",
    "\n",
    "Also, if the input to the function is not just one bit but an $n$ bit string, it can be proven that the quantum algorithm will take $\\frac{n}{2}$ queries to the function (just run the algorithm on a pair of bits) rather than the $n$ steps needed for a classical algorithm."
   ]
  },
  {
   "cell_type": "code",
   "execution_count": null,
   "metadata": {},
   "outputs": [],
   "source": []
  },
  {
   "cell_type": "markdown",
   "metadata": {},
   "source": [
    "### Example\n",
    "\n",
    "In Ref. [1], the Deutsch-Josza algorithm was implemented on a real device. However, in order to do it two qubits were used, one is used as ancilla. In this way, the query function $Q_f$ was realized. Let us see how it works.\n",
    "\n",
    "<img src=\"images/deutsch_ex1.jpeg\"  width=\"300\">\n",
    "\n",
    "<ol>\n",
    "    <li> The first qubit is initialized to $|0\\rangle$ and the second is initialized to $|1\\rangle$.\n",
    "    $$\\lvert \\psi_1 \\rangle = \\lvert 0\\rangle \\lvert 1 \\rangle_a $$ </li>\n",
    "    <li> Apply Hadamard on both qubits $$\\lvert \\psi_2 \\rangle = \\frac{1}{\\sqrt{2}} \\left(\\lvert 0 \\rangle + \\lvert 1 \\rangle \\right) \\frac{1}{\\sqrt{2}} \\left(\\lvert 0 \\rangle_a - \\lvert 1 \\rangle_a \\right) = \\frac{1}{2}\\left(\\lvert 0 \\rangle \\lvert 0 \\rangle_a  - \\lvert 0 \\rangle \\lvert 1 \\rangle_a + \\lvert 1 \\rangle \\lvert 0 \\rangle_a - \\lvert 1 \\rangle \\lvert 1 \\rangle_a \\right)   $$ </li><p></p>\n",
    "    <li> The query function $\\text{Q}_f$ can be implemented in different ways. Let us consider the case where $f(0) = 0$ and $f(1)=1$, thus $Q_f = CX_{12}$ \n",
    "    $$ \\lvert \\psi_3 \\rangle = \\frac{1}{2} \\left(\\lvert 0 \\rangle \\lvert 0 \\oplus 0 \\rangle_a  - \\lvert 0 \\rangle \\lvert 1 \\oplus 0 \\rangle_a + \\lvert 1 \\rangle \\lvert 0 \\oplus 1 \\rangle_a - \\lvert 1 \\rangle \\lvert 1 \\oplus 1 \\rangle_a \\right) \\\\\n",
    "    = \\frac{1}{2}\\left(\\lvert 0 \\rangle \\lvert 0 \\rangle_a  - \\lvert 0 \\rangle \\lvert 1 \\rangle_a + \\lvert 1 \\rangle \\lvert 1 \\rangle_a - \\lvert 1 \\rangle \\lvert 0 \\rangle_a \\right)  $$ \n",
    "   Thus:\n",
    "    $$ \\lvert \\psi_3 \\rangle = \\frac{1}{\\sqrt{2}} \\left(\\lvert 0 \\rangle - \\lvert 1 \\rangle \\right) \\frac{1}{\\sqrt{2}} \\left(\\lvert 0 \\rangle_a - \\lvert 1 \\rangle_a \\right) $$\n",
    "   <li> Apply Hadamard on both qubits again:\n",
    "        $$ \\lvert \\psi_4 \\rangle = \\lvert 1 \\rangle \\lvert 1 \\rangle_a $$\n",
    "   </li><p></p>\n",
    "    <li> Measuring the first qubit will give $\"1\"$, therefore $ f(0) \\neq f(1)$\n",
    "    </li>\n",
    "</ol>"
   ]
  },
  {
   "cell_type": "markdown",
   "metadata": {},
   "source": [
    "## Qiskit Implementation"
   ]
  },
  {
   "cell_type": "markdown",
   "metadata": {},
   "source": [
    "We now implement the Deutsch-Josza algorithm with Qiskit by first preparing the environment."
   ]
  },
  {
   "cell_type": "code",
   "execution_count": 2,
   "metadata": {},
   "outputs": [
    {
     "data": {
      "text/plain": [
       "<qiskit.circuit.measure.Measure at 0x11a13ba58>"
      ]
     },
     "execution_count": 2,
     "metadata": {},
     "output_type": "execute_result"
    }
   ],
   "source": [
    "# Creating registers\n",
    "qr = QuantumRegister(2)\n",
    "# classical registers for recording the measurement on qr\n",
    "cr = ClassicalRegister(2)\n",
    "\n",
    "deujosCircuit = QuantumCircuit(qr, cr)\n",
    "barriers = True\n",
    "\n",
    "# initialize the ancilla qubit in the |1> state\n",
    "deujosCircuit.x(qr[1])\n",
    "\n",
    "# Apply barrier \n",
    "if barriers:\n",
    "    deujosCircuit.barrier()\n",
    "\n",
    "# Apply Hadamard gates before querying the oracle\n",
    "deujosCircuit.h(qr[0])    \n",
    "deujosCircuit.h(qr[1])    \n",
    "    \n",
    "# Apply barrier \n",
    "if barriers:\n",
    "    deujosCircuit.barrier()\n",
    "\n",
    "# Query the oracle \n",
    "deujosCircuit.cx(qr[0], qr[1])\n",
    "\n",
    "# Apply barrier \n",
    "if barriers:\n",
    "    deujosCircuit.barrier()\n",
    "\n",
    "# Apply Hadamard gates after querying the oracle\n",
    "deujosCircuit.h(qr[0])    \n",
    "deujosCircuit.h(qr[1])    \n",
    "\n",
    "# Measure the input qubit\n",
    "deujosCircuit.measure(qr[0], cr[0])"
   ]
  },
  {
   "cell_type": "code",
   "execution_count": 3,
   "metadata": {},
   "outputs": [
    {
     "data": {
      "image/png": "[encoded data removed]",
      "text/plain": [
       "<Figure size 662.2x258.86 with 1 Axes>"
      ]
     },
     "execution_count": 3,
     "metadata": {},
     "output_type": "execute_result"
    }
   ],
   "source": [
    "deujosCircuit.draw(output='mpl')"
   ]
  },
  {
   "cell_type": "markdown",
   "metadata": {},
   "source": [
    "## Experiment with Simulators"
   ]
  },
  {
   "cell_type": "markdown",
   "metadata": {},
   "source": [
    "We can run the above circuit on the simulator. "
   ]
  },
  {
   "cell_type": "code",
   "execution_count": 4,
   "metadata": {},
   "outputs": [
    {
     "name": "stdout",
     "output_type": "stream",
     "text": [
      "c0 = 1 (1024 shots)\n"
     ]
    },
    {
     "data": {
      "image/png": "[encoded data removed]",
      "text/plain": [
       "<Figure size 504x360 with 1 Axes>"
      ]
     },
     "execution_count": 4,
     "metadata": {},
     "output_type": "execute_result"
    }
   ],
   "source": [
    "# use local simulator\n",
    "backend = BasicAer.get_backend('qasm_simulator')\n",
    "shots = 1024\n",
    "results = execute(deujosCircuit, backend=backend, shots=shots).result()\n",
    "answer = results.get_counts()\n",
    "\n",
    "# categorize answers to c0 = 0 and c0 = 1\n",
    "answer_c0 = {}\n",
    "for c1c0 in answer:\n",
    "    print('c0 = {} ({} shots)'.format(c1c0[1], answer[c1c0]))\n",
    "    \n",
    "    if c1c0[1] in answer_c0:\n",
    "        answer_c0[c1c0[1]] += answer[c1c0]\n",
    "    else:\n",
    "        answer_c0[c1c0[1]] = answer[c1c0]\n",
    "\n",
    "plot_histogram(answer_c0)"
   ]
  },
  {
   "cell_type": "markdown",
   "metadata": {},
   "source": [
    "As we can see, the only measured value is $c0 = 1$, indicating that $f(0) \\neq f(1)$."
   ]
  },
  {
   "cell_type": "markdown",
   "metadata": {},
   "source": [
    "## Experiment with Real Devices\n",
    "\n",
    "We can run the circuit on the real device as shown below."
   ]
  },
  {
   "cell_type": "code",
   "execution_count": 3,
   "metadata": {},
   "outputs": [
    {
     "ename": "AttributeError",
     "evalue": "'IBMQFactory' object has no attribute 'load_accounts'",
     "output_type": "error",
     "traceback": [
      "\u001b[1;31m---------------------------------------------------------------------------\u001b[0m",
      "\u001b[1;31mAttributeError\u001b[0m                            Traceback (most recent call last)",
      "\u001b[1;32m<ipython-input-3-11cfc172cb1d>\u001b[0m in \u001b[0;36m<module>\u001b[1;34m\u001b[0m\n\u001b[0;32m      1\u001b[0m \u001b[1;31m# Load our saved IBMQ accounts and get the least busy backend device that we are allowed to use\u001b[0m\u001b[1;33m\u001b[0m\u001b[1;33m\u001b[0m\u001b[1;33m\u001b[0m\u001b[0m\n\u001b[1;32m----> 2\u001b[1;33m \u001b[0mIBMQ\u001b[0m\u001b[1;33m.\u001b[0m\u001b[0mload_accounts\u001b[0m\u001b[1;33m(\u001b[0m\u001b[1;33m)\u001b[0m\u001b[1;33m\u001b[0m\u001b[1;33m\u001b[0m\u001b[0m\n\u001b[0m\u001b[0;32m      3\u001b[0m \u001b[0mIBMQ\u001b[0m\u001b[1;33m.\u001b[0m\u001b[0mbackends\u001b[0m\u001b[1;33m(\u001b[0m\u001b[1;33m)\u001b[0m\u001b[1;33m\u001b[0m\u001b[1;33m\u001b[0m\u001b[0m\n\u001b[0;32m      4\u001b[0m \u001b[0mbackend_lb\u001b[0m \u001b[1;33m=\u001b[0m \u001b[0mleast_busy\u001b[0m\u001b[1;33m(\u001b[0m\u001b[0mIBMQ\u001b[0m\u001b[1;33m.\u001b[0m\u001b[0mbackends\u001b[0m\u001b[1;33m(\u001b[0m\u001b[0msimulator\u001b[0m\u001b[1;33m=\u001b[0m\u001b[1;32mFalse\u001b[0m\u001b[1;33m)\u001b[0m\u001b[1;33m)\u001b[0m\u001b[1;33m\u001b[0m\u001b[1;33m\u001b[0m\u001b[0m\n\u001b[0;32m      5\u001b[0m \u001b[0mprint\u001b[0m\u001b[1;33m(\u001b[0m\u001b[1;34m\"Least busy backend: \"\u001b[0m\u001b[1;33m,\u001b[0m \u001b[0mbackend_lb\u001b[0m\u001b[1;33m)\u001b[0m\u001b[1;33m\u001b[0m\u001b[1;33m\u001b[0m\u001b[0m\n",
      "\u001b[1;31mAttributeError\u001b[0m: 'IBMQFactory' object has no attribute 'load_accounts'"
     ]
    }
   ],
   "source": [
    "# Load our saved IBMQ accounts and get the least busy backend device that we are allowed to use\n",
    "IBMQ.load_accounts()\n",
    "IBMQ.backends()\n",
    "backend_lb = least_busy(IBMQ.backends(simulator=False))\n",
    "print(\"Least busy backend: \", backend_lb)"
   ]
  },
  {
   "cell_type": "code",
   "execution_count": 6,
   "metadata": {},
   "outputs": [
    {
     "data": {
      "application/vnd.jupyter.widget-view+json": {
       "model_id": "1be4132f1f5c4045aa7e77d2865872cf",
       "version_major": 2,
       "version_minor": 0
      },
      "text/plain": [
       "HTML(value=\"<p style='font-size:16px;'>Job Status: job is being initialized </p>\")"
      ]
     },
     "metadata": {},
     "output_type": "display_data"
    }
   ],
   "source": [
    "# run our circuit on the least busy backend. Monitor the execution of the job in the queue\n",
    "from qiskit.tools.monitor import job_monitor\n",
    "\n",
    "backend = backend_lb\n",
    "shots = 1024\n",
    "job_exp = execute(deujosCircuit, backend=backend, shots=shots)\n",
    "\n",
    "job_monitor(job_exp, interval = 2)"
   ]
  },
  {
   "cell_type": "code",
   "execution_count": 7,
   "metadata": {},
   "outputs": [
    {
     "name": "stdout",
     "output_type": "stream",
     "text": [
      "c0 = 1 (813 shots)\n",
      "c0 = 0 (211 shots)\n",
      "{'1': 813, '0': 211}\n"
     ]
    },
    {
     "data": {
      "image/png": "[encoded data removed]",
      "text/plain": [
       "<Figure size 504x360 with 1 Axes>"
      ]
     },
     "execution_count": 7,
     "metadata": {},
     "output_type": "execute_result"
    }
   ],
   "source": [
    "# get the results from the computation\n",
    "results = job_exp.result()\n",
    "answer = results.get_counts(deujosCircuit)\n",
    "\n",
    "# categorize answers to c0 = 0 and c0 = 1\n",
    "answer_c0 = {}\n",
    "for c1c0 in answer:\n",
    "    print('c0 = {} ({} shots)'.format(c1c0[1], answer[c1c0]))\n",
    "    if c1c0[1] in answer_c0:\n",
    "        answer_c0[c1c0[1]] += answer[c1c0]\n",
    "    else:\n",
    "        answer_c0[c1c0[1]] = answer[c1c0]\n",
    "\n",
    "# show answers\n",
    "print(answer_c0)\n",
    "plot_histogram(answer_c0)"
   ]
  },
  {
   "cell_type": "markdown",
   "metadata": {},
   "source": [
    "As we can see, most of the results are for $c0 = 1$, indicating that $f(0) \\neq f(1)$. The results with $c0 = 0$ occur due to errors in the quantum computation. "
   ]
  },
  {
   "cell_type": "markdown",
   "metadata": {},
   "source": [
    "## References"
   ]
  },
  {
   "cell_type": "markdown",
   "metadata": {},
   "source": [
    "[1] R. Gulde, M. Riebe, G.P.T. Lancaster, C. Becher, J. Eschner, H. Haffner and. F. Schmidt-Kaler, I.L. Chuang, and R. Blatt. Implementation of the Deutsch-Jozsa algorithm on an ion-trap quantum computer. Nature, 421:48 (2003).\n"
   ]
  },
  {
   "cell_type": "markdown",
   "metadata": {},
   "source": [
    "## Another Implementation"
   ]
  },
  {
   "cell_type": "code",
   "execution_count": 10,
   "metadata": {},
   "outputs": [
    {
     "data": {
      "image/png": "[encoded data removed]",
      "text/plain": [
       "<Figure size 730.828x204.68 with 1 Axes>"
      ]
     },
     "execution_count": 10,
     "metadata": {},
     "output_type": "execute_result"
    }
   ],
   "source": [
    "'''\n",
    "    Deutsch-Jozsa Algorithm\n",
    "\n",
    "    Consider a function f(x) that takes as input n-bit strings x and returns 0 or 1. Suppose we are\n",
    "    promised that f(x) is either a constant function that takes the same value c in {0,1} on all\n",
    "    inputs x, or a balanced function that takes each value 0 and 1 on exactly half of the inputs. \n",
    "    The goal is to decide whether f is constant or balanced by making as few function evaluations \n",
    "    as possible. Classically, it requires 2^{n-1}+1 function evaluations in the worst case. Using \n",
    "    the Deutsch-Jozsa algorithm, the question can be answered with just one function evaluation.\n",
    "    \n",
    "    Deutsch's algorithm is the simpler case of Deutsch-Jozsa Algorithm which has a function f(x) \n",
    "    which takes 1-bit as input.\n",
    "\n",
    "    Source: https://github.com/Qiskit/ibmqx-user-guides/blob/master/rst/full-user-guide/004-Quantum_Algorithms/080-Deutsch-Jozsa_Algorithm.rst\n",
    "\n",
    "'''\n",
    "qr = QuantumRegister(2)  # Initialize two qubits\n",
    "cr = ClassicalRegister(2)  # Initialize two bits for record measurements\n",
    "circuit = QuantumCircuit(qr, cr)\n",
    "\n",
    "circuit.x(qr[1])  # initialize the ancilla qubit in the |1> state\n",
    "\n",
    "circuit.barrier()\n",
    "\n",
    "# First step of quantum algorithms - Prepare the superposition\n",
    "# For superposition, we apply the Hadamard gate on both qubits\n",
    "circuit.h(qr[0])\n",
    "circuit.h(qr[1])\n",
    "\n",
    "circuit.barrier()\n",
    "\n",
    "# Oracle function\n",
    "circuit.cx(qr[0], qr[1])\n",
    "\n",
    "circuit.barrier()\n",
    "\n",
    "# Apply Hadamard gates after querying oracle function\n",
    "circuit.h(qr[0])\n",
    "circuit.h(qr[1])\n",
    "\n",
    "circuit.barrier()\n",
    "\n",
    "# Measure qubit\n",
    "circuit.measure(qr[0], cr[0])\n",
    "circuit.draw('mpl')"
   ]
  },
  {
   "cell_type": "code",
   "execution_count": 11,
   "metadata": {},
   "outputs": [
    {
     "name": "stdout",
     "output_type": "stream",
     "text": [
      "Simulator result\n",
      "c0 = 1 (1024 shots)\n"
     ]
    }
   ],
   "source": [
    "# Run our circuit with local simulator\n",
    "shots = 1024\n",
    "results = execute(circuit, backend=q_backend, shots=shots).result()\n",
    "answer = results.get_counts()\n",
    "print(\"Simulator result\")\n",
    "for c1c0 in answer:\n",
    "    print(f'c0 = {c1c0[1]} ({answer[c1c0]} shots)')\n",
    "# C0 observed as 1 in 1024 shots\n",
    "# It indicates f(0) != f(1)"
   ]
  },
  {
   "cell_type": "code",
   "execution_count": 13,
   "metadata": {},
   "outputs": [
    {
     "name": "stderr",
     "output_type": "stream",
     "text": [
      "ibmqfactory.load_account:WARNING:2020-04-24 14:26:33,500: Credentials are already in use. The existing account in the session will be replaced.\n"
     ]
    },
    {
     "ename": "AttributeError",
     "evalue": "'IBMQFactory' object has no attribute 'backends'",
     "output_type": "error",
     "traceback": [
      "\u001b[1;31m---------------------------------------------------------------------------\u001b[0m",
      "\u001b[1;31mAttributeError\u001b[0m                            Traceback (most recent call last)",
      "\u001b[1;32m<ipython-input-13-cf2bfa8c61d1>\u001b[0m in \u001b[0;36m<module>\u001b[1;34m\u001b[0m\n\u001b[0;32m      1\u001b[0m \u001b[1;31m# Run our circuit with real devices\u001b[0m\u001b[1;33m\u001b[0m\u001b[1;33m\u001b[0m\u001b[1;33m\u001b[0m\u001b[0m\n\u001b[0;32m      2\u001b[0m \u001b[0mIBMQ\u001b[0m\u001b[1;33m.\u001b[0m\u001b[0mload_account\u001b[0m\u001b[1;33m(\u001b[0m\u001b[1;33m)\u001b[0m\u001b[1;33m\u001b[0m\u001b[1;33m\u001b[0m\u001b[0m\n\u001b[1;32m----> 3\u001b[1;33m \u001b[0mbackend_lb\u001b[0m \u001b[1;33m=\u001b[0m \u001b[0mleast_busy\u001b[0m\u001b[1;33m(\u001b[0m\u001b[0mIBMQ\u001b[0m\u001b[1;33m.\u001b[0m\u001b[0mbackends\u001b[0m\u001b[1;33m(\u001b[0m\u001b[0msimulator\u001b[0m\u001b[1;33m=\u001b[0m\u001b[1;32mFalse\u001b[0m\u001b[1;33m)\u001b[0m\u001b[1;33m)\u001b[0m\u001b[1;33m\u001b[0m\u001b[1;33m\u001b[0m\u001b[0m\n\u001b[0m\u001b[0;32m      4\u001b[0m \u001b[0mbackend\u001b[0m \u001b[1;33m=\u001b[0m \u001b[0mbackend_lb\u001b[0m\u001b[1;33m\u001b[0m\u001b[1;33m\u001b[0m\u001b[0m\n\u001b[0;32m      5\u001b[0m \u001b[0mshots\u001b[0m \u001b[1;33m=\u001b[0m \u001b[1;36m1024\u001b[0m\u001b[1;33m\u001b[0m\u001b[1;33m\u001b[0m\u001b[0m\n",
      "\u001b[1;31mAttributeError\u001b[0m: 'IBMQFactory' object has no attribute 'backends'"
     ]
    }
   ],
   "source": [
    "# Run our circuit with real devices\n",
    "IBMQ.load_account()\n",
    "backend_lb = least_busy(IBMQ.backends(simulator=False))\n",
    "backend = backend_lb\n",
    "shots = 1024\n",
    "job_exp = execute(circuit, backend=backend, shots=shots)\n",
    "job_monitor(job_exp, interval=2)\n",
    "results = job_exp.result()\n",
    "answer = results.get_counts(circuit)\n",
    "print(\"Real Device Result\")\n",
    "for c1c0 in answer:\n",
    "    print(f'c0 = {c1c0[1]} ({answer[c1c0]} shots)')\n",
    "# As we can see in results, most of the results for C0 is 1\n",
    "# It indicates f(0) != f(1)\n",
    "# The results with C0 = 0 occur due to errors in the quantum computation."
   ]
  },
  {
   "cell_type": "code",
   "execution_count": 14,
   "metadata": {},
   "outputs": [
    {
     "data": {
      "image/png": "[encoded data removed]",
      "text/plain": [
       "<Figure size 971.628x264.88 with 1 Axes>"
      ]
     },
     "execution_count": 14,
     "metadata": {},
     "output_type": "execute_result"
    }
   ],
   "source": [
    "#For 3-Qubits\n",
    "qr = QuantumRegister(3)  # Initialize qubits\n",
    "cr = ClassicalRegister(3)  # Initialize bits for record measurements\n",
    "circuit = QuantumCircuit(qr, cr)\n",
    "\n",
    "circuit.x(qr[2])  # initialize the ancilla qubit in the |1> state\n",
    "\n",
    "circuit.barrier()\n",
    "\n",
    "# First step of quantum algorithms - Prepare the superposition\n",
    "# For superposition, we apply the Hadamard gate on all qubits\n",
    "circuit.h(qr[0])\n",
    "circuit.h(qr[1])\n",
    "circuit.h(qr[2])\n",
    "\n",
    "circuit.barrier()\n",
    "\n",
    "# Oracle function\n",
    "circuit.h(qr[0])\n",
    "circuit.cx(qr[1], qr[0])\n",
    "circuit.z(qr[2])\n",
    "circuit.h(qr[0])\n",
    "\n",
    "circuit.barrier()\n",
    "\n",
    "# Apply Hadamard gates after querying oracle function\n",
    "circuit.h(qr[0])\n",
    "circuit.h(qr[1])\n",
    "circuit.h(qr[2])\n",
    "\n",
    "circuit.barrier()\n",
    "\n",
    "# Measure qubit\n",
    "circuit.measure(qr[0], cr[0])\n",
    "circuit.measure(qr[1], cr[1])\n",
    "\n",
    "circuit.barrier()\n",
    "circuit.draw('mpl')"
   ]
  },
  {
   "cell_type": "code",
   "execution_count": 15,
   "metadata": {},
   "outputs": [
    {
     "name": "stdout",
     "output_type": "stream",
     "text": [
      "Simulator result\n",
      "000 is observed in 219 times\n",
      "001 is observed in 263 times\n",
      "011 is observed in 275 times\n",
      "010 is observed in 267 times\n"
     ]
    }
   ],
   "source": [
    "# Run our circuit with local simulator\n",
    "shots = 1024\n",
    "results = execute(circuit, backend=q_backend, shots=shots).result()\n",
    "answer = results.get_counts()\n",
    "print(\"Simulator result\")\n",
    "for c2c1c0 in answer:\n",
    "    print(f\"{c2c1c0} is observed in {answer[c2c1c0]} times\")\n",
    "# If we measure |0>^n, then f is constant, other results tell us that f is balanced\n"
   ]
  },
  {
   "cell_type": "code",
   "execution_count": 16,
   "metadata": {},
   "outputs": [
    {
     "data": {
      "image/png": "[encoded data removed]",
      "text/plain": [
       "<Figure size 971.628x325.08 with 1 Axes>"
      ]
     },
     "execution_count": 16,
     "metadata": {},
     "output_type": "execute_result"
    }
   ],
   "source": [
    "#For n-qubit\n",
    "n = 3\n",
    "oracle = \"b\"  # b for balanced, c for constant\n",
    "\n",
    "if oracle == \"b\":\n",
    "    b = 5\n",
    "if oracle == \"c\":\n",
    "    c = 0  # or 1\n",
    "\n",
    "qr = QuantumRegister(n+1)  # Initialize qubits\n",
    "cr = ClassicalRegister(n)  # Initialize bits for record measurements\n",
    "circuit = QuantumCircuit(qr, cr)\n",
    "\n",
    "circuit.x(qr[n])  # initialize the ancilla qubit in the |1> state\n",
    "\n",
    "circuit.barrier()\n",
    "\n",
    "# First step of quantum algorithms - Prepare the superposition\n",
    "# For superposition, we apply the Hadamard gate on all qubits\n",
    "circuit.h(qr)\n",
    "\n",
    "circuit.barrier()\n",
    "\n",
    "# Oracle function\n",
    "if oracle == \"c\":  # constant, return c\n",
    "    if c == 1:\n",
    "        circuit.x(qr[n])\n",
    "    else:\n",
    "        circuit.iden(qr[n])\n",
    "else:  # balanced, return inner product of input with b\n",
    "    for i in range(n):\n",
    "        if (b & (1 << i)):\n",
    "            circuit.cx(qr[i], qr[n])\n",
    "\n",
    "circuit.barrier()\n",
    "\n",
    "# Apply Hadamard gates after querying oracle function\n",
    "circuit.h(qr)\n",
    "\n",
    "circuit.barrier()\n",
    "\n",
    "# Measure qubits\n",
    "for i in range(n):\n",
    "    circuit.measure(qr[i], cr[i])\n",
    "\n",
    "circuit.barrier()\n",
    "circuit.draw('mpl')"
   ]
  },
  {
   "cell_type": "code",
   "execution_count": 17,
   "metadata": {},
   "outputs": [
    {
     "name": "stdout",
     "output_type": "stream",
     "text": [
      "Simulator result\n",
      "{'101': 1024}\n"
     ]
    }
   ],
   "source": [
    "# Run our circuit with local simulator\n",
    "shots = 1024\n",
    "results = execute(circuit, backend=q_backend, shots=shots).result()\n",
    "answer = results.get_counts()\n",
    "print(\"Simulator result\")\n",
    "print(answer)\n",
    "# If we measure |0>^n, then f is constant, other results tell us that f is balanced\n"
   ]
  },
  {
   "cell_type": "markdown",
   "metadata": {},
   "source": [
    "## The Real Way of Using the Algorithm"
   ]
  },
  {
   "cell_type": "code",
   "execution_count": 3,
   "metadata": {},
   "outputs": [
    {
     "data": {
      "image/png": "[encoded data removed]",
      "text/plain": [
       "<Figure size 1683.19x1769.88 with 1 Axes>"
      ]
     },
     "execution_count": 3,
     "metadata": {},
     "output_type": "execute_result"
    }
   ],
   "source": [
    "#Now let us create a bit string, based on that we use an Oracle to create a circuit\n",
    "#We have a bitstring, with which we will create an oracle\n",
    "bitstr = '11110000'\n",
    "oracle = TruthTableOracle(bitstr)\n",
    "\n",
    "#An oracle is nothing but a readymade circuit given by the algorithm\n",
    "oracle.circuit.draw(output='mpl')"
   ]
  },
  {
   "cell_type": "code",
   "execution_count": 6,
   "metadata": {},
   "outputs": [
    {
     "name": "stdout",
     "output_type": "stream",
     "text": [
      "The truth table 11110000 represents a balanced function.\n"
     ]
    }
   ],
   "source": [
    "#Now we run the Deutsch-Jozsa algorithm from qiskit aqua - created on this oracle\n",
    "dj = DeutschJozsa(oracle)\n",
    "result = dj.run(QuantumInstance(q_backend, shots=1024))\n",
    "print('The truth table {} represents a {} function.'.format(bitstr, result['result']))"
   ]
  },
  {
   "cell_type": "code",
   "execution_count": 8,
   "metadata": {},
   "outputs": [
    {
     "name": "stderr",
     "output_type": "stream",
     "text": [
      "E:\\DevelopmentEnvironments\\Anaconda3\\envs\\qiskit_env\\lib\\site-packages\\qiskit\\aqua\\qiskit_aqua.py:119: DeprecationWarning: Declarative API will be removed next Aqua release. Please construct classes and call appropriate methods.\n",
      "  warnings.warn(aqua_globals.CONFIG_DEPRECATION_MSG, DeprecationWarning)\n"
     ]
    },
    {
     "name": "stdout",
     "output_type": "stream",
     "text": [
      "The truth table 11110000 represents a balanced function.\n"
     ]
    }
   ],
   "source": [
    "#This is the parametric method to run the identical operation\n",
    "bitstr = '11110000'\n",
    "params = {\n",
    "    'problem': {\n",
    "        'name': 'functionevaluation',\n",
    "    },\n",
    "    'algorithm': {\n",
    "        'name': 'DeutschJozsa'\n",
    "    },\n",
    "    'oracle': {\n",
    "        'name': 'TruthTableOracle',\n",
    "        'bitmaps': [bitstr]\n",
    "    },\n",
    "    'backend': {\n",
    "        'shots': 1024,\n",
    "    },\n",
    "}\n",
    "\n",
    "result_dict = run_algorithm(params, backend=q_backend)\n",
    "print('The truth table {} represents a {} function.'.format(bitstr, result_dict['result']))"
   ]
  },
  {
   "cell_type": "code",
   "execution_count": 9,
   "metadata": {},
   "outputs": [
    {
     "name": "stdout",
     "output_type": "stream",
     "text": [
      "The truth table 11111111111111111111111111111111 represents a constant function.\n"
     ]
    }
   ],
   "source": [
    "#We may create the bit string this way as well\n",
    "bitstr = '1' * 32\n",
    "oracle = TruthTableOracle(bitstr)\n",
    "dj = DeutschJozsa(oracle)\n",
    "\n",
    "result = dj.run(QuantumInstance(q_backend, shots=1024))\n",
    "print('The truth table {} represents a {} function.'.format(bitstr, result['result']))"
   ]
  },
  {
   "cell_type": "code",
   "execution_count": null,
   "metadata": {},
   "outputs": [],
   "source": []
  }
 ],
 "metadata": {
  "kernelspec": {
   "display_name": "Python 3",
   "language": "python",
   "name": "python3"
  },
  "language_info": {
   "codemirror_mode": {
    "name": "ipython",
    "version": 3
   },
   "file_extension": ".py",
   "mimetype": "text/x-python",
   "name": "python",
   "nbconvert_exporter": "python",
   "pygments_lexer": "ipython3",
   "version": "3.8.2"
  }
 },
 "nbformat": 4,
 "nbformat_minor": 2
}
