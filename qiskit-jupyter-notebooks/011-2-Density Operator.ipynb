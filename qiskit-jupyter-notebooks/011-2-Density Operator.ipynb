{
 "cells": [
  {
   "cell_type": "markdown",
   "metadata": {},
   "source": [
    "# Density Operator"
   ]
  },
  {
   "cell_type": "code",
   "execution_count": 2,
   "metadata": {},
   "outputs": [],
   "source": [
    "\"\"\"Tests for DensityMatrix quantum state class.\"\"\"\n",
    "\n",
    "import unittest\n",
    "import logging\n",
    "import numpy as np\n",
    "from numpy.testing import assert_allclose\n",
    "\n",
    "from qiskit.test import QiskitTestCase\n",
    "from qiskit import QiskitError\n",
    "from qiskit import QuantumRegister, QuantumCircuit\n",
    "from qiskit.circuit.library import HGate\n",
    "\n",
    "from qiskit.quantum_info.random import random_unitary\n",
    "from qiskit.quantum_info.states import DensityMatrix, Statevector\n",
    "from qiskit.quantum_info.operators.operator import Operator\n",
    "\n",
    "logger = logging.getLogger(__name__)\n",
    "\n",
    "\n",
    "class TestDensityMatrix(QiskitTestCase):\n",
    "    \"\"\"Tests for DensityMatrix class.\"\"\"\n",
    "\n",
    "    @classmethod\n",
    "    def rand_vec(cls, n, normalize=False):\n",
    "        \"\"\"Return complex vector or statevector\"\"\"\n",
    "        seed = np.random.randint(0, np.iinfo(np.int32).max)\n",
    "        logger.debug(\"rand_vec default_rng seeded with seed=%s\", seed)\n",
    "        rng = np.random.default_rng(seed)\n",
    "        vec = rng.random(n) + 1j * rng.random(n)\n",
    "        if normalize:\n",
    "            vec /= np.sqrt(np.dot(vec, np.conj(vec)))\n",
    "        return vec\n",
    "\n",
    "    @classmethod\n",
    "    def rand_rho(cls, n):\n",
    "        \"\"\"Return random pure state density matrix\"\"\"\n",
    "        rho = cls.rand_vec(n, normalize=True)\n",
    "        return np.outer(rho, np.conjugate(rho))\n",
    "\n",
    "\n",
    "\n",
    "\n",
    "\n",
    "   \n",
    "\n",
    "\n",
    "\n",
    "    def test_sample_counts_qutrit(self):\n",
    "        \"\"\"Test sample_counts method for qutrit state\"\"\"\n",
    "        p = 0.3\n",
    "        shots = 1000\n",
    "        threshold = 0.03 * shots\n",
    "        state = DensityMatrix(np.diag([p, 0, 1 - p]))\n",
    "        state.seed(100)\n",
    "\n",
    "        with self.subTest(msg='counts'):\n",
    "            target = {'0': shots * p, '2': shots * (1 - p)}\n",
    "            counts = state.sample_counts(shots=shots)\n",
    "            self.assertDictAlmostEqual(counts, target, threshold)\n",
    "\n",
    "    def test_sample_memory_ghz(self):\n",
    "        \"\"\"Test sample_memory method for GHZ state\"\"\"\n",
    "\n",
    "        shots = 2000\n",
    "        state = DensityMatrix((\n",
    "            Statevector.from_label('000') +\n",
    "            Statevector.from_label('111')) / np.sqrt(2))\n",
    "        state.seed(100)\n",
    "\n",
    "        # 3-qubit qargs\n",
    "        target = {'000': shots / 2, '111': shots / 2}\n",
    "        for qargs in [[0, 1, 2], [2, 1, 0], [1, 2, 0], [1, 0, 2]]:\n",
    "\n",
    "            with self.subTest(msg='memory (qargs={})'.format(qargs)):\n",
    "                memory = state.sample_memory(shots, qargs=qargs)\n",
    "                self.assertEqual(len(memory), shots)\n",
    "                self.assertEqual(set(memory), set(target))\n",
    "\n",
    "        # 2-qubit qargs\n",
    "        target = {'00': shots / 2, '11': shots / 2}\n",
    "        for qargs in [[0, 1], [2, 1], [1, 2], [1, 2]]:\n",
    "\n",
    "            with self.subTest(msg='memory (qargs={})'.format(qargs)):\n",
    "                memory = state.sample_memory(shots, qargs=qargs)\n",
    "                self.assertEqual(len(memory), shots)\n",
    "                self.assertEqual(set(memory), set(target))\n",
    "\n",
    "        # 1-qubit qargs\n",
    "        target = {'0': shots / 2, '1': shots / 2}\n",
    "        for qargs in [[0], [1], [2]]:\n",
    "\n",
    "            with self.subTest(msg='memory (qargs={})'.format(qargs)):\n",
    "                memory = state.sample_memory(shots, qargs=qargs)\n",
    "                self.assertEqual(len(memory), shots)\n",
    "                self.assertEqual(set(memory), set(target))\n",
    "\n",
    "    def test_sample_memory_w(self):\n",
    "        \"\"\"Test sample_memory method for W state\"\"\"\n",
    "        shots = 3000\n",
    "        state = DensityMatrix((\n",
    "            Statevector.from_label('001') +\n",
    "            Statevector.from_label('010') +\n",
    "            Statevector.from_label('100')) / np.sqrt(3))\n",
    "        state.seed(100)\n",
    "\n",
    "        target = {'001': shots / 3, '010': shots / 3, '100': shots / 3}\n",
    "        for qargs in [[0, 1, 2], [2, 1, 0], [1, 2, 0], [1, 0, 2]]:\n",
    "\n",
    "            with self.subTest(msg='memory (qargs={})'.format(qargs)):\n",
    "                memory = state.sample_memory(shots, qargs=qargs)\n",
    "                self.assertEqual(len(memory), shots)\n",
    "                self.assertEqual(set(memory), set(target))\n",
    "\n",
    "        # 2-qubit qargs\n",
    "        target = {'00': shots / 3, '01': shots / 3, '10': shots / 3}\n",
    "        for qargs in [[0, 1], [2, 1], [1, 2], [1, 2]]:\n",
    "\n",
    "            with self.subTest(msg='memory (qargs={})'.format(qargs)):\n",
    "                memory = state.sample_memory(shots, qargs=qargs)\n",
    "                self.assertEqual(len(memory), shots)\n",
    "                self.assertEqual(set(memory), set(target))\n",
    "\n",
    "        # 1-qubit qargs\n",
    "        target = {'0': 2 * shots / 3, '1': shots / 3}\n",
    "        for qargs in [[0], [1], [2]]:\n",
    "\n",
    "            with self.subTest(msg='memory (qargs={})'.format(qargs)):\n",
    "                memory = state.sample_memory(shots, qargs=qargs)\n",
    "                self.assertEqual(len(memory), shots)\n",
    "                self.assertEqual(set(memory), set(target))\n",
    "\n",
    "    def test_sample_memory_qutrit(self):\n",
    "        \"\"\"Test sample_memory method for qutrit state\"\"\"\n",
    "        p = 0.3\n",
    "        shots = 1000\n",
    "        state = DensityMatrix(np.diag([p, 0, 1 - p]))\n",
    "        state.seed(100)\n",
    "\n",
    "        with self.subTest(msg='memory'):\n",
    "            memory = state.sample_memory(shots)\n",
    "            self.assertEqual(len(memory), shots)\n",
    "            self.assertEqual(set(memory), set(['0', '2']))\n",
    "\n",
    "    def test_reset_2qubit(self):\n",
    "        \"\"\"Test reset method for 2-qubit state\"\"\"\n",
    "\n",
    "        state = DensityMatrix(np.diag([0.5, 0, 0, 0.5]))\n",
    "\n",
    "        with self.subTest(msg='reset'):\n",
    "            rho = state.copy()\n",
    "            value = rho.reset()\n",
    "            target = DensityMatrix(np.diag([1, 0, 0, 0]))\n",
    "            self.assertEqual(value, target)\n",
    "\n",
    "        with self.subTest(msg='reset'):\n",
    "            rho = state.copy()\n",
    "            value = rho.reset([0, 1])\n",
    "            target = DensityMatrix(np.diag([1, 0, 0, 0]))\n",
    "            self.assertEqual(value, target)\n",
    "\n",
    "        with self.subTest(msg='reset [0]'):\n",
    "            rho = state.copy()\n",
    "            value = rho.reset([0])\n",
    "            target = DensityMatrix(np.diag([0.5, 0, 0.5, 0]))\n",
    "            self.assertEqual(value, target)\n",
    "\n",
    "        with self.subTest(msg='reset [0]'):\n",
    "            rho = state.copy()\n",
    "            value = rho.reset([1])\n",
    "            target = DensityMatrix(np.diag([0.5, 0.5, 0, 0]))\n",
    "            self.assertEqual(value, target)\n",
    "\n",
    "    def test_reset_qutrit(self):\n",
    "        \"\"\"Test reset method for qutrit\"\"\"\n",
    "\n",
    "        state = DensityMatrix(np.diag([1, 1, 1]) / 3)\n",
    "        state.seed(200)\n",
    "        value = state.reset()\n",
    "        target = DensityMatrix(np.diag([1, 0, 0]))\n",
    "        self.assertEqual(value, target)\n",
    "\n",
    "    def test_measure_2qubit(self):\n",
    "        \"\"\"Test measure method for 2-qubit state\"\"\"\n",
    "\n",
    "        state = DensityMatrix.from_label('+0')\n",
    "        seed = 200\n",
    "        shots = 100\n",
    "\n",
    "        with self.subTest(msg='measure'):\n",
    "            for i in range(shots):\n",
    "                rho = state.copy()\n",
    "                rho.seed(seed + i)\n",
    "                outcome, value = rho.measure()\n",
    "                self.assertIn(outcome, ['00', '10'])\n",
    "                if outcome == '00':\n",
    "                    target = DensityMatrix.from_label('00')\n",
    "                    self.assertEqual(value, target)\n",
    "                else:\n",
    "                    target = DensityMatrix.from_label('10')\n",
    "                    self.assertEqual(value, target)\n",
    "\n",
    "        with self.subTest(msg='measure [0, 1]'):\n",
    "            for i in range(shots):\n",
    "                rho = state.copy()\n",
    "                outcome, value = rho.measure([0, 1])\n",
    "                self.assertIn(outcome, ['00', '10'])\n",
    "                if outcome == '00':\n",
    "                    target = DensityMatrix.from_label('00')\n",
    "                    self.assertEqual(value, target)\n",
    "                else:\n",
    "                    target = DensityMatrix.from_label('10')\n",
    "                    self.assertEqual(value, target)\n",
    "\n",
    "        with self.subTest(msg='measure [1, 0]'):\n",
    "            for i in range(shots):\n",
    "                rho = state.copy()\n",
    "                outcome, value = rho.measure([1, 0])\n",
    "                self.assertIn(outcome, ['00', '01'])\n",
    "                if outcome == '00':\n",
    "                    target = DensityMatrix.from_label('00')\n",
    "                    self.assertEqual(value, target)\n",
    "                else:\n",
    "                    target = DensityMatrix.from_label('10')\n",
    "                    self.assertEqual(value, target)\n",
    "        with self.subTest(msg='measure [0]'):\n",
    "            for i in range(shots):\n",
    "                rho = state.copy()\n",
    "                outcome, value = rho.measure([0])\n",
    "                self.assertEqual(outcome, '0')\n",
    "                target = DensityMatrix.from_label('+0')\n",
    "                self.assertEqual(value, target)\n",
    "\n",
    "        with self.subTest(msg='measure [1]'):\n",
    "            for i in range(shots):\n",
    "                rho = state.copy()\n",
    "                outcome, value = rho.measure([1])\n",
    "                self.assertIn(outcome, ['0', '1'])\n",
    "                if outcome == '0':\n",
    "                    target = DensityMatrix.from_label('00')\n",
    "                    self.assertEqual(value, target)\n",
    "                else:\n",
    "                    target = DensityMatrix.from_label('10')\n",
    "                    self.assertEqual(value, target)\n",
    "\n",
    "    def test_measure_qutrit(self):\n",
    "        \"\"\"Test measure method for qutrit\"\"\"\n",
    "\n",
    "        state = DensityMatrix(np.diag([1, 1, 1]) / 3)\n",
    "        seed = 200\n",
    "        shots = 100\n",
    "\n",
    "        for i in range(shots):\n",
    "            rho = state.copy()\n",
    "            rho.seed(seed + i)\n",
    "            outcome, value = rho.measure()\n",
    "            self.assertIn(outcome, ['0', '1', '2'])\n",
    "            if outcome == '0':\n",
    "                target = DensityMatrix(np.diag([1, 0, 0]))\n",
    "                self.assertEqual(value, target)\n",
    "            elif outcome == '1':\n",
    "                target = DensityMatrix(np.diag([0, 1, 0]))\n",
    "                self.assertEqual(value, target)\n",
    "            else:\n",
    "                target = DensityMatrix(np.diag([0, 0, 1]))\n",
    "                self.assertEqual(value, target)\n",
    "\n",
    "    def test_from_int(self):\n",
    "        \"\"\"Test from_int method\"\"\"\n",
    "\n",
    "        with self.subTest(msg='from_int(0, 4)'):\n",
    "            target = DensityMatrix([1, 0, 0, 0])\n",
    "            value = DensityMatrix.from_int(0, 4)\n",
    "            self.assertEqual(target, value)\n",
    "\n",
    "        with self.subTest(msg='from_int(3, 4)'):\n",
    "            target = DensityMatrix([0, 0, 0, 1])\n",
    "            value = DensityMatrix.from_int(3, 4)\n",
    "            self.assertEqual(target, value)\n",
    "\n",
    "        with self.subTest(msg='from_int(8, (3, 3))'):\n",
    "            target = DensityMatrix([0, 0, 0, 0, 0, 0, 0, 0, 1], dims=(3, 3))\n",
    "            value = DensityMatrix.from_int(8, (3, 3))\n",
    "            self.assertEqual(target, value)"
   ]
  },
  {
   "cell_type": "code",
   "execution_count": 42,
   "metadata": {},
   "outputs": [
    {
     "name": "stdout",
     "output_type": "stream",
     "text": [
      "[[0.33679343+0.j         0.26823991+0.06549898j 0.26243789+0.27972702j]\n",
      " [0.26823991-0.06549898j 0.22637842+0.j         0.26342007+0.17175079j]\n",
      " [0.26243789-0.27972702j 0.26342007-0.17175079j 0.43682816+0.j        ]]\n",
      "[[0.33679343+0.j         0.26823991+0.06549898j 0.26243789+0.27972702j]\n",
      " [0.26823991-0.06549898j 0.22637842+0.j         0.26342007+0.17175079j]\n",
      " [0.26243789-0.27972702j 0.26342007-0.17175079j 0.43682816+0.j        ]]\n",
      "total state dimension :  3\n",
      "tuple of input dimension for specified subsystems :  (3,)\n",
      "number of qubits if a N-qubit state :  None\n"
     ]
    }
   ],
   "source": [
    "def get_random_density_operator(n):\n",
    "    # complex vector or statevector\n",
    "    seed = np.random.randint(0, np.iinfo(np.int32).max)\n",
    "    logger.debug(\"rand_vec default_rng seeded with seed=%s\", seed)\n",
    "    rng = np.random.default_rng(seed)\n",
    "    psi = rng.random(n) + 1j * rng.random(n)\n",
    "    # Normalize\n",
    "    psi /= np.sqrt(np.dot(psi, np.conj(psi)))\n",
    "\n",
    "    # random pure state density matrix\n",
    "    return (np.outer(psi, np.conjugate(psi)))\n",
    "\n",
    "# initialization from array\n",
    "rho = get_random_density_operator(3)\n",
    "print(rho)\n",
    "# Create DensityMatrix\n",
    "state = DensityMatrix(rho)\n",
    "# Properties of a Density Matrix\n",
    "print(state.data)\n",
    "print('total state dimension : ',state.dim)\n",
    "print('tuple of input dimension for specified subsystems : ',state.dims())\n",
    "print('number of qubits if a N-qubit state : ',state.num_qubits)"
   ]
  },
  {
   "cell_type": "code",
   "execution_count": 39,
   "metadata": {},
   "outputs": [
    {
     "name": "stdout",
     "output_type": "stream",
     "text": [
      "[[0.03997151+0.j         0.02247384+0.03998379j 0.05549658+0.01880803j\n",
      "  0.02904286+0.02315477j 0.01837818+0.04079191j 0.01695893+0.03213783j\n",
      "  0.0368192 +0.00051635j 0.02757563+0.03027465j 0.02249149+0.0375764j\n",
      "  0.0263605 -0.00744055j 0.02844816+0.00856897j 0.01258358+0.00336552j\n",
      "  0.05056514+0.00487476j 0.03211058-0.00593447j 0.03946973+0.02998035j\n",
      "  0.04276387+0.0309114j  0.042175  +0.02661502j 0.04112696-0.00801156j\n",
      "  0.02346026-0.0035793j  0.00853885+0.00977146j 0.02366835+0.01638645j\n",
      "  0.03099769+0.03469069j 0.0459198 +0.00179368j 0.04380624+0.02225376j]\n",
      " [0.02247384-0.03998379j 0.0526319 +0.j         0.05001655-0.04493888j\n",
      "  0.03949112-0.01603309j 0.05113751+0.00455128j 0.04168279+0.00110524j\n",
      "  0.02121797-0.03654019j 0.04578825-0.01056229j 0.05023369-0.0013712j\n",
      "  0.00737826-0.03055202j 0.02456648-0.02363902j 0.01044163-0.0106952j\n",
      "  0.03330633-0.04783985j 0.01211777-0.03545707j 0.05218127-0.02262551j\n",
      "  0.05496472-0.02539718j 0.05033594-0.02722375j 0.01510946-0.04564406j\n",
      "  0.00961005-0.02547991j 0.0145754 -0.0030475j  0.02969892-0.01446239j\n",
      "  0.05212969-0.0115025j  0.02761247-0.04492541j 0.04689049-0.0313076j ]\n",
      " [0.05549658-0.01880803j 0.05001655+0.04493888j 0.08590148+0.j\n",
      "  0.05121835+0.01848245j 0.04471039+0.04798803j 0.03866783+0.03664048j\n",
      "  0.05136286-0.01660785j 0.05253141+0.0290581j  0.04890829+0.04158814j\n",
      "  0.03309796-0.02273404j 0.04352952-0.00148869j 0.01905469-0.00124833j\n",
      "  0.07249856-0.01702457j 0.04179006-0.02334861j 0.06890673+0.0230529j\n",
      "  0.07391842+0.02279556j 0.07107923+0.01710754j 0.05333108-0.03047499j\n",
      "  0.03088812-0.0160084j  0.01645319+0.0095489j  0.04057162+0.0116142j\n",
      "  0.05936051+0.03357915j 0.0645992 -0.01911656j 0.07129191+0.01028479j]\n",
      " [0.02904286-0.02315477j 0.03949112+0.01603309j 0.05121835-0.01848245j\n",
      "  0.03451535+0.j         0.0369834 +0.01899281j 0.03093903+0.01352699j\n",
      "  0.02705154-0.02095352j 0.0375737 +0.00602317j 0.03810938+0.01427369j\n",
      "  0.01484307-0.02067638j 0.02563397-0.01025338j 0.01109268-0.00484409j\n",
      "  0.03956393-0.02574951j 0.01989347-0.02291299j 0.04604534-0.0010807j\n",
      "  0.04897817-0.00231245j 0.04606149-0.00509303j 0.02524144-0.02964521j\n",
      "  0.01497255-0.01619078j 0.01186466+0.00215344j 0.02668953-0.00180443j\n",
      "  0.04261827+0.00724948j 0.03440387-0.02529724j 0.04472032-0.00920682j]\n",
      " [0.01837818-0.04079191j 0.05113751-0.00455128j 0.04471039-0.04798803j\n",
      "  0.0369834 -0.01899281j 0.05007912+0.j         0.04059486-0.00253061j\n",
      "  0.01745576-0.0373375j  0.04357481-0.01422187j 0.04868882-0.00567616j\n",
      "  0.00452682-0.03032257j 0.0218248 -0.02509219j 0.0092203 -0.01129445j\n",
      "  0.02822376-0.04936164j 0.0087076 -0.0354982j  0.04874316-0.02649541j\n",
      "  0.05120791-0.02942908j 0.0465526 -0.03080352j 0.01073344-0.04565465j\n",
      "  0.00713385-0.02558747j 0.01389803-0.00422136j 0.02760506-0.01661994j\n",
      "  0.04965489-0.01568375j 0.0229436 -0.04603759j 0.04285183-0.03447347j]\n",
      " [0.01695893-0.03213783j 0.04168279-0.00110524j 0.03866783-0.03664048j\n",
      "  0.03093903-0.01352699j 0.04059486+0.00253061j 0.03303466+0.j\n",
      "  0.01603664-0.02938424j 0.03604104-0.00932652j 0.03975469-0.00214082j\n",
      "  0.00520177-0.02435117j 0.01895946-0.01923723j 0.00804484-0.00868952j\n",
      "  0.02537294-0.03858705j 0.00885231-0.02833534j 0.04085078-0.01901446j\n",
      "  0.04299699-0.02126799j 0.03929278-0.02261737j 0.01100772-0.03646594j\n",
      "  0.00707579-0.02038109j 0.01147926-0.0027196j  0.0232169 -0.01207742j\n",
      "  0.04104351-0.0102043j  0.02092479-0.03615935j 0.03647834-0.02577929j]\n",
      " [0.0368192 -0.00051635j 0.02121797+0.03654019j 0.05136286+0.01660785j\n",
      "  0.02705154+0.02095352j 0.01745576+0.0373375j  0.01603664+0.02938424j\n",
      "  0.03392217+0.j         0.025792  +0.02753085j 0.02120313+0.03432243j\n",
      "  0.02418549-0.00719428j 0.02631532+0.0075257j  0.01163467+0.00293755j\n",
      "  0.04664035+0.00383712j 0.02950156-0.00588125j 0.03674428+0.02710612j\n",
      "  0.03979066+0.02792119j 0.03919273+0.02397125j 0.03778004-0.00791102j\n",
      "  0.02156386-0.00360008j 0.00799167+0.00889054j 0.02201345+0.0147884j\n",
      "  0.02900123+0.03155442j 0.04232156+0.00105903j 0.04063898+0.01993285j]\n",
      " [0.02757563-0.03027465j 0.04578825+0.01056229j 0.05253141-0.0290581j\n",
      "  0.0375737 -0.00602317j 0.04357481+0.01422187j 0.03604104+0.00932652j\n",
      "  0.025792  -0.02753085j 0.04195413+0.j         0.04397705+0.00888811j\n",
      "  0.01255012-0.0250987j  0.02611607-0.01563522j 0.01123025-0.00720907j\n",
      "  0.03857616-0.03493531j 0.01765772-0.02841482j 0.04993675-0.00921169j\n",
      "  0.05291451-0.01106437j 0.04925415-0.01358236j 0.02230476-0.03667683j\n",
      "  0.01347384-0.02023823j 0.01329176+0.00027378j 0.02873956-0.00662182j\n",
      "  0.04765969+0.00045466j 0.0330378 -0.03354249j 0.04707626-0.01782662j]\n",
      " [0.02249149-0.0375764j  0.05023369+0.0013712j  0.04890829-0.04158814j\n",
      "  0.03810938-0.01427369j 0.04868882+0.00567616j 0.03975469+0.00214082j\n",
      "  0.02120313-0.03432243j 0.04397705-0.00888811j 0.04798048+0.j\n",
      "  0.00783803-0.02896767j 0.02406295-0.02192187j 0.01024449-0.00993583j\n",
      "  0.03303506-0.04479228j 0.01248937-0.03352575j 0.05039305-0.0202351j\n",
      "  0.05312189-0.02280796j 0.0487516 -0.0246719j  0.01561014-0.04317062j\n",
      "  0.00983598-0.02406854j 0.01399066-0.00252891j 0.02872246-0.01302967j\n",
      "  0.05005403-0.00962026j 0.02752472-0.04215898j 0.04556954-0.02865942j]\n",
      " [0.0263605 +0.00744055j 0.00737826+0.03055202j 0.03309796+0.02273404j\n",
      "  0.01484307+0.02067638j 0.00452682+0.03032257j 0.00520177+0.02435117j\n",
      "  0.02418549+0.00719428j 0.01255012+0.0250987j  0.00783803+0.02896767j\n",
      "  0.01876931+0.j         0.01716597+0.0109466j  0.00767217+0.00456189j\n",
      "  0.03243939+0.01262734j 0.02228104+0.00206359j 0.02044885+0.02711865j\n",
      "  0.02244797+0.02834586j 0.02285937+0.02540286j 0.02861382+0.00237215j\n",
      "  0.0161379 +0.00200656j 0.0038123 +0.00803358j 0.01255858+0.01521235j\n",
      "  0.01398488+0.028648j   0.02994941+0.0097307j  0.02474698+0.02283033j]\n",
      " [0.02844816-0.00856897j 0.02456648+0.02363902j 0.04352952+0.00148869j\n",
      "  0.02563397+0.01025338j 0.0218248 +0.02509219j 0.01895946+0.01923723j\n",
      "  0.02631532-0.0075257j  0.02611607+0.01563522j 0.02406295+0.02192187j\n",
      "  0.01716597-0.0109466j  0.02208385+0.j         0.00967736-0.00030235j\n",
      "  0.03703279-0.00737058j 0.02158124-0.01110739j 0.03451813+0.01287594j\n",
      "  0.0370622 +0.01283239j 0.03572205+0.00990085j 0.02755301-0.01451859j\n",
      "  0.0159296 -0.00757677j 0.00817197+0.00512392j 0.0203579 +0.00658846j\n",
      "  0.02949828+0.01804455j 0.03306614-0.00856757j 0.03594807+0.00644719j]\n",
      " [0.01258358-0.00336552j 0.01044163+0.0106952j  0.01905469+0.00124833j\n",
      "  0.01109268+0.00484409j 0.0092203 +0.01129445j 0.00804484+0.00868952j\n",
      "  0.01163467-0.00293755j 0.01123025+0.00720907j 0.01024449+0.00993583j\n",
      "  0.00767217-0.00456189j 0.00967736+0.00030235j 0.00424486+0.j\n",
      "  0.01632905-0.00272284j 0.00960919-0.0045719j  0.0149499 +0.00611496j\n",
      "  0.01606533+0.00613071j 0.0155182 +0.00482773j 0.01227278-0.00598496j\n",
      "  0.00708425-0.00310212j 0.00351088+0.00235724j 0.00883083+0.00316585j\n",
      "  0.01267939+0.00831117j 0.01460721-0.00330168j 0.01566453+0.00331739j]\n",
      " [0.05056514-0.00487476j 0.03330633+0.04783985j 0.07249856+0.01702457j\n",
      "  0.03956393+0.02574951j 0.02822376+0.04936164j 0.02537294+0.03858705j\n",
      "  0.04664035-0.00383712j 0.03857616+0.03493531j 0.03303506+0.04479228j\n",
      "  0.03243939-0.01262734j 0.03703279+0.00737058j 0.01632905+0.00272284j\n",
      "  0.06456089+0.j         0.03989709-0.01142335j 0.05358665+0.03311246j\n",
      "  0.05786738+0.03388852j 0.05659848+0.02852529j 0.05104976-0.01515054j\n",
      "  0.02924141-0.00738904j 0.01199358+0.01131982j 0.03193958+0.01784284j\n",
      "  0.04344373+0.04010439j 0.05830865-0.00333114j 0.05813016+0.02280922j]\n",
      " [0.03211058+0.00593447j 0.01211777+0.03545707j 0.04179006+0.02334861j\n",
      "  0.01989347+0.02291299j 0.0087076 +0.0354982j  0.00885231+0.02833534j\n",
      "  0.02950156+0.00588125j 0.01765772+0.02841482j 0.01248937+0.03352575j\n",
      "  0.02228104-0.00206359j 0.02158124+0.01110739j 0.00960919+0.0045719j\n",
      "  0.03989709+0.01142335j 0.02667668+0.j         0.02725638+0.02994428j\n",
      "  0.02976445+0.0311813j  0.02992926+0.02764244j 0.03422825-0.00032997j\n",
      "  0.0193779 +0.0006077j  0.00540883+0.00911751j 0.0165808 +0.01667781j\n",
      "  0.01975115+0.03247045j 0.03662276+0.00825852j 0.0318872 +0.02438106j]\n",
      " [0.03946973-0.02998035j 0.05218127+0.02262551j 0.06890673-0.0230529j\n",
      "  0.04604534+0.0010807j  0.04874316+0.02649541j 0.04085078+0.01901446j\n",
      "  0.03674428-0.02710612j 0.04993675+0.00921169j 0.05039305+0.0202351j\n",
      "  0.02044885-0.02711865j 0.03451813-0.01287594j 0.0149499 -0.00611496j\n",
      "  0.05358665-0.03311246j 0.02725638-0.02994428j 0.0614608 +0.j\n",
      "  0.06541191-0.00155138j 0.06160797-0.00535215j 0.03460166-0.03875798j\n",
      "  0.02048113-0.02113057j 0.01576067+0.00324429j 0.03566177-0.00157153j\n",
      "  0.05662807+0.0110056j  0.04668869-0.03267066j 0.05994759-0.01088216j]\n",
      " [0.04276387-0.0309114j  0.05496472+0.02539718j 0.07391842-0.02279556j\n",
      "  0.04897817+0.00231245j 0.05120791+0.02942908j 0.04299699+0.02126799j\n",
      "  0.03979066-0.02792119j 0.05291451+0.01106437j 0.05312189+0.02280796j\n",
      "  0.02244797-0.02834586j 0.0370622 -0.01283239j 0.01606533-0.00613071j\n",
      "  0.05786738-0.03388852j 0.02976445-0.0311813j  0.06541191+0.00155138j\n",
      "  0.0696562 +0.j         0.06570365-0.00414112j 0.03780441-0.04037619j\n",
      "  0.02233117-0.02197201j 0.01669198+0.00385069j 0.03799402-0.0007724j\n",
      "  0.05999071+0.01314251j 0.05051482-0.03359245j 0.06407611-0.01006856j]\n",
      " [0.042175  -0.02661502j 0.05033594+0.02722375j 0.07107923-0.01710754j\n",
      "  0.04606149+0.00509303j 0.0465526 +0.03080352j 0.03929278+0.02261737j\n",
      "  0.03919273-0.02397125j 0.04925415+0.01358236j 0.0487516 +0.0246719j\n",
      "  0.02285937-0.02540286j 0.03572205-0.00990085j 0.0155182 -0.00482773j\n",
      "  0.05659848-0.02852529j 0.02992926-0.02764244j 0.06160797+0.00535215j\n",
      "  0.06570365+0.00414112j 0.06222157+0.j         0.03805965-0.03583759j\n",
      "  0.02237027-0.01939762j 0.01551589+0.00462454j 0.03588401+0.00153021j\n",
      "  0.05580528+0.01596326j 0.04964552-0.02868314j 0.06103878-0.00568785j]\n",
      " [0.04112696+0.00801156j 0.01510946+0.04564406j 0.05333108+0.03047499j\n",
      "  0.02524144+0.02964521j 0.01073344+0.04565465j 0.01100772+0.03646594j\n",
      "  0.03778004+0.00791102j 0.02230476+0.03667683j 0.01561014+0.04317062j\n",
      "  0.02861382-0.00237215j 0.02755301+0.01451859j 0.01227278+0.00598496j\n",
      "  0.05104976+0.01515054j 0.03422825+0.00032997j 0.03460166+0.03875798j\n",
      "  0.03780441+0.04037619j 0.03805965+0.03583759j 0.04392159+0.j\n",
      "  0.02485583+0.00101942j 0.00682717+0.01176538j 0.02106816+0.02160402j\n",
      "  0.02494062+0.04190642j 0.04688769+0.01104932j 0.04061218+0.03167721j]\n",
      " [0.02346026+0.0035793j  0.00961005+0.02547991j 0.03088812+0.0160084j\n",
      "  0.01497255+0.01619078j 0.00713385+0.02558747j 0.00707579+0.02038109j\n",
      "  0.02156386+0.00360008j 0.01347384+0.02023823j 0.00983598+0.02406854j\n",
      "  0.0161379 -0.00200656j 0.0159296 +0.00757677j 0.00708425+0.00310212j\n",
      "  0.02924141+0.00738904j 0.0193779 -0.0006077j  0.02048113+0.02113057j\n",
      "  0.02233117+0.02197201j 0.02237027+0.01939762j 0.02485583-0.00101942j\n",
      "  0.01408992+0.j         0.00413666+0.00649973j 0.01242419+0.01173702j\n",
      "  0.01508689+0.02313655j 0.02679084+0.0051647j  0.02371822+0.01698396j]\n",
      " [0.00853885-0.00977146j 0.0145754 +0.0030475j  0.01645319-0.0095489j\n",
      "  0.01186466-0.00215344j 0.01389803+0.00422136j 0.01147926+0.0027196j\n",
      "  0.00799167-0.00889054j 0.01329176-0.00027378j 0.01399066+0.00252891j\n",
      "  0.0038123 -0.00803358j 0.00817197-0.00512392j 0.00351088-0.00235724j\n",
      "  0.01199358-0.01131982j 0.00540883-0.00911751j 0.01576067-0.00324429j\n",
      "  0.01669198-0.00385069j 0.01551589-0.00462454j 0.00682717-0.01176538j\n",
      "  0.00413666-0.00649973j 0.00421283+0.j         0.00906195-0.00228545j\n",
      "  0.01510234-0.00016697j 0.01024803-0.01084241j 0.0147982 -0.00595498j]\n",
      " [0.02366835-0.01638645j 0.02969892+0.01446239j 0.04057162-0.0116142j\n",
      "  0.02668953+0.00180443j 0.02760506+0.01661994j 0.0232169 +0.01207742j\n",
      "  0.02201345-0.0147884j  0.02873956+0.00662182j 0.02872246+0.01302967j\n",
      "  0.01255858-0.01521235j 0.0203579 -0.00658846j 0.00883083-0.00316585j\n",
      "  0.03193958-0.01784284j 0.0165808 -0.01667781j 0.03566177+0.00157153j\n",
      "  0.03799402+0.0007724j  0.03588401-0.00153021j 0.02106816-0.02160402j\n",
      "  0.01242419-0.01173702j 0.00906195+0.00228545j 0.02073243+0.j\n",
      "  0.03257624+0.00783381j 0.02792584-0.01776288j 0.035062  -0.00478138j]\n",
      " [0.03099769-0.03469069j 0.05212969+0.0115025j  0.05936051-0.03357915j\n",
      "  0.04261827-0.00724948j 0.04965489+0.01568375j 0.04104351+0.0102043j\n",
      "  0.02900123-0.03155442j 0.04765969-0.00045466j 0.05005403+0.00962026j\n",
      "  0.01398488-0.028648j   0.02949828-0.01804455j 0.01267939-0.00831117j\n",
      "  0.04344373-0.04010439j 0.01975115-0.03247045j 0.05662807-0.0110056j\n",
      "  0.05999071-0.01314251j 0.05580528-0.01596326j 0.02494062-0.04190642j\n",
      "  0.01508689-0.02313655j 0.01510234+0.00016697j 0.03257624-0.00783381j\n",
      "  0.05414609+0.j         0.03716727-0.03846214j 0.05328521-0.02076113j]\n",
      " [0.0459198 -0.00179368j 0.02761247+0.04492541j 0.0645992 +0.01911656j\n",
      "  0.03440387+0.02529724j 0.0229436 +0.04603759j 0.02092479+0.03615935j\n",
      "  0.04232156-0.00105903j 0.0330378 +0.03354249j 0.02752472+0.04215898j\n",
      "  0.02994941-0.0097307j  0.03306614+0.00856757j 0.01460721+0.00330168j\n",
      "  0.05830865+0.00333114j 0.03662276-0.00825852j 0.04668869+0.03267066j\n",
      "  0.05051482+0.03359245j 0.04964552+0.02868314j 0.04688769-0.01104932j\n",
      "  0.02679084-0.0051647j  0.01024803+0.01084241j 0.02792584+0.01776288j\n",
      "  0.03716727+0.03846214j 0.05283377+0.j         0.0513238 +0.02359965j]\n",
      " [0.04380624-0.02225376j 0.04689049+0.0313076j  0.07129191-0.01028479j\n",
      "  0.04472032+0.00920682j 0.04285183+0.03447347j 0.03647834+0.02577929j\n",
      "  0.04063898-0.01993285j 0.04707626+0.01782662j 0.04556954+0.02865942j\n",
      "  0.02474698-0.02283033j 0.03594807-0.00644719j 0.01566453-0.00331739j\n",
      "  0.05813016-0.02280922j 0.0318872 -0.02438106j 0.05994759+0.01088216j\n",
      "  0.06407611+0.01006856j 0.06103878+0.00568785j 0.04061218-0.03167721j\n",
      "  0.02371822-0.01698396j 0.0147982 +0.00595498j 0.035062  +0.00478138j\n",
      "  0.05328521+0.02076113j 0.0513238 -0.02359965j 0.06039842+0.j        ]]\n",
      "24 (2, 3, 4) None\n"
     ]
    }
   ],
   "source": [
    "rho = get_random_density_operator(2 * 3 * 4)\n",
    "state = DensityMatrix(rho, dims=[2, 3, 4])\n",
    "print(state.data)\n",
    "#print(rho)\n",
    "print(state.dim, state.dims(),state.num_qubits)"
   ]
  },
  {
   "cell_type": "code",
   "execution_count": 40,
   "metadata": {},
   "outputs": [
    {
     "name": "stdout",
     "output_type": "stream",
     "text": [
      "DensityMatrix([[ 0.52553912+0.j        , -0.02504245+0.21062109j,\n",
      "                -0.09143598+0.40911339j, -0.15960397-0.05613958j],\n",
      "               [-0.02504245-0.21062109j,  0.08560422+0.j        ,\n",
      "                 0.16831799+0.01715029j, -0.01489386+0.06663982j],\n",
      "               [-0.09143598-0.40911339j,  0.16831799-0.01715029j,\n",
      "                 0.33438863+0.j        , -0.01593394+0.13401342j],\n",
      "               [-0.15960397+0.05613958j, -0.01489386-0.06663982j,\n",
      "                -0.01593394-0.13401342j,  0.05446803+0.j        ]],\n",
      "              dims=(2, 2))\n",
      "DensityMatrix([[ 0.52553912+0.j        , -0.02504245+0.21062109j,\n",
      "                -0.09143598+0.40911339j, -0.15960397-0.05613958j],\n",
      "               [-0.02504245-0.21062109j,  0.08560422+0.j        ,\n",
      "                 0.16831799+0.01715029j, -0.01489386+0.06663982j],\n",
      "               [-0.09143598-0.40911339j,  0.16831799-0.01715029j,\n",
      "                 0.33438863+0.j        , -0.01593394+0.13401342j],\n",
      "               [-0.15960397+0.05613958j, -0.01489386-0.06663982j,\n",
      "                -0.01593394-0.13401342j,  0.05446803+0.j        ]],\n",
      "              dims=(2, 2))\n"
     ]
    }
   ],
   "source": [
    "# Test initialization from a circuit\n",
    "# random unitaries\n",
    "u0 = random_unitary(2).data\n",
    "u1 = random_unitary(2).data\n",
    "# add to circuit\n",
    "qr = QuantumRegister(2)\n",
    "circ = QuantumCircuit(qr)\n",
    "circ.unitary(u0, [qr[0]])\n",
    "circ.unitary(u1, [qr[1]])\n",
    "target_vec = Statevector(np.kron(u1, u0).dot([1, 0, 0, 0]))\n",
    "target = DensityMatrix(target_vec)\n",
    "# we retrieve the density matrix of an instruction\n",
    "rho = DensityMatrix.from_instruction(circ)\n",
    "print(rho)\n",
    "print(target)"
   ]
  },
  {
   "cell_type": "code",
   "execution_count": 7,
   "metadata": {},
   "outputs": [
    {
     "name": "stdout",
     "output_type": "stream",
     "text": [
      "DensityMatrix([[0.  +0.j, 0.  +0.j, 0.  +0.j, 0.  +0.j, 0.  +0.j,\n",
      "                0.  +0.j, 0.  +0.j, 0.  +0.j],\n",
      "               [0.  +0.j, 0.  +0.j, 0.  +0.j, 0.  +0.j, 0.  +0.j,\n",
      "                0.  +0.j, 0.  +0.j, 0.  +0.j],\n",
      "               [0.  +0.j, 0.  +0.j, 0.25+0.j, 0.25+0.j, 0.  +0.j,\n",
      "                0.  +0.j, 0.25+0.j, 0.25+0.j],\n",
      "               [0.  +0.j, 0.  +0.j, 0.25+0.j, 0.25+0.j, 0.  +0.j,\n",
      "                0.  +0.j, 0.25+0.j, 0.25+0.j],\n",
      "               [0.  +0.j, 0.  +0.j, 0.  +0.j, 0.  +0.j, 0.  +0.j,\n",
      "                0.  +0.j, 0.  +0.j, 0.  +0.j],\n",
      "               [0.  +0.j, 0.  +0.j, 0.  +0.j, 0.  +0.j, 0.  +0.j,\n",
      "                0.  +0.j, 0.  +0.j, 0.  +0.j],\n",
      "               [0.  +0.j, 0.  +0.j, 0.25+0.j, 0.25+0.j, 0.  +0.j,\n",
      "                0.  +0.j, 0.25+0.j, 0.25+0.j],\n",
      "               [0.  +0.j, 0.  +0.j, 0.25+0.j, 0.25+0.j, 0.  +0.j,\n",
      "                0.  +0.j, 0.25+0.j, 0.25+0.j]],\n",
      "              dims=(2, 2, 2))\n",
      "DensityMatrix([[0.  +0.j, 0.  +0.j, 0.  +0.j, 0.  +0.j, 0.  +0.j,\n",
      "                0.  +0.j, 0.  +0.j, 0.  +0.j],\n",
      "               [0.  +0.j, 0.  +0.j, 0.  +0.j, 0.  +0.j, 0.  +0.j,\n",
      "                0.  +0.j, 0.  +0.j, 0.  +0.j],\n",
      "               [0.  +0.j, 0.  +0.j, 0.25+0.j, 0.25+0.j, 0.  +0.j,\n",
      "                0.  +0.j, 0.25+0.j, 0.25+0.j],\n",
      "               [0.  +0.j, 0.  +0.j, 0.25+0.j, 0.25+0.j, 0.  +0.j,\n",
      "                0.  +0.j, 0.25+0.j, 0.25+0.j],\n",
      "               [0.  +0.j, 0.  +0.j, 0.  +0.j, 0.  +0.j, 0.  +0.j,\n",
      "                0.  +0.j, 0.  +0.j, 0.  +0.j],\n",
      "               [0.  +0.j, 0.  +0.j, 0.  +0.j, 0.  +0.j, 0.  +0.j,\n",
      "                0.  +0.j, 0.  +0.j, 0.  +0.j],\n",
      "               [0.  +0.j, 0.  +0.j, 0.25+0.j, 0.25+0.j, 0.  +0.j,\n",
      "                0.  +0.j, 0.25+0.j, 0.25+0.j],\n",
      "               [0.  +0.j, 0.  +0.j, 0.25+0.j, 0.25+0.j, 0.  +0.j,\n",
      "                0.  +0.j, 0.25+0.j, 0.25+0.j]],\n",
      "              dims=(2, 2, 2))\n"
     ]
    }
   ],
   "source": [
    "# Test tensor product of 1-qubit gates\n",
    "circuit = QuantumCircuit(3)\n",
    "circuit.h(0)\n",
    "circuit.x(1)\n",
    "circuit.ry(np.pi / 2, 2)\n",
    "target = DensityMatrix.from_label('000').evolve(Operator(circuit))\n",
    "rho = DensityMatrix.from_instruction(circuit)\n",
    "print(rho)\n",
    "print(target)"
   ]
  },
  {
   "cell_type": "code",
   "execution_count": 8,
   "metadata": {},
   "outputs": [
    {
     "name": "stdout",
     "output_type": "stream",
     "text": [
      "DensityMatrix([[1.+0.j, 0.+0.j, 0.+0.j, 0.+0.j],\n",
      "               [0.+0.j, 0.+0.j, 0.+0.j, 0.+0.j],\n",
      "               [0.+0.j, 0.+0.j, 0.+0.j, 0.+0.j],\n",
      "               [0.+0.j, 0.+0.j, 0.+0.j, 0.+0.j]],\n",
      "              dims=(2, 2))\n",
      "DensityMatrix([[1.+0.j, 0.+0.j, 0.+0.j, 0.+0.j],\n",
      "               [0.+0.j, 0.+0.j, 0.+0.j, 0.+0.j],\n",
      "               [0.+0.j, 0.+0.j, 0.+0.j, 0.+0.j],\n",
      "               [0.+0.j, 0.+0.j, 0.+0.j, 0.+0.j]],\n",
      "              dims=(2, 2))\n"
     ]
    }
   ],
   "source": [
    "# Test decomposition of controlled-H gate\n",
    "circuit = QuantumCircuit(2)\n",
    "circ.x(0)\n",
    "circuit.ch(0, 1)\n",
    "target = DensityMatrix.from_label('00').evolve(Operator(circuit))\n",
    "rho = DensityMatrix.from_instruction(circuit)\n",
    "print(rho)\n",
    "print(target)"
   ]
  },
  {
   "cell_type": "code",
   "execution_count": 9,
   "metadata": {},
   "outputs": [
    {
     "name": "stdout",
     "output_type": "stream",
     "text": [
      "DensityMatrix([[0.5+0.j , 0. +0.j , 0. +0.j , 0. -0.5j],\n",
      "               [0. +0.j , 0. +0.j , 0. +0.j , 0. +0.j ],\n",
      "               [0. +0.j , 0. +0.j , 0. +0.j , 0. +0.j ],\n",
      "               [0. +0.5j, 0. +0.j , 0. +0.j , 0.5+0.j ]],\n",
      "              dims=(2, 2))\n",
      "DensityMatrix([[0.5+0.j , 0. +0.j , 0. +0.j , 0. -0.5j],\n",
      "               [0. +0.j , 0. +0.j , 0. +0.j , 0. +0.j ],\n",
      "               [0. +0.j , 0. +0.j , 0. +0.j , 0. +0.j ],\n",
      "               [0. +0.5j, 0. +0.j , 0. +0.j , 0.5+0.j ]],\n",
      "              dims=(2, 2))\n"
     ]
    }
   ],
   "source": [
    "# Test initialize instruction\n",
    "init = Statevector([1, 0, 0, 1j]) / np.sqrt(2)\n",
    "target = DensityMatrix(init)\n",
    "circuit = QuantumCircuit(2)\n",
    "circuit.initialize(init.data, [0, 1])\n",
    "rho = DensityMatrix.from_instruction(circuit)\n",
    "print(rho)\n",
    "print(target)"
   ]
  },
  {
   "cell_type": "code",
   "execution_count": 10,
   "metadata": {},
   "outputs": [
    {
     "name": "stdout",
     "output_type": "stream",
     "text": [
      "DensityMatrix([[0.5+0.j, 0.5+0.j],\n",
      "               [0.5+0.j, 0.5+0.j]],\n",
      "              dims=(2,))\n",
      "DensityMatrix([[0.5+0.j, 0.5+0.j],\n",
      "               [0.5+0.j, 0.5+0.j]],\n",
      "              dims=(2,))\n"
     ]
    }
   ],
   "source": [
    "# initialization from an instruction\n",
    "target_vec = Statevector(np.dot(HGate().to_matrix(), [1, 0]))\n",
    "target = DensityMatrix(target_vec)\n",
    "rho = DensityMatrix.from_instruction(HGate())\n",
    "print(rho)\n",
    "print(target)"
   ]
  },
  {
   "cell_type": "code",
   "execution_count": 41,
   "metadata": {},
   "outputs": [
    {
     "name": "stdout",
     "output_type": "stream",
     "text": [
      "DensityMatrix([[0.25+0.j  , 0.  -0.25j, 0.25+0.j  , 0.  -0.25j,\n",
      "                0.  +0.j  , 0.  +0.j  , 0.  +0.j  , 0.  +0.j  ],\n",
      "               [0.  +0.25j, 0.25+0.j  , 0.  +0.25j, 0.25+0.j  ,\n",
      "                0.  +0.j  , 0.  +0.j  , 0.  +0.j  , 0.  +0.j  ],\n",
      "               [0.25+0.j  , 0.  -0.25j, 0.25+0.j  , 0.  -0.25j,\n",
      "                0.  +0.j  , 0.  +0.j  , 0.  +0.j  , 0.  +0.j  ],\n",
      "               [0.  +0.25j, 0.25+0.j  , 0.  +0.25j, 0.25+0.j  ,\n",
      "                0.  +0.j  , 0.  +0.j  , 0.  +0.j  , 0.  +0.j  ],\n",
      "               [0.  +0.j  , 0.  +0.j  , 0.  +0.j  , 0.  +0.j  ,\n",
      "                0.  +0.j  , 0.  +0.j  , 0.  +0.j  , 0.  +0.j  ],\n",
      "               [0.  +0.j  , 0.  +0.j  , 0.  +0.j  , 0.  +0.j  ,\n",
      "                0.  +0.j  , 0.  +0.j  , 0.  +0.j  , 0.  +0.j  ],\n",
      "               [0.  +0.j  , 0.  +0.j  , 0.  +0.j  , 0.  +0.j  ,\n",
      "                0.  +0.j  , 0.  +0.j  , 0.  +0.j  , 0.  +0.j  ],\n",
      "               [0.  +0.j  , 0.  +0.j  , 0.  +0.j  , 0.  +0.j  ,\n",
      "                0.  +0.j  , 0.  +0.j  , 0.  +0.j  , 0.  +0.j  ]],\n",
      "              dims=(2, 2, 2))\n",
      "DensityMatrix([[0.25+0.j  , 0.  -0.25j, 0.25+0.j  , 0.  -0.25j,\n",
      "                0.  +0.j  , 0.  -0.j  , 0.  +0.j  , 0.  -0.j  ],\n",
      "               [0.  +0.25j, 0.25+0.j  , 0.  +0.25j, 0.25+0.j  ,\n",
      "                0.  +0.j  , 0.  +0.j  , 0.  +0.j  , 0.  +0.j  ],\n",
      "               [0.25+0.j  , 0.  -0.25j, 0.25+0.j  , 0.  -0.25j,\n",
      "                0.  +0.j  , 0.  -0.j  , 0.  +0.j  , 0.  -0.j  ],\n",
      "               [0.  +0.25j, 0.25+0.j  , 0.  +0.25j, 0.25+0.j  ,\n",
      "                0.  +0.j  , 0.  +0.j  , 0.  +0.j  , 0.  +0.j  ],\n",
      "               [0.  +0.j  , 0.  -0.j  , 0.  +0.j  , 0.  -0.j  ,\n",
      "                0.  +0.j  , 0.  -0.j  , 0.  +0.j  , 0.  -0.j  ],\n",
      "               [0.  +0.j  , 0.  +0.j  , 0.  +0.j  , 0.  +0.j  ,\n",
      "                0.  +0.j  , 0.  +0.j  , 0.  +0.j  , 0.  +0.j  ],\n",
      "               [0.  +0.j  , 0.  -0.j  , 0.  +0.j  , 0.  -0.j  ,\n",
      "                0.  +0.j  , 0.  -0.j  , 0.  +0.j  , 0.  -0.j  ],\n",
      "               [0.  +0.j  , 0.  +0.j  , 0.  +0.j  , 0.  +0.j  ,\n",
      "                0.  +0.j  , 0.  +0.j  , 0.  +0.j  , 0.  +0.j  ]],\n",
      "              dims=(2, 2, 2))\n"
     ]
    }
   ],
   "source": [
    "# initialization from a label - Returns a tensor product of Pauli X,Y,Z eigenstates\n",
    "x_p = DensityMatrix(np.array([[0.5, 0.5], [0.5, 0.5]]))\n",
    "x_m = DensityMatrix(np.array([[0.5, -0.5], [-0.5, 0.5]]))\n",
    "y_p = DensityMatrix(np.array([[0.5, -0.5j], [0.5j, 0.5]]))\n",
    "y_m = DensityMatrix(np.array([[0.5, 0.5j], [-0.5j, 0.5]]))\n",
    "z_p = DensityMatrix(np.diag([1, 0]))\n",
    "z_m = DensityMatrix(np.diag([0, 1]))\n",
    "\n",
    "label = '0+r'\n",
    "target = z_p.tensor(x_p).tensor(y_p)\n",
    "print(DensityMatrix.from_label(label))\n",
    "print(target)"
   ]
  },
  {
   "cell_type": "code",
   "execution_count": 13,
   "metadata": {},
   "outputs": [
    {
     "name": "stdout",
     "output_type": "stream",
     "text": [
      "DensityMatrix([[ 0.  +0.j  ,  0.  +0.j  ,  0.  +0.j  ,  0.  +0.j  ,\n",
      "                 0.  +0.j  ,  0.  -0.j  ,  0.  +0.j  ,  0.  +0.j  ],\n",
      "               [ 0.  +0.j  ,  0.25+0.j  ,  0.  +0.j  ,  0.  +0.25j,\n",
      "                 0.  +0.j  , -0.25-0.j  ,  0.  +0.j  ,  0.  -0.25j],\n",
      "               [ 0.  +0.j  ,  0.  +0.j  ,  0.  +0.j  ,  0.  +0.j  ,\n",
      "                 0.  +0.j  ,  0.  -0.j  ,  0.  +0.j  ,  0.  +0.j  ],\n",
      "               [ 0.  -0.j  ,  0.  -0.25j,  0.  -0.j  ,  0.25+0.j  ,\n",
      "                 0.  -0.j  , -0.  +0.25j,  0.  -0.j  , -0.25-0.j  ],\n",
      "               [ 0.  +0.j  ,  0.  +0.j  ,  0.  +0.j  ,  0.  +0.j  ,\n",
      "                 0.  +0.j  ,  0.  -0.j  ,  0.  +0.j  ,  0.  +0.j  ],\n",
      "               [ 0.  +0.j  , -0.25+0.j  ,  0.  +0.j  , -0.  -0.25j,\n",
      "                 0.  +0.j  ,  0.25+0.j  ,  0.  +0.j  ,  0.  +0.25j],\n",
      "               [ 0.  +0.j  ,  0.  +0.j  ,  0.  +0.j  ,  0.  +0.j  ,\n",
      "                 0.  +0.j  ,  0.  -0.j  ,  0.  +0.j  ,  0.  +0.j  ],\n",
      "               [ 0.  +0.j  ,  0.  +0.25j,  0.  +0.j  , -0.25+0.j  ,\n",
      "                 0.  +0.j  ,  0.  -0.25j,  0.  +0.j  ,  0.25+0.j  ]],\n",
      "              dims=(2, 2, 2))\n",
      "DensityMatrix([[ 0.  +0.j  ,  0.  +0.j  ,  0.  +0.j  ,  0.  +0.j  ,\n",
      "                -0.  +0.j  , -0.  +0.j  ,  0.  -0.j  ,  0.  -0.j  ],\n",
      "               [ 0.  +0.j  ,  0.25+0.j  ,  0.  +0.j  ,  0.  +0.25j,\n",
      "                -0.  +0.j  , -0.25+0.j  ,  0.  -0.j  ,  0.  -0.25j],\n",
      "               [ 0.  +0.j  ,  0.  +0.j  ,  0.  +0.j  ,  0.  +0.j  ,\n",
      "                 0.  +0.j  ,  0.  +0.j  , -0.  +0.j  , -0.  +0.j  ],\n",
      "               [ 0.  +0.j  ,  0.  -0.25j,  0.  +0.j  ,  0.25+0.j  ,\n",
      "                 0.  +0.j  ,  0.  +0.25j, -0.  +0.j  , -0.25+0.j  ],\n",
      "               [-0.  +0.j  , -0.  +0.j  ,  0.  -0.j  ,  0.  -0.j  ,\n",
      "                 0.  +0.j  ,  0.  +0.j  ,  0.  +0.j  ,  0.  +0.j  ],\n",
      "               [-0.  +0.j  , -0.25+0.j  ,  0.  -0.j  ,  0.  -0.25j,\n",
      "                 0.  +0.j  ,  0.25+0.j  ,  0.  +0.j  ,  0.  +0.25j],\n",
      "               [ 0.  +0.j  ,  0.  +0.j  , -0.  +0.j  , -0.  +0.j  ,\n",
      "                 0.  +0.j  ,  0.  +0.j  ,  0.  +0.j  ,  0.  +0.j  ],\n",
      "               [ 0.  +0.j  ,  0.  +0.25j, -0.  +0.j  , -0.25+0.j  ,\n",
      "                 0.  +0.j  ,  0.  -0.25j,  0.  +0.j  ,  0.25+0.j  ]],\n",
      "              dims=(2, 2, 2))\n"
     ]
    }
   ],
   "source": [
    "label = '-l1'\n",
    "target = x_m.tensor(y_m).tensor(z_m)\n",
    "print(DensityMatrix.from_label(label))\n",
    "print(target)"
   ]
  },
  {
   "cell_type": "code",
   "execution_count": 29,
   "metadata": {},
   "outputs": [
    {
     "name": "stdout",
     "output_type": "stream",
     "text": [
      "False\n"
     ]
    }
   ],
   "source": [
    "# DensityMatrix copy method - Make a copy of current operator\n",
    "rho = get_random_density_operator(4)\n",
    "orig = DensityMatrix(rho)\n",
    "cpy = orig.copy()\n",
    "cpy._data[0] += 1.0\n",
    "print(cpy == orig)"
   ]
  },
  {
   "cell_type": "code",
   "execution_count": 30,
   "metadata": {},
   "outputs": [
    {
     "name": "stdout",
     "output_type": "stream",
     "text": [
      "False\n",
      "True\n",
      "True\n",
      "True\n",
      "True\n"
     ]
    }
   ],
   "source": [
    "# DensityOperator is_valid method\n",
    "# DensityMatrix.is_valid([atol, rtol]) - Return True if trace 1 and positive semidefinite.\n",
    "state = DensityMatrix(np.eye(2))\n",
    "print(state.is_valid())\n",
    "for _ in range(4):\n",
    "    state = DensityMatrix(get_random_density_operator(4))\n",
    "    print(state.is_valid())"
   ]
  },
  {
   "cell_type": "code",
   "execution_count": 31,
   "metadata": {},
   "outputs": [
    {
     "name": "stdout",
     "output_type": "stream",
     "text": [
      "True\n"
     ]
    }
   ],
   "source": [
    "#DensityMatrix to_operator method for returning projector - Convert to Operator\n",
    "rho = get_random_density_operator(4)\n",
    "target = Operator(rho)\n",
    "op = DensityMatrix(rho).to_operator()\n",
    "print(op == target)"
   ]
  },
  {
   "cell_type": "code",
   "execution_count": 32,
   "metadata": {},
   "outputs": [
    {
     "name": "stdout",
     "output_type": "stream",
     "text": [
      "True\n"
     ]
    }
   ],
   "source": [
    "# evolve method for operators - Evolve a quantum state by an operator.\n",
    "op = random_unitary(4)\n",
    "rho = get_random_density_operator(4)\n",
    "target = DensityMatrix(np.dot(op.data, rho).dot(op.adjoint().data))\n",
    "evolved = DensityMatrix(rho).evolve(op)\n",
    "print(target==evolved)"
   ]
  },
  {
   "cell_type": "code",
   "execution_count": 33,
   "metadata": {},
   "outputs": [
    {
     "name": "stdout",
     "output_type": "stream",
     "text": [
      "True\n"
     ]
    }
   ],
   "source": [
    "# conjugate method - Return the conjugate of the density matrix.\n",
    "rho = get_random_density_operator(4)\n",
    "target = DensityMatrix(np.conj(rho))\n",
    "state = DensityMatrix(rho).conjugate()\n",
    "print(state==target)"
   ]
  },
  {
   "cell_type": "code",
   "execution_count": 34,
   "metadata": {},
   "outputs": [
    {
     "name": "stdout",
     "output_type": "stream",
     "text": [
      "6 (2, 3)\n",
      "[[0.343569  +0.j         0.17148537+0.05246228j 0.14302464+0.32697878j\n",
      "  0.02145881+0.18504427j 0.15144226+0.04075534j 0.06936602+0.0434671j ]\n",
      " [0.17148537-0.05246228j 0.09360426+0.j         0.12131678+0.14136514j\n",
      "  0.0389666 +0.08908431j 0.08181253-0.00278274j 0.04125996+0.01110366j]\n",
      " [0.14302464-0.32697878j 0.12131678-0.14136514j 0.3707295 +0.j\n",
      "  0.18504198+0.05660963j 0.10183138-0.12716336j 0.07024461-0.04792152j]\n",
      " [0.02145881-0.18504427j 0.0389666 -0.08908431j 0.18504198-0.05660963j\n",
      "  0.10100406+0.j         0.03140945-0.07902041j 0.02774363-0.03464525j]\n",
      " [0.15144226-0.04075534j 0.08181253+0.00278274j 0.10183138+0.12716336j\n",
      "  0.03140945+0.07902041j 0.07158899+0.j         0.03573216+0.01093149j]\n",
      " [0.06936602-0.0434671j  0.04125996-0.01110366j 0.07024461+0.04792152j\n",
      "  0.02774363+0.03464525j 0.03573216-0.01093149j 0.01950419+0.j        ]]\n",
      "[[0.343569  +0.j         0.17148537+0.05246228j 0.14302464+0.32697878j\n",
      "  0.02145881+0.18504427j 0.15144226+0.04075534j 0.06936602+0.0434671j ]\n",
      " [0.17148537-0.05246228j 0.09360426+0.j         0.12131678+0.14136514j\n",
      "  0.0389666 +0.08908431j 0.08181253-0.00278274j 0.04125996+0.01110366j]\n",
      " [0.14302464-0.32697878j 0.12131678-0.14136514j 0.3707295 +0.j\n",
      "  0.18504198+0.05660963j 0.10183138-0.12716336j 0.07024461-0.04792152j]\n",
      " [0.02145881-0.18504427j 0.0389666 -0.08908431j 0.18504198-0.05660963j\n",
      "  0.10100406+0.j         0.03140945-0.07902041j 0.02774363-0.03464525j]\n",
      " [0.15144226-0.04075534j 0.08181253+0.00278274j 0.10183138+0.12716336j\n",
      "  0.03140945+0.07902041j 0.07158899+0.j         0.03573216+0.01093149j]\n",
      " [0.06936602-0.0434671j  0.04125996-0.01110366j 0.07024461+0.04792152j\n",
      "  0.02774363+0.03464525j 0.03573216-0.01093149j 0.01950419+0.j        ]]\n"
     ]
    }
   ],
   "source": [
    "# expand method - Return the tensor product state other ⊗ self.\n",
    "rho0 = get_random_density_operator(2)\n",
    "rho1 = get_random_density_operator(3)\n",
    "target = np.kron(rho1, rho0)\n",
    "state = DensityMatrix(rho0).expand(DensityMatrix(rho1))\n",
    "print(state.dim,state.dims())\n",
    "print(state.data)\n",
    "print(target)"
   ]
  },
  {
   "cell_type": "code",
   "execution_count": 35,
   "metadata": {},
   "outputs": [
    {
     "name": "stdout",
     "output_type": "stream",
     "text": [
      "6 (3, 2)\n",
      "[[ 0.15232389+0.j          0.0674712 -0.03852165j  0.05702681-0.08462037j\n",
      "   0.16337792-0.19808907j  0.02227219-0.12905981j -0.04887906-0.16492152j]\n",
      " [ 0.0674712 +0.03852165j  0.03962792+0.j          0.04665967-0.02306054j\n",
      "   0.12246287-0.04642555j  0.04250369-0.05153399j  0.02005673-0.08541243j]\n",
      " [ 0.05702681+0.08462037j  0.04665967+0.02306054j  0.06835871+0.j\n",
      "   0.17120947+0.01660089j  0.08003473-0.03594438j  0.07331945-0.08889684j]\n",
      " [ 0.16337792+0.19808907j  0.12246287+0.04642555j  0.17120947-0.01660089j\n",
      "   0.43283836+0.j          0.19172384-0.10946179j  0.16204543-0.24045435j]\n",
      " [ 0.02227219+0.12905981j  0.04250369+0.05153399j  0.08003473+0.03594438j\n",
      "   0.19172384+0.10946179j  0.11260535+0.j          0.13258653-0.06552804j]\n",
      " [-0.04887906+0.16492152j  0.02005673+0.08541243j  0.07331945+0.08889684j\n",
      "   0.16204543+0.24045435j  0.13258653+0.06552804j  0.19424576+0.j        ]]\n"
     ]
    }
   ],
   "source": [
    "# tensor method - Return the tensor product state self ⊗ other.\n",
    "rho0 = get_random_density_operator(2)\n",
    "rho1 = get_random_density_operator(3)\n",
    "target = np.kron(rho0, rho1)\n",
    "state = DensityMatrix(rho0).tensor(DensityMatrix(rho1))\n",
    "print(state.dim,state.dims())\n",
    "print(state.data)"
   ]
  },
  {
   "cell_type": "code",
   "execution_count": 36,
   "metadata": {},
   "outputs": [
    {
     "name": "stdout",
     "output_type": "stream",
     "text": [
      "True\n",
      "True\n"
     ]
    }
   ],
   "source": [
    "# add method - Return the linear combination self + other.\n",
    "rho0 = get_random_density_operator(4)\n",
    "rho1 = get_random_density_operator(4)\n",
    "state0 = DensityMatrix(rho0)\n",
    "state1 = DensityMatrix(rho1)\n",
    "print(state0 + state1 == DensityMatrix(rho0 + rho1))\n",
    "\n",
    "# subtract method - Return the linear operator self - other.\n",
    "#rho0 = get_random_density_operator(4)\n",
    "#rho1 = get_random_density_operator(4)\n",
    "#state0 = DensityMatrix(rho0)\n",
    "#state1 = DensityMatrix(rho1)\n",
    "print(state0 - state1==DensityMatrix(rho0 - rho1))"
   ]
  },
  {
   "cell_type": "code",
   "execution_count": 23,
   "metadata": {},
   "outputs": [
    {
     "name": "stdout",
     "output_type": "stream",
     "text": [
      "True\n"
     ]
    }
   ],
   "source": [
    "\n",
    "\n",
    "\n",
    "\n",
    "\n",
    "\n",
    "\n",
    "\n",
    "\n",
    "\n",
    "\n",
    "\n",
    "    \n",
    "\n",
    "\n",
    "\n",
    "\n",
    "\n",
    "\n",
    "\n",
    "\n",
    "DensityMatrix.from_int(i, dims)\n",
    "\t\n",
    "\n",
    "Return a computational basis state density matrix.\n",
    "\n",
    "\n",
    "\n",
    "DensityMatrix.measure([qargs])\n",
    "\t\n",
    "\n",
    "Measure subsystems and return outcome and post-measure state.\n",
    "\n",
    "\n",
    "DensityMatrix.probabilities([qargs, decimals])\n",
    "\t\n",
    "\n",
    "Return the subsystem measurement probability vector.\n",
    "\n",
    "DensityMatrix.probabilities_dict([qargs, …])\n",
    "\t\n",
    "\n",
    "Return the subsystem measurement probability dictionary.\n",
    "\n",
    "DensityMatrix.purity()\n",
    "\t\n",
    "\n",
    "Return the purity of the quantum state.\n",
    "\n",
    "DensityMatrix.reset([qargs])\n",
    "\t\n",
    "\n",
    "Reset state or subsystems to the 0-state.\n",
    "\n",
    "DensityMatrix.sample_counts(shots[, qargs])\n",
    "\t\n",
    "\n",
    "Sample a dict of qubit measurement outcomes in the computational basis.\n",
    "\n",
    "DensityMatrix.sample_memory(shots[, qargs])\n",
    "\t\n",
    "\n",
    "Sample a list of qubit measurement outcomes in the computational basis.\n",
    "\n",
    "DensityMatrix.seed([value])\n",
    "\t\n",
    "\n",
    "Set the seed for the quantum state RNG.\n",
    "\n",
    "DensityMatrix.set_atol(value)\n",
    "\t\n",
    "\n",
    "Set the class default absolute tolerance parameter for float comparisons.\n",
    "\n",
    "DensityMatrix.set_rtol(value)\n",
    "\t\n",
    "\n",
    "Set the class default relative tolerance parameter for float comparisons.\n",
    "\n",
    "\n",
    "DensityMatrix.to_counts()\n",
    "\t\n",
    "\n",
    "Returns the density matrix as a counts dict of probabilities.\n",
    "\n",
    "\n",
    "DensityMatrix.trace()\n",
    "\t\n",
    "\n",
    "Return the trace of the density matrix.    \n",
    "            \n",
    "                "
   ]
  },
  {
   "cell_type": "code",
   "execution_count": 37,
   "metadata": {},
   "outputs": [
    {
     "name": "stdout",
     "output_type": "stream",
     "text": [
      "True\n"
     ]
    }
   ],
   "source": [
    "# multiply method - Return the scalar multipled state other * self.\n",
    "rho = get_random_density_operator(4)\n",
    "state = DensityMatrix(rho)\n",
    "val = np.random.rand() + 1j * np.random.rand()\n",
    "print(val * state==DensityMatrix(val * state))\n",
    "\n",
    "# Negation\n",
    "rho = get_random_density_operator(4)\n",
    "state = DensityMatrix(rho)\n",
    "print(-state==DensityMatrix(-1 * rho))"
   ]
  },
  {
   "cell_type": "code",
   "execution_count": 25,
   "metadata": {},
   "outputs": [
    {
     "name": "stdout",
     "output_type": "stream",
     "text": [
      "True\n"
     ]
    }
   ],
   "source": []
  },
  {
   "cell_type": "code",
   "execution_count": 38,
   "metadata": {},
   "outputs": [
    {
     "name": "stdout",
     "output_type": "stream",
     "text": [
      "{'00|00': (1+0j), '01|00': (2+0j), '10|00': (3+0j), '11|00': (4+0j), '00|01': (5+0j), '01|01': (6+0j), '10|01': (7+0j), '11|01': (8+0j), '00|10': (9+0j), '01|10': (10+0j), '10|10': (11+0j), '11|10': (12+0j), '00|11': (13+0j), '01|11': (14+0j), '10|11': (15+0j), '11|11': (16+0j)}\n",
      "{'00|00': (1+0j), '01|01': (2+0j), '10|10': (3+0j), '11|11': (4+0j), '20|20': (5+0j), '21|21': (6+0j)}\n",
      "{'0,0|0,0': (1+0j), '0,1|0,1': (2+0j), '1,0|1,0': (3+0j), '1,1|1,1': (4+0j), '2,0|2,0': (5+0j), '2,1|2,1': (6+0j), '3,0|3,0': (7+0j), '3,1|3,1': (8+0j), '4,0|4,0': (9+0j), '4,1|4,1': (10+0j), '5,0|5,0': (11+0j), '5,1|5,1': (12+0j), '6,0|6,0': (13+0j), '6,1|6,1': (14+0j), '7,0|7,0': (15+0j), '7,1|7,1': (16+0j), '8,0|8,0': (17+0j), '8,1|8,1': (18+0j), '9,0|9,0': (19+0j), '9,1|9,1': (20+0j), '10,0|10,0': (21+0j), '10,1|10,1': (22+0j)}\n"
     ]
    }
   ],
   "source": [
    "# to_dict method - Convert the density matrix to dictionary form\n",
    "rho = DensityMatrix(np.arange(1, 17).reshape(4, 4))\n",
    "print(rho.to_dict())\n",
    "\n",
    "rho = DensityMatrix(np.diag(np.arange(1, 7)), dims=(2, 3))\n",
    "print(rho.to_dict())\n",
    "\n",
    "rho = DensityMatrix(np.diag(np.arange(1, 23)), dims=(2, 11))\n",
    "print(rho.to_dict())"
   ]
  },
  {
   "cell_type": "code",
   "execution_count": 43,
   "metadata": {},
   "outputs": [
    {
     "name": "stdout",
     "output_type": "stream",
     "text": [
      "True\n",
      "True\n",
      "True\n",
      "True\n",
      "True\n",
      "True\n",
      "True\n"
     ]
    }
   ],
   "source": [
    "# subsystem evolution for operators\n",
    "\n",
    "# Test evolving single-qubit of 3-qubit system\n",
    "rho = get_random_density_operator(8)\n",
    "state = DensityMatrix(rho)\n",
    "op0 = random_unitary(2)\n",
    "op1 = random_unitary(2)\n",
    "op2 = random_unitary(2)\n",
    "\n",
    "# Evolve on 1-qubit\n",
    "op = op0\n",
    "op_full = Operator(np.eye(4)).tensor(op)\n",
    "target = DensityMatrix(np.dot(op_full.data, rho).dot(op_full.adjoint().data))\n",
    "print(state.evolve(op, qargs=[0])==target)\n",
    "\n",
    "# Evolve on qubit 1\n",
    "op_full = Operator(np.eye(2)).tensor(op).tensor(np.eye(2))\n",
    "target = DensityMatrix(np.dot(op_full.data, rho).dot(op_full.adjoint().data))\n",
    "print(state.evolve(op, qargs=[1])==target)\n",
    "\n",
    "# Evolve on qubit 2\n",
    "op_full = op.tensor(np.eye(4))\n",
    "target = DensityMatrix(np.dot(op_full.data, rho).dot(op_full.adjoint().data))\n",
    "print(state.evolve(op, qargs=[2])==target)\n",
    "\n",
    "# Test evolve on 2-qubits\n",
    "op = op1.tensor(op0)\n",
    "\n",
    "# Evolve on qubits [0, 2]\n",
    "op_full = op1.tensor(np.eye(2)).tensor(op0)\n",
    "target = DensityMatrix(np.dot(op_full.data, rho).dot(op_full.adjoint().data))\n",
    "print(state.evolve(op, qargs=[0, 2])== target)\n",
    "\n",
    "# Evolve on qubits [2, 0]\n",
    "op_full = op0.tensor(np.eye(2)).tensor(op1)\n",
    "target = DensityMatrix(np.dot(op_full.data, rho).dot(op_full.adjoint().data))\n",
    "print(state.evolve(op, qargs=[2, 0])==target)\n",
    "\n",
    "# Test evolve on 3-qubits\n",
    "op = op2.tensor(op1).tensor(op0)\n",
    "\n",
    "# Evolve on qubits [0, 1, 2]\n",
    "op_full = op\n",
    "target = DensityMatrix(np.dot(op_full.data, rho).dot(op_full.adjoint().data))\n",
    "print(state.evolve(op, qargs=[0, 1, 2])==target)\n",
    "\n",
    "# Evolve on qubits [2, 1, 0]\n",
    "op_full = op0.tensor(op1).tensor(op2)\n",
    "target = DensityMatrix(np.dot(op_full.data, rho).dot(op_full.adjoint().data))\n",
    "print(state.evolve(op, qargs=[2, 1, 0])==target)"
   ]
  },
  {
   "cell_type": "code",
   "execution_count": 44,
   "metadata": {},
   "outputs": [
    {
     "ename": "AttributeError",
     "evalue": "'DensityMatrix' object has no attribute 'to_statevector'",
     "output_type": "error",
     "traceback": [
      "\u001b[1;31m---------------------------------------------------------------------------\u001b[0m",
      "\u001b[1;31mAttributeError\u001b[0m                            Traceback (most recent call last)",
      "\u001b[1;32m<ipython-input-44-01da93b1c32c>\u001b[0m in \u001b[0;36m<module>\u001b[1;34m\u001b[0m\n\u001b[0;32m      3\u001b[0m \u001b[0mpsi\u001b[0m \u001b[1;33m=\u001b[0m \u001b[0mStatevector\u001b[0m\u001b[1;33m(\u001b[0m\u001b[0mstate\u001b[0m\u001b[1;33m)\u001b[0m\u001b[1;33m\u001b[0m\u001b[1;33m\u001b[0m\u001b[0m\n\u001b[0;32m      4\u001b[0m \u001b[0mrho\u001b[0m \u001b[1;33m=\u001b[0m \u001b[0mDensityMatrix\u001b[0m\u001b[1;33m(\u001b[0m\u001b[0mpsi\u001b[0m\u001b[1;33m)\u001b[0m\u001b[1;33m\u001b[0m\u001b[1;33m\u001b[0m\u001b[0m\n\u001b[1;32m----> 5\u001b[1;33m \u001b[0mphi\u001b[0m \u001b[1;33m=\u001b[0m \u001b[0mrho\u001b[0m\u001b[1;33m.\u001b[0m\u001b[0mto_statevector\u001b[0m\u001b[1;33m(\u001b[0m\u001b[1;33m)\u001b[0m\u001b[1;33m\u001b[0m\u001b[1;33m\u001b[0m\u001b[0m\n\u001b[0m\u001b[0;32m      6\u001b[0m \u001b[0mprint\u001b[0m\u001b[1;33m(\u001b[0m\u001b[0mpsi\u001b[0m\u001b[1;33m.\u001b[0m\u001b[0mequiv\u001b[0m\u001b[1;33m(\u001b[0m\u001b[0mphi\u001b[0m\u001b[1;33m)\u001b[0m\u001b[1;33m)\u001b[0m\u001b[1;33m\u001b[0m\u001b[1;33m\u001b[0m\u001b[0m\n\u001b[0;32m      7\u001b[0m \u001b[1;33m\u001b[0m\u001b[0m\n",
      "\u001b[1;31mAttributeError\u001b[0m: 'DensityMatrix' object has no attribute 'to_statevector'"
     ]
    }
   ],
   "source": [
    "# Convert a pure density matrix to statevector\n",
    "state = 1/np.sqrt(2) * (np.array([1, 0, 0, 0, 0, 0, 0, 1]))\n",
    "psi = Statevector(state)\n",
    "rho = DensityMatrix(psi)\n",
    "phi = rho.to_statevector()\n",
    "print(psi.equiv(phi))\n",
    "\n",
    "\n",
    "# Convert a pure density matrix to statevector\n",
    "state_1 = 1/np.sqrt(2) * (np.array([1, 0, 0, 0, 0, 0, 0, 1]))\n",
    "state_2 = 1/np.sqrt(2) * (np.array([0, 0, 0, 0, 0, 0, 1, 1]))\n",
    "psi = 0.5 * (Statevector(state_1) + Statevector(state_2))\n",
    "rho = DensityMatrix(psi)\n",
    "#self.assertRaises(QiskitError, rho.to_statevector)\n",
    "print(rho.to_statevector)"
   ]
  },
  {
   "cell_type": "code",
   "execution_count": 45,
   "metadata": {},
   "outputs": [
    {
     "name": "stdout",
     "output_type": "stream",
     "text": [
      "[0.5 0.  0.5 0. ]\n",
      "[0.5 0.  0.5 0. ]\n",
      "[0.5 0.5 0.  0. ]\n",
      "[1. 0.]\n",
      "[0.5 0.5]\n"
     ]
    }
   ],
   "source": [
    "# probabilities\n",
    "state = DensityMatrix.from_label('+0')\n",
    "\n",
    "# 2-qubit qargs\n",
    "probs = state.probabilities()\n",
    "print(probs)\n",
    "\n",
    "probs = state.probabilities([0, 1])\n",
    "print(probs)\n",
    "\n",
    "probs = state.probabilities([1, 0])\n",
    "print(probs)\n",
    "\n",
    "# 1-qubit qargs\n",
    "probs = state.probabilities([0])\n",
    "print(probs)\n",
    "\n",
    "probs = state.probabilities([1])\n",
    "print(probs)"
   ]
  },
  {
   "cell_type": "markdown",
   "metadata": {},
   "source": [
    "### Problem 1"
   ]
  },
  {
   "cell_type": "markdown",
   "metadata": {},
   "source": [
    "Let's say Alice wants to send Bob a $|0\\rangle$ with probability *.5* and $|1\\rangle$ also with probability *.5*. Alice prepares such a qubit in her lab. Then Alice sends this qubit to Bob - the system could be represented by the following density matrix: $$\\rho = .5 |0\\rangle \\langle 0| + .5 |1\\rangle \\langle 1|= \\begin{bmatrix} .5 & 0 \\\\ 0 & .5 \\end{bmatrix}$$\n",
    "\n",
    "Now, Bob would perform measurement in the standard basis. So, he could get $|0\\rangle$ with probability .5 and $|1\\rangle$ with .5. Then what is the density matrix representing the state after Bob performs his measurement in the standard basis accounting for both of his possible outcomes? "
   ]
  },
  {
   "cell_type": "markdown",
   "metadata": {},
   "source": [
    "### Solution 1"
   ]
  },
  {
   "cell_type": "markdown",
   "metadata": {},
   "source": [
    "Bob is provided with the following state (also called the *maximally-mixed state*):\n",
    "\n",
    "$\\rho = \\frac{1}{2}|0\\rangle\\langle 0| + \\frac{1}{2}|1\\rangle\\langle 1| = \\begin{bmatrix} \\frac{1}{2} & 0 \\\\ 0 & \\frac{1}{2} \\end{bmatrix}$\n",
    "\n",
    "From the expression we see that the density matrices enable us to capture the uncertainty of an outcome of a measurement. They also account for the different possible outcomes in a single equation. \n",
    "\n",
    "Projective measurement is defined by a set of measurement operators $P_i$, one for each possible measurement outcome. For example, when measuring in the computational basis (collapsing to $|0\\rangle$ or $|1\\rangle$) we have the following measurement operators:\n",
    "\n",
    "$P_0 = |0\\rangle\\langle0| = \\begin{bmatrix} 1 & 0 \\\\ 0 & 0 \\end{bmatrix}$ - $P_0$ is associated with outcome $|0\\rangle$ and $P_1 = |1\\rangle\\langle1| = \\begin{bmatrix} 0 & 0 \\\\ 0 & 1 \\end{bmatrix}$ - $P_1$ is associated with outcome $|1\\rangle$\n",
    "\n",
    "These matrices are also called *projectors*.\n",
    "\n",
    "Now, given a single-qbit density operator $\\rho$, we can calculate the probability of it collapsing to some value with the following formula:\n",
    "\n",
    "$p_i = Tr(P_i \\rho)$ - [$Tr(M)$ is *trace* - sum of the elements along the main diagonal of matrix $M$]\n",
    "\n",
    "Now we can calculate the probability of the above example collapsing to $|0\\rangle$ as follows:\n",
    "\n",
    "$p_0 = Tr(P_0 \\rho)\n",
    "= Tr \\left( \\begin{bmatrix} 1 & 0 \\\\ 0 & 0 \\end{bmatrix} \\begin{bmatrix} \\frac{1}{2} & 0 \\\\ 0 & \\frac{1}{2} \\end{bmatrix} \\right)\n",
    "= Tr \\left( \\begin{bmatrix} \\frac 1 2 & 0 \\\\ 0 & 0 \\end{bmatrix} \\right) = \\frac 1 2$\n",
    "\n",
    "And the formula for the post-measurement density operator is:\n",
    "\n",
    "$\\rho_i = \\frac{P_i \\rho P_i}{p_i}$\n",
    "\n",
    "which for the above problem and for $|0\\rangle$ is:\n",
    "\n",
    "$\\rho_0 = \\frac{\\begin{bmatrix} 1 & 0 \\\\ 0 & 0 \\end{bmatrix} \\begin{bmatrix} \\frac{1}{2} & 0 \\\\ 0 & \\frac{1}{2} \\end{bmatrix} \\begin{bmatrix} 1 & 0 \\\\ 0 & 0 \\end{bmatrix}}{\\frac 1 2} = \\begin{bmatrix} 1 & 0 \\\\ 0 & 0 \\end{bmatrix}$\n",
    "\n",
    "which is indeed the density matrix for the pure state $|0\\rangle$.\n",
    "\n",
    "Now we do not just want the density operator for a certain measurement outcome, though. We actually seek a density operator that captures the branching nature of measurement, representing it as an ensemble of possible collapsed states. For this, we use the following formula:\n",
    "\n",
    "$\\rho' = \\sum_i p_i \\rho_i = \\sum_i P_i \\rho P_i$\n",
    "\n",
    "in our example:\n",
    "\n",
    "$\\rho' = \\left( \\begin{bmatrix} 1 & 0 \\\\ 0 & 0 \\end{bmatrix} \\begin{bmatrix} \\frac{1}{2} & 0 \\\\ 0 & \\frac{1}{2} \\end{bmatrix} \\begin{bmatrix} 1 & 0 \\\\ 0 & 0 \\end{bmatrix} \\right) + \\left( \\begin{bmatrix} 0 & 0 \\\\ 0 & 1 \\end{bmatrix} \\begin{bmatrix} \\frac{1}{2} & 0 \\\\ 0 & \\frac{1}{2} \\end{bmatrix} \\begin{bmatrix} 0 & 0 \\\\ 0 & 1 \\end{bmatrix} \\right)$\n",
    "\n",
    "$\\rho' = \\begin{bmatrix} \\frac 1 2 & 0 \\\\ 0 & 0 \\end{bmatrix}\n",
    "+ \\begin{bmatrix} 0 & 0 \\\\ 0 & \\frac 1 2 \\end{bmatrix} = \\begin{bmatrix} \\frac{1}{2} & 0 \\\\ 0 & \\frac{1}{2} \\end{bmatrix} = \\frac{1}{2}|0\\rangle\\langle 0| + \\frac{1}{2}|1\\rangle\\langle 1|$\n",
    "\n",
    "Hence we clearly see that the final density matrix remains unchanged! This is not really surprising, because we started  with the maximally-mixed state and then performed a further randomizing operation on it.\n",
    "\n",
    "*Ref : [StackExchange 1](https://physics.stackexchange.com/a/426519/182854), [StackExchange 2](https://quantumcomputing.stackexchange.com/a/4130/4153).*"
   ]
  },
  {
   "cell_type": "markdown",
   "metadata": {},
   "source": [
    "<img src=\"images/ha.png\" alt=\"\" width=\"500\" align=\"middle\"/>"
   ]
  },
  {
   "cell_type": "markdown",
   "metadata": {},
   "source": [
    "The two bits we want to add are encoded in the qubits 0 and 1. The above example encodes a ```1``` in both these qubits, and so it seeks to find the solution of ```1+1```. The result will be a string of two bits, which we will read out from the qubits 2 and 3. All that remains is to fill in the actual program, which lives in the blank space in the middle.\n",
    "\n",
    "In a quantum computer, an XOR gate is implemented by a controlled-NOT (CNOT) gate."
   ]
  },
  {
   "cell_type": "code",
   "execution_count": 46,
   "metadata": {},
   "outputs": [
    {
     "name": "stdout",
     "output_type": "stream",
     "text": [
      "P([0, 1, 2]) [0.5 0.  0.  0.  0.  0.  0.  0.5]\n",
      "P([2, 1, 0]) [0.5 0.  0.  0.  0.  0.  0.  0.5]\n",
      "P([1, 2, 0]) [0.5 0.  0.  0.  0.  0.  0.  0.5]\n",
      "P([1, 0, 2]) [0.5 0.  0.  0.  0.  0.  0.  0.5]\n",
      "P([0, 1]) [0.5 0.  0.  0.5]\n",
      "P([2, 1]) [0.5 0.  0.  0.5]\n",
      "P([1, 2]) [0.5 0.  0.  0.5]\n",
      "P([1, 2]) [0.5 0.  0.  0.5]\n",
      "P([0]) [0.5 0.5]\n",
      "P([1]) [0.5 0.5]\n",
      "P([2]) [0.5 0.5]\n"
     ]
    }
   ],
   "source": [
    "# probabilities for GHZ state\n",
    "psi = (Statevector.from_label('000') +\n",
    "       Statevector.from_label('111')) / np.sqrt(2)\n",
    "state = DensityMatrix(psi)\n",
    "\n",
    "# 3-qubit qargs\n",
    "for qargs in [[0, 1, 2], [2, 1, 0], [1, 2, 0], [1, 0, 2]]:\n",
    "        probs = state.probabilities(qargs)\n",
    "        print('P({})'.format(qargs),probs)\n",
    "\n",
    "# 2-qubit qargs\n",
    "for qargs in [[0, 1], [2, 1], [1, 2], [1, 2]]:\n",
    "        probs = state.probabilities(qargs)\n",
    "        print('P({})'.format(qargs),probs)\n",
    "\n",
    "# 1-qubit qargs\n",
    "for qargs in [[0], [1], [2]]:\n",
    "        probs = state.probabilities(qargs)\n",
    "        print('P({})'.format(qargs),probs)"
   ]
  },
  {
   "cell_type": "code",
   "execution_count": 48,
   "metadata": {},
   "outputs": [
    {
     "name": "stdout",
     "output_type": "stream",
     "text": [
      "counts (qargs=[0, 1, 2]) {'000': 979, '111': 1021} 40.0\n",
      "counts (qargs=[2, 1, 0]) {'000': 1006, '111': 994} 40.0\n",
      "counts (qargs=[1, 2, 0]) {'000': 986, '111': 1014} 40.0\n",
      "counts (qargs=[1, 0, 2]) {'000': 994, '111': 1006} 40.0\n",
      "counts (qargs=[0, 1]) {'00': 1021, '11': 979} 40.0\n",
      "counts (qargs=[2, 1]) {'00': 1006, '11': 994} 40.0\n",
      "counts (qargs=[1, 2]) {'00': 998, '11': 1002} 40.0\n",
      "counts (qargs=[1, 2]) {'00': 975, '11': 1025} 40.0\n",
      "counts (qargs=[0]) {'0': 998, '1': 1002} 40.0\n",
      "counts (qargs=[1]) {'0': 1007, '1': 993} 40.0\n",
      "counts (qargs=[2]) {'0': 994, '1': 1006} 40.0\n"
     ]
    }
   ],
   "source": [
    "# sample_counts method for GHZ state\n",
    "shots = 2000\n",
    "threshold = 0.02 * shots\n",
    "state = DensityMatrix((\n",
    "    Statevector.from_label('000') +\n",
    "    Statevector.from_label('111')) / np.sqrt(2))\n",
    "state.seed(100)\n",
    "\n",
    "# 3-qubit qargs\n",
    "for qargs in [[0, 1, 2], [2, 1, 0], [1, 2, 0], [1, 0, 2]]:\n",
    "        counts = state.sample_counts(shots, qargs=qargs)\n",
    "        print('counts (qargs={})'.format(qargs),counts, threshold)\n",
    "        \n",
    "# 2-qubit qargs\n",
    "for qargs in [[0, 1], [2, 1], [1, 2], [1, 2]]:\n",
    "        counts = state.sample_counts(shots, qargs=qargs)\n",
    "        print('counts (qargs={})'.format(qargs),counts, threshold)\n",
    "        \n",
    "# 1-qubit qargs\n",
    "for qargs in [[0], [1], [2]]:\n",
    "        counts = state.sample_counts(shots, qargs=qargs)\n",
    "        print('counts (qargs={})'.format(qargs),counts, threshold)"
   ]
  },
  {
   "cell_type": "code",
   "execution_count": 47,
   "metadata": {},
   "outputs": [
    {
     "name": "stdout",
     "output_type": "stream",
     "text": [
      "P([0, 1, 2]) [0.         0.33333333 0.33333333 0.         0.33333333 0.\n",
      " 0.         0.        ]\n",
      "P([2, 1, 0]) [0.         0.33333333 0.33333333 0.         0.33333333 0.\n",
      " 0.         0.        ]\n",
      "P([1, 2, 0]) [0.         0.33333333 0.33333333 0.         0.33333333 0.\n",
      " 0.         0.        ]\n",
      "P([1, 0, 2]) [0.         0.33333333 0.33333333 0.         0.33333333 0.\n",
      " 0.         0.        ]\n",
      "P([0, 1]) [0.33333333 0.33333333 0.33333333 0.        ]\n",
      "P([2, 1]) [0.33333333 0.33333333 0.33333333 0.        ]\n",
      "P([1, 2]) [0.33333333 0.33333333 0.33333333 0.        ]\n",
      "P([1, 2]) [0.33333333 0.33333333 0.33333333 0.        ]\n",
      "P([0]) [0.66666667 0.33333333]\n",
      "P([1]) [0.66666667 0.33333333]\n",
      "P([2]) [0.66666667 0.33333333]\n"
     ]
    }
   ],
   "source": [
    "# probabilities with W state\n",
    "psi = (Statevector.from_label('001') +\n",
    "       Statevector.from_label('010') +\n",
    "       Statevector.from_label('100')) / np.sqrt(3)\n",
    "state = DensityMatrix(psi)\n",
    "\n",
    "# 3-qubit qargs\n",
    "for qargs in [[0, 1, 2], [2, 1, 0], [1, 2, 0], [1, 0, 2]]:\n",
    "        probs = state.probabilities(qargs)\n",
    "        print('P({})'.format(qargs),probs)\n",
    "        \n",
    "# 2-qubit qargs\n",
    "for qargs in [[0, 1], [2, 1], [1, 2], [1, 2]]:\n",
    "        probs = state.probabilities(qargs)\n",
    "        print('P({})'.format(qargs),probs)\n",
    "        \n",
    "# 1-qubit qargs\n",
    "for qargs in [[0], [1], [2]]:\n",
    "        probs = state.probabilities(qargs)\n",
    "        print('P({})'.format(qargs),probs)"
   ]
  },
  {
   "cell_type": "code",
   "execution_count": 49,
   "metadata": {},
   "outputs": [
    {
     "name": "stdout",
     "output_type": "stream",
     "text": [
      "counts (qargs=[0, 1, 2]) {'001': 1022, '010': 984, '100': 994} 60.0\n",
      "counts (qargs=[2, 1, 0]) {'001': 965, '010': 1018, '100': 1017} 60.0\n",
      "counts (qargs=[1, 2, 0]) {'001': 1004, '010': 999, '100': 997} 60.0\n",
      "counts (qargs=[1, 0, 2]) {'001': 1014, '010': 988, '100': 998} 60.0\n",
      "counts (qargs=[0, 1]) {'00': 961, '01': 1013, '10': 1026} 60.0\n",
      "counts (qargs=[2, 1]) {'00': 1010, '01': 971, '10': 1019} 60.0\n",
      "counts (qargs=[1, 2]) {'00': 1017, '01': 990, '10': 993} 60.0\n",
      "counts (qargs=[1, 2]) {'00': 1002, '01': 966, '10': 1032} 60.0\n",
      "counts (qargs=[0]) {'0': 1995, '1': 1005} 60.0\n",
      "counts (qargs=[1]) {'0': 1968, '1': 1032} 60.0\n",
      "counts (qargs=[2]) {'0': 1973, '1': 1027} 60.0\n"
     ]
    }
   ],
   "source": [
    "# sample_counts method for W state\n",
    "shots = 3000\n",
    "threshold = 0.02 * shots\n",
    "state = DensityMatrix((\n",
    "    Statevector.from_label('001') +\n",
    "    Statevector.from_label('010') +\n",
    "    Statevector.from_label('100')) / np.sqrt(3))\n",
    "state.seed(100)\n",
    "\n",
    "for qargs in [[0, 1, 2], [2, 1, 0], [1, 2, 0], [1, 0, 2]]:\n",
    "        counts = state.sample_counts(shots, qargs=qargs)\n",
    "        print('counts (qargs={})'.format(qargs),counts, threshold)\n",
    "\n",
    "# 2-qubit qargs\n",
    "for qargs in [[0, 1], [2, 1], [1, 2], [1, 2]]:\n",
    "        counts = state.sample_counts(shots, qargs=qargs)\n",
    "        print('counts (qargs={})'.format(qargs),counts, threshold)\n",
    "\n",
    "# 1-qubit qargs\n",
    "for qargs in [[0], [1], [2]]:\n",
    "        counts = state.sample_counts(shots, qargs=qargs)\n",
    "        print('counts (qargs={})'.format(qargs),counts, threshold)"
   ]
  },
  {
   "cell_type": "code",
   "execution_count": 27,
   "metadata": {},
   "outputs": [
    {
     "data": {
      "image/png": "[encoded data removed]",
      "text/plain": [
       "<Figure size 504x360 with 1 Axes>"
      ]
     },
     "execution_count": 27,
     "metadata": {},
     "output_type": "execute_result"
    }
   ],
   "source": [
    "counts = execute(qc_ha,Aer.get_backend('qasm_simulator')).result().get_counts()\n",
    "plot_histogram(counts)"
   ]
  },
  {
   "cell_type": "markdown",
   "metadata": {},
   "source": [
    "<b>Results : </b>\n",
    "```\n",
    "0+0 = 00 \n",
    "0+1 = 01 \n",
    "1+0 = 01 \n",
    "1+1 = 00 \n",
    "```\n",
    "We are halfway to a fully working half adder - the right bit is done. Now we need to work with the left bit of the output (it will be on qubit 4).\n",
    "\n",
    "There is only one case for which this bit is ```1``` : ```1+1```=```10```. It happens only when both the bits we are adding are ```1```. So, when both of the inputs are ```1```, we perform a NOT operation on qubit 4 to flip it to ```1```. For this we shall use a *Toffoli* gate (it represents an AND operation)."
   ]
  },
  {
   "cell_type": "code",
   "execution_count": 38,
   "metadata": {},
   "outputs": [
    {
     "data": {
      "image/png": "[encoded data removed]",
      "text/plain": [
       "<Figure size 659.792x325.08 with 1 Axes>"
      ]
     },
     "execution_count": 38,
     "metadata": {},
     "output_type": "execute_result"
    }
   ],
   "source": [
    "qc_ha = QuantumCircuit(4,2)\n",
    "# encode inputs in qubits 0 and 1\n",
    "qc_ha.x(0) # For a=0, remove the this line. For a=1, leave it.\n",
    "qc_ha.x(1) # For b=0, remove the this line. For b=1, leave it.\n",
    "qc_ha.barrier()\n",
    "# use cnots to write the XOR of the inputs on qubit 2\n",
    "qc_ha.cx(0,2)\n",
    "qc_ha.cx(1,2)\n",
    "qc_ha.barrier()\n",
    "# use ccx to write the AND of the inputs on qubit 3\n",
    "qc_ha.ccx(0,1,3)\n",
    "# extract outputs\n",
    "qc_ha.measure(2,0) # for XOR\n",
    "qc_ha.measure(3,1) # for AND\n",
    "\n",
    "qc_ha.draw(output='mpl')"
   ]
  },
  {
   "cell_type": "code",
   "execution_count": 39,
   "metadata": {},
   "outputs": [
    {
     "data": {
      "image/png": "[encoded data removed]",
      "text/plain": [
       "<Figure size 504x360 with 1 Axes>"
      ]
     },
     "execution_count": 39,
     "metadata": {},
     "output_type": "execute_result"
    }
   ],
   "source": [
    "counts = execute(qc_ha,Aer.get_backend('qasm_simulator')).result().get_counts()\n",
    "plot_histogram(counts)"
   ]
  },
  {
   "cell_type": "markdown",
   "metadata": {},
   "source": [
    "<b>Results : </b>\n",
    "```\n",
    "0+0 = 00 \n",
    "0+1 = 01 \n",
    "1+0 = 01 \n",
    "1+1 = 10 \n",
    "```\n",
    "\n",
    "This circuit in QC that can solve the mathematical problem of 2 qubits addition."
   ]
  },
  {
   "cell_type": "code",
   "execution_count": null,
   "metadata": {},
   "outputs": [],
   "source": []
  }
 ],
 "metadata": {
  "kernelspec": {
   "display_name": "Python 3",
   "language": "python",
   "name": "python3"
  },
  "language_info": {
   "codemirror_mode": {
    "name": "ipython",
    "version": 3
   },
   "file_extension": ".py",
   "mimetype": "text/x-python",
   "name": "python",
   "nbconvert_exporter": "python",
   "pygments_lexer": "ipython3",
   "version": "3.8.2"
  }
 },
 "nbformat": 4,
 "nbformat_minor": 2
}
