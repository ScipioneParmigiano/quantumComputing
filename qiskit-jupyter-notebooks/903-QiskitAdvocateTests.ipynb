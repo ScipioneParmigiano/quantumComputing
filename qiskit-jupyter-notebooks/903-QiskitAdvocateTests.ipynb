{
 "cells": [
  {
   "cell_type": "code",
   "execution_count": 1,
   "metadata": {},
   "outputs": [],
   "source": [
    "#Qiskit Advocate Questions\n",
    "#Questions related to Qiskit Aer\n",
    "%matplotlib inline\n",
    "# Importing standard Qiskit libraries and configuring account\n",
    "import numpy as np\n",
    "from qiskit import QuantumCircuit, execute, Aer, IBMQ, QuantumRegister\n",
    "from qiskit.compiler import transpile, assemble\n",
    "from qiskit.tools.jupyter import *\n",
    "\n",
    "# lib from Qiskit Aqua\n",
    "from qiskit.transpiler import PassManager, CouplingMap\n",
    "from qiskit.transpiler.passes import BasicSwap\n",
    "from qiskit import Aer\n",
    "from qiskit.visualization import plot_histogram\n",
    "from qiskit.circuit.library import HGate, CXGate\n",
    "from qiskit.providers.aer import StatevectorSimulator, QasmSimulator\n",
    "\n",
    "# Loading your IBM Q account(s)\n",
    "provider = IBMQ.load_account()\n",
    "q_simulator = Aer.get_backend('qasm_simulator')\n",
    "u_simulator = Aer.get_backend('unitary_simulator')\n",
    "s_simulator = Aer.get_backend('statevector_simulator')"
   ]
  },
  {
   "cell_type": "code",
   "execution_count": 17,
   "metadata": {},
   "outputs": [
    {
     "data": {
      "image/png": "[encoded data removed]",
      "text/plain": [
       "<Figure size 504x360 with 1 Axes>"
      ]
     },
     "execution_count": 17,
     "metadata": {},
     "output_type": "execute_result"
    }
   ],
   "source": [
    "#1. Which of the following could be the result of the following Aer simulation?\n",
    "circ = QuantumCircuit(3, 3)\n",
    "circ.h(0)\n",
    "circ.h(1)\n",
    "circ.cx(0, 1)\n",
    "circ.cx(0, 2)\n",
    "circ.measure([0,1,2],[0,1,2])\n",
    "\n",
    "simulator = Aer.get_backend('qasm_simulator')\n",
    "\n",
    "result = execute(circ, simulator).result()\n",
    "counts = result.get_counts(circ)\n",
    "plot_histogram(counts)"
   ]
  },
  {
   "cell_type": "markdown",
   "metadata": {},
   "source": [
    "A. <img src=\"questions/aer1_images/1_w1.png\">\n",
    "B. <img src=\"questions/aer1_images/1_w2.png\">\n",
    "C. <img src=\"questions/aer1_images/1_w3.png\">\n",
    "D. <img src=\"questions/aer1_images/1_w4.png\">\n",
    "E. None of the above"
   ]
  },
  {
   "cell_type": "code",
   "execution_count": 3,
   "metadata": {},
   "outputs": [
    {
     "name": "stdout",
     "output_type": "stream",
     "text": [
      "[ExperimentResult(data=ExperimentResultData(statevector=array([0.35355339+0.j, 0.35355339+0.j, 0.35355339+0.j, 0.35355339+0.j,\n",
      "       0.35355339+0.j, 0.35355339+0.j, 0.35355339+0.j, 0.35355339+0.j])), header=Obj(clbit_labels=[], creg_sizes=[], memory_slots=0, n_qubits=3, name='circuit8', qreg_sizes=[['q', 3]], qubit_labels=[['q', 0], ['q', 1], ['q', 2]]), meas_level=<MeasLevel.CLASSIFIED: 2>, metadata={'parallel_shots': 1, 'parallel_state_update': 4}, seed_simulator=1122849803, shots=1024, status='DONE', success=True, time_taken=0.0288374)]\n"
     ]
    }
   ],
   "source": [
    "#2. What is the result of this circuit when run on the statevector simulator?\n",
    "qc = QuantumCircuit(3)\n",
    "qc.h([0,1,2])\n",
    "\"\"\"\n",
    "Note L Question variation - The circuit may also be written as\n",
    "qr = QuantumRegister(3)\n",
    "qc = QuantumCircuit(qr)\n",
    "qc.h(qr)\n",
    "\"\"\"\n",
    "s_results = execute(qc, backend=s_simulator).result()\n",
    "print(s_results.results)\n",
    "#A. [0.35355339+0.j, 0.35355339+0.j, 0.35355339+0.j, 0.35355339+0.j,\n",
    "# 0.35355339+0.j, 0.35355339+0.j, 0.35355339+0.j, 0.35355339+0.j]\n",
    "#B. [0.70710678+0j, 0.70710678+0j, 0.70710678+0j, 0.70710678+0j, \n",
    "#0.70710678+0j, 0.70710678+0j, 0.70710678+0j, 0.70710678+0j]\n",
    "#C. [0+0.70710678j, 0.70710678+0j,0+0.70710678j, 0.70710678+0j, \n",
    "# 0+0.70710678j, 0.70710678+0j, 0+0.70710678j, 0.70710678+0j]\n",
    "#D. [0.35355339+0.j, 0+0.35355339j, 0.35355339+0.j, 0+0.35355339j, \n",
    "# 0.35355339+0.j, 0+0.35355339j, 0.35355339+0.j, 0+0.35355339j]\n",
    "#None of the above"
   ]
  },
  {
   "cell_type": "code",
   "execution_count": 6,
   "metadata": {},
   "outputs": [
    {
     "name": "stdout",
     "output_type": "stream",
     "text": [
      "[[ 0.+0.j  0.+0.j  0.+0.j  1.+0.j]\n",
      " [ 0.+0.j  0.+0.j -1.+0.j  0.+0.j]\n",
      " [ 0.+0.j  1.+0.j  0.+0.j  0.+0.j]\n",
      " [-1.+0.j  0.+0.j  0.+0.j  0.+0.j]]\n"
     ]
    }
   ],
   "source": [
    "#3. What is the result of this circuit when run on the unitary simulator?\n",
    "qc = QuantumCircuit(2)\n",
    "qc.x([0,1])\n",
    "qc.z(0)\n",
    "u_results = execute(qc, backend=u_simulator).result()\n",
    "print(u_results.get_unitary())\n",
    "#A. [[ 0.+0.j  0.+0.j  0.+0.j  1.+0.j]\n",
    "#  [ 0.+0.j  0.+0.j -1.+0.j  0.+0.j]\n",
    "# [ 0.+0.j  1.+0.j  0.+0.j  0.+0.j]\n",
    "# [-1.+0.j  0.+0.j  0.+0.j  0.+0.j]]\n",
    "\n",
    "#B. [[ 0.+0.j  1.+0.j  0.+0.j  0.+0.j]\n",
    "# [ 0.+0.j  0.+0.j -1.+0.j  0.+0.j]\n",
    "# [ 0.+0.j  0.+0.j  0.+0.j  1.+0.j]\n",
    "# [-1.+0.j  0.+0.j  0.+0.j  0.+0.j]]\n",
    "\n",
    "#C. [[ 0.+0.j  0.+0.j -1.+0.j  0.+0.j]\n",
    "# [ 0.+0.j  1.+0.j  0.+0.j  0.+0.j]\n",
    "# [ 0.+0.j  0.+0.j  0.+0.j  1.+0.j]\n",
    "# [-1.+0.j  0.+0.j  0.+0.j  0.+0.j]]\n",
    "\n",
    "#D. [[ 0.+0.j  0.+0.j -1.+0.j  0.+0.j]\n",
    "# [ 0.+0.j  1.+0.j  0.+0.j  0.+0.j]\n",
    "# [ 0.+0.j  0.+0.j  0.+0.j  1.+0.j]\n",
    "# [-1.+0.j  0.+0.j  0.+0.j  0.+0.j]]\n",
    "\n",
    "#None of the above"
   ]
  },
  {
   "cell_type": "code",
   "execution_count": 29,
   "metadata": {},
   "outputs": [
    {
     "name": "stdout",
     "output_type": "stream",
     "text": [
      "['00', '10', '11', '11', '01', '00', '11', '00', '10', '10', '10', '01', '00', '10', '11']\n"
     ]
    }
   ],
   "source": [
    "#4. Which of these configuration options could result in the following result object/counts?\n",
    "# Construct quantum circuit\n",
    "circ = QuantumCircuit(2)\n",
    "circ.h([0,1])\n",
    "circ.measure_all()\n",
    "# Select the QasmSimulator from the Aer provider\n",
    "simulator = Aer.get_backend('qasm_simulator')\n",
    "\n",
    "# Execute and get memory\n",
    "#result = <span style=\"color:red;\">execute(*what goes in here?*)</span>.result()\n",
    "result = execute(circ, QasmSimulator(), shots=15, memory=True).result()\n",
    "memory = result.get_memory(circ)\n",
    "print(memory)\n",
    "#> ['01', '10', '00', '11', '00', '10', '00', '01', '00', '11', '11', '11', '11',' 11',' 11']\n",
    "#1)  execute(qc, StatevectorSimulator(), shots=15, memory=True)\n",
    "#2)  execute(qc, QasmSimulator(), shots=10, memory=True)\n",
    "#3)  execute(qc, QasmSimulator(), shots=15, memory=True)\n",
    "#4)  execute(qc, QasmSimulator(), shots=15, memory=False)\n",
    "#5)  None of the above"
   ]
  },
  {
   "cell_type": "markdown",
   "metadata": {},
   "source": [
    "#5. How do you create a circuit in the following state?\n",
    "<img src=\"http://latex.codecogs.com/svg.latex?\\frac{1}{\\sqrt{2}}\\left(\\vert01\\rangle+\\vert10\\rangle\\right)\" border=\"0\"/>"
   ]
  },
  {
   "cell_type": "code",
   "execution_count": 13,
   "metadata": {},
   "outputs": [
    {
     "name": "stdout",
     "output_type": "stream",
     "text": [
      "Result(backend_name='statevector_simulator', backend_version='0.4.1', date=datetime.datetime(2020, 3, 18, 11, 25, 54, 50828), header=Obj(backend_name='statevector_simulator', backend_version='0.4.1'), job_id='7bc4e356-a68a-4e94-9a8d-458941fd893c', metadata={'max_memory_mb': 16081, 'omp_enabled': True, 'parallel_experiments': 1, 'time_taken': 0.000154289}, qobj_id='a25effe4-c421-42eb-b97f-79ecd65fe988', results=[ExperimentResult(data=ExperimentResultData(statevector=array([0.        +0.j, 0.70710678+0.j, 0.70710678+0.j, 0.        +0.j])), header=Obj(clbit_labels=[], creg_sizes=[], memory_slots=0, n_qubits=2, name='circuit17', qreg_sizes=[['q0', 2]], qubit_labels=[['q0', 0], ['q0', 1]]), meas_level=<MeasLevel.CLASSIFIED: 2>, metadata={'parallel_shots': 1, 'parallel_state_update': 8}, seed_simulator=3216792012, shots=1, status='DONE', success=True, time_taken=7.683700000000001e-05)], status='COMPLETED', success=True, time_taken=0.002565145492553711)\n"
     ]
    }
   ],
   "source": [
    "#A. Circuit 1: \n",
    "qr = QuantumRegister(2)\n",
    "qc = QuantumCircuit(qr)\n",
    "qc.initialize([0, 1, 1, 0] / np.sqrt(2), [qr[0], qr[1]])\n",
    "print(execute(qc, backend=s_simulator).result())"
   ]
  },
  {
   "cell_type": "code",
   "execution_count": 14,
   "metadata": {},
   "outputs": [
    {
     "ename": "SyntaxError",
     "evalue": "positional argument follows keyword argument (<ipython-input-14-c6f41501e1e0>, line 2)",
     "output_type": "error",
     "traceback": [
      "\u001b[0;36m  File \u001b[0;32m\"<ipython-input-14-c6f41501e1e0>\"\u001b[0;36m, line \u001b[0;32m2\u001b[0m\n\u001b[0;31m    qr = QuantumRegister(2, inital_state=[0, 1, 1, 0] / np.sqrt(2), [qr[0], qr[1]])\u001b[0m\n\u001b[0m                                                                   ^\u001b[0m\n\u001b[0;31mSyntaxError\u001b[0m\u001b[0;31m:\u001b[0m positional argument follows keyword argument\n"
     ]
    }
   ],
   "source": [
    "#B. Circuit 2: \n",
    "qr = QuantumRegister(2, inital_state=[0, 1, 1, 0] / np.sqrt(2), [qr[0], qr[1]])\n",
    "qc = QuantumCircuit(qr)\n",
    "print(execute(qc, backend=s_simulator).result())"
   ]
  },
  {
   "cell_type": "code",
   "execution_count": 15,
   "metadata": {},
   "outputs": [
    {
     "ename": "SyntaxError",
     "evalue": "positional argument follows keyword argument (<ipython-input-15-7488066656a7>, line 3)",
     "output_type": "error",
     "traceback": [
      "\u001b[0;36m  File \u001b[0;32m\"<ipython-input-15-7488066656a7>\"\u001b[0;36m, line \u001b[0;32m3\u001b[0m\n\u001b[0;31m    qc = QuantumCircuit(qr, inital_state=[0, 1, 1, 0] / np.sqrt(2), [qr[0], qr[1]])\u001b[0m\n\u001b[0m                                                                   ^\u001b[0m\n\u001b[0;31mSyntaxError\u001b[0m\u001b[0;31m:\u001b[0m positional argument follows keyword argument\n"
     ]
    }
   ],
   "source": [
    "#C. Circuit 3: \n",
    "qr = QuantumRegister(2)\n",
    "qc = QuantumCircuit(qr, inital_state=[0, 1, 1, 0] / np.sqrt(2), [qr[0], qr[1]])\n",
    "print(execute(qc, backend=s_simulator).result())"
   ]
  },
  {
   "cell_type": "code",
   "execution_count": 16,
   "metadata": {},
   "outputs": [
    {
     "name": "stdout",
     "output_type": "stream",
     "text": [
      "Result(backend_name='statevector_simulator', backend_version='0.4.1', date=datetime.datetime(2020, 3, 18, 11, 27, 36, 535640), header=Obj(backend_name='statevector_simulator', backend_version='0.4.1'), job_id='11dd35f1-b1b1-46ea-84db-de88345d9502', metadata={'max_memory_mb': 16081, 'omp_enabled': True, 'parallel_experiments': 1, 'time_taken': 0.000155665}, qobj_id='f5d21c84-197f-45ea-9b89-c30e194f61ef', results=[ExperimentResult(data=ExperimentResultData(statevector=array([0.70710678+0.j, 0.        +0.j, 0.70710678+0.j, 0.        +0.j])), header=Obj(clbit_labels=[], creg_sizes=[], memory_slots=0, n_qubits=2, name='circuit19', qreg_sizes=[['q1', 2]], qubit_labels=[['q1', 0], ['q1', 1]]), meas_level=<MeasLevel.CLASSIFIED: 2>, metadata={'parallel_shots': 1, 'parallel_state_update': 8}, seed_simulator=642617439, shots=1, status='DONE', success=True, time_taken=7.874100000000001e-05)], status='COMPLETED', success=True, time_taken=0.0027017593383789062)\n"
     ]
    }
   ],
   "source": [
    "#D. Circuit 4: \n",
    "qr = QuantumRegister(2)\n",
    "qc = QuantumCircuit(qr)\n",
    "qc.initialize([1, 0, 1, 0] / np.sqrt(2), [qr[0], qr[1]])\n",
    "print(execute(qc, backend=s_simulator).result())"
   ]
  },
  {
   "cell_type": "code",
   "execution_count": 17,
   "metadata": {},
   "outputs": [],
   "source": [
    "#None of the above"
   ]
  },
  {
   "cell_type": "code",
   "execution_count": 9,
   "metadata": {},
   "outputs": [
    {
     "name": "stdout",
     "output_type": "stream",
     "text": [
      "[0.70710678+0.j 0.        +0.j 0.        +0.j 0.70710678+0.j]\n",
      "Statevector([0.70710678+0.j, 0.        +0.j, 0.        +0.j,\n",
      "             0.70710678+0.j],\n",
      "            dims=(2, 2))\n",
      "Statevector([0.70710678+0.j, 0.        +0.j, 0.70710678+0.j,\n",
      "             0.        +0.j],\n",
      "            dims=(2, 2))\n",
      "Statevector([0.70710678+0.j, 0.        +0.j, 0.        +0.j,\n",
      "             0.70710678+0.j],\n",
      "            dims=(2, 2))\n",
      "Statevector([0.70710678+0.j, 0.        +0.j, 0.        +0.j,\n",
      "             0.70710678+0.j],\n",
      "            dims=(2, 2))\n"
     ]
    }
   ],
   "source": [
    "# You can also use Statevector class in the quantum_info module to simulate circuits and obtain state vector.\n",
    "#Given the following code, which option produces a different state vector from the rest?\n",
    "\n",
    "import qiskit.quantum_info as qi\n",
    "import numpy as np\n",
    "qc = QuantumCircuit(2)\n",
    "qc.h(0)\n",
    "qc.cx(0,1)\n",
    "print(execute(qc, backend=s_simulator).result().get_statevector())        \n",
    "\n",
    "#1)  qi.Statevector.from_instruction(qc)\n",
    "#2)  qi.Statevector(np.array([1, 0, 1, 0]) / np.sqrt(2))\n",
    "#3)  np.sqrt(0.5) * (qi.Statevector.from_label('00') + qi.Statevector.from_label('11'))\n",
    "#4)  qi.Statevector.from_label('00').evolve(qc)\n",
    "#5)  None of the above\n",
    "print(qi.Statevector.from_instruction(qc))\n",
    "print(qi.Statevector(np.array([1, 0, 1, 0]) / np.sqrt(2)))\n",
    "print(np.sqrt(0.5) * (qi.Statevector.from_label('00') + qi.Statevector.from_label('11')))\n",
    "print(qi.Statevector.from_label('00').evolve(qc))"
   ]
  },
  {
   "cell_type": "code",
   "execution_count": 16,
   "metadata": {},
   "outputs": [
    {
     "name": "stdout",
     "output_type": "stream",
     "text": [
      "[[ 0.70710678+0.00000000e+00j  0.70710678-8.65956056e-17j\n",
      "   0.        +0.00000000e+00j  0.        +0.00000000e+00j]\n",
      " [ 0.        +0.00000000e+00j  0.        +0.00000000e+00j\n",
      "   0.70710678+0.00000000e+00j -0.70710678+8.65956056e-17j]\n",
      " [ 0.        +0.00000000e+00j  0.        +0.00000000e+00j\n",
      "   0.70710678+0.00000000e+00j  0.70710678-8.65956056e-17j]\n",
      " [ 0.70710678+0.00000000e+00j -0.70710678+8.65956056e-17j\n",
      "   0.        +0.00000000e+00j  0.        +0.00000000e+00j]]\n",
      "Operator([[ 0.70710678+0.j,  0.70710678+0.j,  0.        +0.j,\n",
      "            0.        +0.j],\n",
      "          [ 0.        +0.j,  0.        +0.j,  0.70710678+0.j,\n",
      "           -0.70710678+0.j],\n",
      "          [ 0.        +0.j,  0.        +0.j,  0.70710678+0.j,\n",
      "            0.70710678+0.j],\n",
      "          [ 0.70710678+0.j, -0.70710678+0.j,  0.        +0.j,\n",
      "            0.        +0.j]],\n",
      "         input_dims=(2, 2), output_dims=(2, 2))\n",
      "Operator([[ 0.70710678+0.j,  0.70710678+0.j,  0.        +0.j,\n",
      "            0.        +0.j],\n",
      "          [ 0.        +0.j,  0.        +0.j,  0.70710678+0.j,\n",
      "           -0.70710678+0.j],\n",
      "          [ 0.        +0.j,  0.        +0.j,  0.70710678+0.j,\n",
      "            0.70710678+0.j],\n",
      "          [ 0.70710678+0.j, -0.70710678+0.j,  0.        +0.j,\n",
      "            0.        +0.j]],\n",
      "         input_dims=(2, 2), output_dims=(2, 2))\n",
      "Operator([[ 0.70710678+0.j,  0.70710678+0.j,  0.        +0.j,\n",
      "            0.        +0.j],\n",
      "          [ 0.        +0.j,  0.        +0.j,  0.70710678+0.j,\n",
      "           -0.70710678+0.j],\n",
      "          [ 0.        +0.j,  0.        +0.j,  0.70710678+0.j,\n",
      "            0.70710678+0.j],\n",
      "          [ 0.70710678+0.j, -0.70710678+0.j,  0.        +0.j,\n",
      "            0.        +0.j]],\n",
      "         input_dims=(2, 2), output_dims=(2, 2))\n"
     ]
    }
   ],
   "source": [
    "#You can also use Operator class in the quantum_info module to simulate circuits and obtain unitary.\n",
    "#Given the following code, which option produces a different unitary from the rest?\n",
    "\n",
    "import qiskit.quantum_info as qi\n",
    "qc = QuantumCircuit(2)\n",
    "qc.h(0)\n",
    "qc.cx(0,1)\n",
    "print(execute(qc, backend=u_simulator).result().get_unitary())        \n",
    "                \n",
    "#1)  qi.Operator(qc)\n",
    "#2)  qi.Operator.from_label('II').compose(HGate(), [0]).compose(CXGate(), [0, 1])\n",
    "#3)  qi.Operator.from_label('HI') + qi.Operator.from_label('CX')\n",
    "#4)  qi.Operator.from_label('II').compose(qc)\n",
    "#5)  None of the above\n",
    "\n",
    "print(qi.Operator(qc))\n",
    "print(qi.Operator.from_label('II').compose(HGate(), [0]).compose(CXGate(), [0, 1]))\n",
    "#print(qi.Operator.from_label('HI') + qi.Operator.from_label('CX'))\n",
    "print(qi.Operator.from_label('II').compose(qc))\n"
   ]
  },
  {
   "cell_type": "code",
   "execution_count": null,
   "metadata": {},
   "outputs": [],
   "source": [
    "# Clifford circuits can be efficiently simulated classically in Qiskit using Clifford class in the quantum_info module.\n",
    "#Which of the following is not a Clifford gate?\n",
    "#1)  XGate\n",
    "#2)  SdgGate\n",
    "#3)  CXGate\n",
    "#4)  RZGate\n",
    "#5)  None of the above"
   ]
  }
 ],
 "metadata": {
  "kernelspec": {
   "display_name": "Python 3",
   "language": "python",
   "name": "python3"
  },
  "language_info": {
   "codemirror_mode": {
    "name": "ipython",
    "version": 3
   },
   "file_extension": ".py",
   "mimetype": "text/x-python",
   "name": "python",
   "nbconvert_exporter": "python",
   "pygments_lexer": "ipython3",
   "version": "3.8.2"
  }
 },
 "nbformat": 4,
 "nbformat_minor": 4
}
