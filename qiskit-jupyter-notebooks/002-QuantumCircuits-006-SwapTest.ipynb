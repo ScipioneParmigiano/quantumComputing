{
 "cells": [
  {
   "cell_type": "code",
   "execution_count": 2,
   "metadata": {},
   "outputs": [],
   "source": [
    "%matplotlib inline\n",
    "#Amitava Chakraborty - 16th Feb 2020\n",
    "# Swap Test - Given two unknown quantum states, determine how much them differ\n",
    "\n",
    "# Importing standard Qiskit libraries and configuring account\n",
    "import numpy as np\n",
    "from qiskit import ClassicalRegister, QuantumRegister, QuantumCircuit, execute\n",
    "from qiskit import IBMQ, BasicAer\n",
    "from qiskit.quantum_info import Pauli, state_fidelity, basis_state, process_fidelity\n",
    "from qiskit.visualization import plot_histogram\n",
    "\n",
    "q_simulator = BasicAer.get_backend('qasm_simulator')\n",
    "s_simulator = BasicAer.get_backend('statevector_simulator')"
   ]
  },
  {
   "cell_type": "code",
   "execution_count": 3,
   "metadata": {},
   "outputs": [
    {
     "data": {
      "text/plain": [
       "<qiskit.circuit.instructionset.InstructionSet at 0x19a63e93a90>"
      ]
     },
     "execution_count": 3,
     "metadata": {},
     "output_type": "execute_result"
    }
   ],
   "source": [
    "qr = QuantumRegister(3)  # Initialize qubits\n",
    "cr = ClassicalRegister(1)  # Initialize bits for record measurements\n",
    "circuit = QuantumCircuit(qr, cr)\n",
    "\n",
    "# Create 'unknown' states\n",
    "circuit.x(qr[1])\n",
    "circuit.barrier()\n",
    "\n",
    "# Swap test\n",
    "circuit.h(qr[2])\n",
    "circuit.cswap(qr[2], qr[0], qr[1])\n",
    "#circuit.h(qr[2])\n",
    "\n",
    "circuit.barrier()\n",
    "\n",
    "# Measure\n",
    "circuit.measure(qr[2], cr[0])\n",
    "# If unknown states are: \n",
    "# 1. Orthogonal, then 0 is measured with probability 50%\n",
    "# 2. Equal, then 0 is measured with probability 100%"
   ]
  },
  {
   "cell_type": "code",
   "execution_count": 4,
   "metadata": {},
   "outputs": [
    {
     "name": "stdout",
     "output_type": "stream",
     "text": [
      "{'1': 518, '0': 506}\n"
     ]
    }
   ],
   "source": [
    "# Run the circuit with local simulator\n",
    "results = execute(circuit, backend=q_simulator, shots=1024).result()\n",
    "answer = results.get_counts()\n",
    "print(answer)\n",
    "# Since our states are orthogonal (qr[0] = |0>, qr[1] = |1>)\n",
    "# 0 is observed with probability approx. 50%  and\n",
    "# 1 is observed with probability approx. 50%."
   ]
  },
  {
   "cell_type": "markdown",
   "metadata": {},
   "source": [
    "Say, $\\left\\vert \\psi \\right\\rangle$ can be either of two values, a or b. Can we check the value of $\\left\\vert \\psi \\right\\rangle$?\n",
    "\n",
    "We may check for state equality with the SWAP test.\n",
    "[Quantum fingerprinting (Buhrman, Cleve, Watrous & de Wolf, 2001)](https://arxiv.org/abs/quant-ph/0102001) seems to be the first paper to introduce the SWAP test.\n",
    "\n",
    "The idea behind this test is:\n",
    "\n",
    " 1. Encode the 2 quantum states using quantum error correction codes to \"increase the difference between them\".\n",
    " 2. Test the 2 code words by using an ancilla register and the procedure below.\n",
    " 3. Read the ancilla register. If it is $\\left\\vert 0 \\right\\rangle$ then the 2 states are probably equal. Else, they are probably different. \n",
    "\n",
    "<img src='images/swapTest.png' alt=\"\" width=\"500\" align=\"middle\"/>\n",
    "\n",
    "We can repeat the procedure multiple times to ensure that the 2 states are equal up to a given probability."
   ]
  },
  {
   "cell_type": "code",
   "execution_count": 8,
   "metadata": {},
   "outputs": [
    {
     "name": "stdout",
     "output_type": "stream",
     "text": [
      "{'0': 1024}\n"
     ]
    },
    {
     "name": "stderr",
     "output_type": "stream",
     "text": [
      "<>:17: SyntaxWarning: assertion is always true, perhaps remove parentheses?\n",
      "<>:25: SyntaxWarning: assertion is always true, perhaps remove parentheses?\n",
      "<>:17: SyntaxWarning: assertion is always true, perhaps remove parentheses?\n",
      "<>:25: SyntaxWarning: assertion is always true, perhaps remove parentheses?\n",
      "<ipython-input-8-68e663ef8b0f>:17: SyntaxWarning: assertion is always true, perhaps remove parentheses?\n",
      "  assert(len(q1) == len(q2), \"The swapped register sizes should match\")\n",
      "<ipython-input-8-68e663ef8b0f>:25: SyntaxWarning: assertion is always true, perhaps remove parentheses?\n",
      "  assert(len(q1) == len(q2), \"The swapped register sizes should match\")\n"
     ]
    }
   ],
   "source": [
    "register_size = 2\n",
    "\n",
    "qr_psi = QuantumRegister(register_size, 'psi')  #For state PSI\n",
    "qr_phi = QuantumRegister(register_size, 'phi')  #For state PHI\n",
    "qr_ancilla = QuantumRegister(1, 'ancilla')\n",
    "cequal = ClassicalRegister(1, 'equal')\n",
    "\n",
    "circuit = QuantumCircuit()\n",
    "\n",
    "circuit.add_register(qr_psi)\n",
    "circuit.add_register(qr_phi)\n",
    "circuit.add_register(qr_ancilla)\n",
    "circuit.add_register(cequal)\n",
    "\n",
    "\n",
    "def cswap(circuit, ctrl, q1, q2) -> None:\n",
    "    assert(len(q1) == len(q2), \"The swapped register sizes should match\")\n",
    "    for i in range(len(q1)):\n",
    "        # Controlled swap\n",
    "        circuit.ccx(ctrl, q1[i], q2[i])\n",
    "        circuit.ccx(ctrl, q2[i], q1[i])\n",
    "        circuit.ccx(ctrl, q1[i], q2[i])\n",
    "\n",
    "def equality_test(circuit, ancilla, q1, q2, classical_register) -> None:\n",
    "    assert(len(q1) == len(q2), \"The swapped register sizes should match\")\n",
    "    circuit.h(ancilla[0])\n",
    "    cswap(circuit, ancilla[0], q1, q2)\n",
    "    circuit.h(ancilla[0])\n",
    "    circuit.measure(ancilla[0], classical_register[0])\n",
    "\n",
    "## Initialisation\n",
    "# We add Hadamard to all the registers - to create PSI\n",
    "circuit.x(qr_phi)\n",
    "circuit.h(qr_psi)\n",
    "# We add Hadamard to all the registers - to create PHI\n",
    "# Modify the initialisation of either PHI or PSI and check the results.\n",
    "circuit.y(qr_phi)\n",
    "circuit.h(qr_phi)\n",
    "\n",
    "## SWAP test\n",
    "equality_test(circuit, qr_ancilla, qr_psi, qr_phi, cequal)\n",
    "\n",
    "res_qasm = execute([circuit], q_simulator, shots=1024).result()\n",
    "counts = res_qasm.get_counts()\n",
    "\n",
    "print(counts)"
   ]
  },
  {
   "cell_type": "markdown",
   "metadata": {},
   "source": [
    "\n",
    "\n",
    "[1]: images/swapTest.png"
   ]
  },
  {
   "cell_type": "code",
   "execution_count": null,
   "metadata": {},
   "outputs": [],
   "source": []
  }
 ],
 "metadata": {
  "kernelspec": {
   "display_name": "Python 3",
   "language": "python",
   "name": "python3"
  },
  "language_info": {
   "codemirror_mode": {
    "name": "ipython",
    "version": 3
   },
   "file_extension": ".py",
   "mimetype": "text/x-python",
   "name": "python",
   "nbconvert_exporter": "python",
   "pygments_lexer": "ipython3",
   "version": "3.8.2"
  }
 },
 "nbformat": 4,
 "nbformat_minor": 2
}
