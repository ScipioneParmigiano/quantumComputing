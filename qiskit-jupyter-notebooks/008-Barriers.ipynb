{
 "cells": [
  {
   "cell_type": "code",
   "execution_count": 2,
   "metadata": {},
   "outputs": [
    {
     "data": {
      "text/plain": [
       "<AccountProvider for IBMQ(hub='ibm-q', group='open', project='main')>"
      ]
     },
     "execution_count": 2,
     "metadata": {},
     "output_type": "execute_result"
    }
   ],
   "source": [
    "#Custom gates\n",
    "#Amitava Chakraborty - 18th Jan 2018\n",
    "from qiskit import IBMQ\n",
    "# Loading your IBM Q account(s)\n",
    "IBMQ.load_account()"
   ]
  },
  {
   "cell_type": "code",
   "execution_count": 2,
   "metadata": {},
   "outputs": [],
   "source": [
    "# Useful additional packages\n",
    "import matplotlib.pyplot as plt\n",
    "%matplotlib inline\n",
    "import numpy as np\n",
    "from math import pi\n",
    "# Importing standard Qiskit libraries and configuring account\n",
    "from qiskit import QuantumCircuit, ClassicalRegister, QuantumRegister, execute, transpile\n",
    "from qiskit.tools.visualization import circuit_drawer\n",
    "from qiskit.quantum_info import state_fidelity\n",
    "from qiskit import BasicAer\n",
    "\n",
    "backend = BasicAer.get_backend('unitary_simulator')"
   ]
  },
  {
   "cell_type": "code",
   "execution_count": 3,
   "metadata": {},
   "outputs": [
    {
     "data": {
      "text/html": [
       "<pre style=\"word-wrap: normal;white-space: pre;background: #fff0;line-height: 1.1;font-family: &quot;Courier New&quot;,Courier,monospace\">      ┌─────────┐┌─────────────┐┌─────────────────┐\n",
       "q0_0: ┤ U1(0.2) ├┤ U2(0.1,0.2) ├┤ U3(0.1,0.2,0.3) ├\n",
       "      └─────────┘└─────────────┘└─────────────────┘</pre>"
      ],
      "text/plain": [
       "      ┌─────────┐┌─────────────┐┌─────────────────┐\n",
       "q0_0: ┤ U1(0.2) ├┤ U2(0.1,0.2) ├┤ U3(0.1,0.2,0.3) ├\n",
       "      └─────────┘└─────────────┘└─────────────────┘"
      ]
     },
     "execution_count": 3,
     "metadata": {},
     "output_type": "execute_result"
    }
   ],
   "source": [
    "#'Barrier' cannot be found in quantum computing textbooks because \n",
    "#it is not a standard primitive of quantum information theory like unitary gates and quantum circuits\n",
    "#The barrier is a directive for circuit compilation \n",
    "#to separate pieces of a circuit so that any optimizations or re-writes \n",
    "#are constrained to only act between barriers \n",
    "#if there are no barriers they act on the whole circuit\n",
    "#This only comes into play when using the transpile or execute functions in Qiskit \n",
    "#(because execute includes a transpile step).\n",
    "\n",
    "#Example\n",
    "#If a circuit has several 1-qubit gates in a row acting on the same qubit \n",
    "#these can be combined into a single 1-qubit gate. \n",
    "#If you wanted to explicitly prevent this sort of behaviour you can place a barrier between them.\n",
    "\n",
    "#Step 1 : Create a 1-qubit circuit with several gates\n",
    "qr = QuantumRegister(1)\n",
    "circuit1 = QuantumCircuit(qr)\n",
    "circuit1.u1(0.2, qr[0])\n",
    "circuit1.u2(0.1,0.2, qr[0])\n",
    "circuit1.u3(0.1, 0.2, 0.3, qr[0])\n",
    "circuit1.draw()"
   ]
  },
  {
   "cell_type": "code",
   "execution_count": 4,
   "metadata": {},
   "outputs": [
    {
     "data": {
      "text/html": [
       "<pre style=\"word-wrap: normal;white-space: pre;background: #fff0;line-height: 1.1;font-family: &quot;Courier New&quot;,Courier,monospace\">      ┌───────────────────────────┐\n",
       "q0_0: ┤ U3(1.6629,0.6018,0.43905) ├\n",
       "      └───────────────────────────┘</pre>"
      ],
      "text/plain": [
       "      ┌───────────────────────────┐\n",
       "q0_0: ┤ U3(1.6629,0.6018,0.43905) ├\n",
       "      └───────────────────────────┘"
      ]
     },
     "execution_count": 4,
     "metadata": {},
     "output_type": "execute_result"
    }
   ],
   "source": [
    "#If we transpile it these gates are combined using the default settings\n",
    "circuit1t = transpile(circuit1)\n",
    "circuit1t.draw()"
   ]
  },
  {
   "cell_type": "code",
   "execution_count": 7,
   "metadata": {},
   "outputs": [],
   "source": [
    "original_depth = circuit1.depth()"
   ]
  },
  {
   "cell_type": "code",
   "execution_count": 5,
   "metadata": {},
   "outputs": [
    {
     "data": {
      "text/html": [
       "<pre style=\"word-wrap: normal;white-space: pre;background: #fff0;line-height: 1.1;font-family: &quot;Courier New&quot;,Courier,monospace\">      ┌─────────┐ ░ ┌─────────────┐ ░ ┌─────────────────┐\n",
       "q1_0: ┤ U1(0.2) ├─░─┤ U2(0.1,0.2) ├─░─┤ U3(0.1,0.2,0.3) ├\n",
       "      └─────────┘ ░ └─────────────┘ ░ └─────────────────┘</pre>"
      ],
      "text/plain": [
       "      ┌─────────┐ ░ ┌─────────────┐ ░ ┌─────────────────┐\n",
       "q1_0: ┤ U1(0.2) ├─░─┤ U2(0.1,0.2) ├─░─┤ U3(0.1,0.2,0.3) ├\n",
       "      └─────────┘ ░ └─────────────┘ ░ └─────────────────┘"
      ]
     },
     "execution_count": 5,
     "metadata": {},
     "output_type": "execute_result"
    }
   ],
   "source": [
    "#Now if we wanted to stop the gates being combined we could add barriers:\n",
    "qr = QuantumRegister(1)\n",
    "circuit2 = QuantumCircuit(qr)\n",
    "circuit2.u1(0.2, qr[0])\n",
    "circuit2.barrier(qr)\n",
    "circuit2.u2(0.1,0.2, qr[0])\n",
    "circuit2.barrier(qr)\n",
    "circuit2.u3(0.1, 0.2, 0.3, qr[0])\n",
    "circuit2.draw()"
   ]
  },
  {
   "cell_type": "code",
   "execution_count": 6,
   "metadata": {},
   "outputs": [
    {
     "data": {
      "text/html": [
       "<pre style=\"word-wrap: normal;white-space: pre;background: #fff0;line-height: 1.1;font-family: &quot;Courier New&quot;,Courier,monospace\">      ┌─────────┐ ░ ┌─────────────┐ ░ ┌─────────────────┐\n",
       "q1_0: ┤ U1(0.2) ├─░─┤ U2(0.1,0.2) ├─░─┤ U3(0.1,0.2,0.3) ├\n",
       "      └─────────┘ ░ └─────────────┘ ░ └─────────────────┘</pre>"
      ],
      "text/plain": [
       "      ┌─────────┐ ░ ┌─────────────┐ ░ ┌─────────────────┐\n",
       "q1_0: ┤ U1(0.2) ├─░─┤ U2(0.1,0.2) ├─░─┤ U3(0.1,0.2,0.3) ├\n",
       "      └─────────┘ ░ └─────────────┘ ░ └─────────────────┘"
      ]
     },
     "execution_count": 6,
     "metadata": {},
     "output_type": "execute_result"
    }
   ],
   "source": [
    "#In this case transpiling wont change the circuit:\n",
    "circuit2t = transpile(circuit2)\n",
    "circuit2t.draw()"
   ]
  },
  {
   "cell_type": "code",
   "execution_count": 8,
   "metadata": {},
   "outputs": [
    {
     "name": "stdout",
     "output_type": "stream",
     "text": [
      "0\n"
     ]
    }
   ],
   "source": [
    "#Barriers do not add to depth\n",
    "print (original_depth - circuit1.depth())"
   ]
  },
  {
   "cell_type": "code",
   "execution_count": null,
   "metadata": {},
   "outputs": [],
   "source": []
  }
 ],
 "metadata": {
  "kernelspec": {
   "display_name": "Python 3",
   "language": "python",
   "name": "python3"
  },
  "language_info": {
   "codemirror_mode": {
    "name": "ipython",
    "version": 3
   },
   "file_extension": ".py",
   "mimetype": "text/x-python",
   "name": "python",
   "nbconvert_exporter": "python",
   "pygments_lexer": "ipython3",
   "version": "3.8.2"
  }
 },
 "nbformat": 4,
 "nbformat_minor": 2
}
