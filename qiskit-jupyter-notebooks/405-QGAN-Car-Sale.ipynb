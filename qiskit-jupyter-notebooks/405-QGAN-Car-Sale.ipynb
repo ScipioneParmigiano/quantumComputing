{
 "cells": [
  {
   "cell_type": "code",
   "execution_count": 1,
   "metadata": {},
   "outputs": [],
   "source": [
    "#Qiskit Machine Learning\n",
    "#A set of tools, algorithms and software for use with IBM QCs to investigate \n",
    "#how to use quantum computing to solve machine learning problems.\n",
    "\n",
    "#Qiskit Aqua: qGAN for Loading Random Distributions\n",
    "#We have a k-dimensional data sample\n",
    "#We employ a quantum Generative Adversarial Network (qGAN) \n",
    "#to learn the underlying random distribution and \n",
    "#to load it into a quantum state:\n",
    "\n",
    "import numpy as np\n",
    "import matplotlib.pyplot as plt\n",
    "%matplotlib inline\n",
    "import time\n",
    "start = time.time()\n",
    "from qiskit import QuantumRegister, QuantumCircuit\n",
    "from qiskit.aqua.components.optimizers import ADAM\n",
    "from qiskit.aqua.components.uncertainty_models import UniformDistribution, UnivariateVariationalDistribution, MultivariateVariationalDistribution \n",
    "from qiskit.aqua.components.variational_forms import RY\n",
    "\n",
    "from qiskit.aqua.algorithms.adaptive import QGAN\n",
    "from qiskit.aqua.components.neural_networks.quantum_generator import QuantumGenerator\n",
    "from qiskit.aqua.components.neural_networks.numpy_discriminator import NumpyDiscriminator\n",
    "\n",
    "from qiskit.aqua import aqua_globals, QuantumInstance\n",
    "from qiskit.aqua.components.initial_states import Custom\n",
    "\n",
    "from qiskit import BasicAer\n",
    "import pandas as pd\n",
    "#from torch import optim"
   ]
  },
  {
   "cell_type": "code",
   "execution_count": 2,
   "metadata": {},
   "outputs": [
    {
     "name": "stdout",
     "output_type": "stream",
     "text": [
      "The best backend is ibmq_essex\n"
     ]
    }
   ],
   "source": [
    "#To access IBMQ devices, we need an API token. \n",
    "#MY_API_TOKEN='eb1f119872f7e77a399da8a5384ecf5fd4a80d5b7aabd15f536e4c4b839ff5f61dd75a262cd02634eeb6e797b87987dae559e301aa8156bf502d3c82a8ea48bc'\n",
    "from qiskit import IBMQ\n",
    "from qiskit.providers.ibmq import least_busy\n",
    "provider = IBMQ.load_account()\n",
    "large_enough_devices = provider.backends(filters=lambda x: x.configuration().n_qubits < 10 and\n",
    "                                                           not x.configuration().simulator)\n",
    "backend = least_busy(large_enough_devices)\n",
    "ibmqc_name = backend.name()\n",
    "print(\"The best backend is \" +ibmqc_name)"
   ]
  },
  {
   "cell_type": "code",
   "execution_count": 3,
   "metadata": {},
   "outputs": [
    {
     "data": {
      "text/html": [
       "<div>\n",
       "<style scoped>\n",
       "    .dataframe tbody tr th:only-of-type {\n",
       "        vertical-align: middle;\n",
       "    }\n",
       "\n",
       "    .dataframe tbody tr th {\n",
       "        vertical-align: top;\n",
       "    }\n",
       "\n",
       "    .dataframe thead th {\n",
       "        text-align: right;\n",
       "    }\n",
       "</style>\n",
       "<table border=\"1\" class=\"dataframe\">\n",
       "  <thead>\n",
       "    <tr style=\"text-align: right;\">\n",
       "      <th></th>\n",
       "      <th>Car_Name</th>\n",
       "      <th>Year</th>\n",
       "      <th>Selling_Price</th>\n",
       "      <th>Present_Price</th>\n",
       "      <th>Kms_Driven</th>\n",
       "      <th>Fuel_Type</th>\n",
       "      <th>Seller_Type</th>\n",
       "      <th>Transmission</th>\n",
       "      <th>Owner</th>\n",
       "    </tr>\n",
       "  </thead>\n",
       "  <tbody>\n",
       "    <tr>\n",
       "      <th>0</th>\n",
       "      <td>ritz</td>\n",
       "      <td>2014</td>\n",
       "      <td>3.35</td>\n",
       "      <td>5.59</td>\n",
       "      <td>27000</td>\n",
       "      <td>Petrol</td>\n",
       "      <td>Dealer</td>\n",
       "      <td>Manual</td>\n",
       "      <td>0</td>\n",
       "    </tr>\n",
       "    <tr>\n",
       "      <th>1</th>\n",
       "      <td>sx4</td>\n",
       "      <td>2013</td>\n",
       "      <td>4.75</td>\n",
       "      <td>9.54</td>\n",
       "      <td>43000</td>\n",
       "      <td>Diesel</td>\n",
       "      <td>Dealer</td>\n",
       "      <td>Manual</td>\n",
       "      <td>0</td>\n",
       "    </tr>\n",
       "    <tr>\n",
       "      <th>2</th>\n",
       "      <td>ciaz</td>\n",
       "      <td>2017</td>\n",
       "      <td>7.25</td>\n",
       "      <td>9.85</td>\n",
       "      <td>6900</td>\n",
       "      <td>Petrol</td>\n",
       "      <td>Dealer</td>\n",
       "      <td>Manual</td>\n",
       "      <td>0</td>\n",
       "    </tr>\n",
       "    <tr>\n",
       "      <th>3</th>\n",
       "      <td>wagon r</td>\n",
       "      <td>2011</td>\n",
       "      <td>2.85</td>\n",
       "      <td>4.15</td>\n",
       "      <td>5200</td>\n",
       "      <td>Petrol</td>\n",
       "      <td>Dealer</td>\n",
       "      <td>Manual</td>\n",
       "      <td>0</td>\n",
       "    </tr>\n",
       "    <tr>\n",
       "      <th>4</th>\n",
       "      <td>swift</td>\n",
       "      <td>2014</td>\n",
       "      <td>4.60</td>\n",
       "      <td>6.87</td>\n",
       "      <td>42450</td>\n",
       "      <td>Diesel</td>\n",
       "      <td>Dealer</td>\n",
       "      <td>Manual</td>\n",
       "      <td>0</td>\n",
       "    </tr>\n",
       "  </tbody>\n",
       "</table>\n",
       "</div>"
      ],
      "text/plain": [
       "  Car_Name  Year  Selling_Price  Present_Price  Kms_Driven Fuel_Type  \\\n",
       "0     ritz  2014           3.35           5.59       27000    Petrol   \n",
       "1      sx4  2013           4.75           9.54       43000    Diesel   \n",
       "2     ciaz  2017           7.25           9.85        6900    Petrol   \n",
       "3  wagon r  2011           2.85           4.15        5200    Petrol   \n",
       "4    swift  2014           4.60           6.87       42450    Diesel   \n",
       "\n",
       "  Seller_Type Transmission  Owner  \n",
       "0      Dealer       Manual      0  \n",
       "1      Dealer       Manual      0  \n",
       "2      Dealer       Manual      0  \n",
       "3      Dealer       Manual      0  \n",
       "4      Dealer       Manual      0  "
      ]
     },
     "execution_count": 3,
     "metadata": {},
     "output_type": "execute_result"
    }
   ],
   "source": [
    "car_Sale_Data = pd.read_csv('car data.csv')\n",
    "car_Sale_Data.head()\n"
   ]
  },
  {
   "cell_type": "code",
   "execution_count": 4,
   "metadata": {},
   "outputs": [
    {
     "name": "stderr",
     "output_type": "stream",
     "text": [
      "E:\\DevelopmentEnvironments\\Anaconda3\\envs\\qiskit_env\\lib\\site-packages\\ipykernel_launcher.py:4: SettingWithCopyWarning: \n",
      "A value is trying to be set on a copy of a slice from a DataFrame.\n",
      "Try using .loc[row_indexer,col_indexer] = value instead\n",
      "\n",
      "See the caveats in the documentation: http://pandas.pydata.org/pandas-docs/stable/indexing.html#indexing-view-versus-copy\n",
      "  after removing the cwd from sys.path.\n"
     ]
    },
    {
     "data": {
      "text/plain": [
       "(500.0, 0.5)"
      ]
     },
     "execution_count": 4,
     "metadata": {},
     "output_type": "execute_result"
    }
   ],
   "source": [
    "car_sale_selected = car_Sale_Data[['Present_Price','Kms_Driven']]\n",
    "# Scale the data for Kms_Driven as it is giving overflow error while calculating the neural network loss function\n",
    "#car_sale_selected['Kms_Driven'] = car_sale_selected.apply(lambda row: (row.Kms_Driven ) /1000 , axis = 1)\n",
    "car_sale_selected['Kms_Driven'] = car_sale_selected['Kms_Driven']/1000\n",
    "car_sale_selected['Kms_Driven'].max(),car_sale_selected['Kms_Driven'].min()\n",
    "\n",
    "#np.isnan(car_sale_selected['Present_Price']).any()\n",
    "#np.isinf(car_sale_selected['Kms_Driven']).any()"
   ]
  },
  {
   "cell_type": "code",
   "execution_count": 22,
   "metadata": {},
   "outputs": [
    {
     "name": "stdout",
     "output_type": "stream",
     "text": [
      "[[5.59000e+00 2.70000e+01]\n",
      " [9.54000e+00 4.30000e+01]\n",
      " [9.85000e+00 6.90000e+00]\n",
      " [4.15000e+00 5.20000e+00]\n",
      " [6.87000e+00 4.24500e+01]\n",
      " [9.83000e+00 2.07100e+00]\n",
      " [8.12000e+00 1.87960e+01]\n",
      " [8.61000e+00 3.34290e+01]\n",
      " [8.89000e+00 2.02730e+01]\n",
      " [8.92000e+00 4.23670e+01]\n",
      " [3.60000e+00 2.13500e+00]\n",
      " [1.03800e+01 5.10000e+01]\n",
      " [9.94000e+00 1.50000e+01]\n",
      " [7.71000e+00 2.60000e+01]\n",
      " [7.21000e+00 7.74270e+01]\n",
      " [1.07900e+01 4.30000e+01]\n",
      " [1.07900e+01 4.16780e+01]\n",
      " [1.07900e+01 4.30000e+01]\n",
      " [5.09000e+00 3.55000e+01]\n",
      " [7.98000e+00 4.14420e+01]\n",
      " [3.95000e+00 2.50000e+01]\n",
      " [5.71000e+00 2.40000e+00]\n",
      " [8.01000e+00 5.00000e+01]\n",
      " [3.46000e+00 4.52800e+01]\n",
      " [4.41000e+00 5.68790e+01]\n",
      " [4.99000e+00 2.00000e+01]\n",
      " [5.87000e+00 5.51380e+01]\n",
      " [6.49000e+00 1.62000e+01]\n",
      " [3.95000e+00 4.45420e+01]\n",
      " [1.03800e+01 4.50000e+01]\n",
      " [5.98000e+00 5.14390e+01]\n",
      " [4.89000e+00 5.42000e+01]\n",
      " [7.49000e+00 3.90000e+01]\n",
      " [9.95000e+00 4.50000e+01]\n",
      " [8.06000e+00 4.50000e+01]\n",
      " [7.74000e+00 4.99980e+01]\n",
      " [7.20000e+00 4.87670e+01]\n",
      " [2.28000e+00 1.27000e+02]\n",
      " [3.76000e+00 1.00790e+01]\n",
      " [7.98000e+00 6.20000e+01]\n",
      " [7.87000e+00 2.45240e+01]\n",
      " [3.98000e+00 4.67060e+01]\n",
      " [7.15000e+00 5.80000e+01]\n",
      " [8.06000e+00 4.57800e+01]\n",
      " [2.69000e+00 5.00000e+01]\n",
      " [1.20400e+01 1.50000e+01]\n",
      " [4.89000e+00 6.45320e+01]\n",
      " [4.15000e+00 6.50000e+01]\n",
      " [7.71000e+00 2.58700e+01]\n",
      " [9.29000e+00 3.70000e+01]\n",
      " [3.06100e+01 1.04707e+02]\n",
      " [3.06100e+01 4.00000e+01]\n",
      " [1.97700e+01 1.50000e+01]\n",
      " [3.06100e+01 1.35000e+02]\n",
      " [1.02100e+01 9.00000e+01]\n",
      " [1.50400e+01 7.00000e+01]\n",
      " [7.27000e+00 4.05340e+01]\n",
      " [1.85400e+01 5.00000e+01]\n",
      " [6.80000e+00 3.94850e+01]\n",
      " [3.59600e+01 4.10000e+01]\n",
      " [1.86100e+01 4.00010e+01]\n",
      " [7.70000e+00 4.05880e+01]\n",
      " [3.59600e+01 7.80000e+01]\n",
      " [3.59600e+01 4.70000e+01]\n",
      " [3.62300e+01 6.00000e+00]\n",
      " [6.95000e+00 4.50000e+01]\n",
      " [2.31500e+01 1.10000e+01]\n",
      " [2.04500e+01 5.90000e+01]\n",
      " [1.37400e+01 8.80000e+01]\n",
      " [2.09100e+01 1.20000e+01]\n",
      " [6.76000e+00 7.10000e+01]\n",
      " [1.24800e+01 4.50000e+01]\n",
      " [1.86100e+01 5.60010e+01]\n",
      " [5.71000e+00 4.30000e+01]\n",
      " [8.93000e+00 8.30000e+01]\n",
      " [6.80000e+00 3.60000e+01]\n",
      " [1.46800e+01 7.20000e+01]\n",
      " [1.23500e+01 1.35154e+02]\n",
      " [2.28300e+01 8.00000e+01]\n",
      " [3.06100e+01 8.90000e+01]\n",
      " [1.48900e+01 2.30000e+01]\n",
      " [7.85000e+00 4.00000e+01]\n",
      " [2.53900e+01 1.50000e+01]\n",
      " [1.34600e+01 3.80000e+01]\n",
      " [1.34600e+01 1.97176e+02]\n",
      " [2.37300e+01 1.42000e+02]\n",
      " [9.26000e+01 7.80000e+01]\n",
      " [1.37400e+01 5.60000e+01]\n",
      " [6.05000e+00 4.70000e+01]\n",
      " [6.76000e+00 4.00000e+01]\n",
      " [1.86100e+01 6.20000e+01]\n",
      " [1.60900e+01 5.82420e+01]\n",
      " [1.37000e+01 7.50000e+01]\n",
      " [3.06100e+01 4.00000e+01]\n",
      " [2.27800e+01 8.90000e+01]\n",
      " [1.86100e+01 7.20000e+01]\n",
      " [2.53900e+01 2.90000e+01]\n",
      " [1.86400e+01 8.70000e+00]\n",
      " [1.86100e+01 4.50000e+01]\n",
      " [2.04500e+01 5.00240e+01]\n",
      " [1.90000e+00 3.00000e+00]\n",
      " [1.82000e+00 1.40000e+00]\n",
      " [1.78000e+00 4.00000e+00]\n",
      " [1.60000e+00 1.20000e+00]\n",
      " [1.47000e+00 4.10000e+00]\n",
      " [2.37000e+00 2.17000e+01]\n",
      " [3.45000e+00 1.65000e+01]\n",
      " [1.50000e+00 1.50000e+01]\n",
      " [1.50000e+00 1.80000e+01]\n",
      " [1.47000e+00 1.10000e+01]\n",
      " [1.78000e+00 6.00000e+00]\n",
      " [1.50000e+00 8.70000e+00]\n",
      " [2.40000e+00 7.00000e+00]\n",
      " [1.40000e+00 3.50000e+01]\n",
      " [1.47000e+00 1.70000e+01]\n",
      " [1.47000e+00 1.75000e+01]\n",
      " [1.47000e+00 3.30000e+01]\n",
      " [1.90000e+00 1.40000e+01]\n",
      " [1.47000e+00 2.60000e+01]\n",
      " [1.90000e+00 5.40000e+00]\n",
      " [1.26000e+00 5.70000e+00]\n",
      " [1.50000e+00 6.90000e+00]\n",
      " [1.17000e+00 6.00000e+00]\n",
      " [1.47000e+00 4.65000e+01]\n",
      " [1.75000e+00 1.15000e+01]\n",
      " [1.75000e+00 4.00000e+01]\n",
      " [9.50000e-01 1.30000e+00]\n",
      " [8.00000e-01 7.00000e+00]\n",
      " [8.70000e-01 3.00000e+00]\n",
      " [8.40000e-01 5.00000e+00]\n",
      " [8.70000e-01 1.10000e+01]\n",
      " [8.20000e-01 1.80000e+01]\n",
      " [9.50000e-01 3.50000e+00]\n",
      " [9.50000e-01 5.00000e-01]\n",
      " [8.10000e-01 1.18000e+01]\n",
      " [7.40000e-01 5.00000e+00]\n",
      " [1.20000e+00 2.35000e+01]\n",
      " [7.87000e-01 1.60000e+01]\n",
      " [8.70000e-01 1.50000e+01]\n",
      " [9.50000e-01 1.66000e+01]\n",
      " [1.20000e+00 3.20000e+01]\n",
      " [8.00000e-01 2.00000e+01]\n",
      " [8.40000e-01 2.90000e+01]\n",
      " [8.40000e-01 2.50000e+01]\n",
      " [9.90000e-01 2.50000e+01]\n",
      " [8.10000e-01 1.90000e+01]\n",
      " [7.87000e-01 1.50000e+01]\n",
      " [8.40000e-01 5.80000e+01]\n",
      " [9.40000e-01 4.50000e+01]\n",
      " [9.40000e-01 2.40000e+01]\n",
      " [8.26000e-01 6.00000e+00]\n",
      " [5.50000e-01 3.10000e+01]\n",
      " [9.90000e-01 1.30000e+01]\n",
      " [9.90000e-01 4.50000e+01]\n",
      " [8.80000e-01 8.00000e+00]\n",
      " [5.10000e-01 4.30000e+00]\n",
      " [5.20000e-01 1.50000e+01]\n",
      " [8.40000e-01 2.30000e+01]\n",
      " [5.40000e-01 8.60000e+00]\n",
      " [5.10000e-01 4.00000e+00]\n",
      " [9.50000e-01 2.40000e+01]\n",
      " [8.26000e-01 2.30000e+01]\n",
      " [9.90000e-01 1.45000e+01]\n",
      " [9.50000e-01 2.70000e+01]\n",
      " [5.40000e-01 1.40000e+01]\n",
      " [5.40000e-01 5.00000e-01]\n",
      " [5.50000e-01 1.00000e+00]\n",
      " [8.10000e-01 4.20000e+01]\n",
      " [7.30000e-01 1.20000e+01]\n",
      " [5.40000e-01 1.40000e+01]\n",
      " [8.30000e-01 5.50000e+00]\n",
      " [5.50000e-01 6.70000e+00]\n",
      " [6.40000e-01 1.37000e+01]\n",
      " [5.10000e-01 1.30000e+00]\n",
      " [7.20000e-01 3.86000e+01]\n",
      " [7.87000e-01 7.50000e+01]\n",
      " [1.05000e+00 3.00000e+01]\n",
      " [5.70000e-01 2.40000e+01]\n",
      " [5.20000e-01 1.90000e+01]\n",
      " [1.05000e+00 2.13000e+02]\n",
      " [5.10000e-01 6.00000e+01]\n",
      " [4.80000e-01 5.00000e+01]\n",
      " [5.80000e-01 3.00000e+01]\n",
      " [4.70000e-01 2.10000e+01]\n",
      " [7.50000e-01 2.60000e+01]\n",
      " [5.80000e-01 1.90000e+00]\n",
      " [5.20000e-01 2.20000e+01]\n",
      " [5.10000e-01 3.20000e+01]\n",
      " [5.70000e-01 1.80000e+01]\n",
      " [5.70000e-01 5.50000e+01]\n",
      " [7.50000e-01 6.00000e+01]\n",
      " [5.70000e-01 2.50000e+01]\n",
      " [7.50000e-01 4.90000e+01]\n",
      " [6.50000e-01 2.40000e+01]\n",
      " [7.87000e-01 5.00000e+01]\n",
      " [3.20000e-01 3.50000e+01]\n",
      " [5.20000e-01 5.00000e+02]\n",
      " [5.10000e-01 3.30000e+01]\n",
      " [5.70000e-01 3.50000e+01]\n",
      " [5.80000e-01 5.30000e+01]\n",
      " [7.50000e-01 9.22330e+01]\n",
      " [6.79000e+00 5.80000e+01]\n",
      " [5.70000e+00 2.82000e+01]\n",
      " [4.60000e+00 5.34600e+01]\n",
      " [4.43000e+00 2.82820e+01]\n",
      " [5.70000e+00 3.49300e+00]\n",
      " [7.13000e+00 1.24790e+01]\n",
      " [5.70000e+00 3.47970e+01]\n",
      " [8.10000e+00 3.43500e+00]\n",
      " [5.70000e+00 2.11250e+01]\n",
      " [4.60000e+00 3.57750e+01]\n",
      " [1.47900e+01 4.35350e+01]\n",
      " [1.36000e+01 2.26710e+01]\n",
      " [6.79000e+00 3.16040e+01]\n",
      " [5.70000e+00 2.01140e+01]\n",
      " [9.40000e+00 3.61000e+01]\n",
      " [4.43000e+00 1.25000e+01]\n",
      " [4.43000e+00 1.50000e+01]\n",
      " [9.40000e+00 4.50780e+01]\n",
      " [9.40000e+00 3.60000e+01]\n",
      " [4.43000e+00 3.84880e+01]\n",
      " [6.79000e+00 3.20000e+01]\n",
      " [7.60000e+00 7.76320e+01]\n",
      " [9.40000e+00 6.13810e+01]\n",
      " [9.40000e+00 3.61980e+01]\n",
      " [4.60000e+00 2.25170e+01]\n",
      " [5.70000e+00 2.46780e+01]\n",
      " [4.43000e+00 5.70000e+01]\n",
      " [9.40000e+00 6.00000e+01]\n",
      " [6.79000e+00 5.21320e+01]\n",
      " [9.40000e+00 4.50000e+01]\n",
      " [9.40000e+00 1.50010e+01]\n",
      " [1.47900e+01 1.29000e+01]\n",
      " [5.70000e+00 5.30000e+01]\n",
      " [5.70000e+00 4.49200e+00]\n",
      " [9.40000e+00 1.51410e+01]\n",
      " [4.43000e+00 1.18490e+01]\n",
      " [1.36000e+01 6.80000e+01]\n",
      " [9.40000e+00 6.02410e+01]\n",
      " [4.43000e+00 2.37090e+01]\n",
      " [9.40000e+00 3.23220e+01]\n",
      " [7.13000e+00 3.58660e+01]\n",
      " [7.13000e+00 3.40000e+01]\n",
      " [7.60000e+00 7.00000e+00]\n",
      " [9.40000e+00 4.90000e+01]\n",
      " [9.40000e+00 7.10000e+01]\n",
      " [6.79000e+00 3.50000e+01]\n",
      " [9.40000e+00 3.60000e+01]\n",
      " [4.60000e+00 3.00000e+01]\n",
      " [7.60000e+00 1.70000e+01]\n",
      " [1.36000e+01 3.59340e+01]\n",
      " [9.90000e+00 5.67010e+01]\n",
      " [6.82000e+00 3.14270e+01]\n",
      " [9.90000e+00 4.80000e+01]\n",
      " [9.90000e+00 5.42420e+01]\n",
      " [5.35000e+00 5.36750e+01]\n",
      " [1.36000e+01 4.95620e+01]\n",
      " [1.36000e+01 4.03240e+01]\n",
      " [1.36000e+01 2.50000e+01]\n",
      " [7.00000e+00 3.60540e+01]\n",
      " [1.36000e+01 2.92230e+01]\n",
      " [5.97000e+00 5.60000e+00]\n",
      " [5.80000e+00 4.00230e+01]\n",
      " [7.70000e+00 1.60020e+01]\n",
      " [7.00000e+00 4.00260e+01]\n",
      " [8.70000e+00 2.12000e+01]\n",
      " [7.00000e+00 3.50000e+01]\n",
      " [9.40000e+00 1.94340e+01]\n",
      " [5.80000e+00 1.90000e+01]\n",
      " [1.00000e+01 1.88280e+01]\n",
      " [1.00000e+01 6.93410e+01]\n",
      " [1.00000e+01 6.95620e+01]\n",
      " [1.00000e+01 2.76000e+01]\n",
      " [7.50000e+00 6.12030e+01]\n",
      " [6.80000e+00 1.65000e+01]\n",
      " [1.36000e+01 3.07530e+01]\n",
      " [1.36000e+01 2.48000e+01]\n",
      " [1.36000e+01 2.17800e+01]\n",
      " [8.40000e+00 4.00000e+00]\n",
      " [1.36000e+01 4.01260e+01]\n",
      " [5.90000e+00 1.44650e+01]\n",
      " [7.60000e+00 5.04560e+01]\n",
      " [1.40000e+01 6.30000e+01]\n",
      " [1.18000e+01 9.01000e+00]\n",
      " [5.90000e+00 9.80000e+00]\n",
      " [8.50000e+00 1.50590e+01]\n",
      " [7.90000e+00 2.85690e+01]\n",
      " [7.50000e+00 4.40000e+01]\n",
      " [1.36000e+01 3.40000e+01]\n",
      " [1.36000e+01 1.09800e+01]\n",
      " [6.40000e+00 1.90000e+01]\n",
      " [6.10000e+00 3.14270e+01]\n",
      " [8.40000e+00 1.20000e+01]\n",
      " [9.90000e+00 3.80000e+01]\n",
      " [6.80000e+00 3.30190e+01]\n",
      " [1.30900e+01 6.00760e+01]\n",
      " [1.16000e+01 3.39880e+01]\n",
      " [5.90000e+00 6.00000e+01]\n",
      " [1.10000e+01 8.79340e+01]\n",
      " [1.25000e+01 9.00000e+00]\n",
      " [5.90000e+00 5.46400e+00]]\n"
     ]
    }
   ],
   "source": [
    "#Load Training Data\n",
    "#First, we need to load the k-dimensional training data samples (here k=1).\n",
    "#Next, the data resolution is set, i.e. \n",
    "#the min/max data values and the number of qubits used to represent each data dimension.\n",
    "\n",
    "# Number training data samples\n",
    "N = 500 \n",
    "\n",
    "# Load data samples from log-normal distribution with mean=1 and standard deviation=1\n",
    "mu = 1\n",
    "sigma = 1\n",
    "#real_data = np.random.lognormal(mean = mu, sigma=sigma, size=N)\n",
    "real_data = car_sale_selected.to_numpy()\n",
    "print (real_data)\n",
    "\n",
    "# Set the data resolution\n",
    "# Set upper and lower data values as list of k min/max data values [[min_0,max_0],...,[min_k-1,max_k-1]]\n",
    "#bounds = np.array([[0.,100.],[500,500000]])\n",
    "bounds = np.array([[0.,100.],[0.,500.]])\n",
    "#print (bounds)\n",
    "# Set number of qubits per data dimension as list of k qubit values[#q_0,...,#q_k-1]\n",
    "num_qubits = [2,1]\n",
    "k = len(num_qubits)"
   ]
  },
  {
   "cell_type": "code",
   "execution_count": 23,
   "metadata": {},
   "outputs": [
    {
     "data": {
      "text/plain": [
       "(0.32, 92.6, 0.5, 500.0)"
      ]
     },
     "execution_count": 23,
     "metadata": {},
     "output_type": "execute_result"
    }
   ],
   "source": [
    "real_data[:,0].min(),real_data[:,0].max(),real_data[:,1].min(),real_data[:,1].max()"
   ]
  },
  {
   "cell_type": "code",
   "execution_count": 24,
   "metadata": {},
   "outputs": [
    {
     "data": {
      "text/plain": [
       "(301, 2)"
      ]
     },
     "execution_count": 24,
     "metadata": {},
     "output_type": "execute_result"
    }
   ],
   "source": [
    "real_data.shape"
   ]
  },
  {
   "cell_type": "code",
   "execution_count": 25,
   "metadata": {},
   "outputs": [
    {
     "data": {
      "text/plain": [
       "array([100., 500.])"
      ]
     },
     "execution_count": 25,
     "metadata": {},
     "output_type": "execute_result"
    }
   ],
   "source": [
    "bounds[:,1]"
   ]
  },
  {
   "cell_type": "code",
   "execution_count": 42,
   "metadata": {},
   "outputs": [
    {
     "name": "stdout",
     "output_type": "stream",
     "text": [
      "<qiskit.aqua.algorithms.adaptive.qgan.qgan.QGAN object at 0x0000017AC4BC5EF0>\n"
     ]
    },
    {
     "data": {
      "image/png": "[encoded data removed]",
      "text/plain": [
       "<Figure size 238.392x204.68 with 1 Axes>"
      ]
     },
     "execution_count": 42,
     "metadata": {},
     "output_type": "execute_result"
    }
   ],
   "source": [
    "#Initialize the qGAN\n",
    "#The qGAN consists of a quantum generator, a variational quantum circuit, and a classical discriminator,\n",
    "#a neural network.\n",
    "#To implement the quantum generator, we choose a depth-1 variational form that implements \n",
    "#R_Y rotations and CZ gates which takes a uniform distribution as an input state. \n",
    "#Notably, for k > 1 the generator's parameters must be chosen carefully. \n",
    "#For example, the circuit depth should be > 1 \n",
    "#because higher circuit depths enable the representation of more complex structures.\n",
    "#The classical discriminator is given by a 3-layer neural network that applies linear transformations, \n",
    "#leaky ReLU functions in the hidden layers and a sigmoid function in the output layer. \n",
    "#Notably, the neural network is implemented with PyTorch. \n",
    "#Please refer to https://pytorch.org/get-started/locally/ for PyTorch installation instructions.\n",
    "#Here, both networks are updated with the ADAM optimization algorithm.\n",
    "\n",
    "# Set number of training epochs - # of times training process should run\n",
    "# Note: The algorithm's runtime can be shortened by reducing the number of training epochs.\n",
    "num_epochs = 150\n",
    "# Batch size\n",
    "batch_size = 50\n",
    "\n",
    " # Initialize qGAN\n",
    "qgan = QGAN(real_data, bounds, num_qubits, batch_size, num_epochs, snapshot_dir=None)\n",
    "qgan.seed = 23\n",
    "print(qgan)\n",
    "# Set quantum instance to run the quantum generator\n",
    "quantum_instance = QuantumInstance(backend=BasicAer.get_backend('statevector_simulator'))\n",
    "\n",
    "#seed = 1059\n",
    "#quantum_instance = QuantumInstance(backend, seed_simulator=seed, seed_transpiler=seed)\n",
    "\n",
    "# Set entangler map\n",
    "entangler_map = [[0, 1],[1,2]]  #Since we are using only two qubits\n",
    "\n",
    "# Set an initial state for the generator circuit\n",
    "init_state = UniformDistribution(sum(num_qubits), low=bounds[:,0], high=bounds[:,1])\n",
    "q = QuantumRegister(sum(num_qubits), name='q')\n",
    "qc = QuantumCircuit(q)\n",
    "#Create a Quantum Circuit to represent the initial state\n",
    "init_state.build(qc, q)\n",
    "qc.draw(output='mpl')"
   ]
  },
  {
   "cell_type": "code",
   "execution_count": 43,
   "metadata": {},
   "outputs": [
    {
     "name": "stdout",
     "output_type": "stream",
     "text": [
      "6\n"
     ]
    }
   ],
   "source": [
    "#Create an Initial Distribution from the circuit\n",
    "init_distribution = Custom(num_qubits=sum(num_qubits), circuit=qc)\n",
    "#Setup the variational form\n",
    "var_form = RY(int(np.sum(num_qubits)), depth=1, initial_state = init_distribution, \n",
    "              entangler_map=entangler_map, entanglement_gate='cz')\n",
    "# Set generator's initial parameters\n",
    "init_params = aqua_globals.random.rand(var_form._num_parameters) * 2 * np.pi\n",
    "print(var_form._num_parameters)\n",
    "#init_params = aqua_globals.random.rand(var_form._num_parameters) *  np.pi\n",
    "# Set generator circuit\n",
    "g_circuit = MultivariateVariationalDistribution(num_qubits, var_form, init_params,low=bounds[:,0], high=bounds[:,1])"
   ]
  },
  {
   "cell_type": "code",
   "execution_count": 44,
   "metadata": {},
   "outputs": [
    {
     "data": {
      "text/plain": [
       "[2, 1]"
      ]
     },
     "execution_count": 44,
     "metadata": {},
     "output_type": "execute_result"
    }
   ],
   "source": [
    "num_qubits"
   ]
  },
  {
   "cell_type": "code",
   "execution_count": 45,
   "metadata": {},
   "outputs": [
    {
     "name": "stdout",
     "output_type": "stream",
     "text": [
      "<qiskit.aqua.components.initial_states.custom.Custom object at 0x0000017AC47C4E80>\n",
      "<qiskit.aqua.components.variational_forms.ry.RY object at 0x0000017AC47C4C50>\n",
      "[3.25027846 5.94994152 4.80952551 1.77434542 1.38886898 4.31166052]\n",
      "<qiskit.aqua.components.uncertainty_models.multivariate_variational_distribution.MultivariateVariationalDistribution object at 0x0000017AC47C4D30>\n"
     ]
    }
   ],
   "source": [
    "print(init_distribution)\n",
    "print(var_form)\n",
    "print(init_params)\n",
    "print(g_circuit)"
   ]
  },
  {
   "cell_type": "code",
   "execution_count": 46,
   "metadata": {},
   "outputs": [
    {
     "name": "stdout",
     "output_type": "stream",
     "text": [
      "<qiskit.aqua.algorithms.adaptive.qgan.qgan.QGAN object at 0x0000017AC4BC5EF0>\n"
     ]
    }
   ],
   "source": [
    "# Set quantum generator\n",
    "qgan.set_generator(generator_circuit=g_circuit)\n",
    "# Set classical discriminator neural network\n",
    "discriminator = NumpyDiscriminator(len(num_qubits))\n",
    "qgan.set_discriminator(discriminator)\n",
    "print(qgan)"
   ]
  },
  {
   "cell_type": "code",
   "execution_count": 47,
   "metadata": {},
   "outputs": [
    {
     "name": "stdout",
     "output_type": "stream",
     "text": [
      "qGAN training runtime:  54.92404718399048  min\n"
     ]
    }
   ],
   "source": [
    "#Run the qGAN Training\n",
    "#During the training the discriminator's and the generator's parameters are updated alternately w.r.t the following loss functions: $$ L_G\\left(\\phi, \\theta\\right) = -\\frac{1}{m}\\sum\\limits_{l=1}^{m}\\left[\\log\\left(D_{\\phi}\\left(g^{l}\\right)\\right)\\right] $$ and $$ L_D\\left(\\phi, \\theta\\right) = \\frac{1}{m}\\sum\\limits_{l=1}^{m}\\left[\\log D_{\\phi}\\left(x^{l}\\right) + \\log\\left(1-D_{\\phi}\\left(g^{l}\\right)\\right)\\right], $$ with $m$ denoting the batch size and $g^l$ describing the data samples generated by the quantum generator.\n",
    "\n",
    "#Please note that the training will take a while ($\\sim 20$ min).\n",
    "\n",
    "# Run qGAN\n",
    "qgan.run(quantum_instance)\n",
    "# Runtime\n",
    "end = time.time()\n",
    "print('qGAN training runtime: ', (end - start)/60., ' min')"
   ]
  },
  {
   "cell_type": "code",
   "execution_count": 48,
   "metadata": {},
   "outputs": [
    {
     "name": "stdout",
     "output_type": "stream",
     "text": [
      "150\n"
     ]
    },
    {
     "data": {
      "image/png": "[encoded data removed]",
      "text/plain": [
       "<Figure size 432x360 with 1 Axes>"
      ]
     },
     "metadata": {
      "needs_background": "light"
     },
     "output_type": "display_data"
    }
   ],
   "source": [
    "#Training Progress & Outcome\n",
    "#Now, we plot the evolution of the generator's and the discriminator's loss functions \n",
    "#during the training as well as the progress in the relative entropy between the trained and the target distribution.\n",
    "#Finally, we also compare the cumulative distribution function (CDF) of the trained distribution \n",
    "#to the CDF of the target distribution.\n",
    "\n",
    "# Plot progress w.r.t the generator's and the discriminator's loss function\n",
    "\n",
    "print(num_epochs)\n",
    "t_steps = np.arange(num_epochs)\n",
    "plt.figure(figsize=(6,5))\n",
    "plt.title(\"Progress in the loss function\")\n",
    "plt.plot(t_steps, qgan.g_loss, label = \"Generator loss function\", color = 'mediumvioletred', linewidth = 2)\n",
    "plt.plot(t_steps, qgan.d_loss, label = \"Discriminator loss function\", color = 'rebeccapurple', linewidth = 2)\n",
    "plt.grid()\n",
    "plt.legend(loc = 'best')\n",
    "plt.xlabel('time steps')\n",
    "plt.ylabel('loss')\n",
    "plt.show()"
   ]
  },
  {
   "cell_type": "code",
   "execution_count": 38,
   "metadata": {},
   "outputs": [
    {
     "data": {
      "image/png": "[encoded data removed]",
      "text/plain": [
       "<Figure size 432x360 with 1 Axes>"
      ]
     },
     "metadata": {
      "needs_background": "light"
     },
     "output_type": "display_data"
    }
   ],
   "source": [
    "# Plot progress w.r.t relative entropy\n",
    "plt.figure(figsize=(6,5))\n",
    "plt.title(\"Relative Entropy \")\n",
    "plt.plot(np.linspace(0, num_epochs, len(qgan.rel_entr)), qgan.rel_entr, color ='mediumblue', lw=4, ls=':')\n",
    "plt.grid()\n",
    "plt.xlabel('time steps')\n",
    "plt.ylabel('relative entropy')\n",
    "plt.show()"
   ]
  },
  {
   "cell_type": "code",
   "execution_count": 39,
   "metadata": {},
   "outputs": [
    {
     "data": {
      "text/plain": [
       "([[0.0, 0.0],\n",
       "  [0.0, 500.0],\n",
       "  [33.333333333333336, 0.0],\n",
       "  [33.333333333333336, 500.0],\n",
       "  [66.66666666666667, 0.0],\n",
       "  [66.66666666666667, 500.0],\n",
       "  [100.0, 0.0],\n",
       "  [100.0, 500.0]],\n",
       " [0.14855693743546203,\n",
       "  0.2032283817157633,\n",
       "  0.2961027601170625,\n",
       "  0.004325211401370145,\n",
       "  0.02957892133337306,\n",
       "  0.2396030053888312,\n",
       "  0.046900392844675,\n",
       "  0.03170438976346363])"
      ]
     },
     "execution_count": 39,
     "metadata": {},
     "output_type": "execute_result"
    }
   ],
   "source": [
    "samples_g, prob_g = qgan.generator.get_output(qgan.quantum_instance, shots=10000)\n",
    "samples_g,prob_g\n"
   ]
  },
  {
   "cell_type": "code",
   "execution_count": 22,
   "metadata": {},
   "outputs": [
    {
     "data": {
      "text/plain": [
       "<matplotlib.axes._subplots.AxesSubplot at 0x1f6a70becd0>"
      ]
     },
     "execution_count": 22,
     "metadata": {},
     "output_type": "execute_result"
    },
    {
     "data": {
      "image/png": "[encoded data removed]",
      "text/plain": [
       "<Figure size 432x288 with 1 Axes>"
      ]
     },
     "metadata": {
      "needs_background": "light"
     },
     "output_type": "display_data"
    }
   ],
   "source": [
    "#samples_g = np.array(samples_g)\n",
    "#samples_g = samples_g.flatten()\n",
    "#num_bins = len(prob_g)\n",
    "#plt.bar(samples_g[:,0],  prob_g, color='royalblue', width= 0.8, label='simulation')\n",
    "#plt.bar(samples_g[:,1],  np.cumsum(prob_g), color='red', width= 0.8, label='simulation')\n",
    "#plt.xticks(np.arange(min(samples_g[:,0]), max(samples_g[:,0])+1, 1.0))\n",
    "#plt.grid()\n",
    "#plt.xlabel('x')\n",
    "#plt.ylabel('p(x)')\n",
    "#plt.legend(loc='best')\n",
    "#plt.show()\n",
    "\n",
    "import seaborn as sn\n",
    "sn.distplot(car_sale_selected['Present_Price'])\n"
   ]
  },
  {
   "cell_type": "code",
   "execution_count": 23,
   "metadata": {},
   "outputs": [
    {
     "data": {
      "text/plain": [
       "<matplotlib.axes._subplots.AxesSubplot at 0x1f6a70ebb50>"
      ]
     },
     "execution_count": 23,
     "metadata": {},
     "output_type": "execute_result"
    },
    {
     "data": {
      "image/png": "[encoded data removed]",
      "text/plain": [
       "<Figure size 432x288 with 1 Axes>"
      ]
     },
     "metadata": {
      "needs_background": "light"
     },
     "output_type": "display_data"
    }
   ],
   "source": [
    "sn.distplot(car_sale_selected['Kms_Driven'])"
   ]
  },
  {
   "cell_type": "code",
   "execution_count": 115,
   "metadata": {},
   "outputs": [
    {
     "data": {
      "text/plain": [
       "[0.014175630341460648,\n",
       " 0.001646450978137167,\n",
       " 0.00026077827447525874,\n",
       " 0.003446247490580029,\n",
       " 0.0583850268030057,\n",
       " 0.010271850254472595,\n",
       " 0.0016148201349084391,\n",
       " 3.5811821845652405e-05,\n",
       " 0.14361782801695708,\n",
       " 0.016680719496815703,\n",
       " 0.002642027795025544,\n",
       " 0.03491503146483672,\n",
       " 0.5915173107776953,\n",
       " 0.1040673880263428,\n",
       " 0.016360257344979784,\n",
       " 0.00036282097846189226]"
      ]
     },
     "execution_count": 115,
     "metadata": {},
     "output_type": "execute_result"
    }
   ],
   "source": [
    "prob_g"
   ]
  },
  {
   "cell_type": "code",
   "execution_count": null,
   "metadata": {},
   "outputs": [],
   "source": []
  }
 ],
 "metadata": {
  "kernelspec": {
   "display_name": "Python 3",
   "language": "python",
   "name": "python3"
  },
  "language_info": {
   "codemirror_mode": {
    "name": "ipython",
    "version": 3
   },
   "file_extension": ".py",
   "mimetype": "text/x-python",
   "name": "python",
   "nbconvert_exporter": "python",
   "pygments_lexer": "ipython3",
   "version": "3.8.2"
  }
 },
 "nbformat": 4,
 "nbformat_minor": 4
}
