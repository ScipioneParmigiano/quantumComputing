{
 "cells": [
  {
   "cell_type": "markdown",
   "metadata": {},
   "source": [
    "# Checking vs. trying all possible cases"
   ]
  },
  {
   "cell_type": "code",
   "execution_count": 1,
   "metadata": {},
   "outputs": [],
   "source": [
    "%matplotlib inline\n",
    "def documents_ok(passport,permanent_resident_card,drivers_license,voter_registration,under_18,report_card,doctor_record,daycare_record,school_id,social_security_card,birth_certificate):\n",
    "    return (passport or permanent_resident_card) or \\\n",
    "            ((drivers_license or school_id or voter_registration) or \\\n",
    "                (under_18 and \\\n",
    "                (report_card or doctor_record or daycare_record)) and \\\n",
    "            (social_security_card or birth_certificate))\n",
    "\n",
    "\n",
    "import itertools\n",
    "works=[]\n",
    "doesnt_work=[]\n",
    "for combo in itertools.product([True,False],repeat=11):\n",
    "    if documents_ok(combo[0],combo[1],combo[2],combo[3],combo[4],combo[5],combo[6],combo[7],combo[8],combo[9],combo[10]):\n",
    "        works+=[combo]\n",
    "    else:\n",
    "        doesnt_work+=[combo]\n"
   ]
  },
  {
   "cell_type": "markdown",
   "metadata": {},
   "source": [
    "# 3SAT"
   ]
  },
  {
   "cell_type": "code",
   "execution_count": 2,
   "metadata": {},
   "outputs": [
    {
     "name": "stdout",
     "output_type": "stream",
     "text": [
      "True\n",
      "['1010', '1110']\n"
     ]
    }
   ],
   "source": [
    "def checker(f,candidate):\n",
    "    \"\"\"\n",
    "    f: can be any function which takes as a string of 1s and 0s which is at least as long as the number of variables in f. \n",
    "    Right most character is the 0th bit.\n",
    "    candidate: should be a string of 1s and 0s which is at least as long as the number of variables in f. \n",
    "    Right most character is the 0th bit.\n",
    "    \"\"\"\n",
    "    return(f(candidate))\n",
    "\n",
    "def try_all_inputs(f,len_input):\n",
    "    import itertools\n",
    "    result=[]\n",
    "    for candidate in [\"\".join(seq) for seq in itertools.product(\"01\", repeat=len_input)]:\n",
    "        if checker(f,candidate):\n",
    "            result+=[candidate]\n",
    "    return result\n",
    "\n",
    "def is_satisfiable(f,len_input):\n",
    "    return len(try_all_inputs(f,len_input))>0\n",
    "            \n",
    "\n",
    "def a_3sat_function_4(binary_string):\n",
    "    \"\"\"\n",
    "    binary_string is a string that is at least 4 characters long with 1s and 0s with the \n",
    "    rightmost character representing the 0th bit\n",
    "    \"\"\"\n",
    "    binary_list=[int(i) for i in binary_string]\n",
    "    binary_list.reverse()\n",
    "    a,b,c,d=binary_list[0:4]\n",
    "    return (not a or b or d) and \\\n",
    "            (not b or c or d) and \\\n",
    "            (a or not c or d) and \\\n",
    "            (not a or not b or not d) and \\\n",
    "            (b or not c or not d) and \\\n",
    "            (not a or c or not d) and \\\n",
    "            (a or b or c) and \\\n",
    "            (not a or not b or not c) \n",
    "\n",
    "print(is_satisfiable(a_3sat_function_4,4))\n",
    "print(try_all_inputs(a_3sat_function_4,4))\n"
   ]
  },
  {
   "cell_type": "code",
   "execution_count": 4,
   "metadata": {},
   "outputs": [],
   "source": [
    "def a_mystery_function_3(binary_string):\n",
    "    \"\"\"\n",
    "    binary_string is a string that is at least 4 characters long with 1s and 0s with the \n",
    "    rightmost character representing the 0th bit\n",
    "    \"\"\"\n",
    "    binary_list=[int(i) for i in binary_string]\n",
    "    binary_list.reverse()\n",
    "    a,b,c=binary_list[0:3]\n",
    "    return (a or b or not c) and \\\n",
    "            (a or b or c) and \\\n",
    "            (a or not b or c) and \\\n",
    "            (a or not b or not c) and \\\n",
    "            (not a or b or not c) and \\\n",
    "            (not a or b or c) and \\\n",
    "            (not a or not b or not c)\n",
    "\n",
    "\n",
    "def a_mystery_function_2(binary_string):\n",
    "    \"\"\"\n",
    "    binary_string is a string that is at least 4 characters long with 1s and 0s with the \n",
    "    rightmost character representing the 0th bit\n",
    "    \"\"\"\n",
    "    binary_list=[int(i) for i in binary_string]\n",
    "    binary_list.reverse()\n",
    "    a,b=binary_list[0:2]\n",
    "    return a and not b"
   ]
  },
  {
   "cell_type": "code",
   "execution_count": 5,
   "metadata": {},
   "outputs": [
    {
     "name": "stdout",
     "output_type": "stream",
     "text": [
      "['011']\n",
      "['01']\n"
     ]
    }
   ],
   "source": [
    "print(try_all_inputs(a_mystery_function_3,3))\n",
    "\n",
    "print(try_all_inputs(a_mystery_function_2,2))\n"
   ]
  },
  {
   "cell_type": "markdown",
   "metadata": {},
   "source": [
    "# Toffoli Gate"
   ]
  },
  {
   "cell_type": "code",
   "execution_count": 6,
   "metadata": {},
   "outputs": [
    {
     "name": "stderr",
     "output_type": "stream",
     "text": [
      "<ipython-input-6-a3f4cf5c07ad>:1: DeprecationWarning: The module qiskit.extensions.standard is deprecated as of 0.14.0 and will be removed no earlier than 3 months after the release. You should import the standard gates from qiskit.circuit.library.standard_gates instead.\n",
      "  from qiskit.extensions.standard import ccx\n",
      "<ipython-input-6-a3f4cf5c07ad>:1: DeprecationWarning: This module is deprecated.\n",
      "  from qiskit.extensions.standard import ccx\n"
     ]
    }
   ],
   "source": [
    "from qiskit.extensions.standard import ccx"
   ]
  },
  {
   "cell_type": "code",
   "execution_count": 7,
   "metadata": {
    "scrolled": true
   },
   "outputs": [
    {
     "name": "stdout",
     "output_type": "stream",
     "text": [
      "Change one variable to move on\n"
     ]
    }
   ],
   "source": [
    "a=True\n",
    "b=False\n",
    "if a and b:\n",
    "    print(\"Ready for the next section\")\n",
    "else:\n",
    "    print(\"Change one variable to move on\")"
   ]
  },
  {
   "cell_type": "markdown",
   "metadata": {},
   "source": [
    "# Running all combinations of inputs in the Toffoli full gate specification "
   ]
  },
  {
   "cell_type": "code",
   "execution_count": 8,
   "metadata": {},
   "outputs": [
    {
     "name": "stdout",
     "output_type": "stream",
     "text": [
      "inputs outputs\n",
      "abc a'b'c'\n",
      "000 000\n",
      "001 001\n",
      "010 010\n",
      "011 011\n",
      "100 100\n",
      "101 101\n",
      "110 111\n",
      "111 110\n"
     ]
    }
   ],
   "source": [
    "import qiskit\n",
    "from qiskit import Aer\n",
    "from qiskit import QuantumCircuit\n",
    "qasm_header=\"\"\"\n",
    "include \"qelib1.inc\";\n",
    "qreg q[3];\n",
    "creg c[3];\n",
    "\"\"\"\n",
    "\n",
    "qasm_toffoli=\"\"\"\n",
    "h q[2];\n",
    "cx q[1],q[2]; \n",
    "tdg q[2]; \n",
    "cx q[0],q[2];\n",
    "t q[2];\n",
    "cx q[1],q[2];\n",
    "tdg q[2];\n",
    "cx q[0],q[2];\n",
    "t q[1];\n",
    "t q[2];\n",
    "h q[2];\n",
    "cx q[0],q[1];\n",
    "t q[0];\n",
    "tdg q[1];\n",
    "cx q[0],q[1];\n",
    "measure q[0] -> c[0];\n",
    "measure q[1] -> c[1];\n",
    "measure q[2] -> c[2];\n",
    "\"\"\"\n",
    "\n",
    "print(\"inputs\",\"outputs\")\n",
    "print(\"abc\",\"a'b'c'\")\n",
    "for abc in [(0,0,0),\n",
    "                (0,0,1),\n",
    "                (0,1,0),\n",
    "                (0,1,1),\n",
    "                (1,0,0),\n",
    "                (1,0,1),\n",
    "                (1,1,0),\n",
    "                (1,1,1)]:\n",
    "\n",
    "    qasm_input=\"\"\n",
    "    for i in range(3):\n",
    "        if abc[i]:\n",
    "            qasm_input+=\"\"\"x q[%d];\n",
    "            \"\"\"%i\n",
    "    qasm_string=qasm_header+qasm_input+qasm_toffoli\n",
    "\n",
    "    qc = QuantumCircuit.from_qasm_str(qasm_string)\n",
    "    # Run on local simulator\n",
    "    backend = Aer.get_backend('qasm_simulator')\n",
    "    sim = qiskit.execute(qc,backend=backend)\n",
    "    result = sim.result()\n",
    "    # Output result\n",
    "    print(\"\".join([str(i) for i in abc]),list(result.get_counts(qc).keys())[0][::-1])\n",
    "    "
   ]
  },
  {
   "cell_type": "markdown",
   "metadata": {},
   "source": [
    "# Using QISKit's ccx gate instead of full specification"
   ]
  },
  {
   "cell_type": "code",
   "execution_count": 9,
   "metadata": {},
   "outputs": [
    {
     "name": "stdout",
     "output_type": "stream",
     "text": [
      "inputs outputs\n",
      "abc a'b'c'\n",
      "000 000\n",
      "001 001\n",
      "010 010\n",
      "011 011\n",
      "100 100\n",
      "101 101\n",
      "110 111\n",
      "111 110\n"
     ]
    }
   ],
   "source": [
    "import qiskit\n",
    "from qiskit import Aer\n",
    "from qiskit import ClassicalRegister, QuantumRegister\n",
    "from qiskit.extensions.standard import ccx\n",
    "from qiskit import QuantumCircuit, execute\n",
    "\n",
    "print(\"inputs\",\"outputs\")\n",
    "print(\"abc\",\"a'b'c'\")\n",
    "for abc in [(0,0,0),\n",
    "                (0,0,1),\n",
    "                (0,1,0),\n",
    "                (0,1,1),\n",
    "                (1,0,0),\n",
    "                (1,0,1),\n",
    "                (1,1,0),\n",
    "                (1,1,1)]:\n",
    "\n",
    "    # set up registers and program\n",
    "    qr = QuantumRegister(3)\n",
    "    cr = ClassicalRegister(3)\n",
    "    qc = QuantumCircuit(qr, cr)\n",
    "\n",
    "    for i in range(3):\n",
    "        if abc[i]:\n",
    "            qc.x(qr[i])\n",
    "    qc.ccx(qr[0],qr[1],qr[2])\n",
    "    for i in range(3):\n",
    "        qc.measure(qr[i], cr[i])\n",
    "\n",
    "    # Run on local simulator\n",
    "    backend = Aer.get_backend('qasm_simulator')\n",
    "    sim = qiskit.execute(qc,backend=backend)\n",
    "    result = sim.result()\n",
    "    # Output result\n",
    "    print(\"\".join([str(i) for i in abc]),list(result.get_counts(qc).keys())[0][::-1])\n",
    "\n",
    "\n"
   ]
  },
  {
   "cell_type": "markdown",
   "metadata": {},
   "source": [
    "# Showing the Quantum OR gate truth table"
   ]
  },
  {
   "cell_type": "code",
   "execution_count": 10,
   "metadata": {},
   "outputs": [
    {
     "name": "stdout",
     "output_type": "stream",
     "text": [
      "inputs outputs\n",
      "abc a'b'c'\n",
      "000 000\n",
      "001 001\n",
      "010 011\n",
      "011 010\n",
      "100 101\n",
      "101 100\n",
      "110 111\n",
      "111 110\n"
     ]
    }
   ],
   "source": [
    "import qiskit\n",
    "from qiskit import Aer\n",
    "from qiskit import QuantumCircuit\n",
    "qasm_header=\"\"\"\n",
    "include \"qelib1.inc\";\n",
    "qreg q[3];\n",
    "creg c[3];\n",
    "\"\"\"\n",
    "\n",
    "qasm_quantumor=\"\"\"\n",
    "x q[0];\n",
    "x q[1];\n",
    "x q[2];\n",
    "h q[2];\n",
    "cx q[1],q[2]; \n",
    "tdg q[2]; \n",
    "cx q[0],q[2];\n",
    "t q[2];\n",
    "cx q[1],q[2];\n",
    "tdg q[2];\n",
    "cx q[0],q[2];\n",
    "t q[1];\n",
    "t q[2];\n",
    "h q[2];\n",
    "cx q[0],q[1];\n",
    "t q[0];\n",
    "tdg q[1];\n",
    "cx q[0],q[1];\n",
    "x q[0];\n",
    "x q[1];\n",
    "measure q[0] -> c[0];\n",
    "measure q[1] -> c[1];\n",
    "measure q[2] -> c[2];\n",
    "\"\"\"\n",
    "\n",
    "print(\"inputs\",\"outputs\")\n",
    "print(\"abc\",\"a'b'c'\")\n",
    "for abc in [(0,0,0),\n",
    "                (0,0,1),\n",
    "                (0,1,0),\n",
    "                (0,1,1),\n",
    "                (1,0,0),\n",
    "                (1,0,1),\n",
    "                (1,1,0),\n",
    "                (1,1,1)]:\n",
    "\n",
    "    qasm_input=\"\"\n",
    "    for i in range(3):\n",
    "        if abc[i]:\n",
    "            qasm_input+=\"\"\"x q[%d];\n",
    "            \"\"\"%i\n",
    "    qasm_string=qasm_header+qasm_input+qasm_quantumor\n",
    "    qc = QuantumCircuit.from_qasm_str(qasm_string)\n",
    "    # Run on local simulator\n",
    "    backend = Aer.get_backend('qasm_simulator')\n",
    "    sim = qiskit.execute(qc,backend=backend)\n",
    "    result = sim.result()\n",
    "    # Output result\n",
    "    print(\"\".join([str(i) for i in abc]),list(result.get_counts(qc).keys())[0][::-1])"
   ]
  },
  {
   "cell_type": "markdown",
   "metadata": {},
   "source": [
    "# Shortest"
   ]
  },
  {
   "cell_type": "code",
   "execution_count": 2,
   "metadata": {},
   "outputs": [
    {
     "name": "stdout",
     "output_type": "stream",
     "text": [
      "{'010': 26, '111': 36, '110': 30, '000': 292, '001': 24, '101': 288, '011': 293, '100': 35}\n"
     ]
    }
   ],
   "source": [
    "import numpy as np\n",
    "from qiskit import BasicAer\n",
    "from qiskit.aqua import QuantumInstance#, run_algorithm\n",
    "from qiskit.aqua.algorithms import Grover\n",
    "from qiskit.aqua.components.oracles import LogicalExpressionOracle, TruthTableOracle\n",
    "\n",
    "#3-SAT Oracle in text format\n",
    "input_3sat = '''\n",
    "c example DIMACS-CNF 3-SAT\n",
    "p cnf 3 5\n",
    "-1 -2 -3 0\n",
    "1 -2 3 0\n",
    "1 2 -3 0\n",
    "1 -2 -3 0\n",
    "-1 2 3 0\n",
    "'''\n",
    "\n",
    "#Create a logical expression oracle based on the textual description\n",
    "oracle = LogicalExpressionOracle(input_3sat)\n",
    "#Use the oracle in Grover's Algorithm\n",
    "grover = Grover(oracle)\n",
    "\n",
    "backend = BasicAer.get_backend('qasm_simulator')\n",
    "quantum_instance = QuantumInstance(backend, shots=1024)\n",
    "#Run Grover's Algorithm in a Quantum Instance\n",
    "result = grover.run(quantum_instance)\n",
    "print(result['measurement'])\n"
   ]
  },
  {
   "cell_type": "code",
   "execution_count": null,
   "metadata": {},
   "outputs": [],
   "source": []
  }
 ],
 "metadata": {
  "kernelspec": {
   "display_name": "Python 3",
   "language": "python",
   "name": "python3"
  },
  "language_info": {
   "codemirror_mode": {
    "name": "ipython",
    "version": 3
   },
   "file_extension": ".py",
   "mimetype": "text/x-python",
   "name": "python",
   "nbconvert_exporter": "python",
   "pygments_lexer": "ipython3",
   "version": "3.7.9"
  }
 },
 "nbformat": 4,
 "nbformat_minor": 4
}
