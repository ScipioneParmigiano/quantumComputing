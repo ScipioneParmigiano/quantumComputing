{
 "cells": [
  {
   "cell_type": "code",
   "execution_count": 2,
   "metadata": {},
   "outputs": [],
   "source": [
    "#Qiskit Machine Learning - Option Pricing with qGANs¶\n",
    "#qGAN can facilitate the pricing of a European call option\n",
    "#a qGAN can be trained such that a quantum circuit models the spot price of an asset underlying a European call option. \n",
    "#The resulting model can then be integrated into a Quantum Amplitude Estimation based algorithm to evaluate the expected payoff \n",
    "#Paper: Quantum Generative Adversarial Networks for Learning and Loading Random Distributions. Zoufal, Lucchi, Woerner. 2019.\n",
    "\n",
    "from qiskit import QuantumCircuit, QuantumRegister\n",
    "from qiskit.circuit.library import RealAmplitudes\n",
    "from qiskit.aqua.components.uncertainty_models import (UniformDistribution,\n",
    "                                                       UnivariateVariationalDistribution)\n",
    "from qiskit.aqua.algorithms import QGAN\n",
    "from qiskit.aqua import aqua_globals, QuantumInstance, MissingOptionalLibraryError\n",
    "from qiskit.aqua.components.initial_states import Custom\n",
    "from qiskit.aqua.components.optimizers import CG, COBYLA\n",
    "from qiskit.aqua.components.neural_networks import NumPyDiscriminator, PyTorchDiscriminator\n",
    "from qiskit import BasicAer"
   ]
  },
  {
   "cell_type": "code",
   "execution_count": 35,
   "metadata": {},
   "outputs": [],
   "source": [
    "class TestQGAN():\n",
    "\n",
    "    def setUp(self):\n",
    "        self.seed = 7\n",
    "        aqua_globals.random_seed = self.seed\n",
    "        # Number training data samples\n",
    "        n_v = 5000\n",
    "        # Load data samples from log-normal distribution with mean=1 and standard deviation=1\n",
    "        m_u = 1\n",
    "        sigma = 1\n",
    "        self._real_data = aqua_globals.random.lognormal(mean=m_u, sigma=sigma, size=n_v)\n",
    "        # Set upper and lower data values as list of k\n",
    "        # min/max data values [[min_0,max_0],...,[min_k-1,max_k-1]]\n",
    "        self._bounds = [0., 3.]\n",
    "        # Set number of qubits per data dimension as list of k qubit values[#q_0,...,#q_k-1]\n",
    "        num_qubits = [2]\n",
    "        # Batch size\n",
    "        batch_size = 100\n",
    "        # Set number of training epochs\n",
    "        # num_epochs = 10\n",
    "        num_epochs = 5\n",
    "\n",
    "        # Initialize qGAN\n",
    "        self.qgan = QGAN(self._real_data,\n",
    "                         self._bounds,\n",
    "                         num_qubits,\n",
    "                         batch_size,\n",
    "                         num_epochs,\n",
    "                         snapshot_dir=None)\n",
    "        self.qgan.seed = 7\n",
    "        # Set quantum instance to run the quantum generator\n",
    "        self.qi_statevector = QuantumInstance(backend=BasicAer.get_backend('statevector_simulator'),\n",
    "                                              seed_simulator=2,\n",
    "                                              seed_transpiler=2)\n",
    "        self.qi_qasm = QuantumInstance(backend=BasicAer.get_backend('qasm_simulator'),\n",
    "                                       shots=1000,\n",
    "                                       seed_simulator=2,\n",
    "                                       seed_transpiler=2)\n",
    "        # Set entangler map\n",
    "        entangler_map = [[0, 1]]\n",
    "\n",
    "        # Set an initial state for the generator circuit\n",
    "        init_dist = UniformDistribution(sum(num_qubits), low=self._bounds[0], high=self._bounds[1])\n",
    "        q = QuantumRegister(sum(num_qubits), name='q')\n",
    "        qc = QuantumCircuit(q)\n",
    "        init_dist.build(qc, q)\n",
    "        init_distribution = Custom(num_qubits=sum(num_qubits), circuit=qc)\n",
    "\n",
    "        # Set generator's initial parameters\n",
    "        init_params = aqua_globals.random.random(2 * sum(num_qubits)) * 2 * 1e-2\n",
    "\n",
    "        # Set variational form\n",
    "        var_form = RealAmplitudes(sum(num_qubits), reps=1, initial_state=init_distribution,\n",
    "                                  entanglement=entangler_map)\n",
    "        self.generator_circuit = var_form\n",
    "        self.generator_factory = UnivariateVariationalDistribution(sum(num_qubits), var_form,\n",
    "                                                                   init_params,\n",
    "                                                                   low=self._bounds[0],\n",
    "                                                                   high=self._bounds[1])\n",
    "\n",
    "    def test_sample_generation(self, circuit_type):\n",
    "        if circuit_type == 'factory':\n",
    "            self.qgan.set_generator(generator_circuit=self.generator_factory)\n",
    "        else:\n",
    "            self.qgan.set_generator(generator_circuit=self.generator_circuit)\n",
    "\n",
    "        _, weights_statevector = self.qgan._generator.get_output(self.qi_statevector, shots=100)\n",
    "        samples_qasm, weights_qasm = self.qgan._generator.get_output(self.qi_qasm, shots=100)\n",
    "        samples_qasm, weights_qasm = zip(*sorted(zip(samples_qasm, weights_qasm)))\n",
    "        for i, weight_q in enumerate(weights_qasm):\n",
    "            print(i)\n",
    "            print(weight_q)\n",
    "            print(weights_statevector[i])\n",
    "\n",
    "    def test_qgan_training_cg(self):\n",
    "        optimizer = CG(maxiter=1)\n",
    "        self.qgan.set_generator(generator_circuit=self.generator_circuit,\n",
    "                                generator_optimizer=optimizer)\n",
    "        trained_statevector = self.qgan.run(self.qi_statevector)\n",
    "        trained_qasm = self.qgan.run(self.qi_qasm)\n",
    "        print(trained_qasm['rel_entr'])\n",
    "        print(trained_statevector['rel_entr'])\n",
    "\n",
    "    def test_qgan_training_cobyla(self):\n",
    "        optimizer = COBYLA(maxiter=1)\n",
    "        self.qgan.set_generator(generator_circuit=self.generator_circuit,\n",
    "                                generator_optimizer=optimizer)\n",
    "        trained_statevector = self.qgan.run(self.qi_statevector)\n",
    "        trained_qasm = self.qgan.run(self.qi_qasm)\n",
    "        print(trained_qasm['rel_entr'])\n",
    "        print(trained_statevector['rel_entr'])\n",
    "\n",
    "    def test_qgan_training(self):\n",
    "        self.qgan.set_generator(generator_circuit=self.generator_circuit)\n",
    "\n",
    "        trained_statevector = self.qgan.run(self.qi_statevector)\n",
    "        trained_qasm = self.qgan.run(self.qi_qasm)\n",
    "        print(trained_qasm['rel_entr'])\n",
    "        print(trained_statevector['rel_entr'])\n",
    "\n",
    "    def test_qgan_training_run_algo_torch(self):\n",
    "        try:\n",
    "            # Set number of qubits per data dimension as list of k qubit values[#q_0,...,#q_k-1]\n",
    "            num_qubits = [2]\n",
    "            # Batch size\n",
    "            batch_size = 100\n",
    "            # Set number of training epochs\n",
    "            num_epochs = 5\n",
    "            _qgan = QGAN(self._real_data,\n",
    "                         self._bounds,\n",
    "                         num_qubits,\n",
    "                         batch_size,\n",
    "                         num_epochs,\n",
    "                         discriminator=PyTorchDiscriminator(n_features=len(num_qubits)),\n",
    "                         snapshot_dir=None)\n",
    "            _qgan.seed = self.seed\n",
    "            _qgan.set_generator()\n",
    "            trained_statevector = _qgan.run(QuantumInstance(\n",
    "                BasicAer.get_backend('statevector_simulator'),\n",
    "                seed_simulator=aqua_globals.random_seed,\n",
    "                seed_transpiler=aqua_globals.random_seed))\n",
    "            trained_qasm = _qgan.run(QuantumInstance(BasicAer.get_backend('qasm_simulator'),\n",
    "                                                     seed_simulator=aqua_globals.random_seed,\n",
    "                                                     seed_transpiler=aqua_globals.random_seed))\n",
    "            print(trained_qasm['rel_entr'])\n",
    "            print(trained_statevector['rel_entr'])\n",
    "        except MissingOptionalLibraryError:\n",
    "            print('pytorch not installed, skipping test')\n",
    "\n",
    "    def test_qgan_training_run_algo_numpy(self):\n",
    "        # Set number of qubits per data dimension as list of k qubit values[#q_0,...,#q_k-1]\n",
    "        num_qubits = [2]\n",
    "        # Batch size\n",
    "        batch_size = 100\n",
    "        # Set number of training epochs\n",
    "        num_epochs = 5\n",
    "        _qgan = QGAN(self._real_data,\n",
    "                     self._bounds,\n",
    "                     num_qubits,\n",
    "                     batch_size,\n",
    "                     num_epochs,\n",
    "                     discriminator=NumPyDiscriminator(n_features=len(num_qubits)),\n",
    "                     snapshot_dir=None)\n",
    "        _qgan.seed = self.seed\n",
    "        _qgan.set_generator()\n",
    "        trained_statevector = _qgan.run(\n",
    "            QuantumInstance(BasicAer.get_backend('statevector_simulator'),\n",
    "                            seed_simulator=aqua_globals.random_seed,\n",
    "                            seed_transpiler=aqua_globals.random_seed))\n",
    "        trained_qasm = _qgan.run(QuantumInstance(BasicAer.get_backend('qasm_simulator'),\n",
    "                                                 seed_simulator=aqua_globals.random_seed,\n",
    "                                                 seed_transpiler=aqua_globals.random_seed))\n",
    "        print(trained_qasm['rel_entr'])\n",
    "        print(trained_statevector['rel_entr'])\n",
    "\n"
   ]
  },
  {
   "cell_type": "code",
   "execution_count": 36,
   "metadata": {},
   "outputs": [
    {
     "name": "stderr",
     "output_type": "stream",
     "text": [
      "E:\\DevelopmentEnvironments\\Anaconda3\\envs\\qiskit_env\\lib\\site-packages\\qiskit\\aqua\\components\\uncertainty_models\\uncertainty_model.py:33: DeprecationWarning: The UniformDistribution is deprecated as of Aqua 0.8.0 and will be removed no earlier than 3 months after the release date. You can use qiskit.circuit.library.UniformDistribution instead.\n",
      "  super().__init__(num_target_qubits)\n",
      "E:\\DevelopmentEnvironments\\Anaconda3\\envs\\qiskit_env\\lib\\site-packages\\qiskit\\aqua\\components\\uncertainty_models\\uncertainty_model.py:33: DeprecationWarning: The UnivariateVariationalDistribution is deprecated as of Aqua 0.8.0 and will be removed no earlier than 3 months after the release date. You can use a parameterized qiskit.QuantumCircuit instead.\n",
      "  super().__init__(num_target_qubits)\n"
     ]
    }
   ],
   "source": [
    "testQGAN = TestQGAN()\n",
    "testQGAN.setUp()"
   ]
  },
  {
   "cell_type": "code",
   "execution_count": 18,
   "metadata": {},
   "outputs": [
    {
     "name": "stdout",
     "output_type": "stream",
     "text": [
      "0.1836\n",
      "0.1836\n"
     ]
    }
   ],
   "source": [
    "testQGAN.test_qgan_training()"
   ]
  },
  {
   "cell_type": "code",
   "execution_count": 25,
   "metadata": {},
   "outputs": [
    {
     "name": "stdout",
     "output_type": "stream",
     "text": [
      "0\n",
      "0.24\n",
      "0.24005186277854557\n",
      "1\n",
      "0.3\n",
      "0.25178990773177046\n",
      "2\n",
      "0.28\n",
      "0.25689384835765766\n",
      "3\n",
      "0.18\n",
      "0.2512643811320263\n"
     ]
    },
    {
     "name": "stderr",
     "output_type": "stream",
     "text": [
      "E:\\DevelopmentEnvironments\\Anaconda3\\envs\\qiskit_env\\lib\\site-packages\\qiskit\\aqua\\algorithms\\distribution_learners\\qgan.py:209: DeprecationWarning: Passing a UnivariateVariationalDistribution or MultivariateVariationalDistribution is as ``generator_circuit`` is deprecated as of Aqua 0.8.0 and the support will be removed no earlier than 3 months after the release data. You should pass as QuantumCircuit instead.\n",
      "  self._generator = QuantumGenerator(self._bounds, self._num_qubits,\n"
     ]
    }
   ],
   "source": [
    "testQGAN.test_sample_generation('factory')"
   ]
  },
  {
   "cell_type": "code",
   "execution_count": 28,
   "metadata": {},
   "outputs": [
    {
     "name": "stdout",
     "output_type": "stream",
     "text": [
      "0.2924\n",
      "0.2924\n"
     ]
    }
   ],
   "source": [
    "testQGAN.test_qgan_training_cg()"
   ]
  },
  {
   "cell_type": "code",
   "execution_count": 33,
   "metadata": {},
   "outputs": [
    {
     "name": "stdout",
     "output_type": "stream",
     "text": [
      "0.1821\n",
      "0.1821\n"
     ]
    }
   ],
   "source": [
    "testQGAN.test_qgan_training_cobyla()"
   ]
  },
  {
   "cell_type": "code",
   "execution_count": 34,
   "metadata": {},
   "outputs": [
    {
     "name": "stdout",
     "output_type": "stream",
     "text": [
      "pytorch not installed, skipping test\n"
     ]
    }
   ],
   "source": [
    "testQGAN.test_qgan_training_run_algo_torch()"
   ]
  },
  {
   "cell_type": "code",
   "execution_count": 37,
   "metadata": {},
   "outputs": [
    {
     "name": "stdout",
     "output_type": "stream",
     "text": [
      "0.2138\n",
      "0.2138\n"
     ]
    }
   ],
   "source": [
    "testQGAN.test_qgan_training_run_algo_numpy()"
   ]
  },
  {
   "cell_type": "code",
   "execution_count": null,
   "metadata": {},
   "outputs": [],
   "source": []
  }
 ],
 "metadata": {
  "kernelspec": {
   "display_name": "Python 3",
   "language": "python",
   "name": "python3"
  },
  "language_info": {
   "codemirror_mode": {
    "name": "ipython",
    "version": 3
   },
   "file_extension": ".py",
   "mimetype": "text/x-python",
   "name": "python",
   "nbconvert_exporter": "python",
   "pygments_lexer": "ipython3",
   "version": "3.8.5"
  }
 },
 "nbformat": 4,
 "nbformat_minor": 4
}
