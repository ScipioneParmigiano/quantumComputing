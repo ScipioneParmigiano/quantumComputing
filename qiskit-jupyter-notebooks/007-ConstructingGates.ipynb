{
 "cells": [
  {
   "cell_type": "code",
   "execution_count": 1,
   "metadata": {},
   "outputs": [
    {
     "data": {
      "text/plain": [
       "<AccountProvider for IBMQ(hub='ibm-q', group='open', project='main')>"
      ]
     },
     "execution_count": 1,
     "metadata": {},
     "output_type": "execute_result"
    }
   ],
   "source": [
    "#Constructing Gates\n",
    "#Amitava Chakraborty - 23th July 2018\n",
    "from qiskit import IBMQ\n",
    "# Loading your IBM Q account(s)\n",
    "IBMQ.load_account()"
   ]
  },
  {
   "cell_type": "code",
   "execution_count": 2,
   "metadata": {},
   "outputs": [],
   "source": [
    "# Useful additional packages\n",
    "import matplotlib.pyplot as plt\n",
    "%matplotlib inline\n",
    "import numpy as np\n",
    "from math import pi\n",
    "# Importing standard Qiskit libraries and configuring account\n",
    "from qiskit import QuantumCircuit, ClassicalRegister, QuantumRegister, execute\n",
    "from qiskit.tools.visualization import circuit_drawer, plot_histogram\n",
    "from qiskit.quantum_info import state_fidelity\n",
    "from qiskit import BasicAer\n",
    "\n",
    "u_backend = BasicAer.get_backend('unitary_simulator')\n",
    "s_backend = BasicAer.get_backend('statevector_simulator')\n",
    "q_backend = BasicAer.get_backend('qasm_simulator')"
   ]
  },
  {
   "cell_type": "markdown",
   "metadata": {},
   "source": [
    "We have a qubit $q0$. We shall apply two Pauli gates,<br>\n",
    "$\\sigma_x = \\left|0\\right\\rangle\\left\\langle{1}\\right|+\\left|1\\right\\rangle\\left\\langle{0}\\right|$\n",
    "and\n",
    "$\\sigma_y = i\\left|1\\right\\rangle\\left\\langle{0}\\right|-i\\left|0\\right\\rangle\\left\\langle{1}\\right|$\n",
    "and then see the unitary value of the overall operator and the state vector. <br>\n",
    "i.e., The Pauli-X gate, \n",
    "$\\sigma_x = \\begin{pmatrix} 0 & 1\\\\1 & 0 \\end{pmatrix}$\n",
    "and the Pauli-Y gate, \n",
    "$\\sigma_y = \\begin{pmatrix} 0 & -i\\\\i & 0 \\end{pmatrix}$\n",
    " operates on the state <br>\n",
    "$|0> = \\begin{pmatrix} 1\\\\0 \\end{pmatrix}$ to produce a final state vector.\n",
    "$|\\psi> = \\begin{pmatrix} 1\\\\0 \\end{pmatrix}$ which is same as $|0>$\n"
   ]
  },
  {
   "cell_type": "code",
   "execution_count": 9,
   "metadata": {},
   "outputs": [
    {
     "data": {
      "image/png": "[encoded data removed]",
      "text/plain": [
       "<Figure size 244.412x84.28 with 1 Axes>"
      ]
     },
     "execution_count": 9,
     "metadata": {},
     "output_type": "execute_result"
    }
   ],
   "source": [
    "#Let us create an arbitrary single-qubit operation\n",
    "q = QuantumRegister(1)\n",
    "\n",
    "#Apply an X-Gate\n",
    "#Then a Y-Gate\n",
    "qc = QuantumCircuit(q)\n",
    "qc.x(q[0])\n",
    "qc.y(q[0])\n",
    "#qc.barrier(q[0])\n",
    "qc.draw(output='mpl')"
   ]
  },
  {
   "cell_type": "code",
   "execution_count": 12,
   "metadata": {},
   "outputs": [
    {
     "name": "stdout",
     "output_type": "stream",
     "text": [
      "Unitary Operator :  [[ 1.+0.j  0.+0.j]\n",
      " [ 0.+0.j -1.+0.j]]\n",
      "State Vector :  [1.+0.j 0.+0.j]\n"
     ]
    }
   ],
   "source": [
    "#How the overall unitary operator looks like\n",
    "u_job = execute(qc, u_backend)\n",
    "u=u_job.result().get_unitary(qc, decimals=3)\n",
    "\n",
    "#What about the resultant statevector?\n",
    "s_job = execute(qc, s_backend)\n",
    "s=s_job.result().get_statevector(qc, decimals=3)\n",
    "print('Unitary Operator : ',u)\n",
    "print('State Vector : ',s)"
   ]
  },
  {
   "cell_type": "markdown",
   "metadata": {},
   "source": [
    "So how to deduce the unitary operator of these two gates? <br>\n",
    "The matrix multiplication of <br>\n",
    "$\\sigma_x = \\begin{pmatrix} 0 & 1\\\\1 & 0 \\end{pmatrix}$\n",
    "and \n",
    "$\\sigma_y = \\begin{pmatrix} 0 & -i\\\\i & 0 \\end{pmatrix}$\n",
    "is<br>\n",
    "$|U> = YX = \\begin{pmatrix} 0 & -i\\\\i & 0 \\end{pmatrix}\\begin{pmatrix} 0 & 1\\\\1 & 0 \\end{pmatrix}$\n",
    "i.e., $|U> = \\begin{pmatrix} -i & 0\\\\0 & i \\end{pmatrix}$\n",
    "\n",
    " operates on the state <br>\n",
    "$|0> = \\begin{pmatrix} 1\\\\0 \\end{pmatrix}$ to produce a final state vector.\n",
    "$|\\psi> = \\begin{pmatrix} 1\\\\0 \\end{pmatrix}$ which is same as $|0>$\n",
    "\n",
    "To apply a matrix to a vector, therefore, we follow the same matrix multiplication procedure described above. We manipulate qubits in our quantum computer by applying sequences of quantum gates. Each quantum gate can be expressed as a matrix that can be applied to state vectors, thus changing the state. \n",
    "\n",
    "\n",
    "This gate acts similarly to the classical NOT logic gate. It maps the computational basis state \n",
    "$|0⟩$ to $|1⟩$ and $|1⟩$ to $|0⟩$ - \"flips\" the state.\n",
    "                                                                    "
   ]
  },
  {
   "cell_type": "code",
   "execution_count": 13,
   "metadata": {},
   "outputs": [
    {
     "name": "stdout",
     "output_type": "stream",
     "text": [
      "X|0> :  [0.+0.j 1.+0.j]\n",
      "Y(X|0>) :  [0.-1.j 0.+0.j]\n",
      "U|0> :  [1.+0.j 0.+0.j]\n",
      "[[0.-1.j 0.+0.j]\n",
      " [0.+0.j 0.+1.j]]\n"
     ]
    }
   ],
   "source": [
    "# So how did we get the above State Vector?\n",
    "#input two matrices \n",
    "q0 = ([1.+0.j, 0.+0.j])  #1-dim\n",
    "X = ([0.+0.j, 1.-0.j],[1.+0.j, 0.+0.j]) \n",
    "# X operates on q0\n",
    "result = np.dot(X,q0) \n",
    "print('X|0> : ',result) \n",
    "#We expected a bit-flip, and we got one\n",
    "\n",
    "#Now Y operates on result\n",
    "Y = ([0.+0.j, -0.-1.j],[ 0.+1.j,  0.+0.j])\n",
    "result = np.dot(Y,result) \n",
    "print('Y(X|0>) : ',result)\n",
    "#We expected a bit and phase-flip and we got one\n",
    "#But it is not the same state vector that we got by running the job in a statevector simulator\n",
    "\n",
    "#Now let us take the unitary of our circuit and perform the dot product\n",
    "result = np.dot(u,q0)\n",
    "print('U|0> : ',result)\n",
    "result = np.dot(Y,X)\n",
    "print(result)\n",
    "#We see that we have our state vector\n",
    "#So the entire unitary operator consisting of all the gates is actually working on the initial value of the qubit.\n",
    "\n",
    "#But in case there is a barrier between the gates, the gates are applied one (or those grouped within a barrier) at a time"
   ]
  },
  {
   "cell_type": "code",
   "execution_count": 14,
   "metadata": {},
   "outputs": [
    {
     "data": {
      "image/png": "[encoded data removed]",
      "text/plain": [
       "<Figure size 1141.39x445.48 with 1 Axes>"
      ]
     },
     "execution_count": 14,
     "metadata": {},
     "output_type": "execute_result"
    }
   ],
   "source": [
    "#A Random Circuit\n",
    "from qiskit.circuit.random import random_circuit\n",
    "qc = random_circuit(6,6, max_operands=3, measure=True)\n",
    "qc.draw('mpl')"
   ]
  },
  {
   "cell_type": "code",
   "execution_count": 15,
   "metadata": {},
   "outputs": [
    {
     "data": {
      "image/png": "[encoded data removed]",
      "text/plain": [
       "<Figure size 504x360 with 1 Axes>"
      ]
     },
     "execution_count": 15,
     "metadata": {},
     "output_type": "execute_result"
    }
   ],
   "source": [
    "results = execute(qc, backend=q_backend, shots=2000).result()\n",
    "plot_histogram(results.get_counts())"
   ]
  },
  {
   "cell_type": "markdown",
   "metadata": {},
   "source": [
    "# Higher Order Control Gates\n",
    "\n",
    "Many quantum algorithms require higher order control gates. We define our own function for constructing higher order control gates. \n",
    "\n",
    "The Strategy - we will use only CCNOT and CNOT gates. We must use the conditions on N qubits in order to invoke a single operation. A single CCNOT gate can only take two control qubits at a time - so the trick is to use ancilla qubits. These ancilla qubits will allow us to temporarily store information about the control qubits, and ultimately determine whether or not to apply the operation. \n",
    "\n"
   ]
  },
  {
   "cell_type": "code",
   "execution_count": 14,
   "metadata": {},
   "outputs": [
    {
     "name": "stdout",
     "output_type": "stream",
     "text": [
      "state 1 : [1, 1, 1, 1]  ancilla 1:  [1, 1]\n",
      "state 2 : [1, 1, 1, 0]  ancilla 2:  [1, 0]\n"
     ]
    }
   ],
   "source": [
    "# A CCCC_NOT Gate\n",
    "def CCCC_NOT(state):\n",
    "    q=state\n",
    "    ancilla = []\n",
    "    for i in np.arange(2):\n",
    "        s = 2*i\n",
    "        if q[s]==1 and q[s+1]==1:\n",
    "            ancilla.append(1)\n",
    "        else:\n",
    "            ancilla.append(0)\n",
    "    return(ancilla)\n",
    "\n",
    "# ’state1’ results in the state of all 1’s for the ancilla system\n",
    "state1 = [1,1,1,1]\n",
    "print('state 1 :', state1, ' ancilla 1: ', CCCC_NOT(state1))\n",
    "# ’state2’ results in a 0 for the second ancilla qubit. \n",
    "# If we use these two ancilla qubits as the control qubits for a CCNOT, \n",
    "# the first system wouldreceive the operation, while the second wouldn’t. If we compare this result to our initial states, we would have achieved exactlya 4-qubit control gate: the state|1111〉receives the operation while the state|1110〉does not.\n",
    "state2 = [1,1,1,0]\n",
    "print('state 2 :', state2, ' ancilla 2: ', CCCC_NOT(state2))\n",
    "\n",
    "    "
   ]
  },
  {
   "cell_type": "code",
   "execution_count": 20,
   "metadata": {},
   "outputs": [
    {
     "data": {
      "image/png": "[encoded data removed]",
      "text/plain": [
       "<Figure size 244.412x84.28 with 1 Axes>"
      ]
     },
     "execution_count": 20,
     "metadata": {},
     "output_type": "execute_result"
    }
   ],
   "source": [
    "#Let us create an arbitrary single-qubit operation\n",
    "q = QuantumRegister(1)\n",
    "\n",
    "#Apply an X-Gate\n",
    "#Then a Y-Gate\n",
    "qc = QuantumCircuit(q)\n",
    "qc.u3(3,3,0,q[0])\n",
    "#qc.u3(3,3,3,q[0])\n",
    "#qc.barrier(q[0])\n",
    "qc.draw(output='mpl')"
   ]
  },
  {
   "cell_type": "code",
   "execution_count": 21,
   "metadata": {},
   "outputs": [
    {
     "name": "stdout",
     "output_type": "stream",
     "text": [
      "Unitary Operator :  [[ 0.071+0.j    -0.997+0.j   ]\n",
      " [-0.988+0.141j -0.07 +0.01j ]]\n",
      "State Vector :  [ 0.071+0.j    -0.988+0.141j]\n"
     ]
    }
   ],
   "source": [
    "#How the overall unitary operator looks like\n",
    "u_job = execute(qc, u_backend)\n",
    "u=u_job.result().get_unitary(qc, decimals=3)\n",
    "\n",
    "#What about the resultant statevector?\n",
    "s_job = execute(qc, s_backend)\n",
    "s=s_job.result().get_statevector(qc, decimals=3)\n",
    "print('Unitary Operator : ',u)\n",
    "print('State Vector : ',s)"
   ]
  },
  {
   "cell_type": "code",
   "execution_count": 19,
   "metadata": {},
   "outputs": [
    {
     "name": "stdout",
     "output_type": "stream",
     "text": [
      "Unitary Operator :  [[ 0.071+0.j     0.988-0.141j]\n",
      " [-0.988+0.141j  0.068-0.02j ]]\n",
      "State Vector :  [ 0.071+0.j    -0.988+0.141j]\n"
     ]
    }
   ],
   "source": [
    "#How the overall unitary operator looks like\n",
    "u_job = execute(qc, u_backend)\n",
    "u=u_job.result().get_unitary(qc, decimals=3)\n",
    "\n",
    "#What about the resultant statevector?\n",
    "s_job = execute(qc, s_backend)\n",
    "s=s_job.result().get_statevector(qc, decimals=3)\n",
    "print('Unitary Operator : ',u)\n",
    "print('State Vector : ',s)"
   ]
  },
  {
   "cell_type": "code",
   "execution_count": null,
   "metadata": {},
   "outputs": [],
   "source": []
  }
 ],
 "metadata": {
  "kernelspec": {
   "display_name": "Python 3",
   "language": "python",
   "name": "python3"
  },
  "language_info": {
   "codemirror_mode": {
    "name": "ipython",
    "version": 3
   },
   "file_extension": ".py",
   "mimetype": "text/x-python",
   "name": "python",
   "nbconvert_exporter": "python",
   "pygments_lexer": "ipython3",
   "version": "3.8.2"
  }
 },
 "nbformat": 4,
 "nbformat_minor": 2
}
