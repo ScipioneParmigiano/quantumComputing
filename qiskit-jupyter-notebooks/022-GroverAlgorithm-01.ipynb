{
 "cells": [
  {
   "cell_type": "markdown",
   "metadata": {},
   "source": [
    "# Grover's Algorithm\n",
    "\n",
    "Grover's algorithm can speed up an unstructured search problem quadratically.\n",
    "It can serve as a general trick (amplitude amplification) or subroutine to obtain quadratic run time improvements for a variety of other algorithms."
   ]
  },
  {
   "cell_type": "markdown",
   "metadata": {},
   "source": [
    "## Formal Definition\n",
    "\n",
    "For given an oracle function \n",
    "$$f : \\{0, 1\\}^n -> \\{0, 1\\}^n, $$ and \n",
    "$$ω : f(ω) = a,    \\mbox{find ω.}\n",
    "$$\n",
    "\n",
    "The purpose of Grover's algorithm is \"searching a database\", but it really performs \"inverting a function\", i.e., if we \n",
    "have a function $y=f(x)$ that can be evaluated on a quantum computer, Grover's algorithm allows us to calculate $x$, given $y$. Inverting a function is related to the searching of a database because we could come up with a function that produces a particular value of $y$, if $x$ matches a desired entry in a database, and another value of $y$ for other values of $x$."
   ]
  },
  {
   "cell_type": "markdown",
   "metadata": {},
   "source": [
    "### Unstructured Search\n",
    "\n",
    "Suppose we have a large list of $N$ items. Among these items there is one item $w$ with a unique property that we wish to locate. For example, we have to find a blue ball among $N-1$ grey balls.\n",
    "\n",
    "<img src=\"images/grover_search.png\">\n",
    "\n",
    "To find the blue ball using classical computation, we need to check on average $N/2$ of these balls ($N$ in the worst case). But using Grover's algorithm, we can find it in roughly $\\sqrt{N}$ steps - using the amplitude amplification trick. The algorithm does not use the list's internal structure, i.e., it is *generic;* as well.\n",
    "\n",
    "<b>Example : </b>Suppose that the bit string is small - 5 bits. The classical algorithm would require $2^5 − 1=31$ attempts to find the correct bit pattern $x$ (say $01001$), while Grover’s algorithm would require $\\sqrt25 ≈ 6$ attempts."
   ]
  },
  {
   "cell_type": "markdown",
   "metadata": {},
   "source": [
    "### Oracle\n",
    "\n",
    "A common way to encode the list items is by using a function $f$ that returns $f(x) = 0$ for all unwanted items $x$ and $f(w) = 1$ for the $w$. To use a quantum computer for such a problem, we provide the items in superposition to this function - we encode the function into a unitary operator called an *oracle*. \n",
    "\n",
    "1. First we choose a binary encoding of the items $x, w \\in \\{0,1\\}^n$ so that $N = 2^n$, so that we can represent it in terms of qubits on a quantum computer. \n",
    "2. Then we define the oracle matrix $U_f$ to act on any of the simple, standard basis states $| x \\rangle$ by \n",
    "$$U_f | x \\rangle = (-1)^{f(x)}  |  x \\rangle.$$\n",
    "\n",
    "We see that if $x$ is an unwanted item, the oracle does nothing to the state. But, when we apply the oracle to the basis state $| w \\rangle$, it maps $U_f | w \\rangle = -| w \\rangle$. Geometrically, this <i>oracle</i> unitary performs a reflection about the origin for the marked item in an $N = 2^n$ dimensional vector space.\n"
   ]
  },
  {
   "cell_type": "markdown",
   "metadata": {},
   "source": [
    "### Amplitude amplification\n",
    "\n",
    "The list of items is unstructured - so we cannot exploit the information from the search space. We do not know where the $w$ item is. Therefore, any guess of its location is as good as any other, which can be expressed in terms of a\n",
    "uniform superposition: \n",
    "$$|\\psi \\rangle = \\frac{1}{\\sqrt{2^n}} \\sum_{x = 0}^{2^n -1} | x\\rangle= \\frac{1}{\\sqrt{N}} \\sum_{x = 0}^{N -1} | x\\rangle.$$\n",
    "\n",
    "Now, if we measure $|\\psi \\rangle$ in the standard computational basis $\\{ | x \\rangle \\}$, this superposition will collapse to any one of the basis states with the same probability of $\\frac{1}{N} = \\frac{1}{2^n}$. Our chances of guessing the right value $w$ is therefore $1$ in $2^n$. Hence, on average we would need to try about $N = 2^n$ times to guess the correct item.\n",
    "\n",
    "With <b>amplitude amplification</b>, a quantum computer significantly enhances this probability. This procedure <u>amplifies</u> the amplitude of the $w$ item, so that measuring the final state will return the right item with near-certainty. \n",
    "\n",
    "<b><u>Geometrical Interpretation</b></u>\n",
    "\n",
    "Amplitude Amplification is essentially two reflections that generate a rotation of the desired vector in a 2D plane. \n",
    "We know of two states - $| w \\rangle$ and the uniform superposition $| \\psi \\rangle$. These two vectors span a 2D plane in the vector space $\\mathbb{C}^N.$ But these two are not orthogonal as $| w \\rangle$ occurs in the superposition with amplitude $N^{-1/2}$.\n",
    "\n",
    "So we introduce an additional state $|\\psi'\\rangle$ so that it is in the span of these two vectors and is orthogonal to $| w \\rangle$ and is obtained from $|\\psi \\rangle$ by removing $| w \\rangle$ and rescaling. \n",
    "\n",
    "**Step 0**: The amplitude amplification starts with the uniform superposition $| \\psi \\rangle$. Such uniform superposition is constructed from $| \\psi \\rangle = H^{\\otimes n} | 0 \\rangle^n$). At $t = 0$ the initial state is $| \\psi_0 \\rangle$.\n",
    "\n",
    "<img src=\"images/grover_step0.png\">\n",
    "\n",
    "\n",
    "The 2D plane spanned by $|w\\rangle, |s\\rangle$ - if we measure such a state we will get the bar graph of the amplitudes of the state $| \\psi_t \\rangle$ for the case $N = 2^2 = 4$. The average amplitude is indicated by a dashed line.\n",
    "\n",
    "**Step 1**: At time t=t, We apply the oracle reflection $U_f$ to the state $U_f | \\psi_t \\rangle =  | \\psi_{t'} \\rangle$.\n",
    "\n",
    "<img src=\"images/grover_step1.png\">\n",
    "\n",
    "As shown in the above figure, on applying this oracle, a reflection of the state $|\\psi_t\\rangle$ about $-|w\\rangle$ takes place. This transformation means that the amplitude of the $|w\\rangle$ state becomes negative. This results in an overall lowering of the average amplitude.\n",
    "\n",
    "**Step 2**: Then we apply an additional reflection $U_\\psi$ about the state $|\\psi\\rangle$: $U_\\psi = 2|\\psi\\rangle\\langle s| - I$. This transformation maps the state to $U_\\psi | \\psi_{t'} \\rangle$ and completes the transformation $|\\psi_{t+1}\\rangle = U_\\psi U_f | \\psi_t \\rangle$. \n",
    "\n",
    "<img src=\"images/grover_step2.png\">\n",
    "\n",
    "Two reflections always correspond to a rotation. The transformation $U_\\psi U_f$ rotates the initial state $|\\psi\\rangle$ closer towards the $|w\\rangle$. The action of the reflection $U_\\psi$ in the amplitude bar diagram can be understood as a reflection about the average amplitude. Since the average amplitude has been lowered by the first reflection, this transformation boosts the negative amplitude of $|w\\rangle$ to roughly three times its original value, while it decreases the other amplitudes. We then go to **Step 1** again, to repeat the application. This procedure will be repeated several times to zero in on the $|w\\rangle$.\n",
    "\n",
    "After $t$ steps the state will have transformed to $| \\psi_t \\rangle = (U_s U_f)^t  | \\psi_0 \\rangle.$\n",
    "\n",
    "We have to repeat the steps roughly $\\sqrt{N}$ times. This becomes clear when looking at the amplitudes of the state $| \\psi_t \\rangle$. We can see that the amplitude of $| w \\rangle$ grows linearly with the number of applications $\\sim t N^{-1/2}$. However, since we are dealing with amplitudes and not probabilities, the vector space's dimension enters as a square root. Therefore it is the amplitude, and not just the probability, that is being amplified in this procedure.\n",
    "\n",
    "In the case that there are multiple solutions, $M$,(i.e., a number of $|w_i\\rangle$ states are the solution.) it can be shown that roughly $\\sqrt{(N/M)}$ rotations will suffice.\n",
    "\n",
    "<img src=\"images/grover_algorithm.png\">\n"
   ]
  },
  {
   "cell_type": "markdown",
   "metadata": {},
   "source": [
    "## Qiskit Implementation"
   ]
  },
  {
   "cell_type": "code",
   "execution_count": 1,
   "metadata": {},
   "outputs": [],
   "source": [
    "#initialization\n",
    "import matplotlib.pyplot as plt\n",
    "%matplotlib inline\n",
    "import numpy as np\n",
    "\n",
    "# importing Qiskit\n",
    "from qiskit import IBMQ, BasicAer\n",
    "from qiskit.providers.ibmq import least_busy\n",
    "from qiskit import QuantumCircuit, ClassicalRegister, QuantumRegister, execute\n",
    "\n",
    "# import basic plot tools\n",
    "from qiskit.tools.visualization import plot_histogram\n",
    "\n",
    "backend = BasicAer.get_backend('qasm_simulator')"
   ]
  },
  {
   "cell_type": "markdown",
   "metadata": {},
   "source": [
    "### 1. 3-Qubit Implementation"
   ]
  },
  {
   "cell_type": "code",
   "execution_count": 2,
   "metadata": {},
   "outputs": [
    {
     "data": {
      "image/png": "[encoded data removed]",
      "text/plain": [
       "<Figure size 1062.78x264.88 with 1 Axes>"
      ]
     },
     "execution_count": 2,
     "metadata": {},
     "output_type": "execute_result"
    }
   ],
   "source": [
    "qr = QuantumRegister(3)  # Initialize qubits\n",
    "cr = ClassicalRegister(3)  # Initialize bits for record measurements\n",
    "circuit = QuantumCircuit(qr, cr)\n",
    "\n",
    "# We want to search two marked states\n",
    "# |101> and |110>\n",
    "\n",
    "# Apply Hadamard to all qubits\n",
    "circuit.h(qr)\n",
    "circuit.barrier()\n",
    "\n",
    "# Phase oracle (Marks states |101> and |110> as results)\n",
    "circuit.cz(qr[2], qr[0])\n",
    "circuit.cz(qr[2], qr[1])\n",
    "\n",
    "# Inversion around the average\n",
    "circuit.h(qr)\n",
    "circuit.x(qr)\n",
    "circuit.barrier()\n",
    "circuit.h(qr[2])\n",
    "circuit.ccx(qr[0], qr[1], qr[2])\n",
    "circuit.h(qr[2])\n",
    "circuit.barrier()\n",
    "circuit.x(qr)\n",
    "circuit.h(qr)\n",
    "\n",
    "# Measure\n",
    "circuit.measure(qr, cr)\n",
    "circuit.draw('mpl')"
   ]
  },
  {
   "cell_type": "code",
   "execution_count": 3,
   "metadata": {},
   "outputs": [
    {
     "name": "stdout",
     "output_type": "stream",
     "text": [
      "{'110': 10, '101': 10}\n"
     ]
    }
   ],
   "source": [
    "# Run our circuit with local simulator\n",
    "backend = BasicAer.get_backend('qasm_simulator')\n",
    "shots = 20\n",
    "results = execute(circuit, backend=backend, shots=shots).result()\n",
    "answer = results.get_counts()\n",
    "print(answer)"
   ]
  },
  {
   "cell_type": "markdown",
   "metadata": {},
   "source": [
    "### 2. 3-Qubit Implementation"
   ]
  },
  {
   "cell_type": "markdown",
   "metadata": {},
   "source": [
    "We create a phase oracle that will mark states ($|000\\rangle$ and $|111\\rangle $) as the results (step 1)."
   ]
  },
  {
   "cell_type": "code",
   "execution_count": 4,
   "metadata": {},
   "outputs": [
    {
     "data": {
      "image/png": "[encoded data removed]",
      "text/plain": [
       "<Figure size 340.669x204.68 with 1 Axes>"
      ]
     },
     "execution_count": 4,
     "metadata": {},
     "output_type": "execute_result"
    }
   ],
   "source": [
    "def get_phase_oracle_circuit(circuit, register):\n",
    "    #Apply Z to all qubits\n",
    "    circuit.z(qr)\n",
    "    #a Z will reverse the phase of the qubit, which we do not want\n",
    "    #So we need to control it\n",
    "    #If 2 is 1, we want both 0's and 1's phase to reverse\n",
    "    circuit.cz(qr[2],qr[0])\n",
    "    circuit.cz(qr[2],qr[1])\n",
    "    #If 1 is 1, we also want 0's phase to reverse\n",
    "    circuit.cz(qr[1],qr[0])\n",
    "    #So now if all 0,1,2 qubits are zero nothing will happen\n",
    "    #But if any of 1,2 qubit is 1, phase of all the qubits will reverse\n",
    "\n",
    "qr = QuantumRegister(3)\n",
    "oracleCircuit = QuantumCircuit(qr)\n",
    "#oracleCircuit.z(qr)\n",
    "get_phase_oracle_circuit(oracleCircuit, qr)\n",
    "oracleCircuit.draw(output=\"mpl\")"
   ]
  },
  {
   "cell_type": "code",
   "execution_count": 5,
   "metadata": {},
   "outputs": [
    {
     "data": {
      "image/png": "[encoded data removed]",
      "text/plain": [
       "<Figure size 504x360 with 1 Axes>"
      ]
     },
     "execution_count": 5,
     "metadata": {},
     "output_type": "execute_result"
    }
   ],
   "source": [
    "oracleCircuit.measure_all()\n",
    "results = execute(oracleCircuit, backend=backend, shots=1024).result()\n",
    "oracleCircuit.remove_final_measurements()\n",
    "answer = results.get_counts()\n",
    "plot_histogram(answer)"
   ]
  },
  {
   "cell_type": "markdown",
   "metadata": {},
   "source": [
    "Next we set up the circuit for inversion about the average (step 2), where we will first need to define a function that creates a multiple-controlled Z gate."
   ]
  },
  {
   "cell_type": "code",
   "execution_count": 6,
   "metadata": {},
   "outputs": [],
   "source": [
    "def n_controlled_Z(circuit, controls, target):\n",
    "    \"\"\"Implement a Z gate with multiple controls\"\"\"\n",
    "    if (len(controls) > 2):\n",
    "        raise ValueError('The controlled Z with more than 2 controls is not implemented')\n",
    "    elif (len(controls) == 1):\n",
    "        circuit.h(target)\n",
    "        circuit.cx(controls[0], target)\n",
    "        circuit.h(target)\n",
    "    elif (len(controls) == 2):\n",
    "        circuit.h(target)\n",
    "        circuit.ccx(controls[0], controls[1], target)\n",
    "        circuit.h(target)"
   ]
  },
  {
   "cell_type": "code",
   "execution_count": 7,
   "metadata": {},
   "outputs": [],
   "source": [
    "def inversion_about_average(circuit, register, n):\n",
    "    \"\"\"Apply inversion about the average step of Grover's algorithm.\"\"\"\n",
    "    circuit.h(register)\n",
    "    circuit.x(register)\n",
    "    n_controlled_Z(circuit, [register[j] for j in range(n-1)], register[n-1])\n",
    "    circuit.x(register)\n",
    "    circuit.h(register)"
   ]
  },
  {
   "cell_type": "markdown",
   "metadata": {},
   "source": [
    "Here is a circuit of the inversion about the average for three qubits."
   ]
  },
  {
   "cell_type": "code",
   "execution_count": 8,
   "metadata": {},
   "outputs": [
    {
     "data": {
      "image/png": "[encoded data removed]",
      "text/plain": [
       "<Figure size 521.269x204.68 with 1 Axes>"
      ]
     },
     "execution_count": 8,
     "metadata": {},
     "output_type": "execute_result"
    }
   ],
   "source": [
    "qAverage = QuantumCircuit(qr)\n",
    "inversion_about_average(qAverage, qr, 3)\n",
    "qAverage.draw(output='mpl')"
   ]
  },
  {
   "cell_type": "markdown",
   "metadata": {},
   "source": [
    "Now we put the pieces together, with the creation of a uniform superposition at the start of the circuit and a measurement at the end. Note that since there are 2 solutions and 8 possibilities, we will only need to run one iteration. "
   ]
  },
  {
   "cell_type": "code",
   "execution_count": 9,
   "metadata": {},
   "outputs": [
    {
     "data": {
      "image/png": "[encoded data removed]",
      "text/plain": [
       "<Figure size 955.795x264.88 with 1 Axes>"
      ]
     },
     "execution_count": 9,
     "metadata": {},
     "output_type": "execute_result"
    }
   ],
   "source": [
    "qr = QuantumRegister(3)\n",
    "cr = ClassicalRegister(3)\n",
    "\n",
    "groverCircuit = QuantumCircuit(qr,cr)\n",
    "groverCircuit.h(qr)\n",
    "\n",
    "get_phase_oracle_circuit(groverCircuit, qr)\n",
    "inversion_about_average(groverCircuit, qr, 3)\n",
    "\n",
    "groverCircuit.measure(qr,cr)\n",
    "groverCircuit.draw(output=\"mpl\")"
   ]
  },
  {
   "cell_type": "markdown",
   "metadata": {},
   "source": [
    "## Experiment with Simulators\n",
    "\n",
    "We can run the above circuit on the simulator. "
   ]
  },
  {
   "cell_type": "code",
   "execution_count": 10,
   "metadata": {},
   "outputs": [
    {
     "data": {
      "image/png": "[encoded data removed]",
      "text/plain": [
       "<Figure size 504x360 with 1 Axes>"
      ]
     },
     "execution_count": 10,
     "metadata": {},
     "output_type": "execute_result"
    }
   ],
   "source": [
    "backend = BasicAer.get_backend('qasm_simulator')\n",
    "shots = 1024\n",
    "results = execute(groverCircuit, backend=backend, shots=shots).result()\n",
    "answer = results.get_counts()\n",
    "plot_histogram(answer)"
   ]
  },
  {
   "cell_type": "markdown",
   "metadata": {},
   "source": [
    "As we can see, the algorithm discovers our marked states."
   ]
  },
  {
   "cell_type": "markdown",
   "metadata": {},
   "source": [
    "## Experiment with Real Devices\n",
    "\n",
    "We can run the circuit on the real device as shown below."
   ]
  },
  {
   "cell_type": "code",
   "execution_count": 12,
   "metadata": {},
   "outputs": [
    {
     "name": "stdout",
     "output_type": "stream",
     "text": [
      "Least busy backend:  ibmq_burlington\n"
     ]
    }
   ],
   "source": [
    "# Load our saved IBMQ accounts and get the least busy backend device\n",
    "IBMQ.load_account()\n",
    "provider = IBMQ.get_provider(hub='ibm-q')\n",
    "qcomp = provider.get_backend('ibmq_16_melbourne')\n",
    "\n",
    "backend_lb = least_busy(provider.backends(simulator=False))\n",
    "print(\"Least busy backend: \", backend_lb)"
   ]
  },
  {
   "cell_type": "code",
   "execution_count": 13,
   "metadata": {},
   "outputs": [
    {
     "name": "stdout",
     "output_type": "stream",
     "text": [
      "Job Status: job has successfully run\n"
     ]
    }
   ],
   "source": [
    "# run our circuit on the least busy backend. Monitor the execution of the job in the queue\n",
    "from qiskit.tools.monitor import job_monitor\n",
    "\n",
    "backend = backend_lb\n",
    "shots = 1024\n",
    "job_exp = execute(groverCircuit, backend=backend, shots=shots)\n",
    "\n",
    "job_monitor(job_exp, interval = 2)"
   ]
  },
  {
   "cell_type": "code",
   "execution_count": 14,
   "metadata": {},
   "outputs": [
    {
     "data": {
      "image/png": "[encoded data removed]",
      "text/plain": [
       "<Figure size 504x360 with 1 Axes>"
      ]
     },
     "execution_count": 14,
     "metadata": {},
     "output_type": "execute_result"
    }
   ],
   "source": [
    "# get the results from the computation\n",
    "results = job_exp.result()\n",
    "answer = results.get_counts(groverCircuit)\n",
    "plot_histogram(answer)"
   ]
  },
  {
   "cell_type": "code",
   "execution_count": null,
   "metadata": {},
   "outputs": [],
   "source": []
  }
 ],
 "metadata": {
  "kernelspec": {
   "display_name": "Python 3",
   "language": "python",
   "name": "python3"
  },
  "language_info": {
   "codemirror_mode": {
    "name": "ipython",
    "version": 3
   },
   "file_extension": ".py",
   "mimetype": "text/x-python",
   "name": "python",
   "nbconvert_exporter": "python",
   "pygments_lexer": "ipython3",
   "version": "3.7.9"
  }
 },
 "nbformat": 4,
 "nbformat_minor": 4
}
