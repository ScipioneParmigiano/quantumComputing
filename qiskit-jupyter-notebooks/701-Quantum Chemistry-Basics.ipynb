{
  "cells": [
    {
      "cell_type": "code",
      "execution_count": 1,
      "metadata": {
        "trusted": true
      },
      "outputs": [],
      "source": "#Qiskit Chemistry\n#A set of tools, algorithms and software for use with quantum computers \n#to carry out research and investigate \n#how to take advantage of the quantum computational power to solve chemistry problems. \n#Qiskit Chemistry translates chemistry-specific problem inputs \n#into inputs for a quantum algorithm supplied by Qiskit Aqua, \n#which then in turn uses Qiskit Terra for the actual quantum computation.\n\n#Approach\n#1. Decompose the computation of the ground state energy of a molecule in 4 steps:\n#Step 1 : Define a molecule and get integrals from a computational chemistry driver (PySCF in this case)\n#Step 2 : Construct a Fermionic Hamiltonian and map it onto a qubit Hamiltonian\n#Step 3 : Instantiate and initialize dynamically-loaded algorithmic components, \n#such as the quantum algorithm VQE, the optimizer and variational form it will use, \n#and the initial_state to initialize the variational form\n#Step 4 : Run the algorithm on a quantum backend and retrieve the results\n\n%matplotlib inline\n# Importing standard Qiskit libraries and configuring account\nimport numpy as np\nfrom qiskit import QuantumCircuit, execute, Aer, IBMQ\nfrom qiskit.compiler import transpile, assemble\nfrom qiskit.tools.jupyter import *\nfrom qiskit.visualization import *\n\n# lib from Qiskit Aqua\nfrom qiskit.aqua import QuantumInstance\nfrom qiskit.aqua.algorithms import VQE, ExactEigensolver\nfrom qiskit.aqua.operators import Z2Symmetries\nfrom qiskit.aqua.components.optimizers import COBYLA\n\n# lib from Qiskit Aqua Chemistry\nfrom qiskit.chemistry import FermionicOperator\nfrom qiskit.chemistry.drivers import PySCFDriver, UnitsType\nfrom qiskit.chemistry.components.variational_forms import UCCSD\nfrom qiskit.chemistry.components.initial_states import HartreeFock\n\n# Loading your IBM Q account(s)\nprovider = IBMQ.load_account()"
    },
    {
      "cell_type": "code",
      "execution_count": 2,
      "metadata": {
        "trusted": true
      },
      "outputs": [],
      "source": "#Step 1: Define a molecule\n#Example : we use LiH in the sto3g basis with the PySCF driver to get fermionic Hamiltonian\n#The molecule object records the information from the PySCF driver.\ndriver = PySCFDriver(atom='Li .0 .0 .0; H .0 .0 1.6', unit=UnitsType.ANGSTROM,\n                     charge=0, spin=0, basis='sto3g')\nmolecule = driver.run()"
    },
    {
      "cell_type": "code",
      "execution_count": 3,
      "metadata": {
        "trusted": true
      },
      "outputs": [
        {
          "name": "stdout",
          "output_type": "stream",
          "text": "HF energy: -8.854072040283645\n# of electrons: 4\n# of spin orbitals: 12\n"
        }
      ],
      "source": "#Step 2: Prepare qubit Hamiltonian\n#Setup the to-be-frozen and to-be-removed orbitals to reduce the problem size \n#when we map to the qubit Hamiltonian. \n#Furthermore, we define the mapping type for the qubit Hamiltonian. \n#For the particular parity mapping, we can further reduce the problem size.\n\n# please be aware that the idx here with respect to original idx\nfreeze_list = [0]\nremove_list = [-3, -2] # negative number denotes the reverse order\nmap_type = 'parity'\n\nh1 = molecule.one_body_integrals\nh2 = molecule.two_body_integrals\nnuclear_repulsion_energy = molecule.nuclear_repulsion_energy\n\nnum_particles = molecule.num_alpha + molecule.num_beta\nnum_spin_orbitals = molecule.num_orbitals * 2\nprint(\"HF energy: {}\".format(molecule.hf_energy - molecule.nuclear_repulsion_energy))\nprint(\"# of electrons: {}\".format(num_particles))\nprint(\"# of spin orbitals: {}\".format(num_spin_orbitals))"
    },
    {
      "cell_type": "code",
      "execution_count": 4,
      "metadata": {
        "trusted": true
      },
      "outputs": [
        {
          "name": "stdout",
          "output_type": "stream",
          "text": "IIII\t(-0.2076593350197092+0j)\nIIIZ\t(-0.09376337484626249+0j)\nIIZX\t(-0.0031775814548340043+0j)\nIIIX\t(0.0031775814548340043+0j)\nIIXX\t(-0.0012513965999722682+0j)\nIIYY\t(0.0012513965999722682+0j)\nIIZZ\t(-0.21162509515110162+0j)\nIIXZ\t(0.01920053386311081+0j)\nIIXI\t(0.01920053386311081+0j)\nIIZI\t(0.3581026994577022+0j)\nIZII\t(0.09376337484626251+0j)\nZXII\t(0.0031775814548340043+0j)\nIXII\t(0.0031775814548340043+0j)\nXXII\t(-0.001251396599972295+0j)\nYYII\t(0.001251396599972295+0j)\nZZII\t(-0.21162509515110162+0j)\nXZII\t(-0.019200533863110818+0j)\nXIII\t(0.019200533863110818+0j)\nZIII\t(-0.3581026994577021+0j)\nIZIZ\t(-0.12182774215821633+0j)\nIZZX\t(0.012144897228061164+0j)\nIZIX\t(-0.012144897228061164+0j)\nIZXX\t(0.03169874598734561+0j)\nIZYY\t(-0.03169874598734561+0j)\nIXIZ\t(0.012144897228061164+0j)\nZXIZ\t(0.012144897228061164+0j)\nIXZX\t(-0.0032659954996566982+0j)\nZXZX\t(-0.0032659954996566982+0j)\nIXIX\t(0.0032659954996566982+0j)\nZXIX\t(0.0032659954996566982+0j)\nIXXX\t(-0.008650156860608146+0j)\nZXXX\t(-0.008650156860608146+0j)\nIXYY\t(0.008650156860608146+0j)\nZXYY\t(0.008650156860608146+0j)\nYYIZ\t(0.03169874598734561+0j)\nXXIZ\t(-0.03169874598734561+0j)\nYYZX\t(-0.008650156860608145+0j)\nXXZX\t(0.008650156860608145+0j)\nYYIX\t(0.008650156860608145+0j)\nXXIX\t(-0.008650156860608145+0j)\nYYXX\t(-0.03098161334463036+0j)\nXXXX\t(0.03098161334463036+0j)\nYYYY\t(0.03098161334463036+0j)\nXXYY\t(-0.03098161334463036+0j)\nZZIZ\t(0.055902510785157546+0j)\nZZZX\t(0.0018710427514150405+0j)\nZZIX\t(-0.0018710427514150405+0j)\nZZXX\t(0.003104004116074656+0j)\nZZYY\t(-0.003104004116074656+0j)\nXIIZ\t(0.01284172318075526+0j)\nXZIZ\t(-0.01284172318075526+0j)\nXIZX\t(-0.002352152173242918+0j)\nXZZX\t(0.002352152173242918+0j)\nXIIX\t(0.002352152173242918+0j)\nXZIX\t(-0.002352152173242918+0j)\nXIXX\t(-0.007975908750563062+0j)\nXZXX\t(0.007975908750563062+0j)\nXIYY\t(0.007975908750563062+0j)\nXZYY\t(-0.007975908750563062+0j)\nZIIZ\t(0.1134611071268556+0j)\nZIZX\t(-0.010838363828737721+0j)\nZIIX\t(0.010838363828737721+0j)\nZIXX\t(-0.03355135311123948+0j)\nZIYY\t(0.03355135311123948+0j)\nIZZZ\t(-0.055902510785157546+0j)\nIZXZ\t(-0.01284172318075526+0j)\nIZXI\t(-0.01284172318075526+0j)\nIXZZ\t(-0.0018710427514150405+0j)\nZXZZ\t(-0.0018710427514150405+0j)\nIXXZ\t(0.002352152173242918+0j)\nZXXZ\t(0.002352152173242918+0j)\nIXXI\t(0.002352152173242918+0j)\nZXXI\t(0.002352152173242918+0j)\nYYZZ\t(-0.003104004116074656+0j)\nXXZZ\t(0.003104004116074656+0j)\nYYXZ\t(0.007975908750563062+0j)\nXXXZ\t(-0.007975908750563062+0j)\nYYXI\t(0.007975908750563062+0j)\nXXXI\t(-0.007975908750563062+0j)\nZZZZ\t(0.08447056807294648+0j)\nZZXZ\t(-0.008994911953942204+0j)\nZZXI\t(-0.008994911953942204+0j)\nXIZZ\t(-0.008994911953942203+0j)\nXZZZ\t(0.008994911953942203+0j)\nXIXZ\t(0.006612047066150995+0j)\nXZXZ\t(-0.006612047066150995+0j)\nXIXI\t(0.006612047066150995+0j)\nXZXI\t(-0.006612047066150995+0j)\nZIZZ\t(0.06035891281077976+0j)\nZIXZ\t(0.011019231644710673+0j)\nZIXI\t(0.011019231644710673+0j)\nIZZI\t(0.1134611071268556+0j)\nIXZI\t(-0.010838363828737721+0j)\nZXZI\t(-0.010838363828737721+0j)\nYYZI\t(-0.03355135311123948+0j)\nXXZI\t(0.03355135311123948+0j)\nZZZI\t(-0.06035891281077976+0j)\nXIZI\t(-0.011019231644710671+0j)\nXZZI\t(0.011019231644710671+0j)\nZIZI\t(-0.11344680300367341+0j)\n\nRepresentation: paulis, qubits: 4, size: 100\n"
        }
      ],
      "source": "# prepare full idx of freeze_list and remove_list\n# convert all negative idx to positive\nremove_list = [x % molecule.num_orbitals for x in remove_list]\nfreeze_list = [x % molecule.num_orbitals for x in freeze_list]\n# update the idx in remove_list of the idx after frozen, since the idx of orbitals are changed after freezing\nremove_list = [x - len(freeze_list) for x in remove_list]\nremove_list += [x + molecule.num_orbitals - len(freeze_list)  for x in remove_list]\nfreeze_list += [x + molecule.num_orbitals for x in freeze_list]\n\n# prepare fermionic hamiltonian with orbital freezing and eliminating, and then map to qubit hamiltonian\n# and if PARITY mapping is selected, reduction qubits\nenergy_shift = 0.0\nqubit_reduction = True if map_type == 'parity' else False\n\nferOp = FermionicOperator(h1=h1, h2=h2)\nif len(freeze_list) > 0:\n    ferOp, energy_shift = ferOp.fermion_mode_freezing(freeze_list)\n    num_spin_orbitals -= len(freeze_list)\n    num_particles -= len(freeze_list)\nif len(remove_list) > 0:\n    ferOp = ferOp.fermion_mode_elimination(remove_list)\n    num_spin_orbitals -= len(remove_list)\n\nqubitOp = ferOp.mapping(map_type=map_type, threshold=0.00000001)\nqubitOp = Z2Symmetries.two_qubit_reduction(qubitOp, num_particles) if qubit_reduction else qubitOp\nqubitOp.chop(10**-10)\n\nprint(qubitOp.print_details())\nprint(qubitOp)"
    },
    {
      "cell_type": "code",
      "execution_count": 5,
      "metadata": {
        "trusted": true
      },
      "outputs": [
        {
          "name": "stdout",
          "output_type": "stream",
          "text": "The computed energy is: -1.077059745735\nThe total ground state energy is: -7.881072044031\n"
        }
      ],
      "source": "#We use the classical eigen decomposition to get the smallest eigenvalue as a reference.\n# Using exact eigensolver to get the smallest eigenvalue\nexact_eigensolver = ExactEigensolver(qubitOp, k=1)\nret = exact_eigensolver.run()\nprint('The computed energy is: {:.12f}'.format(ret['eigvals'][0].real))\nprint('The total ground state energy is: {:.12f}'.format(ret['eigvals'][0].real + energy_shift + nuclear_repulsion_energy))"
    },
    {
      "cell_type": "code",
      "execution_count": 6,
      "metadata": {
        "trusted": true
      },
      "outputs": [],
      "source": "#Step 3: Initiate and configure dynamically-loaded instances\n#To run VQE with the UCCSD variational form, we require\n#VQE algorithm\n#Classical Optimizer\n#UCCSD variational form\n\n#Prepare the initial state in the HartreeFock state\n#[Optional] Setup token to run the experiment on a real device\nbackend = Aer.get_backend('statevector_simulator')\n\n# setup COBYLA classical optimizer\nmax_eval = 200\ncobyla = COBYLA(maxiter=max_eval)\n\n# setup HartreeFock state\nHF_state = HartreeFock(qubitOp.num_qubits, num_spin_orbitals, num_particles, map_type, \n                       qubit_reduction)\n\n# setup UCCSD variational form\nvar_form = UCCSD(qubitOp.num_qubits, depth=1, \n                   num_orbitals=num_spin_orbitals, num_particles=num_particles, \n                   active_occupied=[0], active_unoccupied=[0, 1],\n                   initial_state=HF_state, qubit_mapping=map_type, \n                   two_qubit_reduction=qubit_reduction, num_time_slices=1)\n\n# setup VQE\nvqe = VQE(qubitOp, var_form, cobyla)\nquantum_instance = QuantumInstance(backend=backend)"
    },
    {
      "cell_type": "code",
      "execution_count": 7,
      "metadata": {
        "trusted": true
      },
      "outputs": [
        {
          "name": "stdout",
          "output_type": "stream",
          "text": "The computed ground state energy is: -1.077059737908\nThe total ground state energy is: -7.881072036205\nParameters: [ 0.03425824  0.0052999   0.03442233  0.00533808 -0.03878529  0.06029099\n  0.06050635 -0.11631612]\n"
        }
      ],
      "source": "#Step 4: Run algorithm and retrieve the results\n#The smallest eigenvalue is stored in the first entry of the eigvals key.\nresults = vqe.run(quantum_instance)\nprint('The computed ground state energy is: {:.12f}'.format(results['eigvals'][0]))\nprint('The total ground state energy is: {:.12f}'.format(results['eigvals'][0] + energy_shift + nuclear_repulsion_energy))\nprint(\"Parameters: {}\".format(results['opt_params']))"
    }
  ],
  "metadata": {
    "kernelspec": {
      "display_name": "Python 3",
      "language": "python",
      "name": "python3"
    },
    "language_info": {
      "codemirror_mode": {
        "name": "ipython",
        "version": 3
      },
      "file_extension": ".py",
      "mimetype": "text/x-python",
      "name": "python",
      "nbconvert_exporter": "python",
      "pygments_lexer": "ipython3",
      "version": "3.7.6"
    }
  },
  "nbformat": 4,
  "nbformat_minor": 4
}