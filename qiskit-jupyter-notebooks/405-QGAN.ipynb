{
 "cells": [
  {
   "cell_type": "code",
   "execution_count": 1,
   "metadata": {},
   "outputs": [
    {
     "name": "stderr",
     "output_type": "stream",
     "text": [
      "\n",
      "Bad key \"text.kerning_factor\" on line 4 in\n",
      "E:\\DevelopmentEnvironments\\Anaconda3\\envs\\qiskit_env\\lib\\site-packages\\matplotlib\\mpl-data\\stylelib\\_classic_test_patch.mplstyle.\n",
      "You probably need to get an updated matplotlibrc file from\n",
      "https://github.com/matplotlib/matplotlib/blob/v3.1.3/matplotlibrc.template\n",
      "or from the matplotlib source distribution\n"
     ]
    },
    {
     "ename": "ModuleNotFoundError",
     "evalue": "No module named 'torch'",
     "output_type": "error",
     "traceback": [
      "\u001b[1;31m---------------------------------------------------------------------------\u001b[0m",
      "\u001b[1;31mModuleNotFoundError\u001b[0m                       Traceback (most recent call last)",
      "\u001b[1;32m<ipython-input-1-caa85c63a9b2>\u001b[0m in \u001b[0;36m<module>\u001b[1;34m\u001b[0m\n\u001b[0;32m     27\u001b[0m \u001b[1;33m\u001b[0m\u001b[0m\n\u001b[0;32m     28\u001b[0m \u001b[1;32mfrom\u001b[0m \u001b[0mqiskit\u001b[0m \u001b[1;32mimport\u001b[0m \u001b[0mBasicAer\u001b[0m\u001b[1;33m\u001b[0m\u001b[1;33m\u001b[0m\u001b[0m\n\u001b[1;32m---> 29\u001b[1;33m \u001b[1;32mfrom\u001b[0m \u001b[0mtorch\u001b[0m \u001b[1;32mimport\u001b[0m \u001b[0moptim\u001b[0m\u001b[1;33m\u001b[0m\u001b[1;33m\u001b[0m\u001b[0m\n\u001b[0m",
      "\u001b[1;31mModuleNotFoundError\u001b[0m: No module named 'torch'"
     ]
    }
   ],
   "source": [
    "#Qiskit Machine Learning\n",
    "#A set of tools, algorithms and software for use with IBM QCs to investigate \n",
    "#how to use quantum computing to solve machine learning problems.\n",
    "\n",
    "#Qiskit Aqua: qGAN for Loading Random Distributions\n",
    "#We have a k-dimensional data sample\n",
    "#We employ a quantum Generative Adversarial Network (qGAN) \n",
    "#to learn the underlying random distribution and \n",
    "#to load it into a quantum state:\n",
    "\n",
    "import numpy as np\n",
    "import matplotlib.pyplot as plt\n",
    "%matplotlib inline\n",
    "import time\n",
    "start = time.time()\n",
    "from qiskit import QuantumRegister, QuantumCircuit\n",
    "from qiskit.aqua.components.optimizers import ADAM\n",
    "from qiskit.aqua.components.uncertainty_models import UniformDistribution, UnivariateVariationalDistribution \n",
    "from qiskit.aqua.components.variational_forms import RY\n",
    "\n",
    "from qiskit.aqua.algorithms.adaptive import QGAN\n",
    "from qiskit.aqua.components.neural_networks.quantum_generator import QuantumGenerator\n",
    "from qiskit.aqua.components.neural_networks.numpy_discriminator import NumpyDiscriminator\n",
    "\n",
    "from qiskit.aqua import aqua_globals, QuantumInstance\n",
    "from qiskit.aqua.components.initial_states import Custom\n",
    "\n",
    "from qiskit import BasicAer\n",
    "from torch import optim"
   ]
  },
  {
   "cell_type": "code",
   "execution_count": 3,
   "metadata": {},
   "outputs": [
    {
     "name": "stdout",
     "output_type": "stream",
     "text": [
      "[ 4.26552917  2.11647282  8.11388427  3.31335901  3.84869628  4.06566393\n",
      "  0.76767419  2.53219537  1.34075853  1.96294163  5.36560432  5.39441913\n",
      "  6.14321916  1.26942815  0.66470306  7.62526393  9.17751571  7.43799252\n",
      "  2.05088272  1.91030137  1.52430458  1.10476751  7.18570633  0.730632\n",
      "  5.55734375  9.73482418  1.23899264  0.50489431  4.50542331  2.71000779\n",
      "  2.03839679  2.06028101 11.50601992  2.22095548  0.87282458  1.19028643\n",
      "  6.0155217   4.49159773  1.18386455  1.4705499   2.46130752  1.9107491\n",
      "  1.11697877  3.30375615 13.39163369  1.3631658   2.25685928  8.3667373\n",
      "  6.6776204   0.74295334  1.89075092  0.5879876   2.22428706  2.19513941\n",
      " 11.90650122  8.73940942  1.07139002  2.74031145  2.31034526  2.85891002\n",
      "  2.09413898  3.12906271  0.88450254  7.10374913  2.82170008  5.63922419\n",
      "  4.68631097  2.76106053  5.96927342 21.50000445 34.36006551 13.99108865\n",
      "  1.0516872   5.04336917  2.16483208  3.63307097  1.67020573  2.26040772\n",
      "  0.72732909  4.50202679  1.56403744  6.69806716  0.60965978  1.12991043\n",
      "  4.94952571  4.56869556  1.74255733  0.66962425  4.50600598  4.53667237\n",
      "  0.7170675  11.69043598  4.36171003  0.58997856 13.81999315  0.75470662\n",
      "  5.19254879  3.12672539  1.00270857  2.92576884 13.05376934  5.97437681\n",
      "  0.97558722  2.38156389  6.51355764  0.40707921  2.658658    1.13185336\n",
      "  1.171009    8.62940198  0.8585287   3.18056392 10.5480013  13.54840804\n",
      " 10.2286126   2.04574477  1.31714686  3.09864882  7.66378549  4.9345871\n",
      "  2.72270557  4.54571175  6.95469703  1.58811753  0.58741075  2.45294955\n",
      "  2.17186411  3.17083798 22.04620379 13.1900603   1.26672951  1.20383708\n",
      "  2.64012439  0.47354038  1.48967833 12.87909503  7.49037624  8.82725825\n",
      "  0.31447449  7.87778718  1.76689437  5.32867647 10.15171839  1.40550319\n",
      "  0.70772846  1.98332842  1.46947828  2.6672452   5.11215964  1.08784524\n",
      "  1.89418372  1.8219641   4.34306763  1.24254556  3.86924903  2.97405418\n",
      "  2.33559818  1.62676039  7.39236868  7.04293976  8.00343603  0.44614145\n",
      "  0.49270375  1.527469    4.21529553  3.99124286  1.61915318  3.03713815\n",
      "  2.71749545  0.9934927  24.62340312  4.83494167  0.48850932  4.67933003\n",
      "  2.78957265  2.05866974  4.81660452  0.35472946  0.06256475  0.64392006\n",
      "  2.50316018  2.67985356  2.11172118  1.46046527  2.20846185  1.15054929\n",
      "  4.30027537  2.52211995  0.56420486  2.15430229  9.34563642  6.94331254\n",
      "  5.36490745  0.3291554   0.7936039   2.1269889   2.14529986  8.58158442\n",
      "  5.07558786  5.7129252  11.0876579   2.38991415  7.49943426  6.74039639\n",
      "  2.99012742  6.81204915  3.1600378  11.19271633  1.55192277  4.5151299\n",
      "  1.03306916 13.43346892  3.20251358  1.72932437  0.89254408  0.77955\n",
      "  1.1575611   1.96298494  3.12345886  8.73189802  6.01950733  0.37894199\n",
      "  0.64276408  3.89389762  1.13166306  7.05871137  1.24768345  2.97273167\n",
      "  7.58869097  3.06083306 17.11113229  1.33024994  6.15672406  3.56594911\n",
      "  9.64740224  9.64021572  1.43490243  3.12671245  0.32996064  0.93556769\n",
      "  3.21560361  1.87207009  9.20150788  1.84668299  4.54685895  3.20623106\n",
      " 10.43223836  2.5794725  11.76939806  0.24048728  2.5040322   5.76092412\n",
      " 17.10765727  2.49451522  5.02040579 13.9478941   2.73612431  1.29649427\n",
      "  1.17847489  1.20497942  6.78113683  0.53722475  2.07288636  2.79135378\n",
      "  6.43814127 30.31432258  0.85582585  5.75556521  0.31893365  2.22562542\n",
      "  2.95426098  1.28709085  0.76886547  9.65481962  1.918613    2.33042977\n",
      "  1.25259269  3.42845502  7.34237723  0.48432495  3.46865349  0.65989823\n",
      "  1.57441463  0.4732852   6.88256433  1.53724563  2.47545351  1.4738519\n",
      "  0.29367679  0.63233143  2.60559493  5.92389043  0.9712398   1.12007455\n",
      "  3.03837506  0.99120914 14.61469502  5.36867077  2.27119736  1.84519533\n",
      "  4.79312554  2.58524902 18.35527744  3.75499975  1.52290972  4.61614483\n",
      "  3.64930347  6.70948848 16.38448284  0.27153894  3.11058932  2.34232492\n",
      "  1.80048057  2.46831179  1.20543614  3.16070847  1.56824566  1.8278435\n",
      "  3.27283543  6.61094287  2.65646151  7.03307347  3.00741797  5.77446659\n",
      "  6.20049174  9.44416508  2.53768769  1.46226106  3.93069116  0.87911174\n",
      "  1.35898728  4.54841569  3.63839727  0.66718541  2.2308526   1.29137092\n",
      "  3.52893116  1.59808944 10.80859394  5.74555921  0.12840691  0.58277639\n",
      "  9.49666012  2.24307645  1.1706164   2.26460732  1.87081863 18.53309443\n",
      "  2.11558753  6.51110734  3.47292594  0.94512885  1.60933065  2.81565133\n",
      "  1.09553351  2.29849338  4.41019767  1.89498694  2.58743329  4.13104526\n",
      "  0.94710571  0.63707566  7.44414843  4.02742775  0.54968614  0.92418789\n",
      "  3.5971192   9.2092514   2.32650518  0.72093957  0.42897537  6.56557122\n",
      "  5.53487702  4.60347226  1.50660247  0.9030981   2.21435647  3.75043383\n",
      "  4.86880314  1.14990802  3.48408331 13.83920567  8.17210679  0.83991383\n",
      " 12.75633633  2.73035795 37.33828555  1.81269659  7.73044814  0.36218268\n",
      "  2.0154999   1.35176482  0.89751105  5.84518678  9.56654874  3.59307978\n",
      "  3.03336068  5.96405939  6.30954989  2.73450554  0.88912473  4.37414301\n",
      "  4.77413807 20.89391001  1.53000102  1.92361331  3.29775985  3.13615913\n",
      "  3.7409804   2.33258368  5.4338346   3.21609383  1.33158585  3.50235138\n",
      "  6.03222899  0.87354146  2.30657079 28.14923589  0.57295974  9.83276859\n",
      "  3.51231875  0.6335724   3.63780559  1.48096013  3.02396341 10.70379108\n",
      "  2.12274982 26.345622    3.00885128  2.12477982  4.03535023  1.32660013\n",
      "  2.16110876  2.17728734  1.03540202  7.28150153  1.52439446  1.59710348\n",
      "  3.17504144  1.66295593  6.82191644  2.09262833  1.88226845  3.62399521\n",
      "  3.5045263   1.38033533  0.90523121  8.82389982  3.0212808   2.54636552\n",
      "  2.59974558 34.76511622  2.31399486  4.34334245  5.49357806  4.64950989\n",
      "  2.09552885  3.40709301 10.70710594  2.55468199  1.04508124  1.80665884\n",
      "  5.11198294 11.05350894  4.08077168  8.14788955  1.13587158  0.92843606\n",
      "  4.88497775  3.66685465  8.93757212  2.78726958  7.7437192   6.65224806\n",
      "  2.43469206  1.49899499  0.45592395  1.70925703  0.65841175 16.94549658\n",
      "  1.85445685  7.23547573  2.20083957  0.84981055  4.05632461  4.14147503\n",
      "  3.98944115  1.38803504  1.0326302   1.69201301  2.64027665  0.97595032\n",
      "  2.38306923  1.29182881  2.44889173  1.23391551  3.50786859  0.75362801\n",
      "  1.01373148  3.58521268]\n",
      "[0. 3.]\n"
     ]
    }
   ],
   "source": [
    "#Load Training Data\n",
    "#First, we need to load the k-dimensional training data samples (here k=1).\n",
    "#Next, the data resolution is set, i.e. \n",
    "#the min/max data values and the number of qubits used to represent each data dimension.\n",
    "\n",
    "# Number training data samples\n",
    "N = 500 \n",
    "\n",
    "# Load data samples from log-normal distribution with mean=1 and standard deviation=1\n",
    "mu = 1\n",
    "sigma = 1\n",
    "real_data = np.random.lognormal(mean = mu, sigma=sigma, size=N)\n",
    "print (real_data)\n",
    "\n",
    "# Set the data resolution\n",
    "# Set upper and lower data values as list of k min/max data values [[min_0,max_0],...,[min_k-1,max_k-1]]\n",
    "bounds = np.array([0.,3.])\n",
    "print (bounds)\n",
    "# Set number of qubits per data dimension as list of k qubit values[#q_0,...,#q_k-1]\n",
    "num_qubits = [2]\n",
    "k = len(num_qubits)"
   ]
  },
  {
   "cell_type": "code",
   "execution_count": 4,
   "metadata": {},
   "outputs": [
    {
     "name": "stdout",
     "output_type": "stream",
     "text": [
      "<qiskit.aqua.algorithms.adaptive.qgan.qgan.QGAN object at 0x000002C829081430>\n"
     ]
    },
    {
     "data": {
      "image/png": "[encoded data removed]",
      "text/plain": [
       "<Figure size 238.392x144.48 with 1 Axes>"
      ]
     },
     "execution_count": 4,
     "metadata": {},
     "output_type": "execute_result"
    }
   ],
   "source": [
    "#Initialize the qGAN\n",
    "#The qGAN consists of a quantum generator, a variational quantum circuit, and a classical discriminator,\n",
    "#a neural network.\n",
    "#To implement the quantum generator, we choose a depth-1 variational form that implements \n",
    "#R_Y rotations and CZ gates which takes a uniform distribution as an input state. \n",
    "#Notably, for k > 1 the generator's parameters must be chosen carefully. \n",
    "#For example, the circuit depth should be > 1 \n",
    "#because higher circuit depths enable the representation of more complex structures.\n",
    "#The classical discriminator is given by a 3-layer neural network that applies linear transformations, \n",
    "#leaky ReLU functions in the hidden layers and a sigmoid function in the output layer. \n",
    "#Notably, the neural network is implemented with PyTorch. \n",
    "#Please refer to https://pytorch.org/get-started/locally/ for PyTorch installation instructions.\n",
    "#Here, both networks are updated with the ADAM optimization algorithm.\n",
    "\n",
    "# Set number of training epochs - # of times training process should run\n",
    "# Note: The algorithm's runtime can be shortened by reducing the number of training epochs.\n",
    "num_epochs = 200\n",
    "# Batch size\n",
    "batch_size = 100\n",
    "\n",
    " # Initialize qGAN\n",
    "qgan = QGAN(real_data, bounds, num_qubits, batch_size, num_epochs, snapshot_dir=None)\n",
    "qgan.seed = 1\n",
    "print(qgan)\n",
    "# Set quantum instance to run the quantum generator\n",
    "quantum_instance = QuantumInstance(backend=BasicAer.get_backend('statevector_simulator'))\n",
    "\n",
    "# Set entangler map\n",
    "entangler_map = [[0, 1]]  #Since we are using only two qubits\n",
    "\n",
    "# Set an initial state for the generator circuit\n",
    "init_state = UniformDistribution(sum(num_qubits), low=bounds[0], high=bounds[1])\n",
    "q = QuantumRegister(sum(num_qubits), name='q')\n",
    "qc = QuantumCircuit(q)\n",
    "#Create a Quantum Circuit to represent the initial state\n",
    "init_state.build(qc, q)\n",
    "qc.draw(output='mpl')"
   ]
  },
  {
   "cell_type": "code",
   "execution_count": 5,
   "metadata": {},
   "outputs": [],
   "source": [
    "#Create an Initial Distribution from the circuit\n",
    "init_distribution = Custom(num_qubits=sum(num_qubits), circuit=qc)\n",
    "#Setup the variational form\n",
    "var_form = RY(int(np.sum(num_qubits)), depth=1, initial_state = init_distribution, \n",
    "              entangler_map=entangler_map, entanglement_gate='cz')\n",
    "# Set generator's initial parameters\n",
    "init_params = aqua_globals.random.rand(var_form._num_parameters) * 2 * np.pi\n",
    "# Set generator circuit\n",
    "g_circuit = UnivariateVariationalDistribution(int(sum(num_qubits)), var_form, init_params,\n",
    "                                              low=bounds[0], high=bounds[1])"
   ]
  },
  {
   "cell_type": "code",
   "execution_count": 6,
   "metadata": {},
   "outputs": [
    {
     "name": "stdout",
     "output_type": "stream",
     "text": [
      "<qiskit.aqua.components.initial_states.custom.Custom object at 0x000002C8293A0FD0>\n",
      "<qiskit.aqua.components.variational_forms.ry.RY object at 0x000002C8293A0E50>\n",
      "[2.62022653e+00 4.52593227e+00 7.18638172e-04 1.89961158e+00]\n",
      "<qiskit.aqua.components.uncertainty_models.univariate_variational_distribution.UnivariateVariationalDistribution object at 0x000002C8293A0700>\n"
     ]
    }
   ],
   "source": [
    "print(init_distribution)\n",
    "print(var_form)\n",
    "print(init_params)\n",
    "print(g_circuit)"
   ]
  },
  {
   "cell_type": "code",
   "execution_count": 26,
   "metadata": {},
   "outputs": [
    {
     "name": "stdout",
     "output_type": "stream",
     "text": [
      "<qiskit.aqua.algorithms.adaptive.qgan.qgan.QGAN object at 0x000001C83CFB76A0>\n"
     ]
    }
   ],
   "source": [
    "# Set quantum generator\n",
    "qgan.set_generator(generator_circuit=g_circuit)\n",
    "# Set classical discriminator neural network\n",
    "discriminator = NumpyDiscriminator(len(num_qubits))\n",
    "qgan.set_discriminator(discriminator)\n",
    "print(qgan)"
   ]
  },
  {
   "cell_type": "code",
   "execution_count": 27,
   "metadata": {},
   "outputs": [
    {
     "name": "stdout",
     "output_type": "stream",
     "text": [
      "qGAN training runtime:  24.001154828071595  min\n"
     ]
    }
   ],
   "source": [
    "#Run the qGAN Training\n",
    "#During the training the discriminator's and the generator's parameters are updated alternately w.r.t the following loss functions: $$ L_G\\left(\\phi, \\theta\\right) = -\\frac{1}{m}\\sum\\limits_{l=1}^{m}\\left[\\log\\left(D_{\\phi}\\left(g^{l}\\right)\\right)\\right] $$ and $$ L_D\\left(\\phi, \\theta\\right) = \\frac{1}{m}\\sum\\limits_{l=1}^{m}\\left[\\log D_{\\phi}\\left(x^{l}\\right) + \\log\\left(1-D_{\\phi}\\left(g^{l}\\right)\\right)\\right], $$ with $m$ denoting the batch size and $g^l$ describing the data samples generated by the quantum generator.\n",
    "\n",
    "#Please note that the training will take a while ($\\sim 20$ min).\n",
    "\n",
    "# Run qGAN\n",
    "qgan.run(quantum_instance)\n",
    "# Runtime\n",
    "end = time.time()\n",
    "print('qGAN training runtime: ', (end - start)/60., ' min')"
   ]
  },
  {
   "cell_type": "code",
   "execution_count": 28,
   "metadata": {},
   "outputs": [
    {
     "data": {
      "image/png": "[encoded data removed]",
      "text/plain": [
       "<Figure size 432x360 with 1 Axes>"
      ]
     },
     "metadata": {
      "needs_background": "light"
     },
     "output_type": "display_data"
    }
   ],
   "source": [
    "#Training Progress & Outcome\n",
    "#Now, we plot the evolution of the generator's and the discriminator's loss functions \n",
    "#during the training as well as the progress in the relative entropy between the trained and the target distribution.\n",
    "#Finally, we also compare the cumulative distribution function (CDF) of the trained distribution \n",
    "#to the CDF of the target distribution.\n",
    "\n",
    "# Plot progress w.r.t the generator's and the discriminator's loss function\n",
    "t_steps = np.arange(num_epochs)\n",
    "plt.figure(figsize=(6,5))\n",
    "plt.title(\"Progress in the loss function\")\n",
    "plt.plot(t_steps, qgan.g_loss, label = \"Generator loss function\", color = 'mediumvioletred', linewidth = 2)\n",
    "plt.plot(t_steps, qgan.d_loss, label = \"Discriminator loss function\", color = 'rebeccapurple', linewidth = 2)\n",
    "plt.grid()\n",
    "plt.legend(loc = 'best')\n",
    "plt.xlabel('time steps')\n",
    "plt.ylabel('loss')\n",
    "plt.show()"
   ]
  },
  {
   "cell_type": "code",
   "execution_count": 29,
   "metadata": {},
   "outputs": [
    {
     "data": {
      "image/png": "[encoded data removed]",
      "text/plain": [
       "<Figure size 432x360 with 1 Axes>"
      ]
     },
     "metadata": {
      "needs_background": "light"
     },
     "output_type": "display_data"
    }
   ],
   "source": [
    "# Plot progress w.r.t relative entropy\n",
    "plt.figure(figsize=(6,5))\n",
    "plt.title(\"Relative Entropy \")\n",
    "plt.plot(np.linspace(0, num_epochs, len(qgan.rel_entr)), qgan.rel_entr, color ='mediumblue', lw=4, ls=':')\n",
    "plt.grid()\n",
    "plt.xlabel('time steps')\n",
    "plt.ylabel('relative entropy')\n",
    "plt.show()"
   ]
  },
  {
   "cell_type": "code",
   "execution_count": 30,
   "metadata": {},
   "outputs": [
    {
     "data": {
      "image/png": "[encoded data removed]",
      "text/plain": [
       "<Figure size 432x360 with 1 Axes>"
      ]
     },
     "metadata": {
      "needs_background": "light"
     },
     "output_type": "display_data"
    }
   ],
   "source": [
    "#Plot the PDF of the resulting distribution against the target distribution, i.e. log-normal\n",
    "log_normal = np.random.lognormal(mean=1, sigma=1, size=100000)\n",
    "log_normal = np.round(log_normal)\n",
    "log_normal = log_normal[log_normal <= bounds[1]]\n",
    "temp = []\n",
    "for i in range(int(bounds[1]+1)):\n",
    "    temp += [np.sum(log_normal==i)]\n",
    "log_normal = np.array(temp / sum(temp))\n",
    "\n",
    "plt.figure(figsize=(6,5))\n",
    "plt.title(\"CDF\")\n",
    "samples_g, prob_g = qgan.generator.get_output(qgan.quantum_instance, shots=10000)\n",
    "samples_g = np.array(samples_g)\n",
    "samples_g = samples_g.flatten()\n",
    "num_bins = len(prob_g)\n",
    "plt.bar(samples_g,  np.cumsum(prob_g), color='royalblue', width= 0.8, label='simulation')\n",
    "plt.plot( np.cumsum(log_normal),'-o', label='log-normal', color='deepskyblue', linewidth=4, markersize=12)\n",
    "plt.xticks(np.arange(min(samples_g), max(samples_g)+1, 1.0))\n",
    "plt.grid()\n",
    "plt.xlabel('x')\n",
    "plt.ylabel('p(x)')\n",
    "plt.legend(loc='best')\n",
    "plt.show()"
   ]
  },
  {
   "cell_type": "code",
   "execution_count": null,
   "metadata": {},
   "outputs": [],
   "source": []
  }
 ],
 "metadata": {
  "kernelspec": {
   "display_name": "Python 3",
   "language": "python",
   "name": "python3"
  },
  "language_info": {
   "codemirror_mode": {
    "name": "ipython",
    "version": 3
   },
   "file_extension": ".py",
   "mimetype": "text/x-python",
   "name": "python",
   "nbconvert_exporter": "python",
   "pygments_lexer": "ipython3",
   "version": "3.7.3"
  }
 },
 "nbformat": 4,
 "nbformat_minor": 4
}
