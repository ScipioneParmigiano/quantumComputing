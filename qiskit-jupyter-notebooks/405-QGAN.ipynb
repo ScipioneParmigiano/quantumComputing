{
 "cells": [
  {
   "cell_type": "code",
   "execution_count": 1,
   "metadata": {},
   "outputs": [],
   "source": [
    "#Qiskit Machine Learning\n",
    "#qGANs for Loading Random Distributions\n",
    "\n",
    "#Given k-dimensional data samples, we employ a quantum Generative Adversarial Network (qGAN) to learn the data’s underlying random distribution \n",
    "#and to load it directly into a quantum state:\n",
    "#The aim of the qGAN training is to generate a state ∣∣gθ⟩, where pjθ, for j∈{0,…,2n−1}, \n",
    "#describe a probability distribution that is close to the distribution underlying the training data X={x0,…,xk−1}\n",
    "\n",
    "import numpy as np\n",
    "seed = 71\n",
    "np.random.seed = seed\n",
    "\n",
    "import matplotlib.pyplot as plt\n",
    "%matplotlib inline\n",
    "\n",
    "from qiskit import QuantumRegister, QuantumCircuit, BasicAer\n",
    "from qiskit.circuit.library import TwoLocal, UniformDistribution\n",
    "\n",
    "from qiskit.aqua import QuantumInstance, aqua_globals\n",
    "from qiskit.aqua.algorithms import QGAN\n",
    "from qiskit.aqua.components.neural_networks import NumPyDiscriminator\n",
    "\n",
    "aqua_globals.random_seed = seed\n",
    "\n",
    "\n",
    "import time\n",
    "from qiskit.aqua.components.optimizers import ADAM\n",
    "#from qiskit.aqua.components.uncertainty_models import UniformDistribution, UnivariateVariationalDistribution \n",
    "#from qiskit.aqua.components.variational_forms import RY\n",
    "#from qiskit.aqua.components.neural_networks.quantum_generator import QuantumGenerator\n",
    "\n",
    "from qiskit.aqua.components.initial_states import Custom"
   ]
  },
  {
   "cell_type": "code",
   "execution_count": 2,
   "metadata": {},
   "outputs": [
    {
     "name": "stdout",
     "output_type": "stream",
     "text": [
      "[ 2.35422232  0.21653628  0.60424955 10.38047376  1.82764955  1.43241753\n",
      "  1.45163532 12.23343003  1.95217167  0.96840924  6.14374851  7.71518899\n",
      "  2.0434392   0.78853169  0.65096102  0.60627661  0.46803373  6.19782199\n",
      " 27.85711211  3.72899489  1.10154813  2.81273187  2.00765584 23.93451006\n",
      "  2.29352372  7.2053371   2.91017793  1.73976284  2.44251281  1.84107359\n",
      " 11.21059979  1.6144173  22.84807262  7.64150148 22.39779282  2.12370881\n",
      "  2.77255431  1.82432354  2.08048542  1.18870216  2.04321102  3.173398\n",
      "  1.35358741  2.39641119  0.62889716 40.14710383  2.39783057 10.44990809\n",
      "  0.27928209  2.46315479  1.43891295  1.2894563   1.2279657   6.29512202\n",
      "  0.84095782  2.19319081  6.46467899  5.28455743  3.93204134  1.51193584\n",
      "  2.06887472  4.87858103  4.46186281  3.47581868  4.04831032  7.05521246\n",
      "  2.16883974  7.59505843  2.11143301  2.90368456  2.96010742  0.87089967\n",
      "  2.17994611  1.34789698 13.71434028  2.06250836  4.70831022  1.21633275\n",
      "  1.12038862  0.97749495  3.42121445  8.3428742   0.52626763  5.01095395\n",
      "  2.3590558   2.02991276  4.55526261  0.69304965  0.21055236  2.61584967\n",
      "  3.84475604  5.42461375  4.61426064  1.35916132  1.41799419  4.57644524\n",
      "  0.9919615   1.05326219  1.40544907  4.29468591  1.46153899 31.15234058\n",
      "  5.84024412  0.33134415  0.19495173  0.77134082  1.03582224  1.69524289\n",
      "  0.665876    3.49114508  3.65288199  3.96633356  0.74013261  3.46562977\n",
      "  1.67054233  1.78936137  4.06256229  2.98797164  0.64305554  2.0108439\n",
      "  4.19097426  1.28191219  0.56241128  1.24444004  9.21470807  0.63596518\n",
      "  0.64914961  3.81915042  2.5405992   2.1225323   1.60435868  3.05912214\n",
      "  1.42615574  8.2070265   1.07214018  4.33316535  1.20241072  7.17877402\n",
      "  1.66156975  3.10574009  7.80619122  3.38714416  1.66614393  2.9258043\n",
      "  0.59467311  3.13348835  1.45089181  2.38850673  0.4116726   5.76759395\n",
      "  2.04907491  9.06888822  4.38825541  5.32805666  2.37368396 15.6348011\n",
      "  5.42258266  1.60319381  1.17526984  0.96743235  3.00273865  2.06028659\n",
      "  5.43834868  0.25658633  2.09388809  2.51551268  1.05864542  0.71671764\n",
      "  1.1857482   0.95684548  1.03660579  1.41104527 35.31421022  2.22251409\n",
      " 10.32953565  6.45237133  2.18438491  2.61279223  3.68281141  4.6978812\n",
      "  2.61161563  1.51366389  2.52604343  8.65498791  9.55930624  1.56839225\n",
      "  0.54499365  1.60913856  1.90673429 37.96492701  4.98477532  3.90120409\n",
      "  3.58617759  5.37416782  0.65187394 13.9406636   0.84542098 13.51502012\n",
      "  1.34092736  0.70811413  0.55279294  0.43089962  0.79246227  4.40380494\n",
      "  5.34884237  2.74049701  1.66742328  3.87113506  0.93780818 22.63980007\n",
      "  0.80972416 13.56938649  2.87013135  4.34237058  0.95532297  0.27023274\n",
      "  5.58589186  3.05640136  3.62514856  8.7166989   1.31152869  2.60973219\n",
      "  1.17737503 10.00355924 10.78358059  0.27883392  0.92582601  1.46883887\n",
      "  2.19620329  1.70433541  3.9475375   1.40700318  5.56682961  1.7439341\n",
      "  5.87537127  3.70531286 10.00561678  1.50427553  0.6540555   1.79305397\n",
      "  1.33421819  3.05807896  0.35999457  1.16137555  1.32004292  3.12087259\n",
      "  0.93297097  0.35247852  4.82469047  6.71812263  0.26734845  4.92064367\n",
      "  4.00846558  2.87525787  1.76264142  0.49338828  6.57107676  3.67910982\n",
      "  1.95725874  0.9974757   1.58472618  1.11208649  6.50777914  4.22279787\n",
      "  2.17841798  1.93642836  5.0765391  10.17963184  5.41945164  4.6597293\n",
      "  0.15894698  2.45174167  1.12559124  0.72934892  9.52577658  3.57905134\n",
      "  1.56159661  1.58952317  8.98419451  1.49768132  2.59419084  4.86915906\n",
      "  4.04211947  8.09469    13.76299989  0.70495076  3.75374454  3.43407913\n",
      " 10.6513324   3.18938978  7.16035645  1.66604101  2.32552228  0.44954156\n",
      "  3.18729055  1.94716506  3.43659022  5.36168665  2.06940119  1.18790995\n",
      "  0.85463873  2.82556779  8.85423064  1.98664159  2.99081462  1.42556316\n",
      "  3.43841747  1.92813993  0.86438613  3.15751145  1.22867379  0.6129748\n",
      "  3.91954427  0.82387161  4.11957549  2.28691703  8.82837373  4.4098966\n",
      "  1.47186938  2.44135872  8.53683239  1.30867217  6.87627124  3.86175736\n",
      "  4.19847035  2.24440045  0.97373639 29.57900479  3.05894909  9.56275023\n",
      "  0.51544122  3.91949296  1.49940816 16.41787791  0.71074412  4.91714281\n",
      "  3.81579772  1.30739121  3.17322653  2.29968902  4.35878461 10.48394393\n",
      " 42.00880719  2.93385047  0.92738136  4.2956589   0.2929493   0.96507611\n",
      "  2.66555404  5.55784864  0.448452    0.16834476  2.39056703  1.22723036\n",
      "  2.71850507 21.95035098  0.74658922  1.51160662 12.77380721  4.04742715\n",
      "  3.24139909  3.87843898  1.52210397  2.24809819  8.3864614   4.85577573\n",
      "  1.5224034   0.8494688   2.28731318  0.92319301  3.07045713  2.8878356\n",
      " 13.68959998 21.81430157  1.79299192  2.28728627  3.12533337  1.57460736\n",
      "  2.46272558  3.66486525  2.66609335  0.57014941  2.33917007  2.12306176\n",
      "  2.1891698   2.00586998  1.9421419   4.96632927  2.48588411  2.33043235\n",
      " 10.68094593  5.99898355 28.19368675  0.40433628  2.82528663  0.3450518\n",
      "  1.51377634  3.7550713   0.86460626  3.32390956  3.4224005   5.15081322\n",
      "  0.51231514  7.79161944 11.25630884 13.61254689 22.70294456  1.6788199\n",
      "  6.37298618  2.53258336 18.18594007  2.61729758  6.79554255  2.54037429\n",
      "  2.49155486  1.61413511  8.49395244  4.18585847  1.66484558 11.15992716\n",
      "  1.94238329  1.96439767  4.67217699  1.29259328  4.65003888  1.66960537\n",
      "  1.24928144  1.10976716  3.25929513  3.23406476  0.95112782  1.37317783\n",
      "  6.9358936  17.7394873   2.73696007  3.20216171  4.13463537  9.09957941\n",
      "  2.15537337  1.44723656  1.10675535  6.4038961   1.02231235  4.29370361\n",
      " 11.80573772  0.71693072  1.95477423  0.75520506  2.07134054  1.39654533\n",
      "  1.0417042   9.0315559  12.60545915  4.7784995   0.4777138   3.0836853\n",
      "  6.73250712  1.98273807  7.45946963  1.47410764  1.13902308  1.61009472\n",
      "  1.96829351  4.74772877  9.32817946  2.07120692  2.91367837  1.7277792\n",
      "  8.00336802  1.92507478  1.2242847   0.29807333 23.94105793  1.0757356\n",
      " 16.44671477  3.05625624  1.18767982 15.32239276  0.57912357  0.26534782\n",
      "  0.69395246  3.13956763  2.11864825  6.16135885  1.79880763  3.00107405\n",
      " 58.51393018 18.86731728  2.64623913  8.1714503  15.86027955  2.31320422\n",
      "  8.23514802  1.98923178  3.35655777  1.48584169  3.17449613  2.11461508\n",
      "  0.80105983  2.89298921]\n",
      "[0. 3.]\n"
     ]
    }
   ],
   "source": [
    "#Load Training Data\n",
    "#First, we need to load the k-dimensional training data samples (here k=1).\n",
    "#Next, the data resolution is set, i.e. \n",
    "#the min/max data values and the number of qubits used to represent each data dimension.\n",
    "\n",
    "# Number training data samples\n",
    "N = 500 \n",
    "\n",
    "# Load data samples from log-normal distribution with mean=1 and standard deviation=1\n",
    "mu = 1\n",
    "sigma = 1\n",
    "real_data = np.random.lognormal(mean = mu, sigma=sigma, size=N)\n",
    "print (real_data)\n",
    "\n",
    "# Set the data resolution\n",
    "# Set upper and lower data values as list of k min/max data values [[min_0,max_0],...,[min_k-1,max_k-1]]\n",
    "bounds = np.array([0.,3.])\n",
    "print (bounds)\n",
    "# Set number of qubits per data dimension as list of k qubit values[#q_0,...,#q_k-1]\n",
    "num_qubits = [2]\n",
    "k = len(num_qubits)"
   ]
  },
  {
   "cell_type": "code",
   "execution_count": 8,
   "metadata": {},
   "outputs": [
    {
     "name": "stdout",
     "output_type": "stream",
     "text": [
      "<qiskit.aqua.algorithms.distribution_learners.qgan.QGAN object at 0x000002067F8D3A60>\n"
     ]
    },
    {
     "data": {
      "text/html": [
       "<pre style=\"word-wrap: normal;white-space: pre;background: #fff0;line-height: 1.1;font-family: &quot;Courier New&quot;,Courier,monospace\">     ┌───┐┌──────────┐   ┌──────────┐\n",
       "q_0: ┤ H ├┤ RY(θ[0]) ├─■─┤ RY(θ[2]) ├\n",
       "     ├───┤├──────────┤ │ ├──────────┤\n",
       "q_1: ┤ H ├┤ RY(θ[1]) ├─■─┤ RY(θ[3]) ├\n",
       "     └───┘└──────────┘   └──────────┘</pre>"
      ],
      "text/plain": [
       "     ┌───┐┌──────────┐   ┌──────────┐\n",
       "q_0: ┤ H ├┤ RY(θ[0]) ├─■─┤ RY(θ[2]) ├\n",
       "     ├───┤├──────────┤ │ ├──────────┤\n",
       "q_1: ┤ H ├┤ RY(θ[1]) ├─■─┤ RY(θ[3]) ├\n",
       "     └───┘└──────────┘   └──────────┘"
      ]
     },
     "execution_count": 8,
     "metadata": {},
     "output_type": "execute_result"
    }
   ],
   "source": [
    "#Initialize the qGAN\n",
    "#The qGAN consists of a quantum generator, a variational quantum circuit, and a classical discriminator,\n",
    "#a neural network.\n",
    "#To implement the quantum generator, we choose a depth-1 variational form that implements \n",
    "#R_Y rotations and CZ gates which takes a uniform distribution as an input state. \n",
    "#Notably, for k > 1 the generator's parameters must be chosen carefully. \n",
    "#For example, the circuit depth should be > 1 \n",
    "#because higher circuit depths enable the representation of more complex structures.\n",
    "#The classical discriminator is given by a 3-layer neural network that applies linear transformations, \n",
    "#leaky ReLU functions in the hidden layers and a sigmoid function in the output layer. \n",
    "#Notably, the neural network is implemented with PyTorch. \n",
    "#Please refer to https://pytorch.org/get-started/locally/ for PyTorch installation instructions.\n",
    "#Here, both networks are updated with the ADAM optimization algorithm.\n",
    "\n",
    "# Set number of training epochs - # of times training process should run\n",
    "# Note: The algorithm's runtime can be shortened by reducing the number of training epochs.\n",
    "num_epochs = 100\n",
    "# Batch size\n",
    "batch_size = 100\n",
    "\n",
    "# Initialize qGAN\n",
    "qgan = QGAN(real_data, bounds, num_qubits, batch_size, num_epochs, snapshot_dir=None)\n",
    "qgan.seed = 1\n",
    "print(qgan)\n",
    "# Set quantum instance to run the quantum generator\n",
    "quantum_instance = QuantumInstance(backend=BasicAer.get_backend('statevector_simulator'),\n",
    "                                   seed_transpiler=seed, seed_simulator=seed)\n",
    "\n",
    "# Set entangler map\n",
    "entangler_map = [[0, 1]]\n",
    "\n",
    "# Set an initial state for the generator circuit\n",
    "init_state = UniformDistribution(sum(num_qubits))\n",
    "# Set the ansatz circuit\n",
    "var_form = TwoLocal(int(np.sum(num_qubits)), 'ry', 'cz', entanglement=entangler_map, reps=1)\n",
    "# Set generator circuit by adding the initial distribution infront of the ansatz\n",
    "qc = var_form.compose(init_state, front=True)\n",
    "#g_circuit = init_state.compose(var_form)\n",
    "\n",
    "#q = QuantumRegister(sum(num_qubits), name='q')\n",
    "#qc = QuantumCircuit(q)\n",
    "#Create a Quantum Circuit to represent the initial state\n",
    "#init_state.build(qc, q)\n",
    "#qc.draw(output='mpl')\n",
    "qc.draw()"
   ]
  },
  {
   "cell_type": "code",
   "execution_count": 5,
   "metadata": {},
   "outputs": [],
   "source": [
    "#Create an Initial Distribution from the circuit\n",
    "init_distribution = Custom(num_qubits=sum(num_qubits), circuit=qc)\n",
    "#Setup the variational form\n",
    "var_form = RY(int(np.sum(num_qubits)), depth=1, initial_state = init_distribution, \n",
    "              entangler_map=entangler_map, entanglement_gate='cz')\n",
    "# Set generator's initial parameters\n",
    "init_params = aqua_globals.random.rand(var_form._num_parameters) * 2 * np.pi\n",
    "# Set generator circuit\n",
    "g_circuit = UnivariateVariationalDistribution(int(sum(num_qubits)), var_form, init_params,\n",
    "                                              low=bounds[0], high=bounds[1])"
   ]
  },
  {
   "cell_type": "code",
   "execution_count": 6,
   "metadata": {},
   "outputs": [
    {
     "name": "stdout",
     "output_type": "stream",
     "text": [
      "<qiskit.aqua.components.initial_states.custom.Custom object at 0x000002C8293A0FD0>\n",
      "<qiskit.aqua.components.variational_forms.ry.RY object at 0x000002C8293A0E50>\n",
      "[2.62022653e+00 4.52593227e+00 7.18638172e-04 1.89961158e+00]\n",
      "<qiskit.aqua.components.uncertainty_models.univariate_variational_distribution.UnivariateVariationalDistribution object at 0x000002C8293A0700>\n"
     ]
    }
   ],
   "source": [
    "print(init_distribution)\n",
    "print(var_form)\n",
    "print(init_params)\n",
    "print(g_circuit)"
   ]
  },
  {
   "cell_type": "code",
   "execution_count": 9,
   "metadata": {},
   "outputs": [
    {
     "name": "stdout",
     "output_type": "stream",
     "text": [
      "<qiskit.aqua.algorithms.distribution_learners.qgan.QGAN object at 0x000002067F8D3A60>\n"
     ]
    }
   ],
   "source": [
    "# Set generator's initial parameters - in order to reduce the training time and hence the\n",
    "# total running time for this notebook\n",
    "init_params = [3., 1., 0.6, 1.6]\n",
    "# You can increase the number of training epochs and use random initial parameters.\n",
    "# init_params = np.random.rand(var_form.num_parameters_settable) * 2 * np.pi\n",
    "\n",
    "# Set quantum generator\n",
    "qgan.set_generator(generator_circuit=qc, generator_init_params=init_params)\n",
    "# The parameters have an order issue that following is a temp. workaround\n",
    "qgan._generator._free_parameters = sorted(qc.parameters, key=lambda p: p.name)\n",
    "# Set classical discriminator neural network\n",
    "discriminator = NumPyDiscriminator(len(num_qubits))\n",
    "qgan.set_discriminator(discriminator)\n",
    "\n",
    "print(qgan)"
   ]
  },
  {
   "cell_type": "code",
   "execution_count": 10,
   "metadata": {},
   "outputs": [
    {
     "name": "stdout",
     "output_type": "stream",
     "text": [
      "qGAN training runtime:  0.6146713018417358  min\n"
     ]
    }
   ],
   "source": [
    "#Run the qGAN Training\n",
    "#During the training the discriminator's and the generator's parameters are updated alternately w.r.t the following loss functions: $$ L_G\\left(\\phi, \\theta\\right) = -\\frac{1}{m}\\sum\\limits_{l=1}^{m}\\left[\\log\\left(D_{\\phi}\\left(g^{l}\\right)\\right)\\right] $$ and $$ L_D\\left(\\phi, \\theta\\right) = \\frac{1}{m}\\sum\\limits_{l=1}^{m}\\left[\\log D_{\\phi}\\left(x^{l}\\right) + \\log\\left(1-D_{\\phi}\\left(g^{l}\\right)\\right)\\right], $$ with $m$ denoting the batch size and $g^l$ describing the data samples generated by the quantum generator.\n",
    "\n",
    "#Please note that the training will take a while ($\\sim 20$ min).\n",
    "start = time.time()\n",
    "# Run qGAN\n",
    "result = qgan.run(quantum_instance)\n",
    "# Runtime\n",
    "end = time.time()\n",
    "print('qGAN training runtime: ', (end - start)/60., ' min')"
   ]
  },
  {
   "cell_type": "code",
   "execution_count": 11,
   "metadata": {},
   "outputs": [
    {
     "name": "stdout",
     "output_type": "stream",
     "text": [
      "Training results:\n",
      "  params_d : [ 0.0383692   0.60869158 -0.48070985 ... -0.16384187 -0.20269165\n",
      " -0.07459372]\n",
      "  params_g : [2.89053696 0.89027848 0.49014032 1.71097298]\n",
      "  loss_d : 0.6929\n",
      "  loss_g : [0.6984]\n",
      "  rel_entr : 0.1515\n"
     ]
    }
   ],
   "source": [
    "print('Training results:')\n",
    "for key, value in result.items():\n",
    "    print(f'  {key} : {value}')"
   ]
  },
  {
   "cell_type": "code",
   "execution_count": 12,
   "metadata": {},
   "outputs": [
    {
     "data": {
      "image/png": "[encoded data removed]",
      "text/plain": [
       "<Figure size 432x360 with 1 Axes>"
      ]
     },
     "metadata": {
      "needs_background": "light"
     },
     "output_type": "display_data"
    }
   ],
   "source": [
    "#Training Progress & Outcome\n",
    "#Now, we plot the evolution of the generator's and the discriminator's loss functions \n",
    "#during the training as well as the progress in the relative entropy between the trained and the target distribution.\n",
    "#Finally, we also compare the cumulative distribution function (CDF) of the trained distribution \n",
    "#to the CDF of the target distribution.\n",
    "\n",
    "# Plot progress w.r.t the generator's and the discriminator's loss function\n",
    "t_steps = np.arange(num_epochs)\n",
    "plt.figure(figsize=(6,5))\n",
    "plt.title(\"Progress in the loss function\")\n",
    "plt.plot(t_steps, qgan.g_loss, label = \"Generator loss function\", color = 'mediumvioletred', linewidth = 2)\n",
    "plt.plot(t_steps, qgan.d_loss, label = \"Discriminator loss function\", color = 'rebeccapurple', linewidth = 2)\n",
    "plt.grid()\n",
    "plt.legend(loc = 'best')\n",
    "plt.xlabel('time steps')\n",
    "plt.ylabel('loss')\n",
    "plt.show()"
   ]
  },
  {
   "cell_type": "code",
   "execution_count": 13,
   "metadata": {},
   "outputs": [
    {
     "data": {
      "image/png": "[encoded data removed]",
      "text/plain": [
       "<Figure size 432x360 with 1 Axes>"
      ]
     },
     "metadata": {
      "needs_background": "light"
     },
     "output_type": "display_data"
    }
   ],
   "source": [
    "# Plot progress w.r.t relative entropy\n",
    "plt.figure(figsize=(6,5))\n",
    "plt.title(\"Relative Entropy \")\n",
    "plt.plot(np.linspace(0, num_epochs, len(qgan.rel_entr)), qgan.rel_entr, color ='mediumblue', lw=4, ls=':')\n",
    "plt.grid()\n",
    "plt.xlabel('time steps')\n",
    "plt.ylabel('relative entropy')\n",
    "plt.show()"
   ]
  },
  {
   "cell_type": "code",
   "execution_count": 14,
   "metadata": {},
   "outputs": [
    {
     "data": {
      "image/png": "[encoded data removed]",
      "text/plain": [
       "<Figure size 432x360 with 1 Axes>"
      ]
     },
     "metadata": {
      "needs_background": "light"
     },
     "output_type": "display_data"
    }
   ],
   "source": [
    "#Plot the PDF of the resulting distribution against the target distribution, i.e. log-normal\n",
    "log_normal = np.random.lognormal(mean=1, sigma=1, size=100000)\n",
    "log_normal = np.round(log_normal)\n",
    "log_normal = log_normal[log_normal <= bounds[1]]\n",
    "temp = []\n",
    "for i in range(int(bounds[1]+1)):\n",
    "    temp += [np.sum(log_normal==i)]\n",
    "log_normal = np.array(temp / sum(temp))\n",
    "\n",
    "plt.figure(figsize=(6,5))\n",
    "plt.title('CDF (Cumulative Distribution Function)')\n",
    "samples_g, prob_g = qgan.generator.get_output(qgan.quantum_instance, shots=10000)\n",
    "samples_g = np.array(samples_g)\n",
    "samples_g = samples_g.flatten()\n",
    "num_bins = len(prob_g)\n",
    "plt.bar(samples_g,  np.cumsum(prob_g), color='royalblue', width= 0.8, label='simulation')\n",
    "plt.plot( np.cumsum(log_normal),'-o', label='log-normal', color='deepskyblue', linewidth=4, markersize=12)\n",
    "plt.xticks(np.arange(min(samples_g), max(samples_g)+1, 1.0))\n",
    "plt.grid()\n",
    "plt.xlabel('x')\n",
    "plt.ylabel('p(x)')\n",
    "plt.legend(loc='best')\n",
    "plt.show()"
   ]
  },
  {
   "cell_type": "code",
   "execution_count": null,
   "metadata": {},
   "outputs": [],
   "source": []
  }
 ],
 "metadata": {
  "kernelspec": {
   "display_name": "Python 3",
   "language": "python",
   "name": "python3"
  },
  "language_info": {
   "codemirror_mode": {
    "name": "ipython",
    "version": 3
   },
   "file_extension": ".py",
   "mimetype": "text/x-python",
   "name": "python",
   "nbconvert_exporter": "python",
   "pygments_lexer": "ipython3",
   "version": "3.7.9"
  }
 },
 "nbformat": 4,
 "nbformat_minor": 4
}
