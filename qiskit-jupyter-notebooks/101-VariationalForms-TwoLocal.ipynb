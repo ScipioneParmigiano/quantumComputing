{
 "cells": [
  {
   "cell_type": "code",
   "execution_count": 2,
   "metadata": {},
   "outputs": [
    {
     "name": "stdout",
     "output_type": "stream",
     "text": [
      "     ┌──────────┐   ┌──────────┐   ┌──────────┐   ┌──────────┐\n",
      "q_0: ┤ RY(θ[0]) ├─■─┤ RY(θ[2]) ├─■─┤ RY(θ[4]) ├─■─┤ RY(θ[6]) ├\n",
      "     ├──────────┤ │ ├──────────┤ │ ├──────────┤ │ ├──────────┤\n",
      "q_1: ┤ RY(θ[1]) ├─■─┤ RY(θ[3]) ├─■─┤ RY(θ[5]) ├─■─┤ RY(θ[7]) ├\n",
      "     └──────────┘   └──────────┘   └──────────┘   └──────────┘\n"
     ]
    }
   ],
   "source": [
    "from qiskit.circuit.library import TwoLocal\n",
    "\n",
    "num_qubits = 2\n",
    "\n",
    "\n",
    "\n",
    "ansatz = TwoLocal(num_qubits, 'ry', 'cz')\n",
    "print(ansatz)"
   ]
  },
  {
   "cell_type": "markdown",
   "metadata": {},
   "source": [
    "Ansatz\n",
    "\n",
    "A term of German origin meaning “initial placement of a tool at a work piece” (Wikipedia), and is used in mathematics to refer to the initial, additional mathematical assumptions made to kick start the problem solving process — but which are later confirmed to be parts of the actual solution as well. Some examples of ansatz in mathematics include:\n",
    "\n",
    "    The adoption of linear regression model to fit the data points (i.e., linear ansatz)\n",
    "    The assumption that the solutions to a differential/recurrent equation take an exponential form (exponential ansatz)\n",
    "    The assumption that the solution to a system of linear equations is expressible in terms of a particular vector (ansatz of particular solution).\n",
    "\n",
    "Metaphorically speaking, the use of ansatz can be liken to drawing a picture by first establishing a framework, in that if it succeeds, then the framework can be reused as an ansatz later on, but if it doesn’t, then it’s usually discarded and marked as an instance of failure."
   ]
  },
  {
   "cell_type": "code",
   "execution_count": 7,
   "metadata": {},
   "outputs": [
    {
     "name": "stdout",
     "output_type": "stream",
     "text": [
      "0.6560692464896263\n"
     ]
    }
   ],
   "source": [
    "num_qubits = 2\n",
    "temp = np.random.random((2 ** num_qubits, 2 ** num_qubits))\n",
    "qubit_op = op_converter.to_weighted_pauli_operator(MatrixOperator(matrix=temp + temp.T))\n",
    "\n",
    "initial_state = Zero(qubit_op.num_qubits)\n",
    "\n",
    "algo = EvolutionFidelity(qubit_op, initial_state, expansion_order=1)\n",
    "\n",
    "backend = BasicAer.get_backend('statevector_simulator')\n",
    "quantum_instance = QuantumInstance(backend=backend)\n",
    "\n",
    "result = algo.run(quantum_instance)\n",
    "print(result['score'])"
   ]
  },
  {
   "cell_type": "code",
   "execution_count": null,
   "metadata": {},
   "outputs": [],
   "source": []
  }
 ],
 "metadata": {
  "kernelspec": {
   "display_name": "Python 3",
   "language": "python",
   "name": "python3"
  },
  "language_info": {
   "codemirror_mode": {
    "name": "ipython",
    "version": 3
   },
   "file_extension": ".py",
   "mimetype": "text/x-python",
   "name": "python",
   "nbconvert_exporter": "python",
   "pygments_lexer": "ipython3",
   "version": "3.8.5"
  }
 },
 "nbformat": 4,
 "nbformat_minor": 4
}
