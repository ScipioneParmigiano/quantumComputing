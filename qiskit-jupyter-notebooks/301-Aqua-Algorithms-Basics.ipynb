{
  "cells": [
    {
      "cell_type": "code",
      "execution_count": 5,
      "metadata": {
        "trusted": true
      },
      "outputs": [
        {
          "name": "stderr",
          "output_type": "stream",
          "text": "Credentials are already in use. The existing account in the session will be replaced.\n"
        }
      ],
      "source": "#Qiskit Aqua: Build an algorithm\n#Simple example of an algorithm\n#Evolution Fidelity\n#How to implement an algorithm and \n#Steps to configure and run the algorithm\n\nimport numpy as np\n# Importing standard Qiskit libraries and configuring account\nfrom qiskit import BasicAer, IBMQ\nfrom qiskit.aqua.operators import MatrixOperator, op_converter\n#from evolutionfidelity.evolutionfidelity import EvolutionFidelity\nfrom qiskit.aqua.components.initial_states import Zero\nfrom qiskit.aqua import QuantumInstance\n# Loading your IBM Q account(s)\nprovider = IBMQ.load_account()"
    },
    {
      "cell_type": "code",
      "execution_count": 6,
      "metadata": {
        "trusted": true
      },
      "outputs": [],
      "source": "\"\"\"\nThe Fidelity of Quantum Evolution.\nThis is a simple tutorial example to show how to build an algorithm to extend\nQiskit Aqua library.\n\"\"\"\nimport logging\nimport numpy as np\nfrom qiskit import QuantumRegister\nfrom qiskit.quantum_info import state_fidelity\nfrom qiskit.aqua.algorithms import QuantumAlgorithm\nfrom qiskit.aqua.operators import op_converter\n\nlogger = logging.getLogger(__name__)\n\nclass EvolutionFidelity(QuantumAlgorithm):\n\n    CONFIGURATION = {\n    }\n\n    def __init__(self, operator, initial_state, expansion_order=1):\n        self.validate(locals())\n        super().__init__()\n        self._operator = operator\n        self._initial_state = initial_state\n        self._expansion_order = expansion_order\n        self._ret = {}\n\n    \"\"\"\n    Once the algorithm has been initialized then run is called to carry out the computation\n    and the result is returned as a dictionary.\n    E.g., the `_run` method is required to be implemented for an algorithm.\n    \"\"\"\n\n    def _run(self):\n        evo_time = 1\n        # get the groundtruth via simple matrix * vector\n        state_out_exact = op_converter.to_matrix_operator(self._operator).evolve(\n            self._initial_state.construct_circuit('vector'), evo_time, num_time_slices=1)\n\n        qr = QuantumRegister(self._operator.num_qubits, name='q')\n        circuit = self._initial_state.construct_circuit('circuit', qr)\n        circuit += self._operator.evolve(\n            None, evo_time, 1,\n            quantum_registers=qr,\n            expansion_mode='suzuki',\n            expansion_order=self._expansion_order\n        )\n        result = self._quantum_instance.execute(circuit)\n        state_out_dynamics = np.asarray(result.get_statevector(circuit))\n\n        self._ret['score'] = state_fidelity(state_out_exact, state_out_dynamics)\n\n        return self._ret"
    },
    {
      "cell_type": "code",
      "execution_count": 7,
      "metadata": {
        "trusted": true
      },
      "outputs": [
        {
          "name": "stdout",
          "output_type": "stream",
          "text": "0.6560692464896263\n"
        }
      ],
      "source": "num_qubits = 2\ntemp = np.random.random((2 ** num_qubits, 2 ** num_qubits))\nqubit_op = op_converter.to_weighted_pauli_operator(MatrixOperator(matrix=temp + temp.T))\n\ninitial_state = Zero(qubit_op.num_qubits)\n\nalgo = EvolutionFidelity(qubit_op, initial_state, expansion_order=1)\n\nbackend = BasicAer.get_backend('statevector_simulator')\nquantum_instance = QuantumInstance(backend=backend)\n\nresult = algo.run(quantum_instance)\nprint(result['score'])"
    },
    {
      "cell_type": "code",
      "execution_count": null,
      "metadata": {
        "trusted": true
      },
      "outputs": [],
      "source": ""
    }
  ],
  "metadata": {
    "kernelspec": {
      "display_name": "Python 3",
      "language": "python",
      "name": "python3"
    },
    "language_info": {
      "codemirror_mode": {
        "name": "ipython",
        "version": 3
      },
      "file_extension": ".py",
      "mimetype": "text/x-python",
      "name": "python",
      "nbconvert_exporter": "python",
      "pygments_lexer": "ipython3",
      "version": "3.7.6"
    }
  },
  "nbformat": 4,
  "nbformat_minor": 4
}